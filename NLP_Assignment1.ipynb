{
 "cells": [
  {
   "cell_type": "markdown",
   "metadata": {
    "id": "fNU5PFlkJYvm"
   },
   "source": [
    "#Import libraries"
   ]
  },
  {
   "cell_type": "code",
   "execution_count": 1,
   "metadata": {
    "id": "8lFlB2dKJYFv"
   },
   "outputs": [],
   "source": [
    "import os\n",
    "import urllib.request\n",
    "from zipfile import ZipFile\n",
    "import shutil \n",
    "from tqdm.notebook import tqdm\n",
    "import gensim.downloader as gloader\n",
    "import pandas as pd\n",
    "import numpy as np\n",
    "from itertools import chain\n",
    "from natsort import natsorted\n",
    "from tensorflow.keras.optimizers.schedules import ExponentialDecay\n",
    "from tensorflow.keras.callbacks import EarlyStopping\n",
    "from tensorflow.keras.initializers import Constant\n",
    "from tensorflow.keras.optimizers import Adam\n",
    "from tensorflow.keras.models import Model\n",
    "from tensorflow.keras.layers import Input, Bidirectional, LSTM, Dense, GRU, Embedding, TimeDistributed\n",
    "from keras.preprocessing.sequence import pad_sequences\n",
    "from sklearn.metrics import f1_score\n",
    "from sklearn.metrics import  confusion_matrix, ConfusionMatrixDisplay\n",
    "import matplotlib.pyplot as plt"
   ]
  },
  {
   "cell_type": "markdown",
   "metadata": {
    "id": "GecMDNt2Jbyt"
   },
   "source": [
    "#Folders Creation"
   ]
  },
  {
   "cell_type": "code",
   "execution_count": 2,
   "metadata": {
    "colab": {
     "base_uri": "https://localhost:8080/"
    },
    "id": "-QSXY_YqJmeD",
    "outputId": "9747375b-9ee9-49b1-fa90-fc5283d9b029"
   },
   "outputs": [
    {
     "name": "stdout",
     "output_type": "stream",
     "text": [
      "Current work directory: /content/dataset\n"
     ]
    }
   ],
   "source": [
    "dataset_url = 'https://raw.githubusercontent.com/nltk/nltk_data/gh-pages/packages/corpora/dependency_treebank.zip'\n",
    "dataset_folder = os.path.join(os.getcwd(), 'dataset')\n",
    "print(\"Current work directory: \" + str(dataset_folder))\n",
    "\n",
    "if not os.path.exists(dataset_folder):\n",
    "    os.makedirs(dataset_folder)\n"
   ]
  },
  {
   "cell_type": "markdown",
   "metadata": {
    "id": "s8TY-KB-L70S"
   },
   "source": [
    "#Download and Extract Dataset"
   ]
  },
  {
   "cell_type": "code",
   "execution_count": 3,
   "metadata": {
    "id": "5_IxTpP4MA-N"
   },
   "outputs": [],
   "source": [
    "dataset_path = os.path.join(dataset_folder, 'dependency_treebank.zip')\n",
    "if not os.path.exists(dataset_path):\n",
    "    urllib.request.urlretrieve(dataset_url, dataset_path)\n",
    "\n",
    "zipfile = ZipFile(dataset_path)\n",
    "zipfile.extractall(dataset_folder)\n",
    "zipfile.close()"
   ]
  },
  {
   "cell_type": "markdown",
   "metadata": {
    "id": "PWeAA5PMOP0K"
   },
   "source": [
    "#Split Data"
   ]
  },
  {
   "cell_type": "code",
   "execution_count": 4,
   "metadata": {
    "id": "C4WB2WABORo5"
   },
   "outputs": [],
   "source": [
    "sets=[\"train\",\"val\",\"test\"]\n",
    "\n",
    "for k in sets:\n",
    "  if not os.path.exists(os.path.join(\"dataset\",k)):\n",
    "      os.makedirs(os.path.join(\"dataset\",k))\n",
    "\n",
    "files_folder = os.path.join(os.path.join(dataset_folder, \"dependency_treebank\"))\n"
   ]
  },
  {
   "cell_type": "code",
   "execution_count": 5,
   "metadata": {
    "id": "0n5xSNoCRJNt"
   },
   "outputs": [],
   "source": [
    "#from https://thispointer.com/python-get-list-of-files-in-directory-sorted-by-name/\n",
    "filenames = sorted(filter(lambda x: os.path.isfile(os.path.join(files_folder, x)),os.listdir(files_folder) ) )"
   ]
  },
  {
   "cell_type": "code",
   "execution_count": 6,
   "metadata": {
    "id": "30L1vMweXwnu"
   },
   "outputs": [],
   "source": [
    "for i in range(0,len(filenames)):\n",
    "  if i<100:\n",
    "    dest= os.path.join(dataset_folder,sets[0])\n",
    "  elif i<150:\n",
    "    dest= os.path.join(dataset_folder,sets[1])\n",
    "  else:\n",
    "    dest=os.path.join(dataset_folder,sets[2])\n",
    "\n",
    "  if not os.path.exists(os.path.join(dest, filenames[i])):\n",
    "    shutil.move(os.path.join(files_folder, filenames[i]), dest)"
   ]
  },
  {
   "cell_type": "markdown",
   "metadata": {
    "id": "6sgHsQnraaLs"
   },
   "source": [
    "#Load Data\n",
    "Transform each set in a single file containing all the sentences"
   ]
  },
  {
   "cell_type": "code",
   "execution_count": 7,
   "metadata": {
    "id": "dFSrnHPua3Hd"
   },
   "outputs": [],
   "source": [
    "def load_files(files):\n",
    "    output=[]\n",
    "    for f in tqdm(natsorted(files)):\n",
    "      with open(f, mode='r') as ff:\n",
    "        w=[]\n",
    "        t=[]\n",
    "        for k in ff:\n",
    "          splitted=k.split()\n",
    "          if len(splitted) == 3:\n",
    "              w.append(splitted[0].lower())\n",
    "              t.append(splitted[1].lower())\n",
    "          else:\n",
    "            D={\"Words\":w,\"Labels\":t}\n",
    "            output.append(D)\n",
    "            w=[]\n",
    "            t=[]\n",
    "      if len(w) != 0:\n",
    "        D={\"Words\":w,\"Labels\":t}\n",
    "        output.append(D)\n",
    "    return pd.DataFrame.from_dict(output)"
   ]
  },
  {
   "cell_type": "code",
   "execution_count": 8,
   "metadata": {
    "colab": {
     "base_uri": "https://localhost:8080/",
     "height": 113,
     "referenced_widgets": [
      "43293d8665f344aca1c4c4af6a76cd75",
      "a8143bbb9bc34220ad9b5b07988416b9",
      "e9699be6e167416eb7060b41bbfa7fc5",
      "9d538371a1d942d39cc1fae257f291aa",
      "f8cba075c9b84c85a0083c117b3ca8cb",
      "ee79162b3993472da0beee924ad980ce",
      "7e8b71d685a8493faa67b05d49fa291f",
      "0992832dee264ef4bcf064a996d5c84c",
      "09a70c0cce2a490d87c4980526ad5b1b",
      "d420c6c27d0d44d3b38e5096c539c4ed",
      "6b413b3f458c4ed2804ae237aa0c544e",
      "626764a125a54d35becd4e80463fee5c",
      "d8c30477c15a449daeb40a45a4face5a",
      "7246897bf45d431bb52e5d1be994f808",
      "aa1015c255e54449b4531aa33559d159",
      "02a5988f87874f86b439199622fb2108",
      "2d0bd54b4a584a56960ae090ad14e1b5",
      "1d0ba90b5607445a9d7ddde878cf4d57",
      "9ae20e25503e4e5cb4aa8a3fd2964577",
      "c8402e8a39e54f129b6cbbe121cd8390",
      "fa063435127644a1b6b30cccfe63122f",
      "eb88d1ac93734ca6a3be0ac12f41674e",
      "4e609c5aa3ff46fa854c7314dcd864b2",
      "ddc7a9476a3946bc8af08c449a60f089",
      "c7c044f66a4f48d8860663878517ce5c",
      "6c636c64e8ad47e8bb906f839f817e03",
      "f7c66f4ae2fd4c8891148109f4130458",
      "241ef903a24640c1bcc84ef317a2ab99",
      "60321891edb24ee0b625baa34bd147d8",
      "ac661d726bb74498b0c6247a7c7dee38",
      "43664f1e3d2d4709a73647a878e7514e",
      "a7c025c36a4241b89ef63ce3630344ef",
      "d57d5c8adeda4d18a7ddbbed5387d1fa"
     ]
    },
    "id": "M4OKbgUrcA4L",
    "outputId": "27931381-88c1-41ae-a1a9-6b06c9dc5cd1"
   },
   "outputs": [
    {
     "data": {
      "application/vnd.jupyter.widget-view+json": {
       "model_id": "43293d8665f344aca1c4c4af6a76cd75",
       "version_major": 2,
       "version_minor": 0
      },
      "text/plain": [
       "  0%|          | 0/100 [00:00<?, ?it/s]"
      ]
     },
     "metadata": {},
     "output_type": "display_data"
    },
    {
     "data": {
      "application/vnd.jupyter.widget-view+json": {
       "model_id": "626764a125a54d35becd4e80463fee5c",
       "version_major": 2,
       "version_minor": 0
      },
      "text/plain": [
       "  0%|          | 0/50 [00:00<?, ?it/s]"
      ]
     },
     "metadata": {},
     "output_type": "display_data"
    },
    {
     "data": {
      "application/vnd.jupyter.widget-view+json": {
       "model_id": "4e609c5aa3ff46fa854c7314dcd864b2",
       "version_major": 2,
       "version_minor": 0
      },
      "text/plain": [
       "  0%|          | 0/49 [00:00<?, ?it/s]"
      ]
     },
     "metadata": {},
     "output_type": "display_data"
    }
   ],
   "source": [
    "train_files= [os.path.join(\"dataset\",\"train\",f) for f in os.listdir(os.path.join(\"dataset\",\"train\"))]\n",
    "val_files=[os.path.join(\"dataset\",\"val\",f) for f in os.listdir(os.path.join(\"dataset\",\"val\"))]\n",
    "test_files=[os.path.join(\"dataset\",\"test\",f) for f in os.listdir(os.path.join(\"dataset\",\"test\"))]\n",
    "train_data=load_files(train_files)\n",
    "val_data=load_files(val_files)\n",
    "test_data=load_files(test_files)\n"
   ]
  },
  {
   "cell_type": "code",
   "execution_count": 9,
   "metadata": {
    "colab": {
     "base_uri": "https://localhost:8080/",
     "height": 206
    },
    "id": "pyd66QGsM8GU",
    "outputId": "5596c9d9-66ba-4f84-c779-30250b76e6c4"
   },
   "outputs": [
    {
     "data": {
      "text/html": [
       "\n",
       "  <div id=\"df-92015231-15d9-4031-9c00-230cf3842d5e\">\n",
       "    <div class=\"colab-df-container\">\n",
       "      <div>\n",
       "<style scoped>\n",
       "    .dataframe tbody tr th:only-of-type {\n",
       "        vertical-align: middle;\n",
       "    }\n",
       "\n",
       "    .dataframe tbody tr th {\n",
       "        vertical-align: top;\n",
       "    }\n",
       "\n",
       "    .dataframe thead th {\n",
       "        text-align: right;\n",
       "    }\n",
       "</style>\n",
       "<table border=\"1\" class=\"dataframe\">\n",
       "  <thead>\n",
       "    <tr style=\"text-align: right;\">\n",
       "      <th></th>\n",
       "      <th>Words</th>\n",
       "      <th>Labels</th>\n",
       "    </tr>\n",
       "  </thead>\n",
       "  <tbody>\n",
       "    <tr>\n",
       "      <th>0</th>\n",
       "      <td>[pierre, vinken, ,, 61, years, old, ,, will, j...</td>\n",
       "      <td>[nnp, nnp, ,, cd, nns, jj, ,, md, vb, dt, nn, ...</td>\n",
       "    </tr>\n",
       "    <tr>\n",
       "      <th>1</th>\n",
       "      <td>[mr., vinken, is, chairman, of, elsevier, n.v....</td>\n",
       "      <td>[nnp, nnp, vbz, nn, in, nnp, nnp, ,, dt, nnp, ...</td>\n",
       "    </tr>\n",
       "    <tr>\n",
       "      <th>2</th>\n",
       "      <td>[rudolph, agnew, ,, 55, years, old, and, forme...</td>\n",
       "      <td>[nnp, nnp, ,, cd, nns, jj, cc, jj, nn, in, nnp...</td>\n",
       "    </tr>\n",
       "    <tr>\n",
       "      <th>3</th>\n",
       "      <td>[a, form, of, asbestos, once, used, to, make, ...</td>\n",
       "      <td>[dt, nn, in, nn, rb, vbn, to, vb, nnp, nn, nns...</td>\n",
       "    </tr>\n",
       "    <tr>\n",
       "      <th>4</th>\n",
       "      <td>[the, asbestos, fiber, ,, crocidolite, ,, is, ...</td>\n",
       "      <td>[dt, nn, nn, ,, nn, ,, vbz, rb, jj, in, prp, v...</td>\n",
       "    </tr>\n",
       "  </tbody>\n",
       "</table>\n",
       "</div>\n",
       "      <button class=\"colab-df-convert\" onclick=\"convertToInteractive('df-92015231-15d9-4031-9c00-230cf3842d5e')\"\n",
       "              title=\"Convert this dataframe to an interactive table.\"\n",
       "              style=\"display:none;\">\n",
       "        \n",
       "  <svg xmlns=\"http://www.w3.org/2000/svg\" height=\"24px\"viewBox=\"0 0 24 24\"\n",
       "       width=\"24px\">\n",
       "    <path d=\"M0 0h24v24H0V0z\" fill=\"none\"/>\n",
       "    <path d=\"M18.56 5.44l.94 2.06.94-2.06 2.06-.94-2.06-.94-.94-2.06-.94 2.06-2.06.94zm-11 1L8.5 8.5l.94-2.06 2.06-.94-2.06-.94L8.5 2.5l-.94 2.06-2.06.94zm10 10l.94 2.06.94-2.06 2.06-.94-2.06-.94-.94-2.06-.94 2.06-2.06.94z\"/><path d=\"M17.41 7.96l-1.37-1.37c-.4-.4-.92-.59-1.43-.59-.52 0-1.04.2-1.43.59L10.3 9.45l-7.72 7.72c-.78.78-.78 2.05 0 2.83L4 21.41c.39.39.9.59 1.41.59.51 0 1.02-.2 1.41-.59l7.78-7.78 2.81-2.81c.8-.78.8-2.07 0-2.86zM5.41 20L4 18.59l7.72-7.72 1.47 1.35L5.41 20z\"/>\n",
       "  </svg>\n",
       "      </button>\n",
       "      \n",
       "  <style>\n",
       "    .colab-df-container {\n",
       "      display:flex;\n",
       "      flex-wrap:wrap;\n",
       "      gap: 12px;\n",
       "    }\n",
       "\n",
       "    .colab-df-convert {\n",
       "      background-color: #E8F0FE;\n",
       "      border: none;\n",
       "      border-radius: 50%;\n",
       "      cursor: pointer;\n",
       "      display: none;\n",
       "      fill: #1967D2;\n",
       "      height: 32px;\n",
       "      padding: 0 0 0 0;\n",
       "      width: 32px;\n",
       "    }\n",
       "\n",
       "    .colab-df-convert:hover {\n",
       "      background-color: #E2EBFA;\n",
       "      box-shadow: 0px 1px 2px rgba(60, 64, 67, 0.3), 0px 1px 3px 1px rgba(60, 64, 67, 0.15);\n",
       "      fill: #174EA6;\n",
       "    }\n",
       "\n",
       "    [theme=dark] .colab-df-convert {\n",
       "      background-color: #3B4455;\n",
       "      fill: #D2E3FC;\n",
       "    }\n",
       "\n",
       "    [theme=dark] .colab-df-convert:hover {\n",
       "      background-color: #434B5C;\n",
       "      box-shadow: 0px 1px 3px 1px rgba(0, 0, 0, 0.15);\n",
       "      filter: drop-shadow(0px 1px 2px rgba(0, 0, 0, 0.3));\n",
       "      fill: #FFFFFF;\n",
       "    }\n",
       "  </style>\n",
       "\n",
       "      <script>\n",
       "        const buttonEl =\n",
       "          document.querySelector('#df-92015231-15d9-4031-9c00-230cf3842d5e button.colab-df-convert');\n",
       "        buttonEl.style.display =\n",
       "          google.colab.kernel.accessAllowed ? 'block' : 'none';\n",
       "\n",
       "        async function convertToInteractive(key) {\n",
       "          const element = document.querySelector('#df-92015231-15d9-4031-9c00-230cf3842d5e');\n",
       "          const dataTable =\n",
       "            await google.colab.kernel.invokeFunction('convertToInteractive',\n",
       "                                                     [key], {});\n",
       "          if (!dataTable) return;\n",
       "\n",
       "          const docLinkHtml = 'Like what you see? Visit the ' +\n",
       "            '<a target=\"_blank\" href=https://colab.research.google.com/notebooks/data_table.ipynb>data table notebook</a>'\n",
       "            + ' to learn more about interactive tables.';\n",
       "          element.innerHTML = '';\n",
       "          dataTable['output_type'] = 'display_data';\n",
       "          await google.colab.output.renderOutput(dataTable, element);\n",
       "          const docLink = document.createElement('div');\n",
       "          docLink.innerHTML = docLinkHtml;\n",
       "          element.appendChild(docLink);\n",
       "        }\n",
       "      </script>\n",
       "    </div>\n",
       "  </div>\n",
       "  "
      ],
      "text/plain": [
       "                                               Words  \\\n",
       "0  [pierre, vinken, ,, 61, years, old, ,, will, j...   \n",
       "1  [mr., vinken, is, chairman, of, elsevier, n.v....   \n",
       "2  [rudolph, agnew, ,, 55, years, old, and, forme...   \n",
       "3  [a, form, of, asbestos, once, used, to, make, ...   \n",
       "4  [the, asbestos, fiber, ,, crocidolite, ,, is, ...   \n",
       "\n",
       "                                              Labels  \n",
       "0  [nnp, nnp, ,, cd, nns, jj, ,, md, vb, dt, nn, ...  \n",
       "1  [nnp, nnp, vbz, nn, in, nnp, nnp, ,, dt, nnp, ...  \n",
       "2  [nnp, nnp, ,, cd, nns, jj, cc, jj, nn, in, nnp...  \n",
       "3  [dt, nn, in, nn, rb, vbn, to, vb, nnp, nn, nns...  \n",
       "4  [dt, nn, nn, ,, nn, ,, vbz, rb, jj, in, prp, v...  "
      ]
     },
     "execution_count": 9,
     "metadata": {},
     "output_type": "execute_result"
    }
   ],
   "source": [
    "train_data.head()"
   ]
  },
  {
   "cell_type": "code",
   "execution_count": 10,
   "metadata": {
    "colab": {
     "base_uri": "https://localhost:8080/"
    },
    "id": "Ay6pdzT8OLry",
    "outputId": "66d4fb49-d25b-4ec2-b561-e406fce02592"
   },
   "outputs": [
    {
     "name": "stdout",
     "output_type": "stream",
     "text": [
      "(1963, 2)\n"
     ]
    }
   ],
   "source": [
    "print(train_data.shape)"
   ]
  },
  {
   "cell_type": "markdown",
   "metadata": {
    "id": "hT_ChW1-rzSi"
   },
   "source": [
    "#Embedding"
   ]
  },
  {
   "cell_type": "code",
   "execution_count": 11,
   "metadata": {
    "colab": {
     "base_uri": "https://localhost:8080/"
    },
    "id": "46YhCPJIr2gq",
    "outputId": "98411fad-63dd-4b86-851f-300a79edf3a8"
   },
   "outputs": [
    {
     "name": "stdout",
     "output_type": "stream",
     "text": [
      "Embedding dimension: 100\n",
      "[==================================================] 100.0% 128.1/128.1MB downloaded\n"
     ]
    }
   ],
   "source": [
    "EMBEDDING_DIMENSION=\"100\"\n",
    "print(\"Embedding dimension: \"+EMBEDDING_DIMENSION)\n",
    "embedding_model=gloader.load(f\"glove-wiki-gigaword-{EMBEDDING_DIMENSION}\")"
   ]
  },
  {
   "cell_type": "markdown",
   "metadata": {
    "id": "GWDYY_IeAXqv"
   },
   "source": [
    "##Build vocabulary and embedding matrix"
   ]
  },
  {
   "cell_type": "code",
   "execution_count": 12,
   "metadata": {
    "colab": {
     "base_uri": "https://localhost:8080/",
     "height": 105,
     "referenced_widgets": [
      "6111e4f4feaa4816881e2f95464484fc",
      "9ed4e7cd4bb446ebaa39fea1e077b13e",
      "c85a730d97f54fa3a47094a859423c7e",
      "cbd5587a5a5b40f288f6dc253548cbd3",
      "49a6c6527044431b97723eb64466bc4f",
      "5b276fc3fd424730bc1ab899eabe4be3",
      "958fe187048e41aaa1da614ba8f3c6e5",
      "7fa55297b6e842d1a33f250bf60675b5",
      "fa362e525f434c4f8168fd439a6dc055",
      "0ced77e3eac449f9a69ca0879bd7fbad",
      "c0d1a81fb88b4e1ab7450ee5148e76e2"
     ]
    },
    "id": "YBp0Bki0SMOq",
    "outputId": "8a37f3d6-940a-4778-9bd2-4db0cfed7097"
   },
   "outputs": [
    {
     "data": {
      "application/vnd.jupyter.widget-view+json": {
       "model_id": "6111e4f4feaa4816881e2f95464484fc",
       "version_major": 2,
       "version_minor": 0
      },
      "text/plain": [
       "  0%|          | 0/7404 [00:00<?, ?it/s]"
      ]
     },
     "metadata": {},
     "output_type": "display_data"
    },
    {
     "name": "stdout",
     "output_type": "stream",
     "text": [
      "{1: 'eased', 2: 'should', 3: 'scenes', 4: 'standpoint', 5: 'flooded', 6: 'groucho', 7: 'candidate', 8: 'located', 9: 'leming', 10: 'strings', 11: 'navy', 12: 'cheerleading', 13: 'waiting', 14: 'plantation', 15: 'chile', 16: 'standard', 17: 'titans', 18: 'breaker', 19: 'kidnapping', 20: 'precise', 21: 'markey', 22: 'calif.', 23: 'rust', 24: 'careful', 25: 'onus', 26: '400,000', 27: 'economists', 28: 'twinned', 29: 'cigarettes', 30: 'country', 31: 'received', 32: 'roman', 33: 'administrators', 34: 'baker', 35: 'sen.', 36: 'u.s.', 37: 'spinoff', 38: 'quite', 39: 'executives', 40: 'bond', 41: 'stemming', 42: 'common', 43: 'grgich', 44: 'grapes', 45: 'friendship', 46: 'referring', 47: 'middle', 48: 'gates', 49: 'sacked', 50: '33', 51: 'nagymaros', 52: 'compiled', 53: 'headrests', 54: 'transaction', 55: 'presumably', 56: 'needham', 57: 'ready', 58: '500,004', 59: 'commerce', 60: 'addressing', 61: 'trucks', 62: 'concentrate', 63: 'edison', 64: 'christopher', 65: 'brokers', 66: 'governors', 67: 'mechanically', 68: 'drearier', 69: 'greatly', 70: 'assist', 71: '89.9', 72: 'outstrips', 73: 'champagnes', 74: 'torrent', 75: 'seat', 76: 'princely', 77: '2,000', 78: 'alarmed', 79: 'fetal', 80: 'vehicle', 81: 'disaffected', 82: 'fairly', 83: 'nobel', 84: 'reminded', 85: 'associates', 86: 'medicine', 87: '212', 88: 'unpleasant', 89: '353', 90: 'rekindled', 91: 'economical', 92: 'combat', 93: 'cutting', 94: 'griffin', 95: 'scientist', 96: 'carney', 97: 'card', 98: 'predicting', 99: 'lender', 100: 'secretary', 101: 'husband', 102: 'assistance', 103: 'palmer', 104: 'military', 105: 'vague', 106: '143.08', 107: 'nbc', 108: 'developments', 109: 'impudent', 110: 'requests', 111: 'trojan', 112: 'cared', 113: 'expelled', 114: 'surgeon', 115: 'triple', 116: 'bitterness', 117: 'loose', 118: 'litigation', 119: 'speaks', 120: 'soups', 121: 'word', 122: 'extramarital', 123: 'donald', 124: 'matched', 125: 'we-japanese', 126: 'imply', 127: '36', 128: 'mcgraw-hill', 129: '31', 130: \"'ve\", 131: 'baseball', 132: 'weigh', 133: 'responsibility', 134: '1983', 135: 'stoked', 136: 'would', 137: 'pirates', 138: 'unleashed', 139: 'worrying', 140: 'dry', 141: 'approval', 142: 'c.', 143: 'ghkm', 144: 'equal-opportunity', 145: '500-stock', 146: 'pass', 147: '1\\\\/10th', 148: 'noticing', 149: 'existing', 150: 'writers', 151: 'ring', 152: 'tested', 153: 'challenging', 154: 'victor', 155: 'balked', 156: 'define', 157: 'bring', 158: 'eagleton', 159: 'pursued', 160: 'ky.', 161: 'square', 162: 'underpin', 163: 'equally', 164: 'index-related', 165: 'stark', 166: 'hauled', 167: '8.53', 168: '150.00', 169: 'awfully', 170: 'indicates', 171: '64.5', 172: 'unbearably', 173: 'contends', 174: 'comment', 175: 'crunch', 176: 'captive', 177: 'interstate', 178: 'tarwhine', 179: 'withstand', 180: 'referrals', 181: 'trigger', 182: 'below', 183: 'replicating', 184: 'correcting', 185: 'jalaalwalikraam', 186: 'considered', 187: 'wheel-loader', 188: 'orville', 189: 'fabricate', 190: 'specialty', 191: \"'m\", 192: 'smartly', 193: 'industry', 194: 'excellence', 195: '29.4', 196: 'plo', 197: 'discordant', 198: 'disparate', 199: 'make', 200: 'cray', 201: 'prohibits', 202: 'restaurant', 203: 'years', 204: 'denying', 205: 'due', 206: 'seagate', 207: '9.5', 208: 'touchy', 209: '10.2', 210: 'third', 211: 'faithful', 212: 'track', 213: 'woman', 214: 'tallies', 215: 'disregard', 216: 'worries', 217: 'anticipating', 218: 'slides', 219: 'lake', 220: '20', 221: 'very', 222: 'dead', 223: '75', 224: 'sauvignon', 225: '46.1', 226: 'reinstating', 227: 'avoid', 228: 'infringed', 229: '90-cent-an-hour', 230: '$', 231: 'morale-damaging', 232: 'adjusted', 233: 'pull', 234: 'michio', 235: 'cray-3', 236: 'structures', 237: '3.9', 238: 'piece', 239: 'attacking', 240: 'numbered', 241: 'programming', 242: 'occupying', 243: 'kirkpatrick', 244: 'preliminary', 245: 'kearny', 246: 'pitches', 247: 'pattenden', 248: 'impose', 249: 'subscriptions', 250: 'to', 251: 'grace', 252: 'skilled', 253: 'house', 254: 'elected', 255: 'utah', 256: 'maxwell', 257: 'plays', 258: '2.875', 259: 'eliminate', 260: 'teacher-cadet', 261: 'phase', 262: 'south', 263: 'effect', 264: '38.3', 265: '133.7', 266: 'cozy', 267: 'overall', 268: 'status', 269: 'stated', 270: 'whiting', 271: 'assumption', 272: 'fishman', 273: 'principal', 274: '51.25', 275: '1.9', 276: 'represented', 277: 'unless', 278: 'high-stakes', 279: 'daniels', 280: 'meaning', 281: 'pc', 282: 'chief', 283: 'seen', 284: 'opponents', 285: 'fault', 286: '600,000', 287: 'denial', 288: 'resists', 289: 'danforth', 290: 'certain', 291: 'westborough', 292: 'stages', 293: 'wayland', 294: '17-year-old', 295: 'benefited', 296: 'school-sponsored', 297: 'bulls', 298: 'declining', 299: 'prize-fighter', 300: 'savings', 301: '10-day', 302: 'bells', 303: '1917', 304: 'behaving', 305: 'callers', 306: 'sheaf', 307: 'british', 308: 'contracted', 309: 'remained', 310: 'student-test', 311: 'punishment', 312: 'sacramento', 313: 'intention', 314: 'activities', 315: 'warning', 316: 'haney', 317: 'sacrificing', 318: 'italy', 319: 'chefs', 320: 'clerks', 321: '13', 322: 'pasta', 323: 'idea', 324: 'tea', 325: 'proposing', 326: 'pressures', 327: 'bailey', 328: 'numeral', 329: 'forest-product', 330: 'meant', 331: 'money-market', 332: 'kits', 333: 'semiconductor', 334: 'buckle', 335: 'awards', 336: 'cutbacks', 337: 'type', 338: 'seasonal', 339: 'disclosing', 340: 'capacity', 341: 'classes', 342: 'achieved', 343: 'prejudice', 344: 'neighborhood', 345: 'train', 346: 'calling', 347: 'chat', 348: 'triton', 349: 'filters', 350: 'crushed', 351: 'applications', 352: '82,389', 353: 'few', 354: 'napolitan', 355: 'leaders', 356: '98', 357: 'deterring', 358: 'raised', 359: 'newsweek', 360: 'live', 361: 'particulars', 362: 'proposals', 363: 'stretching', 364: 'closer', 365: 'anyone', 366: 'rural', 367: 'tobacco', 368: '21.9', 369: 'display', 370: 'surged', 371: 'mignon', 372: 'drobnick', 373: 'skipped', 374: 'felt', 375: 'hardly', 376: 'friendly', 377: 'from', 378: 'autumn', 379: '0.2', 380: 'projects', 381: 'encroaching', 382: 'talking', 383: 'four-year', 384: 'modification', 385: 'contributing', 386: 'slowing', 387: 'lackluster', 388: '``', 389: 'leapt', 390: 'count', 391: 'dan', 392: 'agents', 393: 'names', 394: 'qualify', 395: 'drove', 396: 'coming', 397: 'step', 398: 'dingell', 399: 'redemption', 400: 'vicars', 401: 'toys', 402: 'attracted', 403: 'stirred', 404: 'princeton', 405: 'behind', 406: '4,000', 407: 'technical', 408: 'inspirational', 409: 'two-sevenths', 410: 'troubled', 411: 'cask', 412: 'telling', 413: 'proper', 414: 'loved', 415: 'officials', 416: 'combinations', 417: 'judging', 418: 'greenville', 419: 'worthy', 420: 'regulatory', 421: 'evensong', 422: 'happen', 423: 'impressive', 424: 'nationwide', 425: 'were', 426: '11.5', 427: 'landis', 428: 'passbook', 429: 'maintained', 430: 'balls', 431: 'thus', 432: 'finance', 433: 'kids', 434: 'sensitive', 435: 'offer', 436: 'parallels', 437: 'acknowledging', 438: 'lately', 439: 'democrats', 440: 'lawyers', 441: 'detective-story', 442: 'aide', 443: 'tad', 444: 'purpose', 445: 'deteriorated', 446: 'mexico', 447: 'pratt', 448: 'ft-se', 449: 'milestone', 450: 'editor', 451: 'escort', 452: 'prepare', 453: '1986', 454: 'trends', 455: '86.12', 456: 'sole', 457: 'necessary', 458: 'return', 459: 'six', 460: 'succeeding', 461: 'entrants', 462: 'dividend', 463: 'easily', 464: 'next', 465: 'truthful', 466: 'counterparts', 467: 'fit', 468: '160', 469: 'gregory', 470: 'problem', 471: 'punitive', 472: 'closeness', 473: 'boom', 474: 'workers', 475: 'sabhavasu', 476: 'backed', 477: 'profitable', 478: 'discontent', 479: 'independent', 480: 'person', 481: 'mortgage-based', 482: 'ac-130u', 483: 'nekoosa', 484: '5.276', 485: 'marvelously', 486: 'stephanie', 487: 'peaks', 488: 'najarian', 489: 'unico', 490: 'supercilious', 491: 'sociology', 492: 'raring', 493: 'random', 494: 'compel', 495: 'conviction', 496: 'composer', 497: 'marietta', 498: 'tandy', 499: 'desktop', 500: 'former', 501: 'younger', 502: 'file', 503: 'steel', 504: 'lafite-rothschild', 505: 'afflicted', 506: 'no', 507: 'arm', 508: 'stood', 509: 'mutual', 510: '1966', 511: 'candidates', 512: 'neighborhoods', 513: 'despite', 514: 'flourish', 515: 'launch', 516: 'chardonnay', 517: 'weight', 518: 'acquired', 519: 'jefferson', 520: 'ongoing', 521: '467', 522: 'vargas', 523: 'academically', 524: 'climate', 525: 'security-type', 526: 'angelo', 527: 'episodes', 528: 'invested', 529: '2.29', 530: 'each', 531: 'dances', 532: 'pressed', 533: '400', 534: 'see', 535: 'investigation', 536: 'jovanovich', 537: 'grandstander', 538: 'fall', 539: 'burt', 540: 'inc.', 541: 'breach', 542: 'operated', 543: 'cash', 544: 'climbing', 545: 'ended', 546: 'size', 547: 'austere', 548: '234.4', 549: 'date', 550: 'long', 551: 'polyester', 552: 'spence', 553: 'trader', 554: '2.6', 555: 'barrels', 556: '59.6', 557: 'ire', 558: 'privilege', 559: 'assumed', 560: 'acquisition', 561: 'record-keeping', 562: '18', 563: 'pa.', 564: 'stays', 565: 'authority', 566: 'engineering', 567: 'hope', 568: 'declined', 569: 'research', 570: 'near-record', 571: 'deputy', 572: 'backer', 573: 'smaller', 574: 'large', 575: 'shorter', 576: 'contained', 577: 'whom', 578: 'carolina', 579: 'tricky', 580: 'obstacles', 581: 'further', 582: '3.35', 583: 'competed', 584: 'filmed', 585: 'charge', 586: 'roughly', 587: 'undisclosed', 588: '2.25', 589: 'tache', 590: 'mortgage', 591: 'protesters', 592: 'casts', 593: 'jointly', 594: 'took', 595: 'n.m.', 596: 'on', 597: 'frequency', 598: 'depending', 599: 'hiroshima', 600: '2019', 601: 'committees', 602: 'could', 603: 'comedies', 604: 'guinea', 605: 'takes', 606: 'tried', 607: 'exactly', 608: 'teenage', 609: 'rope', 610: 'improving', 611: 'fail', 612: 'ones', 613: 'rothschild', 614: 'angeles', 615: 'covered', 616: 'industrialized', 617: 'chevrolet', 618: 'organization', 619: 'instituted', 620: 'boyfriends', 621: 'dominus', 622: 'tv', 623: 'authorized', 624: 'enters', 625: 'list', 626: 'turning', 627: 'systems', 628: 'automotive-lighting', 629: 'plans', 630: 'interviewed', 631: 'roll', 632: 'new', 633: '3,288,453', 634: 'sake', 635: 'braun', 636: \"n't\", 637: 'resonate', 638: 'fare', 639: 'park', 640: 'stock', 641: 'one-country', 642: 'understood', 643: 'warren', 644: 'wake', 645: 'gauges', 646: 'union', 647: '1.28', 648: 'court', 649: '490', 650: 'regarding', 651: 'fabled', 652: 'routine', 653: '8.14', 654: 'wine-making', 655: 'prototype', 656: 'son', 657: 'child', 658: '93', 659: 'promissory', 660: 'minute', 661: 's.p', 662: 'exxon', 663: 'outcry', 664: 'renew', 665: 'suspended', 666: 'restructure', 667: 'mercer', 668: 'patricia', 669: 'who', 670: '12.5', 671: 'certainly', 672: 'rap', 673: 'enforcement', 674: 'positions', 675: 'ease', 676: 'forward', 677: 'selling', 678: 'prize', 679: 'aghast', 680: 'raw', 681: 'cru', 682: 'brownell', 683: 'belfry', 684: 'delay', 685: 'scholastic', 686: 'unattractive', 687: 'therapies', 688: 'smoke', 689: 'criminal', 690: 'sales', 691: 'miklos', 692: 'india', 693: 'stronger', 694: '1934', 695: 'lefcourt', 696: 'tramp', 697: 'anne', 698: 'snow', 699: 'rim', 700: 'davenport', 701: 'amphobiles', 702: 'materialistic', 703: 'kappa', 704: 'telephones', 705: 'entice', 706: 'appeals', 707: '10-lap', 708: 'madly', 709: 'answers', 710: 'number', 711: 'killed', 712: 'weakness', 713: 'university', 714: 'ushers', 715: '1960s', 716: 'extent', 717: 'named', 718: 'suggests', 719: 'prof', 720: '4.3', 721: 'logic', 722: 'keep', 723: 'office', 724: 'mushy', 725: 'letting', 726: 'improve', 727: 'videocassette', 728: 'fuentes', 729: 'codified', 730: 'sliding', 731: 'reflects', 732: 'his', 733: 'above', 734: 'disciplined', 735: 'existed', 736: 'amusing', 737: 'audit', 738: 'message', 739: 'generate', 740: 'quarters', 741: 'jamaica', 742: 'stadium', 743: 'screens', 744: 'act', 745: 'heads', 746: 'wpp', 747: 'grade', 748: 'metals', 749: 'paper', 750: 'striking', 751: '22.75', 752: 'neil', 753: 'acceded', 754: 'invent', 755: 'also', 756: 'houses', 757: '63-year-old', 758: 'prefecture', 759: 'crowd', 760: 'cdc', 761: 'speed', 762: 'disagreeable', 763: 'promoting', 764: 'quitting', 765: 'handle', 766: 'tired', 767: 'provide', 768: 'long-term', 769: 'metric', 770: 'electric', 771: 'stock-market', 772: 'xiaoping', 773: 'german', 774: '1.55', 775: 'drop-off', 776: 'produced', 777: 'fold', 778: '-lrb-', 779: 'thrifts', 780: '53', 781: 'ramirez', 782: 'billed', 783: 'jacksonville', 784: 'senate', 785: 'antonio', 786: 'disciplinary', 787: 'greatest', 788: 'surplus', 789: 'main', 790: 'separate', 791: 'beaten', 792: 'drives', 793: 'ultimately', 794: 'accumulated', 795: 'heightened', 796: 'objectives', 797: 'capsules', 798: 'patents', 799: 'bases', 800: 'concluded', 801: 'holding', 802: 'raising', 803: 'central', 804: 'landfill', 805: 'replies', 806: '214', 807: 'across', 808: \"''\", 809: 'faculty', 810: 'lesser', 811: 'adopting', 812: 'dobson', 813: 'competitors', 814: 'pitcher', 815: 'multilevel', 816: 'locked', 817: 'blip', 818: 'sell', 819: 'prolonged', 820: 'condemned', 821: 'political', 822: 'strong', 823: 'fax', 824: 'pretax', 825: 'farren', 826: '3.80', 827: 'ministry', 828: 'format', 829: 'teddy', 830: 'willing', 831: 'incident', 832: 'sites', 833: 'asset', 834: 'retired', 835: 'writing', 836: 'security', 837: 'communication', 838: 'professional', 839: 'ibc', 840: 'totally', 841: 'acts', 842: 'reagan', 843: 'class', 844: 'preset', 845: '2.1', 846: 'lauderhill', 847: '40', 848: 'abortion', 849: 'schoolteacher', 850: 'u.s.s.r.', 851: 'morita', 852: 'earn', 853: '99.1', 854: 'mr.', 855: 'french', 856: 'merrill', 857: 'casting', 858: 'mayor', 859: 'awarding', 860: 'defended', 861: 'basis', 862: 'chemplus', 863: 'salmore', 864: 'compare', 865: 'continued', 866: 'opinion', 867: 'baldwin', 868: 'serve', 869: 'samnick', 870: 'element', 871: 'fountain', 872: 'exercised', 873: 'marchese', 874: 'reins', 875: 'lowest', 876: 'slate', 877: 'boys', 878: 'switching', 879: 'ask', 880: 'stepped', 881: 'builds', 882: 'leroy', 883: 'blind', 884: 'equipped', 885: 'direct-investment', 886: '36-minute', 887: 'subscriber', 888: 'watson', 889: 'week', 890: 'owned', 891: 'manfred', 892: 'swing', 893: 'formed', 894: 'term', 895: '26.2', 896: 'tokyo', 897: 'predecessor', 898: 'vitulli', 899: 'dead-eyed', 900: 'helping', 901: 'hara', 902: 'shuxian', 903: 'harassment', 904: 'smelting', 905: 'businessman', 906: 'ancient', 907: 'contracts', 908: 'dugdale', 909: 'bold', 910: 'encounter', 911: 'foreign-stock', 912: 'invades', 913: 'semesters', 914: 'massacre', 915: 'blow', 916: 'formula', 917: 'mitsubishi', 918: 'pick-up', 919: 'caused', 920: 'nicole', 921: 'enright', 922: 'goal', 923: '40-year-old', 924: 'checking', 925: 'emile', 926: 'foreigners', 927: 'everyone', 928: 'coxon', 929: 'populated', 930: 'within', 931: 'briefing', 932: 'demand', 933: 'analysts', 934: 'game', 935: '77,000', 936: 'whelen', 937: '9.45', 938: 'rule', 939: '300', 940: 'rich', 941: 'looking', 942: 'conference', 943: 'williams', 944: 'unwashed', 945: 'classics', 946: 'united', 947: 'shelby', 948: 'customer', 949: 'derel', 950: 'needle-like', 951: 'elderly', 952: 'trades', 953: 'five-point', 954: 'facial', 955: 'estates', 956: 'no.', 957: 'stakes', 958: 'starts', 959: 'currencies', 960: 'clive', 961: 'wrong', 962: 'mental', 963: 'biscayne', 964: 'much', 965: 'par', 966: 'literary', 967: '325,000', 968: 'congressmen', 969: 'rival', 970: 'worry', 971: 'heartland', 972: 'rockwell', 973: 'ca', 974: 'important', 975: 'enacted', 976: 'caught', 977: 'specialist', 978: 'reports', 979: 'acceptance', 980: 'executing', 981: 'sunny', 982: 'surprise', 983: '125', 984: 'replacement-car', 985: 'lengthen', 986: 'realized', 987: 'pushing', 988: 'foam', 989: '352.7', 990: 'offering', 991: 'northy', 992: 'fighting', 993: 'bob', 994: 'social-studies', 995: 'fixed-rate', 996: 'kindergarten', 997: 'jacob', 998: '63', 999: 'hong', 1000: 'wilfred', 1001: 'journal', 1002: 'kit', 1003: 'spend', 1004: 'relation', 1005: 'observations', 1006: 'pushes', 1007: 'negotiating', 1008: 'tenn.', 1009: 'merge', 1010: 'foul', 1011: 'chrysotile', 1012: 'software', 1013: 'dallas', 1014: 'dismissed', 1015: 'hoffman', 1016: 'shareholder', 1017: 'reviewing', 1018: 'olsen', 1019: 'characterizing', 1020: 'bankruptcy', 1021: '1979', 1022: 'delivery', 1023: 'petrus', 1024: 'interested', 1025: 'stand', 1026: 'committing', 1027: 'elizabeth', 1028: 'equity', 1029: 'resume', 1030: 'summer\\\\/winter', 1031: 'york-based', 1032: 'dam', 1033: 'pro-choice', 1034: 'speculators', 1035: 'investor', 1036: 'wages', 1037: 'actual', 1038: 'career', 1039: 'extraordinary', 1040: 'chamber', 1041: 'passed', 1042: 'mass.', 1043: 'reflection', 1044: 'these', 1045: 'believed', 1046: 'output', 1047: 'plunge', 1048: 'nonetheless', 1049: 'slump', 1050: 'jews', 1051: 'offender', 1052: 'camera', 1053: '37.3', 1054: 'successful', 1055: 'urge', 1056: 'lent', 1057: 'larger', 1058: 'gerard', 1059: 'yen-denominated', 1060: 'spokewoman', 1061: 'noting', 1062: 'receipts', 1063: 'fragmentation', 1064: 'perpetuate', 1065: 'spin-off', 1066: 'seem', 1067: 'modify', 1068: 'lesions', 1069: 'valhi', 1070: 'acquisitions', 1071: 'feelings', 1072: 'kathryn', 1073: 'nasd', 1074: 'unfair-trade', 1075: 'advised', 1076: 'robustly', 1077: 'manufacture', 1078: 'rise', 1079: 'rejected', 1080: '36.9', 1081: 'altruistic', 1082: 'sells', 1083: 'third-highest', 1084: 'peck', 1085: 'ronald', 1086: 'lawsuits', 1087: 'needed', 1088: 'doubled', 1089: 'suppliers', 1090: '47.6', 1091: 'guilty', 1092: 'rarely', 1093: 'mailed', 1094: 'meal', 1095: 'democratic', 1096: '497.34', 1097: 'houston', 1098: 'unauthorized', 1099: 'hotel', 1100: 'harped', 1101: 'halts', 1102: 'kligman', 1103: 'georgia-pacific', 1104: 'joint', 1105: 'suing', 1106: 'images', 1107: 'food-shop', 1108: 'reciting', 1109: 'ads', 1110: 'asset-sale', 1111: 'mathematical', 1112: 'ban', 1113: 'burlap', 1114: 'slowdown', 1115: 'advisory', 1116: 'retin-a', 1117: 'billionaire', 1118: 'breakers', 1119: 'spotted', 1120: 'picture', 1121: 'belonging', 1122: '75-year-old', 1123: 'ethical', 1124: 'inadequacy', 1125: 'duckling', 1126: 'language', 1127: 'wa', 1128: 'expects', 1129: 'special', 1130: 'so', 1131: 'belfries', 1132: 'disturbing', 1133: 'search-and-seizure', 1134: 'powder', 1135: 'dust', 1136: 'customers', 1137: 'pat', 1138: 'faded', 1139: 'firms', 1140: 'boast', 1141: 'parkinson', 1142: 'pleased', 1143: 'calculations', 1144: 'converting', 1145: 'assured', 1146: 'signal', 1147: 'sorting', 1148: '49', 1149: 'representative', 1150: 'watch', 1151: 'tone', 1152: 'test-preparation', 1153: 'issuing', 1154: 'ms.', 1155: 'situation', 1156: 'growths', 1157: 'real-estate', 1158: 'earned', 1159: 'backlogs', 1160: 'hatch', 1161: 'prosecutor', 1162: 'viewers', 1163: 'different', 1164: 'so-called', 1165: 'buyers', 1166: 'moreover', 1167: 'walkman', 1168: 'resignation', 1169: 'removal', 1170: 'combo', 1171: 'residence', 1172: 'works', 1173: 'lay', 1174: 'include', 1175: 'intelligence', 1176: 'pharmaceutical', 1177: 'prestige', 1178: 'attempt', 1179: 'they', 1180: 'punish', 1181: 'example', 1182: 'high-rise', 1183: 'seeking', 1184: 'entertainment', 1185: '93,000', 1186: 'rbc', 1187: 'prestigious', 1188: 'nbc-owned', 1189: 'concerns', 1190: 'exposure', 1191: 'hopes', 1192: 'test', 1193: 'bend', 1194: 'threatened', 1195: 'booklets', 1196: 'sanctions', 1197: 'serving', 1198: 'martyr', 1199: 'czechoslovakia', 1200: 'perspective', 1201: 'guided', 1202: 'congressman', 1203: 'regulating', 1204: 'sci', 1205: 'integra', 1206: 'philippine', 1207: 'industry-wide', 1208: 'personal', 1209: 'sketch', 1210: 'space', 1211: 'periods', 1212: 'into', 1213: 'insist', 1214: 'hustlers', 1215: 'protests', 1216: 'parents', 1217: '8.19', 1218: 'places', 1219: 'upstream', 1220: 'area', 1221: 'resubmit', 1222: 'fernando', 1223: 'wild', 1224: 'adequately', 1225: 'advertise', 1226: 'converted', 1227: 'attorneys', 1228: 'bags', 1229: 'youngsters', 1230: 'consolidated', 1231: 'wilcox', 1232: 'acetate', 1233: 'refunds', 1234: 'raton', 1235: 'clerics', 1236: '73', 1237: 'rubicam', 1238: 'pine', 1239: '139', 1240: 'lagging', 1241: 'somerset', 1242: 'institutions', 1243: 'pate', 1244: '28.4', 1245: 'dealers', 1246: 'clearing', 1247: 'delete', 1248: '77.56', 1249: 'car-safety', 1250: 'double-digit', 1251: 'raleigh', 1252: 'rest', 1253: 'with', 1254: 'complain', 1255: 'illuminating', 1256: 'unintelligible', 1257: 'core', 1258: '72.7', 1259: 'dana-farber', 1260: 'bill', 1261: 'was', 1262: 'entertaining', 1263: 'clears', 1264: 'health', 1265: 'funds', 1266: 'n.h.', 1267: 'solved', 1268: 'protest', 1269: 'supposedly', 1270: 'ritual', 1271: 'checks', 1272: 'originally', 1273: 'nationale', 1274: 'sundays', 1275: 'trailed', 1276: 'red-blooded', 1277: 'pricing', 1278: 'already', 1279: 'previous', 1280: 'nightmare', 1281: 'counseling', 1282: 'accessories', 1283: 'aisles', 1284: 'aloha', 1285: 'bridgestone\\\\/firestone', 1286: 'statement', 1287: 'promotions', 1288: 'sometimes-exhausting', 1289: 'cooper', 1290: 'ventilated', 1291: 'intellectual', 1292: 'temptation', 1293: 'nih', 1294: 'dust-up', 1295: 'language-housekeeper', 1296: 'adding', 1297: 'out', 1298: 'couple', 1299: 'orchestra', 1300: 'philippines', 1301: 'beta', 1302: 'limit', 1303: 'filing', 1304: 'requested', 1305: 'regional', 1306: 'utility', 1307: 'haut-brion', 1308: 'scowcroft', 1309: 'tidily', 1310: 'spark', 1311: 's&l', 1312: '2.2', 1313: 'designed', 1314: 'become', 1315: 'simply', 1316: 'retaining', 1317: 'indictment', 1318: 'novello', 1319: 'favorite', 1320: 'ala.', 1321: 'deemed', 1322: 'savers\\\\/investors', 1323: '45', 1324: 'disapprove', 1325: 'evoke', 1326: 'publicly', 1327: 'homebrew', 1328: '188', 1329: 'yang', 1330: 'dale', 1331: 'rash', 1332: 'billion', 1333: 'mention', 1334: '118.6', 1335: 'powwow', 1336: 'early', 1337: 'colleagues', 1338: 'calif', 1339: 'poorly', 1340: 'zuckerman', 1341: 'driscoll', 1342: 'internatonal', 1343: 'worker', 1344: 'refunding', 1345: 'tradition', 1346: '23.72', 1347: 'blamed', 1348: 'providing', 1349: 'human', 1350: 'branches', 1351: '520-lawyer', 1352: 'red-and-white', 1353: '5.39', 1354: 'general', 1355: 'material', 1356: 'enlarged', 1357: 'caters', 1358: 'liberation', 1359: 'entitles', 1360: 'reinvestment', 1361: 'talcott', 1362: 'seriously', 1363: 'yen', 1364: 'reached', 1365: 'distinguished', 1366: 'spouse', 1367: 'skidded', 1368: 'soviet', 1369: 'appropriate', 1370: 'jack', 1371: 'build', 1372: 'small-company', 1373: 'prosecution', 1374: 'concentrated', 1375: 'huxtable', 1376: 'exclusion', 1377: 'wtvj', 1378: 'perfectly', 1379: 'one-third', 1380: 'compared', 1381: 'soul', 1382: 'speech', 1383: 'statute', 1384: 'barred', 1385: 'intense', 1386: 'barrel', 1387: 'amounted', 1388: 'clarify', 1389: 'busiest', 1390: 'prosecuting', 1391: 'traffic', 1392: 'lufkin', 1393: 'repayment', 1394: 'dominion', 1395: \"'ll\", 1396: 'heated', 1397: 'adolph', 1398: 'circle', 1399: 'unjust', 1400: 'yielding', 1401: 'fuller', 1402: 'plants', 1403: 'instances', 1404: 'jet', 1405: 'salomon', 1406: 'differ', 1407: 'property', 1408: 'radio', 1409: 'houghton', 1410: 'eventually', 1411: 'quoted', 1412: 'lezovich', 1413: '3-4', 1414: 'manufacturing', 1415: 'are', 1416: 'giveaways', 1417: 'election', 1418: 'outpaced', 1419: 'observing', 1420: 'processors', 1421: 'oversee', 1422: '1991', 1423: 'business', 1424: 'ethel', 1425: 'ripen', 1426: 'inched', 1427: 'wash.', 1428: '8300s', 1429: 'subsidiary', 1430: 'proponent', 1431: 'upside', 1432: 'four-color', 1433: 'turnover', 1434: 'listed', 1435: 'indiana', 1436: '500,000', 1437: '9.8', 1438: 'driskill', 1439: 'ginsberg', 1440: 'irony', 1441: 'regard', 1442: 'cargo', 1443: 'seventh', 1444: 'introduce', 1445: 'strategies', 1446: 'conduit', 1447: 'macmillan\\\\/mcgraw-hill', 1448: 'big-ticket', 1449: 'regulate', 1450: 'areas', 1451: 'attract', 1452: 'involves', 1453: 'otc', 1454: 'barrier', 1455: 'justify', 1456: 'france', 1457: 'botched', 1458: 'stem', 1459: 'offense', 1460: 'character', 1461: 'photos', 1462: 'classmates', 1463: 'mid-size', 1464: 'interference', 1465: 'ohio', 1466: 'chip', 1467: 'slowdowns', 1468: 'cotran', 1469: 'against', 1470: 'humble', 1471: 'advertisements', 1472: 'minimal', 1473: 'called', 1474: 'dropped', 1475: 'teams', 1476: 'posting', 1477: 'savvier', 1478: 'creek', 1479: 'financing', 1480: 'ctb', 1481: 'old', 1482: 'warsaw', 1483: 'brings', 1484: 'corton-charlemagne', 1485: 'presented', 1486: 'lasting', 1487: 'atlantic', 1488: 'vacation', 1489: 'liberty', 1490: 'lt.', 1491: 'pinocchio', 1492: 'city', 1493: 'turmoil', 1494: 'spielvogel', 1495: 'recommended', 1496: 'immediate', 1497: 'macheski', 1498: 'mike', 1499: 'fears', 1500: 'needs', 1501: 'man', 1502: 'dorothy', 1503: 'polyproplene', 1504: 'unloaded', 1505: 'drug', 1506: 'goodman', 1507: 'unpublished', 1508: 'glory', 1509: 'phony', 1510: 'kaminski', 1511: 'us', 1512: ';', 1513: '266', 1514: 'non-encapsulating', 1515: 'royalty', 1516: 'entitled', 1517: 'discredit', 1518: 'battle', 1519: 'followed', 1520: 'stock-index', 1521: 'training', 1522: 'harmony', 1523: 'recalling', 1524: 'communications', 1525: 'particular', 1526: 'oblivion', 1527: 'building-products', 1528: 'prepayment', 1529: 'yearly', 1530: 'starting', 1531: 'turf', 1532: 'orders', 1533: 'suddenly', 1534: 'refusal', 1535: '1984', 1536: 'chinese-american', 1537: 'because', 1538: 'cure', 1539: '446.62', 1540: 'ceos', 1541: 'disembodied', 1542: 'sugarman', 1543: 'channel', 1544: 'courage', 1545: 'package', 1546: 'touch', 1547: 'commonwealth', 1548: 'prove', 1549: 'upheld', 1550: 'fledgling', 1551: 'cellars', 1552: 'discussed', 1553: 'administration', 1554: 'crib', 1555: 'computer-system-design', 1556: 'shareholders', 1557: 'take', 1558: 'dill', 1559: 'eating', 1560: 'installment', 1561: 'stocks', 1562: 'futures', 1563: 'equal', 1564: 'departure', 1565: 'disclosed', 1566: 'foundation', 1567: 'ounce', 1568: 'standardized', 1569: 'existence', 1570: 'hitting', 1571: 'taught', 1572: 'cost', 1573: 'saitama', 1574: 'sought', 1575: 'bottom', 1576: 'four-year-old', 1577: 'desperately', 1578: 'filed', 1579: 'managed', 1580: 'biondi-santi', 1581: 'h.', 1582: 'education', 1583: 'maybe', 1584: 'commission', 1585: 'measure', 1586: 'accounts', 1587: 'pamela', 1588: 'f.', 1589: 'survival', 1590: 'rout', 1591: 'blinks', 1592: 'creativity', 1593: 'upturn', 1594: 'traders', 1595: 'kicked', 1596: 'uses', 1597: 'hayne', 1598: 'spenders', 1599: 'alternatives', 1600: 'serviced', 1601: 'decades', 1602: 'bullets', 1603: 'mundane', 1604: 'factory', 1605: 'antitrust-law', 1606: 'follows', 1607: 'sharper', 1608: 'elsevier', 1609: 'mo', 1610: 'sophisticated', 1611: '620', 1612: 'computer-driven', 1613: 'beer-belly', 1614: 'inaccurately', 1615: 'ltd.', 1616: 'rice', 1617: 'treatment', 1618: 'one-month', 1619: 'quarterly', 1620: 'visit', 1621: 'boca', 1622: 'established', 1623: 'tenfold', 1624: 'allegedly', 1625: 'this', 1626: 'shrum', 1627: 'expired', 1628: 'secured', 1629: 'secilia', 1630: 'stories', 1631: 'loaded', 1632: 'c-90', 1633: 'manufactured', 1634: 'skinner', 1635: 'invariably', 1636: 'safe', 1637: 'may', 1638: 'heritage', 1639: 'enabled', 1640: 'opposed', 1641: 'confidential', 1642: 'jumped', 1643: 'asked', 1644: 'goode', 1645: 'lifting', 1646: 'more', 1647: 'reprove', 1648: 'mobster', 1649: 'marketing', 1650: 'czech', 1651: 'appeal', 1652: 'anxious', 1653: 'tom', 1654: 'marc', 1655: 'information', 1656: 'related', 1657: 'unabated', 1658: 'nov.', 1659: 'stamford', 1660: 'only', 1661: '1977', 1662: 'capital-gains', 1663: 'corp.', 1664: 'sheets', 1665: 'turned', 1666: 'excessively', 1667: 'jumping', 1668: '331,000', 1669: 'deregulation', 1670: 'vote', 1671: 'thought', 1672: 'viewed', 1673: 'nagano', 1674: 'notice', 1675: 'increases', 1676: 'curly', 1677: 'royal', 1678: '2.4', 1679: 'water-authority', 1680: 'lure', 1681: 'premises', 1682: 'relations', 1683: 'fueled', 1684: 'maintenance', 1685: 'painewebber', 1686: 'savings-and-loan', 1687: 'give', 1688: 'doors', 1689: 'tissue', 1690: 'incest', 1691: 'makato', 1692: 'likely', 1693: 'face', 1694: 'then', 1695: 'anti-abortionists', 1696: 'prime', 1697: 'lucrative', 1698: 'stanford', 1699: 'gardner', 1700: 'accurately', 1701: 'rifles', 1702: '23,000', 1703: 'harris', 1704: '9', 1705: 'sex', 1706: 'bell', 1707: 'knapp', 1708: 'tube', 1709: 'stereotyped', 1710: 'lacked', 1711: 'manipulate', 1712: 'parallel', 1713: 'kentucky', 1714: 'two-letter', 1715: 'manufacturers', 1716: 'wildly', 1717: 'hampered', 1718: 'peter', 1719: 'money-fund', 1720: 'moleculon', 1721: 'berson', 1722: 'collections', 1723: 'province', 1724: 'p.', 1725: 'taxpayer', 1726: 'cutrer', 1727: 'hazardous', 1728: 'perch', 1729: 'germany', 1730: 'indianapolis', 1731: 'account', 1732: 'full', 1733: 'locally', 1734: 'mcleod', 1735: 'victims', 1736: 'title', 1737: 'wayne', 1738: 'sent', 1739: 'light', 1740: 'minor', 1741: 'submit', 1742: 'torrington', 1743: 'baltimore', 1744: 'borrowers', 1745: 'directors', 1746: 'harpo', 1747: 'abuse', 1748: 'vagrant', 1749: 'ninth', 1750: '3.2', 1751: 'advances', 1752: 'stoppage', 1753: 'murray', 1754: 'reforms', 1755: 'plant', 1756: 'southern', 1757: '18,444', 1758: 'exhaust', 1759: 'sandra', 1760: 'calls', 1761: 'tanked', 1762: 'subscription', 1763: 'landor', 1764: 'them', 1765: 'wins', 1766: 'evening', 1767: 'unaware', 1768: 'burgundies', 1769: 'heidelberg', 1770: 'purchased', 1771: 'plunged', 1772: 'regulators', 1773: 'partisan', 1774: 'semiannual', 1775: 'lunch', 1776: 'utsumi', 1777: 'faced', 1778: '5,000', 1779: 'milked', 1780: 'mend', 1781: 'virtues', 1782: 'realize', 1783: 'cosby', 1784: 'world', 1785: 'exploit', 1786: 'things', 1787: 'drawbacks', 1788: 'past', 1789: 'save', 1790: 'season', 1791: 'greenmailer', 1792: 'sights', 1793: 'reflect', 1794: 'family-planning', 1795: 'watchers', 1796: 'merged', 1797: 'jeffrey', 1798: 'sectors', 1799: 'bentsen', 1800: 'fragile', 1801: 'cultural', 1802: 'commodity', 1803: 'product', 1804: 'yquem', 1805: 'bernstein', 1806: 'embroiled', 1807: 'doing', 1808: 'less', 1809: 'dinkins', 1810: 'esso', 1811: 'heavy-duty', 1812: 'richard', 1813: 'oldest', 1814: 'newsstands', 1815: 'interesting', 1816: 'balance', 1817: 'petulant', 1818: 'commitments', 1819: 'bordeaux', 1820: 'active', 1821: 'discuss', 1822: 'recycled', 1823: 'approve', 1824: 'marching', 1825: 'brooklyn', 1826: 'gains', 1827: 'although', 1828: 'participation', 1829: 'clearly', 1830: '2645.90', 1831: 'forum', 1832: 'purchases', 1833: 'espouse', 1834: 'disruptive', 1835: 'bat', 1836: 'equip', 1837: 'mirrors', 1838: 'revenue', 1839: 'quotas', 1840: 'eyes', 1841: 'robertson', 1842: 'cheerleaders', 1843: 'p.m', 1844: 'option', 1845: 'corp', 1846: 'stronach', 1847: 'mcdermott', 1848: 'players', 1849: 'voluntarily', 1850: 'tilt', 1851: 'incentive-bonus', 1852: 'seymour', 1853: 'soviets', 1854: 'spent', 1855: 'export', 1856: 'powers', 1857: 'aug.', 1858: 'defendant', 1859: '62', 1860: 'belt', 1861: '13.5', 1862: 'expressed', 1863: 'invention', 1864: 'tapes', 1865: 'impression', 1866: 'vegas', 1867: 'talks', 1868: 'fire', 1869: '60', 1870: 'batting', 1871: 'college', 1872: 'seven-day', 1873: 'rectified', 1874: 'along', 1875: 'sullivan', 1876: 'burgundy', 1877: 'commercials', 1878: '58', 1879: 'eager', 1880: 'debentures', 1881: 'kingdom', 1882: 'curled', 1883: 'steal', 1884: 'underwriters', 1885: '3.19', 1886: 'ordeal', 1887: 'scientific', 1888: 'hoosier', 1889: 'remainder', 1890: 'miller', 1891: 'wafa', 1892: 'targets', 1893: 'worsening', 1894: 'between', 1895: 'attracts', 1896: 'weighed', 1897: 'tally', 1898: 'heavy', 1899: 'replicated', 1900: 'times', 1901: 'idiomatic', 1902: 'several', 1903: 'infusion', 1904: 'mainland', 1905: 'tigers', 1906: '1920s', 1907: 'wfrr', 1908: 'playwright', 1909: 'vice', 1910: 'wherewithal', 1911: 'mode', 1912: 'harbinger', 1913: 'chiodo', 1914: 'sound', 1915: 'servicing', 1916: 'fresh', 1917: 'on-campus', 1918: 'compatible', 1919: 'fixtures', 1920: 'worms', 1921: 'buildings', 1922: 'knew', 1923: 'f.w.', 1924: 'palestinian', 1925: 'skokie', 1926: 'deluxe', 1927: 'perfection', 1928: 'building', 1929: 'passage', 1930: 'discussing', 1931: 'expect', 1932: \"c'mon\", 1933: 'scarce', 1934: 'allen', 1935: 'schaefer', 1936: 'lore', 1937: 'affairs', 1938: 'ore.', 1939: 'strongest', 1940: 'year-long', 1941: 'improved', 1942: 'mousseline', 1943: 'insight', 1944: 'handled', 1945: 'hampton', 1946: ':', 1947: 'hutton', 1948: 'myriad', 1949: 'hartford', 1950: 'shame', 1951: '52', 1952: 'rick', 1953: 'discarded', 1954: '70', 1955: '1955', 1956: 'pursue', 1957: 'band', 1958: 'walters', 1959: 'tend', 1960: '8300', 1961: 'top-yielding', 1962: 'themselves', 1963: 'aimed', 1964: 'three-digit', 1965: 'announced', 1966: 'slack', 1967: 'cold', 1968: 'sec', 1969: 'nemeth', 1970: 'shoulder', 1971: '5.5', 1972: 'children', 1973: 'va.', 1974: 'maturities', 1975: 'subject', 1976: 'rankin', 1977: 'composite', 1978: 'check', 1979: 'nice', 1980: 'merchants', 1981: 'lobo', 1982: 'bull', 1983: 'competition', 1984: 'veselich', 1985: 'negotiated', 1986: 'nixon', 1987: '35.7', 1988: 'fierce', 1989: 'deaths', 1990: 'being', 1991: 'plan', 1992: 'tailors', 1993: 'maintaining', 1994: 'aptitude', 1995: 'good', 1996: 'dancing', 1997: 'expenditures', 1998: 'transacting', 1999: 'drooled', 2000: 'jump', 2001: 'wheels', 2002: 'nuclear', 2003: 'just', 2004: 'inheritor', 2005: 'three-quarters', 2006: 'restructuring', 2007: 'laughing', 2008: 'low-altitude', 2009: 'describes', 2010: 'angry', 2011: 'roederer', 2012: 'big-time', 2013: 'reserve', 2014: 'diagram', 2015: '3.6', 2016: 'intellectual-property', 2017: 'anti-takeover', 2018: 'fast', 2019: 'shangkun', 2020: 'gaf', 2021: 'objective', 2022: 'hard-drinking', 2023: 'afterwards', 2024: 'salon', 2025: 'maximum', 2026: 'letters', 2027: 'seven', 2028: 'proof', 2029: 'imposed', 2030: 'n.', 2031: 'suspects', 2032: 'juvenile', 2033: 'clients', 2034: '8.47', 2035: 'four', 2036: 'fighters', 2037: '250,000', 2038: 'authorities', 2039: 'similar', 2040: 'kong', 2041: 'asserted', 2042: '4,645', 2043: 'high-balance', 2044: 'reputation', 2045: 'manufacturer', 2046: 'decision', 2047: 'major', 2048: 'deal', 2049: 'non-core', 2050: '78', 2051: 'proprietor', 2052: 'self-perpetuating', 2053: 'gas', 2054: 'defeats', 2055: 'zone', 2056: 'speculation', 2057: 'domaine', 2058: 'nec', 2059: 'aspires', 2060: 'immediately', 2061: 'year-earlier', 2062: 'respond', 2063: 'reames', 2064: 'need', 2065: 'surfaced', 2066: 'sunday', 2067: 'fairness', 2068: 'optical', 2069: 'knows', 2070: 'j.l.', 2071: 'unions', 2072: 'vehicles', 2073: 'spurred', 2074: 'slide', 2075: 'joint-venture', 2076: 'involved', 2077: 'damages', 2078: 'yellow', 2079: 'days', 2080: 'toast', 2081: 'imagine', 2082: 'spirit', 2083: 'islands', 2084: 'environments', 2085: 'stressed', 2086: 'westminster', 2087: 'environmentalists', 2088: 'legend', 2089: 'terrace', 2090: 'sauternes', 2091: 'discos', 2092: 'confused', 2093: 'louis', 2094: 'medium-sized', 2095: 'era', 2096: 'wait', 2097: 'auto', 2098: 'museum', 2099: 'arrows', 2100: 'startling', 2101: 'volume', 2102: 'again', 2103: 'e.c.', 2104: 'abide', 2105: '2.50', 2106: 'resist', 2107: 'passion', 2108: '16.125', 2109: 'pulp', 2110: 'attorney', 2111: '-rcb-', 2112: 'pair', 2113: 'vs.', 2114: 'integra-a', 2115: 'controlling', 2116: 'link', 2117: 'phi', 2118: 'postponed', 2119: 'hook', 2120: 'riserva', 2121: 'chemical', 2122: 'dollars', 2123: 'additional', 2124: 'diversified', 2125: 'decisions', 2126: 'albuquerque', 2127: 'form', 2128: 'memory', 2129: 'ag', 2130: 'woodrow', 2131: 'yasser', 2132: 'borrowing', 2133: 'reason', 2134: 'crackdown', 2135: 'fell', 2136: 'whas', 2137: 'byron', 2138: 'best', 2139: 'agree', 2140: 'rung', 2141: 'management', 2142: 'disgorge', 2143: 'halve', 2144: 'influential', 2145: 'fancy', 2146: 'bills', 2147: 'two-week', 2148: 'observed', 2149: 'hierarchical', 2150: '14', 2151: 'sued', 2152: 'pulled', 2153: 'commit', 2154: 'collaborated', 2155: 'puts', 2156: 'using', 2157: 'newcomer', 2158: 'asian', 2159: 'boomers', 2160: 'tempts', 2161: '115', 2162: 'subcommittee', 2163: 'landing', 2164: 'positive', 2165: 'nelms', 2166: 'palisades', 2167: 'inner', 2168: 'both', 2169: 'inadequate', 2170: 'installing', 2171: 'manchester', 2172: 'simmons', 2173: 'twice', 2174: '1.6', 2175: 'richmond', 2176: 'findings', 2177: 'perignon', 2178: 'interjects', 2179: 'expands', 2180: 'signed', 2181: 'stake', 2182: 'cote', 2183: 'published', 2184: '2,700', 2185: 'subordinated', 2186: 'novelist', 2187: 'hurley', 2188: 'entrench', 2189: 'instruction', 2190: 'operations', 2191: 'confidence', 2192: 'coca-cola', 2193: 'expand', 2194: 'college-bowl', 2195: 'side-crash', 2196: 'delwin', 2197: 'redeploy', 2198: '25.6', 2199: 'murdered', 2200: 'cabernet', 2201: 'oil', 2202: 'butler', 2203: 'blanc', 2204: 'dexterity', 2205: 'replicate', 2206: 'publication', 2207: 'lowered', 2208: 'exhausted', 2209: 'stena', 2210: 'injury', 2211: 'girlfriend', 2212: '84.29', 2213: 'taipei', 2214: 'emerging', 2215: 'rapanelli', 2216: 'downtown', 2217: 'pennsylvania', 2218: '241', 2219: 'sixth', 2220: 'fair', 2221: 'sheet', 2222: 'dispute', 2223: 'abortionist', 2224: 'abortion-related', 2225: 'makes', 2226: 'ago', 2227: 'undercut', 2228: 'roof-crush', 2229: 'persistent', 2230: 'insurer', 2231: 'china', 2232: 'ambassador', 2233: 'village', 2234: 'words', 2235: 'growth', 2236: 'salaries', 2237: 'facade', 2238: 'precedent', 2239: 'mount', 2240: 'grows', 2241: '10', 2242: 'weddings', 2243: 'miles', 2244: 'unpopularity', 2245: 'markdown', 2246: 'renovation', 2247: 'encouraged', 2248: 'magazine', 2249: 'ideological', 2250: 'a', 2251: 'payrolls', 2252: 'biggest', 2253: 'compromise', 2254: 'synergistics', 2255: 'how-to', 2256: 'impediments', 2257: 'fifth-grade', 2258: 'changing', 2259: 'attended', 2260: 'cole', 2261: 'risen', 2262: 'consumer', 2263: 'august', 2264: 'spending', 2265: 'tripled', 2266: 'war-rationed', 2267: 'goodies', 2268: 'ounces', 2269: 'student', 2270: 'terms', 2271: 'those', 2272: '7', 2273: 'two-year', 2274: 'subsidiaries', 2275: 'akerfeldt', 2276: 'unrecognizable', 2277: 'possessed', 2278: 'transplants', 2279: 'release', 2280: 'until', 2281: 'send', 2282: 'attendance', 2283: 'expectations', 2284: 'contests', 2285: 'feels', 2286: 'forthcoming', 2287: 'jennison', 2288: 'hallwood', 2289: 'chips', 2290: 'restore', 2291: 'monday', 2292: 'unit', 2293: 'wallowing', 2294: 'taittinger', 2295: 'surprisingly', 2296: 'surveyed', 2297: 'evaluated', 2298: 'federally', 2299: '130', 2300: 'still', 2301: 'fronts', 2302: 'rieslings', 2303: 'talk-show', 2304: 'other', 2305: 'includes', 2306: 'besuboru', 2307: 'set', 2308: '1.5', 2309: 'held', 2310: 'overused', 2311: 'larry', 2312: 'contrary', 2313: 'renewal', 2314: 'urged', 2315: 'businesses', 2316: 'campus', 2317: 'volatile', 2318: 'proposed', 2319: 'midwest', 2320: 'gov.', 2321: 'organizations', 2322: 'conducting', 2323: 'brief', 2324: 'attempting', 2325: 'investing', 2326: 'symbolic', 2327: 'generations', 2328: 'uncomfortable', 2329: 'sutcliffe', 2330: 'lizhi', 2331: 'becomes', 2332: 'last', 2333: 'executive', 2334: 'resigned', 2335: 'reality', 2336: 'publications', 2337: 'forecasting', 2338: 'anticipated', 2339: 'charles', 2340: 'eight-count', 2341: 'phone', 2342: '8', 2343: '8.12', 2344: 'payable', 2345: 'short-term', 2346: 'agreement', 2347: 'client', 2348: 'side', 2349: 'rae', 2350: 'coconut', 2351: 'scrambled', 2352: 'maturity', 2353: '3.75', 2354: 'index', 2355: 'prosecute', 2356: 'expensive', 2357: 'furniture', 2358: 'guild', 2359: 'overpaying', 2360: 'external', 2361: 'toronto-based', 2362: 'year-ago', 2363: 'palestine', 2364: 'professionals', 2365: 'errors', 2366: 'cutthroat', 2367: '380', 2368: 'typically', 2369: 'texture', 2370: 'foreign-led', 2371: 'correct', 2372: 'salary', 2373: 'vowed', 2374: '100', 2375: '5.57', 2376: 'danube', 2377: 'switched', 2378: 'developing', 2379: '1971', 2380: 'dynamics', 2381: 'rushed', 2382: 'cluttered', 2383: 'upham', 2384: 'varying', 2385: 'center', 2386: 'mexican', 2387: 'hardware', 2388: 'persuade', 2389: 'reduce', 2390: 'small-time', 2391: 'assuming', 2392: 'knowledgeable', 2393: 'law', 2394: 'indicate', 2395: 'tells', 2396: 'patient', 2397: 'hosted', 2398: 'snaking', 2399: '1614', 2400: 'holidays', 2401: 'adds', 2402: 'kalipharma', 2403: 'sterling', 2404: 'exempt', 2405: 'uncertainty', 2406: '36-day', 2407: 'deposits-a', 2408: 'knowing', 2409: 'elmhurst', 2410: 'complicate', 2411: '3.01', 2412: 'james', 2413: 'government-funded', 2414: 'plot', 2415: 'sanderoff', 2416: 'broken', 2417: 'sold', 2418: 'roofs', 2419: 'ticket', 2420: 'pool', 2421: 'elaborate', 2422: 'airlines', 2423: 'discretionary', 2424: 'stabbed', 2425: 'supercomputers', 2426: 'awarded', 2427: 'necklace', 2428: 'dramatically', 2429: 'teach', 2430: 'well-connected', 2431: 'porter', 2432: 'evenly', 2433: 'fits', 2434: 'inkling', 2435: '1.5805', 2436: 'modern-day', 2437: 'devote', 2438: 'oversight', 2439: '1973', 2440: 'touched', 2441: 'ball', 2442: '701', 2443: 'benevolent', 2444: 'family', 2445: 'frances', 2446: 'dolphin', 2447: 'sea', 2448: 'classic', 2449: 'cloud', 2450: 'fluent', 2451: 'specializes', 2452: 'involve', 2453: 'slash', 2454: 'vicious', 2455: 'electric-utility', 2456: 'capped', 2457: 'argues', 2458: 'over-the-counter', 2459: 'move', 2460: 'mollified', 2461: 'marge', 2462: 'unreasonable', 2463: 'litany', 2464: '1968', 2465: 'employees', 2466: 'soup', 2467: 'artist', 2468: 'nearby', 2469: 'knife', 2470: 'your', 2471: 'hypocrisy', 2472: 'advertisers', 2473: 'd.', 2474: 'slip', 2475: 'takuma', 2476: 'ever', 2477: 'crucial', 2478: 'wanted', 2479: 'planters', 2480: 'groton', 2481: 'downward', 2482: 'incomplete', 2483: 'keehn', 2484: 'inverted', 2485: 'twindam', 2486: 'delivering', 2487: 'bids', 2488: '7,500', 2489: 'revenues', 2490: 'remorse', 2491: 'joe', 2492: 'view', 2493: 'downturn', 2494: 'corazon', 2495: 'half', 2496: 'frenzy', 2497: 'image', 2498: 'sleep', 2499: 'tracking', 2500: 'newspapers', 2501: '30-point', 2502: 'mercantile', 2503: 'recruit', 2504: 'engaging', 2505: '7.88', 2506: 'candela', 2507: 'physicist', 2508: 'filling', 2509: 'norman', 2510: 'ill.', 2511: 'learning', 2512: 'colleges', 2513: 'anti-abortion', 2514: 'later', 2515: 'elliott', 2516: 'yet', 2517: 'w.n.', 2518: 'feature', 2519: 'project', 2520: 'traditionally', 2521: 'risk', 2522: 'test-prep', 2523: 'passenger', 2524: 'everybody', 2525: 's.p.a.', 2526: 'stands', 2527: 'anglian', 2528: 'excesses', 2529: 'profession', 2530: 'deryck', 2531: 'breathe', 2532: 'abbey', 2533: 'full-length', 2534: 'instruments', 2535: 'helped', 2536: 'rooted', 2537: 'factors', 2538: 'sounded', 2539: 'healthy', 2540: 'raspberry', 2541: 'bates', 2542: 'canada', 2543: 'happening', 2544: 'shown', 2545: 'veal', 2546: 'replacement', 2547: 'beat', 2548: 'deem', 2549: 'quantitative', 2550: 'republicans', 2551: 'marriages', 2552: 'doubt', 2553: 'lover', 2554: 'unwind', 2555: 'brady', 2556: 'defeat', 2557: 'bronx', 2558: 'posted', 2559: 'player', 2560: 'preferences', 2561: 'alan', 2562: 'meanwhile', 2563: 'ford', 2564: 'behalf', 2565: 'evidence', 2566: 'steve', 2567: 'cathryn', 2568: 'taper', 2569: 'sloan', 2570: 'trading-company', 2571: 'operating', 2572: 'protections', 2573: 'girl', 2574: 'safe-deposit', 2575: 'withdrawal', 2576: 'narrow', 2577: 'scattered', 2578: 'machines', 2579: 'violate', 2580: 'record', 2581: 'grand', 2582: '705.6', 2583: 'anxieties', 2584: 'constraints', 2585: 'wickliffe', 2586: 'bloody', 2587: 'restricts', 2588: 'post-hearing', 2589: 'biannual', 2590: 'problems', 2591: 'through', 2592: '44', 2593: 'heating', 2594: 'prosecuted', 2595: 'brent', 2596: '1982', 2597: 'jackson', 2598: 'safety', 2599: '11th', 2600: 'americana', 2601: 'left', 2602: 'nancy', 2603: 'jerritts', 2604: 'hours', 2605: 'sauce', 2606: 'exits', 2607: 'deadline', 2608: 'quipped', 2609: 'acre', 2610: 'wu', 2611: 'articles', 2612: 'father-in-law', 2613: 'maturing', 2614: 'separately', 2615: 'else', 2616: 'according', 2617: '180', 2618: 'klein', 2619: 'whirling', 2620: '105', 2621: 'hint', 2622: 'matters', 2623: 'obvious', 2624: 'cool', 2625: 'export-oriented', 2626: 'argument', 2627: 'vary', 2628: 'requiring', 2629: 'restriction', 2630: 'boston', 2631: \"'40s\", 2632: 'debut', 2633: 'congress', 2634: 'crude', 2635: 'explanatory', 2636: 'non-biodegradable', 2637: 'le', 2638: 'tags', 2639: 'resisting', 2640: 'behest', 2641: 'blocks', 2642: 'peng', 2643: 'vintage', 2644: 'foster', 2645: 'steadily', 2646: 'producing', 2647: 'nicholas', 2648: 'rationed', 2649: 'publishing', 2650: 'fatalities', 2651: 'panama', 2652: 'baton', 2653: 'materials', 2654: 'hold', 2655: 'hard-charging', 2656: 'payouts', 2657: 'crash', 2658: 'graphs', 2659: 'confronted', 2660: 'depend', 2661: 'amount', 2662: 'guards', 2663: 'donaldson', 2664: 'go', 2665: 'turkey', 2666: 'worked', 2667: '64', 2668: 'providers', 2669: 'glass', 2670: '23.5', 2671: 'b.', 2672: 'mid-1970s', 2673: 'unchanged', 2674: 'principle', 2675: '16', 2676: 'tariff', 2677: 'played', 2678: 'dean', 2679: 'relating', 2680: 'connection', 2681: 'bottle', 2682: 'groups', 2683: '50.45', 2684: 'glenham', 2685: '64-year-old', 2686: '278.7', 2687: 'us$', 2688: 'answer', 2689: 'herrington', 2690: 'taxpayers', 2691: 'midtown', 2692: 'univest', 2693: 'best-selling', 2694: 'producer', 2695: 'aims', 2696: '25,000', 2697: 'profits', 2698: 'determined', 2699: 'judicial', 2700: 'easy', 2701: 'timely', 2702: 'adapted', 2703: 'mininum-wage', 2704: 'greenwich', 2705: 'scenario', 2706: 'wrists', 2707: 'zenith', 2708: 'tip', 2709: 'targeted', 2710: '2.44', 2711: 'dozens', 2712: 'soon', 2713: 'exchanging', 2714: 'cited', 2715: 'bottles', 2716: 'whereby', 2717: 'i.', 2718: 'shipments', 2719: 'publish', 2720: 'domination', 2721: 'half-hour', 2722: 'pride', 2723: 'now', 2724: 'competitor', 2725: 'wrote', 2726: 'properties', 2727: 'minister', 2728: 'discovered', 2729: 'retail', 2730: 'shake', 2731: 'passers-by', 2732: 'wife', 2733: 'enviable', 2734: 'suburban', 2735: 'abroad', 2736: 'literacy', 2737: 'tumultuous', 2738: 'primarily', 2739: 'unfettered', 2740: 'melamed', 2741: 'asserting', 2742: 'classroom', 2743: 'directing', 2744: 'ringing', 2745: '534', 2746: 'pet', 2747: 'matches', 2748: 'lessen', 2749: 'pickens', 2750: 'guffey', 2751: '15-day', 2752: 'eliminated', 2753: 'vertically', 2754: 'flow', 2755: 'match', 2756: 'bank', 2757: 'perceives', 2758: 'signboards', 2759: 'run-down', 2760: 'creating', 2761: 'transition', 2762: 'adults', 2763: 'betterment', 2764: 'losses', 2765: 'attending', 2766: 'elimination', 2767: 'outside', 2768: 'finished', 2769: 'wage', 2770: '--', 2771: 'haul', 2772: 'foods', 2773: 'rape', 2774: 'enormously', 2775: 'pop', 2776: 'low-priced', 2777: 'secret', 2778: 'eases', 2779: 'silicon', 2780: 'industrial-production', 2781: 'concessions', 2782: 'chilver', 2783: 'november', 2784: 'fuji', 2785: '900', 2786: 'neither', 2787: 'ariail', 2788: 'total', 2789: 'department', 2790: 'weird', 2791: 'aim', 2792: 'sector', 2793: 'businessmen', 2794: 'george', 2795: 'bell-ringing', 2796: 'transplant', 2797: 'ichiro', 2798: 'futures-related', 2799: 'hand', 2800: 'six-bottle', 2801: 'sidestep', 2802: 'deane', 2803: 'majority', 2804: 'controlled', 2805: 'octogenarians', 2806: 'faultlessly', 2807: 'ogilvy', 2808: 'effective', 2809: 'people', 2810: 'relatively', 2811: 'assault', 2812: 'no-smoking', 2813: 'practical', 2814: 'resilient', 2815: 'moderated', 2816: '14-hour', 2817: '94', 2818: 'malaysia', 2819: 'recession', 2820: '1970s', 2821: 'definitive', 2822: 'circulation', 2823: 'exhibition', 2824: 'glenn', 2825: '1', 2826: 'dressed', 2827: 'shot', 2828: 'arrest', 2829: '145', 2830: 'reporting', 2831: 'sharedata', 2832: 'communists', 2833: 'cellar', 2834: 'debate', 2835: 'must', 2836: 'inventories', 2837: 'director', 2838: 'superimposed', 2839: 'female', 2840: 'a.c.', 2841: 'hearing', 2842: 'devoted', 2843: 'earliest', 2844: 'wilder', 2845: 'preston', 2846: '12-point', 2847: 'suffering', 2848: 'taizo', 2849: '69', 2850: 'merely', 2851: 'car', 2852: 'scandinavian', 2853: 'comfortable', 2854: 'killeen', 2855: 'individuals', 2856: 'invented', 2857: 'md.', 2858: 'certified', 2859: 'bars', 2860: 'mo.', 2861: 'given', 2862: 'atlanta-based', 2863: 'crippled', 2864: 'going', 2865: 'london-based', 2866: 'campbell', 2867: 'media', 2868: \"'86\", 2869: 'cristal', 2870: 'pardus', 2871: 'municipalities', 2872: 'prater', 2873: 'warrenton', 2874: 'approximately', 2875: 'underprivileged', 2876: 'rebuked', 2877: 'compliance', 2878: 'brian', 2879: 'youths', 2880: 'joining', 2881: 'blancs', 2882: 'urging', 2883: 'dirty', 2884: 'globally', 2885: '120,000', 2886: 'crisis', 2887: 'shrug', 2888: 'length', 2889: 'slowly', 2890: 'accidents', 2891: 'praised', 2892: '2.87', 2893: 'francisco', 2894: 'views', 2895: 'time', 2896: 'government', 2897: 'aggressive', 2898: 'physics', 2899: 'cycles', 2900: 'clobbered', 2901: 'times-stock', 2902: '18-year-old', 2903: 'architectural', 2904: 'editorial', 2905: '5', 2906: 'colorado', 2907: 'income', 2908: 'stature', 2909: 'e.', 2910: 'learned', 2911: 'miguel', 2912: 'connections', 2913: 'sagging', 2914: 'bermuda-based', 2915: 'institutes', 2916: 'negative', 2917: 'receives', 2918: '3', 2919: 'banque', 2920: 'imposing', 2921: 'vichy', 2922: 'raises', 2923: 'boarding', 2924: 'badly', 2925: '1.8415', 2926: 'rose', 2927: 'enormous', 2928: 'tissue-transplant', 2929: 'dollar', 2930: 'lynch', 2931: '...', 2932: 'satisfaction', 2933: '-lcb-', 2934: 'corporations', 2935: 'catch-up', 2936: 'ed', 2937: 'dinner', 2938: 'chosen', 2939: 'florida', 2940: 'trade', 2941: 'case', 2942: 'merger', 2943: '100-share', 2944: 'jaguar', 2945: 'averaged', 2946: 'arrival', 2947: 'monetary', 2948: 'short', 2949: 'randolph', 2950: 'producers', 2951: 'downfall', 2952: 'upward', 2953: 'actually', 2954: 'truth', 2955: 'drawing', 2956: 'continues', 2957: 'apply', 2958: 'recipient', 2959: 'stable', 2960: 'analyst', 2961: 'enthusiasm', 2962: 'accidentally', 2963: 'difference', 2964: 'enclosed', 2965: '3:15', 2966: 'wine-buying', 2967: 'hoped', 2968: 'magna', 2969: 'w.', 2970: 'good-hearted', 2971: 'nine-member', 2972: 'proponents', 2973: 'fundraising', 2974: 'stung', 2975: 'cat', 2976: 'inferences', 2977: '449.04', 2978: 'enforce', 2979: 'floor', 2980: 'custom-chip', 2981: 'advocates', 2982: 'merchant', 2983: 'exchange', 2984: 'dreamt', 2985: 'beth', 2986: 'complaining', 2987: 'leader', 2988: 'goods', 2989: 'attack', 2990: 'gaithersburg', 2991: 'sparking', 2992: 'exception', 2993: 'known', 2994: 'sheep', 2995: 'harms', 2996: 'milk', 2997: 'hospitals', 2998: 'widespread', 2999: 'examples', 3000: '13.8', 3001: 'let', 3002: 'moore', 3003: 'folks', 3004: 'computerized', 3005: 'woodward', 3006: 'consulting', 3007: '48', 3008: 'combines', 3009: 'news', 3010: 'grandsire', 3011: 'drink', 3012: 'framework', 3013: 'moves', 3014: 'bankroll', 3015: '0.3', 3016: 'wilbur', 3017: 'refreshing', 3018: 'complete', 3019: 'faint', 3020: 'entered', 3021: 'chuck', 3022: 'disappointed', 3023: 'rebellion', 3024: 'identities', 3025: 'sherwood', 3026: 'compound', 3027: 'able', 3028: '350,000', 3029: 'feudal', 3030: 'ghs', 3031: 'unethical', 3032: '30,841', 3033: 'economics', 3034: 'pit', 3035: 'went', 3036: 'mary', 3037: 'announcer', 3038: 'winter', 3039: 'treasury', 3040: 'solicitous', 3041: 'low-ability', 3042: 'johnny', 3043: 'society', 3044: 'load', 3045: '1990', 3046: 'failure', 3047: 'would-be', 3048: 'church-goers', 3049: 'coaching', 3050: 'kidnapper', 3051: 'synchronized', 3052: 'solemn', 3053: 'stevens', 3054: 'crack', 3055: 'policies', 3056: '11.6', 3057: 'decrease', 3058: 'milestones', 3059: '191.9', 3060: 'o.', 3061: 'zoomed', 3062: 'grew', 3063: 'nonresidential', 3064: 'ambitious', 3065: 'motives', 3066: 'effectively', 3067: 'boeing', 3068: 'english', 3069: 'refile', 3070: 'researchers', 3071: 'comparable', 3072: 'nine', 3073: 'monticello', 3074: 'establishing', 3075: 'deny', 3076: 'descending', 3077: 'oct.', 3078: 'beatles', 3079: 'cosmopolitan', 3080: 'done', 3081: 'informally', 3082: 'table', 3083: 'luce', 3084: 'advice', 3085: 'conversations', 3086: 'controversial', 3087: 'door', 3088: 'council', 3089: 'economist', 3090: 'driving', 3091: 'official', 3092: '963', 3093: 'regimented', 3094: 'setting', 3095: 'walk', 3096: 'choose', 3097: 'change-ringing', 3098: 're-thought', 3099: 'cry', 3100: 'steady', 3101: 'exists', 3102: '992,000', 3103: 'while', 3104: 'encourages', 3105: 'endorsed', 3106: 'per', 3107: 'handful', 3108: 'war-damaged', 3109: 'where', 3110: 'two-year-old', 3111: 'succeed', 3112: 'recommendations', 3113: 'scrambling', 3114: 'n.y.', 3115: 'chain', 3116: 'massachusetts', 3117: 'viewpoints', 3118: 'hiroshi', 3119: 'consumers', 3120: 'base', 3121: 'outstanding', 3122: '370', 3123: 'coal', 3124: 'cultivated', 3125: 'order', 3126: 'suffered', 3127: 'seek', 3128: 'mirror', 3129: 'occur', 3130: 'wadsworth', 3131: 'spurns', 3132: 'rapidly', 3133: 'diminish', 3134: 'free-lance', 3135: 'sources', 3136: 'sebastian', 3137: 'discounts', 3138: 'most', 3139: 'herself', 3140: 'monster', 3141: 'fill', 3142: 'sew', 3143: 'multibillion-dollar', 3144: 'bar', 3145: 'morbidity', 3146: 'electricity', 3147: 'reopened', 3148: 'released', 3149: '?', 3150: 'settled', 3151: 'spring', 3152: 'eaton', 3153: 'daniel', 3154: 'endless', 3155: 'rally', 3156: 'summary', 3157: 'retentive', 3158: 'alzheimer', 3159: 'n.j.-based', 3160: '644', 3161: 'midnight', 3162: 'making', 3163: 'single-family', 3164: 'necessarily', 3165: 'newly', 3166: 'diplomats', 3167: 'rosenblum', 3168: 'suspensions', 3169: 'platitudes', 3170: '1,000', 3171: 'book', 3172: 'arising', 3173: 'curriculum', 3174: 'program', 3175: 'portugal', 3176: 'co-chairman', 3177: 'focus', 3178: '5.4', 3179: 'philadelphia-based', 3180: 'institute', 3181: 'seeks', 3182: 'cabs', 3183: 'erbamont', 3184: 'norwest', 3185: 'prescient', 3186: 'conditions', 3187: 'paying', 3188: 'evident', 3189: 'thailand', 3190: 'topics', 3191: 'acne', 3192: 'aware', 3193: 'panic', 3194: 'scale', 3195: 'impart', 3196: 'fueling', 3197: 'lowering', 3198: 'iras', 3199: 'nominated', 3200: 'older', 3201: 'whether', 3202: 'peaceful', 3203: 'obtaining', 3204: 'better', 3205: 'segments', 3206: 'arrangement', 3207: 'enrollment', 3208: 'worth', 3209: 'her', 3210: 'martin', 3211: 'underline', 3212: 'obtain', 3213: 'debts', 3214: 'depositary', 3215: 'geometrical', 3216: 'note', 3217: 'speculate', 3218: 'cents', 3219: 'longevity', 3220: 'straight', 3221: 'trustco', 3222: 'madison', 3223: 'pathlogy', 3224: 'find', 3225: 'secondary', 3226: 'stage', 3227: 'deserve', 3228: 'bolster', 3229: 'permit', 3230: 'school-district', 3231: 'freshman', 3232: 'incurred', 3233: 'review', 3234: 'implies', 3235: 'spokeswoman', 3236: 'balanced', 3237: '38', 3238: 'sweeping', 3239: 'depressed', 3240: 'dreamed', 3241: 'dams', 3242: 'first', 3243: 'credits', 3244: 'achieve', 3245: 'employee', 3246: 'mont', 3247: 'males', 3248: '2.80', 3249: 'chunk', 3250: 'altogether', 3251: 'outright', 3252: 'imbalances', 3253: 'diplomatic', 3254: 'january', 3255: 'high-rate', 3256: 'eight-month', 3257: 'minn.', 3258: 'claim', 3259: 'strict', 3260: 'dark', 3261: 'rubber', 3262: 'meeting', 3263: 'romance', 3264: 'built', 3265: 'scoring', 3266: 'de', 3267: 'sufficiency', 3268: 'tiphook', 3269: 'unavailability', 3270: 'henry', 3271: 'duties', 3272: 'taxable', 3273: 'sandifer', 3274: 'explain', 3275: 'unsuccessfully', 3276: 'cent', 3277: 'operate', 3278: 'replaced', 3279: 'likelihood', 3280: 'call', 3281: 'onslaught', 3282: 'unfounded', 3283: '21', 3284: 'underlying', 3285: 'hill', 3286: 'improbable', 3287: 'suppression', 3288: 'mitsui', 3289: 'ailes', 3290: 'bonus', 3291: 'cross', 3292: 'scientists', 3293: 'pour', 3294: 'flag', 3295: 'aggravated', 3296: 'materialize', 3297: 'newsweekly', 3298: 'deadwood', 3299: 'prevailing', 3300: '176', 3301: 'part', 3302: 'enact', 3303: 'underscore', 3304: 'offices', 3305: 'publishers', 3306: 'rev.', 3307: 'breeden', 3308: 'actor', 3309: 'emerge', 3310: 'divided', 3311: 'magnitude', 3312: 'improvements', 3313: 'karl', 3314: 'constitution', 3315: 'computing', 3316: 'pattern', 3317: 'halls', 3318: 'aid', 3319: 'join', 3320: 'travelers', 3321: 'single-digit', 3322: 'tracked', 3323: 'coupled', 3324: 'seoul', 3325: 'deficit', 3326: 'cut', 3327: 'roughhewn', 3328: 'power', 3329: 'ibm', 3330: '90-day', 3331: 'attractions', 3332: 'poignant', 3333: 'tour', 3334: 'katzenstein', 3335: 'ideas', 3336: 'drawn', 3337: 'programs', 3338: 'nervousness', 3339: 'completed', 3340: 'picket', 3341: 'broader', 3342: 'sensitivity', 3343: 'undertone', 3344: '30', 3345: 'air', 3346: 'possibly', 3347: '10.5', 3348: 'pont', 3349: 'intent', 3350: 'overhead', 3351: 'december', 3352: 'essentially', 3353: 'settlement', 3354: 'route', 3355: 'behemoth', 3356: 'simple', 3357: 'annual', 3358: 'iran\\\\/contra', 3359: 'bunny', 3360: 'lighthouse', 3361: 'accommodate', 3362: 'food', 3363: 'editions', 3364: 'shortly', 3365: 'hostage', 3366: 'virginia', 3367: 'theory', 3368: 'priority', 3369: 'embassy', 3370: 'industrials', 3371: '415.6', 3372: 'lap', 3373: 'tough', 3374: 'disk', 3375: 'mesothelioma', 3376: 'graders', 3377: 'sub-markets', 3378: 'clues', 3379: 'apiece', 3380: 'compensate', 3381: '8.56', 3382: 'minneapolis-based', 3383: 'contacts', 3384: '40,000', 3385: 'astronomical', 3386: 'seminar', 3387: 'around', 3388: 'playing', 3389: 'moved', 3390: 'quantities', 3391: 'enhanced', 3392: 'industries', 3393: 'directly', 3394: 'sassy', 3395: 'million', 3396: 'furor', 3397: 'penny', 3398: 'piracy', 3399: 'disappears', 3400: 'lsi', 3401: 'war', 3402: 'february', 3403: 'suspension', 3404: 'wines', 3405: 'expedited', 3406: 'whole', 3407: 'proceeds', 3408: 'well-known', 3409: 'brokerage', 3410: 'avenue', 3411: 'binders', 3412: '130.7', 3413: 'seats', 3414: '37.5', 3415: 'sight', 3416: 'a.d.', 3417: 'removed', 3418: 'difficult', 3419: 'solaia', 3420: 'ensembles', 3421: 'hard-hitting', 3422: '.', 3423: 'superpremiums', 3424: 'retailer', 3425: 'study', 3426: 'standing', 3427: 'required', 3428: 'regions', 3429: 'firings', 3430: '20-point', 3431: 'packed', 3432: 'sooner', 3433: 'feel', 3434: 'unmarked', 3435: 'accelerated', 3436: 'affiliates', 3437: 'run', 3438: 'shipped', 3439: 'studies', 3440: 'significant', 3441: 'narrowly', 3442: 'tasty', 3443: 'leasing', 3444: 'eastern', 3445: 'docile', 3446: 'consideration', 3447: 'bulk', 3448: 'prostitute', 3449: 'turn', 3450: '1.01', 3451: 'gillespie', 3452: 'addresses', 3453: 'co.', 3454: 'stock-manipulation', 3455: 'joys', 3456: '1.8', 3457: 'commitment', 3458: 'curry', 3459: '2.3', 3460: 'swap', 3461: '11', 3462: 'environment', 3463: '1993', 3464: '17.95', 3465: 'scotia', 3466: 'ends', 3467: 'created', 3468: 'ushered', 3469: 'reformers', 3470: 'name', 3471: '1.5755', 3472: 'crime', 3473: 'spillane', 3474: 'dr.', 3475: 'dogs', 3476: 'cult', 3477: 'remains', 3478: 'richebourg', 3479: 'visible', 3480: 'carrying', 3481: 'associate', 3482: 'rhetoric', 3483: 'less-serious', 3484: 'develops', 3485: 'petition', 3486: 'drift', 3487: 'exclusively', 3488: 'graduate', 3489: 'page-one', 3490: 'europe', 3491: 'light-truck', 3492: '3.1', 3493: 'goody', 3494: 'discussions', 3495: 'preparation', 3496: 'stockholm', 3497: 'based', 3498: 'denominator', 3499: 'auctions', 3500: 'netherlands', 3501: '65', 3502: 'classifications', 3503: 'polish', 3504: 'corruption', 3505: 'state-supervised', 3506: 'near', 3507: 'highest-pitched', 3508: 'publisher', 3509: 'resistant', 3510: 'nations', 3511: 'miss.', 3512: 'attractive', 3513: 'had', 3514: 'discount', 3515: 'ambitions', 3516: 'fond', 3517: 'influence', 3518: 'carbide', 3519: 'sdi', 3520: 'carson', 3521: 'seniors', 3522: 'premiere', 3523: 'tender', 3524: 'pioneer', 3525: 'moons', 3526: 'copycats', 3527: 'questionable', 3528: 'audience', 3529: 'rewarding', 3530: 'tenth', 3531: 'huppert', 3532: 'close-up', 3533: 'one-year', 3534: 'pitney', 3535: 'lighter', 3536: 'dividends', 3537: 'acted', 3538: 'changes', 3539: 'fat', 3540: 'big', 3541: 'heights', 3542: 'symbol', 3543: \"'s\", 3544: '30-minute', 3545: 'partner', 3546: 'concerned', 3547: 'scoop', 3548: 'gauging', 3549: '190', 3550: 'alexander', 3551: 'limited-partnership', 3552: 'such', 3553: 'marty', 3554: 'disputed', 3555: 'loyalty', 3556: 'treated', 3557: 'surviving', 3558: 'memories', 3559: 'hurdles', 3560: 'darrell', 3561: 'shape', 3562: 'crane', 3563: 'superiors', 3564: 'trademark', 3565: 'prosecutors', 3566: 'memorize', 3567: 'drinks', 3568: 'traded', 3569: '245', 3570: 'rentals', 3571: 'think', 3572: 'emergencies', 3573: '570', 3574: 'testing', 3575: 'horsham', 3576: 'childish', 3577: 'grant', 3578: 'replete', 3579: 'fourth', 3580: 'promotional', 3581: 'reviewed', 3582: 'possessions', 3583: 'planners', 3584: '27', 3585: 'direction', 3586: 'brooke', 3587: '24', 3588: 'branch', 3589: 'fractionally', 3590: 'giants', 3591: 'banning', 3592: 'american-style', 3593: '37-a-share', 3594: 'value', 3595: 'careers', 3596: 'notion', 3597: 'high-technology', 3598: 'turns', 3599: 'many', 3600: 'sharply', 3601: 'wound', 3602: 'exit', 3603: 'counterrevolutionary', 3604: '!', 3605: 'session', 3606: 'passport', 3607: 'mostly', 3608: '1992', 3609: 'gloomy', 3610: 'automation', 3611: '1929', 3612: 'fully', 3613: 'plate', 3614: 'universities', 3615: 'social', 3616: 'workbooks', 3617: 'exclusive', 3618: 'finding', 3619: 'blue', 3620: 'label', 3621: 'feeling', 3622: 'numerous', 3623: 'modern', 3624: 'needing', 3625: 'trust', 3626: 'trained', 3627: 'defined', 3628: 'justifying', 3629: 'mona', 3630: 'bridgeville', 3631: 'cadet', 3632: 'nih-appointed', 3633: 'young', 3634: 'sweet', 3635: 'experts', 3636: 'iii', 3637: 'buy-back', 3638: '1965', 3639: 'distorted', 3640: 'wears', 3641: 'mind-boggling', 3642: 'low-cost', 3643: 'refocusing', 3644: 'wheeland', 3645: 'patent', 3646: 'jeopardizing', 3647: 'money', 3648: 'morale', 3649: 'consumption', 3650: 'cities', 3651: 'refused', 3652: 'laws', 3653: 'marie-louise', 3654: 'vega', 3655: 'imports', 3656: 'unsettled', 3657: 'operator', 3658: 'overtime', 3659: 'pieces', 3660: 'packages', 3661: 'stunned', 3662: 'permitted', 3663: 'hollingsworth', 3664: 'music', 3665: 'ann', 3666: 'agriculture', 3667: 'brazil', 3668: 'galling', 3669: 'boulder', 3670: '43', 3671: 'comfort', 3672: '4.75', 3673: 'elections', 3674: 'dreyfus', 3675: 'prevent', 3676: 'hopefully', 3677: 'rail', 3678: 'work', 3679: 'pap', 3680: 'poor', 3681: 'unclear', 3682: 'yamamoto', 3683: 'sum', 3684: 'spectacularly', 3685: 'longwood', 3686: 'excise', 3687: 'cop-killer', 3688: 'police', 3689: 'messrs.', 3690: 'sell-offs', 3691: 'promise', 3692: 'mortgage-backed', 3693: \"'re\", 3694: 'benchmark', 3695: 'takeover', 3696: '51', 3697: 'overpriced', 3698: 'focused', 3699: 'circuit-breaker', 3700: 'liberals', 3701: 'mae', 3702: 'fired', 3703: '23', 3704: 'unfairly', 3705: 'self-aggrandizing', 3706: 'begot', 3707: 'statewide', 3708: 'symmetry', 3709: 'skills', 3710: 'focusing', 3711: 'impact', 3712: 'irs', 3713: 'wealthy', 3714: 'sierra', 3715: 'win', 3716: 'bearish', 3717: '1988', 3718: 'convenient', 3719: 'pub', 3720: 'seahorse', 3721: 'expanding', 3722: 'runs', 3723: 'occurred', 3724: 'one-week', 3725: 'dreadful', 3726: 'peculiar', 3727: 'institutional', 3728: 'adjusting', 3729: '37-year-old', 3730: 'thai', 3731: 'sport-utility', 3732: 'level', 3733: 'cascading', 3734: 'ministers', 3735: 'maze', 3736: 'signs', 3737: 'ignoring', 3738: 'stanley', 3739: 'challenge', 3740: 'treats', 3741: 'mass', 3742: 'helm', 3743: 'kuala', 3744: 'advocate', 3745: 'sept.', 3746: 'auction', 3747: '1\\\\/2', 3748: 'newsworthy', 3749: 'joins', 3750: 'service', 3751: 'initially', 3752: 'rancor', 3753: 'inauspicious', 3754: 'tell', 3755: 'argue', 3756: 'quarter', 3757: 'showing', 3758: 'clarified', 3759: 'banker', 3760: 'continental', 3761: 'state-owned', 3762: 'columbia', 3763: 'educators', 3764: 'amending', 3765: 'cheat', 3766: 'employed', 3767: 'sony', 3768: 'sounding', 3769: 'bidders', 3770: 'land', 3771: '101', 3772: 'municipal', 3773: 'virgin', 3774: 'envoy', 3775: 'saudi', 3776: '9.625', 3777: 'moratorium', 3778: 'wood', 3779: 'traced', 3780: 'disclosure', 3781: 'continuing', 3782: 'psychiatrist', 3783: 'raced', 3784: 'lung', 3785: 'leaving', 3786: 'operates', 3787: 'turnaround', 3788: 'real', 3789: 'benefits', 3790: 'alleged', 3791: 'wozniak', 3792: 'computer-aided', 3793: 'cases', 3794: 'negotiate', 3795: 'busloads', 3796: 'hay', 3797: 'rankings', 3798: 'line', 3799: '29.9', 3800: 'coleman', 3801: 'strains', 3802: 'grange', 3803: 'subjects', 3804: '1:30', 3805: 'confuse', 3806: 'nearly', 3807: 'threats', 3808: 'print', 3809: 'deposits', 3810: 'men', 3811: 'motor', 3812: 'globe', 3813: 'york', 3814: 'equivalent', 3815: 'laid', 3816: 'included', 3817: 'collected', 3818: 'colonsville', 3819: 'towns', 3820: 'heatherington', 3821: 'redeem', 3822: 'than', 3823: 'minivans', 3824: 'when-issued', 3825: 'executed', 3826: 'dell', 3827: 'dramatic', 3828: 'twin-jet', 3829: '858,000', 3830: 'zayed', 3831: 'thrift', 3832: 'sulaiman', 3833: 'deceptive', 3834: 'september', 3835: 'r', 3836: 'issue', 3837: 'philadelphia', 3838: 'international', 3839: 'clouds', 3840: 'ground', 3841: 'detail', 3842: 'process', 3843: 'but', 3844: 'rubinfien', 3845: 'judge', 3846: 'sidewalk', 3847: '76', 3848: 'pta', 3849: 'spiders', 3850: '917', 3851: '1970', 3852: 'denied', 3853: 'bankers', 3854: '1.457', 3855: 'hired', 3856: 'since', 3857: 'zaharah', 3858: 'australia', 3859: 'agnew', 3860: 'mehrens', 3861: 'homework', 3862: 'marketing-communications', 3863: 'second', 3864: 'damage', 3865: 'complicated', 3866: 'boosted', 3867: 'series', 3868: 'identify', 3869: 'consumer-driven', 3870: 'top-level', 3871: 'youth', 3872: 'professor', 3873: 'degrees', 3874: 'rendering', 3875: 'isabelle', 3876: 'managers', 3877: 'moscow', 3878: 'shadows', 3879: 'gallium', 3880: 'priciest', 3881: 'contractor', 3882: 'risks', 3883: 'rowe', 3884: 'offend', 3885: 'rate-sensitive', 3886: 'fuel', 3887: 'roukema', 3888: 'contains', 3889: 'decide', 3890: 'over', 3891: 'ascribe', 3892: 'regarded', 3893: 'gain', 3894: 'mistakes', 3895: 'junk-bond', 3896: 'speculated', 3897: 'greer', 3898: 'lawyer', 3899: 'relative', 3900: 'angered', 3901: 'relegated', 3902: 'j.p.', 3903: 'distribution', 3904: 'chairman', 3905: 'foundations', 3906: 'explosion', 3907: 'diabetes', 3908: 'video-viewing', 3909: 'low-tech', 3910: 'critical', 3911: 'help', 3912: 'working', 3913: 'some', 3914: 'rewards', 3915: 'profit', 3916: 'phrase', 3917: 'marie', 3918: 'styles', 3919: 'england', 3920: 'happier', 3921: 'narcotics', 3922: 'warn', 3923: 'marketer', 3924: 'disagree', 3925: 'senior', 3926: 'letter', 3927: 'shows', 3928: 'thing', 3929: 'chrysler', 3930: 'sending', 3931: 'bellringers', 3932: 'affair', 3933: 'an', 3934: '2.95', 3935: 'kerensky', 3936: 'claiming', 3937: 'eugene', 3938: 'adopted', 3939: 'rolling', 3940: 'circuit', 3941: 'homosexual', 3942: 'paid', 3943: 'heavily', 3944: 'mcalpine', 3945: 'vendors', 3946: 'waif', 3947: 'felony', 3948: 'sure', 3949: 'fields', 3950: 'u.s.-japanese', 3951: 'gave', 3952: 'blackstone', 3953: 'emerges', 3954: 'disproportionate', 3955: 'substantially', 3956: 'kelli', 3957: 'judges', 3958: 'harvard', 3959: 'dow', 3960: 'became', 3961: 'fortune', 3962: '1981', 3963: 'telecommunications', 3964: 'theaters', 3965: 'sorry', 3966: 'asking', 3967: '140', 3968: 'variation', 3969: 'intensity', 3970: 'insiders', 3971: 'worried', 3972: 'without', 3973: '5\\\\/8', 3974: 'releases', 3975: 'ethics', 3976: 'courter', 3977: 'bout', 3978: 'witnesses', 3979: 'f-series', 3980: 'bowed', 3981: 'chapter', 3982: 'come', 3983: 'forcing', 3984: 'fred', 3985: 'portfolios', 3986: 'membership', 3987: 'crowded', 3988: 'highly', 3989: 'flat', 3990: 'constituent', 3991: 'telephone-information', 3992: 'chicago-style', 3993: 'astonishment', 3994: 'diming', 3995: 'fawning', 3996: 'peak', 3997: 'ballplayers', 3998: 'recede', 3999: 'microwave', 4000: 'collecting', 4001: 'frank', 4002: 'allow', 4003: 'knowns', 4004: '280', 4005: 'chastised', 4006: 'jail', 4007: 'ill', 4008: 'malignant', 4009: 'sensation', 4010: 'regrettable', 4011: 'applied', 4012: 'market', 4013: 'muscolina', 4014: 'commenting', 4015: 'timex', 4016: 'pittsburgh', 4017: \"o'connor\", 4018: 'clinton', 4019: 'evolution', 4020: 'off', 4021: 'albany', 4022: 'japan', 4023: 'double', 4024: 'mulford', 4025: 'hormats', 4026: 'look', 4027: 'facility', 4028: '550,000', 4029: '100,980', 4030: 'rapid', 4031: 'drifted', 4032: 'disputes', 4033: 'billions', 4034: 'teaching', 4035: 'trillion', 4036: 'express', 4037: 's.', 4038: 'depended', 4039: 'possible', 4040: 'northampton', 4041: 'conventional', 4042: 'fight', 4043: 'highest', 4044: 'desired', 4045: 'budget', 4046: 'magicians', 4047: 'gotten', 4048: 'deals', 4049: 'distributor', 4050: 'indirect', 4051: 'viewpoint', 4052: 'forces', 4053: 'caution', 4054: 'interest', 4055: 'filter', 4056: 'prospect', 4057: 'rapprochement', 4058: 'handling', 4059: 'funding', 4060: 'productions', 4061: 'goldman', 4062: 'permitting', 4063: 'wall', 4064: 'adrs', 4065: 'expenses', 4066: 'cyclical', 4067: 'dutch', 4068: 'beginning', 4069: 'reds', 4070: 'running', 4071: 'alienated', 4072: 'plus', 4073: 'computers', 4074: 'perpetuates', 4075: 'saying', 4076: 'vicar', 4077: 'fabricator', 4078: 'headquarters', 4079: 'anywhere', 4080: 'sacks', 4081: 'head', 4082: 'high', 4083: 'citizen', 4084: 'prompted', 4085: 'never', 4086: 'remarked', 4087: 'springs', 4088: 'degenerative', 4089: 'asians', 4090: 'its', 4091: 'sheepskin', 4092: 'target', 4093: 'timing', 4094: 'georgetown', 4095: 'category', 4096: 'battles', 4097: '179', 4098: 'negus', 4099: 'built-from-kit', 4100: 'mainframe', 4101: 'jones', 4102: 'execute', 4103: 'future', 4104: 'contributed', 4105: '4.898', 4106: 'unstinting', 4107: 'great', 4108: 'however', 4109: 'technology', 4110: 'convey', 4111: 'movies', 4112: 'waste', 4113: 'gone', 4114: 'trockenbeerenauslesen', 4115: 'saw', 4116: 'erudite', 4117: 'formerly', 4118: '26', 4119: 'd.c.', 4120: 'saving', 4121: 'ntg', 4122: 'miami', 4123: 'addition', 4124: 'harold', 4125: 'russel', 4126: '1953', 4127: 'levels', 4128: 'carla', 4129: 'brunello', 4130: 'technique', 4131: 'maker', 4132: 'introduction', 4133: 'written', 4134: 'la', 4135: 'mcfall', 4136: 'spoke', 4137: 'ranieri', 4138: 'knight', 4139: '3,500', 4140: 'wrenching', 4141: 'rozell', 4142: 'ga.', 4143: 'period', 4144: 'get', 4145: 'competitive', 4146: 'kansas', 4147: 'regret', 4148: 'outraged', 4149: 'popular', 4150: 'meet', 4151: 'sections', 4152: 'interventions', 4153: 'apologize', 4154: 'provision', 4155: '13.73', 4156: 'grader', 4157: 'investments', 4158: 'computer', 4159: 'links', 4160: 'lock', 4161: 'pickups', 4162: 'killings', 4163: 'accrued', 4164: 'thin', 4165: '777', 4166: 'guys', 4167: 'highway', 4168: 'hammond', 4169: 'referred', 4170: 'ceiling', 4171: 'training-wage', 4172: 'surge', 4173: 'legislative', 4174: 'block', 4175: 'joanne', 4176: 'ways', 4177: 'explains', 4178: 'elusive', 4179: '9.9', 4180: 'trial', 4181: 'advertised', 4182: 'criticism', 4183: 'overruns', 4184: 'rebound', 4185: '59', 4186: 'sonnett', 4187: 'asbestos-related', 4188: 'advantages', 4189: 'researcher', 4190: 'rouge', 4191: 'seemed', 4192: 'fellow', 4193: 'historic', 4194: 'diversifying', 4195: 'that', 4196: '195', 4197: 'gauge', 4198: 'outlook', 4199: 'liquid', 4200: 'chicago', 4201: 'pcs', 4202: '18.95', 4203: 'furious', 4204: 'dairy', 4205: 'satisfying', 4206: 'contribution', 4207: 'mid-1990s', 4208: 'brilliant', 4209: 'affordable', 4210: 'hegemony', 4211: 'herald', 4212: 'judged', 4213: 'word-processing', 4214: 'nature', 4215: 'five-inch', 4216: 'sheffield', 4217: 'welcome', 4218: 'argued', 4219: 'increase', 4220: 'amounts', 4221: 'overseas', 4222: 'campaigns', 4223: 'heard', 4224: 'automotive', 4225: 'library', 4226: 'nowhere', 4227: 'lot', 4228: 'arlington', 4229: '1933', 4230: 'instead', 4231: 'stigma', 4232: 'recession-inspired', 4233: 'chemicals', 4234: 'stalls', 4235: '273.5', 4236: 'fills', 4237: 'chauffeur', 4238: 'spiro', 4239: 'limited', 4240: 'buoyed', 4241: 'one-time', 4242: 'standards', 4243: 'kuvin', 4244: 'travel', 4245: 'is', 4246: 'five-day', 4247: 'nominal', 4248: 'electronics', 4249: 'peculiarities', 4250: 'encourage', 4251: 'alumni', 4252: 'decried', 4253: 'lowe', 4254: 'funded', 4255: 'though', 4256: 'elsewhere', 4257: 'diagnosed', 4258: 'bearing', 4259: 'unfair', 4260: '361,376', 4261: 'program-trading', 4262: 'hampshire', 4263: 'cues', 4264: 'desai', 4265: 'perceived', 4266: 'favor', 4267: 'tight', 4268: 'margins', 4269: 'legislation', 4270: 'reasons', 4271: 'whimsical', 4272: '32', 4273: 'texan', 4274: 'valuations', 4275: 'pamplin', 4276: 'thumbing', 4277: '1975', 4278: 'republican', 4279: 'georgia', 4280: 'insistence', 4281: 'detailed', 4282: 'inches', 4283: 'gained', 4284: 'stones', 4285: 'undersecretary', 4286: 'stairs', 4287: 'plenty', 4288: 'kean', 4289: 'semiconductors', 4290: 'assume', 4291: 'contrast', 4292: 'lyrics', 4293: 'summons', 4294: 'graduated', 4295: 'measures', 4296: 'movement', 4297: 'renee', 4298: 'mission', 4299: 'dumbfounded', 4300: 'chronicle', 4301: 'predicted', 4302: 'giving', 4303: 'brightest', 4304: 'feb.', 4305: 'bew', 4306: 'micronite', 4307: 'uptick', 4308: 'threat', 4309: 'banking', 4310: 'pharmaceuticals', 4311: 'district', 4312: 'stephens', 4313: 'registration', 4314: 'jerry', 4315: 'strength', 4316: 'designated', 4317: 'stop', 4318: 'agreeing', 4319: 'posts', 4320: 'books', 4321: 'jan.', 4322: 'centers', 4323: '-', 4324: 'tubes', 4325: 'thugs', 4326: 'evaluating', 4327: 'county', 4328: 'borge', 4329: 'prohibited', 4330: 'high-yield', 4331: 'damaged', 4332: 'inspired', 4333: 'electronic', 4334: 'weeks', 4335: 'holder', 4336: 'premier', 4337: 'catch', 4338: 'crews', 4339: 'prepared', 4340: 'asbestos', 4341: 'burned', 4342: 'gradual', 4343: 'there', 4344: 'pounds', 4345: 'new-home', 4346: 'suspect', 4347: 'wave', 4348: 'sharp', 4349: 'community', 4350: 'guns', 4351: 'multinationals', 4352: 'jenrette', 4353: 'canadian', 4354: 'backyard', 4355: 'treble', 4356: 'reduced', 4357: 'eat', 4358: 'stockholders', 4359: 'perceptions', 4360: 'cohesive', 4361: 'principals', 4362: 'huge', 4363: 'uncomplaining', 4364: 'acres', 4365: 'implications', 4366: 'lofty', 4367: 'erode', 4368: 'booming', 4369: 'victory', 4370: 'devon', 4371: 'increased', 4372: 'distasteful', 4373: 'rate', 4374: 'i', 4375: 'pay', 4376: 'recessionary', 4377: 'means', 4378: 'supercomputer', 4379: 'equipment', 4380: 'pocket', 4381: 'dodge', 4382: 'stupid', 4383: 'emigrate', 4384: 'gingl', 4385: 'thousands', 4386: 'desirable', 4387: 'results', 4388: 'weatherly', 4389: 'moment', 4390: 'bit', 4391: 'as', 4392: 'returning', 4393: 'audiocassettes', 4394: 'damn', 4395: 'initiated', 4396: '68', 4397: 'ordering', 4398: 'beneficiary', 4399: 'white-collar', 4400: 'blank', 4401: 'charts', 4402: 'generalized', 4403: 'deng', 4404: 'rules', 4405: 'shores', 4406: 'slid', 4407: 'significance', 4408: 'revive', 4409: '1986-87', 4410: 'holders', 4411: 'hawaiian', 4412: 'stopped', 4413: 'beige', 4414: 'fine', 4415: 'vacations', 4416: 'traditional', 4417: 'seems', 4418: 'confrontational', 4419: 'advertorial', 4420: 'chaired', 4421: 'improvement', 4422: 'imminent', 4423: 'renewed', 4424: 'registered', 4425: 'americans', 4426: 'campaigner', 4427: '25.50', 4428: 'permission', 4429: 'hangs', 4430: 'ok', 4431: 'explosive', 4432: 'lengthened', 4433: 'buildup', 4434: 'interrogated', 4435: 'staff', 4436: 'nonexecutive', 4437: 'conn.', 4438: 'salarymen', 4439: 'did', 4440: 'resolved', 4441: '225.6', 4442: 'frustrating', 4443: 'spoon', 4444: 'phelan', 4445: 'buy-out', 4446: 'bass', 4447: 'robotic', 4448: 'monchecourt', 4449: 'true', 4450: 'films', 4451: 'skyward', 4452: 'accusing', 4453: 'imported', 4454: '29', 4455: 'either', 4456: 'circulations', 4457: '14.6', 4458: 'one-day', 4459: 'entertain', 4460: 'f.h.', 4461: 'aurora', 4462: 'squier', 4463: 'dominating', 4464: 'licensing', 4465: '236.74', 4466: 'raise', 4467: 'doerflinger', 4468: 'refuge', 4469: 'resistance', 4470: 'confirmed', 4471: 'asia', 4472: 'retorts', 4473: 'index-options', 4474: 'have', 4475: 'acting', 4476: 'body', 4477: 'loss', 4478: 'dollar-yen', 4479: 'trs-80', 4480: 'switch', 4481: 'publishes', 4482: 'hid', 4483: 'dashes', 4484: 'r.i.', 4485: 'nasty', 4486: 'stockbroker', 4487: 'judiciary', 4488: 'editorials', 4489: 'politics', 4490: 'frederick', 4491: 'traverse', 4492: 'reform', 4493: 'subscribers', 4494: 'ariz.', 4495: 'combined', 4496: 'hills', 4497: 'developed', 4498: 'friday', 4499: 'officer', 4500: 'feared', 4501: 'loom', 4502: 'carried', 4503: 'adviser', 4504: 'scrutinizing', 4505: 'master', 4506: 'streets', 4507: 'afraid', 4508: 'lead', 4509: 'dick', 4510: 'conspicuous', 4511: 'demonstrators', 4512: 'entirely', 4513: 'attorney-client', 4514: 'rear', 4515: 'tuscany', 4516: 'swapped', 4517: 'amid', 4518: 'gop', 4519: 'w.d.', 4520: 'personally', 4521: 'yeargin', 4522: 'joy', 4523: 'hummerstone', 4524: 'clicked', 4525: 'does', 4526: 'founder', 4527: 'explained', 4528: 'bramalea', 4529: 'strait', 4530: 'minimum', 4531: 'described', 4532: 'contributions', 4533: '90', 4534: 'largely', 4535: 'buffet', 4536: 'opening', 4537: 'churches', 4538: 'ruling', 4539: 'everything', 4540: 'retaliating', 4541: 'co-developers', 4542: 'copyrights', 4543: 'lucky', 4544: 'pro-forma', 4545: 'draw', 4546: 'always', 4547: 'dawn', 4548: 'dollar-denominated', 4549: 'put', 4550: 'statistics', 4551: 'screenwriters', 4552: 'voters', 4553: 'flashy', 4554: 'assigned', 4555: 'flightiness', 4556: 'three-sevenths', 4557: 'osaka', 4558: 'recognition', 4559: 'sino-u.s.', 4560: '`', 4561: 'bonnell', 4562: 'elevators', 4563: 'appear', 4564: 'women', 4565: '8.75', 4566: 'bans', 4567: 'senate-house', 4568: 'haven', 4569: 'belts', 4570: 'composting', 4571: 'unusual', 4572: 'memphis', 4573: 'wells', 4574: 'fla.', 4575: 'six-packs', 4576: 'accused', 4577: 'flatulent', 4578: 'douglas', 4579: 'municipality', 4580: 'how', 4581: 'violated', 4582: 'supermarket', 4583: 'highlight', 4584: 'cosmetic', 4585: 'administrative', 4586: 'bangkok', 4587: 'failed', 4588: 'garbage', 4589: 'kawasaki', 4590: 'fast-food', 4591: 'carballo', 4592: 'rock', 4593: 'ailing', 4594: 'back', 4595: 'cardboard', 4596: 'sports', 4597: 'shoot', 4598: '1990s', 4599: 'chong-sik', 4600: 'chateau', 4601: 'fought', 4602: '7.3', 4603: 'patented', 4604: '12-member', 4605: 'haruki', 4606: 'ultimatum', 4607: 'month', 4608: 'altar', 4609: 'command', 4610: 'preventing', 4611: 'langner', 4612: 'opus', 4613: '200', 4614: 'slightly', 4615: 'hour', 4616: 'estimation', 4617: 'recommend', 4618: 'manager', 4619: '41', 4620: 'engaged', 4621: 'carlos', 4622: 'c$', 4623: 'bald-faced', 4624: 'self', 4625: 'wives', 4626: 'networks', 4627: 'rabia', 4628: 'relied', 4629: '4.1', 4630: 'roof', 4631: 'backe', 4632: 'unofficial', 4633: 'inaccurate', 4634: 'miti', 4635: 'innuendoes', 4636: 'exchanges', 4637: 'harder', 4638: 'representing', 4639: 'for', 4640: 'basically', 4641: 'seduce', 4642: 'stepping', 4643: 'lord', 4644: 'rudolph', 4645: 'quickly', 4646: 'phasing', 4647: '1.2', 4648: 'october', 4649: 'leap', 4650: 'hahn', 4651: '37', 4652: 'enjoying', 4653: 'emotions', 4654: '83.4', 4655: 'mistake', 4656: 'tuck', 4657: 'winiarski', 4658: 'users', 4659: 'violations', 4660: 'heart', 4661: 'valued', 4662: 'exciting', 4663: '0.25', 4664: 'region', 4665: 'acceleration', 4666: 'refitting', 4667: 'n.j.', 4668: 'jostle', 4669: 'speak', 4670: 'nielsen', 4671: 'braidwood', 4672: '225', 4673: 'transactions', 4674: 'enterprise', 4675: 'cranked', 4676: 'newgate', 4677: 'appliances', 4678: 'previously', 4679: 'came', 4680: 'maytag', 4681: 'obsessed', 4682: 'ensnarled', 4683: 'resort', 4684: '12,252', 4685: 'planned', 4686: 'crossed', 4687: 'exist', 4688: 'forest-products', 4689: 'comes', 4690: 'lobster', 4691: 'utilities', 4692: 'couples', 4693: 'japanese', 4694: 'treat', 4695: 'mayland', 4696: 'bricks', 4697: 'seven-year', 4698: 'beyond', 4699: 'nl', 4700: 'foundering', 4701: 'menem', 4702: 'featuring', 4703: 'colony', 4704: 'front-seat', 4705: 'itself', 4706: '8.04', 4707: 'victim', 4708: 'illinois', 4709: 'together', 4710: 'clark', 4711: 'uzi-model', 4712: 'regular', 4713: 'osborn', 4714: 'control', 4715: '85.1', 4716: 'tailoring', 4717: 'cathedral', 4718: 'admits', 4719: 'historical', 4720: 'credit', 4721: 'it', 4722: 'bonds', 4723: 'blessing', 4724: 'stuck', 4725: 'honors', 4726: 'jitters', 4727: 'escaped', 4728: 'excited', 4729: 'high-tech', 4730: 'westport', 4731: 'our', 4732: 'oppose', 4733: 'produce', 4734: 'subsequent', 4735: 'bigger', 4736: 'laurels', 4737: 'capitalist', 4738: 'juggernaut', 4739: 'relieved', 4740: 'hale', 4741: 'deeply', 4742: 'made', 4743: 'mother', 4744: 'local', 4745: 'payment', 4746: 'convinced', 4747: '187', 4748: 'ncnb', 4749: 'maryland', 4750: 'west', 4751: 'red-carpet', 4752: 'priced', 4753: 'gringo', 4754: 'fanfare', 4755: 'rampage', 4756: 'alysia', 4757: 'gayle', 4758: 'flexibility', 4759: 'legislators', 4760: 'concession', 4761: 'details', 4762: 'under', 4763: 'copied', 4764: 'copyright', 4765: 'jay', 4766: 'awful', 4767: 'administrations', 4768: \"'82\", 4769: 'bugs', 4770: 'angle', 4771: 'winning', 4772: 'philosophy', 4773: 'darkhorse', 4774: 'dissident', 4775: 'venerable', 4776: 'reruns', 4777: 'recent', 4778: 'invests', 4779: 'autions', 4780: 'rough', 4781: 'three-lawyer', 4782: 'mean', 4783: 'collar', 4784: 'earle', 4785: 'empowered', 4786: 'apple', 4787: 'ross', 4788: 'estimates', 4789: 'schoolchildren', 4790: 'facing', 4791: 'weekends', 4792: '54-year-old', 4793: 'autos', 4794: 'conn', 4795: 'san', 4796: 'william', 4797: 'apprehensive', 4798: 'b', 4799: 'favorable', 4800: 'toward', 4801: 'third-quarter', 4802: 'signals', 4803: 'waters', 4804: '0.5', 4805: 'anglia', 4806: 'markup', 4807: 'sun', 4808: 'barnum', 4809: 'employs', 4810: 'yield', 4811: 'strindberg', 4812: 'weeklies', 4813: '240,000', 4814: 'alerts', 4815: 'picking', 4816: 'alive', 4817: 'association', 4818: '2.5', 4819: \"'d\", 4820: 'opposition', 4821: 'u.k.', 4822: 'throws', 4823: '1,298', 4824: 'teetering', 4825: 'mouth-up', 4826: 'promptly', 4827: 'reaped', 4828: 'exercise', 4829: 'request', 4830: 'serves', 4831: 'durable-goods', 4832: 'adult', 4833: 'rey', 4834: 'island', 4835: 'import', 4836: 'dozen', 4837: 'exhibited', 4838: 'town', 4839: 'boosts', 4840: 'something', 4841: 'monopolize', 4842: 'napa', 4843: 'enticed', 4844: 'foreign', 4845: 'provoke', 4846: 'telegraph', 4847: 'hair', 4848: 'redeeming', 4849: 'arsenide', 4850: 'appreciation', 4851: 'indonesia', 4852: 'losing', 4853: \"creator's\", 4854: 'surprised', 4855: 'daiwa', 4856: 'hit', 4857: 'huntsville', 4858: '374.20', 4859: 'kept', 4860: 's&p', 4861: 'down', 4862: 'manually', 4863: 'widow', 4864: 'solely', 4865: 'spends', 4866: 'pollution', 4867: 'cedric', 4868: 'specialize', 4869: 'arrived', 4870: 'buttoned-down', 4871: 'rockefeller', 4872: 'iowa', 4873: 'copperweld', 4874: 'supreme', 4875: 'reducing', 4876: 'any', 4877: 'segmenting', 4878: 'everywhere', 4879: 'easier', 4880: 'minutes', 4881: 'aiming', 4882: 'story', 4883: 'vision', 4884: 'prison', 4885: 'hospitable', 4886: 'home-market', 4887: 'killing', 4888: 'question', 4889: 'privately', 4890: 'physical', 4891: 'anthony', 4892: 'commodore', 4893: 'pre-1933', 4894: 'measured', 4895: 'impending', 4896: 'tower', 4897: 'observers', 4898: 'low-ball', 4899: 'growing', 4900: 'grown', 4901: 'vitriolic', 4902: 'opened', 4903: 'plc', 4904: 'sense', 4905: 'concedes', 4906: 'purchase', 4907: 'father', 4908: 'analyze', 4909: 'negotiators', 4910: 'gold', 4911: 'soared', 4912: 'marbles', 4913: 'extend', 4914: 'billings', 4915: 'auto-safety', 4916: 'lottery', 4917: 'considerable', 4918: 'giuliani', 4919: 'unenticing', 4920: 'efforts', 4921: 'interview', 4922: 'cartoonist', 4923: 'experience', 4924: 'diseases', 4925: 'hostility', 4926: 'hubbard', 4927: 'valrico', 4928: 'believes', 4929: 'transplantation', 4930: 'otero', 4931: 'chaplin', 4932: 'inflation', 4933: 'solvent', 4934: 'queen', 4935: 'home', 4936: '62%-owned', 4937: 'civilization', 4938: 'u.s.-japan', 4939: 'hammerton', 4940: 'inherited', 4941: '1,620', 4942: 'aerospace', 4943: 'proceedings', 4944: 'store', 4945: 'withdrawn', 4946: 'machine-gun-toting', 4947: 'progressive', 4948: 'complained', 4949: 'charged', 4950: 'sympathy', 4951: 'forced', 4952: 'belongs', 4953: 'ran', 4954: 'expanded', 4955: 'firm', 4956: 'sachs', 4957: 'progress', 4958: 'screwed', 4959: 'atlanta', 4960: 'hhs', 4961: 'knocked', 4962: 'computerize', 4963: 'machinery', 4964: 'comprehensive', 4965: 'tools', 4966: 'al', 4967: 'returned', 4968: 'perhaps', 4969: 'fattened', 4970: 'sentencing', 4971: 'refund', 4972: 'remaining', 4973: '6,000', 4974: 'solicitation', 4975: 'bin', 4976: 'perritt', 4977: 'task', 4978: 'retort', 4979: 'precisely', 4980: 'dusty', 4981: 'discontinuing', 4982: 'said', 4983: 'alleging', 4984: 'jurisdictional', 4985: '6.21', 4986: 'altair', 4987: '127.03', 4988: 'actress', 4989: 'values', 4990: 'test-practice', 4991: 'portfolio', 4992: 'laser', 4993: 'found', 4994: 'listing', 4995: 'manner', 4996: '126,000', 4997: 'freedom', 4998: 'offset', 4999: 'returns', 5000: 'various', 5001: 'my', 5002: 'placed', 5003: 'resulting', 5004: 'louisiana', 5005: 'tatsunori', 5006: 'cancer', 5007: 'demographic', 5008: 'outranks', 5009: 'forecasts', 5010: 'russian', 5011: 'corporate', 5012: 'navigation', 5013: 'singapore', 5014: 'black', 5015: 'filled', 5016: 'say', 5017: 'setback', 5018: 'getting', 5019: 'editors', 5020: 'microcomputers', 5021: 'kent', 5022: 'accept', 5023: 'parts', 5024: 'domestic', 5025: 'implicit', 5026: 'ad', 5027: 'comtes', 5028: 'leading', 5029: 'closed-end', 5030: 'adams', 5031: '-rrb-', 5032: 'austria', 5033: 'significantly', 5034: 'pre-approved', 5035: 'eighth', 5036: 'investment', 5037: 'honorably', 5038: 'sort', 5039: 'arafat', 5040: 'press', 5041: 'formal', 5042: 'borders', 5043: 'resolve', 5044: 'kensington', 5045: 'railcars', 5046: 'hungary', 5047: 'fifteen', 5048: '1989', 5049: 'essays', 5050: 'having', 5051: 'swearingen', 5052: 'might', 5053: 'packaging', 5054: 'sr.', 5055: 'consultants', 5056: 'doonesbury', 5057: 'fraud', 5058: 'stiff', 5059: 'besides', 5060: 'unique', 5061: 'absorbed', 5062: 'dating', 5063: 'free', 5064: 'thirtysomething', 5065: 'categories', 5066: 'has', 5067: '55', 5068: 'obedient', 5069: 'nose', 5070: 'deposit', 5071: '3.23', 5072: 'convertible', 5073: 'barnett', 5074: 'administrator', 5075: 'lehman', 5076: 'owed', 5077: 'summer', 5078: 'well', 5079: 'greece', 5080: 'fixed', 5081: 'leeway', 5082: 'stars', 5083: 'christian', 5084: 'options', 5085: 'slippage', 5086: 'assisted', 5087: 'too', 5088: 'friend', 5089: '42.5', 5090: 'fallen', 5091: 'units', 5092: '77.70', 5093: 'mistrials', 5094: 'reading', 5095: 'portrayed', 5096: 'colo.', 5097: 'cooperation', 5098: 'aba', 5099: 'bermuda', 5100: '1980s', 5101: 'improves', 5102: 'pierre', 5103: 'changed', 5104: 'lion', 5105: '%', 5106: 'n.v.', 5107: 'garry', 5108: 'drinking', 5109: 'complaint', 5110: 'attention', 5111: 'ballroom', 5112: 'tuesday', 5113: '436.01', 5114: 'stare', 5115: 'oils', 5116: 'vansant', 5117: 'chabrol', 5118: '28', 5119: 'committee', 5120: 'jeremy', 5121: 'sticker', 5122: '70-a-share', 5123: 'bromwich', 5124: '4.25', 5125: 'upon', 5126: 'voices', 5127: 'window', 5128: 'syndication', 5129: 'toilet', 5130: 'vintages', 5131: 'salty', 5132: 'jersey', 5133: 'volatility', 5134: 'delegates', 5135: 'nevertheless', 5136: 'quips', 5137: 'thinking', 5138: 'actively', 5139: 'deteriorating', 5140: 'thomas', 5141: 'cites', 5142: 'murakami', 5143: 'latest', 5144: 'soft', 5145: 'boost', 5146: 'interpublic', 5147: 'fed', 5148: 'productivity', 5149: 'amin', 5150: 'statue', 5151: 'graduates', 5152: 'jr', 5153: 'nasdaq', 5154: 'mossman', 5155: 'polled', 5156: 'covers', 5157: 'understanding', 5158: 'altering', 5159: 'excess', 5160: 'historically', 5161: 'rockford', 5162: 'aircraft', 5163: 'kondo', 5164: 'midyear', 5165: 'buck', 5166: 'kuhns', 5167: 'ushering', 5168: 'ankle', 5169: 'subminimum', 5170: 'signing', 5171: 'marketplace', 5172: 'appellate', 5173: 'convicted', 5174: 'extra', 5175: 'trend', 5176: 'warns', 5177: 'poured', 5178: 'actions', 5179: 'banned', 5180: '456.64', 5181: 'procurement', 5182: 'elisabeth', 5183: 'ranged', 5184: 'venture', 5185: 'open-end', 5186: 'agreed', 5187: 'gyrations', 5188: 'romanee-conti', 5189: 'plaza', 5190: 'versions', 5191: 'unsympathetic', 5192: 'investor-relations', 5193: 'breaking', 5194: 'troubles', 5195: 'licensed', 5196: 'logo', 5197: 'tracks', 5198: 'consider', 5199: 'accepting', 5200: 'weak', 5201: 'rear-seat', 5202: 'percentage', 5203: 'single-handedly', 5204: 'document', 5205: 'genel', 5206: '50-state', 5207: 'late', 5208: 'spokesman', 5209: 'dahl', 5210: 'industrial', 5211: 'everyday', 5212: 'aired', 5213: 'textile', 5214: 'confines', 5215: 'interrogation', 5216: 'seeing', 5217: '7.90', 5218: 'steep', 5219: 'investigating', 5220: 'household', 5221: 'norwick', 5222: 'attributes', 5223: 'tag', 5224: 'rotie', 5225: 'white', 5226: 'mason', 5227: 'offending', 5228: 'myron', 5229: 'clays', 5230: 'nev.', 5231: 'payments', 5232: '17', 5233: 'connecticut', 5234: 'athletic', 5235: 'design', 5236: 'attached', 5237: 'creation', 5238: 'legal', 5239: 'ctbs', 5240: 'pointing', 5241: 'clamped', 5242: 'journalists', 5243: 'announcement', 5244: 'eye', 5245: 'following', 5246: 'sit', 5247: 'incentive', 5248: 'subskills', 5249: '98.3', 5250: 'protracted', 5251: 'microphone', 5252: 'weaken', 5253: 'stuart', 5254: 'correspondence', 5255: 'key', 5256: 'norwegian', 5257: 'noodles', 5258: 'population', 5259: 'metropolitan', 5260: 'column', 5261: 'offenders', 5262: 'gets', 5263: 'founded', 5264: 'retard', 5265: 'unfortunately', 5266: 'revolution', 5267: 'peals', 5268: 'debacle', 5269: 'purrs', 5270: 'provisions', 5271: 'meaningful', 5272: 'counterpart', 5273: 'picked', 5274: 'sayers', 5275: 'featured', 5276: '374.19', 5277: 'r.', 5278: 'western', 5279: 'completeness', 5280: '1950s', 5281: '8.22', 5282: 'mechanism', 5283: 'optimism', 5284: 'furukawa', 5285: 'fuming', 5286: 'eight', 5287: 'conduct', 5288: 'approves', 5289: 'completely', 5290: 'rollover', 5291: 'vitally', 5292: 'boutique', 5293: 'defuse', 5294: 'largest', 5295: 'smattering', 5296: 'pending', 5297: 'black-and-white', 5298: 'steeper', 5299: '3.3', 5300: 'belong', 5301: 'unsolicited', 5302: 'hamilton', 5303: 'troublesome', 5304: 'pretty', 5305: 'huntington', 5306: 'engineers', 5307: 'points', 5308: 'tumbled', 5309: 'approach', 5310: 'racing', 5311: 'force', 5312: 'sentiment', 5313: 'hung', 5314: 'participants', 5315: 'pro-democracy', 5316: 'bought', 5317: 'consecutive', 5318: 'considering', 5319: 'robert', 5320: '62.625', 5321: 'montedison', 5322: 'brace', 5323: 'niches', 5324: 'involving', 5325: 'plunging', 5326: 'hotels', 5327: 'partners', 5328: 'state', 5329: 'inner-city', 5330: 'shut', 5331: 'spain', 5332: '52-week', 5333: 'persuasion', 5334: 'ix', 5335: 'commanded', 5336: 'failing', 5337: 'accounting', 5338: 'questions', 5339: 'recyclability', 5340: 'strother', 5341: 'cheese', 5342: 'code', 5343: 'purchasing', 5344: 'bodner', 5345: 'of', 5346: 'index-arbitrage', 5347: 'test-coaching', 5348: 'writer', 5349: 'when', 5350: 'street', 5351: 'ps', 5352: 'tie-breaking', 5353: 're-election', 5354: 'box', 5355: 'escrow', 5356: 'joined', 5357: 'apologizing', 5358: 'macmillan\\\\/mcgraw', 5359: 'cement', 5360: 'owner', 5361: 'score', 5362: 'carefree', 5363: 'financial', 5364: 'contractors', 5365: 'polarized', 5366: 'division', 5367: 'ruled', 5368: 'eligible', 5369: 'read', 5370: 'more-efficient', 5371: 'sinister', 5372: 'wide', 5373: 'individual', 5374: 'impossible', 5375: 'cite', 5376: '57.50', 5377: 'away', 5378: 'cds', 5379: 'morgan', 5380: 'fumes', 5381: 'waiving', 5382: 'grants', 5383: 'piero', 5384: 'terrine', 5385: 'purepac', 5386: 'believe', 5387: 'valley', 5388: 'vineyard', 5389: 'assets', 5390: 'share', 5391: 'bickering', 5392: 'bowery', 5393: 'soho', 5394: 'socialist', 5395: 'weapon', 5396: '11,000', 5397: 'gradually', 5398: 'yes', 5399: 'refuses', 5400: '5.29', 5401: 'somebody', 5402: 'courtroom', 5403: 'male-only', 5404: 'trading', 5405: 'durable', 5406: 'russo', 5407: 'longer', 5408: 'portrayal', 5409: 'solidarity', 5410: 'sluggishness', 5411: 'spur', 5412: 'anybody', 5413: 'production', 5414: '1999', 5415: 'available', 5416: 'kind', 5417: 'snapped', 5418: 'watched', 5419: 'x', 5420: 'remember', 5421: 'taste', 5422: 'geography', 5423: 'lloyd', 5424: 'mickey', 5425: 'barriers', 5426: 'hefty', 5427: 'lapses', 5428: 'counterweight', 5429: 'institution', 5430: 'trotter', 5431: '61', 5432: 'volunteer', 5433: 'earns', 5434: '737.5', 5435: 'final', 5436: 'employment', 5437: 'beds', 5438: 'items', 5439: 'retailers', 5440: 'orleans', 5441: '35', 5442: 'monied', 5443: 'place', 5444: 'excluding', 5445: 'ahead', 5446: 'yielded', 5447: 'gunship', 5448: 'nutty', 5449: 'districts', 5450: '1987', 5451: 'male', 5452: '100,000', 5453: 'incredible', 5454: 'classified', 5455: 'realization', 5456: 'remodeling', 5457: 'plight', 5458: 'olympic', 5459: 'supportive', 5460: 'sphere', 5461: 'abating', 5462: 'nets', 5463: 'rep.', 5464: 'nestor', 5465: 'records', 5466: '301', 5467: 'disruption', 5468: 'probably', 5469: 'unimpeded', 5470: '80', 5471: 'pursuant', 5472: 'promising', 5473: 'aces', 5474: 'aquino', 5475: 'watches', 5476: 'achieving', 5477: 'visited', 5478: 'sandberg', 5479: 'reflecting', 5480: 'rent-a-car', 5481: 'macmillan', 5482: 'differences', 5483: 'aggressively', 5484: 'games', 5485: 'beijing', 5486: 'or', 5487: 'keidanren', 5488: 'rolled', 5489: 'anticipates', 5490: 'asks', 5491: 'field', 5492: 'lower-priority', 5493: 'seized', 5494: ',', 5495: '1.8500', 5496: 'propelling', 5497: 'occurrences', 5498: 'detroit', 5499: 'cleaned', 5500: 'clean', 5501: 'marchand', 5502: 'products', 5503: '155', 5504: 'specific', 5505: 'unjustified', 5506: 'nurtured', 5507: '271,124', 5508: 'play', 5509: 'mortimer', 5510: 'co-owner', 5511: '10-year', 5512: 'performed', 5513: 'consultant', 5514: 'transforming', 5515: 'scott', 5516: 'smaby', 5517: 'rights', 5518: '84-month', 5519: 'stored', 5520: 'resolution', 5521: '30-day', 5522: 'vagabond', 5523: 'showings', 5524: 'precious', 5525: 'rebuffed', 5526: 'climbed', 5527: 'foot', 5528: 'merger-related', 5529: 'chary', 5530: 'newspaper', 5531: 'nation', 5532: 'penetrate', 5533: 'slew', 5534: 'gives', 5535: 'fails', 5536: '88', 5537: 'little', 5538: 'widely', 5539: 'shares', 5540: 'jr.', 5541: 'hitachi', 5542: 'author', 5543: 'indeed', 5544: 'escalated', 5545: 'american', 5546: '142.85', 5547: 'strapped', 5548: 'scrupulously', 5549: 'redeemed', 5550: 'source', 5551: 'clemens', 5552: 'others', 5553: 'justice', 5554: 'earnings', 5555: 'procedures', 5556: 'throughout', 5557: 'taking', 5558: 'television', 5559: 'advertising', 5560: 'albert', 5561: 'primary', 5562: 'warnings', 5563: 'educational', 5564: 'brought', 5565: 'extremely', 5566: '143.93', 5567: 'diplomacy', 5568: 'brenda', 5569: 'crown', 5570: 'henderson', 5571: 'age', 5572: 'male-dominated', 5573: 'forgiven', 5574: 'stearn', 5575: 'favored', 5576: 'sherwin', 5577: 'preferred', 5578: '29.3', 5579: 'certificate', 5580: 'accurate', 5581: 'democrat', 5582: 'loveliest', 5583: 'educated', 5584: 'keyboards', 5585: 'enough', 5586: 'beforehand', 5587: 'european', 5588: '1\\\\/4', 5589: 'architecture', 5590: 'laura', 5591: '62.5', 5592: 'decides', 5593: 'anything', 5594: 'birmingham', 5595: 'lane', 5596: 'testify', 5597: 'beverly', 5598: 'hawke', 5599: 'holdings', 5600: 'ltv', 5601: 'choice', 5602: 'like', 5603: 'disturbs', 5604: 'shops', 5605: 'star', 5606: 'promote', 5607: \"'\", 5608: 'shop', 5609: 'school', 5610: 'operational', 5611: 'boorse', 5612: 'clear', 5613: 'response', 5614: 'greater', 5615: 'polytechnic', 5616: 'strip', 5617: 'cope', 5618: 'role', 5619: 'life', 5620: 'malcolm', 5621: 'discourage', 5622: 'gotta', 5623: 'misdemeanor', 5624: 'achievement', 5625: 'exceptional', 5626: 'certificates', 5627: 'life-style', 5628: 'own', 5629: 'debt', 5630: 'moderate', 5631: 'goverment', 5632: 'premium', 5633: 'shipping', 5634: 'falling', 5635: 'economy', 5636: 'basic', 5637: 'single', 5638: '6', 5639: 'privileged', 5640: 'caveat', 5641: '46', 5642: 'restructured', 5643: 'einhorn', 5644: '415.8', 5645: '3.61', 5646: 'sometimes-tawdry', 5647: 'prospectively', 5648: 'odd', 5649: 'hero', 5650: 'struggled', 5651: 'watching', 5652: 'cuvees', 5653: 'capture', 5654: 'designing', 5655: 'extended', 5656: 'harshly', 5657: 'bled', 5658: 'map', 5659: 'violence', 5660: 'roosevelt', 5661: 'modest', 5662: 'declare', 5663: '5.9', 5664: 'harcourt', 5665: 'plane', 5666: 'stores', 5667: 'himself', 5668: 'football', 5669: 'stations', 5670: 'unusually', 5671: 'pre-emptive', 5672: 'labor', 5673: 'guest', 5674: 'station', 5675: 'computer-generated', 5676: 'engineered', 5677: 'muffled', 5678: 'page', 5679: 'clubs', 5680: 'hitter', 5681: 'identified', 5682: 'feed', 5683: '7\\\\/8', 5684: 'berliner', 5685: 'thursday', 5686: 'prices', 5687: 'purely', 5688: '4', 5689: 'limits', 5690: 'complaints', 5691: '133.8', 5692: 'australian', 5693: 'except', 5694: 'triggered', 5695: 'malizia', 5696: 'chocolate', 5697: 'nobody', 5698: 'finest', 5699: 'exposed', 5700: 'launched', 5701: 'co', 5702: 'average', 5703: 'announce', 5704: 'best-seller', 5705: '8.45', 5706: 'virginians', 5707: 'barfield', 5708: 'nesb', 5709: 'reopen', 5710: 'usually', 5711: 'appeared', 5712: 'higher', 5713: 'brownstein', 5714: 'monitor', 5715: 'nelson', 5716: 'brunswick', 5717: 'search', 5718: 'fraction', 5719: 'poland', 5720: 'school-board', 5721: 'wholesale', 5722: 'rhythm', 5723: 'explorer', 5724: 'ropes', 5725: '0.1', 5726: 'system', 5727: 'hudson', 5728: 'higher-salaried', 5729: 'dallara', 5730: 'aids', 5731: 'crossing', 5732: 'baris', 5733: 'amend', 5734: 'arizona', 5735: 'breakfast', 5736: 'shirt-sleeved', 5737: 'pack', 5738: 'prospects', 5739: 'associated', 5740: '154.2', 5741: 'inching', 5742: 'squad', 5743: 'fainting', 5744: 'pealing', 5745: 'initiative', 5746: 'penetration', 5747: 'contain', 5748: 'superior', 5749: 'squeezed', 5750: 'korea', 5751: 'pep', 5752: 'especially', 5753: 'minneapolis', 5754: 'automotive-parts', 5755: 'skin', 5756: 'lend-lease', 5757: '340,000', 5758: 'yesterday', 5759: 'ventures', 5760: '1.85', 5761: 'competing', 5762: 'served', 5763: 'push', 5764: 'felten', 5765: 'witness', 5766: 'network', 5767: 'lift', 5768: 'familiarization', 5769: 'government-certified', 5770: 'germans', 5771: 'fannie', 5772: 'every', 5773: 'advantage', 5774: 'we', 5775: 't-shirts', 5776: 'introduced', 5777: 'dunn', 5778: 'sogo-shosha', 5779: 'siegal', 5780: 'the', 5781: 'frequently', 5782: 'quality', 5783: '9,118', 5784: 'faster', 5785: 'systematic', 5786: 'declared', 5787: 'roger', 5788: 'assurance', 5789: 'impartial', 5790: 'undertaking', 5791: 'fights', 5792: 'automobile', 5793: 'burdens', 5794: '60,000', 5795: 'purchasers', 5796: 'situations', 5797: 'becoming', 5798: 'knitted', 5799: 'apartment', 5800: 'cancer-causing', 5801: 'scherer', 5802: 'pianist-comedian', 5803: 'putting', 5804: 'grandfather', 5805: 'speedway', 5806: 'fifth', 5807: 'opens', 5808: 'sympathetic', 5809: 'insidious', 5810: 'he', 5811: 'honor', 5812: 'jam', 5813: 'me', 5814: 'lancaster', 5815: 'outlawed', 5816: 'blanchard', 5817: 'committed', 5818: 'romanticized', 5819: 'compares', 5820: 'red', 5821: 'long-time', 5822: 'pressure', 5823: 'manhattan', 5824: 'pumping', 5825: 'surrender', 5826: 'consensus', 5827: '66.5', 5828: 'wisdom', 5829: 'schools', 5830: 'event', 5831: 'lab', 5832: 'austrian', 5833: 'shore', 5834: 'devastating', 5835: 'owners', 5836: 'even', 5837: 'pacific', 5838: 'monthly', 5839: 'creditors', 5840: 'politely', 5841: 'solid', 5842: 'partially', 5843: 'pre-communist', 5844: 'interests', 5845: 'magazines', 5846: 'merchandise', 5847: 'whistle', 5848: 'board', 5849: 'water', 5850: 'machine', 5851: 'devices', 5852: 'twin', 5853: 'leinonen', 5854: 'rope-sight', 5855: 'slipped', 5856: 'construction', 5857: 'integration', 5858: 'automobiles', 5859: '847', 5860: 'dennis', 5861: 'willingness', 5862: 'painted', 5863: 'curb', 5864: 'gifts', 5865: 'meinders', 5866: 'satrum', 5867: 'leveling', 5868: 'achievement-test', 5869: 'sketching', 5870: 'bolduc', 5871: 'tassinari', 5872: 'often', 5873: 'potential', 5874: 'job', 5875: 'rises', 5876: 'managing', 5877: 'smith', 5878: 'competitions', 5879: 'pre-cooked', 5880: 'parishioners', 5881: 'hermitage', 5882: 'railroad', 5883: 'expires', 5884: 'drain', 5885: 'club', 5886: 'cash-rich', 5887: 'sometimes', 5888: 'point', 5889: 'suspend', 5890: 'six-inch', 5891: 'low', 5892: 'leases', 5893: 'minority', 5894: 'logjam', 5895: '2-8', 5896: 'characters', 5897: 'permanent', 5898: 'practice', 5899: 'finmeccanica', 5900: 'lumpur', 5901: 'murder', 5902: 'decade', 5903: '236.79', 5904: 'interest-bearing', 5905: '200,000', 5906: 'reference', 5907: 'practices', 5908: 'insolvency', 5909: 'temporarily', 5910: 'begin', 5911: '120', 5912: '62-year-old', 5913: 'playful', 5914: 'printed', 5915: 'survey', 5916: '767', 5917: 'reaches', 5918: 'talked', 5919: 'tree', 5920: 'radically', 5921: 'gelatin', 5922: 'mobile', 5923: 'cruising', 5924: 'expecting', 5925: 'counts', 5926: 'represent', 5927: 'fearful', 5928: 'july', 5929: 'criticized', 5930: 'punishable', 5931: 'unrealistically', 5932: 'phillips', 5933: 'subindustry', 5934: 'campaigning', 5935: 'payoff', 5936: 'saturday', 5937: 'cigarette', 5938: 'flush', 5939: 'sounds', 5940: 'retained', 5941: 'doctors', 5942: 'interim', 5943: 'emphasis', 5944: 'road', 5945: 'reach', 5946: 'prominent', 5947: 'totaled', 5948: 'remain', 5949: 'pregnant', 5950: 'nonfat', 5951: 'exports', 5952: 'blacks', 5953: 'aslacton', 5954: 'vinken', 5955: 'admitted', 5956: 'superintendent', 5957: 'rings', 5958: 'eternal', 5959: 'mrs.', 5960: '14,821', 5961: 'bang', 5962: 'booklet', 5963: '3\\\\/4', 5964: 'supplies', 5965: 'current', 5966: 'chinese', 5967: 'u.s.a.', 5968: 'homeless', 5969: 'medical', 5970: 'buy', 5971: 'securities-based', 5972: 'instance', 5973: 'l.', 5974: 'acquiring', 5975: 'integrated', 5976: 'elite', 5977: 'hundred', 5978: 'breaks', 5979: 'among', 5980: 'taxes', 5981: 'require', 5982: 'really', 5983: 'assemble', 5984: 'cleveland', 5985: 'bid', 5986: 'symphony', 5987: 'congressional', 5988: 'report', 5989: 'mining', 5990: 'someone', 5991: 'gerhard', 5992: 'boone', 5993: 'mesnil', 5994: 'abortions', 5995: 'steps', 5996: 'smooth', 5997: 'curse', 5998: 'davies', 5999: 'tactics', 6000: 'starters', 6001: 'linked', 6002: 'encircling', 6003: 'dumped', 6004: 'price', 6005: '69-point', 6006: 'li', 6007: 'range', 6008: 'represents', 6009: 'luck', 6010: 'broke', 6011: 'correll', 6012: 'berger', 6013: 'toronto', 6014: 'investigations', 6015: 'remarks', 6016: 'segment', 6017: 'mathematics', 6018: 'banks', 6019: 'assembled', 6020: 'summoned', 6021: 'requirements', 6022: 'equals', 6023: 'claude', 6024: 'credibility', 6025: 'attend', 6026: 'short-lived', 6027: 'ward', 6028: 'pre-1917', 6029: 'craft', 6030: 'insisted', 6031: 'drop', 6032: 'patterns', 6033: 'apology', 6034: 'investors', 6035: 'year-end', 6036: 'pact', 6037: 'barbaresco', 6038: 'trettien', 6039: 'forms', 6040: 'countries', 6041: 'virtually', 6042: 'rhythmically', 6043: 'insists', 6044: 'sustained', 6045: 'aspects', 6046: 'pace', 6047: 'swiftly', 6048: 'all', 6049: 'retiring', 6050: 'uncharted', 6051: 'unfilled', 6052: 'obtained', 6053: 'first-time', 6054: 'ton', 6055: '85', 6056: 'unrestricted', 6057: 'estate', 6058: 'concentration', 6059: 'race', 6060: 'cast', 6061: 'lasted', 6062: 'ketchum', 6063: 'crocidolite', 6064: 'surrendered', 6065: 'sacramento-based', 6066: 'jury', 6067: 'brunei', 6068: 'sat', 6069: 'team', 6070: 'outrage', 6071: 'northern', 6072: 'lovely', 6073: 'attempts', 6074: 'died', 6075: 'cocoa', 6076: 'transferring', 6077: 'illegally', 6078: 'one-upsmanship', 6079: 'none', 6080: 'far', 6081: 'stress', 6082: 'del', 6083: 'syndrome', 6084: 'onto', 6085: 'personnel', 6086: 'economic', 6087: '50', 6088: 'diversify', 6089: 'souper', 6090: 'suggested', 6091: 'conglomerate', 6092: 'functions', 6093: 'kicker', 6094: 'attitude', 6095: 'nesconset', 6096: 'taiwan', 6097: 'polls', 6098: 'retailing', 6099: 'occupant', 6100: 'shirts', 6101: 'avrett', 6102: 'cars', 6103: 'color', 6104: 'nbi', 6105: 'lee', 6106: 'valuation', 6107: 'degree', 6108: 'andrew', 6109: 'shallow', 6110: 'death', 6111: 'assistant', 6112: 'tension', 6113: 'do', 6114: 'conflicts', 6115: 'succeeds', 6116: 'nonfinancial', 6117: 'protect', 6118: 'consomme', 6119: 'glauber', 6120: 'excessive', 6121: '3.5', 6122: '360', 6123: 'frantic', 6124: 'regenerate', 6125: '4.4', 6126: 'louisville', 6127: 'nor', 6128: 'landonne', 6129: 'benign', 6130: 'suit', 6131: 'airports', 6132: 'subordinate', 6133: '500', 6134: '700', 6135: 'mara', 6136: 'pictures', 6137: 'shortage', 6138: 'supplier', 6139: 'counterattack', 6140: 'satisfactory', 6141: 'centennial', 6142: 'wong', 6143: 'bright', 6144: 'partisans', 6145: 'perception', 6146: 'quiet', 6147: 'charlie', 6148: 'nissho-iwai', 6149: '1.75', 6150: '1956', 6151: 'same', 6152: 'wine', 6153: 'tiny', 6154: 'klauser', 6155: 'mrs', 6156: 'concept', 6157: 'n.j', 6158: 'steven', 6159: 'shovels', 6160: 'money-center', 6161: 'brat', 6162: 'sponsor', 6163: 'lying', 6164: 'living', 6165: 'mechanical', 6166: 'midvale', 6167: 'rather', 6168: 'carries', 6169: 'weekly', 6170: 'judie', 6171: 'barney', 6172: 'recognize', 6173: 'chardonnays', 6174: 'eliminates', 6175: 'yields', 6176: 'carefully', 6177: 'mature', 6178: 'charlotte', 6179: 'exercisable', 6180: 'requirement', 6181: 'private', 6182: 'appointed', 6183: 'performing', 6184: 'pleaded', 6185: 'mark', 6186: 'fashion', 6187: 'poore', 6188: 'revenue-desperate', 6189: 'halt', 6190: 'tightened', 6191: 'openly', 6192: 'coors', 6193: 'mcauley', 6194: 'recorded', 6195: 'data', 6196: 'school-improvement', 6197: 'remove', 6198: 'earlier', 6199: 'notes', 6200: 'kane', 6201: '86', 6202: 'duty-free', 6203: 'tense', 6204: 'buses', 6205: 'arthur', 6206: 'kenneth', 6207: '&', 6208: 'hospital', 6209: 'glamorize', 6210: 'parent', 6211: 'jobs', 6212: 'photographic', 6213: 'las', 6214: 'burden', 6215: 'nothing', 6216: 'protected', 6217: 'befuddled', 6218: '20.5', 6219: '70.7', 6220: 'longest', 6221: 'angier', 6222: 'washington-based', 6223: 'drums', 6224: 'by', 6225: 'chinchon', 6226: 'markets', 6227: 'movie', 6228: 'anger', 6229: 'wakayama', 6230: 'thrall', 6231: 'told', 6232: 'april', 6233: 'cute', 6234: 'michigan', 6235: 'unwary', 6236: 'hard', 6237: 'sums', 6238: 'mailing', 6239: 'off-off', 6240: '11,762', 6241: 'energy-services', 6242: 'sticker-shock', 6243: 'dismay', 6244: 'diamond', 6245: 'compensation', 6246: 'arabia', 6247: 'photograph', 6248: 'capital', 6249: 'negotiations', 6250: 'minus', 6251: 'film', 6252: 'lawsuit', 6253: 'dwindling', 6254: 'politicians', 6255: 'mazda', 6256: 'auctioned', 6257: 'wilson', 6258: 'finally', 6259: 'requires', 6260: 'opportunity', 6261: 'deliver', 6262: 'bumkins', 6263: 'mounted', 6264: 'hire', 6265: 'substance', 6266: 'plainclothes', 6267: 'america', 6268: 'buying', 6269: 'swelling', 6270: 'at&t', 6271: 'makers', 6272: 'noted', 6273: 'stringently', 6274: 'rusted', 6275: 'familiar', 6276: 'diversionary', 6277: 'argentine', 6278: 'preparatives', 6279: 'met', 6280: 'linda', 6281: 'fluctuation', 6282: '850', 6283: 'worst-case', 6284: 'hoopla', 6285: 'stirrings', 6286: '10,000', 6287: '15,000', 6288: 'sizable', 6289: 'you', 6290: 'consonant', 6291: 'high-level', 6292: '2.65', 6293: 'intended', 6294: 'coincident', 6295: 'restrictions', 6296: 'purhasing', 6297: 'discontinue', 6298: 'and', 6299: 'reorganization', 6300: 'round', 6301: 'slow', 6302: 'tow', 6303: 'pick', 6304: '150-point', 6305: 'one-hour', 6306: 'withdraw', 6307: 'operators', 6308: 'inflationary', 6309: 'southeast', 6310: 'basham', 6311: 'engineer', 6312: 'officially', 6313: 'fires', 6314: 'fiber', 6315: 'n.c', 6316: 'scrutiny', 6317: 'judgments', 6318: 'lawmakers', 6319: 'reportedly', 6320: 'corrigan', 6321: 'obligations', 6322: 'advanced', 6323: 'wear', 6324: 'market-share', 6325: 'indicated', 6326: 'types', 6327: 'scrapped', 6328: 'models', 6329: 'can', 6330: 'wish', 6331: 'funny', 6332: 'continue', 6333: 'cbs', 6334: 'n.c.', 6335: 'circumstances', 6336: 'publicized', 6337: 'nearly-30', 6338: 'compete', 6339: 'expected', 6340: 'fact', 6341: 'viacom', 6342: 'britain', 6343: 'lady', 6344: '55-year-old', 6345: 'chopped', 6346: 'art', 6347: 'approved', 6348: 'model', 6349: 'reported', 6350: 'tax', 6351: 'initialing', 6352: 'pistols', 6353: 'breakdown', 6354: 'flap', 6355: 'access', 6356: 'scores', 6357: 'invest', 6358: 'ties', 6359: '251.2', 6360: 'stressing', 6361: 'recently', 6362: 'die', 6363: 'started', 6364: 'providence', 6365: 'documents', 6366: 'fiscal', 6367: 'courts', 6368: 'fetal-tissue', 6369: 'exceed', 6370: 'unfathomable', 6371: 'sweat', 6372: 'gulf', 6373: 'novel', 6374: 'consists', 6375: 'beautiful', 6376: 'hobbyists', 6377: 'students', 6378: 'hurting', 6379: 'group', 6380: '1.82', 6381: 'easing', 6382: 'claims', 6383: 'hottest', 6384: 'ala', 6385: 'including', 6386: 'two', 6387: 'consent', 6388: 'fulbright', 6389: 'product-design', 6390: 'prying', 6391: 'considerably', 6392: 'skirmishes', 6393: 'teachers', 6394: '22', 6395: 'efficiencies', 6396: 'ddb', 6397: 'internal', 6398: 'good-natured', 6399: 'life-insurance', 6400: '42', 6401: 'carry', 6402: 'gentle', 6403: 'consented', 6404: 'cab', 6405: 'latour', 6406: 'before', 6407: 'strong-willed', 6408: 'undiplomatic', 6409: 'humans', 6410: 'success', 6411: 'scrape', 6412: 'ii', 6413: 'london', 6414: 'knowledge', 6415: 'end', 6416: 'scared', 6417: 'tourism', 6418: 'jugglers', 6419: 'reward', 6420: 'governor', 6421: 'signet', 6422: 'original', 6423: 'smallest', 6424: 'know', 6425: 'court-ordered', 6426: 'member', 6427: 'right', 6428: 'floyd', 6429: 'battery-operated', 6430: '45.3', 6431: 'declines', 6432: '320', 6433: 'bidding', 6434: 'retain', 6435: 'continually', 6436: 'wtd', 6437: 'strike', 6438: 'calder', 6439: 'silent', 6440: 'contingent', 6441: 'acquire', 6442: '7.5', 6443: 'truce', 6444: 'stalemate', 6445: 'alurralde', 6446: 'anti-china', 6447: 'style', 6448: 'notably', 6449: 'aspersions', 6450: 'regulation', 6451: 'serious', 6452: 'five', 6453: 'leo', 6454: 'trouble', 6455: 'deborah', 6456: 'accountants', 6457: 'annoyed', 6458: 'structurally', 6459: '50.38', 6460: 'oilman', 6461: 'bundling', 6462: 'replacing', 6463: 'nederlanden', 6464: 'says', 6465: '@', 6466: 'mayer', 6467: '321,000', 6468: 'smiles', 6469: 'contacted', 6470: 'at', 6471: 'happy', 6472: 'painting', 6473: 'approaches', 6474: 'god', 6475: 'faulding', 6476: 'reject', 6477: 'asada', 6478: 'classical', 6479: 'red-flag', 6480: 'mania', 6481: 'unlike', 6482: 'similarity', 6483: 'ending', 6484: 'cabernets', 6485: 'fremantle', 6486: 'motion', 6487: 'small', 6488: 'expunged', 6489: 'sub-segments', 6490: 'begins', 6491: 'j.', 6492: 'bronze', 6493: 'dec.', 6494: 'article', 6495: 'washington', 6496: 'dresser', 6497: 'not', 6498: 'francis', 6499: 'alliance', 6500: 'omitted', 6501: 'indicator', 6502: 'pty.', 6503: 'section', 6504: 'ferc', 6505: 'traveling', 6506: 'revising', 6507: 'intervention', 6508: 'sale', 6509: 'fang', 6510: 'reasserts', 6511: 'top', 6512: 'agrees', 6513: 'alvin', 6514: 'presidential', 6515: 'du', 6516: 'empty', 6517: 'researching', 6518: '230-215', 6519: 'three', 6520: 'sir', 6521: 'began', 6522: 'conforms', 6523: 'ships', 6524: 'cover', 6525: '1997', 6526: 'ten', 6527: 'attacks', 6528: 'appointment', 6529: 'him', 6530: 'symptoms', 6531: 'champagne', 6532: 'offered', 6533: '0.7', 6534: 'youthful', 6535: 'caretaker', 6536: '9.37', 6537: 'wary', 6538: 'marion', 6539: 'residential', 6540: 'voice', 6541: 'davis', 6542: 'mired', 6543: '30,000', 6544: 'speaking', 6545: 'acknowledge', 6546: 'high-priced', 6547: 'newer', 6548: '19.3', 6549: 'clara', 6550: 'effects', 6551: 'wants', 6552: 'chalk', 6553: 'gaja', 6554: 'shearson', 6555: 'papers', 6556: 'dom', 6557: 'non-religious', 6558: 'seller', 6559: 'akio', 6560: 'taken', 6561: 'lesson', 6562: '15', 6563: 'once', 6564: 'graham', 6565: 'r.p.', 6566: 'cheating', 6567: 'reservations', 6568: 'daily', 6569: 'interviews', 6570: 'public', 6571: 'modifications', 6572: 'bilateral', 6573: 'unproductive', 6574: 'loan', 6575: 'goes', 6576: 'advancing', 6577: 'collapsed', 6578: 'mich.', 6579: 'polystyrene', 6580: 'a.', 6581: 'introducing', 6582: 'rising', 6583: 'sweetened', 6584: 'interbank', 6585: '1637', 6586: 'hands', 6587: 'lasalle', 6588: '1972', 6589: 'start', 6590: 'shrinks', 6591: 'direct', 6592: 'ingersoll-rand', 6593: 't.', 6594: 'queers', 6595: 'california', 6596: 'dominance', 6597: 'create', 6598: 'bonuses', 6599: 'trying', 6600: 'transportation', 6601: 'garage', 6602: 'spot', 6603: 'talk', 6604: 'front', 6605: 'arms', 6606: 'extension', 6607: 'companies', 6608: 'merit', 6609: 'conditional', 6610: 'bancorp', 6611: '1987-88', 6612: 'indulging', 6613: 'tissues', 6614: 'enabling', 6615: '20,000', 6616: 'concern', 6617: 'open', 6618: 'simon', 6619: 'wo', 6620: 'why', 6621: 'states', 6622: 'devised', 6623: 'rhone', 6624: 'genie', 6625: 'regulated', 6626: 'lewis', 6627: 'examination', 6628: 'leaves', 6629: 'dompierre', 6630: 'what', 6631: '0.4', 6632: 'financed', 6633: 'studying', 6634: 'la.', 6635: 'flood', 6636: 'warrant', 6637: 'arguments', 6638: 'trap', 6639: 'banquet', 6640: 'capitol', 6641: 'swim', 6642: 'consist', 6643: '382-37', 6644: 'mixed', 6645: 'arbitrage', 6646: 'parishes', 6647: '3.18', 6648: 'alone', 6649: 'condemning', 6650: 'samuel', 6651: 'marks', 6652: 'ian', 6653: 'sets', 6654: 'raul', 6655: 'events', 6656: 'carillons', 6657: 'imaginative', 6658: 'odd-sounding', 6659: '121.6', 6660: 'visiting', 6661: 'nickel', 6662: 'six-month', 6663: 'initial', 6664: 'receive', 6665: '228', 6666: 'whipsaw', 6667: 'amended', 6668: '2,303,328', 6669: 'fared', 6670: 'substantial', 6671: 'hydraulically', 6672: 'woodcliff', 6673: 'intoxication', 6674: 'post', 6675: 'bureau', 6676: 'theological', 6677: 'device', 6678: '150', 6679: 'giraud', 6680: 'calculate', 6681: 'warner', 6682: 'refunded', 6683: 'green', 6684: 'drivers', 6685: 'ability', 6686: 'used', 6687: 'drive', 6688: 'defense', 6689: 'babcock', 6690: 'policy', 6691: 'lack', 6692: 'showed', 6693: 'yen-support', 6694: 'coincidental', 6695: 'macdonald', 6696: 'troop', 6697: 'in', 6698: '72', 6699: '95,142', 6700: 'phipps', 6701: '3057', 6702: 'northeast', 6703: 'during', 6704: '28.6', 6705: \"'50s\", 6706: 'expire', 6707: 'energetic', 6708: 'collection', 6709: 'broad', 6710: 'possibility', 6711: 'effort', 6712: 'donoghue', 6713: 'fined', 6714: 'duchossois', 6715: '25', 6716: 'steelmaker', 6717: 'skip', 6718: 'loans', 6719: 'nilson', 6720: 'captivating', 6721: 'disappointment', 6722: 'counting', 6723: 'lower', 6724: 'campaign', 6725: 'resources', 6726: 'currency', 6727: 'wednesday', 6728: 'referendum', 6729: 'if', 6730: 'negotiator', 6731: '1.1', 6732: 'gift', 6733: 'increasingly', 6734: 'vermont', 6735: 'floating-rate', 6736: 'alternative', 6737: 'abbot', 6738: 'copies', 6739: 'history', 6740: 'townes', 6741: 'rates', 6742: 'glendale', 6743: 'reductions', 6744: 'itoh', 6745: 'via', 6746: 'inc', 6747: 'journalistic', 6748: 'methods', 6749: 'peal', 6750: 'fret', 6751: 'ilminster', 6752: '445', 6753: 'derek', 6754: 'barbara', 6755: 'stance', 6756: 'year-to-year', 6757: 'settle', 6758: 'passing', 6759: 'old-house', 6760: 'kodansha', 6761: 'petroleum', 6762: 'edward', 6763: 'mainly', 6764: 'almost', 6765: 'seasonally', 6766: 'hostile', 6767: 'panel', 6768: 'keeping', 6769: 'generally', 6770: 'borrowed', 6771: 'behavior', 6772: 'teacher', 6773: 'afternoon', 6774: 'kill', 6775: '38.375', 6776: '32.8', 6777: 'canepa', 6778: 'admitting', 6779: 'gerald', 6780: 'river', 6781: 'insurance', 6782: 'contributors', 6783: 'michaels', 6784: '295', 6785: 'additions', 6786: 'sign', 6787: 'services', 6788: 'two-thirds', 6789: 'sudden', 6790: 'reserves', 6791: 'milne', 6792: 'boesel', 6793: '30-year', 6794: 'tire', 6795: 'betrayer', 6796: 'michael', 6797: 'pose', 6798: 'harm', 6799: 'critics', 6800: 'solihull', 6801: 'issues', 6802: 'prefectural', 6803: 'waterworks', 6804: 'develop', 6805: 'jersey-based', 6806: 'ringer', 6807: 'strongly', 6808: 'alleghany', 6809: 'offers', 6810: 'asbestosis', 6811: 'won', 6812: 'pages', 6813: '1961', 6814: 'transporting', 6815: 'expansion', 6816: 'fans', 6817: 'negatives', 6818: 'bad', 6819: 'ensrud', 6820: 'assertions', 6821: 'imperative', 6822: 'useful', 6823: 'bless', 6824: 'decorated', 6825: 'figures', 6826: 'lost', 6827: 'outsiders', 6828: 'w.r.', 6829: 'presence', 6830: 'pie', 6831: 'stone', 6832: 'pulls', 6833: 'forecast', 6834: 'exceptionally', 6835: 'responding', 6836: 'arguing', 6837: 'st.', 6838: 'angels', 6839: '13,056', 6840: 'reader', 6841: 'revived', 6842: 'danville', 6843: 'loews', 6844: 'stag', 6845: 'employers', 6846: 'estimated', 6847: 'bureaucratic', 6848: 'doctorate', 6849: 'gary', 6850: 'rarefied', 6851: '0.9', 6852: 'derivatives', 6853: 'friends', 6854: 'crew', 6855: 'drag-down', 6856: 'designer', 6857: 'techniques', 6858: 'five-year', 6859: 'ltd', 6860: 'supply', 6861: 'slower', 6862: 'closely', 6863: 'installed', 6864: 'chiefly', 6865: 'citizens', 6866: '26,000', 6867: 'want', 6868: 'specialists', 6869: 'authors', 6870: 'intermediate', 6871: 'ordered', 6872: 'try', 6873: 'activity', 6874: 'surprising', 6875: 'welcomed', 6876: 'thin-lipped', 6877: 'hayes', 6878: 'reaction', 6879: 'commodities', 6880: 'millions', 6881: 'corestates', 6882: 'chase', 6883: 'staggering', 6884: 'party', 6885: 'discouraging', 6886: 'intricate', 6887: 'texas', 6888: 'screen', 6889: 'mere', 6890: 'appears', 6891: 'enter', 6892: 'photographs', 6893: 'john', 6894: 'manages', 6895: 'florio', 6896: 'costs', 6897: 'receiving', 6898: 'members', 6899: 'cannell', 6900: 'lungs', 6901: 'koito', 6902: 'dismissal', 6903: 'cabinet', 6904: 'ancillary', 6905: 'self-esteem', 6906: 'concentrating', 6907: 'way', 6908: 'action', 6909: 'marshall', 6910: '#', 6911: 'gangs', 6912: 'slashing', 6913: 'usual', 6914: 'fujitsu', 6915: 'intertitles', 6916: 'yale', 6917: 'normal', 6918: 'ranks', 6919: 'proposal', 6920: 'features', 6921: 'get-out-the-vote', 6922: '2', 6923: 'inside', 6924: 'entangled', 6925: 'schedule', 6926: 'imsai', 6927: 'retaliation', 6928: 'commercial', 6929: 'smokers', 6930: 'declaration', 6931: 'bargain', 6932: 'understatement', 6933: 'nervous', 6934: 'counter', 6935: 'signaling', 6936: 'edge', 6937: 'skittishness', 6938: 'june', 6939: 'repair', 6940: 'allegations', 6941: 'cocky', 6942: 'impressed', 6943: 'takeshi', 6944: 'contemporary', 6945: 'parking', 6946: 'entering', 6947: 'structural', 6948: 'merrick', 6949: 'celebrate', 6950: 'flows', 6951: 'finds', 6952: 'classed', 6953: 'johnson', 6954: 'uncanny', 6955: 'citing', 6956: 'figure', 6957: 'containers', 6958: 'strategic', 6959: 'rounds', 6960: 'inappropriate', 6961: 'describe', 6962: 'homes', 6963: 'predictable', 6964: 'platt', 6965: 'rexinger', 6966: 'harass', 6967: 'eric', 6968: 'targeting', 6969: 'affiliate', 6970: 'overlap', 6971: 'weighing', 6972: 'passages', 6973: 'erasures', 6974: 'traitor', 6975: 'reduction', 6976: 'quick', 6977: 'fargo', 6978: 'show', 6979: 'another', 6980: 'ricken', 6981: 'temple', 6982: 'mail', 6983: 'rapists', 6984: 'entire', 6985: 'embarrassing', 6986: 'factor', 6987: 'dilemma', 6988: 'fees', 6989: 'chance', 6990: 'peripheral', 6991: 'plastic', 6992: 'genuine', 6993: 'video', 6994: 'walt', 6995: 'normally', 6996: 'divest', 6997: 'course', 6998: 'modestly', 6999: '19', 7000: 'warrants', 7001: 'dessert', 7002: 'pointed', 7003: 'h.n.', 7004: 'maughan', 7005: 'brown', 7006: 'night', 7007: '339', 7008: 'implant', 7009: 'high-quality', 7010: 'will', 7011: 'david', 7012: 'shapiro', 7013: 'bell-ringer', 7014: 'fellowship', 7015: 'labor-intensive', 7016: 'default', 7017: 'spitler', 7018: 'skyrocketed', 7019: 'financially', 7020: 'three-year', 7021: 'currently', 7022: 'vose', 7023: 'owns', 7024: 'terminated', 7025: 'energy', 7026: 'specializing', 7027: 'pennview', 7028: 'unproven', 7029: 'suffer', 7030: 'lessening', 7031: 'vinyl', 7032: 'ratings', 7033: 'mechanisms', 7034: 'aides', 7035: 'execs', 7036: 'controls', 7037: 'mid-october', 7038: 'least', 7039: 'beneficiaries', 7040: 'implication', 7041: 'bowes', 7042: 'dialogue', 7043: 'dumpster', 7044: 'national', 7045: 'worksheets', 7046: 'exceedingly', 7047: 'enraged', 7048: 'stephen', 7049: 'disease', 7050: 'meetings', 7051: 'completion', 7052: 'wings', 7053: 'punishing', 7054: 'measurement', 7055: 'frozen', 7056: 'increasing', 7057: 'matter', 7058: '12', 7059: 'scheduled', 7060: '16,000', 7061: '2,500', 7062: 'wafers', 7063: 'prior', 7064: 'projector', 7065: 'vans', 7066: 'tied', 7067: 'weisfield', 7068: 'terrence', 7069: 'marder', 7070: 'academic', 7071: 'led', 7072: 'added', 7073: 'crashes', 7074: 'fee', 7075: 'matching', 7076: 'denies', 7077: 'siti', 7078: 'retires', 7079: 'downright', 7080: 'differential', 7081: 'position', 7082: 'diversification', 7083: 'century', 7084: 'butterfly', 7085: 'fibers', 7086: 'positioned', 7087: '450', 7088: 'agency', 7089: 'controversy', 7090: 'rita', 7091: 'demonstrating', 7092: 'incorporated', 7093: '89,500', 7094: 'church', 7095: 'after', 7096: 'got', 7097: 'marina', 7098: 'factories', 7099: 'hot', 7100: 'allowed', 7101: 'one-yen', 7102: 'cigna', 7103: 'indicators', 7104: 'here', 7105: 'kidney', 7106: 'exposures', 7107: 'evaporated', 7108: 'issued', 7109: 'brain', 7110: 'cautiously', 7111: 'warehousing', 7112: 'soldiers', 7113: 'happens', 7114: 'president', 7115: 'school-research', 7116: 'organized', 7117: 'neal', 7118: 'provided', 7119: 'one', 7120: 'recalls', 7121: 'wakui', 7122: 'obsession', 7123: 'tests', 7124: 'appealing', 7125: 'rusty', 7126: 'exact', 7127: '58-year-old', 7128: 'contract', 7129: 'rescheduled', 7130: 'north', 7131: 'gaining', 7132: '47.5', 7133: '1985', 7134: 'bretz', 7135: 'costly', 7136: 'pressing', 7137: 'their', 7138: 'sparked', 7139: 'thinks', 7140: 'worship', 7141: 'g.', 7142: 'she', 7143: 'voted', 7144: 'barking', 7145: 'schoolboys', 7146: 'split', 7147: 'license', 7148: 'leigh', 7149: 'renovated', 7150: 'genes', 7151: 'nondurable', 7152: '50,000', 7153: 'dissolves', 7154: 'smoking', 7155: 'feet', 7156: 'illegal', 7157: 'pramual', 7158: 'which', 7159: 'guigal', 7160: '250', 7161: 'responded', 7162: 'survive', 7163: 'booked', 7164: 'checkbook', 7165: 'federation', 7166: 'wilton', 7167: 'bias', 7168: 'presidents', 7169: 'modems', 7170: 'fretted', 7171: '1.39', 7172: 'chafic', 7173: 'environmental', 7174: 'inquiry', 7175: 'oliver', 7176: 'forgotten', 7177: 'fastest', 7178: 'demonstrations', 7179: 'content', 7180: 'merc', 7181: 'closed', 7182: 'lights', 7183: '4,393,237', 7184: 'comments', 7185: 'prominently', 7186: 'pegged', 7187: 'queuing', 7188: 'care', 7189: 'mather', 7190: 'net', 7191: 'corners', 7192: 'relationship', 7193: 'sides', 7194: 'reddington', 7195: 'officers', 7196: 'application', 7197: 'longstanding', 7198: 'close', 7199: 'ovation', 7200: 'stirlen', 7201: 'moving', 7202: 'frankly', 7203: 'day', 7204: 'meets', 7205: 'lorillard', 7206: 'studied', 7207: 'indefinitely', 7208: 'denver', 7209: 'eclectic', 7210: 'months', 7211: 'craze', 7212: 'steelworkers', 7213: 'partly', 7214: 'opposes', 7215: 'morning', 7216: 'host', 7217: 'demanding', 7218: 'italian', 7219: 'charm', 7220: 'ratepayers', 7221: 'baby', 7222: '1976', 7223: 'guaranteed', 7224: 'looming', 7225: 'voting', 7226: 'los', 7227: 'prayer', 7228: 'dormitory', 7229: '51-year-old', 7230: 'weakening', 7231: 'add', 7232: 'harsh', 7233: 'mudslinging', 7234: '16,072', 7235: 'responses', 7236: 'visitors', 7237: 'inventiveness', 7238: '1901', 7239: 'securities', 7240: 'creditor', 7241: 'global', 7242: 'up', 7243: 'holds', 7244: 'provides', 7245: 'recognizing', 7246: 'been', 7247: 'collective-bargaining', 7248: 'hurt', 7249: 'subskill', 7250: 'cash-flow', 7251: 'donor', 7252: 'inflated', 7253: 'giant', 7254: 'attracting', 7255: 'science', 7256: '18,000', 7257: 'restaurants', 7258: 'lives', 7259: 'posters', 7260: '143.80', 7261: 'tunes', 7262: 'gubernatorial', 7263: 'shugart', 7264: 'antinori', 7265: 'walking', 7266: 'self-regulatory', 7267: 'be', 7268: 'worse', 7269: 'pulling', 7270: 'telephone', 7271: 'cotton', 7272: '138', 7273: 'result', 7274: '3.253', 7275: 'decline', 7276: 'advance', 7277: 'ridgefield', 7278: 'premiums', 7279: 'totaling', 7280: 'reflected', 7281: 'k.', 7282: 'desultory', 7283: 'zealand', 7284: 'therefore', 7285: 'posing', 7286: 'improper', 7287: 'stewart', 7288: 'ai', 7289: 'east', 7290: 'dummies', 7291: '4.8', 7292: 'opinions', 7293: 'respite', 7294: 'argentina', 7295: 'change', 7296: 'fund', 7297: 'hundreds', 7298: 'year', 7299: 'apparently', 7300: 'whose', 7301: 'bush', 7302: 'nipponese', 7303: 'loyal', 7304: 'sasaki', 7305: 'lap-shoulder', 7306: 'seattle', 7307: 'goldinger', 7308: 'needy', 7309: 'chaotic', 7310: 'cause', 7311: 'tailored', 7312: 'world-wide', 7313: 'entrepreneur', 7314: 'support', 7315: 'orrick', 7316: 'economies', 7317: 'c.j.b.', 7318: 'coche-dury', 7319: 'ratners', 7320: '47', 7321: 'parlors', 7322: 'shaded', 7323: 'camille', 7324: 'centerbank', 7325: 'leave', 7326: 'del.', 7327: 'lifted', 7328: 'protecting', 7329: 'ringers', 7330: 'joseph', 7331: '45,000', 7332: 'guests', 7333: 'charges', 7334: 'allocated', 7335: 'congregation', 7336: 'faces', 7337: 'reinstatement', 7338: 'spread', 7339: 'respect', 7340: 'worst', 7341: 'paribas', 7342: 'protection', 7343: 'jim', 7344: 'hudnut', 7345: '10th', 7346: 'paltry', 7347: '71', 7348: 'automatic', 7349: '109.73', 7350: 'watanabe', 7351: 'mifflin', 7352: 'untrained', 7353: 'parliament', 7354: 'wrongdoing', 7355: 'retardation', 7356: 'sol', 7357: 'fewer', 7358: 'identity-management', 7359: 'hole', 7360: 'today', 7361: 'l.p.', 7362: 'reps', 7363: 'pressured', 7364: 'specifics', 7365: 'annually', 7366: 'lieutenant', 7367: 'development', 7368: 'march', 7369: 'repaid', 7370: 'practicing', 7371: 'doak', 7372: 'parties', 7373: 'causing', 7374: 'privacy', 7375: 'latin', 7376: 'version', 7377: 'about', 7378: 'sluggish', 7379: 'corridors', 7380: 'keeps', 7381: 'chandler', 7382: 'paul', 7383: 'replace', 7384: 'santa', 7385: 'address', 7386: 'entrance', 7387: 'company', 7388: 'performance', 7389: 'accepted', 7390: 'blocked', 7391: 'trudeau', 7392: 'suggest', 7393: 'decided', 7394: 'federal', 7395: 'use', 7396: 'trials', 7397: 'lauded', 7398: 'neighbors', 7399: 'touted', 7400: 'row', 7401: 'm.', 7402: 'particularly', 7403: 'mating', 7404: 'demise'}\n",
      "The training set contains: 359 oov words\n"
     ]
    }
   ],
   "source": [
    "def build_vocabulary(train_set):\n",
    "    l=[]\n",
    "    for i in tqdm(set(train_data['Words'].sum())):\n",
    "      l.append(i)\n",
    "    vocabulary={}\n",
    "    for k in range(0,len(l)):\n",
    "      if l[k] not in vocabulary.values():\n",
    "        vocabulary[k+1]=l[k]\n",
    "    return vocabulary\n",
    "\n",
    "voc=build_vocabulary(train_data)\n",
    "print(voc)\n",
    "\n",
    "oov1=set(voc.values()).difference(set(embedding_model.vocab.keys()))\n",
    "print(\"The training set contains: \"+str(len(oov1))+\" oov words\")"
   ]
  },
  {
   "cell_type": "code",
   "execution_count": 13,
   "metadata": {
    "colab": {
     "base_uri": "https://localhost:8080/",
     "height": 67,
     "referenced_widgets": [
      "11dd283313de4bebba9e712b451a3d29",
      "6b4474e7cacc4e7c9f200137b1721b51",
      "511afee4b8c34e23bf6fe187a4bc78a5",
      "64b7a74cad8344b6a8b1486f8bdbe490",
      "d746b62e7fc04462876acc1c8914cd89",
      "a4deebeb9f4a4d49b52395d690d854e5",
      "5c27a2e54e244200a375d07d53b0532a",
      "e2c47c2f82be4619a77718f8eb9acbef",
      "b5180c9ddf714d9db1aa36099f80c987",
      "15d46417167146e9b9f22e09486b7cac",
      "2cab1b37533f470da0c443a9301b7511"
     ]
    },
    "id": "AkBWqf2uO684",
    "outputId": "50273ef1-d248-4ba8-9a66-14ac76087747"
   },
   "outputs": [
    {
     "data": {
      "application/vnd.jupyter.widget-view+json": {
       "model_id": "11dd283313de4bebba9e712b451a3d29",
       "version_major": 2,
       "version_minor": 0
      },
      "text/plain": [
       "  0%|          | 0/7404 [00:00<?, ?it/s]"
      ]
     },
     "metadata": {},
     "output_type": "display_data"
    },
    {
     "name": "stdout",
     "output_type": "stream",
     "text": [
      "(7405, 100)\n"
     ]
    }
   ],
   "source": [
    "#from tutorials\n",
    "def build_embedding_matrix(embedding_model, voc):\n",
    "  embedding_matrix = np.zeros((len(voc) + 1, embedding_model.vector_size), dtype = np.float32) \n",
    "  for idx, word in tqdm(voc.items()):\n",
    "      try:\n",
    "          embedding_vector = embedding_model[word]\n",
    "      except (KeyError, TypeError):\n",
    "          embedding_vector = np.random.uniform(-0.01,0.01,embedding_model.vector_size)\n",
    "      embedding_matrix[idx] = embedding_vector\n",
    "  return embedding_matrix\n",
    "\n",
    "embedding_matrix=build_embedding_matrix(embedding_model,voc)\n",
    "print(embedding_matrix.shape)"
   ]
  },
  {
   "cell_type": "markdown",
   "metadata": {
    "id": "rwvckS3bkcjM"
   },
   "source": [
    "#Update vocabulary and embedding matrix for validation and test set"
   ]
  },
  {
   "cell_type": "code",
   "execution_count": 14,
   "metadata": {
    "colab": {
     "base_uri": "https://localhost:8080/",
     "height": 327,
     "referenced_widgets": [
      "7fc4165ea84748f48f60bb7ba3e61d2e",
      "31d35ee72c7c4034913f2d1af5c360c4",
      "712f84be9504408b86d2a20b5bfe81a1",
      "383da0551b4343578368f4b5cb5cb4ca",
      "b972d9c22fd54b25abc32133cc5064c6",
      "cc85d84d42954213ae044420fab84641",
      "1c61a7029aea4488bdc996fd2d92fa6a",
      "3c682a4169f54fe8a3ca396c59cb4fb1",
      "87e0f5edb4934055884b93fe4c01d6dd",
      "2db1794ffc78456eb86818bb5adb0934",
      "2b8a8c5dc32546ae989fa4bf130901c5",
      "6bd0f7ec82074c47ad757e3ec4b4e482",
      "9e927c7f77b042bd90c758b8376e7430",
      "7669c757598b4e06a83a49e242efa877",
      "f7b21b9adf3445bca36f1c332582ea4d",
      "4c2600a4352a4c15ab59e1519005fb93",
      "3efee2a4aa6c4abfbda03be9ebcf20b5",
      "29fb3dc42a8e4233a3954524c0e60af9",
      "48ed0e3ae6474528b73d3df0c2ebbbed",
      "94c58a354cbe4fbea1e2499fa8860092",
      "0c3b25d7596e4ea29e9b6eb45e9ba2ab",
      "1a4d093d544544fd99ab475836add532",
      "6ebb375ba8c64ac49cb337c6c48641a9",
      "d9c96cd2da42469b8c86fa371cd0bc22",
      "411363bf5415435887dd60d3f32bb662",
      "8d96b0e8c58741e7a7748edb47b40e8f",
      "2d493315ff624323b18642278d5793c8",
      "df00f6516aa64af5843f86f99ca9a9c7",
      "fceac8a6d3db4e788f5f31e674b30710",
      "5941960fcae7497a990458c82e9e5e22",
      "4dc5797af84b4cb3a32bd134827561f4",
      "ad068b927ecc426aa0850ea4d83cab44",
      "62b4153923fa41ffb193d1d8a0e949f4",
      "6f5d104843924a2d88b531d72228a223",
      "8dc7bb8cb79f41bc8aa60f0168c12104",
      "5680656bbf8d461cb1590ba73ad2a7d2",
      "79b8566a693a4bc9886a41c5deb565d5",
      "e8a89b0d8d0e47bfa2c7b6dc95bbe2a3",
      "030a0823e7a14a318c33eafa00a87f43",
      "d14ef0a57de048c7bc377f4a90dae495",
      "e19cf28905674edb9a2041b137eb5ff9",
      "6cdde1759400456ab0298a74a3835969",
      "b78cfe10e74445eaac490c870fc0c5da",
      "53e0f410e1a9429f9a77497c7a7a78d6"
     ]
    },
    "id": "ViLoQ10qPZJp",
    "outputId": "bfc27e6b-f629-4712-b5a8-17dd4be25007"
   },
   "outputs": [
    {
     "name": "stdout",
     "output_type": "stream",
     "text": [
      "For validation set: \n",
      "\n",
      "Found other: 189 oov words\n",
      "5420\n"
     ]
    },
    {
     "data": {
      "application/vnd.jupyter.widget-view+json": {
       "model_id": "7fc4165ea84748f48f60bb7ba3e61d2e",
       "version_major": 2,
       "version_minor": 0
      },
      "text/plain": [
       "  0%|          | 0/2497 [00:00<?, ?it/s]"
      ]
     },
     "metadata": {},
     "output_type": "display_data"
    },
    {
     "data": {
      "application/vnd.jupyter.widget-view+json": {
       "model_id": "6bd0f7ec82074c47ad757e3ec4b4e482",
       "version_major": 2,
       "version_minor": 0
      },
      "text/plain": [
       "  0%|          | 0/2497 [00:00<?, ?it/s]"
      ]
     },
     "metadata": {},
     "output_type": "display_data"
    },
    {
     "name": "stdout",
     "output_type": "stream",
     "text": [
      "Embedding matrix shape: (9902, 100)\n",
      "For test set: \n",
      "\n",
      "Found other: 128 oov words\n",
      "3407\n"
     ]
    },
    {
     "data": {
      "application/vnd.jupyter.widget-view+json": {
       "model_id": "6ebb375ba8c64ac49cb337c6c48641a9",
       "version_major": 2,
       "version_minor": 0
      },
      "text/plain": [
       "  0%|          | 0/1046 [00:00<?, ?it/s]"
      ]
     },
     "metadata": {},
     "output_type": "display_data"
    },
    {
     "data": {
      "application/vnd.jupyter.widget-view+json": {
       "model_id": "6f5d104843924a2d88b531d72228a223",
       "version_major": 2,
       "version_minor": 0
      },
      "text/plain": [
       "  0%|          | 0/1046 [00:00<?, ?it/s]"
      ]
     },
     "metadata": {},
     "output_type": "display_data"
    },
    {
     "name": "stdout",
     "output_type": "stream",
     "text": [
      "Embedding matrix shape: (10948, 100)\n"
     ]
    }
   ],
   "source": [
    "def update_voc(new_data,voc,embedding_model,embedding_matrix):\n",
    "  ##finding oov\n",
    "      known_words=set(embedding_model.vocab.keys()).union(set(voc.values()))\n",
    "      oov = set(new_data['Words'].sum()).difference(set(known_words))\n",
    "      print(\"Found other: \"+str(len(list(oov)))+\" oov words\")\n",
    "\n",
    "      #computing new vocabulary\n",
    "      print(len(list(set(new_data['Words'].sum()))))\n",
    "      new_words=set(new_data['Words'].sum()).difference(set(voc.values()))\n",
    "      base=len(voc.keys())\n",
    "      for i in tqdm(range(0,len(list(new_words)))):\n",
    "        voc[base+i+1]=list(new_words)[i]\n",
    "      if len(new_words) > 0:\n",
    "        for k in tqdm(new_words):\n",
    "          try:\n",
    "            embedding_vector = embedding_model[k]\n",
    "          except (KeyError, TypeError):\n",
    "            embedding_vector = np.random.uniform(-0.01,0.01,embedding_model.vector_size)\n",
    "          \n",
    "          embedding_matrix = np.vstack((embedding_matrix, embedding_vector))\n",
    "      print(\"Embedding matrix shape: \" + str(embedding_matrix.shape))\n",
    "      return embedding_matrix,voc\n",
    "\n",
    "\n",
    "print(\"For validation set: \\n\")\n",
    "embedding_matrix, voc = update_voc(val_data,voc,embedding_model,embedding_matrix)\n",
    "\n",
    "print(\"For test set: \\n\")\n",
    "embedding_matrix, voc = update_voc(test_data,voc,embedding_model,embedding_matrix)\n",
    "\n"
   ]
  },
  {
   "cell_type": "markdown",
   "metadata": {
    "id": "I8HsMVcZklJ3"
   },
   "source": [
    "#Data preparation"
   ]
  },
  {
   "cell_type": "code",
   "execution_count": 15,
   "metadata": {
    "colab": {
     "base_uri": "https://localhost:8080/"
    },
    "id": "qg4MRw245pn-",
    "outputId": "4ced1c5e-c53f-405d-9301-bbf93ebb7fc8"
   },
   "outputs": [
    {
     "name": "stdout",
     "output_type": "stream",
     "text": [
      "10947\n",
      "{1: 'eased', 2: 'should', 3: 'scenes', 4: 'standpoint', 5: 'flooded', 6: 'groucho', 7: 'candidate', 8: 'located', 9: 'leming', 10: 'strings', 11: 'navy', 12: 'cheerleading', 13: 'waiting', 14: 'plantation', 15: 'chile', 16: 'standard', 17: 'titans', 18: 'breaker', 19: 'kidnapping', 20: 'precise', 21: 'markey', 22: 'calif.', 23: 'rust', 24: 'careful', 25: 'onus', 26: '400,000', 27: 'economists', 28: 'twinned', 29: 'cigarettes', 30: 'country', 31: 'received', 32: 'roman', 33: 'administrators', 34: 'baker', 35: 'sen.', 36: 'u.s.', 37: 'spinoff', 38: 'quite', 39: 'executives', 40: 'bond', 41: 'stemming', 42: 'common', 43: 'grgich', 44: 'grapes', 45: 'friendship', 46: 'referring', 47: 'middle', 48: 'gates', 49: 'sacked', 50: '33', 51: 'nagymaros', 52: 'compiled', 53: 'headrests', 54: 'transaction', 55: 'presumably', 56: 'needham', 57: 'ready', 58: '500,004', 59: 'commerce', 60: 'addressing', 61: 'trucks', 62: 'concentrate', 63: 'edison', 64: 'christopher', 65: 'brokers', 66: 'governors', 67: 'mechanically', 68: 'drearier', 69: 'greatly', 70: 'assist', 71: '89.9', 72: 'outstrips', 73: 'champagnes', 74: 'torrent', 75: 'seat', 76: 'princely', 77: '2,000', 78: 'alarmed', 79: 'fetal', 80: 'vehicle', 81: 'disaffected', 82: 'fairly', 83: 'nobel', 84: 'reminded', 85: 'associates', 86: 'medicine', 87: '212', 88: 'unpleasant', 89: '353', 90: 'rekindled', 91: 'economical', 92: 'combat', 93: 'cutting', 94: 'griffin', 95: 'scientist', 96: 'carney', 97: 'card', 98: 'predicting', 99: 'lender', 100: 'secretary', 101: 'husband', 102: 'assistance', 103: 'palmer', 104: 'military', 105: 'vague', 106: '143.08', 107: 'nbc', 108: 'developments', 109: 'impudent', 110: 'requests', 111: 'trojan', 112: 'cared', 113: 'expelled', 114: 'surgeon', 115: 'triple', 116: 'bitterness', 117: 'loose', 118: 'litigation', 119: 'speaks', 120: 'soups', 121: 'word', 122: 'extramarital', 123: 'donald', 124: 'matched', 125: 'we-japanese', 126: 'imply', 127: '36', 128: 'mcgraw-hill', 129: '31', 130: \"'ve\", 131: 'baseball', 132: 'weigh', 133: 'responsibility', 134: '1983', 135: 'stoked', 136: 'would', 137: 'pirates', 138: 'unleashed', 139: 'worrying', 140: 'dry', 141: 'approval', 142: 'c.', 143: 'ghkm', 144: 'equal-opportunity', 145: '500-stock', 146: 'pass', 147: '1\\\\/10th', 148: 'noticing', 149: 'existing', 150: 'writers', 151: 'ring', 152: 'tested', 153: 'challenging', 154: 'victor', 155: 'balked', 156: 'define', 157: 'bring', 158: 'eagleton', 159: 'pursued', 160: 'ky.', 161: 'square', 162: 'underpin', 163: 'equally', 164: 'index-related', 165: 'stark', 166: 'hauled', 167: '8.53', 168: '150.00', 169: 'awfully', 170: 'indicates', 171: '64.5', 172: 'unbearably', 173: 'contends', 174: 'comment', 175: 'crunch', 176: 'captive', 177: 'interstate', 178: 'tarwhine', 179: 'withstand', 180: 'referrals', 181: 'trigger', 182: 'below', 183: 'replicating', 184: 'correcting', 185: 'jalaalwalikraam', 186: 'considered', 187: 'wheel-loader', 188: 'orville', 189: 'fabricate', 190: 'specialty', 191: \"'m\", 192: 'smartly', 193: 'industry', 194: 'excellence', 195: '29.4', 196: 'plo', 197: 'discordant', 198: 'disparate', 199: 'make', 200: 'cray', 201: 'prohibits', 202: 'restaurant', 203: 'years', 204: 'denying', 205: 'due', 206: 'seagate', 207: '9.5', 208: 'touchy', 209: '10.2', 210: 'third', 211: 'faithful', 212: 'track', 213: 'woman', 214: 'tallies', 215: 'disregard', 216: 'worries', 217: 'anticipating', 218: 'slides', 219: 'lake', 220: '20', 221: 'very', 222: 'dead', 223: '75', 224: 'sauvignon', 225: '46.1', 226: 'reinstating', 227: 'avoid', 228: 'infringed', 229: '90-cent-an-hour', 230: '$', 231: 'morale-damaging', 232: 'adjusted', 233: 'pull', 234: 'michio', 235: 'cray-3', 236: 'structures', 237: '3.9', 238: 'piece', 239: 'attacking', 240: 'numbered', 241: 'programming', 242: 'occupying', 243: 'kirkpatrick', 244: 'preliminary', 245: 'kearny', 246: 'pitches', 247: 'pattenden', 248: 'impose', 249: 'subscriptions', 250: 'to', 251: 'grace', 252: 'skilled', 253: 'house', 254: 'elected', 255: 'utah', 256: 'maxwell', 257: 'plays', 258: '2.875', 259: 'eliminate', 260: 'teacher-cadet', 261: 'phase', 262: 'south', 263: 'effect', 264: '38.3', 265: '133.7', 266: 'cozy', 267: 'overall', 268: 'status', 269: 'stated', 270: 'whiting', 271: 'assumption', 272: 'fishman', 273: 'principal', 274: '51.25', 275: '1.9', 276: 'represented', 277: 'unless', 278: 'high-stakes', 279: 'daniels', 280: 'meaning', 281: 'pc', 282: 'chief', 283: 'seen', 284: 'opponents', 285: 'fault', 286: '600,000', 287: 'denial', 288: 'resists', 289: 'danforth', 290: 'certain', 291: 'westborough', 292: 'stages', 293: 'wayland', 294: '17-year-old', 295: 'benefited', 296: 'school-sponsored', 297: 'bulls', 298: 'declining', 299: 'prize-fighter', 300: 'savings', 301: '10-day', 302: 'bells', 303: '1917', 304: 'behaving', 305: 'callers', 306: 'sheaf', 307: 'british', 308: 'contracted', 309: 'remained', 310: 'student-test', 311: 'punishment', 312: 'sacramento', 313: 'intention', 314: 'activities', 315: 'warning', 316: 'haney', 317: 'sacrificing', 318: 'italy', 319: 'chefs', 320: 'clerks', 321: '13', 322: 'pasta', 323: 'idea', 324: 'tea', 325: 'proposing', 326: 'pressures', 327: 'bailey', 328: 'numeral', 329: 'forest-product', 330: 'meant', 331: 'money-market', 332: 'kits', 333: 'semiconductor', 334: 'buckle', 335: 'awards', 336: 'cutbacks', 337: 'type', 338: 'seasonal', 339: 'disclosing', 340: 'capacity', 341: 'classes', 342: 'achieved', 343: 'prejudice', 344: 'neighborhood', 345: 'train', 346: 'calling', 347: 'chat', 348: 'triton', 349: 'filters', 350: 'crushed', 351: 'applications', 352: '82,389', 353: 'few', 354: 'napolitan', 355: 'leaders', 356: '98', 357: 'deterring', 358: 'raised', 359: 'newsweek', 360: 'live', 361: 'particulars', 362: 'proposals', 363: 'stretching', 364: 'closer', 365: 'anyone', 366: 'rural', 367: 'tobacco', 368: '21.9', 369: 'display', 370: 'surged', 371: 'mignon', 372: 'drobnick', 373: 'skipped', 374: 'felt', 375: 'hardly', 376: 'friendly', 377: 'from', 378: 'autumn', 379: '0.2', 380: 'projects', 381: 'encroaching', 382: 'talking', 383: 'four-year', 384: 'modification', 385: 'contributing', 386: 'slowing', 387: 'lackluster', 388: '``', 389: 'leapt', 390: 'count', 391: 'dan', 392: 'agents', 393: 'names', 394: 'qualify', 395: 'drove', 396: 'coming', 397: 'step', 398: 'dingell', 399: 'redemption', 400: 'vicars', 401: 'toys', 402: 'attracted', 403: 'stirred', 404: 'princeton', 405: 'behind', 406: '4,000', 407: 'technical', 408: 'inspirational', 409: 'two-sevenths', 410: 'troubled', 411: 'cask', 412: 'telling', 413: 'proper', 414: 'loved', 415: 'officials', 416: 'combinations', 417: 'judging', 418: 'greenville', 419: 'worthy', 420: 'regulatory', 421: 'evensong', 422: 'happen', 423: 'impressive', 424: 'nationwide', 425: 'were', 426: '11.5', 427: 'landis', 428: 'passbook', 429: 'maintained', 430: 'balls', 431: 'thus', 432: 'finance', 433: 'kids', 434: 'sensitive', 435: 'offer', 436: 'parallels', 437: 'acknowledging', 438: 'lately', 439: 'democrats', 440: 'lawyers', 441: 'detective-story', 442: 'aide', 443: 'tad', 444: 'purpose', 445: 'deteriorated', 446: 'mexico', 447: 'pratt', 448: 'ft-se', 449: 'milestone', 450: 'editor', 451: 'escort', 452: 'prepare', 453: '1986', 454: 'trends', 455: '86.12', 456: 'sole', 457: 'necessary', 458: 'return', 459: 'six', 460: 'succeeding', 461: 'entrants', 462: 'dividend', 463: 'easily', 464: 'next', 465: 'truthful', 466: 'counterparts', 467: 'fit', 468: '160', 469: 'gregory', 470: 'problem', 471: 'punitive', 472: 'closeness', 473: 'boom', 474: 'workers', 475: 'sabhavasu', 476: 'backed', 477: 'profitable', 478: 'discontent', 479: 'independent', 480: 'person', 481: 'mortgage-based', 482: 'ac-130u', 483: 'nekoosa', 484: '5.276', 485: 'marvelously', 486: 'stephanie', 487: 'peaks', 488: 'najarian', 489: 'unico', 490: 'supercilious', 491: 'sociology', 492: 'raring', 493: 'random', 494: 'compel', 495: 'conviction', 496: 'composer', 497: 'marietta', 498: 'tandy', 499: 'desktop', 500: 'former', 501: 'younger', 502: 'file', 503: 'steel', 504: 'lafite-rothschild', 505: 'afflicted', 506: 'no', 507: 'arm', 508: 'stood', 509: 'mutual', 510: '1966', 511: 'candidates', 512: 'neighborhoods', 513: 'despite', 514: 'flourish', 515: 'launch', 516: 'chardonnay', 517: 'weight', 518: 'acquired', 519: 'jefferson', 520: 'ongoing', 521: '467', 522: 'vargas', 523: 'academically', 524: 'climate', 525: 'security-type', 526: 'angelo', 527: 'episodes', 528: 'invested', 529: '2.29', 530: 'each', 531: 'dances', 532: 'pressed', 533: '400', 534: 'see', 535: 'investigation', 536: 'jovanovich', 537: 'grandstander', 538: 'fall', 539: 'burt', 540: 'inc.', 541: 'breach', 542: 'operated', 543: 'cash', 544: 'climbing', 545: 'ended', 546: 'size', 547: 'austere', 548: '234.4', 549: 'date', 550: 'long', 551: 'polyester', 552: 'spence', 553: 'trader', 554: '2.6', 555: 'barrels', 556: '59.6', 557: 'ire', 558: 'privilege', 559: 'assumed', 560: 'acquisition', 561: 'record-keeping', 562: '18', 563: 'pa.', 564: 'stays', 565: 'authority', 566: 'engineering', 567: 'hope', 568: 'declined', 569: 'research', 570: 'near-record', 571: 'deputy', 572: 'backer', 573: 'smaller', 574: 'large', 575: 'shorter', 576: 'contained', 577: 'whom', 578: 'carolina', 579: 'tricky', 580: 'obstacles', 581: 'further', 582: '3.35', 583: 'competed', 584: 'filmed', 585: 'charge', 586: 'roughly', 587: 'undisclosed', 588: '2.25', 589: 'tache', 590: 'mortgage', 591: 'protesters', 592: 'casts', 593: 'jointly', 594: 'took', 595: 'n.m.', 596: 'on', 597: 'frequency', 598: 'depending', 599: 'hiroshima', 600: '2019', 601: 'committees', 602: 'could', 603: 'comedies', 604: 'guinea', 605: 'takes', 606: 'tried', 607: 'exactly', 608: 'teenage', 609: 'rope', 610: 'improving', 611: 'fail', 612: 'ones', 613: 'rothschild', 614: 'angeles', 615: 'covered', 616: 'industrialized', 617: 'chevrolet', 618: 'organization', 619: 'instituted', 620: 'boyfriends', 621: 'dominus', 622: 'tv', 623: 'authorized', 624: 'enters', 625: 'list', 626: 'turning', 627: 'systems', 628: 'automotive-lighting', 629: 'plans', 630: 'interviewed', 631: 'roll', 632: 'new', 633: '3,288,453', 634: 'sake', 635: 'braun', 636: \"n't\", 637: 'resonate', 638: 'fare', 639: 'park', 640: 'stock', 641: 'one-country', 642: 'understood', 643: 'warren', 644: 'wake', 645: 'gauges', 646: 'union', 647: '1.28', 648: 'court', 649: '490', 650: 'regarding', 651: 'fabled', 652: 'routine', 653: '8.14', 654: 'wine-making', 655: 'prototype', 656: 'son', 657: 'child', 658: '93', 659: 'promissory', 660: 'minute', 661: 's.p', 662: 'exxon', 663: 'outcry', 664: 'renew', 665: 'suspended', 666: 'restructure', 667: 'mercer', 668: 'patricia', 669: 'who', 670: '12.5', 671: 'certainly', 672: 'rap', 673: 'enforcement', 674: 'positions', 675: 'ease', 676: 'forward', 677: 'selling', 678: 'prize', 679: 'aghast', 680: 'raw', 681: 'cru', 682: 'brownell', 683: 'belfry', 684: 'delay', 685: 'scholastic', 686: 'unattractive', 687: 'therapies', 688: 'smoke', 689: 'criminal', 690: 'sales', 691: 'miklos', 692: 'india', 693: 'stronger', 694: '1934', 695: 'lefcourt', 696: 'tramp', 697: 'anne', 698: 'snow', 699: 'rim', 700: 'davenport', 701: 'amphobiles', 702: 'materialistic', 703: 'kappa', 704: 'telephones', 705: 'entice', 706: 'appeals', 707: '10-lap', 708: 'madly', 709: 'answers', 710: 'number', 711: 'killed', 712: 'weakness', 713: 'university', 714: 'ushers', 715: '1960s', 716: 'extent', 717: 'named', 718: 'suggests', 719: 'prof', 720: '4.3', 721: 'logic', 722: 'keep', 723: 'office', 724: 'mushy', 725: 'letting', 726: 'improve', 727: 'videocassette', 728: 'fuentes', 729: 'codified', 730: 'sliding', 731: 'reflects', 732: 'his', 733: 'above', 734: 'disciplined', 735: 'existed', 736: 'amusing', 737: 'audit', 738: 'message', 739: 'generate', 740: 'quarters', 741: 'jamaica', 742: 'stadium', 743: 'screens', 744: 'act', 745: 'heads', 746: 'wpp', 747: 'grade', 748: 'metals', 749: 'paper', 750: 'striking', 751: '22.75', 752: 'neil', 753: 'acceded', 754: 'invent', 755: 'also', 756: 'houses', 757: '63-year-old', 758: 'prefecture', 759: 'crowd', 760: 'cdc', 761: 'speed', 762: 'disagreeable', 763: 'promoting', 764: 'quitting', 765: 'handle', 766: 'tired', 767: 'provide', 768: 'long-term', 769: 'metric', 770: 'electric', 771: 'stock-market', 772: 'xiaoping', 773: 'german', 774: '1.55', 775: 'drop-off', 776: 'produced', 777: 'fold', 778: '-lrb-', 779: 'thrifts', 780: '53', 781: 'ramirez', 782: 'billed', 783: 'jacksonville', 784: 'senate', 785: 'antonio', 786: 'disciplinary', 787: 'greatest', 788: 'surplus', 789: 'main', 790: 'separate', 791: 'beaten', 792: 'drives', 793: 'ultimately', 794: 'accumulated', 795: 'heightened', 796: 'objectives', 797: 'capsules', 798: 'patents', 799: 'bases', 800: 'concluded', 801: 'holding', 802: 'raising', 803: 'central', 804: 'landfill', 805: 'replies', 806: '214', 807: 'across', 808: \"''\", 809: 'faculty', 810: 'lesser', 811: 'adopting', 812: 'dobson', 813: 'competitors', 814: 'pitcher', 815: 'multilevel', 816: 'locked', 817: 'blip', 818: 'sell', 819: 'prolonged', 820: 'condemned', 821: 'political', 822: 'strong', 823: 'fax', 824: 'pretax', 825: 'farren', 826: '3.80', 827: 'ministry', 828: 'format', 829: 'teddy', 830: 'willing', 831: 'incident', 832: 'sites', 833: 'asset', 834: 'retired', 835: 'writing', 836: 'security', 837: 'communication', 838: 'professional', 839: 'ibc', 840: 'totally', 841: 'acts', 842: 'reagan', 843: 'class', 844: 'preset', 845: '2.1', 846: 'lauderhill', 847: '40', 848: 'abortion', 849: 'schoolteacher', 850: 'u.s.s.r.', 851: 'morita', 852: 'earn', 853: '99.1', 854: 'mr.', 855: 'french', 856: 'merrill', 857: 'casting', 858: 'mayor', 859: 'awarding', 860: 'defended', 861: 'basis', 862: 'chemplus', 863: 'salmore', 864: 'compare', 865: 'continued', 866: 'opinion', 867: 'baldwin', 868: 'serve', 869: 'samnick', 870: 'element', 871: 'fountain', 872: 'exercised', 873: 'marchese', 874: 'reins', 875: 'lowest', 876: 'slate', 877: 'boys', 878: 'switching', 879: 'ask', 880: 'stepped', 881: 'builds', 882: 'leroy', 883: 'blind', 884: 'equipped', 885: 'direct-investment', 886: '36-minute', 887: 'subscriber', 888: 'watson', 889: 'week', 890: 'owned', 891: 'manfred', 892: 'swing', 893: 'formed', 894: 'term', 895: '26.2', 896: 'tokyo', 897: 'predecessor', 898: 'vitulli', 899: 'dead-eyed', 900: 'helping', 901: 'hara', 902: 'shuxian', 903: 'harassment', 904: 'smelting', 905: 'businessman', 906: 'ancient', 907: 'contracts', 908: 'dugdale', 909: 'bold', 910: 'encounter', 911: 'foreign-stock', 912: 'invades', 913: 'semesters', 914: 'massacre', 915: 'blow', 916: 'formula', 917: 'mitsubishi', 918: 'pick-up', 919: 'caused', 920: 'nicole', 921: 'enright', 922: 'goal', 923: '40-year-old', 924: 'checking', 925: 'emile', 926: 'foreigners', 927: 'everyone', 928: 'coxon', 929: 'populated', 930: 'within', 931: 'briefing', 932: 'demand', 933: 'analysts', 934: 'game', 935: '77,000', 936: 'whelen', 937: '9.45', 938: 'rule', 939: '300', 940: 'rich', 941: 'looking', 942: 'conference', 943: 'williams', 944: 'unwashed', 945: 'classics', 946: 'united', 947: 'shelby', 948: 'customer', 949: 'derel', 950: 'needle-like', 951: 'elderly', 952: 'trades', 953: 'five-point', 954: 'facial', 955: 'estates', 956: 'no.', 957: 'stakes', 958: 'starts', 959: 'currencies', 960: 'clive', 961: 'wrong', 962: 'mental', 963: 'biscayne', 964: 'much', 965: 'par', 966: 'literary', 967: '325,000', 968: 'congressmen', 969: 'rival', 970: 'worry', 971: 'heartland', 972: 'rockwell', 973: 'ca', 974: 'important', 975: 'enacted', 976: 'caught', 977: 'specialist', 978: 'reports', 979: 'acceptance', 980: 'executing', 981: 'sunny', 982: 'surprise', 983: '125', 984: 'replacement-car', 985: 'lengthen', 986: 'realized', 987: 'pushing', 988: 'foam', 989: '352.7', 990: 'offering', 991: 'northy', 992: 'fighting', 993: 'bob', 994: 'social-studies', 995: 'fixed-rate', 996: 'kindergarten', 997: 'jacob', 998: '63', 999: 'hong', 1000: 'wilfred', 1001: 'journal', 1002: 'kit', 1003: 'spend', 1004: 'relation', 1005: 'observations', 1006: 'pushes', 1007: 'negotiating', 1008: 'tenn.', 1009: 'merge', 1010: 'foul', 1011: 'chrysotile', 1012: 'software', 1013: 'dallas', 1014: 'dismissed', 1015: 'hoffman', 1016: 'shareholder', 1017: 'reviewing', 1018: 'olsen', 1019: 'characterizing', 1020: 'bankruptcy', 1021: '1979', 1022: 'delivery', 1023: 'petrus', 1024: 'interested', 1025: 'stand', 1026: 'committing', 1027: 'elizabeth', 1028: 'equity', 1029: 'resume', 1030: 'summer\\\\/winter', 1031: 'york-based', 1032: 'dam', 1033: 'pro-choice', 1034: 'speculators', 1035: 'investor', 1036: 'wages', 1037: 'actual', 1038: 'career', 1039: 'extraordinary', 1040: 'chamber', 1041: 'passed', 1042: 'mass.', 1043: 'reflection', 1044: 'these', 1045: 'believed', 1046: 'output', 1047: 'plunge', 1048: 'nonetheless', 1049: 'slump', 1050: 'jews', 1051: 'offender', 1052: 'camera', 1053: '37.3', 1054: 'successful', 1055: 'urge', 1056: 'lent', 1057: 'larger', 1058: 'gerard', 1059: 'yen-denominated', 1060: 'spokewoman', 1061: 'noting', 1062: 'receipts', 1063: 'fragmentation', 1064: 'perpetuate', 1065: 'spin-off', 1066: 'seem', 1067: 'modify', 1068: 'lesions', 1069: 'valhi', 1070: 'acquisitions', 1071: 'feelings', 1072: 'kathryn', 1073: 'nasd', 1074: 'unfair-trade', 1075: 'advised', 1076: 'robustly', 1077: 'manufacture', 1078: 'rise', 1079: 'rejected', 1080: '36.9', 1081: 'altruistic', 1082: 'sells', 1083: 'third-highest', 1084: 'peck', 1085: 'ronald', 1086: 'lawsuits', 1087: 'needed', 1088: 'doubled', 1089: 'suppliers', 1090: '47.6', 1091: 'guilty', 1092: 'rarely', 1093: 'mailed', 1094: 'meal', 1095: 'democratic', 1096: '497.34', 1097: 'houston', 1098: 'unauthorized', 1099: 'hotel', 1100: 'harped', 1101: 'halts', 1102: 'kligman', 1103: 'georgia-pacific', 1104: 'joint', 1105: 'suing', 1106: 'images', 1107: 'food-shop', 1108: 'reciting', 1109: 'ads', 1110: 'asset-sale', 1111: 'mathematical', 1112: 'ban', 1113: 'burlap', 1114: 'slowdown', 1115: 'advisory', 1116: 'retin-a', 1117: 'billionaire', 1118: 'breakers', 1119: 'spotted', 1120: 'picture', 1121: 'belonging', 1122: '75-year-old', 1123: 'ethical', 1124: 'inadequacy', 1125: 'duckling', 1126: 'language', 1127: 'wa', 1128: 'expects', 1129: 'special', 1130: 'so', 1131: 'belfries', 1132: 'disturbing', 1133: 'search-and-seizure', 1134: 'powder', 1135: 'dust', 1136: 'customers', 1137: 'pat', 1138: 'faded', 1139: 'firms', 1140: 'boast', 1141: 'parkinson', 1142: 'pleased', 1143: 'calculations', 1144: 'converting', 1145: 'assured', 1146: 'signal', 1147: 'sorting', 1148: '49', 1149: 'representative', 1150: 'watch', 1151: 'tone', 1152: 'test-preparation', 1153: 'issuing', 1154: 'ms.', 1155: 'situation', 1156: 'growths', 1157: 'real-estate', 1158: 'earned', 1159: 'backlogs', 1160: 'hatch', 1161: 'prosecutor', 1162: 'viewers', 1163: 'different', 1164: 'so-called', 1165: 'buyers', 1166: 'moreover', 1167: 'walkman', 1168: 'resignation', 1169: 'removal', 1170: 'combo', 1171: 'residence', 1172: 'works', 1173: 'lay', 1174: 'include', 1175: 'intelligence', 1176: 'pharmaceutical', 1177: 'prestige', 1178: 'attempt', 1179: 'they', 1180: 'punish', 1181: 'example', 1182: 'high-rise', 1183: 'seeking', 1184: 'entertainment', 1185: '93,000', 1186: 'rbc', 1187: 'prestigious', 1188: 'nbc-owned', 1189: 'concerns', 1190: 'exposure', 1191: 'hopes', 1192: 'test', 1193: 'bend', 1194: 'threatened', 1195: 'booklets', 1196: 'sanctions', 1197: 'serving', 1198: 'martyr', 1199: 'czechoslovakia', 1200: 'perspective', 1201: 'guided', 1202: 'congressman', 1203: 'regulating', 1204: 'sci', 1205: 'integra', 1206: 'philippine', 1207: 'industry-wide', 1208: 'personal', 1209: 'sketch', 1210: 'space', 1211: 'periods', 1212: 'into', 1213: 'insist', 1214: 'hustlers', 1215: 'protests', 1216: 'parents', 1217: '8.19', 1218: 'places', 1219: 'upstream', 1220: 'area', 1221: 'resubmit', 1222: 'fernando', 1223: 'wild', 1224: 'adequately', 1225: 'advertise', 1226: 'converted', 1227: 'attorneys', 1228: 'bags', 1229: 'youngsters', 1230: 'consolidated', 1231: 'wilcox', 1232: 'acetate', 1233: 'refunds', 1234: 'raton', 1235: 'clerics', 1236: '73', 1237: 'rubicam', 1238: 'pine', 1239: '139', 1240: 'lagging', 1241: 'somerset', 1242: 'institutions', 1243: 'pate', 1244: '28.4', 1245: 'dealers', 1246: 'clearing', 1247: 'delete', 1248: '77.56', 1249: 'car-safety', 1250: 'double-digit', 1251: 'raleigh', 1252: 'rest', 1253: 'with', 1254: 'complain', 1255: 'illuminating', 1256: 'unintelligible', 1257: 'core', 1258: '72.7', 1259: 'dana-farber', 1260: 'bill', 1261: 'was', 1262: 'entertaining', 1263: 'clears', 1264: 'health', 1265: 'funds', 1266: 'n.h.', 1267: 'solved', 1268: 'protest', 1269: 'supposedly', 1270: 'ritual', 1271: 'checks', 1272: 'originally', 1273: 'nationale', 1274: 'sundays', 1275: 'trailed', 1276: 'red-blooded', 1277: 'pricing', 1278: 'already', 1279: 'previous', 1280: 'nightmare', 1281: 'counseling', 1282: 'accessories', 1283: 'aisles', 1284: 'aloha', 1285: 'bridgestone\\\\/firestone', 1286: 'statement', 1287: 'promotions', 1288: 'sometimes-exhausting', 1289: 'cooper', 1290: 'ventilated', 1291: 'intellectual', 1292: 'temptation', 1293: 'nih', 1294: 'dust-up', 1295: 'language-housekeeper', 1296: 'adding', 1297: 'out', 1298: 'couple', 1299: 'orchestra', 1300: 'philippines', 1301: 'beta', 1302: 'limit', 1303: 'filing', 1304: 'requested', 1305: 'regional', 1306: 'utility', 1307: 'haut-brion', 1308: 'scowcroft', 1309: 'tidily', 1310: 'spark', 1311: 's&l', 1312: '2.2', 1313: 'designed', 1314: 'become', 1315: 'simply', 1316: 'retaining', 1317: 'indictment', 1318: 'novello', 1319: 'favorite', 1320: 'ala.', 1321: 'deemed', 1322: 'savers\\\\/investors', 1323: '45', 1324: 'disapprove', 1325: 'evoke', 1326: 'publicly', 1327: 'homebrew', 1328: '188', 1329: 'yang', 1330: 'dale', 1331: 'rash', 1332: 'billion', 1333: 'mention', 1334: '118.6', 1335: 'powwow', 1336: 'early', 1337: 'colleagues', 1338: 'calif', 1339: 'poorly', 1340: 'zuckerman', 1341: 'driscoll', 1342: 'internatonal', 1343: 'worker', 1344: 'refunding', 1345: 'tradition', 1346: '23.72', 1347: 'blamed', 1348: 'providing', 1349: 'human', 1350: 'branches', 1351: '520-lawyer', 1352: 'red-and-white', 1353: '5.39', 1354: 'general', 1355: 'material', 1356: 'enlarged', 1357: 'caters', 1358: 'liberation', 1359: 'entitles', 1360: 'reinvestment', 1361: 'talcott', 1362: 'seriously', 1363: 'yen', 1364: 'reached', 1365: 'distinguished', 1366: 'spouse', 1367: 'skidded', 1368: 'soviet', 1369: 'appropriate', 1370: 'jack', 1371: 'build', 1372: 'small-company', 1373: 'prosecution', 1374: 'concentrated', 1375: 'huxtable', 1376: 'exclusion', 1377: 'wtvj', 1378: 'perfectly', 1379: 'one-third', 1380: 'compared', 1381: 'soul', 1382: 'speech', 1383: 'statute', 1384: 'barred', 1385: 'intense', 1386: 'barrel', 1387: 'amounted', 1388: 'clarify', 1389: 'busiest', 1390: 'prosecuting', 1391: 'traffic', 1392: 'lufkin', 1393: 'repayment', 1394: 'dominion', 1395: \"'ll\", 1396: 'heated', 1397: 'adolph', 1398: 'circle', 1399: 'unjust', 1400: 'yielding', 1401: 'fuller', 1402: 'plants', 1403: 'instances', 1404: 'jet', 1405: 'salomon', 1406: 'differ', 1407: 'property', 1408: 'radio', 1409: 'houghton', 1410: 'eventually', 1411: 'quoted', 1412: 'lezovich', 1413: '3-4', 1414: 'manufacturing', 1415: 'are', 1416: 'giveaways', 1417: 'election', 1418: 'outpaced', 1419: 'observing', 1420: 'processors', 1421: 'oversee', 1422: '1991', 1423: 'business', 1424: 'ethel', 1425: 'ripen', 1426: 'inched', 1427: 'wash.', 1428: '8300s', 1429: 'subsidiary', 1430: 'proponent', 1431: 'upside', 1432: 'four-color', 1433: 'turnover', 1434: 'listed', 1435: 'indiana', 1436: '500,000', 1437: '9.8', 1438: 'driskill', 1439: 'ginsberg', 1440: 'irony', 1441: 'regard', 1442: 'cargo', 1443: 'seventh', 1444: 'introduce', 1445: 'strategies', 1446: 'conduit', 1447: 'macmillan\\\\/mcgraw-hill', 1448: 'big-ticket', 1449: 'regulate', 1450: 'areas', 1451: 'attract', 1452: 'involves', 1453: 'otc', 1454: 'barrier', 1455: 'justify', 1456: 'france', 1457: 'botched', 1458: 'stem', 1459: 'offense', 1460: 'character', 1461: 'photos', 1462: 'classmates', 1463: 'mid-size', 1464: 'interference', 1465: 'ohio', 1466: 'chip', 1467: 'slowdowns', 1468: 'cotran', 1469: 'against', 1470: 'humble', 1471: 'advertisements', 1472: 'minimal', 1473: 'called', 1474: 'dropped', 1475: 'teams', 1476: 'posting', 1477: 'savvier', 1478: 'creek', 1479: 'financing', 1480: 'ctb', 1481: 'old', 1482: 'warsaw', 1483: 'brings', 1484: 'corton-charlemagne', 1485: 'presented', 1486: 'lasting', 1487: 'atlantic', 1488: 'vacation', 1489: 'liberty', 1490: 'lt.', 1491: 'pinocchio', 1492: 'city', 1493: 'turmoil', 1494: 'spielvogel', 1495: 'recommended', 1496: 'immediate', 1497: 'macheski', 1498: 'mike', 1499: 'fears', 1500: 'needs', 1501: 'man', 1502: 'dorothy', 1503: 'polyproplene', 1504: 'unloaded', 1505: 'drug', 1506: 'goodman', 1507: 'unpublished', 1508: 'glory', 1509: 'phony', 1510: 'kaminski', 1511: 'us', 1512: ';', 1513: '266', 1514: 'non-encapsulating', 1515: 'royalty', 1516: 'entitled', 1517: 'discredit', 1518: 'battle', 1519: 'followed', 1520: 'stock-index', 1521: 'training', 1522: 'harmony', 1523: 'recalling', 1524: 'communications', 1525: 'particular', 1526: 'oblivion', 1527: 'building-products', 1528: 'prepayment', 1529: 'yearly', 1530: 'starting', 1531: 'turf', 1532: 'orders', 1533: 'suddenly', 1534: 'refusal', 1535: '1984', 1536: 'chinese-american', 1537: 'because', 1538: 'cure', 1539: '446.62', 1540: 'ceos', 1541: 'disembodied', 1542: 'sugarman', 1543: 'channel', 1544: 'courage', 1545: 'package', 1546: 'touch', 1547: 'commonwealth', 1548: 'prove', 1549: 'upheld', 1550: 'fledgling', 1551: 'cellars', 1552: 'discussed', 1553: 'administration', 1554: 'crib', 1555: 'computer-system-design', 1556: 'shareholders', 1557: 'take', 1558: 'dill', 1559: 'eating', 1560: 'installment', 1561: 'stocks', 1562: 'futures', 1563: 'equal', 1564: 'departure', 1565: 'disclosed', 1566: 'foundation', 1567: 'ounce', 1568: 'standardized', 1569: 'existence', 1570: 'hitting', 1571: 'taught', 1572: 'cost', 1573: 'saitama', 1574: 'sought', 1575: 'bottom', 1576: 'four-year-old', 1577: 'desperately', 1578: 'filed', 1579: 'managed', 1580: 'biondi-santi', 1581: 'h.', 1582: 'education', 1583: 'maybe', 1584: 'commission', 1585: 'measure', 1586: 'accounts', 1587: 'pamela', 1588: 'f.', 1589: 'survival', 1590: 'rout', 1591: 'blinks', 1592: 'creativity', 1593: 'upturn', 1594: 'traders', 1595: 'kicked', 1596: 'uses', 1597: 'hayne', 1598: 'spenders', 1599: 'alternatives', 1600: 'serviced', 1601: 'decades', 1602: 'bullets', 1603: 'mundane', 1604: 'factory', 1605: 'antitrust-law', 1606: 'follows', 1607: 'sharper', 1608: 'elsevier', 1609: 'mo', 1610: 'sophisticated', 1611: '620', 1612: 'computer-driven', 1613: 'beer-belly', 1614: 'inaccurately', 1615: 'ltd.', 1616: 'rice', 1617: 'treatment', 1618: 'one-month', 1619: 'quarterly', 1620: 'visit', 1621: 'boca', 1622: 'established', 1623: 'tenfold', 1624: 'allegedly', 1625: 'this', 1626: 'shrum', 1627: 'expired', 1628: 'secured', 1629: 'secilia', 1630: 'stories', 1631: 'loaded', 1632: 'c-90', 1633: 'manufactured', 1634: 'skinner', 1635: 'invariably', 1636: 'safe', 1637: 'may', 1638: 'heritage', 1639: 'enabled', 1640: 'opposed', 1641: 'confidential', 1642: 'jumped', 1643: 'asked', 1644: 'goode', 1645: 'lifting', 1646: 'more', 1647: 'reprove', 1648: 'mobster', 1649: 'marketing', 1650: 'czech', 1651: 'appeal', 1652: 'anxious', 1653: 'tom', 1654: 'marc', 1655: 'information', 1656: 'related', 1657: 'unabated', 1658: 'nov.', 1659: 'stamford', 1660: 'only', 1661: '1977', 1662: 'capital-gains', 1663: 'corp.', 1664: 'sheets', 1665: 'turned', 1666: 'excessively', 1667: 'jumping', 1668: '331,000', 1669: 'deregulation', 1670: 'vote', 1671: 'thought', 1672: 'viewed', 1673: 'nagano', 1674: 'notice', 1675: 'increases', 1676: 'curly', 1677: 'royal', 1678: '2.4', 1679: 'water-authority', 1680: 'lure', 1681: 'premises', 1682: 'relations', 1683: 'fueled', 1684: 'maintenance', 1685: 'painewebber', 1686: 'savings-and-loan', 1687: 'give', 1688: 'doors', 1689: 'tissue', 1690: 'incest', 1691: 'makato', 1692: 'likely', 1693: 'face', 1694: 'then', 1695: 'anti-abortionists', 1696: 'prime', 1697: 'lucrative', 1698: 'stanford', 1699: 'gardner', 1700: 'accurately', 1701: 'rifles', 1702: '23,000', 1703: 'harris', 1704: '9', 1705: 'sex', 1706: 'bell', 1707: 'knapp', 1708: 'tube', 1709: 'stereotyped', 1710: 'lacked', 1711: 'manipulate', 1712: 'parallel', 1713: 'kentucky', 1714: 'two-letter', 1715: 'manufacturers', 1716: 'wildly', 1717: 'hampered', 1718: 'peter', 1719: 'money-fund', 1720: 'moleculon', 1721: 'berson', 1722: 'collections', 1723: 'province', 1724: 'p.', 1725: 'taxpayer', 1726: 'cutrer', 1727: 'hazardous', 1728: 'perch', 1729: 'germany', 1730: 'indianapolis', 1731: 'account', 1732: 'full', 1733: 'locally', 1734: 'mcleod', 1735: 'victims', 1736: 'title', 1737: 'wayne', 1738: 'sent', 1739: 'light', 1740: 'minor', 1741: 'submit', 1742: 'torrington', 1743: 'baltimore', 1744: 'borrowers', 1745: 'directors', 1746: 'harpo', 1747: 'abuse', 1748: 'vagrant', 1749: 'ninth', 1750: '3.2', 1751: 'advances', 1752: 'stoppage', 1753: 'murray', 1754: 'reforms', 1755: 'plant', 1756: 'southern', 1757: '18,444', 1758: 'exhaust', 1759: 'sandra', 1760: 'calls', 1761: 'tanked', 1762: 'subscription', 1763: 'landor', 1764: 'them', 1765: 'wins', 1766: 'evening', 1767: 'unaware', 1768: 'burgundies', 1769: 'heidelberg', 1770: 'purchased', 1771: 'plunged', 1772: 'regulators', 1773: 'partisan', 1774: 'semiannual', 1775: 'lunch', 1776: 'utsumi', 1777: 'faced', 1778: '5,000', 1779: 'milked', 1780: 'mend', 1781: 'virtues', 1782: 'realize', 1783: 'cosby', 1784: 'world', 1785: 'exploit', 1786: 'things', 1787: 'drawbacks', 1788: 'past', 1789: 'save', 1790: 'season', 1791: 'greenmailer', 1792: 'sights', 1793: 'reflect', 1794: 'family-planning', 1795: 'watchers', 1796: 'merged', 1797: 'jeffrey', 1798: 'sectors', 1799: 'bentsen', 1800: 'fragile', 1801: 'cultural', 1802: 'commodity', 1803: 'product', 1804: 'yquem', 1805: 'bernstein', 1806: 'embroiled', 1807: 'doing', 1808: 'less', 1809: 'dinkins', 1810: 'esso', 1811: 'heavy-duty', 1812: 'richard', 1813: 'oldest', 1814: 'newsstands', 1815: 'interesting', 1816: 'balance', 1817: 'petulant', 1818: 'commitments', 1819: 'bordeaux', 1820: 'active', 1821: 'discuss', 1822: 'recycled', 1823: 'approve', 1824: 'marching', 1825: 'brooklyn', 1826: 'gains', 1827: 'although', 1828: 'participation', 1829: 'clearly', 1830: '2645.90', 1831: 'forum', 1832: 'purchases', 1833: 'espouse', 1834: 'disruptive', 1835: 'bat', 1836: 'equip', 1837: 'mirrors', 1838: 'revenue', 1839: 'quotas', 1840: 'eyes', 1841: 'robertson', 1842: 'cheerleaders', 1843: 'p.m', 1844: 'option', 1845: 'corp', 1846: 'stronach', 1847: 'mcdermott', 1848: 'players', 1849: 'voluntarily', 1850: 'tilt', 1851: 'incentive-bonus', 1852: 'seymour', 1853: 'soviets', 1854: 'spent', 1855: 'export', 1856: 'powers', 1857: 'aug.', 1858: 'defendant', 1859: '62', 1860: 'belt', 1861: '13.5', 1862: 'expressed', 1863: 'invention', 1864: 'tapes', 1865: 'impression', 1866: 'vegas', 1867: 'talks', 1868: 'fire', 1869: '60', 1870: 'batting', 1871: 'college', 1872: 'seven-day', 1873: 'rectified', 1874: 'along', 1875: 'sullivan', 1876: 'burgundy', 1877: 'commercials', 1878: '58', 1879: 'eager', 1880: 'debentures', 1881: 'kingdom', 1882: 'curled', 1883: 'steal', 1884: 'underwriters', 1885: '3.19', 1886: 'ordeal', 1887: 'scientific', 1888: 'hoosier', 1889: 'remainder', 1890: 'miller', 1891: 'wafa', 1892: 'targets', 1893: 'worsening', 1894: 'between', 1895: 'attracts', 1896: 'weighed', 1897: 'tally', 1898: 'heavy', 1899: 'replicated', 1900: 'times', 1901: 'idiomatic', 1902: 'several', 1903: 'infusion', 1904: 'mainland', 1905: 'tigers', 1906: '1920s', 1907: 'wfrr', 1908: 'playwright', 1909: 'vice', 1910: 'wherewithal', 1911: 'mode', 1912: 'harbinger', 1913: 'chiodo', 1914: 'sound', 1915: 'servicing', 1916: 'fresh', 1917: 'on-campus', 1918: 'compatible', 1919: 'fixtures', 1920: 'worms', 1921: 'buildings', 1922: 'knew', 1923: 'f.w.', 1924: 'palestinian', 1925: 'skokie', 1926: 'deluxe', 1927: 'perfection', 1928: 'building', 1929: 'passage', 1930: 'discussing', 1931: 'expect', 1932: \"c'mon\", 1933: 'scarce', 1934: 'allen', 1935: 'schaefer', 1936: 'lore', 1937: 'affairs', 1938: 'ore.', 1939: 'strongest', 1940: 'year-long', 1941: 'improved', 1942: 'mousseline', 1943: 'insight', 1944: 'handled', 1945: 'hampton', 1946: ':', 1947: 'hutton', 1948: 'myriad', 1949: 'hartford', 1950: 'shame', 1951: '52', 1952: 'rick', 1953: 'discarded', 1954: '70', 1955: '1955', 1956: 'pursue', 1957: 'band', 1958: 'walters', 1959: 'tend', 1960: '8300', 1961: 'top-yielding', 1962: 'themselves', 1963: 'aimed', 1964: 'three-digit', 1965: 'announced', 1966: 'slack', 1967: 'cold', 1968: 'sec', 1969: 'nemeth', 1970: 'shoulder', 1971: '5.5', 1972: 'children', 1973: 'va.', 1974: 'maturities', 1975: 'subject', 1976: 'rankin', 1977: 'composite', 1978: 'check', 1979: 'nice', 1980: 'merchants', 1981: 'lobo', 1982: 'bull', 1983: 'competition', 1984: 'veselich', 1985: 'negotiated', 1986: 'nixon', 1987: '35.7', 1988: 'fierce', 1989: 'deaths', 1990: 'being', 1991: 'plan', 1992: 'tailors', 1993: 'maintaining', 1994: 'aptitude', 1995: 'good', 1996: 'dancing', 1997: 'expenditures', 1998: 'transacting', 1999: 'drooled', 2000: 'jump', 2001: 'wheels', 2002: 'nuclear', 2003: 'just', 2004: 'inheritor', 2005: 'three-quarters', 2006: 'restructuring', 2007: 'laughing', 2008: 'low-altitude', 2009: 'describes', 2010: 'angry', 2011: 'roederer', 2012: 'big-time', 2013: 'reserve', 2014: 'diagram', 2015: '3.6', 2016: 'intellectual-property', 2017: 'anti-takeover', 2018: 'fast', 2019: 'shangkun', 2020: 'gaf', 2021: 'objective', 2022: 'hard-drinking', 2023: 'afterwards', 2024: 'salon', 2025: 'maximum', 2026: 'letters', 2027: 'seven', 2028: 'proof', 2029: 'imposed', 2030: 'n.', 2031: 'suspects', 2032: 'juvenile', 2033: 'clients', 2034: '8.47', 2035: 'four', 2036: 'fighters', 2037: '250,000', 2038: 'authorities', 2039: 'similar', 2040: 'kong', 2041: 'asserted', 2042: '4,645', 2043: 'high-balance', 2044: 'reputation', 2045: 'manufacturer', 2046: 'decision', 2047: 'major', 2048: 'deal', 2049: 'non-core', 2050: '78', 2051: 'proprietor', 2052: 'self-perpetuating', 2053: 'gas', 2054: 'defeats', 2055: 'zone', 2056: 'speculation', 2057: 'domaine', 2058: 'nec', 2059: 'aspires', 2060: 'immediately', 2061: 'year-earlier', 2062: 'respond', 2063: 'reames', 2064: 'need', 2065: 'surfaced', 2066: 'sunday', 2067: 'fairness', 2068: 'optical', 2069: 'knows', 2070: 'j.l.', 2071: 'unions', 2072: 'vehicles', 2073: 'spurred', 2074: 'slide', 2075: 'joint-venture', 2076: 'involved', 2077: 'damages', 2078: 'yellow', 2079: 'days', 2080: 'toast', 2081: 'imagine', 2082: 'spirit', 2083: 'islands', 2084: 'environments', 2085: 'stressed', 2086: 'westminster', 2087: 'environmentalists', 2088: 'legend', 2089: 'terrace', 2090: 'sauternes', 2091: 'discos', 2092: 'confused', 2093: 'louis', 2094: 'medium-sized', 2095: 'era', 2096: 'wait', 2097: 'auto', 2098: 'museum', 2099: 'arrows', 2100: 'startling', 2101: 'volume', 2102: 'again', 2103: 'e.c.', 2104: 'abide', 2105: '2.50', 2106: 'resist', 2107: 'passion', 2108: '16.125', 2109: 'pulp', 2110: 'attorney', 2111: '-rcb-', 2112: 'pair', 2113: 'vs.', 2114: 'integra-a', 2115: 'controlling', 2116: 'link', 2117: 'phi', 2118: 'postponed', 2119: 'hook', 2120: 'riserva', 2121: 'chemical', 2122: 'dollars', 2123: 'additional', 2124: 'diversified', 2125: 'decisions', 2126: 'albuquerque', 2127: 'form', 2128: 'memory', 2129: 'ag', 2130: 'woodrow', 2131: 'yasser', 2132: 'borrowing', 2133: 'reason', 2134: 'crackdown', 2135: 'fell', 2136: 'whas', 2137: 'byron', 2138: 'best', 2139: 'agree', 2140: 'rung', 2141: 'management', 2142: 'disgorge', 2143: 'halve', 2144: 'influential', 2145: 'fancy', 2146: 'bills', 2147: 'two-week', 2148: 'observed', 2149: 'hierarchical', 2150: '14', 2151: 'sued', 2152: 'pulled', 2153: 'commit', 2154: 'collaborated', 2155: 'puts', 2156: 'using', 2157: 'newcomer', 2158: 'asian', 2159: 'boomers', 2160: 'tempts', 2161: '115', 2162: 'subcommittee', 2163: 'landing', 2164: 'positive', 2165: 'nelms', 2166: 'palisades', 2167: 'inner', 2168: 'both', 2169: 'inadequate', 2170: 'installing', 2171: 'manchester', 2172: 'simmons', 2173: 'twice', 2174: '1.6', 2175: 'richmond', 2176: 'findings', 2177: 'perignon', 2178: 'interjects', 2179: 'expands', 2180: 'signed', 2181: 'stake', 2182: 'cote', 2183: 'published', 2184: '2,700', 2185: 'subordinated', 2186: 'novelist', 2187: 'hurley', 2188: 'entrench', 2189: 'instruction', 2190: 'operations', 2191: 'confidence', 2192: 'coca-cola', 2193: 'expand', 2194: 'college-bowl', 2195: 'side-crash', 2196: 'delwin', 2197: 'redeploy', 2198: '25.6', 2199: 'murdered', 2200: 'cabernet', 2201: 'oil', 2202: 'butler', 2203: 'blanc', 2204: 'dexterity', 2205: 'replicate', 2206: 'publication', 2207: 'lowered', 2208: 'exhausted', 2209: 'stena', 2210: 'injury', 2211: 'girlfriend', 2212: '84.29', 2213: 'taipei', 2214: 'emerging', 2215: 'rapanelli', 2216: 'downtown', 2217: 'pennsylvania', 2218: '241', 2219: 'sixth', 2220: 'fair', 2221: 'sheet', 2222: 'dispute', 2223: 'abortionist', 2224: 'abortion-related', 2225: 'makes', 2226: 'ago', 2227: 'undercut', 2228: 'roof-crush', 2229: 'persistent', 2230: 'insurer', 2231: 'china', 2232: 'ambassador', 2233: 'village', 2234: 'words', 2235: 'growth', 2236: 'salaries', 2237: 'facade', 2238: 'precedent', 2239: 'mount', 2240: 'grows', 2241: '10', 2242: 'weddings', 2243: 'miles', 2244: 'unpopularity', 2245: 'markdown', 2246: 'renovation', 2247: 'encouraged', 2248: 'magazine', 2249: 'ideological', 2250: 'a', 2251: 'payrolls', 2252: 'biggest', 2253: 'compromise', 2254: 'synergistics', 2255: 'how-to', 2256: 'impediments', 2257: 'fifth-grade', 2258: 'changing', 2259: 'attended', 2260: 'cole', 2261: 'risen', 2262: 'consumer', 2263: 'august', 2264: 'spending', 2265: 'tripled', 2266: 'war-rationed', 2267: 'goodies', 2268: 'ounces', 2269: 'student', 2270: 'terms', 2271: 'those', 2272: '7', 2273: 'two-year', 2274: 'subsidiaries', 2275: 'akerfeldt', 2276: 'unrecognizable', 2277: 'possessed', 2278: 'transplants', 2279: 'release', 2280: 'until', 2281: 'send', 2282: 'attendance', 2283: 'expectations', 2284: 'contests', 2285: 'feels', 2286: 'forthcoming', 2287: 'jennison', 2288: 'hallwood', 2289: 'chips', 2290: 'restore', 2291: 'monday', 2292: 'unit', 2293: 'wallowing', 2294: 'taittinger', 2295: 'surprisingly', 2296: 'surveyed', 2297: 'evaluated', 2298: 'federally', 2299: '130', 2300: 'still', 2301: 'fronts', 2302: 'rieslings', 2303: 'talk-show', 2304: 'other', 2305: 'includes', 2306: 'besuboru', 2307: 'set', 2308: '1.5', 2309: 'held', 2310: 'overused', 2311: 'larry', 2312: 'contrary', 2313: 'renewal', 2314: 'urged', 2315: 'businesses', 2316: 'campus', 2317: 'volatile', 2318: 'proposed', 2319: 'midwest', 2320: 'gov.', 2321: 'organizations', 2322: 'conducting', 2323: 'brief', 2324: 'attempting', 2325: 'investing', 2326: 'symbolic', 2327: 'generations', 2328: 'uncomfortable', 2329: 'sutcliffe', 2330: 'lizhi', 2331: 'becomes', 2332: 'last', 2333: 'executive', 2334: 'resigned', 2335: 'reality', 2336: 'publications', 2337: 'forecasting', 2338: 'anticipated', 2339: 'charles', 2340: 'eight-count', 2341: 'phone', 2342: '8', 2343: '8.12', 2344: 'payable', 2345: 'short-term', 2346: 'agreement', 2347: 'client', 2348: 'side', 2349: 'rae', 2350: 'coconut', 2351: 'scrambled', 2352: 'maturity', 2353: '3.75', 2354: 'index', 2355: 'prosecute', 2356: 'expensive', 2357: 'furniture', 2358: 'guild', 2359: 'overpaying', 2360: 'external', 2361: 'toronto-based', 2362: 'year-ago', 2363: 'palestine', 2364: 'professionals', 2365: 'errors', 2366: 'cutthroat', 2367: '380', 2368: 'typically', 2369: 'texture', 2370: 'foreign-led', 2371: 'correct', 2372: 'salary', 2373: 'vowed', 2374: '100', 2375: '5.57', 2376: 'danube', 2377: 'switched', 2378: 'developing', 2379: '1971', 2380: 'dynamics', 2381: 'rushed', 2382: 'cluttered', 2383: 'upham', 2384: 'varying', 2385: 'center', 2386: 'mexican', 2387: 'hardware', 2388: 'persuade', 2389: 'reduce', 2390: 'small-time', 2391: 'assuming', 2392: 'knowledgeable', 2393: 'law', 2394: 'indicate', 2395: 'tells', 2396: 'patient', 2397: 'hosted', 2398: 'snaking', 2399: '1614', 2400: 'holidays', 2401: 'adds', 2402: 'kalipharma', 2403: 'sterling', 2404: 'exempt', 2405: 'uncertainty', 2406: '36-day', 2407: 'deposits-a', 2408: 'knowing', 2409: 'elmhurst', 2410: 'complicate', 2411: '3.01', 2412: 'james', 2413: 'government-funded', 2414: 'plot', 2415: 'sanderoff', 2416: 'broken', 2417: 'sold', 2418: 'roofs', 2419: 'ticket', 2420: 'pool', 2421: 'elaborate', 2422: 'airlines', 2423: 'discretionary', 2424: 'stabbed', 2425: 'supercomputers', 2426: 'awarded', 2427: 'necklace', 2428: 'dramatically', 2429: 'teach', 2430: 'well-connected', 2431: 'porter', 2432: 'evenly', 2433: 'fits', 2434: 'inkling', 2435: '1.5805', 2436: 'modern-day', 2437: 'devote', 2438: 'oversight', 2439: '1973', 2440: 'touched', 2441: 'ball', 2442: '701', 2443: 'benevolent', 2444: 'family', 2445: 'frances', 2446: 'dolphin', 2447: 'sea', 2448: 'classic', 2449: 'cloud', 2450: 'fluent', 2451: 'specializes', 2452: 'involve', 2453: 'slash', 2454: 'vicious', 2455: 'electric-utility', 2456: 'capped', 2457: 'argues', 2458: 'over-the-counter', 2459: 'move', 2460: 'mollified', 2461: 'marge', 2462: 'unreasonable', 2463: 'litany', 2464: '1968', 2465: 'employees', 2466: 'soup', 2467: 'artist', 2468: 'nearby', 2469: 'knife', 2470: 'your', 2471: 'hypocrisy', 2472: 'advertisers', 2473: 'd.', 2474: 'slip', 2475: 'takuma', 2476: 'ever', 2477: 'crucial', 2478: 'wanted', 2479: 'planters', 2480: 'groton', 2481: 'downward', 2482: 'incomplete', 2483: 'keehn', 2484: 'inverted', 2485: 'twindam', 2486: 'delivering', 2487: 'bids', 2488: '7,500', 2489: 'revenues', 2490: 'remorse', 2491: 'joe', 2492: 'view', 2493: 'downturn', 2494: 'corazon', 2495: 'half', 2496: 'frenzy', 2497: 'image', 2498: 'sleep', 2499: 'tracking', 2500: 'newspapers', 2501: '30-point', 2502: 'mercantile', 2503: 'recruit', 2504: 'engaging', 2505: '7.88', 2506: 'candela', 2507: 'physicist', 2508: 'filling', 2509: 'norman', 2510: 'ill.', 2511: 'learning', 2512: 'colleges', 2513: 'anti-abortion', 2514: 'later', 2515: 'elliott', 2516: 'yet', 2517: 'w.n.', 2518: 'feature', 2519: 'project', 2520: 'traditionally', 2521: 'risk', 2522: 'test-prep', 2523: 'passenger', 2524: 'everybody', 2525: 's.p.a.', 2526: 'stands', 2527: 'anglian', 2528: 'excesses', 2529: 'profession', 2530: 'deryck', 2531: 'breathe', 2532: 'abbey', 2533: 'full-length', 2534: 'instruments', 2535: 'helped', 2536: 'rooted', 2537: 'factors', 2538: 'sounded', 2539: 'healthy', 2540: 'raspberry', 2541: 'bates', 2542: 'canada', 2543: 'happening', 2544: 'shown', 2545: 'veal', 2546: 'replacement', 2547: 'beat', 2548: 'deem', 2549: 'quantitative', 2550: 'republicans', 2551: 'marriages', 2552: 'doubt', 2553: 'lover', 2554: 'unwind', 2555: 'brady', 2556: 'defeat', 2557: 'bronx', 2558: 'posted', 2559: 'player', 2560: 'preferences', 2561: 'alan', 2562: 'meanwhile', 2563: 'ford', 2564: 'behalf', 2565: 'evidence', 2566: 'steve', 2567: 'cathryn', 2568: 'taper', 2569: 'sloan', 2570: 'trading-company', 2571: 'operating', 2572: 'protections', 2573: 'girl', 2574: 'safe-deposit', 2575: 'withdrawal', 2576: 'narrow', 2577: 'scattered', 2578: 'machines', 2579: 'violate', 2580: 'record', 2581: 'grand', 2582: '705.6', 2583: 'anxieties', 2584: 'constraints', 2585: 'wickliffe', 2586: 'bloody', 2587: 'restricts', 2588: 'post-hearing', 2589: 'biannual', 2590: 'problems', 2591: 'through', 2592: '44', 2593: 'heating', 2594: 'prosecuted', 2595: 'brent', 2596: '1982', 2597: 'jackson', 2598: 'safety', 2599: '11th', 2600: 'americana', 2601: 'left', 2602: 'nancy', 2603: 'jerritts', 2604: 'hours', 2605: 'sauce', 2606: 'exits', 2607: 'deadline', 2608: 'quipped', 2609: 'acre', 2610: 'wu', 2611: 'articles', 2612: 'father-in-law', 2613: 'maturing', 2614: 'separately', 2615: 'else', 2616: 'according', 2617: '180', 2618: 'klein', 2619: 'whirling', 2620: '105', 2621: 'hint', 2622: 'matters', 2623: 'obvious', 2624: 'cool', 2625: 'export-oriented', 2626: 'argument', 2627: 'vary', 2628: 'requiring', 2629: 'restriction', 2630: 'boston', 2631: \"'40s\", 2632: 'debut', 2633: 'congress', 2634: 'crude', 2635: 'explanatory', 2636: 'non-biodegradable', 2637: 'le', 2638: 'tags', 2639: 'resisting', 2640: 'behest', 2641: 'blocks', 2642: 'peng', 2643: 'vintage', 2644: 'foster', 2645: 'steadily', 2646: 'producing', 2647: 'nicholas', 2648: 'rationed', 2649: 'publishing', 2650: 'fatalities', 2651: 'panama', 2652: 'baton', 2653: 'materials', 2654: 'hold', 2655: 'hard-charging', 2656: 'payouts', 2657: 'crash', 2658: 'graphs', 2659: 'confronted', 2660: 'depend', 2661: 'amount', 2662: 'guards', 2663: 'donaldson', 2664: 'go', 2665: 'turkey', 2666: 'worked', 2667: '64', 2668: 'providers', 2669: 'glass', 2670: '23.5', 2671: 'b.', 2672: 'mid-1970s', 2673: 'unchanged', 2674: 'principle', 2675: '16', 2676: 'tariff', 2677: 'played', 2678: 'dean', 2679: 'relating', 2680: 'connection', 2681: 'bottle', 2682: 'groups', 2683: '50.45', 2684: 'glenham', 2685: '64-year-old', 2686: '278.7', 2687: 'us$', 2688: 'answer', 2689: 'herrington', 2690: 'taxpayers', 2691: 'midtown', 2692: 'univest', 2693: 'best-selling', 2694: 'producer', 2695: 'aims', 2696: '25,000', 2697: 'profits', 2698: 'determined', 2699: 'judicial', 2700: 'easy', 2701: 'timely', 2702: 'adapted', 2703: 'mininum-wage', 2704: 'greenwich', 2705: 'scenario', 2706: 'wrists', 2707: 'zenith', 2708: 'tip', 2709: 'targeted', 2710: '2.44', 2711: 'dozens', 2712: 'soon', 2713: 'exchanging', 2714: 'cited', 2715: 'bottles', 2716: 'whereby', 2717: 'i.', 2718: 'shipments', 2719: 'publish', 2720: 'domination', 2721: 'half-hour', 2722: 'pride', 2723: 'now', 2724: 'competitor', 2725: 'wrote', 2726: 'properties', 2727: 'minister', 2728: 'discovered', 2729: 'retail', 2730: 'shake', 2731: 'passers-by', 2732: 'wife', 2733: 'enviable', 2734: 'suburban', 2735: 'abroad', 2736: 'literacy', 2737: 'tumultuous', 2738: 'primarily', 2739: 'unfettered', 2740: 'melamed', 2741: 'asserting', 2742: 'classroom', 2743: 'directing', 2744: 'ringing', 2745: '534', 2746: 'pet', 2747: 'matches', 2748: 'lessen', 2749: 'pickens', 2750: 'guffey', 2751: '15-day', 2752: 'eliminated', 2753: 'vertically', 2754: 'flow', 2755: 'match', 2756: 'bank', 2757: 'perceives', 2758: 'signboards', 2759: 'run-down', 2760: 'creating', 2761: 'transition', 2762: 'adults', 2763: 'betterment', 2764: 'losses', 2765: 'attending', 2766: 'elimination', 2767: 'outside', 2768: 'finished', 2769: 'wage', 2770: '--', 2771: 'haul', 2772: 'foods', 2773: 'rape', 2774: 'enormously', 2775: 'pop', 2776: 'low-priced', 2777: 'secret', 2778: 'eases', 2779: 'silicon', 2780: 'industrial-production', 2781: 'concessions', 2782: 'chilver', 2783: 'november', 2784: 'fuji', 2785: '900', 2786: 'neither', 2787: 'ariail', 2788: 'total', 2789: 'department', 2790: 'weird', 2791: 'aim', 2792: 'sector', 2793: 'businessmen', 2794: 'george', 2795: 'bell-ringing', 2796: 'transplant', 2797: 'ichiro', 2798: 'futures-related', 2799: 'hand', 2800: 'six-bottle', 2801: 'sidestep', 2802: 'deane', 2803: 'majority', 2804: 'controlled', 2805: 'octogenarians', 2806: 'faultlessly', 2807: 'ogilvy', 2808: 'effective', 2809: 'people', 2810: 'relatively', 2811: 'assault', 2812: 'no-smoking', 2813: 'practical', 2814: 'resilient', 2815: 'moderated', 2816: '14-hour', 2817: '94', 2818: 'malaysia', 2819: 'recession', 2820: '1970s', 2821: 'definitive', 2822: 'circulation', 2823: 'exhibition', 2824: 'glenn', 2825: '1', 2826: 'dressed', 2827: 'shot', 2828: 'arrest', 2829: '145', 2830: 'reporting', 2831: 'sharedata', 2832: 'communists', 2833: 'cellar', 2834: 'debate', 2835: 'must', 2836: 'inventories', 2837: 'director', 2838: 'superimposed', 2839: 'female', 2840: 'a.c.', 2841: 'hearing', 2842: 'devoted', 2843: 'earliest', 2844: 'wilder', 2845: 'preston', 2846: '12-point', 2847: 'suffering', 2848: 'taizo', 2849: '69', 2850: 'merely', 2851: 'car', 2852: 'scandinavian', 2853: 'comfortable', 2854: 'killeen', 2855: 'individuals', 2856: 'invented', 2857: 'md.', 2858: 'certified', 2859: 'bars', 2860: 'mo.', 2861: 'given', 2862: 'atlanta-based', 2863: 'crippled', 2864: 'going', 2865: 'london-based', 2866: 'campbell', 2867: 'media', 2868: \"'86\", 2869: 'cristal', 2870: 'pardus', 2871: 'municipalities', 2872: 'prater', 2873: 'warrenton', 2874: 'approximately', 2875: 'underprivileged', 2876: 'rebuked', 2877: 'compliance', 2878: 'brian', 2879: 'youths', 2880: 'joining', 2881: 'blancs', 2882: 'urging', 2883: 'dirty', 2884: 'globally', 2885: '120,000', 2886: 'crisis', 2887: 'shrug', 2888: 'length', 2889: 'slowly', 2890: 'accidents', 2891: 'praised', 2892: '2.87', 2893: 'francisco', 2894: 'views', 2895: 'time', 2896: 'government', 2897: 'aggressive', 2898: 'physics', 2899: 'cycles', 2900: 'clobbered', 2901: 'times-stock', 2902: '18-year-old', 2903: 'architectural', 2904: 'editorial', 2905: '5', 2906: 'colorado', 2907: 'income', 2908: 'stature', 2909: 'e.', 2910: 'learned', 2911: 'miguel', 2912: 'connections', 2913: 'sagging', 2914: 'bermuda-based', 2915: 'institutes', 2916: 'negative', 2917: 'receives', 2918: '3', 2919: 'banque', 2920: 'imposing', 2921: 'vichy', 2922: 'raises', 2923: 'boarding', 2924: 'badly', 2925: '1.8415', 2926: 'rose', 2927: 'enormous', 2928: 'tissue-transplant', 2929: 'dollar', 2930: 'lynch', 2931: '...', 2932: 'satisfaction', 2933: '-lcb-', 2934: 'corporations', 2935: 'catch-up', 2936: 'ed', 2937: 'dinner', 2938: 'chosen', 2939: 'florida', 2940: 'trade', 2941: 'case', 2942: 'merger', 2943: '100-share', 2944: 'jaguar', 2945: 'averaged', 2946: 'arrival', 2947: 'monetary', 2948: 'short', 2949: 'randolph', 2950: 'producers', 2951: 'downfall', 2952: 'upward', 2953: 'actually', 2954: 'truth', 2955: 'drawing', 2956: 'continues', 2957: 'apply', 2958: 'recipient', 2959: 'stable', 2960: 'analyst', 2961: 'enthusiasm', 2962: 'accidentally', 2963: 'difference', 2964: 'enclosed', 2965: '3:15', 2966: 'wine-buying', 2967: 'hoped', 2968: 'magna', 2969: 'w.', 2970: 'good-hearted', 2971: 'nine-member', 2972: 'proponents', 2973: 'fundraising', 2974: 'stung', 2975: 'cat', 2976: 'inferences', 2977: '449.04', 2978: 'enforce', 2979: 'floor', 2980: 'custom-chip', 2981: 'advocates', 2982: 'merchant', 2983: 'exchange', 2984: 'dreamt', 2985: 'beth', 2986: 'complaining', 2987: 'leader', 2988: 'goods', 2989: 'attack', 2990: 'gaithersburg', 2991: 'sparking', 2992: 'exception', 2993: 'known', 2994: 'sheep', 2995: 'harms', 2996: 'milk', 2997: 'hospitals', 2998: 'widespread', 2999: 'examples', 3000: '13.8', 3001: 'let', 3002: 'moore', 3003: 'folks', 3004: 'computerized', 3005: 'woodward', 3006: 'consulting', 3007: '48', 3008: 'combines', 3009: 'news', 3010: 'grandsire', 3011: 'drink', 3012: 'framework', 3013: 'moves', 3014: 'bankroll', 3015: '0.3', 3016: 'wilbur', 3017: 'refreshing', 3018: 'complete', 3019: 'faint', 3020: 'entered', 3021: 'chuck', 3022: 'disappointed', 3023: 'rebellion', 3024: 'identities', 3025: 'sherwood', 3026: 'compound', 3027: 'able', 3028: '350,000', 3029: 'feudal', 3030: 'ghs', 3031: 'unethical', 3032: '30,841', 3033: 'economics', 3034: 'pit', 3035: 'went', 3036: 'mary', 3037: 'announcer', 3038: 'winter', 3039: 'treasury', 3040: 'solicitous', 3041: 'low-ability', 3042: 'johnny', 3043: 'society', 3044: 'load', 3045: '1990', 3046: 'failure', 3047: 'would-be', 3048: 'church-goers', 3049: 'coaching', 3050: 'kidnapper', 3051: 'synchronized', 3052: 'solemn', 3053: 'stevens', 3054: 'crack', 3055: 'policies', 3056: '11.6', 3057: 'decrease', 3058: 'milestones', 3059: '191.9', 3060: 'o.', 3061: 'zoomed', 3062: 'grew', 3063: 'nonresidential', 3064: 'ambitious', 3065: 'motives', 3066: 'effectively', 3067: 'boeing', 3068: 'english', 3069: 'refile', 3070: 'researchers', 3071: 'comparable', 3072: 'nine', 3073: 'monticello', 3074: 'establishing', 3075: 'deny', 3076: 'descending', 3077: 'oct.', 3078: 'beatles', 3079: 'cosmopolitan', 3080: 'done', 3081: 'informally', 3082: 'table', 3083: 'luce', 3084: 'advice', 3085: 'conversations', 3086: 'controversial', 3087: 'door', 3088: 'council', 3089: 'economist', 3090: 'driving', 3091: 'official', 3092: '963', 3093: 'regimented', 3094: 'setting', 3095: 'walk', 3096: 'choose', 3097: 'change-ringing', 3098: 're-thought', 3099: 'cry', 3100: 'steady', 3101: 'exists', 3102: '992,000', 3103: 'while', 3104: 'encourages', 3105: 'endorsed', 3106: 'per', 3107: 'handful', 3108: 'war-damaged', 3109: 'where', 3110: 'two-year-old', 3111: 'succeed', 3112: 'recommendations', 3113: 'scrambling', 3114: 'n.y.', 3115: 'chain', 3116: 'massachusetts', 3117: 'viewpoints', 3118: 'hiroshi', 3119: 'consumers', 3120: 'base', 3121: 'outstanding', 3122: '370', 3123: 'coal', 3124: 'cultivated', 3125: 'order', 3126: 'suffered', 3127: 'seek', 3128: 'mirror', 3129: 'occur', 3130: 'wadsworth', 3131: 'spurns', 3132: 'rapidly', 3133: 'diminish', 3134: 'free-lance', 3135: 'sources', 3136: 'sebastian', 3137: 'discounts', 3138: 'most', 3139: 'herself', 3140: 'monster', 3141: 'fill', 3142: 'sew', 3143: 'multibillion-dollar', 3144: 'bar', 3145: 'morbidity', 3146: 'electricity', 3147: 'reopened', 3148: 'released', 3149: '?', 3150: 'settled', 3151: 'spring', 3152: 'eaton', 3153: 'daniel', 3154: 'endless', 3155: 'rally', 3156: 'summary', 3157: 'retentive', 3158: 'alzheimer', 3159: 'n.j.-based', 3160: '644', 3161: 'midnight', 3162: 'making', 3163: 'single-family', 3164: 'necessarily', 3165: 'newly', 3166: 'diplomats', 3167: 'rosenblum', 3168: 'suspensions', 3169: 'platitudes', 3170: '1,000', 3171: 'book', 3172: 'arising', 3173: 'curriculum', 3174: 'program', 3175: 'portugal', 3176: 'co-chairman', 3177: 'focus', 3178: '5.4', 3179: 'philadelphia-based', 3180: 'institute', 3181: 'seeks', 3182: 'cabs', 3183: 'erbamont', 3184: 'norwest', 3185: 'prescient', 3186: 'conditions', 3187: 'paying', 3188: 'evident', 3189: 'thailand', 3190: 'topics', 3191: 'acne', 3192: 'aware', 3193: 'panic', 3194: 'scale', 3195: 'impart', 3196: 'fueling', 3197: 'lowering', 3198: 'iras', 3199: 'nominated', 3200: 'older', 3201: 'whether', 3202: 'peaceful', 3203: 'obtaining', 3204: 'better', 3205: 'segments', 3206: 'arrangement', 3207: 'enrollment', 3208: 'worth', 3209: 'her', 3210: 'martin', 3211: 'underline', 3212: 'obtain', 3213: 'debts', 3214: 'depositary', 3215: 'geometrical', 3216: 'note', 3217: 'speculate', 3218: 'cents', 3219: 'longevity', 3220: 'straight', 3221: 'trustco', 3222: 'madison', 3223: 'pathlogy', 3224: 'find', 3225: 'secondary', 3226: 'stage', 3227: 'deserve', 3228: 'bolster', 3229: 'permit', 3230: 'school-district', 3231: 'freshman', 3232: 'incurred', 3233: 'review', 3234: 'implies', 3235: 'spokeswoman', 3236: 'balanced', 3237: '38', 3238: 'sweeping', 3239: 'depressed', 3240: 'dreamed', 3241: 'dams', 3242: 'first', 3243: 'credits', 3244: 'achieve', 3245: 'employee', 3246: 'mont', 3247: 'males', 3248: '2.80', 3249: 'chunk', 3250: 'altogether', 3251: 'outright', 3252: 'imbalances', 3253: 'diplomatic', 3254: 'january', 3255: 'high-rate', 3256: 'eight-month', 3257: 'minn.', 3258: 'claim', 3259: 'strict', 3260: 'dark', 3261: 'rubber', 3262: 'meeting', 3263: 'romance', 3264: 'built', 3265: 'scoring', 3266: 'de', 3267: 'sufficiency', 3268: 'tiphook', 3269: 'unavailability', 3270: 'henry', 3271: 'duties', 3272: 'taxable', 3273: 'sandifer', 3274: 'explain', 3275: 'unsuccessfully', 3276: 'cent', 3277: 'operate', 3278: 'replaced', 3279: 'likelihood', 3280: 'call', 3281: 'onslaught', 3282: 'unfounded', 3283: '21', 3284: 'underlying', 3285: 'hill', 3286: 'improbable', 3287: 'suppression', 3288: 'mitsui', 3289: 'ailes', 3290: 'bonus', 3291: 'cross', 3292: 'scientists', 3293: 'pour', 3294: 'flag', 3295: 'aggravated', 3296: 'materialize', 3297: 'newsweekly', 3298: 'deadwood', 3299: 'prevailing', 3300: '176', 3301: 'part', 3302: 'enact', 3303: 'underscore', 3304: 'offices', 3305: 'publishers', 3306: 'rev.', 3307: 'breeden', 3308: 'actor', 3309: 'emerge', 3310: 'divided', 3311: 'magnitude', 3312: 'improvements', 3313: 'karl', 3314: 'constitution', 3315: 'computing', 3316: 'pattern', 3317: 'halls', 3318: 'aid', 3319: 'join', 3320: 'travelers', 3321: 'single-digit', 3322: 'tracked', 3323: 'coupled', 3324: 'seoul', 3325: 'deficit', 3326: 'cut', 3327: 'roughhewn', 3328: 'power', 3329: 'ibm', 3330: '90-day', 3331: 'attractions', 3332: 'poignant', 3333: 'tour', 3334: 'katzenstein', 3335: 'ideas', 3336: 'drawn', 3337: 'programs', 3338: 'nervousness', 3339: 'completed', 3340: 'picket', 3341: 'broader', 3342: 'sensitivity', 3343: 'undertone', 3344: '30', 3345: 'air', 3346: 'possibly', 3347: '10.5', 3348: 'pont', 3349: 'intent', 3350: 'overhead', 3351: 'december', 3352: 'essentially', 3353: 'settlement', 3354: 'route', 3355: 'behemoth', 3356: 'simple', 3357: 'annual', 3358: 'iran\\\\/contra', 3359: 'bunny', 3360: 'lighthouse', 3361: 'accommodate', 3362: 'food', 3363: 'editions', 3364: 'shortly', 3365: 'hostage', 3366: 'virginia', 3367: 'theory', 3368: 'priority', 3369: 'embassy', 3370: 'industrials', 3371: '415.6', 3372: 'lap', 3373: 'tough', 3374: 'disk', 3375: 'mesothelioma', 3376: 'graders', 3377: 'sub-markets', 3378: 'clues', 3379: 'apiece', 3380: 'compensate', 3381: '8.56', 3382: 'minneapolis-based', 3383: 'contacts', 3384: '40,000', 3385: 'astronomical', 3386: 'seminar', 3387: 'around', 3388: 'playing', 3389: 'moved', 3390: 'quantities', 3391: 'enhanced', 3392: 'industries', 3393: 'directly', 3394: 'sassy', 3395: 'million', 3396: 'furor', 3397: 'penny', 3398: 'piracy', 3399: 'disappears', 3400: 'lsi', 3401: 'war', 3402: 'february', 3403: 'suspension', 3404: 'wines', 3405: 'expedited', 3406: 'whole', 3407: 'proceeds', 3408: 'well-known', 3409: 'brokerage', 3410: 'avenue', 3411: 'binders', 3412: '130.7', 3413: 'seats', 3414: '37.5', 3415: 'sight', 3416: 'a.d.', 3417: 'removed', 3418: 'difficult', 3419: 'solaia', 3420: 'ensembles', 3421: 'hard-hitting', 3422: '.', 3423: 'superpremiums', 3424: 'retailer', 3425: 'study', 3426: 'standing', 3427: 'required', 3428: 'regions', 3429: 'firings', 3430: '20-point', 3431: 'packed', 3432: 'sooner', 3433: 'feel', 3434: 'unmarked', 3435: 'accelerated', 3436: 'affiliates', 3437: 'run', 3438: 'shipped', 3439: 'studies', 3440: 'significant', 3441: 'narrowly', 3442: 'tasty', 3443: 'leasing', 3444: 'eastern', 3445: 'docile', 3446: 'consideration', 3447: 'bulk', 3448: 'prostitute', 3449: 'turn', 3450: '1.01', 3451: 'gillespie', 3452: 'addresses', 3453: 'co.', 3454: 'stock-manipulation', 3455: 'joys', 3456: '1.8', 3457: 'commitment', 3458: 'curry', 3459: '2.3', 3460: 'swap', 3461: '11', 3462: 'environment', 3463: '1993', 3464: '17.95', 3465: 'scotia', 3466: 'ends', 3467: 'created', 3468: 'ushered', 3469: 'reformers', 3470: 'name', 3471: '1.5755', 3472: 'crime', 3473: 'spillane', 3474: 'dr.', 3475: 'dogs', 3476: 'cult', 3477: 'remains', 3478: 'richebourg', 3479: 'visible', 3480: 'carrying', 3481: 'associate', 3482: 'rhetoric', 3483: 'less-serious', 3484: 'develops', 3485: 'petition', 3486: 'drift', 3487: 'exclusively', 3488: 'graduate', 3489: 'page-one', 3490: 'europe', 3491: 'light-truck', 3492: '3.1', 3493: 'goody', 3494: 'discussions', 3495: 'preparation', 3496: 'stockholm', 3497: 'based', 3498: 'denominator', 3499: 'auctions', 3500: 'netherlands', 3501: '65', 3502: 'classifications', 3503: 'polish', 3504: 'corruption', 3505: 'state-supervised', 3506: 'near', 3507: 'highest-pitched', 3508: 'publisher', 3509: 'resistant', 3510: 'nations', 3511: 'miss.', 3512: 'attractive', 3513: 'had', 3514: 'discount', 3515: 'ambitions', 3516: 'fond', 3517: 'influence', 3518: 'carbide', 3519: 'sdi', 3520: 'carson', 3521: 'seniors', 3522: 'premiere', 3523: 'tender', 3524: 'pioneer', 3525: 'moons', 3526: 'copycats', 3527: 'questionable', 3528: 'audience', 3529: 'rewarding', 3530: 'tenth', 3531: 'huppert', 3532: 'close-up', 3533: 'one-year', 3534: 'pitney', 3535: 'lighter', 3536: 'dividends', 3537: 'acted', 3538: 'changes', 3539: 'fat', 3540: 'big', 3541: 'heights', 3542: 'symbol', 3543: \"'s\", 3544: '30-minute', 3545: 'partner', 3546: 'concerned', 3547: 'scoop', 3548: 'gauging', 3549: '190', 3550: 'alexander', 3551: 'limited-partnership', 3552: 'such', 3553: 'marty', 3554: 'disputed', 3555: 'loyalty', 3556: 'treated', 3557: 'surviving', 3558: 'memories', 3559: 'hurdles', 3560: 'darrell', 3561: 'shape', 3562: 'crane', 3563: 'superiors', 3564: 'trademark', 3565: 'prosecutors', 3566: 'memorize', 3567: 'drinks', 3568: 'traded', 3569: '245', 3570: 'rentals', 3571: 'think', 3572: 'emergencies', 3573: '570', 3574: 'testing', 3575: 'horsham', 3576: 'childish', 3577: 'grant', 3578: 'replete', 3579: 'fourth', 3580: 'promotional', 3581: 'reviewed', 3582: 'possessions', 3583: 'planners', 3584: '27', 3585: 'direction', 3586: 'brooke', 3587: '24', 3588: 'branch', 3589: 'fractionally', 3590: 'giants', 3591: 'banning', 3592: 'american-style', 3593: '37-a-share', 3594: 'value', 3595: 'careers', 3596: 'notion', 3597: 'high-technology', 3598: 'turns', 3599: 'many', 3600: 'sharply', 3601: 'wound', 3602: 'exit', 3603: 'counterrevolutionary', 3604: '!', 3605: 'session', 3606: 'passport', 3607: 'mostly', 3608: '1992', 3609: 'gloomy', 3610: 'automation', 3611: '1929', 3612: 'fully', 3613: 'plate', 3614: 'universities', 3615: 'social', 3616: 'workbooks', 3617: 'exclusive', 3618: 'finding', 3619: 'blue', 3620: 'label', 3621: 'feeling', 3622: 'numerous', 3623: 'modern', 3624: 'needing', 3625: 'trust', 3626: 'trained', 3627: 'defined', 3628: 'justifying', 3629: 'mona', 3630: 'bridgeville', 3631: 'cadet', 3632: 'nih-appointed', 3633: 'young', 3634: 'sweet', 3635: 'experts', 3636: 'iii', 3637: 'buy-back', 3638: '1965', 3639: 'distorted', 3640: 'wears', 3641: 'mind-boggling', 3642: 'low-cost', 3643: 'refocusing', 3644: 'wheeland', 3645: 'patent', 3646: 'jeopardizing', 3647: 'money', 3648: 'morale', 3649: 'consumption', 3650: 'cities', 3651: 'refused', 3652: 'laws', 3653: 'marie-louise', 3654: 'vega', 3655: 'imports', 3656: 'unsettled', 3657: 'operator', 3658: 'overtime', 3659: 'pieces', 3660: 'packages', 3661: 'stunned', 3662: 'permitted', 3663: 'hollingsworth', 3664: 'music', 3665: 'ann', 3666: 'agriculture', 3667: 'brazil', 3668: 'galling', 3669: 'boulder', 3670: '43', 3671: 'comfort', 3672: '4.75', 3673: 'elections', 3674: 'dreyfus', 3675: 'prevent', 3676: 'hopefully', 3677: 'rail', 3678: 'work', 3679: 'pap', 3680: 'poor', 3681: 'unclear', 3682: 'yamamoto', 3683: 'sum', 3684: 'spectacularly', 3685: 'longwood', 3686: 'excise', 3687: 'cop-killer', 3688: 'police', 3689: 'messrs.', 3690: 'sell-offs', 3691: 'promise', 3692: 'mortgage-backed', 3693: \"'re\", 3694: 'benchmark', 3695: 'takeover', 3696: '51', 3697: 'overpriced', 3698: 'focused', 3699: 'circuit-breaker', 3700: 'liberals', 3701: 'mae', 3702: 'fired', 3703: '23', 3704: 'unfairly', 3705: 'self-aggrandizing', 3706: 'begot', 3707: 'statewide', 3708: 'symmetry', 3709: 'skills', 3710: 'focusing', 3711: 'impact', 3712: 'irs', 3713: 'wealthy', 3714: 'sierra', 3715: 'win', 3716: 'bearish', 3717: '1988', 3718: 'convenient', 3719: 'pub', 3720: 'seahorse', 3721: 'expanding', 3722: 'runs', 3723: 'occurred', 3724: 'one-week', 3725: 'dreadful', 3726: 'peculiar', 3727: 'institutional', 3728: 'adjusting', 3729: '37-year-old', 3730: 'thai', 3731: 'sport-utility', 3732: 'level', 3733: 'cascading', 3734: 'ministers', 3735: 'maze', 3736: 'signs', 3737: 'ignoring', 3738: 'stanley', 3739: 'challenge', 3740: 'treats', 3741: 'mass', 3742: 'helm', 3743: 'kuala', 3744: 'advocate', 3745: 'sept.', 3746: 'auction', 3747: '1\\\\/2', 3748: 'newsworthy', 3749: 'joins', 3750: 'service', 3751: 'initially', 3752: 'rancor', 3753: 'inauspicious', 3754: 'tell', 3755: 'argue', 3756: 'quarter', 3757: 'showing', 3758: 'clarified', 3759: 'banker', 3760: 'continental', 3761: 'state-owned', 3762: 'columbia', 3763: 'educators', 3764: 'amending', 3765: 'cheat', 3766: 'employed', 3767: 'sony', 3768: 'sounding', 3769: 'bidders', 3770: 'land', 3771: '101', 3772: 'municipal', 3773: 'virgin', 3774: 'envoy', 3775: 'saudi', 3776: '9.625', 3777: 'moratorium', 3778: 'wood', 3779: 'traced', 3780: 'disclosure', 3781: 'continuing', 3782: 'psychiatrist', 3783: 'raced', 3784: 'lung', 3785: 'leaving', 3786: 'operates', 3787: 'turnaround', 3788: 'real', 3789: 'benefits', 3790: 'alleged', 3791: 'wozniak', 3792: 'computer-aided', 3793: 'cases', 3794: 'negotiate', 3795: 'busloads', 3796: 'hay', 3797: 'rankings', 3798: 'line', 3799: '29.9', 3800: 'coleman', 3801: 'strains', 3802: 'grange', 3803: 'subjects', 3804: '1:30', 3805: 'confuse', 3806: 'nearly', 3807: 'threats', 3808: 'print', 3809: 'deposits', 3810: 'men', 3811: 'motor', 3812: 'globe', 3813: 'york', 3814: 'equivalent', 3815: 'laid', 3816: 'included', 3817: 'collected', 3818: 'colonsville', 3819: 'towns', 3820: 'heatherington', 3821: 'redeem', 3822: 'than', 3823: 'minivans', 3824: 'when-issued', 3825: 'executed', 3826: 'dell', 3827: 'dramatic', 3828: 'twin-jet', 3829: '858,000', 3830: 'zayed', 3831: 'thrift', 3832: 'sulaiman', 3833: 'deceptive', 3834: 'september', 3835: 'r', 3836: 'issue', 3837: 'philadelphia', 3838: 'international', 3839: 'clouds', 3840: 'ground', 3841: 'detail', 3842: 'process', 3843: 'but', 3844: 'rubinfien', 3845: 'judge', 3846: 'sidewalk', 3847: '76', 3848: 'pta', 3849: 'spiders', 3850: '917', 3851: '1970', 3852: 'denied', 3853: 'bankers', 3854: '1.457', 3855: 'hired', 3856: 'since', 3857: 'zaharah', 3858: 'australia', 3859: 'agnew', 3860: 'mehrens', 3861: 'homework', 3862: 'marketing-communications', 3863: 'second', 3864: 'damage', 3865: 'complicated', 3866: 'boosted', 3867: 'series', 3868: 'identify', 3869: 'consumer-driven', 3870: 'top-level', 3871: 'youth', 3872: 'professor', 3873: 'degrees', 3874: 'rendering', 3875: 'isabelle', 3876: 'managers', 3877: 'moscow', 3878: 'shadows', 3879: 'gallium', 3880: 'priciest', 3881: 'contractor', 3882: 'risks', 3883: 'rowe', 3884: 'offend', 3885: 'rate-sensitive', 3886: 'fuel', 3887: 'roukema', 3888: 'contains', 3889: 'decide', 3890: 'over', 3891: 'ascribe', 3892: 'regarded', 3893: 'gain', 3894: 'mistakes', 3895: 'junk-bond', 3896: 'speculated', 3897: 'greer', 3898: 'lawyer', 3899: 'relative', 3900: 'angered', 3901: 'relegated', 3902: 'j.p.', 3903: 'distribution', 3904: 'chairman', 3905: 'foundations', 3906: 'explosion', 3907: 'diabetes', 3908: 'video-viewing', 3909: 'low-tech', 3910: 'critical', 3911: 'help', 3912: 'working', 3913: 'some', 3914: 'rewards', 3915: 'profit', 3916: 'phrase', 3917: 'marie', 3918: 'styles', 3919: 'england', 3920: 'happier', 3921: 'narcotics', 3922: 'warn', 3923: 'marketer', 3924: 'disagree', 3925: 'senior', 3926: 'letter', 3927: 'shows', 3928: 'thing', 3929: 'chrysler', 3930: 'sending', 3931: 'bellringers', 3932: 'affair', 3933: 'an', 3934: '2.95', 3935: 'kerensky', 3936: 'claiming', 3937: 'eugene', 3938: 'adopted', 3939: 'rolling', 3940: 'circuit', 3941: 'homosexual', 3942: 'paid', 3943: 'heavily', 3944: 'mcalpine', 3945: 'vendors', 3946: 'waif', 3947: 'felony', 3948: 'sure', 3949: 'fields', 3950: 'u.s.-japanese', 3951: 'gave', 3952: 'blackstone', 3953: 'emerges', 3954: 'disproportionate', 3955: 'substantially', 3956: 'kelli', 3957: 'judges', 3958: 'harvard', 3959: 'dow', 3960: 'became', 3961: 'fortune', 3962: '1981', 3963: 'telecommunications', 3964: 'theaters', 3965: 'sorry', 3966: 'asking', 3967: '140', 3968: 'variation', 3969: 'intensity', 3970: 'insiders', 3971: 'worried', 3972: 'without', 3973: '5\\\\/8', 3974: 'releases', 3975: 'ethics', 3976: 'courter', 3977: 'bout', 3978: 'witnesses', 3979: 'f-series', 3980: 'bowed', 3981: 'chapter', 3982: 'come', 3983: 'forcing', 3984: 'fred', 3985: 'portfolios', 3986: 'membership', 3987: 'crowded', 3988: 'highly', 3989: 'flat', 3990: 'constituent', 3991: 'telephone-information', 3992: 'chicago-style', 3993: 'astonishment', 3994: 'diming', 3995: 'fawning', 3996: 'peak', 3997: 'ballplayers', 3998: 'recede', 3999: 'microwave', 4000: 'collecting', 4001: 'frank', 4002: 'allow', 4003: 'knowns', 4004: '280', 4005: 'chastised', 4006: 'jail', 4007: 'ill', 4008: 'malignant', 4009: 'sensation', 4010: 'regrettable', 4011: 'applied', 4012: 'market', 4013: 'muscolina', 4014: 'commenting', 4015: 'timex', 4016: 'pittsburgh', 4017: \"o'connor\", 4018: 'clinton', 4019: 'evolution', 4020: 'off', 4021: 'albany', 4022: 'japan', 4023: 'double', 4024: 'mulford', 4025: 'hormats', 4026: 'look', 4027: 'facility', 4028: '550,000', 4029: '100,980', 4030: 'rapid', 4031: 'drifted', 4032: 'disputes', 4033: 'billions', 4034: 'teaching', 4035: 'trillion', 4036: 'express', 4037: 's.', 4038: 'depended', 4039: 'possible', 4040: 'northampton', 4041: 'conventional', 4042: 'fight', 4043: 'highest', 4044: 'desired', 4045: 'budget', 4046: 'magicians', 4047: 'gotten', 4048: 'deals', 4049: 'distributor', 4050: 'indirect', 4051: 'viewpoint', 4052: 'forces', 4053: 'caution', 4054: 'interest', 4055: 'filter', 4056: 'prospect', 4057: 'rapprochement', 4058: 'handling', 4059: 'funding', 4060: 'productions', 4061: 'goldman', 4062: 'permitting', 4063: 'wall', 4064: 'adrs', 4065: 'expenses', 4066: 'cyclical', 4067: 'dutch', 4068: 'beginning', 4069: 'reds', 4070: 'running', 4071: 'alienated', 4072: 'plus', 4073: 'computers', 4074: 'perpetuates', 4075: 'saying', 4076: 'vicar', 4077: 'fabricator', 4078: 'headquarters', 4079: 'anywhere', 4080: 'sacks', 4081: 'head', 4082: 'high', 4083: 'citizen', 4084: 'prompted', 4085: 'never', 4086: 'remarked', 4087: 'springs', 4088: 'degenerative', 4089: 'asians', 4090: 'its', 4091: 'sheepskin', 4092: 'target', 4093: 'timing', 4094: 'georgetown', 4095: 'category', 4096: 'battles', 4097: '179', 4098: 'negus', 4099: 'built-from-kit', 4100: 'mainframe', 4101: 'jones', 4102: 'execute', 4103: 'future', 4104: 'contributed', 4105: '4.898', 4106: 'unstinting', 4107: 'great', 4108: 'however', 4109: 'technology', 4110: 'convey', 4111: 'movies', 4112: 'waste', 4113: 'gone', 4114: 'trockenbeerenauslesen', 4115: 'saw', 4116: 'erudite', 4117: 'formerly', 4118: '26', 4119: 'd.c.', 4120: 'saving', 4121: 'ntg', 4122: 'miami', 4123: 'addition', 4124: 'harold', 4125: 'russel', 4126: '1953', 4127: 'levels', 4128: 'carla', 4129: 'brunello', 4130: 'technique', 4131: 'maker', 4132: 'introduction', 4133: 'written', 4134: 'la', 4135: 'mcfall', 4136: 'spoke', 4137: 'ranieri', 4138: 'knight', 4139: '3,500', 4140: 'wrenching', 4141: 'rozell', 4142: 'ga.', 4143: 'period', 4144: 'get', 4145: 'competitive', 4146: 'kansas', 4147: 'regret', 4148: 'outraged', 4149: 'popular', 4150: 'meet', 4151: 'sections', 4152: 'interventions', 4153: 'apologize', 4154: 'provision', 4155: '13.73', 4156: 'grader', 4157: 'investments', 4158: 'computer', 4159: 'links', 4160: 'lock', 4161: 'pickups', 4162: 'killings', 4163: 'accrued', 4164: 'thin', 4165: '777', 4166: 'guys', 4167: 'highway', 4168: 'hammond', 4169: 'referred', 4170: 'ceiling', 4171: 'training-wage', 4172: 'surge', 4173: 'legislative', 4174: 'block', 4175: 'joanne', 4176: 'ways', 4177: 'explains', 4178: 'elusive', 4179: '9.9', 4180: 'trial', 4181: 'advertised', 4182: 'criticism', 4183: 'overruns', 4184: 'rebound', 4185: '59', 4186: 'sonnett', 4187: 'asbestos-related', 4188: 'advantages', 4189: 'researcher', 4190: 'rouge', 4191: 'seemed', 4192: 'fellow', 4193: 'historic', 4194: 'diversifying', 4195: 'that', 4196: '195', 4197: 'gauge', 4198: 'outlook', 4199: 'liquid', 4200: 'chicago', 4201: 'pcs', 4202: '18.95', 4203: 'furious', 4204: 'dairy', 4205: 'satisfying', 4206: 'contribution', 4207: 'mid-1990s', 4208: 'brilliant', 4209: 'affordable', 4210: 'hegemony', 4211: 'herald', 4212: 'judged', 4213: 'word-processing', 4214: 'nature', 4215: 'five-inch', 4216: 'sheffield', 4217: 'welcome', 4218: 'argued', 4219: 'increase', 4220: 'amounts', 4221: 'overseas', 4222: 'campaigns', 4223: 'heard', 4224: 'automotive', 4225: 'library', 4226: 'nowhere', 4227: 'lot', 4228: 'arlington', 4229: '1933', 4230: 'instead', 4231: 'stigma', 4232: 'recession-inspired', 4233: 'chemicals', 4234: 'stalls', 4235: '273.5', 4236: 'fills', 4237: 'chauffeur', 4238: 'spiro', 4239: 'limited', 4240: 'buoyed', 4241: 'one-time', 4242: 'standards', 4243: 'kuvin', 4244: 'travel', 4245: 'is', 4246: 'five-day', 4247: 'nominal', 4248: 'electronics', 4249: 'peculiarities', 4250: 'encourage', 4251: 'alumni', 4252: 'decried', 4253: 'lowe', 4254: 'funded', 4255: 'though', 4256: 'elsewhere', 4257: 'diagnosed', 4258: 'bearing', 4259: 'unfair', 4260: '361,376', 4261: 'program-trading', 4262: 'hampshire', 4263: 'cues', 4264: 'desai', 4265: 'perceived', 4266: 'favor', 4267: 'tight', 4268: 'margins', 4269: 'legislation', 4270: 'reasons', 4271: 'whimsical', 4272: '32', 4273: 'texan', 4274: 'valuations', 4275: 'pamplin', 4276: 'thumbing', 4277: '1975', 4278: 'republican', 4279: 'georgia', 4280: 'insistence', 4281: 'detailed', 4282: 'inches', 4283: 'gained', 4284: 'stones', 4285: 'undersecretary', 4286: 'stairs', 4287: 'plenty', 4288: 'kean', 4289: 'semiconductors', 4290: 'assume', 4291: 'contrast', 4292: 'lyrics', 4293: 'summons', 4294: 'graduated', 4295: 'measures', 4296: 'movement', 4297: 'renee', 4298: 'mission', 4299: 'dumbfounded', 4300: 'chronicle', 4301: 'predicted', 4302: 'giving', 4303: 'brightest', 4304: 'feb.', 4305: 'bew', 4306: 'micronite', 4307: 'uptick', 4308: 'threat', 4309: 'banking', 4310: 'pharmaceuticals', 4311: 'district', 4312: 'stephens', 4313: 'registration', 4314: 'jerry', 4315: 'strength', 4316: 'designated', 4317: 'stop', 4318: 'agreeing', 4319: 'posts', 4320: 'books', 4321: 'jan.', 4322: 'centers', 4323: '-', 4324: 'tubes', 4325: 'thugs', 4326: 'evaluating', 4327: 'county', 4328: 'borge', 4329: 'prohibited', 4330: 'high-yield', 4331: 'damaged', 4332: 'inspired', 4333: 'electronic', 4334: 'weeks', 4335: 'holder', 4336: 'premier', 4337: 'catch', 4338: 'crews', 4339: 'prepared', 4340: 'asbestos', 4341: 'burned', 4342: 'gradual', 4343: 'there', 4344: 'pounds', 4345: 'new-home', 4346: 'suspect', 4347: 'wave', 4348: 'sharp', 4349: 'community', 4350: 'guns', 4351: 'multinationals', 4352: 'jenrette', 4353: 'canadian', 4354: 'backyard', 4355: 'treble', 4356: 'reduced', 4357: 'eat', 4358: 'stockholders', 4359: 'perceptions', 4360: 'cohesive', 4361: 'principals', 4362: 'huge', 4363: 'uncomplaining', 4364: 'acres', 4365: 'implications', 4366: 'lofty', 4367: 'erode', 4368: 'booming', 4369: 'victory', 4370: 'devon', 4371: 'increased', 4372: 'distasteful', 4373: 'rate', 4374: 'i', 4375: 'pay', 4376: 'recessionary', 4377: 'means', 4378: 'supercomputer', 4379: 'equipment', 4380: 'pocket', 4381: 'dodge', 4382: 'stupid', 4383: 'emigrate', 4384: 'gingl', 4385: 'thousands', 4386: 'desirable', 4387: 'results', 4388: 'weatherly', 4389: 'moment', 4390: 'bit', 4391: 'as', 4392: 'returning', 4393: 'audiocassettes', 4394: 'damn', 4395: 'initiated', 4396: '68', 4397: 'ordering', 4398: 'beneficiary', 4399: 'white-collar', 4400: 'blank', 4401: 'charts', 4402: 'generalized', 4403: 'deng', 4404: 'rules', 4405: 'shores', 4406: 'slid', 4407: 'significance', 4408: 'revive', 4409: '1986-87', 4410: 'holders', 4411: 'hawaiian', 4412: 'stopped', 4413: 'beige', 4414: 'fine', 4415: 'vacations', 4416: 'traditional', 4417: 'seems', 4418: 'confrontational', 4419: 'advertorial', 4420: 'chaired', 4421: 'improvement', 4422: 'imminent', 4423: 'renewed', 4424: 'registered', 4425: 'americans', 4426: 'campaigner', 4427: '25.50', 4428: 'permission', 4429: 'hangs', 4430: 'ok', 4431: 'explosive', 4432: 'lengthened', 4433: 'buildup', 4434: 'interrogated', 4435: 'staff', 4436: 'nonexecutive', 4437: 'conn.', 4438: 'salarymen', 4439: 'did', 4440: 'resolved', 4441: '225.6', 4442: 'frustrating', 4443: 'spoon', 4444: 'phelan', 4445: 'buy-out', 4446: 'bass', 4447: 'robotic', 4448: 'monchecourt', 4449: 'true', 4450: 'films', 4451: 'skyward', 4452: 'accusing', 4453: 'imported', 4454: '29', 4455: 'either', 4456: 'circulations', 4457: '14.6', 4458: 'one-day', 4459: 'entertain', 4460: 'f.h.', 4461: 'aurora', 4462: 'squier', 4463: 'dominating', 4464: 'licensing', 4465: '236.74', 4466: 'raise', 4467: 'doerflinger', 4468: 'refuge', 4469: 'resistance', 4470: 'confirmed', 4471: 'asia', 4472: 'retorts', 4473: 'index-options', 4474: 'have', 4475: 'acting', 4476: 'body', 4477: 'loss', 4478: 'dollar-yen', 4479: 'trs-80', 4480: 'switch', 4481: 'publishes', 4482: 'hid', 4483: 'dashes', 4484: 'r.i.', 4485: 'nasty', 4486: 'stockbroker', 4487: 'judiciary', 4488: 'editorials', 4489: 'politics', 4490: 'frederick', 4491: 'traverse', 4492: 'reform', 4493: 'subscribers', 4494: 'ariz.', 4495: 'combined', 4496: 'hills', 4497: 'developed', 4498: 'friday', 4499: 'officer', 4500: 'feared', 4501: 'loom', 4502: 'carried', 4503: 'adviser', 4504: 'scrutinizing', 4505: 'master', 4506: 'streets', 4507: 'afraid', 4508: 'lead', 4509: 'dick', 4510: 'conspicuous', 4511: 'demonstrators', 4512: 'entirely', 4513: 'attorney-client', 4514: 'rear', 4515: 'tuscany', 4516: 'swapped', 4517: 'amid', 4518: 'gop', 4519: 'w.d.', 4520: 'personally', 4521: 'yeargin', 4522: 'joy', 4523: 'hummerstone', 4524: 'clicked', 4525: 'does', 4526: 'founder', 4527: 'explained', 4528: 'bramalea', 4529: 'strait', 4530: 'minimum', 4531: 'described', 4532: 'contributions', 4533: '90', 4534: 'largely', 4535: 'buffet', 4536: 'opening', 4537: 'churches', 4538: 'ruling', 4539: 'everything', 4540: 'retaliating', 4541: 'co-developers', 4542: 'copyrights', 4543: 'lucky', 4544: 'pro-forma', 4545: 'draw', 4546: 'always', 4547: 'dawn', 4548: 'dollar-denominated', 4549: 'put', 4550: 'statistics', 4551: 'screenwriters', 4552: 'voters', 4553: 'flashy', 4554: 'assigned', 4555: 'flightiness', 4556: 'three-sevenths', 4557: 'osaka', 4558: 'recognition', 4559: 'sino-u.s.', 4560: '`', 4561: 'bonnell', 4562: 'elevators', 4563: 'appear', 4564: 'women', 4565: '8.75', 4566: 'bans', 4567: 'senate-house', 4568: 'haven', 4569: 'belts', 4570: 'composting', 4571: 'unusual', 4572: 'memphis', 4573: 'wells', 4574: 'fla.', 4575: 'six-packs', 4576: 'accused', 4577: 'flatulent', 4578: 'douglas', 4579: 'municipality', 4580: 'how', 4581: 'violated', 4582: 'supermarket', 4583: 'highlight', 4584: 'cosmetic', 4585: 'administrative', 4586: 'bangkok', 4587: 'failed', 4588: 'garbage', 4589: 'kawasaki', 4590: 'fast-food', 4591: 'carballo', 4592: 'rock', 4593: 'ailing', 4594: 'back', 4595: 'cardboard', 4596: 'sports', 4597: 'shoot', 4598: '1990s', 4599: 'chong-sik', 4600: 'chateau', 4601: 'fought', 4602: '7.3', 4603: 'patented', 4604: '12-member', 4605: 'haruki', 4606: 'ultimatum', 4607: 'month', 4608: 'altar', 4609: 'command', 4610: 'preventing', 4611: 'langner', 4612: 'opus', 4613: '200', 4614: 'slightly', 4615: 'hour', 4616: 'estimation', 4617: 'recommend', 4618: 'manager', 4619: '41', 4620: 'engaged', 4621: 'carlos', 4622: 'c$', 4623: 'bald-faced', 4624: 'self', 4625: 'wives', 4626: 'networks', 4627: 'rabia', 4628: 'relied', 4629: '4.1', 4630: 'roof', 4631: 'backe', 4632: 'unofficial', 4633: 'inaccurate', 4634: 'miti', 4635: 'innuendoes', 4636: 'exchanges', 4637: 'harder', 4638: 'representing', 4639: 'for', 4640: 'basically', 4641: 'seduce', 4642: 'stepping', 4643: 'lord', 4644: 'rudolph', 4645: 'quickly', 4646: 'phasing', 4647: '1.2', 4648: 'october', 4649: 'leap', 4650: 'hahn', 4651: '37', 4652: 'enjoying', 4653: 'emotions', 4654: '83.4', 4655: 'mistake', 4656: 'tuck', 4657: 'winiarski', 4658: 'users', 4659: 'violations', 4660: 'heart', 4661: 'valued', 4662: 'exciting', 4663: '0.25', 4664: 'region', 4665: 'acceleration', 4666: 'refitting', 4667: 'n.j.', 4668: 'jostle', 4669: 'speak', 4670: 'nielsen', 4671: 'braidwood', 4672: '225', 4673: 'transactions', 4674: 'enterprise', 4675: 'cranked', 4676: 'newgate', 4677: 'appliances', 4678: 'previously', 4679: 'came', 4680: 'maytag', 4681: 'obsessed', 4682: 'ensnarled', 4683: 'resort', 4684: '12,252', 4685: 'planned', 4686: 'crossed', 4687: 'exist', 4688: 'forest-products', 4689: 'comes', 4690: 'lobster', 4691: 'utilities', 4692: 'couples', 4693: 'japanese', 4694: 'treat', 4695: 'mayland', 4696: 'bricks', 4697: 'seven-year', 4698: 'beyond', 4699: 'nl', 4700: 'foundering', 4701: 'menem', 4702: 'featuring', 4703: 'colony', 4704: 'front-seat', 4705: 'itself', 4706: '8.04', 4707: 'victim', 4708: 'illinois', 4709: 'together', 4710: 'clark', 4711: 'uzi-model', 4712: 'regular', 4713: 'osborn', 4714: 'control', 4715: '85.1', 4716: 'tailoring', 4717: 'cathedral', 4718: 'admits', 4719: 'historical', 4720: 'credit', 4721: 'it', 4722: 'bonds', 4723: 'blessing', 4724: 'stuck', 4725: 'honors', 4726: 'jitters', 4727: 'escaped', 4728: 'excited', 4729: 'high-tech', 4730: 'westport', 4731: 'our', 4732: 'oppose', 4733: 'produce', 4734: 'subsequent', 4735: 'bigger', 4736: 'laurels', 4737: 'capitalist', 4738: 'juggernaut', 4739: 'relieved', 4740: 'hale', 4741: 'deeply', 4742: 'made', 4743: 'mother', 4744: 'local', 4745: 'payment', 4746: 'convinced', 4747: '187', 4748: 'ncnb', 4749: 'maryland', 4750: 'west', 4751: 'red-carpet', 4752: 'priced', 4753: 'gringo', 4754: 'fanfare', 4755: 'rampage', 4756: 'alysia', 4757: 'gayle', 4758: 'flexibility', 4759: 'legislators', 4760: 'concession', 4761: 'details', 4762: 'under', 4763: 'copied', 4764: 'copyright', 4765: 'jay', 4766: 'awful', 4767: 'administrations', 4768: \"'82\", 4769: 'bugs', 4770: 'angle', 4771: 'winning', 4772: 'philosophy', 4773: 'darkhorse', 4774: 'dissident', 4775: 'venerable', 4776: 'reruns', 4777: 'recent', 4778: 'invests', 4779: 'autions', 4780: 'rough', 4781: 'three-lawyer', 4782: 'mean', 4783: 'collar', 4784: 'earle', 4785: 'empowered', 4786: 'apple', 4787: 'ross', 4788: 'estimates', 4789: 'schoolchildren', 4790: 'facing', 4791: 'weekends', 4792: '54-year-old', 4793: 'autos', 4794: 'conn', 4795: 'san', 4796: 'william', 4797: 'apprehensive', 4798: 'b', 4799: 'favorable', 4800: 'toward', 4801: 'third-quarter', 4802: 'signals', 4803: 'waters', 4804: '0.5', 4805: 'anglia', 4806: 'markup', 4807: 'sun', 4808: 'barnum', 4809: 'employs', 4810: 'yield', 4811: 'strindberg', 4812: 'weeklies', 4813: '240,000', 4814: 'alerts', 4815: 'picking', 4816: 'alive', 4817: 'association', 4818: '2.5', 4819: \"'d\", 4820: 'opposition', 4821: 'u.k.', 4822: 'throws', 4823: '1,298', 4824: 'teetering', 4825: 'mouth-up', 4826: 'promptly', 4827: 'reaped', 4828: 'exercise', 4829: 'request', 4830: 'serves', 4831: 'durable-goods', 4832: 'adult', 4833: 'rey', 4834: 'island', 4835: 'import', 4836: 'dozen', 4837: 'exhibited', 4838: 'town', 4839: 'boosts', 4840: 'something', 4841: 'monopolize', 4842: 'napa', 4843: 'enticed', 4844: 'foreign', 4845: 'provoke', 4846: 'telegraph', 4847: 'hair', 4848: 'redeeming', 4849: 'arsenide', 4850: 'appreciation', 4851: 'indonesia', 4852: 'losing', 4853: \"creator's\", 4854: 'surprised', 4855: 'daiwa', 4856: 'hit', 4857: 'huntsville', 4858: '374.20', 4859: 'kept', 4860: 's&p', 4861: 'down', 4862: 'manually', 4863: 'widow', 4864: 'solely', 4865: 'spends', 4866: 'pollution', 4867: 'cedric', 4868: 'specialize', 4869: 'arrived', 4870: 'buttoned-down', 4871: 'rockefeller', 4872: 'iowa', 4873: 'copperweld', 4874: 'supreme', 4875: 'reducing', 4876: 'any', 4877: 'segmenting', 4878: 'everywhere', 4879: 'easier', 4880: 'minutes', 4881: 'aiming', 4882: 'story', 4883: 'vision', 4884: 'prison', 4885: 'hospitable', 4886: 'home-market', 4887: 'killing', 4888: 'question', 4889: 'privately', 4890: 'physical', 4891: 'anthony', 4892: 'commodore', 4893: 'pre-1933', 4894: 'measured', 4895: 'impending', 4896: 'tower', 4897: 'observers', 4898: 'low-ball', 4899: 'growing', 4900: 'grown', 4901: 'vitriolic', 4902: 'opened', 4903: 'plc', 4904: 'sense', 4905: 'concedes', 4906: 'purchase', 4907: 'father', 4908: 'analyze', 4909: 'negotiators', 4910: 'gold', 4911: 'soared', 4912: 'marbles', 4913: 'extend', 4914: 'billings', 4915: 'auto-safety', 4916: 'lottery', 4917: 'considerable', 4918: 'giuliani', 4919: 'unenticing', 4920: 'efforts', 4921: 'interview', 4922: 'cartoonist', 4923: 'experience', 4924: 'diseases', 4925: 'hostility', 4926: 'hubbard', 4927: 'valrico', 4928: 'believes', 4929: 'transplantation', 4930: 'otero', 4931: 'chaplin', 4932: 'inflation', 4933: 'solvent', 4934: 'queen', 4935: 'home', 4936: '62%-owned', 4937: 'civilization', 4938: 'u.s.-japan', 4939: 'hammerton', 4940: 'inherited', 4941: '1,620', 4942: 'aerospace', 4943: 'proceedings', 4944: 'store', 4945: 'withdrawn', 4946: 'machine-gun-toting', 4947: 'progressive', 4948: 'complained', 4949: 'charged', 4950: 'sympathy', 4951: 'forced', 4952: 'belongs', 4953: 'ran', 4954: 'expanded', 4955: 'firm', 4956: 'sachs', 4957: 'progress', 4958: 'screwed', 4959: 'atlanta', 4960: 'hhs', 4961: 'knocked', 4962: 'computerize', 4963: 'machinery', 4964: 'comprehensive', 4965: 'tools', 4966: 'al', 4967: 'returned', 4968: 'perhaps', 4969: 'fattened', 4970: 'sentencing', 4971: 'refund', 4972: 'remaining', 4973: '6,000', 4974: 'solicitation', 4975: 'bin', 4976: 'perritt', 4977: 'task', 4978: 'retort', 4979: 'precisely', 4980: 'dusty', 4981: 'discontinuing', 4982: 'said', 4983: 'alleging', 4984: 'jurisdictional', 4985: '6.21', 4986: 'altair', 4987: '127.03', 4988: 'actress', 4989: 'values', 4990: 'test-practice', 4991: 'portfolio', 4992: 'laser', 4993: 'found', 4994: 'listing', 4995: 'manner', 4996: '126,000', 4997: 'freedom', 4998: 'offset', 4999: 'returns', 5000: 'various', 5001: 'my', 5002: 'placed', 5003: 'resulting', 5004: 'louisiana', 5005: 'tatsunori', 5006: 'cancer', 5007: 'demographic', 5008: 'outranks', 5009: 'forecasts', 5010: 'russian', 5011: 'corporate', 5012: 'navigation', 5013: 'singapore', 5014: 'black', 5015: 'filled', 5016: 'say', 5017: 'setback', 5018: 'getting', 5019: 'editors', 5020: 'microcomputers', 5021: 'kent', 5022: 'accept', 5023: 'parts', 5024: 'domestic', 5025: 'implicit', 5026: 'ad', 5027: 'comtes', 5028: 'leading', 5029: 'closed-end', 5030: 'adams', 5031: '-rrb-', 5032: 'austria', 5033: 'significantly', 5034: 'pre-approved', 5035: 'eighth', 5036: 'investment', 5037: 'honorably', 5038: 'sort', 5039: 'arafat', 5040: 'press', 5041: 'formal', 5042: 'borders', 5043: 'resolve', 5044: 'kensington', 5045: 'railcars', 5046: 'hungary', 5047: 'fifteen', 5048: '1989', 5049: 'essays', 5050: 'having', 5051: 'swearingen', 5052: 'might', 5053: 'packaging', 5054: 'sr.', 5055: 'consultants', 5056: 'doonesbury', 5057: 'fraud', 5058: 'stiff', 5059: 'besides', 5060: 'unique', 5061: 'absorbed', 5062: 'dating', 5063: 'free', 5064: 'thirtysomething', 5065: 'categories', 5066: 'has', 5067: '55', 5068: 'obedient', 5069: 'nose', 5070: 'deposit', 5071: '3.23', 5072: 'convertible', 5073: 'barnett', 5074: 'administrator', 5075: 'lehman', 5076: 'owed', 5077: 'summer', 5078: 'well', 5079: 'greece', 5080: 'fixed', 5081: 'leeway', 5082: 'stars', 5083: 'christian', 5084: 'options', 5085: 'slippage', 5086: 'assisted', 5087: 'too', 5088: 'friend', 5089: '42.5', 5090: 'fallen', 5091: 'units', 5092: '77.70', 5093: 'mistrials', 5094: 'reading', 5095: 'portrayed', 5096: 'colo.', 5097: 'cooperation', 5098: 'aba', 5099: 'bermuda', 5100: '1980s', 5101: 'improves', 5102: 'pierre', 5103: 'changed', 5104: 'lion', 5105: '%', 5106: 'n.v.', 5107: 'garry', 5108: 'drinking', 5109: 'complaint', 5110: 'attention', 5111: 'ballroom', 5112: 'tuesday', 5113: '436.01', 5114: 'stare', 5115: 'oils', 5116: 'vansant', 5117: 'chabrol', 5118: '28', 5119: 'committee', 5120: 'jeremy', 5121: 'sticker', 5122: '70-a-share', 5123: 'bromwich', 5124: '4.25', 5125: 'upon', 5126: 'voices', 5127: 'window', 5128: 'syndication', 5129: 'toilet', 5130: 'vintages', 5131: 'salty', 5132: 'jersey', 5133: 'volatility', 5134: 'delegates', 5135: 'nevertheless', 5136: 'quips', 5137: 'thinking', 5138: 'actively', 5139: 'deteriorating', 5140: 'thomas', 5141: 'cites', 5142: 'murakami', 5143: 'latest', 5144: 'soft', 5145: 'boost', 5146: 'interpublic', 5147: 'fed', 5148: 'productivity', 5149: 'amin', 5150: 'statue', 5151: 'graduates', 5152: 'jr', 5153: 'nasdaq', 5154: 'mossman', 5155: 'polled', 5156: 'covers', 5157: 'understanding', 5158: 'altering', 5159: 'excess', 5160: 'historically', 5161: 'rockford', 5162: 'aircraft', 5163: 'kondo', 5164: 'midyear', 5165: 'buck', 5166: 'kuhns', 5167: 'ushering', 5168: 'ankle', 5169: 'subminimum', 5170: 'signing', 5171: 'marketplace', 5172: 'appellate', 5173: 'convicted', 5174: 'extra', 5175: 'trend', 5176: 'warns', 5177: 'poured', 5178: 'actions', 5179: 'banned', 5180: '456.64', 5181: 'procurement', 5182: 'elisabeth', 5183: 'ranged', 5184: 'venture', 5185: 'open-end', 5186: 'agreed', 5187: 'gyrations', 5188: 'romanee-conti', 5189: 'plaza', 5190: 'versions', 5191: 'unsympathetic', 5192: 'investor-relations', 5193: 'breaking', 5194: 'troubles', 5195: 'licensed', 5196: 'logo', 5197: 'tracks', 5198: 'consider', 5199: 'accepting', 5200: 'weak', 5201: 'rear-seat', 5202: 'percentage', 5203: 'single-handedly', 5204: 'document', 5205: 'genel', 5206: '50-state', 5207: 'late', 5208: 'spokesman', 5209: 'dahl', 5210: 'industrial', 5211: 'everyday', 5212: 'aired', 5213: 'textile', 5214: 'confines', 5215: 'interrogation', 5216: 'seeing', 5217: '7.90', 5218: 'steep', 5219: 'investigating', 5220: 'household', 5221: 'norwick', 5222: 'attributes', 5223: 'tag', 5224: 'rotie', 5225: 'white', 5226: 'mason', 5227: 'offending', 5228: 'myron', 5229: 'clays', 5230: 'nev.', 5231: 'payments', 5232: '17', 5233: 'connecticut', 5234: 'athletic', 5235: 'design', 5236: 'attached', 5237: 'creation', 5238: 'legal', 5239: 'ctbs', 5240: 'pointing', 5241: 'clamped', 5242: 'journalists', 5243: 'announcement', 5244: 'eye', 5245: 'following', 5246: 'sit', 5247: 'incentive', 5248: 'subskills', 5249: '98.3', 5250: 'protracted', 5251: 'microphone', 5252: 'weaken', 5253: 'stuart', 5254: 'correspondence', 5255: 'key', 5256: 'norwegian', 5257: 'noodles', 5258: 'population', 5259: 'metropolitan', 5260: 'column', 5261: 'offenders', 5262: 'gets', 5263: 'founded', 5264: 'retard', 5265: 'unfortunately', 5266: 'revolution', 5267: 'peals', 5268: 'debacle', 5269: 'purrs', 5270: 'provisions', 5271: 'meaningful', 5272: 'counterpart', 5273: 'picked', 5274: 'sayers', 5275: 'featured', 5276: '374.19', 5277: 'r.', 5278: 'western', 5279: 'completeness', 5280: '1950s', 5281: '8.22', 5282: 'mechanism', 5283: 'optimism', 5284: 'furukawa', 5285: 'fuming', 5286: 'eight', 5287: 'conduct', 5288: 'approves', 5289: 'completely', 5290: 'rollover', 5291: 'vitally', 5292: 'boutique', 5293: 'defuse', 5294: 'largest', 5295: 'smattering', 5296: 'pending', 5297: 'black-and-white', 5298: 'steeper', 5299: '3.3', 5300: 'belong', 5301: 'unsolicited', 5302: 'hamilton', 5303: 'troublesome', 5304: 'pretty', 5305: 'huntington', 5306: 'engineers', 5307: 'points', 5308: 'tumbled', 5309: 'approach', 5310: 'racing', 5311: 'force', 5312: 'sentiment', 5313: 'hung', 5314: 'participants', 5315: 'pro-democracy', 5316: 'bought', 5317: 'consecutive', 5318: 'considering', 5319: 'robert', 5320: '62.625', 5321: 'montedison', 5322: 'brace', 5323: 'niches', 5324: 'involving', 5325: 'plunging', 5326: 'hotels', 5327: 'partners', 5328: 'state', 5329: 'inner-city', 5330: 'shut', 5331: 'spain', 5332: '52-week', 5333: 'persuasion', 5334: 'ix', 5335: 'commanded', 5336: 'failing', 5337: 'accounting', 5338: 'questions', 5339: 'recyclability', 5340: 'strother', 5341: 'cheese', 5342: 'code', 5343: 'purchasing', 5344: 'bodner', 5345: 'of', 5346: 'index-arbitrage', 5347: 'test-coaching', 5348: 'writer', 5349: 'when', 5350: 'street', 5351: 'ps', 5352: 'tie-breaking', 5353: 're-election', 5354: 'box', 5355: 'escrow', 5356: 'joined', 5357: 'apologizing', 5358: 'macmillan\\\\/mcgraw', 5359: 'cement', 5360: 'owner', 5361: 'score', 5362: 'carefree', 5363: 'financial', 5364: 'contractors', 5365: 'polarized', 5366: 'division', 5367: 'ruled', 5368: 'eligible', 5369: 'read', 5370: 'more-efficient', 5371: 'sinister', 5372: 'wide', 5373: 'individual', 5374: 'impossible', 5375: 'cite', 5376: '57.50', 5377: 'away', 5378: 'cds', 5379: 'morgan', 5380: 'fumes', 5381: 'waiving', 5382: 'grants', 5383: 'piero', 5384: 'terrine', 5385: 'purepac', 5386: 'believe', 5387: 'valley', 5388: 'vineyard', 5389: 'assets', 5390: 'share', 5391: 'bickering', 5392: 'bowery', 5393: 'soho', 5394: 'socialist', 5395: 'weapon', 5396: '11,000', 5397: 'gradually', 5398: 'yes', 5399: 'refuses', 5400: '5.29', 5401: 'somebody', 5402: 'courtroom', 5403: 'male-only', 5404: 'trading', 5405: 'durable', 5406: 'russo', 5407: 'longer', 5408: 'portrayal', 5409: 'solidarity', 5410: 'sluggishness', 5411: 'spur', 5412: 'anybody', 5413: 'production', 5414: '1999', 5415: 'available', 5416: 'kind', 5417: 'snapped', 5418: 'watched', 5419: 'x', 5420: 'remember', 5421: 'taste', 5422: 'geography', 5423: 'lloyd', 5424: 'mickey', 5425: 'barriers', 5426: 'hefty', 5427: 'lapses', 5428: 'counterweight', 5429: 'institution', 5430: 'trotter', 5431: '61', 5432: 'volunteer', 5433: 'earns', 5434: '737.5', 5435: 'final', 5436: 'employment', 5437: 'beds', 5438: 'items', 5439: 'retailers', 5440: 'orleans', 5441: '35', 5442: 'monied', 5443: 'place', 5444: 'excluding', 5445: 'ahead', 5446: 'yielded', 5447: 'gunship', 5448: 'nutty', 5449: 'districts', 5450: '1987', 5451: 'male', 5452: '100,000', 5453: 'incredible', 5454: 'classified', 5455: 'realization', 5456: 'remodeling', 5457: 'plight', 5458: 'olympic', 5459: 'supportive', 5460: 'sphere', 5461: 'abating', 5462: 'nets', 5463: 'rep.', 5464: 'nestor', 5465: 'records', 5466: '301', 5467: 'disruption', 5468: 'probably', 5469: 'unimpeded', 5470: '80', 5471: 'pursuant', 5472: 'promising', 5473: 'aces', 5474: 'aquino', 5475: 'watches', 5476: 'achieving', 5477: 'visited', 5478: 'sandberg', 5479: 'reflecting', 5480: 'rent-a-car', 5481: 'macmillan', 5482: 'differences', 5483: 'aggressively', 5484: 'games', 5485: 'beijing', 5486: 'or', 5487: 'keidanren', 5488: 'rolled', 5489: 'anticipates', 5490: 'asks', 5491: 'field', 5492: 'lower-priority', 5493: 'seized', 5494: ',', 5495: '1.8500', 5496: 'propelling', 5497: 'occurrences', 5498: 'detroit', 5499: 'cleaned', 5500: 'clean', 5501: 'marchand', 5502: 'products', 5503: '155', 5504: 'specific', 5505: 'unjustified', 5506: 'nurtured', 5507: '271,124', 5508: 'play', 5509: 'mortimer', 5510: 'co-owner', 5511: '10-year', 5512: 'performed', 5513: 'consultant', 5514: 'transforming', 5515: 'scott', 5516: 'smaby', 5517: 'rights', 5518: '84-month', 5519: 'stored', 5520: 'resolution', 5521: '30-day', 5522: 'vagabond', 5523: 'showings', 5524: 'precious', 5525: 'rebuffed', 5526: 'climbed', 5527: 'foot', 5528: 'merger-related', 5529: 'chary', 5530: 'newspaper', 5531: 'nation', 5532: 'penetrate', 5533: 'slew', 5534: 'gives', 5535: 'fails', 5536: '88', 5537: 'little', 5538: 'widely', 5539: 'shares', 5540: 'jr.', 5541: 'hitachi', 5542: 'author', 5543: 'indeed', 5544: 'escalated', 5545: 'american', 5546: '142.85', 5547: 'strapped', 5548: 'scrupulously', 5549: 'redeemed', 5550: 'source', 5551: 'clemens', 5552: 'others', 5553: 'justice', 5554: 'earnings', 5555: 'procedures', 5556: 'throughout', 5557: 'taking', 5558: 'television', 5559: 'advertising', 5560: 'albert', 5561: 'primary', 5562: 'warnings', 5563: 'educational', 5564: 'brought', 5565: 'extremely', 5566: '143.93', 5567: 'diplomacy', 5568: 'brenda', 5569: 'crown', 5570: 'henderson', 5571: 'age', 5572: 'male-dominated', 5573: 'forgiven', 5574: 'stearn', 5575: 'favored', 5576: 'sherwin', 5577: 'preferred', 5578: '29.3', 5579: 'certificate', 5580: 'accurate', 5581: 'democrat', 5582: 'loveliest', 5583: 'educated', 5584: 'keyboards', 5585: 'enough', 5586: 'beforehand', 5587: 'european', 5588: '1\\\\/4', 5589: 'architecture', 5590: 'laura', 5591: '62.5', 5592: 'decides', 5593: 'anything', 5594: 'birmingham', 5595: 'lane', 5596: 'testify', 5597: 'beverly', 5598: 'hawke', 5599: 'holdings', 5600: 'ltv', 5601: 'choice', 5602: 'like', 5603: 'disturbs', 5604: 'shops', 5605: 'star', 5606: 'promote', 5607: \"'\", 5608: 'shop', 5609: 'school', 5610: 'operational', 5611: 'boorse', 5612: 'clear', 5613: 'response', 5614: 'greater', 5615: 'polytechnic', 5616: 'strip', 5617: 'cope', 5618: 'role', 5619: 'life', 5620: 'malcolm', 5621: 'discourage', 5622: 'gotta', 5623: 'misdemeanor', 5624: 'achievement', 5625: 'exceptional', 5626: 'certificates', 5627: 'life-style', 5628: 'own', 5629: 'debt', 5630: 'moderate', 5631: 'goverment', 5632: 'premium', 5633: 'shipping', 5634: 'falling', 5635: 'economy', 5636: 'basic', 5637: 'single', 5638: '6', 5639: 'privileged', 5640: 'caveat', 5641: '46', 5642: 'restructured', 5643: 'einhorn', 5644: '415.8', 5645: '3.61', 5646: 'sometimes-tawdry', 5647: 'prospectively', 5648: 'odd', 5649: 'hero', 5650: 'struggled', 5651: 'watching', 5652: 'cuvees', 5653: 'capture', 5654: 'designing', 5655: 'extended', 5656: 'harshly', 5657: 'bled', 5658: 'map', 5659: 'violence', 5660: 'roosevelt', 5661: 'modest', 5662: 'declare', 5663: '5.9', 5664: 'harcourt', 5665: 'plane', 5666: 'stores', 5667: 'himself', 5668: 'football', 5669: 'stations', 5670: 'unusually', 5671: 'pre-emptive', 5672: 'labor', 5673: 'guest', 5674: 'station', 5675: 'computer-generated', 5676: 'engineered', 5677: 'muffled', 5678: 'page', 5679: 'clubs', 5680: 'hitter', 5681: 'identified', 5682: 'feed', 5683: '7\\\\/8', 5684: 'berliner', 5685: 'thursday', 5686: 'prices', 5687: 'purely', 5688: '4', 5689: 'limits', 5690: 'complaints', 5691: '133.8', 5692: 'australian', 5693: 'except', 5694: 'triggered', 5695: 'malizia', 5696: 'chocolate', 5697: 'nobody', 5698: 'finest', 5699: 'exposed', 5700: 'launched', 5701: 'co', 5702: 'average', 5703: 'announce', 5704: 'best-seller', 5705: '8.45', 5706: 'virginians', 5707: 'barfield', 5708: 'nesb', 5709: 'reopen', 5710: 'usually', 5711: 'appeared', 5712: 'higher', 5713: 'brownstein', 5714: 'monitor', 5715: 'nelson', 5716: 'brunswick', 5717: 'search', 5718: 'fraction', 5719: 'poland', 5720: 'school-board', 5721: 'wholesale', 5722: 'rhythm', 5723: 'explorer', 5724: 'ropes', 5725: '0.1', 5726: 'system', 5727: 'hudson', 5728: 'higher-salaried', 5729: 'dallara', 5730: 'aids', 5731: 'crossing', 5732: 'baris', 5733: 'amend', 5734: 'arizona', 5735: 'breakfast', 5736: 'shirt-sleeved', 5737: 'pack', 5738: 'prospects', 5739: 'associated', 5740: '154.2', 5741: 'inching', 5742: 'squad', 5743: 'fainting', 5744: 'pealing', 5745: 'initiative', 5746: 'penetration', 5747: 'contain', 5748: 'superior', 5749: 'squeezed', 5750: 'korea', 5751: 'pep', 5752: 'especially', 5753: 'minneapolis', 5754: 'automotive-parts', 5755: 'skin', 5756: 'lend-lease', 5757: '340,000', 5758: 'yesterday', 5759: 'ventures', 5760: '1.85', 5761: 'competing', 5762: 'served', 5763: 'push', 5764: 'felten', 5765: 'witness', 5766: 'network', 5767: 'lift', 5768: 'familiarization', 5769: 'government-certified', 5770: 'germans', 5771: 'fannie', 5772: 'every', 5773: 'advantage', 5774: 'we', 5775: 't-shirts', 5776: 'introduced', 5777: 'dunn', 5778: 'sogo-shosha', 5779: 'siegal', 5780: 'the', 5781: 'frequently', 5782: 'quality', 5783: '9,118', 5784: 'faster', 5785: 'systematic', 5786: 'declared', 5787: 'roger', 5788: 'assurance', 5789: 'impartial', 5790: 'undertaking', 5791: 'fights', 5792: 'automobile', 5793: 'burdens', 5794: '60,000', 5795: 'purchasers', 5796: 'situations', 5797: 'becoming', 5798: 'knitted', 5799: 'apartment', 5800: 'cancer-causing', 5801: 'scherer', 5802: 'pianist-comedian', 5803: 'putting', 5804: 'grandfather', 5805: 'speedway', 5806: 'fifth', 5807: 'opens', 5808: 'sympathetic', 5809: 'insidious', 5810: 'he', 5811: 'honor', 5812: 'jam', 5813: 'me', 5814: 'lancaster', 5815: 'outlawed', 5816: 'blanchard', 5817: 'committed', 5818: 'romanticized', 5819: 'compares', 5820: 'red', 5821: 'long-time', 5822: 'pressure', 5823: 'manhattan', 5824: 'pumping', 5825: 'surrender', 5826: 'consensus', 5827: '66.5', 5828: 'wisdom', 5829: 'schools', 5830: 'event', 5831: 'lab', 5832: 'austrian', 5833: 'shore', 5834: 'devastating', 5835: 'owners', 5836: 'even', 5837: 'pacific', 5838: 'monthly', 5839: 'creditors', 5840: 'politely', 5841: 'solid', 5842: 'partially', 5843: 'pre-communist', 5844: 'interests', 5845: 'magazines', 5846: 'merchandise', 5847: 'whistle', 5848: 'board', 5849: 'water', 5850: 'machine', 5851: 'devices', 5852: 'twin', 5853: 'leinonen', 5854: 'rope-sight', 5855: 'slipped', 5856: 'construction', 5857: 'integration', 5858: 'automobiles', 5859: '847', 5860: 'dennis', 5861: 'willingness', 5862: 'painted', 5863: 'curb', 5864: 'gifts', 5865: 'meinders', 5866: 'satrum', 5867: 'leveling', 5868: 'achievement-test', 5869: 'sketching', 5870: 'bolduc', 5871: 'tassinari', 5872: 'often', 5873: 'potential', 5874: 'job', 5875: 'rises', 5876: 'managing', 5877: 'smith', 5878: 'competitions', 5879: 'pre-cooked', 5880: 'parishioners', 5881: 'hermitage', 5882: 'railroad', 5883: 'expires', 5884: 'drain', 5885: 'club', 5886: 'cash-rich', 5887: 'sometimes', 5888: 'point', 5889: 'suspend', 5890: 'six-inch', 5891: 'low', 5892: 'leases', 5893: 'minority', 5894: 'logjam', 5895: '2-8', 5896: 'characters', 5897: 'permanent', 5898: 'practice', 5899: 'finmeccanica', 5900: 'lumpur', 5901: 'murder', 5902: 'decade', 5903: '236.79', 5904: 'interest-bearing', 5905: '200,000', 5906: 'reference', 5907: 'practices', 5908: 'insolvency', 5909: 'temporarily', 5910: 'begin', 5911: '120', 5912: '62-year-old', 5913: 'playful', 5914: 'printed', 5915: 'survey', 5916: '767', 5917: 'reaches', 5918: 'talked', 5919: 'tree', 5920: 'radically', 5921: 'gelatin', 5922: 'mobile', 5923: 'cruising', 5924: 'expecting', 5925: 'counts', 5926: 'represent', 5927: 'fearful', 5928: 'july', 5929: 'criticized', 5930: 'punishable', 5931: 'unrealistically', 5932: 'phillips', 5933: 'subindustry', 5934: 'campaigning', 5935: 'payoff', 5936: 'saturday', 5937: 'cigarette', 5938: 'flush', 5939: 'sounds', 5940: 'retained', 5941: 'doctors', 5942: 'interim', 5943: 'emphasis', 5944: 'road', 5945: 'reach', 5946: 'prominent', 5947: 'totaled', 5948: 'remain', 5949: 'pregnant', 5950: 'nonfat', 5951: 'exports', 5952: 'blacks', 5953: 'aslacton', 5954: 'vinken', 5955: 'admitted', 5956: 'superintendent', 5957: 'rings', 5958: 'eternal', 5959: 'mrs.', 5960: '14,821', 5961: 'bang', 5962: 'booklet', 5963: '3\\\\/4', 5964: 'supplies', 5965: 'current', 5966: 'chinese', 5967: 'u.s.a.', 5968: 'homeless', 5969: 'medical', 5970: 'buy', 5971: 'securities-based', 5972: 'instance', 5973: 'l.', 5974: 'acquiring', 5975: 'integrated', 5976: 'elite', 5977: 'hundred', 5978: 'breaks', 5979: 'among', 5980: 'taxes', 5981: 'require', 5982: 'really', 5983: 'assemble', 5984: 'cleveland', 5985: 'bid', 5986: 'symphony', 5987: 'congressional', 5988: 'report', 5989: 'mining', 5990: 'someone', 5991: 'gerhard', 5992: 'boone', 5993: 'mesnil', 5994: 'abortions', 5995: 'steps', 5996: 'smooth', 5997: 'curse', 5998: 'davies', 5999: 'tactics', 6000: 'starters', 6001: 'linked', 6002: 'encircling', 6003: 'dumped', 6004: 'price', 6005: '69-point', 6006: 'li', 6007: 'range', 6008: 'represents', 6009: 'luck', 6010: 'broke', 6011: 'correll', 6012: 'berger', 6013: 'toronto', 6014: 'investigations', 6015: 'remarks', 6016: 'segment', 6017: 'mathematics', 6018: 'banks', 6019: 'assembled', 6020: 'summoned', 6021: 'requirements', 6022: 'equals', 6023: 'claude', 6024: 'credibility', 6025: 'attend', 6026: 'short-lived', 6027: 'ward', 6028: 'pre-1917', 6029: 'craft', 6030: 'insisted', 6031: 'drop', 6032: 'patterns', 6033: 'apology', 6034: 'investors', 6035: 'year-end', 6036: 'pact', 6037: 'barbaresco', 6038: 'trettien', 6039: 'forms', 6040: 'countries', 6041: 'virtually', 6042: 'rhythmically', 6043: 'insists', 6044: 'sustained', 6045: 'aspects', 6046: 'pace', 6047: 'swiftly', 6048: 'all', 6049: 'retiring', 6050: 'uncharted', 6051: 'unfilled', 6052: 'obtained', 6053: 'first-time', 6054: 'ton', 6055: '85', 6056: 'unrestricted', 6057: 'estate', 6058: 'concentration', 6059: 'race', 6060: 'cast', 6061: 'lasted', 6062: 'ketchum', 6063: 'crocidolite', 6064: 'surrendered', 6065: 'sacramento-based', 6066: 'jury', 6067: 'brunei', 6068: 'sat', 6069: 'team', 6070: 'outrage', 6071: 'northern', 6072: 'lovely', 6073: 'attempts', 6074: 'died', 6075: 'cocoa', 6076: 'transferring', 6077: 'illegally', 6078: 'one-upsmanship', 6079: 'none', 6080: 'far', 6081: 'stress', 6082: 'del', 6083: 'syndrome', 6084: 'onto', 6085: 'personnel', 6086: 'economic', 6087: '50', 6088: 'diversify', 6089: 'souper', 6090: 'suggested', 6091: 'conglomerate', 6092: 'functions', 6093: 'kicker', 6094: 'attitude', 6095: 'nesconset', 6096: 'taiwan', 6097: 'polls', 6098: 'retailing', 6099: 'occupant', 6100: 'shirts', 6101: 'avrett', 6102: 'cars', 6103: 'color', 6104: 'nbi', 6105: 'lee', 6106: 'valuation', 6107: 'degree', 6108: 'andrew', 6109: 'shallow', 6110: 'death', 6111: 'assistant', 6112: 'tension', 6113: 'do', 6114: 'conflicts', 6115: 'succeeds', 6116: 'nonfinancial', 6117: 'protect', 6118: 'consomme', 6119: 'glauber', 6120: 'excessive', 6121: '3.5', 6122: '360', 6123: 'frantic', 6124: 'regenerate', 6125: '4.4', 6126: 'louisville', 6127: 'nor', 6128: 'landonne', 6129: 'benign', 6130: 'suit', 6131: 'airports', 6132: 'subordinate', 6133: '500', 6134: '700', 6135: 'mara', 6136: 'pictures', 6137: 'shortage', 6138: 'supplier', 6139: 'counterattack', 6140: 'satisfactory', 6141: 'centennial', 6142: 'wong', 6143: 'bright', 6144: 'partisans', 6145: 'perception', 6146: 'quiet', 6147: 'charlie', 6148: 'nissho-iwai', 6149: '1.75', 6150: '1956', 6151: 'same', 6152: 'wine', 6153: 'tiny', 6154: 'klauser', 6155: 'mrs', 6156: 'concept', 6157: 'n.j', 6158: 'steven', 6159: 'shovels', 6160: 'money-center', 6161: 'brat', 6162: 'sponsor', 6163: 'lying', 6164: 'living', 6165: 'mechanical', 6166: 'midvale', 6167: 'rather', 6168: 'carries', 6169: 'weekly', 6170: 'judie', 6171: 'barney', 6172: 'recognize', 6173: 'chardonnays', 6174: 'eliminates', 6175: 'yields', 6176: 'carefully', 6177: 'mature', 6178: 'charlotte', 6179: 'exercisable', 6180: 'requirement', 6181: 'private', 6182: 'appointed', 6183: 'performing', 6184: 'pleaded', 6185: 'mark', 6186: 'fashion', 6187: 'poore', 6188: 'revenue-desperate', 6189: 'halt', 6190: 'tightened', 6191: 'openly', 6192: 'coors', 6193: 'mcauley', 6194: 'recorded', 6195: 'data', 6196: 'school-improvement', 6197: 'remove', 6198: 'earlier', 6199: 'notes', 6200: 'kane', 6201: '86', 6202: 'duty-free', 6203: 'tense', 6204: 'buses', 6205: 'arthur', 6206: 'kenneth', 6207: '&', 6208: 'hospital', 6209: 'glamorize', 6210: 'parent', 6211: 'jobs', 6212: 'photographic', 6213: 'las', 6214: 'burden', 6215: 'nothing', 6216: 'protected', 6217: 'befuddled', 6218: '20.5', 6219: '70.7', 6220: 'longest', 6221: 'angier', 6222: 'washington-based', 6223: 'drums', 6224: 'by', 6225: 'chinchon', 6226: 'markets', 6227: 'movie', 6228: 'anger', 6229: 'wakayama', 6230: 'thrall', 6231: 'told', 6232: 'april', 6233: 'cute', 6234: 'michigan', 6235: 'unwary', 6236: 'hard', 6237: 'sums', 6238: 'mailing', 6239: 'off-off', 6240: '11,762', 6241: 'energy-services', 6242: 'sticker-shock', 6243: 'dismay', 6244: 'diamond', 6245: 'compensation', 6246: 'arabia', 6247: 'photograph', 6248: 'capital', 6249: 'negotiations', 6250: 'minus', 6251: 'film', 6252: 'lawsuit', 6253: 'dwindling', 6254: 'politicians', 6255: 'mazda', 6256: 'auctioned', 6257: 'wilson', 6258: 'finally', 6259: 'requires', 6260: 'opportunity', 6261: 'deliver', 6262: 'bumkins', 6263: 'mounted', 6264: 'hire', 6265: 'substance', 6266: 'plainclothes', 6267: 'america', 6268: 'buying', 6269: 'swelling', 6270: 'at&t', 6271: 'makers', 6272: 'noted', 6273: 'stringently', 6274: 'rusted', 6275: 'familiar', 6276: 'diversionary', 6277: 'argentine', 6278: 'preparatives', 6279: 'met', 6280: 'linda', 6281: 'fluctuation', 6282: '850', 6283: 'worst-case', 6284: 'hoopla', 6285: 'stirrings', 6286: '10,000', 6287: '15,000', 6288: 'sizable', 6289: 'you', 6290: 'consonant', 6291: 'high-level', 6292: '2.65', 6293: 'intended', 6294: 'coincident', 6295: 'restrictions', 6296: 'purhasing', 6297: 'discontinue', 6298: 'and', 6299: 'reorganization', 6300: 'round', 6301: 'slow', 6302: 'tow', 6303: 'pick', 6304: '150-point', 6305: 'one-hour', 6306: 'withdraw', 6307: 'operators', 6308: 'inflationary', 6309: 'southeast', 6310: 'basham', 6311: 'engineer', 6312: 'officially', 6313: 'fires', 6314: 'fiber', 6315: 'n.c', 6316: 'scrutiny', 6317: 'judgments', 6318: 'lawmakers', 6319: 'reportedly', 6320: 'corrigan', 6321: 'obligations', 6322: 'advanced', 6323: 'wear', 6324: 'market-share', 6325: 'indicated', 6326: 'types', 6327: 'scrapped', 6328: 'models', 6329: 'can', 6330: 'wish', 6331: 'funny', 6332: 'continue', 6333: 'cbs', 6334: 'n.c.', 6335: 'circumstances', 6336: 'publicized', 6337: 'nearly-30', 6338: 'compete', 6339: 'expected', 6340: 'fact', 6341: 'viacom', 6342: 'britain', 6343: 'lady', 6344: '55-year-old', 6345: 'chopped', 6346: 'art', 6347: 'approved', 6348: 'model', 6349: 'reported', 6350: 'tax', 6351: 'initialing', 6352: 'pistols', 6353: 'breakdown', 6354: 'flap', 6355: 'access', 6356: 'scores', 6357: 'invest', 6358: 'ties', 6359: '251.2', 6360: 'stressing', 6361: 'recently', 6362: 'die', 6363: 'started', 6364: 'providence', 6365: 'documents', 6366: 'fiscal', 6367: 'courts', 6368: 'fetal-tissue', 6369: 'exceed', 6370: 'unfathomable', 6371: 'sweat', 6372: 'gulf', 6373: 'novel', 6374: 'consists', 6375: 'beautiful', 6376: 'hobbyists', 6377: 'students', 6378: 'hurting', 6379: 'group', 6380: '1.82', 6381: 'easing', 6382: 'claims', 6383: 'hottest', 6384: 'ala', 6385: 'including', 6386: 'two', 6387: 'consent', 6388: 'fulbright', 6389: 'product-design', 6390: 'prying', 6391: 'considerably', 6392: 'skirmishes', 6393: 'teachers', 6394: '22', 6395: 'efficiencies', 6396: 'ddb', 6397: 'internal', 6398: 'good-natured', 6399: 'life-insurance', 6400: '42', 6401: 'carry', 6402: 'gentle', 6403: 'consented', 6404: 'cab', 6405: 'latour', 6406: 'before', 6407: 'strong-willed', 6408: 'undiplomatic', 6409: 'humans', 6410: 'success', 6411: 'scrape', 6412: 'ii', 6413: 'london', 6414: 'knowledge', 6415: 'end', 6416: 'scared', 6417: 'tourism', 6418: 'jugglers', 6419: 'reward', 6420: 'governor', 6421: 'signet', 6422: 'original', 6423: 'smallest', 6424: 'know', 6425: 'court-ordered', 6426: 'member', 6427: 'right', 6428: 'floyd', 6429: 'battery-operated', 6430: '45.3', 6431: 'declines', 6432: '320', 6433: 'bidding', 6434: 'retain', 6435: 'continually', 6436: 'wtd', 6437: 'strike', 6438: 'calder', 6439: 'silent', 6440: 'contingent', 6441: 'acquire', 6442: '7.5', 6443: 'truce', 6444: 'stalemate', 6445: 'alurralde', 6446: 'anti-china', 6447: 'style', 6448: 'notably', 6449: 'aspersions', 6450: 'regulation', 6451: 'serious', 6452: 'five', 6453: 'leo', 6454: 'trouble', 6455: 'deborah', 6456: 'accountants', 6457: 'annoyed', 6458: 'structurally', 6459: '50.38', 6460: 'oilman', 6461: 'bundling', 6462: 'replacing', 6463: 'nederlanden', 6464: 'says', 6465: '@', 6466: 'mayer', 6467: '321,000', 6468: 'smiles', 6469: 'contacted', 6470: 'at', 6471: 'happy', 6472: 'painting', 6473: 'approaches', 6474: 'god', 6475: 'faulding', 6476: 'reject', 6477: 'asada', 6478: 'classical', 6479: 'red-flag', 6480: 'mania', 6481: 'unlike', 6482: 'similarity', 6483: 'ending', 6484: 'cabernets', 6485: 'fremantle', 6486: 'motion', 6487: 'small', 6488: 'expunged', 6489: 'sub-segments', 6490: 'begins', 6491: 'j.', 6492: 'bronze', 6493: 'dec.', 6494: 'article', 6495: 'washington', 6496: 'dresser', 6497: 'not', 6498: 'francis', 6499: 'alliance', 6500: 'omitted', 6501: 'indicator', 6502: 'pty.', 6503: 'section', 6504: 'ferc', 6505: 'traveling', 6506: 'revising', 6507: 'intervention', 6508: 'sale', 6509: 'fang', 6510: 'reasserts', 6511: 'top', 6512: 'agrees', 6513: 'alvin', 6514: 'presidential', 6515: 'du', 6516: 'empty', 6517: 'researching', 6518: '230-215', 6519: 'three', 6520: 'sir', 6521: 'began', 6522: 'conforms', 6523: 'ships', 6524: 'cover', 6525: '1997', 6526: 'ten', 6527: 'attacks', 6528: 'appointment', 6529: 'him', 6530: 'symptoms', 6531: 'champagne', 6532: 'offered', 6533: '0.7', 6534: 'youthful', 6535: 'caretaker', 6536: '9.37', 6537: 'wary', 6538: 'marion', 6539: 'residential', 6540: 'voice', 6541: 'davis', 6542: 'mired', 6543: '30,000', 6544: 'speaking', 6545: 'acknowledge', 6546: 'high-priced', 6547: 'newer', 6548: '19.3', 6549: 'clara', 6550: 'effects', 6551: 'wants', 6552: 'chalk', 6553: 'gaja', 6554: 'shearson', 6555: 'papers', 6556: 'dom', 6557: 'non-religious', 6558: 'seller', 6559: 'akio', 6560: 'taken', 6561: 'lesson', 6562: '15', 6563: 'once', 6564: 'graham', 6565: 'r.p.', 6566: 'cheating', 6567: 'reservations', 6568: 'daily', 6569: 'interviews', 6570: 'public', 6571: 'modifications', 6572: 'bilateral', 6573: 'unproductive', 6574: 'loan', 6575: 'goes', 6576: 'advancing', 6577: 'collapsed', 6578: 'mich.', 6579: 'polystyrene', 6580: 'a.', 6581: 'introducing', 6582: 'rising', 6583: 'sweetened', 6584: 'interbank', 6585: '1637', 6586: 'hands', 6587: 'lasalle', 6588: '1972', 6589: 'start', 6590: 'shrinks', 6591: 'direct', 6592: 'ingersoll-rand', 6593: 't.', 6594: 'queers', 6595: 'california', 6596: 'dominance', 6597: 'create', 6598: 'bonuses', 6599: 'trying', 6600: 'transportation', 6601: 'garage', 6602: 'spot', 6603: 'talk', 6604: 'front', 6605: 'arms', 6606: 'extension', 6607: 'companies', 6608: 'merit', 6609: 'conditional', 6610: 'bancorp', 6611: '1987-88', 6612: 'indulging', 6613: 'tissues', 6614: 'enabling', 6615: '20,000', 6616: 'concern', 6617: 'open', 6618: 'simon', 6619: 'wo', 6620: 'why', 6621: 'states', 6622: 'devised', 6623: 'rhone', 6624: 'genie', 6625: 'regulated', 6626: 'lewis', 6627: 'examination', 6628: 'leaves', 6629: 'dompierre', 6630: 'what', 6631: '0.4', 6632: 'financed', 6633: 'studying', 6634: 'la.', 6635: 'flood', 6636: 'warrant', 6637: 'arguments', 6638: 'trap', 6639: 'banquet', 6640: 'capitol', 6641: 'swim', 6642: 'consist', 6643: '382-37', 6644: 'mixed', 6645: 'arbitrage', 6646: 'parishes', 6647: '3.18', 6648: 'alone', 6649: 'condemning', 6650: 'samuel', 6651: 'marks', 6652: 'ian', 6653: 'sets', 6654: 'raul', 6655: 'events', 6656: 'carillons', 6657: 'imaginative', 6658: 'odd-sounding', 6659: '121.6', 6660: 'visiting', 6661: 'nickel', 6662: 'six-month', 6663: 'initial', 6664: 'receive', 6665: '228', 6666: 'whipsaw', 6667: 'amended', 6668: '2,303,328', 6669: 'fared', 6670: 'substantial', 6671: 'hydraulically', 6672: 'woodcliff', 6673: 'intoxication', 6674: 'post', 6675: 'bureau', 6676: 'theological', 6677: 'device', 6678: '150', 6679: 'giraud', 6680: 'calculate', 6681: 'warner', 6682: 'refunded', 6683: 'green', 6684: 'drivers', 6685: 'ability', 6686: 'used', 6687: 'drive', 6688: 'defense', 6689: 'babcock', 6690: 'policy', 6691: 'lack', 6692: 'showed', 6693: 'yen-support', 6694: 'coincidental', 6695: 'macdonald', 6696: 'troop', 6697: 'in', 6698: '72', 6699: '95,142', 6700: 'phipps', 6701: '3057', 6702: 'northeast', 6703: 'during', 6704: '28.6', 6705: \"'50s\", 6706: 'expire', 6707: 'energetic', 6708: 'collection', 6709: 'broad', 6710: 'possibility', 6711: 'effort', 6712: 'donoghue', 6713: 'fined', 6714: 'duchossois', 6715: '25', 6716: 'steelmaker', 6717: 'skip', 6718: 'loans', 6719: 'nilson', 6720: 'captivating', 6721: 'disappointment', 6722: 'counting', 6723: 'lower', 6724: 'campaign', 6725: 'resources', 6726: 'currency', 6727: 'wednesday', 6728: 'referendum', 6729: 'if', 6730: 'negotiator', 6731: '1.1', 6732: 'gift', 6733: 'increasingly', 6734: 'vermont', 6735: 'floating-rate', 6736: 'alternative', 6737: 'abbot', 6738: 'copies', 6739: 'history', 6740: 'townes', 6741: 'rates', 6742: 'glendale', 6743: 'reductions', 6744: 'itoh', 6745: 'via', 6746: 'inc', 6747: 'journalistic', 6748: 'methods', 6749: 'peal', 6750: 'fret', 6751: 'ilminster', 6752: '445', 6753: 'derek', 6754: 'barbara', 6755: 'stance', 6756: 'year-to-year', 6757: 'settle', 6758: 'passing', 6759: 'old-house', 6760: 'kodansha', 6761: 'petroleum', 6762: 'edward', 6763: 'mainly', 6764: 'almost', 6765: 'seasonally', 6766: 'hostile', 6767: 'panel', 6768: 'keeping', 6769: 'generally', 6770: 'borrowed', 6771: 'behavior', 6772: 'teacher', 6773: 'afternoon', 6774: 'kill', 6775: '38.375', 6776: '32.8', 6777: 'canepa', 6778: 'admitting', 6779: 'gerald', 6780: 'river', 6781: 'insurance', 6782: 'contributors', 6783: 'michaels', 6784: '295', 6785: 'additions', 6786: 'sign', 6787: 'services', 6788: 'two-thirds', 6789: 'sudden', 6790: 'reserves', 6791: 'milne', 6792: 'boesel', 6793: '30-year', 6794: 'tire', 6795: 'betrayer', 6796: 'michael', 6797: 'pose', 6798: 'harm', 6799: 'critics', 6800: 'solihull', 6801: 'issues', 6802: 'prefectural', 6803: 'waterworks', 6804: 'develop', 6805: 'jersey-based', 6806: 'ringer', 6807: 'strongly', 6808: 'alleghany', 6809: 'offers', 6810: 'asbestosis', 6811: 'won', 6812: 'pages', 6813: '1961', 6814: 'transporting', 6815: 'expansion', 6816: 'fans', 6817: 'negatives', 6818: 'bad', 6819: 'ensrud', 6820: 'assertions', 6821: 'imperative', 6822: 'useful', 6823: 'bless', 6824: 'decorated', 6825: 'figures', 6826: 'lost', 6827: 'outsiders', 6828: 'w.r.', 6829: 'presence', 6830: 'pie', 6831: 'stone', 6832: 'pulls', 6833: 'forecast', 6834: 'exceptionally', 6835: 'responding', 6836: 'arguing', 6837: 'st.', 6838: 'angels', 6839: '13,056', 6840: 'reader', 6841: 'revived', 6842: 'danville', 6843: 'loews', 6844: 'stag', 6845: 'employers', 6846: 'estimated', 6847: 'bureaucratic', 6848: 'doctorate', 6849: 'gary', 6850: 'rarefied', 6851: '0.9', 6852: 'derivatives', 6853: 'friends', 6854: 'crew', 6855: 'drag-down', 6856: 'designer', 6857: 'techniques', 6858: 'five-year', 6859: 'ltd', 6860: 'supply', 6861: 'slower', 6862: 'closely', 6863: 'installed', 6864: 'chiefly', 6865: 'citizens', 6866: '26,000', 6867: 'want', 6868: 'specialists', 6869: 'authors', 6870: 'intermediate', 6871: 'ordered', 6872: 'try', 6873: 'activity', 6874: 'surprising', 6875: 'welcomed', 6876: 'thin-lipped', 6877: 'hayes', 6878: 'reaction', 6879: 'commodities', 6880: 'millions', 6881: 'corestates', 6882: 'chase', 6883: 'staggering', 6884: 'party', 6885: 'discouraging', 6886: 'intricate', 6887: 'texas', 6888: 'screen', 6889: 'mere', 6890: 'appears', 6891: 'enter', 6892: 'photographs', 6893: 'john', 6894: 'manages', 6895: 'florio', 6896: 'costs', 6897: 'receiving', 6898: 'members', 6899: 'cannell', 6900: 'lungs', 6901: 'koito', 6902: 'dismissal', 6903: 'cabinet', 6904: 'ancillary', 6905: 'self-esteem', 6906: 'concentrating', 6907: 'way', 6908: 'action', 6909: 'marshall', 6910: '#', 6911: 'gangs', 6912: 'slashing', 6913: 'usual', 6914: 'fujitsu', 6915: 'intertitles', 6916: 'yale', 6917: 'normal', 6918: 'ranks', 6919: 'proposal', 6920: 'features', 6921: 'get-out-the-vote', 6922: '2', 6923: 'inside', 6924: 'entangled', 6925: 'schedule', 6926: 'imsai', 6927: 'retaliation', 6928: 'commercial', 6929: 'smokers', 6930: 'declaration', 6931: 'bargain', 6932: 'understatement', 6933: 'nervous', 6934: 'counter', 6935: 'signaling', 6936: 'edge', 6937: 'skittishness', 6938: 'june', 6939: 'repair', 6940: 'allegations', 6941: 'cocky', 6942: 'impressed', 6943: 'takeshi', 6944: 'contemporary', 6945: 'parking', 6946: 'entering', 6947: 'structural', 6948: 'merrick', 6949: 'celebrate', 6950: 'flows', 6951: 'finds', 6952: 'classed', 6953: 'johnson', 6954: 'uncanny', 6955: 'citing', 6956: 'figure', 6957: 'containers', 6958: 'strategic', 6959: 'rounds', 6960: 'inappropriate', 6961: 'describe', 6962: 'homes', 6963: 'predictable', 6964: 'platt', 6965: 'rexinger', 6966: 'harass', 6967: 'eric', 6968: 'targeting', 6969: 'affiliate', 6970: 'overlap', 6971: 'weighing', 6972: 'passages', 6973: 'erasures', 6974: 'traitor', 6975: 'reduction', 6976: 'quick', 6977: 'fargo', 6978: 'show', 6979: 'another', 6980: 'ricken', 6981: 'temple', 6982: 'mail', 6983: 'rapists', 6984: 'entire', 6985: 'embarrassing', 6986: 'factor', 6987: 'dilemma', 6988: 'fees', 6989: 'chance', 6990: 'peripheral', 6991: 'plastic', 6992: 'genuine', 6993: 'video', 6994: 'walt', 6995: 'normally', 6996: 'divest', 6997: 'course', 6998: 'modestly', 6999: '19', 7000: 'warrants', 7001: 'dessert', 7002: 'pointed', 7003: 'h.n.', 7004: 'maughan', 7005: 'brown', 7006: 'night', 7007: '339', 7008: 'implant', 7009: 'high-quality', 7010: 'will', 7011: 'david', 7012: 'shapiro', 7013: 'bell-ringer', 7014: 'fellowship', 7015: 'labor-intensive', 7016: 'default', 7017: 'spitler', 7018: 'skyrocketed', 7019: 'financially', 7020: 'three-year', 7021: 'currently', 7022: 'vose', 7023: 'owns', 7024: 'terminated', 7025: 'energy', 7026: 'specializing', 7027: 'pennview', 7028: 'unproven', 7029: 'suffer', 7030: 'lessening', 7031: 'vinyl', 7032: 'ratings', 7033: 'mechanisms', 7034: 'aides', 7035: 'execs', 7036: 'controls', 7037: 'mid-october', 7038: 'least', 7039: 'beneficiaries', 7040: 'implication', 7041: 'bowes', 7042: 'dialogue', 7043: 'dumpster', 7044: 'national', 7045: 'worksheets', 7046: 'exceedingly', 7047: 'enraged', 7048: 'stephen', 7049: 'disease', 7050: 'meetings', 7051: 'completion', 7052: 'wings', 7053: 'punishing', 7054: 'measurement', 7055: 'frozen', 7056: 'increasing', 7057: 'matter', 7058: '12', 7059: 'scheduled', 7060: '16,000', 7061: '2,500', 7062: 'wafers', 7063: 'prior', 7064: 'projector', 7065: 'vans', 7066: 'tied', 7067: 'weisfield', 7068: 'terrence', 7069: 'marder', 7070: 'academic', 7071: 'led', 7072: 'added', 7073: 'crashes', 7074: 'fee', 7075: 'matching', 7076: 'denies', 7077: 'siti', 7078: 'retires', 7079: 'downright', 7080: 'differential', 7081: 'position', 7082: 'diversification', 7083: 'century', 7084: 'butterfly', 7085: 'fibers', 7086: 'positioned', 7087: '450', 7088: 'agency', 7089: 'controversy', 7090: 'rita', 7091: 'demonstrating', 7092: 'incorporated', 7093: '89,500', 7094: 'church', 7095: 'after', 7096: 'got', 7097: 'marina', 7098: 'factories', 7099: 'hot', 7100: 'allowed', 7101: 'one-yen', 7102: 'cigna', 7103: 'indicators', 7104: 'here', 7105: 'kidney', 7106: 'exposures', 7107: 'evaporated', 7108: 'issued', 7109: 'brain', 7110: 'cautiously', 7111: 'warehousing', 7112: 'soldiers', 7113: 'happens', 7114: 'president', 7115: 'school-research', 7116: 'organized', 7117: 'neal', 7118: 'provided', 7119: 'one', 7120: 'recalls', 7121: 'wakui', 7122: 'obsession', 7123: 'tests', 7124: 'appealing', 7125: 'rusty', 7126: 'exact', 7127: '58-year-old', 7128: 'contract', 7129: 'rescheduled', 7130: 'north', 7131: 'gaining', 7132: '47.5', 7133: '1985', 7134: 'bretz', 7135: 'costly', 7136: 'pressing', 7137: 'their', 7138: 'sparked', 7139: 'thinks', 7140: 'worship', 7141: 'g.', 7142: 'she', 7143: 'voted', 7144: 'barking', 7145: 'schoolboys', 7146: 'split', 7147: 'license', 7148: 'leigh', 7149: 'renovated', 7150: 'genes', 7151: 'nondurable', 7152: '50,000', 7153: 'dissolves', 7154: 'smoking', 7155: 'feet', 7156: 'illegal', 7157: 'pramual', 7158: 'which', 7159: 'guigal', 7160: '250', 7161: 'responded', 7162: 'survive', 7163: 'booked', 7164: 'checkbook', 7165: 'federation', 7166: 'wilton', 7167: 'bias', 7168: 'presidents', 7169: 'modems', 7170: 'fretted', 7171: '1.39', 7172: 'chafic', 7173: 'environmental', 7174: 'inquiry', 7175: 'oliver', 7176: 'forgotten', 7177: 'fastest', 7178: 'demonstrations', 7179: 'content', 7180: 'merc', 7181: 'closed', 7182: 'lights', 7183: '4,393,237', 7184: 'comments', 7185: 'prominently', 7186: 'pegged', 7187: 'queuing', 7188: 'care', 7189: 'mather', 7190: 'net', 7191: 'corners', 7192: 'relationship', 7193: 'sides', 7194: 'reddington', 7195: 'officers', 7196: 'application', 7197: 'longstanding', 7198: 'close', 7199: 'ovation', 7200: 'stirlen', 7201: 'moving', 7202: 'frankly', 7203: 'day', 7204: 'meets', 7205: 'lorillard', 7206: 'studied', 7207: 'indefinitely', 7208: 'denver', 7209: 'eclectic', 7210: 'months', 7211: 'craze', 7212: 'steelworkers', 7213: 'partly', 7214: 'opposes', 7215: 'morning', 7216: 'host', 7217: 'demanding', 7218: 'italian', 7219: 'charm', 7220: 'ratepayers', 7221: 'baby', 7222: '1976', 7223: 'guaranteed', 7224: 'looming', 7225: 'voting', 7226: 'los', 7227: 'prayer', 7228: 'dormitory', 7229: '51-year-old', 7230: 'weakening', 7231: 'add', 7232: 'harsh', 7233: 'mudslinging', 7234: '16,072', 7235: 'responses', 7236: 'visitors', 7237: 'inventiveness', 7238: '1901', 7239: 'securities', 7240: 'creditor', 7241: 'global', 7242: 'up', 7243: 'holds', 7244: 'provides', 7245: 'recognizing', 7246: 'been', 7247: 'collective-bargaining', 7248: 'hurt', 7249: 'subskill', 7250: 'cash-flow', 7251: 'donor', 7252: 'inflated', 7253: 'giant', 7254: 'attracting', 7255: 'science', 7256: '18,000', 7257: 'restaurants', 7258: 'lives', 7259: 'posters', 7260: '143.80', 7261: 'tunes', 7262: 'gubernatorial', 7263: 'shugart', 7264: 'antinori', 7265: 'walking', 7266: 'self-regulatory', 7267: 'be', 7268: 'worse', 7269: 'pulling', 7270: 'telephone', 7271: 'cotton', 7272: '138', 7273: 'result', 7274: '3.253', 7275: 'decline', 7276: 'advance', 7277: 'ridgefield', 7278: 'premiums', 7279: 'totaling', 7280: 'reflected', 7281: 'k.', 7282: 'desultory', 7283: 'zealand', 7284: 'therefore', 7285: 'posing', 7286: 'improper', 7287: 'stewart', 7288: 'ai', 7289: 'east', 7290: 'dummies', 7291: '4.8', 7292: 'opinions', 7293: 'respite', 7294: 'argentina', 7295: 'change', 7296: 'fund', 7297: 'hundreds', 7298: 'year', 7299: 'apparently', 7300: 'whose', 7301: 'bush', 7302: 'nipponese', 7303: 'loyal', 7304: 'sasaki', 7305: 'lap-shoulder', 7306: 'seattle', 7307: 'goldinger', 7308: 'needy', 7309: 'chaotic', 7310: 'cause', 7311: 'tailored', 7312: 'world-wide', 7313: 'entrepreneur', 7314: 'support', 7315: 'orrick', 7316: 'economies', 7317: 'c.j.b.', 7318: 'coche-dury', 7319: 'ratners', 7320: '47', 7321: 'parlors', 7322: 'shaded', 7323: 'camille', 7324: 'centerbank', 7325: 'leave', 7326: 'del.', 7327: 'lifted', 7328: 'protecting', 7329: 'ringers', 7330: 'joseph', 7331: '45,000', 7332: 'guests', 7333: 'charges', 7334: 'allocated', 7335: 'congregation', 7336: 'faces', 7337: 'reinstatement', 7338: 'spread', 7339: 'respect', 7340: 'worst', 7341: 'paribas', 7342: 'protection', 7343: 'jim', 7344: 'hudnut', 7345: '10th', 7346: 'paltry', 7347: '71', 7348: 'automatic', 7349: '109.73', 7350: 'watanabe', 7351: 'mifflin', 7352: 'untrained', 7353: 'parliament', 7354: 'wrongdoing', 7355: 'retardation', 7356: 'sol', 7357: 'fewer', 7358: 'identity-management', 7359: 'hole', 7360: 'today', 7361: 'l.p.', 7362: 'reps', 7363: 'pressured', 7364: 'specifics', 7365: 'annually', 7366: 'lieutenant', 7367: 'development', 7368: 'march', 7369: 'repaid', 7370: 'practicing', 7371: 'doak', 7372: 'parties', 7373: 'causing', 7374: 'privacy', 7375: 'latin', 7376: 'version', 7377: 'about', 7378: 'sluggish', 7379: 'corridors', 7380: 'keeps', 7381: 'chandler', 7382: 'paul', 7383: 'replace', 7384: 'santa', 7385: 'address', 7386: 'entrance', 7387: 'company', 7388: 'performance', 7389: 'accepted', 7390: 'blocked', 7391: 'trudeau', 7392: 'suggest', 7393: 'decided', 7394: 'federal', 7395: 'use', 7396: 'trials', 7397: 'lauded', 7398: 'neighbors', 7399: 'touted', 7400: 'row', 7401: 'm.', 7402: 'particularly', 7403: 'mating', 7404: 'demise', 7405: 'beneficial', 7406: '132', 7407: 'designations', 7408: 'affect', 7409: 'creams', 7410: '2.46', 7411: 'fundamental', 7412: 'nutrition', 7413: '6,500', 7414: 'labor-management', 7415: 'gut-wrenching', 7416: 'subscribe', 7417: 'accommodations', 7418: 'uncompensated', 7419: 'appropriation', 7420: 'protocols', 7421: 'temperature', 7422: 'follow-up', 7423: 'vanderbilt', 7424: 'vacant', 7425: '14.99', 7426: 'aesthetic', 7427: 'price-depressing', 7428: 'surrounding', 7429: 'skill', 7430: '220', 7431: 'egyptian', 7432: 'echoed', 7433: 'dominant', 7434: 'mentally', 7435: 'powerhouse', 7436: 'conceding', 7437: '18.3', 7438: 'capability', 7439: 'estimate', 7440: 'unitary', 7441: 'millionaires', 7442: '128', 7443: 'searching', 7444: '8.25', 7445: 'teikoku', 7446: 'prevents', 7447: '778', 7448: 'restored', 7449: 'bringing', 7450: 'efficiency', 7451: '53-year-old', 7452: 'pitting', 7453: 'execution', 7454: 'livestock', 7455: 'crying', 7456: '7.55', 7457: 'digs', 7458: 'eclipse', 7459: 'lonski', 7460: 'avoiding', 7461: 'decorator', 7462: 'unsettling', 7463: 'refuse', 7464: 'fundamentally', 7465: 'noble', 7466: 'takeover-stock', 7467: 'shopping', 7468: 'sad', 7469: 'paint', 7470: 'pharaoh', 7471: 'recovery', 7472: '8.64', 7473: 'companion', 7474: '119', 7475: '148.9', 7476: 'facilitate', 7477: 'causes', 7478: 'thousand', 7479: 'wis.', 7480: 'u.s.a', 7481: 'guide', 7482: 'inmates', 7483: 'portray', 7484: '4.875', 7485: '274', 7486: 'overstated', 7487: 'quietly', 7488: 'examine', 7489: 'bucking', 7490: 'emissions', 7491: 'ballantine\\\\/del', 7492: 'carriers', 7493: 'struggling', 7494: '271-147', 7495: 'hawaii', 7496: 'tapping', 7497: 'arraignments', 7498: 'ftc', 7499: 'hammerschmidt', 7500: 'predict', 7501: 'championing', 7502: '7.15', 7503: 'lotter', 7504: 'inspection', 7505: 'assure', 7506: 'floors', 7507: 'regulations', 7508: 'unsuccessful', 7509: 'masters', 7510: 'enjoy', 7511: 'bunches', 7512: 'gasoline', 7513: 'justices', 7514: 'perform', 7515: 'brand', 7516: 'odd-year', 7517: 'similarly', 7518: 'lobbies', 7519: 'arbs', 7520: 'unveil', 7521: 'unlabeled', 7522: 'gamut', 7523: 'pennies', 7524: '352.9', 7525: 'proven', 7526: 'teaches', 7527: 'chilled', 7528: 'financier', 7529: '5.3', 7530: 'prof.', 7531: 'indication', 7532: '57', 7533: 'libor', 7534: 'showa', 7535: 'orlando', 7536: 'marketed', 7537: 'alcohol', 7538: '16.9', 7539: 'non-farm', 7540: 'insurance-company', 7541: 'fixed-income', 7542: 'wield', 7543: 'geneva', 7544: 'downgrading', 7545: 'a.l.', 7546: 'freud', 7547: 'taurus', 7548: 'midland', 7549: '397', 7550: 'reprint', 7551: 'collapse', 7552: 'corrected', 7553: 'car-care', 7554: 'ginnie', 7555: 'revised', 7556: 'clouding', 7557: 'sneaked', 7558: 'cycle', 7559: 'examinations', 7560: 'recall', 7561: 'bellows', 7562: 'potables', 7563: 'implemented', 7564: 'moines', 7565: 'middle-ground', 7566: 'labor-backed', 7567: 'vow', 7568: 'cap', 7569: 'baum', 7570: 'high-speed', 7571: '89', 7572: 'dismiss', 7573: 'cataracts', 7574: 'daughters', 7575: 'dsm', 7576: '1.7', 7577: 'workplace', 7578: 'pence', 7579: 'three-month', 7580: 'index-fund', 7581: 'convention', 7582: 'cleared', 7583: 'preference', 7584: 'subjecting', 7585: 'oak', 7586: 'properly', 7587: 'r.d.', 7588: 'obligation', 7589: 'quant', 7590: 'destroy', 7591: 'looked', 7592: 'proved', 7593: '103', 7594: 'unanimous', 7595: '244,000', 7596: 'citadel', 7597: 'amendment', 7598: 'contesting', 7599: 'indexing', 7600: 'slippery', 7601: 'motor-home', 7602: '6.84', 7603: 'spite', 7604: 'market-makers', 7605: 'administer', 7606: 'boosters', 7607: 'duty', 7608: 'seize', 7609: '8.07', 7610: 'tote', 7611: 'blender', 7612: 'lens', 7613: 'franc', 7614: 'handed', 7615: 'pre-existing', 7616: 'money-losing', 7617: 'swings', 7618: 'popularly', 7619: 'spackle', 7620: 'issuers', 7621: 'accountant', 7622: 'grapple', 7623: 'mix', 7624: 'morrison', 7625: 'margin', 7626: 'scripts', 7627: 'mortgages', 7628: 'francisco-based', 7629: '18.6', 7630: '1.92', 7631: 'lazzaroni', 7632: 'circulated', 7633: '1940s', 7634: 'winners', 7635: 'odyssey', 7636: 'caribbean', 7637: 'longer-term', 7638: 'substance-abusing', 7639: '190-point', 7640: 'christie', 7641: 'unneeded', 7642: 'deserving', 7643: '11.10', 7644: 'pockets', 7645: 'cavernous', 7646: 'impaired', 7647: 'radio-station', 7648: 'schweiz', 7649: 'do-it-yourself', 7650: 'engage', 7651: 'reeling', 7652: 'statutory', 7653: 'deviation', 7654: 'heirs', 7655: 'traficant', 7656: 'hazards', 7657: 'motive', 7658: 'bank-backed', 7659: 'wellcome', 7660: 'faith', 7661: 'moon', 7662: 'manipulators', 7663: 'complexes', 7664: 'irvine', 7665: '1973-75', 7666: 'sticking', 7667: 'monopolies', 7668: 'definitely', 7669: 'serial', 7670: 'basket', 7671: 'complex', 7672: 'widget', 7673: '1,400', 7674: 'lousy', 7675: 'predispose', 7676: 'berman', 7677: 'zero', 7678: 'flux', 7679: 'introduces', 7680: 'lacks', 7681: 'emotional', 7682: 'cincinnati', 7683: 'b.a.t', 7684: 'multiplying', 7685: 'therapy', 7686: 'hurricane', 7687: 'dismal', 7688: 'bargains', 7689: 'destinations', 7690: 'executes', 7691: 'momentary', 7692: 'carrier', 7693: 'assembly-line', 7694: 'sable', 7695: '451', 7696: 'gilt', 7697: 'bennett', 7698: '282', 7699: 'incapable', 7700: 'golden', 7701: 'jockeys', 7702: 'walbrecher', 7703: '7.79', 7704: 'city-owned', 7705: 'bund', 7706: 'despise', 7707: 'doctor', 7708: 'establish', 7709: 'downgrade', 7710: 'defendants', 7711: 'cow', 7712: 'criteria', 7713: 'alfred', 7714: '14\\\\/32', 7715: 'skepticism', 7716: 'blue-collar', 7717: 'conservative', 7718: 'thunder', 7719: 'ordinary', 7720: '23.4', 7721: 'fiber-optic', 7722: 'stresses', 7723: 'chest', 7724: 'soybeans', 7725: 'tokyu', 7726: 'wasted', 7727: 'holiday', 7728: 'plains', 7729: 'relief', 7730: 'proscribes', 7731: 'stacking', 7732: 'capital-markets', 7733: 'primerica', 7734: 'sulfur-dioxide', 7735: 'defazio', 7736: '666', 7737: 'feasible', 7738: 'untrue', 7739: 'shell', 7740: 'reallocated', 7741: 'eggers', 7742: 'sacrifice', 7743: 'casino', 7744: 'superconductor', 7745: 'awareness', 7746: 'credit-rating', 7747: 'salt', 7748: 'penchant', 7749: 'natural', 7750: '7\\\\/16', 7751: 'moneymakers', 7752: 'magleby', 7753: 'norwalk', 7754: 'conducted', 7755: 'balkanized', 7756: 'overcome', 7757: '16.05', 7758: 'offsetting', 7759: 'hunker', 7760: 'parts-engineering', 7761: '672', 7762: 'curses', 7763: 'notified', 7764: 'consequence', 7765: 'scaring', 7766: 'rey\\\\/fawcett', 7767: 'marvin', 7768: 'mccabe', 7769: 'fast-growing', 7770: 'reversal', 7771: 'single-lot', 7772: '3.42', 7773: 'rare', 7774: 'ceo', 7775: 'pillow', 7776: 'arbitragers', 7777: 'round-trip', 7778: '2,410', 7779: 'fulton', 7780: 'immune', 7781: 'clearance', 7782: 'allocation', 7783: '130.6', 7784: 'sue', 7785: 'tooth', 7786: 'cost-sharing', 7787: 'advocated', 7788: 'headed', 7789: 'hutchinson', 7790: 'disposal', 7791: 'appropriators', 7792: '9.82', 7793: 'cells', 7794: 'denounce', 7795: 'completing', 7796: 'somehow', 7797: 'morass', 7798: 'stock-specialist', 7799: 'stretched', 7800: 'riskier', 7801: 'driver', 7802: 'nippon', 7803: 'assertion', 7804: 'landrieu', 7805: 'labeling', 7806: 'cs', 7807: 'fourth-quarter', 7808: 'prerogative', 7809: 'alcoholics', 7810: 'centerpiece', 7811: '909', 7812: 'instrument', 7813: 'diverse', 7814: 'springfield', 7815: 'accountability', 7816: 'spurned', 7817: 'sweeten', 7818: 'carnegie-mellon', 7819: 'cautious', 7820: '8.60', 7821: 'loses', 7822: 'hymowitz', 7823: 'reclaim', 7824: 'fischer', 7825: 'minicrash', 7826: 'tubular', 7827: 'si', 7828: 'sink', 7829: 'guy', 7830: 'resulted', 7831: 'clippings', 7832: 'portions', 7833: 'saved', 7834: 'barometer', 7835: 'convince', 7836: '300-113', 7837: 'diceon', 7838: 'compilation', 7839: 'beleaguered', 7840: 'feline', 7841: 'barth', 7842: \"o'loughlin\", 7843: 'kinds', 7844: 'joni', 7845: 'erodes', 7846: '21-month', 7847: 'disarray', 7848: 'fastest-growing', 7849: 'bombarding', 7850: 'ious', 7851: 'friction', 7852: 'nullified', 7853: 'corkscrews', 7854: 'bowman', 7855: 'double-c', 7856: 'enable', 7857: 'arranged', 7858: 'veto', 7859: 'mercury', 7860: 'sigmund', 7861: 'unload', 7862: 'mutual-fund', 7863: 'knell', 7864: 'orchestrated', 7865: 'pharaohs', 7866: 'african', 7867: 'most-likely-successor', 7868: 'abridging', 7869: 'camilli', 7870: 'mortgaged', 7871: 'nameplate', 7872: 'much-larger', 7873: 'cost-benefit', 7874: '343', 7875: 'possess', 7876: 'leery', 7877: 'collins', 7878: 'blindfold', 7879: 'determining', 7880: 'z.', 7881: 'razor-thin', 7882: 'ballpark', 7883: 'examined', 7884: '2160.1', 7885: 'locations', 7886: 'tens', 7887: 'pools', 7888: 'councils', 7889: 'consistently', 7890: 'dailies', 7891: 'spilling', 7892: 'coliseum', 7893: 'commissions', 7894: 'dot', 7895: '7.45', 7896: '420', 7897: 'chatter', 7898: 'analysis', 7899: '57.7', 7900: 'milan', 7901: 'jenkins', 7902: 'underwood', 7903: 'desires', 7904: 'slab', 7905: 'phillip', 7906: 'staunchly', 7907: 'escape', 7908: 'disconnect', 7909: 'uttering', 7910: 'gorbachev', 7911: 'acid-rain', 7912: 'super-absorbent', 7913: 'goldsmith', 7914: 'quantitive', 7915: 'letter-writing', 7916: 'fairless', 7917: 'heading', 7918: 'annualized', 7919: 'shivers', 7920: 'divisions', 7921: 'xerox', 7922: 'labeled', 7923: '47.125', 7924: 'censorship', 7925: 'alternatively', 7926: 'composed', 7927: 'despised', 7928: '6\\\\/2', 7929: 'intend', 7930: 'auditor', 7931: 'stimulating', 7932: 'signature', 7933: 'fuels', 7934: 'muzzling', 7935: 'tool', 7936: 'compelling', 7937: 'deprived', 7938: 'knopf', 7939: 'intraday', 7940: '3,040,000', 7941: 'deprivation', 7942: 'charities', 7943: 'huber', 7944: 'supplemental', 7945: '221.4', 7946: 'contribute', 7947: 'counteract', 7948: 'aspect', 7949: 'containing', 7950: '7.40', 7951: 'asserts', 7952: 'dinosaurs', 7953: 'inhibit', 7954: 'liquid-nitrogen', 7955: 'indicating', 7956: '2.9', 7957: 'discrepancies', 7958: 'pills', 7959: 'factoring', 7960: 'neuberger', 7961: 'jihad', 7962: 'corn', 7963: 'characterized', 7964: 'evaluation', 7965: 'excision', 7966: 'stieglitz', 7967: '13.50', 7968: 'nickname', 7969: 'foldability', 7970: 'elephant', 7971: 'wrath', 7972: 'clannish', 7973: 'million-a-year', 7974: 'chassis', 7975: 'torn', 7976: 'accounted', 7977: 'stork', 7978: 'market-oriented', 7979: '1969', 7980: 'discontinued', 7981: 'tutorials', 7982: 'food-industry', 7983: 'kangyo', 7984: 'compromises', 7985: 'clean-up', 7986: 'kindness', 7987: 'qualities', 7988: 'tall', 7989: '23.25', 7990: 'start-up', 7991: 'erroneous', 7992: 'expression', 7993: 'phobias', 7994: 'pound', 7995: 'ec', 7996: 'sugar', 7997: 'tune', 7998: 'billing', 7999: '210,000', 8000: 'farm', 8001: '7.50', 8002: 'brilliantly', 8003: 'schwab', 8004: 'culprit', 8005: 'arbitraging', 8006: 'dakota', 8007: 'democracy', 8008: 'designers', 8009: 'mitchell', 8010: '1903', 8011: 'creature', 8012: 'f', 8013: 'quoting', 8014: 'scream', 8015: 'drew', 8016: 'deliberately', 8017: 'vast', 8018: 'structure', 8019: 'abounding', 8020: 'harmed', 8021: 'nine-month', 8022: 'anytime', 8023: '23,403', 8024: 'silicone', 8025: 'scenic', 8026: '152,000', 8027: 'trimming', 8028: 'lobbyist', 8029: 'petersen', 8030: 'polluters', 8031: 'newsroom', 8032: 'speculative', 8033: 'common-law', 8034: 'crapshoot', 8035: 'redistribute', 8036: 'shed', 8037: 'calculated', 8038: 'safeguarding', 8039: 'scypher', 8040: 'resent', 8041: 'toll', 8042: 'visa', 8043: 'walker', 8044: 'bolivia', 8045: 'disaffiliation', 8046: 'shall', 8047: 'gorman', 8048: 'distant', 8049: 'news-american', 8050: 'dakotas', 8051: 'intrusions', 8052: 'hear', 8053: 'hanifen', 8054: '112.9', 8055: 'absolute', 8056: 'elco', 8057: 'radioactivity', 8058: '1948', 8059: 'favorably', 8060: 'friedrichs', 8061: 'brooks', 8062: 'topix', 8063: 'stiffer', 8064: 'condition', 8065: '1738.1', 8066: 'mikhail', 8067: 'transfers', 8068: 'transformed', 8069: 'boy', 8070: 'wanting', 8071: 'likeness', 8072: 'finite', 8073: 'occupational', 8074: 'taccetta', 8075: '110', 8076: 'skeptical', 8077: 'lambert', 8078: 'unhappy', 8079: 'velcro', 8080: 'predictably', 8081: 'market-based', 8082: 'speeches', 8083: 'flim-flammery', 8084: '7.272', 8085: 'solutions', 8086: 'bundles', 8087: 'striving', 8088: 'spurring', 8089: 'wamre', 8090: 'inviting', 8091: 'roadblock', 8092: 'newhouse', 8093: 'drugs', 8094: 'tickets', 8095: 'spaces', 8096: 'answered', 8097: 'pentagon', 8098: 'droz', 8099: '2017', 8100: 'petersburg', 8101: 'variables', 8102: 'disagreement', 8103: 'refer', 8104: 'cumbersome', 8105: '59-year-old', 8106: 'intermec', 8107: '20s', 8108: 'evoking', 8109: 'practiced', 8110: '1992-1999', 8111: 'melt-textured', 8112: 'fear', 8113: 'connected', 8114: '6.70', 8115: 'tremendous', 8116: 'anecdotal', 8117: 'protective', 8118: 'clearer', 8119: 'brakes', 8120: 'brutal', 8121: 'propose', 8122: 'drafted', 8123: 'variety', 8124: 'expense', 8125: 'clashed', 8126: 'tolerate', 8127: 'biscuit', 8128: 'non-callable', 8129: 'airline', 8130: 'inventor', 8131: 'maximize', 8132: 'disaster', 8133: '26.5', 8134: 'pencil', 8135: 'unconstitutional', 8136: 'solution', 8137: 'thunderbird', 8138: 'deeds', 8139: 'creator', 8140: 'dominated', 8141: 'off-year', 8142: 'expressly', 8143: '1980', 8144: 'pins', 8145: 'halted', 8146: 'cards', 8147: '25-year-old', 8148: 'playgrounds', 8149: 'emphasized', 8150: 'examiner', 8151: 'predicated', 8152: 'accord', 8153: '1995', 8154: 'indexes', 8155: '9\\\\/32', 8156: '7.8', 8157: 'citation', 8158: 'famed', 8159: 'tours', 8160: 'cheapest', 8161: 'softer', 8162: 'directed', 8163: 'operation', 8164: 'vortex', 8165: 'defends', 8166: 'respected', 8167: 'visits', 8168: 'rating', 8169: 'hollis', 8170: '31-year-old', 8171: 'dividing', 8172: '7.60', 8173: 'blue-chip', 8174: 'plaintiffs', 8175: 'mimics', 8176: 'proving', 8177: 'triple-a-rated', 8178: 'dismayed', 8179: 'uncertainties', 8180: 'regal', 8181: 'materialized', 8182: '80.8', 8183: 'quotations', 8184: '6.79', 8185: 'schmidt', 8186: 'lotions', 8187: 'text', 8188: 'equivalents', 8189: '6.40', 8190: 'citations', 8191: 'el', 8192: 'herald-american', 8193: 'merits', 8194: 'confined', 8195: 'senses', 8196: 'ambassadors', 8197: 'enables', 8198: 'duo', 8199: 'witches', 8200: 'beach', 8201: 'promotion', 8202: 'passions', 8203: 'beer', 8204: 'wheat', 8205: 'hugging', 8206: 'robbed', 8207: 'express-buick', 8208: 'managements', 8209: 'technologies', 8210: 'dominates', 8211: '2.42', 8212: 'cartons', 8213: '14.13', 8214: 'injuries', 8215: 'mammoth', 8216: 'computer-assisted', 8217: '107', 8218: 'paycheck', 8219: 'property\\\\/casualty', 8220: '102', 8221: 'linden', 8222: 'patrick', 8223: 'involvement', 8224: 'stay', 8225: 'lookee-loos', 8226: 'nomination', 8227: 'processes', 8228: 'bounce', 8229: 'hugo', 8230: 'synthetic', 8231: 'drought', 8232: 'swallow', 8233: 'm.d.', 8234: 'triple-c', 8235: 'guarantees', 8236: 'register', 8237: 'tentatively', 8238: 'tabloid', 8239: 'staid', 8240: 'install', 8241: 'amsterdam', 8242: 'crystal-lattice', 8243: 'enjoyed', 8244: 'avenues', 8245: '2003\\\\/2007', 8246: 'caustic', 8247: 'separation', 8248: 'airplane', 8249: 'tenure', 8250: 'good-faith', 8251: 'heiwado', 8252: 'clothing', 8253: 'warned', 8254: 'indexers', 8255: '1928-33', 8256: '2141.7', 8257: 'withhold', 8258: 'bendectin', 8259: 'industry-supported', 8260: 'webb', 8261: 'perpetual', 8262: '7.2', 8263: 'soured', 8264: '1991-1999', 8265: 'superdome', 8266: 'co-founded', 8267: 'intimately', 8268: 'inherent', 8269: 'conflict', 8270: 'upscale', 8271: 'bothered', 8272: 'proportion', 8273: 'seed', 8274: 'consequences', 8275: 'sigler', 8276: 'flirted', 8277: '0.05', 8278: 'laboratories', 8279: '150,000', 8280: 'financings', 8281: 'cautioned', 8282: 'semicircular', 8283: 'johns', 8284: 'notable', 8285: 'malnutrition', 8286: 'sprightly', 8287: 'agreed-upon', 8288: 'preserving', 8289: 'interest-rate', 8290: 'promises', 8291: '6.1', 8292: 'occurs', 8293: 'mega-stadium', 8294: 'shortages', 8295: 'impetuous', 8296: 'affecting', 8297: 'hearst', 8298: 'lipsticks', 8299: '19.6', 8300: 'public-relations', 8301: 'psychiatry', 8302: 'objectionable', 8303: 'junk', 8304: 'shudders', 8305: 'unenthusiastic', 8306: 'compassion', 8307: 'waive', 8308: '57.6', 8309: 'borrowings', 8310: 'speculator', 8311: '3.7', 8312: 'rain', 8313: 'iran-contra', 8314: 'scoffs', 8315: 'signifying', 8316: 'redevelopment', 8317: '7.65', 8318: 'collateral', 8319: 'rapport', 8320: 'nine-year', 8321: 'tribune', 8322: 'anti-program', 8323: 'planner', 8324: '30.6', 8325: '34', 8326: 'reacted', 8327: 'subtraction', 8328: 'intentioned', 8329: 'recruiting', 8330: 'car-development', 8331: 'riders', 8332: 'putty', 8333: 'reclaimed', 8334: 'coupon', 8335: 'spreads', 8336: 'fanciful', 8337: 'devouring', 8338: 'drop-in', 8339: 'technically', 8340: 'exacerbated', 8341: 'liabilities', 8342: 'mahoney', 8343: '21.1', 8344: 'journals', 8345: 'overnight', 8346: 'disorders', 8347: 'intriguing', 8348: 'bicameral', 8349: 'briefs', 8350: 'upstate', 8351: 'inherently', 8352: 'racket', 8353: 'mehta', 8354: 'shrinking', 8355: 'chivas', 8356: 'dole', 8357: 'anti-morning-sickness', 8358: 'sidelines', 8359: 'electrical', 8360: 'authorizing', 8361: 'duluth', 8362: 'aktiebolaget', 8363: 'midwesco', 8364: 'ins', 8365: '35500.64', 8366: 'shoring', 8367: 'riese', 8368: 'relaunched', 8369: 'fabian', 8370: 'abandoned', 8371: 'representatives', 8372: 'interior', 8373: 'agenda', 8374: 'backseat', 8375: 'write-downs', 8376: 'tort', 8377: 'constantly', 8378: 'roland', 8379: 'claire', 8380: '750', 8381: 'intraocular', 8382: 'switzerland', 8383: 'immense', 8384: 'broadcasting', 8385: 'outnumbered', 8386: 'fidelity', 8387: 'moments', 8388: 'propagandizes', 8389: 'creates', 8390: 'mind', 8391: \"d'amico\", 8392: 'bellwether', 8393: 'penalty', 8394: '3.43', 8395: 'handles', 8396: 'avid', 8397: 'mobilizing', 8398: 'voluntary', 8399: 'olson', 8400: 'neat', 8401: 'lurie', 8402: 'reliance', 8403: 'anti-drug', 8404: 'prefer', 8405: 'prints', 8406: 'midsized', 8407: 'ultimate', 8408: 'g', 8409: 'breathtaking', 8410: 'celebrity', 8411: 'baim', 8412: 'generalizations', 8413: 'unlikely', 8414: 'ramparts', 8415: 'declaring', 8416: 'endorse', 8417: 'nomura', 8418: 'downgraded', 8419: 'combination', 8420: 'colored', 8421: 'montgomery', 8422: '71,309', 8423: 'mediocre', 8424: 'felonies', 8425: '116.4', 8426: 'succeeded', 8427: 'usurp', 8428: 'creditworthiness', 8429: '830,000', 8430: '6.03', 8431: 'russell', 8432: 'deluge', 8433: 'cost-effective', 8434: 'ballots', 8435: 'alike', 8436: 'weaker', 8437: 'violation', 8438: '16.7', 8439: 'impatient', 8440: 'signore', 8441: '94.8', 8442: 'museums', 8443: 'antitrust', 8444: 'stripped', 8445: 'full-time', 8446: 'participate', 8447: 'headline', 8448: 'darned', 8449: 'whichever', 8450: 'stream', 8451: 'simeon', 8452: 'grain', 8453: 'day-to-day', 8454: 'tires', 8455: 'depository', 8456: '2.7', 8457: 'newest', 8458: 'partnership', 8459: '13.625', 8460: 'taylor', 8461: 'difficulty', 8462: 'luxury', 8463: 'nominate', 8464: 'potentially', 8465: 'sellers', 8466: 'freshbake', 8467: 'defying', 8468: 'appearing', 8469: 'retraced', 8470: 'pushed', 8471: 'profited', 8472: 'break', 8473: 'watchdogs', 8474: 'fielded', 8475: 'resembles', 8476: 'frightened', 8477: '609', 8478: 'quota', 8479: 'alstyne', 8480: 'backers', 8481: 'unsecured', 8482: 'present', 8483: 'constitutional', 8484: 'keith', 8485: 'joel', 8486: 'unemployment', 8487: 'tots', 8488: 'notched', 8489: 'etc.', 8490: \"'30s\", 8491: '12-year', 8492: 'salvador', 8493: 'lynch-mob', 8494: 'cater', 8495: 'allied', 8496: 'conclude', 8497: 'absurdity', 8498: 'muster', 8499: 'households', 8500: 'copying', 8501: 'cambridge', 8502: 'crane-safety', 8503: 'less-than-brilliant', 8504: 'opposite', 8505: 'profitability', 8506: 'investment-grade', 8507: 'ascendency', 8508: 'illegality', 8509: '59.9', 8510: 'covering', 8511: 'harmful', 8512: 'chatsworth', 8513: '27.4', 8514: 'employer', 8515: 'formally', 8516: 'fate', 8517: 'midwestern', 8518: 'simultaneous', 8519: 'consisting', 8520: 'abrupt', 8521: 'lieu', 8522: 'valuable', 8523: 'departments', 8524: 'amass', 8525: 'zurich', 8526: 'rill', 8527: 'initiate', 8528: 'prompts', 8529: 'relies', 8530: 'risk-free', 8531: 'mccormick', 8532: 'travel-related', 8533: 'bowl', 8534: 'successor', 8535: '1996', 8536: 'doctrine', 8537: 'mergers', 8538: 'poverty', 8539: 'coordinator', 8540: '26.8', 8541: 'garret', 8542: 'entrenched', 8543: '45.75', 8544: 's.i.', 8545: 'n.v', 8546: 'ymca', 8547: 'implement', 8548: 'garanti', 8549: 'apples', 8550: 'after-tax', 8551: 'cluff', 8552: 'please', 8553: 'recorder', 8554: 'mistakenly', 8555: 'bureaucracy', 8556: 'spanish', 8557: 'current-carrying', 8558: 'double-a', 8559: 'samples', 8560: 'practitioners', 8561: 'greedy', 8562: 'recyclable', 8563: 'presumes', 8564: '6.7', 8565: 'cataract', 8566: 'spook', 8567: 'wonder', 8568: 'retirement', 8569: 'staffs', 8570: '2.8', 8571: 'theme', 8572: 'crops', 8573: 'retractable', 8574: 'backing', 8575: 'stock-selection', 8576: 'brands', 8577: 'ratcheting', 8578: 'altered', 8579: 'disseminating', 8580: 'follow', 8581: 'powerful', 8582: 'noriega', 8583: 'defending', 8584: 'interactions', 8585: 'marine', 8586: 'ellis', 8587: 'sonny', 8588: 'regime', 8589: 'peninsula', 8590: 'neutrons', 8591: 'dodger', 8592: 'inns', 8593: 'versus', 8594: 'editorially', 8595: 'placement', 8596: 'readership', 8597: 'seasoned', 8598: 'cardiovascular', 8599: 'overriding', 8600: 'recovering', 8601: 'inevitable', 8602: 'empowers', 8603: '605', 8604: 'electrical-safety', 8605: 'advise', 8606: 'cleaner', 8607: 'sparing', 8608: 'sorts', 8609: 'piper', 8610: '1,880', 8611: 'usa', 8612: '300-a-share', 8613: '170,000', 8614: 'sky', 8615: 'porting', 8616: 'contel', 8617: 'framers', 8618: 'yorkers', 8619: 'quantity', 8620: 'farmers', 8621: 'superconductors', 8622: 'protects', 8623: 'cuts', 8624: '1,570', 8625: '113.2', 8626: 'persuasive', 8627: '8.467', 8628: 'soaring', 8629: 'picks', 8630: 'oh', 8631: 'mattress', 8632: 'pilots', 8633: 'happened', 8634: '49.9', 8635: 'hoylake', 8636: 'legislature', 8637: 'sickness', 8638: 'anderson', 8639: '877,663', 8640: '8.30', 8641: '3.8', 8642: 'propaganda', 8643: 'selected', 8644: 'manpower', 8645: '415', 8646: '30s', 8647: 'viewership', 8648: 'ind.', 8649: 'bludgeon', 8650: 'doubted', 8651: 'species', 8652: 'pinning', 8653: 'obligated', 8654: 'helpful', 8655: 'lovett', 8656: 'upsetting', 8657: 'pyramids', 8658: 'stuff', 8659: 'mac', 8660: 'fundamentalist', 8661: 'importance', 8662: 'vetoes', 8663: 'mothers', 8664: 'card-member', 8665: 'then-speaker', 8666: '7.74', 8667: 'moderately', 8668: 'olympia', 8669: 'spirits', 8670: 'divergence', 8671: 'fixes', 8672: 'howard', 8673: 'absurd', 8674: 'boosting', 8675: 'assert', 8676: 'limiting', 8677: 'wealth', 8678: 'andy', 8679: 'birds', 8680: 'swapping', 8681: 'trash', 8682: '3,600', 8683: 'large-scale', 8684: 'independence', 8685: 'construed', 8686: 'struggle', 8687: 'directionless', 8688: 'suisse', 8689: 'sponsors', 8690: 'curtailed', 8691: 'tackle', 8692: 'fetching', 8693: 'overcrowding', 8694: 'wizards', 8695: '4.6', 8696: 'droughts', 8697: 'printers', 8698: 'gut', 8699: 'nylev', 8700: '388', 8701: 'assessed', 8702: 'riviera', 8703: 'toledo', 8704: 'evans', 8705: '7.80', 8706: 'marketers', 8707: '106', 8708: 'hopwood', 8709: 'acceptances', 8710: 'rumored', 8711: 'recovered', 8712: 'reagan-bush', 8713: 'cultivation', 8714: 'limbo', 8715: '2691.19', 8716: 'dai-ichi', 8717: 'cups', 8718: 'profess', 8719: 'settlements', 8720: 'strictly', 8721: 'frankfurt', 8722: 'appoint', 8723: 'varied', 8724: 'tie-in', 8725: 'bradley', 8726: 'palace', 8727: 'fasteners', 8728: 'responsibilities', 8729: 'exerting', 8730: 'ownership', 8731: 'recruited', 8732: 'devise', 8733: 'prudential-bache', 8734: 'pepperidge', 8735: 'generated', 8736: 'oriented', 8737: 'vacancies', 8738: 'noticed', 8739: '501', 8740: 'disappointing', 8741: 'cast-iron', 8742: 'crystals', 8743: 'borough', 8744: 'architect', 8745: 'underperforming', 8746: 'gambling', 8747: 'jeopardy', 8748: 'outlets', 8749: 'stoll', 8750: 'stacked', 8751: 'takings', 8752: '372.9', 8753: 'cerf', 8754: 'expectation', 8755: 'caldor', 8756: 'lawless', 8757: 'tablets', 8758: 'cup-tote', 8759: 'wright', 8760: '84-year-old', 8761: 'inverse', 8762: 'augment', 8763: 'penalties', 8764: 'moody', 8765: 'responds', 8766: 'lilly', 8767: 'subsidize', 8768: 'appropriations', 8769: 'tokio', 8770: 'top-selling', 8771: '7.422', 8772: 'revolt', 8773: 'breakey', 8774: 'reshaping', 8775: 'seconds', 8776: 'van', 8777: 'persons', 8778: 'generators', 8779: '700,000', 8780: 'equity-purchase', 8781: 'four-day', 8782: 'underwent', 8783: 'cooperating', 8784: 'notify', 8785: 'garrison', 8786: 'deliberating', 8787: 'dialing', 8788: 'betting', 8789: 'edwards', 8790: 'entrusted', 8791: 'accompany', 8792: 'fines', 8793: 'severe', 8794: 'baskets', 8795: 'incentives', 8796: '2005', 8797: '8.50', 8798: 'failures', 8799: 'chose', 8800: 'pre-tax', 8801: 'threatens', 8802: 'tinker', 8803: 'receptive', 8804: 'short-wave', 8805: 'prescribe', 8806: '1.46', 8807: 'landfills', 8808: '11\\\\/16', 8809: 'inventory', 8810: 'unworkable', 8811: '4.7', 8812: 'acquirer', 8813: 'swaps', 8814: 'leash', 8815: '2009', 8816: 'anyway', 8817: 'gordon', 8818: 'performers', 8819: 'deere', 8820: 'recommendation', 8821: 'justified', 8822: 'stability', 8823: 'herbert', 8824: 'erect', 8825: 'outlay', 8826: 'farms', 8827: 'participant', 8828: 'earthquake', 8829: 'fundamentalists', 8830: 'egnuss', 8831: 'egregious', 8832: 'odds', 8833: 'differently', 8834: 'danzig', 8835: 'sunlight', 8836: 'housing', 8837: 'prizes', 8838: 'exorbitant', 8839: '9.75', 8840: 'illness', 8841: 'iota', 8842: 'wires', 8843: 'respondents', 8844: 'caller', 8845: 'exuded', 8846: 'tormentors', 8847: 'contradictions', 8848: 'overcapacity', 8849: 'brightened', 8850: 'truth-in-lending', 8851: 'wohlstetter', 8852: 'des', 8853: 'understand', 8854: 'oshkosh', 8855: 'temporary', 8856: 'broadened', 8857: 'airways', 8858: 'restricting', 8859: 'sangyo', 8860: 'resumes', 8861: 'advent', 8862: 'generation', 8863: 'referenda', 8864: 'guarantee', 8865: 'railing', 8866: 'price-support', 8867: 'rogers', 8868: 'hailed', 8869: 'egypt', 8870: 'chadha', 8871: 'cornerstones', 8872: 'off-track', 8873: 'openings', 8874: 'movements', 8875: 'ana', 8876: 'guard', 8877: 'underwoods', 8878: 'pasadena', 8879: 'freudtoy', 8880: '5.92', 8881: '1.61', 8882: 'adequate', 8883: 'attributed', 8884: 'lightning-fast', 8885: 'worthiness', 8886: 'lobbyists', 8887: 'item', 8888: 'bloods', 8889: 'inform', 8890: 'labouisse', 8891: 'patients', 8892: 'loops', 8893: 'scholars', 8894: 'lorenzo', 8895: 'maine', 8896: 'defensive', 8897: 'hammersmith', 8898: 'numbers', 8899: 'ray', 8900: 'eurobonds', 8901: 'automated', 8902: 'tons', 8903: '1998', 8904: 'ensure', 8905: 'denouncing', 8906: 'prebon', 8907: 'addiction', 8908: 'corporate-wide', 8909: 'pets', 8910: 'architects', 8911: 'raymond', 8912: '1991-2000', 8913: 'coniston', 8914: 'four-foot-high', 8915: 'rewrite', 8916: 'waived', 8917: 'michelin', 8918: 'railings', 8919: 'arnold', 8920: 'disadvantage', 8921: '3.4', 8922: 'gray', 8923: 'billion-dollar', 8924: 'amendments', 8925: 'broad-based', 8926: 'apart', 8927: '81.8', 8928: 'buckhead', 8929: 'sigh', 8930: 'susan', 8931: 'brothers', 8932: 'fend', 8933: 'complains', 8934: 'hart-scott-rodino', 8935: 'supported', 8936: 'leveraging', 8937: '6.9', 8938: 'intecknings', 8939: 'sufficiently', 8940: '7.458', 8941: '114', 8942: 'presidency', 8943: 'triple-a', 8944: '8.5', 8945: 'sentimental', 8946: 'juggle', 8947: 'utterly', 8948: 'prohibiting', 8949: 'applicability', 8950: 'derisively', 8951: 'takashima', 8952: 'referral', 8953: 'departures', 8954: 'limitation', 8955: 'downside', 8956: 'calif.-based', 8957: 'warming', 8958: 'veteran', 8959: 'israel', 8960: 'insider-trading', 8961: 'fahrenheit', 8962: '3,250,000', 8963: '8.55', 8964: 'sufficient', 8965: 'beg', 8966: 'emasculate', 8967: 'disposed', 8968: 'telerate', 8969: 'acknowledges', 8970: 'veraldi', 8971: 'incentive-backed', 8972: 'underwriter', 8973: 'disagrees', 8974: 'cattle', 8975: '396,000', 8976: 'shokubai', 8977: '30.9', 8978: '149.9', 8979: 'conversion', 8980: 'undesirable', 8981: 'missed', 8982: 'disapproval', 8983: 'cable', 8984: 'guarding', 8985: 'larger-than-normal', 8986: 'dolphins', 8987: 'academics', 8988: 'recouped', 8989: '0.16', 8990: '300,000', 8991: '7.20', 8992: 'tomorrow', 8993: 'mo.-based', 8994: 'ceramic', 8995: 'root', 8996: 'demands', 8997: 'abuzz', 8998: 'osha', 8999: 'truck', 9000: 'gottlieb', 9001: '13.15', 9002: 'sparkplugs', 9003: 'legg', 9004: 'hammacher', 9005: 'twist', 9006: 'high-volume', 9007: 'resign', 9008: 'destination', 9009: 'ames', 9010: 'log', 9011: 'accordance', 9012: 'peabody', 9013: '692', 9014: 'sidak', 9015: 'owning', 9016: 'depressions', 9017: '30-share', 9018: 'surgery', 9019: 'reasoning', 9020: 'cracks', 9021: 'edition', 9022: 'sends', 9023: 'yorker', 9024: 'evolved', 9025: 'folio', 9026: '722', 9027: 'strategy', 9028: 'lieberman', 9029: 'exhibits', 9030: 'studiously', 9031: 'taxation', 9032: 'bygone', 9033: 'bolstered', 9034: 'edged', 9035: 'agricultural', 9036: 'extensive', 9037: 'repaired', 9038: '83', 9039: 'steinberg', 9040: 'shambles', 9041: 'sexy', 9042: '6.5', 9043: 'naming', 9044: 'structured', 9045: 'disagreed', 9046: 'scannell', 9047: 'select', 9048: 'fracturing', 9049: 'web', 9050: '118', 9051: 'instructed', 9052: 'anti-deficiency', 9053: 'universally', 9054: '1787', 9055: 'prisoners', 9056: 'applicable', 9057: '120.7', 9058: '28.25', 9059: 'multiples', 9060: 'outlawing', 9061: 'hang', 9062: 'catholic', 9063: 'jolts', 9064: 'yasuda', 9065: 'bilingual', 9066: 'cleanup', 9067: 'dydee', 9068: 'christmas', 9069: 'executive-office', 9070: 'julia', 9071: 'supporters', 9072: '28.5', 9073: 'sprawling', 9074: 'walls', 9075: 'missiles', 9076: 'opportunities', 9077: 'amps', 9078: 'citicorp', 9079: 'cleanliness', 9080: 'housewife', 9081: 'resentment', 9082: 'hazell', 9083: 'obviously', 9084: 'meals', 9085: '27.1', 9086: 'kathleen', 9087: '240', 9088: '7.62', 9089: 'choosing', 9090: 'anti-miscarriage', 9091: 'perestroika', 9092: 'lose', 9093: 'tray', 9094: 'decay', 9095: 'metal', 9096: 'foldable', 9097: 'generic', 9098: 'builders', 9099: 'responsible', 9100: 'initiatives', 9101: 'headlined', 9102: 'occidental', 9103: 'evolve', 9104: '753', 9105: 'smoothly', 9106: 'first-rate', 9107: 'civics', 9108: 'confident', 9109: 'preapproved', 9110: 'virtue', 9111: 'whipping', 9112: '890', 9113: 'sleeping', 9114: 'unfunded', 9115: 'scarcely', 9116: 'loser', 9117: 'cleaner-burning', 9118: '149', 9119: 'delays', 9120: 'dirtiest', 9121: 'charter', 9122: 'establishment', 9123: 'disseminate', 9124: 'decisive', 9125: 'diminished', 9126: 'burn', 9127: 'swiss', 9128: 'provoked', 9129: 'bridges', 9130: 'overproduction', 9131: '14.', 9132: 'chaos', 9133: 'insert', 9134: 'functioning', 9135: 'mcguigan', 9136: 'alcoholism', 9137: '800', 9138: 'champions', 9139: 'programmer', 9140: '238,000-circulation', 9141: '1,050,000', 9142: '107.03', 9143: 'elisa', 9144: 'appease', 9145: 'stimulated', 9146: 'ugly', 9147: 'honolulu', 9148: 'labels', 9149: '8.65', 9150: 'shaw', 9151: 'high-risk', 9152: '8.1', 9153: 'outrageous', 9154: '7.95', 9155: 'curbing', 9156: 'zip', 9157: 'falls', 9158: 'consistent', 9159: 'robbie', 9160: 'loewi', 9161: 'vested', 9162: 'outdistanced', 9163: 'certin', 9164: 'loudest', 9165: 'manila', 9166: 'surpluses', 9167: 'craftsmen', 9168: 'ruth', 9169: 'publicity', 9170: 'unheard', 9171: 'scripps', 9172: 'federalist', 9173: 'expert', 9174: 'reed', 9175: 'unfocused', 9176: 'columns', 9177: 'delisted', 9178: '454', 9179: 'afford', 9180: 'broker', 9181: 'fulham', 9182: 'distributable', 9183: 'impetus', 9184: 'coverage', 9185: 'newsstand', 9186: 'credentials', 9187: '9.3', 9188: 'notwithstanding', 9189: 'minnesota', 9190: 'constitute', 9191: 'livelihood', 9192: 'schlemmer', 9193: 'offerings', 9194: '16\\\\/32', 9195: 'american-made', 9196: 'eliminating', 9197: 'shelter', 9198: 'fan', 9199: 'marubeni', 9200: 'akin', 9201: 'major-league', 9202: 'campeau', 9203: 'extending', 9204: 'exemption', 9205: 'sumitomo', 9206: 'anti-programmers', 9207: 'nameless', 9208: 'simultaneously', 9209: 'jonas', 9210: 'lenders', 9211: 'preventative', 9212: 'superdot', 9213: 'dealings', 9214: 'neanderthals', 9215: 'pill', 9216: 'viewing', 9217: 'array', 9218: 'arrangements', 9219: 'overvalued', 9220: 'anticipation', 9221: '960', 9222: 'voa', 9223: 'den', 9224: 'laboriously', 9225: 'illustrates', 9226: 'mcmillin', 9227: 'meatpacking', 9228: '13\\\\/16', 9229: '8.70', 9230: 'usia', 9231: 'proviso', 9232: 'candlestick', 9233: 'arts', 9234: 'folded', 9235: 'allies', 9236: 'indifference', 9237: 'infectious', 9238: '8.48', 9239: 'homelessness', 9240: 'new-car', 9241: 'monopoly', 9242: 'magnetic', 9243: 'l.a.', 9244: 'dover', 9245: 'hallett', 9246: 'leningrad', 9247: 'beauty', 9248: 'widgets', 9249: 'multi-crystal', 9250: 'andrea', 9251: 'multitude', 9252: 'thread', 9253: '7.78', 9254: 'weather', 9255: 'btr', 9256: 'greed', 9257: 'processing', 9258: 'facts', 9259: 'applaud', 9260: 'leveraged', 9261: 'concede', 9262: 'clock', 9263: 'rallying', 9264: 'adjustable', 9265: 'brigham', 9266: 'disapproved', 9267: 'chairs', 9268: 'tire-kickers', 9269: 'second-largest', 9270: 'handelsbanken', 9271: 'experiencing', 9272: 'orange', 9273: 'debenture', 9274: 'deviant', 9275: '22\\\\/32', 9276: 'pension-fund', 9277: 'demonstrates', 9278: 'brean', 9279: 'overdone', 9280: 'flagrant', 9281: 'zicklin', 9282: 'nonprofit', 9283: 'combine', 9284: 'motors', 9285: 'purse', 9286: 'whereas', 9287: 'depression', 9288: 'liners', 9289: 'medallions', 9290: 'contradict', 9291: 'rigors', 9292: 'gored', 9293: 'free-enterprise', 9294: 'rebounding', 9295: 'disposables', 9296: '141.9', 9297: 'learn', 9298: 'sweden', 9299: 'interpretation', 9300: 'eyeing', 9301: 'duly', 9302: 'long-tenured', 9303: 'understands', 9304: 'equaling', 9305: 'scant', 9306: 'don', 9307: 'earlham', 9308: 'magnets', 9309: 'disclosures', 9310: 'sotheby', 9311: 'accomplishments', 9312: 'mentioned', 9313: 'bon', 9314: 'yamaichi', 9315: 'shelf', 9316: 'a-d', 9317: 'strengthened', 9318: '2\\\\/32', 9319: 'string', 9320: 'briefings', 9321: 'implied', 9322: 'legislating', 9323: 'self-serving', 9324: 'screened', 9325: 'charging', 9326: 'negotiable', 9327: 'hearings', 9328: 'old-style', 9329: 'ranging', 9330: 'topped', 9331: 'promised', 9332: 'inquiring', 9333: 'infrequent', 9334: 'searched', 9335: 'britta', 9336: 'fluctuations', 9337: 'confederation', 9338: 'domestically', 9339: 'arched', 9340: 'hans', 9341: 'stereo', 9342: 'miscarriages', 9343: 'sewer', 9344: 'amazingly', 9345: 'boogieman', 9346: 'yourself', 9347: 'pretext', 9348: 'sports-oriented', 9349: '1st', 9350: 'incisions', 9351: 'planning', 9352: 'intrusion', 9353: 'hormone', 9354: 'wellington', 9355: '1.64', 9356: 'benefit', 9357: 'hysteria', 9358: 'ackerman', 9359: 'propagandize', 9360: 'fiber-end', 9361: 'intimidate', 9362: 'tiger', 9363: 'dubbed', 9364: 'forget', 9365: 'liability', 9366: '144', 9367: 'policy-making', 9368: 'acquires', 9369: 'enhances', 9370: 'sprint', 9371: 'deck', 9372: '203', 9373: 'decries', 9374: 'blurred', 9375: 'diethylstilbestrol', 9376: 'cooled', 9377: 'francs', 9378: 'one-newspaper', 9379: 'open-top', 9380: '56', 9381: 'quote', 9382: 'unknown', 9383: 'insinuating', 9384: 'scandal', 9385: 'touches', 9386: 'len', 9387: 'clause', 9388: 'deducting', 9389: 'doubts', 9390: 'blood', 9391: 'severable', 9392: 'airline-related', 9393: 'broadcasts', 9394: 'necessities', 9395: 'whip', 9396: 'rider', 9397: 'fly', 9398: 'e.w.', 9399: '3\\\\/8', 9400: 'countless', 9401: 'ywca', 9402: 'shaken', 9403: 'curbed', 9404: 'collector', 9405: 'syndicate', 9406: 'reasonably', 9407: 'old-time', 9408: 'c.d.s', 9409: 'stock-price', 9410: 'memo', 9411: 'layer', 9412: 'unable', 9413: 'assaults', 9414: '20-stock', 9415: 'gross', 9416: 'workforce', 9417: 'pa', 9418: 'presentation', 9419: '321', 9420: '135', 9421: 'texts', 9422: 'inouye', 9423: 'coordinate', 9424: 'appropriated', 9425: 'yon', 9426: '4.5', 9427: 'hunted', 9428: 'custom', 9429: 'filings', 9430: 'renaissance-style', 9431: 'gm', 9432: 'guilders', 9433: 'routes', 9434: 'wholesaler', 9435: 'housing-assistance', 9436: 'capitalism', 9437: 'shaping', 9438: 'derivative', 9439: 'beverage', 9440: 'relentlessly', 9441: 'psychiatric', 9442: 'broaden', 9443: 'minted', 9444: 'overleveraged', 9445: '35564.43', 9446: 'contest', 9447: 'photocopying', 9448: '2163.2', 9449: 'void', 9450: 'appointments', 9451: 'one-house', 9452: 'matthews', 9453: 'ought', 9454: 'barbados', 9455: 'abandon', 9456: 'undo', 9457: '153.3', 9458: 'placing', 9459: 'barclays', 9460: 'buick', 9461: '1994', 9462: 'invite', 9463: '240-page', 9464: 'citibank', 9465: 'traditionalists', 9466: 'wick', 9467: 'scholar', 9468: 'inquiries', 9469: 'direct-mail', 9470: 'land-idling', 9471: 'crusade', 9472: 'cloth', 9473: 'decade-long', 9474: 'plea', 9475: 'marginally', 9476: 'explaining', 9477: 'nominee', 9478: 'house-senate', 9479: 'clairton', 9480: 'mcgovern', 9481: '89.7', 9482: 'preclude', 9483: 'bricklayers', 9484: '99', 9485: 'jaffray', 9486: 'sydney', 9487: 'substitute', 9488: '334.5', 9489: 'continuingly', 9490: '6.25', 9491: 'floral', 9492: '1,200', 9493: 'californian', 9494: 'ballot', 9495: 'paris', 9496: 'sees', 9497: '12\\\\/32', 9498: 'benchmarks', 9499: 'cushioned', 9500: '17.4', 9501: '1.125', 9502: 'disappear', 9503: '1,500', 9504: 'old-fashioned', 9505: 'hither', 9506: '1925', 9507: 'exceeds', 9508: 'adapting', 9509: 'v.', 9510: 'two-tiered', 9511: 'jumps', 9512: 'bridge', 9513: 'cheetham', 9514: 'ample', 9515: 'determine', 9516: 'repeatedly', 9517: 'english-speaking', 9518: 'vaccines', 9519: 'successfully', 9520: 'appetite', 9521: 'arighi', 9522: '3648.82', 9523: 'granting', 9524: 'copy', 9525: 'tulane', 9526: '4.9', 9527: 'non-u.s.', 9528: '77', 9529: '235', 9530: 'disclose', 9531: 'encouraging', 9532: 'piscataway', 9533: 'unwilling', 9534: 'manage', 9535: 'portion', 9536: 'wooing', 9537: 'occasionally', 9538: '24.95', 9539: 'waiver', 9540: 'cheaper', 9541: 'location', 9542: 'eurodollars', 9543: 'gilts', 9544: 'concrete', 9545: 'electorate', 9546: 'syracuse', 9547: 'thumbs', 9548: '4.2', 9549: '306', 9550: '1967', 9551: '95.09', 9552: '472', 9553: 'cruise', 9554: 'ornamental', 9555: 'thanks', 9556: 'silverman', 9557: 'habit', 9558: 'arise', 9559: 'duck', 9560: 'editing', 9561: '730', 9562: 'lines', 9563: 'acid', 9564: 'crystal', 9565: 'recommending', 9566: 'error', 9567: 'cancellation', 9568: 'prescription', 9569: 'profit-taking', 9570: 'stretch', 9571: 'pension', 9572: 'conceivable', 9573: 'confirms', 9574: 'trans', 9575: 'financial-services', 9576: 'schemes', 9577: 'agencies', 9578: 'succession', 9579: 'blunt', 9580: 'edwin', 9581: 'rumors', 9582: 'clipped', 9583: '116.9', 9584: 'notch', 9585: 'stadiums', 9586: 'reallocate', 9587: 'solicitor', 9588: 'pickers', 9589: '3.375', 9590: 'squeeze', 9591: 'prerogatives', 9592: 'wolf', 9593: 'dolan', 9594: 'phoenix', 9595: 'participated', 9596: 'draws', 9597: 'damaging', 9598: 'sitting', 9599: 'nail', 9600: 'spooked', 9601: 'continuously', 9602: 'freeway', 9603: 'absolutely', 9604: 'coke', 9605: 'milwaukee', 9606: 'lids', 9607: 'stifle', 9608: 'contingency-fee', 9609: 'identical', 9610: 'trespass', 9611: 'pressman', 9612: 'predicts', 9613: 'recess', 9614: 'centimeter', 9615: 'sweepstakes', 9616: '5.7', 9617: 'drastically', 9618: 'competes', 9619: 'approached', 9620: 'goodwill', 9621: 'fringe', 9622: 'hailing', 9623: 'ark', 9624: 'hopkins', 9625: 'unraveling', 9626: 'empire', 9627: 'clean-air', 9628: 'solomonic', 9629: 'reporters', 9630: 'diaper', 9631: 'morrell', 9632: 'mindy', 9633: 'proposition', 9634: 'high-polluting', 9635: 'deficiencies', 9636: 'bitter', 9637: 'ranked', 9638: 'storm', 9639: 'beers', 9640: 'stellar', 9641: '30,537', 9642: 'tyre', 9643: 'desire', 9644: 'discharge', 9645: 'gates-warren', 9646: 'breathed', 9647: 'undergoing', 9648: '2029', 9649: '63.79', 9650: 'override', 9651: 'drexel', 9652: 'nrdc', 9653: 'line-item', 9654: 'blames', 9655: 'lucille', 9656: 'stockbrokers', 9657: 'insanity', 9658: '184', 9659: 'band-wagon', 9660: 'burnham', 9661: '8.15', 9662: '9.32', 9663: 'wrecking', 9664: 'requesting', 9665: 'undercutting', 9666: 'relocate', 9667: 'anku', 9668: 'warranties', 9669: 'civil', 9670: 'middlesex', 9671: 'furillo', 9672: '5.435', 9673: 'catch-22', 9674: \"o'brien\", 9675: '133', 9676: 'repriced', 9677: 'high-grade', 9678: 'dorrance', 9679: 'coal-fired', 9680: 'acquirers', 9681: '8.575', 9682: 'migrate', 9683: 'cell', 9684: 'efficient', 9685: 'typical', 9686: '600', 9687: 'grim', 9688: 'leaky', 9689: '14.5', 9690: 'liquidity', 9691: 'initiating', 9692: 'tempted', 9693: 'citizen-sparked', 9694: 'cullowhee', 9695: 'discretion', 9696: 'insured', 9697: 'dealing', 9698: 'instrumental', 9699: 'smothering', 9700: 'photography', 9701: 'purposes', 9702: '2000', 9703: 'begun', 9704: 'n.y', 9705: 'prospective', 9706: 'namely', 9707: 'reap', 9708: 'inefficiencies', 9709: 'trivial', 9710: 'calculator', 9711: 'nebraska', 9712: '4.10', 9713: '1.65', 9714: 'spectacular', 9715: 'rocket', 9716: 'deterioration', 9717: 'arbitrager', 9718: '175', 9719: 'stock-picking', 9720: 'specified', 9721: '94.2', 9722: 'impede', 9723: 'koizumi', 9724: 'attempted', 9725: 'buyer', 9726: 'growers', 9727: 'surreptitiously', 9728: 'canine', 9729: '1\\\\/8', 9730: 'freddie', 9731: '1937-40', 9732: 'mill', 9733: 'two-time-losers', 9734: '116.3', 9735: 'hanover', 9736: 'buy-outs', 9737: 'vicissitudes', 9738: 'hidden', 9739: 'reluctance', 9740: 's.a', 9741: 'breed', 9742: 'hedging', 9743: '879', 9744: 'worsen', 9745: '270', 9746: 'basin', 9747: 'indications', 9748: 'svenska', 9749: '0.82', 9750: 'trays', 9751: 'vindication', 9752: 'barely', 9753: 'contrasts', 9754: 'pain', 9755: 'paperback', 9756: 'evil', 9757: 'prevalance', 9758: 'upset', 9759: 'horoscopes', 9760: 'omnipresent', 9761: 'enzor', 9762: '10.19', 9763: 'leadership', 9764: 'mutchin', 9765: 'exceeding', 9766: 'persky', 9767: 'merchandising', 9768: 'phacoflex', 9769: 'cougar', 9770: 'yttrium-containing', 9771: 'ratified', 9772: 'scans', 9773: 'corporation', 9774: 'listeners', 9775: 'elementary', 9776: 'limping', 9777: 'parched', 9778: 'wedded', 9779: 'seven-million-ton', 9780: 'incomes', 9781: 'quashing', 9782: '177', 9783: 'kendrick', 9784: 'recover', 9785: 'reporter', 9786: 'heebie-jeebies', 9787: 'broadly', 9788: 'context', 9789: '8.06', 9790: 'claimed', 9791: 'oklahoma', 9792: 'ual', 9793: 'usx', 9794: 'castle', 9795: 'carlton', 9796: 'closes', 9797: 'liable', 9798: 'single-handed', 9799: 'dislike', 9800: 'single-a', 9801: 'gmac', 9802: 'fleeting', 9803: 'slogan', 9804: 'vos', 9805: 'hardest-hit', 9806: 'highs', 9807: 'pricings', 9808: '7.52', 9809: 'champion', 9810: 'documented', 9811: '16.5', 9812: 'cousins', 9813: 'ft', 9814: 'transfer', 9815: 'cue', 9816: 'verbatim', 9817: 'drunk', 9818: 'reversed', 9819: 'photocopy', 9820: 'imposes', 9821: 'stayed', 9822: '111', 9823: 'rated', 9824: 'pepperdine', 9825: '1,460', 9826: 'glaxo', 9827: '17.5', 9828: 'relevance', 9829: 'removing', 9830: 'families', 9831: 'repeals', 9832: 'duke', 9833: 'refrigerator', 9834: 'transcribe', 9835: '8.35', 9836: 'saul', 9837: 'inserted', 9838: '13.90', 9839: 'responsive', 9840: 'surely', 9841: 'aftereffects', 9842: 'gartner', 9843: 'hypothetical', 9844: 'harper', 9845: 'languages', 9846: 'favors', 9847: 'nikkei', 9848: 'closing', 9849: 'flights', 9850: 'columbus', 9851: 'comeback', 9852: 'puzzled', 9853: 'kidder', 9854: 'maintain', 9855: 'allergan', 9856: 'slope', 9857: '6.20', 9858: 'imhoff', 9859: 'backgrounds', 9860: 'twisting', 9861: 'rivals', 9862: 'facilities', 9863: 'lending', 9864: '17.3', 9865: 'leighton', 9866: 'sweatshirts', 9867: 'aftermath', 9868: 'machinists', 9869: 'looks', 9870: 'waited', 9871: 'mogavero', 9872: 'collective', 9873: 'innovation', 9874: 'day-care', 9875: 'psychology', 9876: 'survivor', 9877: 'test-drive', 9878: '1.50', 9879: 'crashing', 9880: 'gigantic', 9881: 'innovative', 9882: 'considers', 9883: 'brussels', 9884: 'chooses', 9885: 'profitably', 9886: 'scholarly', 9887: 'ednie', 9888: 'crop', 9889: 'comfortably', 9890: 'helps', 9891: 'bottom-line', 9892: 'welfare', 9893: 'dissemination', 9894: 'circuit-board', 9895: 'goblins', 9896: 'abolishing', 9897: 'disaster-assistance', 9898: 'weil', 9899: '29year', 9900: 'loathsome', 9901: 'bedding', 9902: 'mead', 9903: '220.45', 9904: 'rebels', 9905: 'aboard', 9906: 'bread', 9907: 'ncr', 9908: 'bankrupt', 9909: 'mulling', 9910: 'chilean', 9911: 'mcdonald', 9912: 'chapman', 9913: 'reuters', 9914: 'sept.30', 9915: 'contras', 9916: '386', 9917: 'bread-and-butter', 9918: 'longtime', 9919: 'irwin', 9920: 'insider', 9921: 'markdowns', 9922: 'asher', 9923: 'apparent', 9924: 'sweater', 9925: 'philip', 9926: 'urban', 9927: 'influenced', 9928: '7.84', 9929: '310', 9930: 'repay', 9931: 'concurrent', 9932: 'literature', 9933: 'mercedes', 9934: 'hauling', 9935: 'narrowed', 9936: 'equus', 9937: 'atmosphere', 9938: 'muramatsu', 9939: '7.4', 9940: 'louisiana-pacific', 9941: 'experienced', 9942: 'sabotage', 9943: '1.1650', 9944: 'pauline', 9945: '50-50', 9946: '16.09', 9947: 'unveiled', 9948: 'issuer', 9949: 'subdued', 9950: '1983-85', 9951: 'emerged', 9952: 'neighboring', 9953: 'several-year', 9954: 'observance', 9955: 'beirut', 9956: 'barges', 9957: 'harrison', 9958: 'namibian', 9959: 'questioned', 9960: 'berlin', 9961: '54', 9962: '598', 9963: '645,000', 9964: 'brushed', 9965: 'mcfarlan', 9966: 'eveready', 9967: 'kennedy', 9968: 'computer-services', 9969: 'seven-yen', 9970: 'treating', 9971: 'early-retirement', 9972: 'ferro', 9973: 'namibia', 9974: 'protein', 9975: 'trailer', 9976: 'singled', 9977: 'spun', 9978: 'boots', 9979: 'liberal', 9980: 'unwanted', 9981: 'satisfactorily', 9982: 'u.n.-supervised', 9983: 'pro-iranian', 9984: 'judith', 9985: 'arrive', 9986: '2.07', 9987: 'shipyards', 9988: 'importer', 9989: 'subcontractors', 9990: '11-month-old', 9991: 'carnival', 9992: 'shift', 9993: 'midrange', 9994: '11.95', 9995: \"dunkin'\", 9996: 'lentjes', 9997: 'trinity', 9998: 'exodus', 9999: '35.2', 10000: '3.20', 10001: 'characteristics', 10002: 'weapons-modernization', 10003: 'mood', 10004: 'cents-a-unit', 10005: 'equitable', 10006: 'hadson', 10007: 'apparel', 10008: 'oust', 10009: 'famous', 10010: 'granted', 10011: 'deter', 10012: 'sewing-machine', 10013: 'cash-and-stock', 10014: '108', 10015: 'crum', 10016: 'phase-out', 10017: 'crookery', 10018: '494.50', 10019: 'revelations', 10020: 'guerrillas', 10021: 'arbitrage-related', 10022: 'interleukin-3', 10023: 'bribe', 10024: 'bhutto', 10025: 'barron', 10026: 'bulldozers', 10027: 'readings', 10028: 'modernization', 10029: 'outbid', 10030: '227', 10031: 'insane', 10032: '492', 10033: 'ex-dividend', 10034: 'fled', 10035: 'rebuild', 10036: '263.07', 10037: 'near-limit', 10038: 'integrity', 10039: 'plugged', 10040: 'lyle', 10041: 'laurence', 10042: 'sputtered', 10043: '341.20', 10044: '6,799', 10045: '126.15', 10046: 'dolls', 10047: 'lobsenz', 10048: 'brunt', 10049: 'one-fifth', 10050: 'affirmative', 10051: 'seattle-based', 10052: 'procedural', 10053: 'microprocessors', 10054: '2-3', 10055: 'politically', 10056: 'renewing', 10057: 'trees', 10058: '210', 10059: 'disputado', 10060: 'upbeat', 10061: '116.7', 10062: 'arabian', 10063: 'komatsu', 10064: 'diloreto', 10065: '1.18', 10066: 'amicable', 10067: 'maclellan', 10068: '750,000', 10069: 'five-cent', 10070: 'lakes', 10071: 'galvanized', 10072: 'defines', 10073: 'lebanon', 10074: 'avenge', 10075: 'lindner', 10076: 'netware', 10077: 'drastic', 10078: 'networking', 10079: 'tightening', 10080: 'magnified', 10081: 'lower-priced', 10082: 'shareholder-rights', 10083: '734.9', 10084: 'cushion', 10085: 'ranger', 10086: 'amr', 10087: '60.36', 10088: '2.75', 10089: '87-store', 10090: 'brisk', 10091: '93.9', 10092: 'delmont', 10093: '188.84', 10094: 'colorliner', 10095: '176.1', 10096: 'planes', 10097: 'kurland', 10098: '225,000', 10099: 'bradford', 10100: 'partial', 10101: 'hamstrung', 10102: 'trimmed', 10103: 'till', 10104: 'shopped', 10105: 'cereal', 10106: 'minimum-wage', 10107: 'explore', 10108: 'morphogenetic', 10109: 'laying', 10110: 'chunks', 10111: 'unanticipated', 10112: 'derchin', 10113: 'unrealized', 10114: 'muscling', 10115: 'marrow', 10116: 'neoprene', 10117: '16.2', 10118: 'secede', 10119: 'backlog', 10120: '40-megabyte', 10121: 'rebuilding', 10122: 'donuts', 10123: 'ordnance', 10124: 'high-rolling', 10125: 'stockpiles', 10126: '19-month-old', 10127: 'wilmington', 10128: 'averted', 10129: 'licenses', 10130: 'necks', 10131: 'freeport-mcmoran', 10132: '7.63', 10133: 'verge', 10134: 'drops', 10135: 'redistributing', 10136: '79', 10137: '8.2', 10138: 'gambler', 10139: 'curtail', 10140: 'gelles', 10141: 'inoperative', 10142: 'acute', 10143: 'continuous', 10144: 'landowners', 10145: 'walkout', 10146: 'bidder', 10147: 'nominees', 10148: 'arrested', 10149: '28.36', 10150: 'pediatrician', 10151: 'reservoirs', 10152: 'aerojet', 10153: 'precedes', 10154: '83,206', 10155: 'ralston', 10156: 'natural-gas', 10157: 'full-fledged', 10158: '0.95', 10159: 'planting', 10160: 'jeweler', 10161: 'massive', 10162: 'prior-year', 10163: 'mines', 10164: '11.57', 10165: 'moslem', 10166: 'nigel', 10167: 'softening', 10168: '1.19', 10169: 'balloon', 10170: 'scheme', 10171: '377.60', 10172: 'above-market', 10173: 'first-half', 10174: 'scuttle', 10175: 'per-share', 10176: '12.09', 10177: 'corps', 10178: 'waymar', 10179: '18-a-share', 10180: 'lease', 10181: '93.3', 10182: 'bethlehem', 10183: 'swift', 10184: 'paramount', 10185: 'soldado', 10186: '0.28', 10187: 'pan', 10188: '1.4', 10189: 'high-flying', 10190: '3.55', 10191: '16.68', 10192: 'malta', 10193: 'bench', 10194: 'distributes', 10195: 'fortunes', 10196: 'subpoenaed', 10197: '300-day', 10198: 'germany-based', 10199: 'thieves', 10200: 'liquidated', 10201: 'preclinical', 10202: '350', 10203: 'studio', 10204: 'oy', 10205: 'bomb', 10206: 'seafood', 10207: 'delaware', 10208: '43-year-old', 10209: 'metallgesellschaft', 10210: '96.4', 10211: 'restructurings', 10212: 'vacancy', 10213: '12.97', 10214: 'txo', 10215: '1.25', 10216: 'offensive', 10217: '1,100', 10218: 'derived', 10219: '84.9', 10220: '21,000', 10221: '430', 10222: 'brazilian', 10223: 'otherwise', 10224: 'reaching', 10225: 'puerto', 10226: '1.20', 10227: 'younkers', 10228: '51.6', 10229: 'jurisdiction', 10230: 'theodore', 10231: '2,050-passenger', 10232: 'logistical', 10233: 'cabbage', 10234: 'alleviate', 10235: 'backdrop', 10236: '0.60', 10237: '2.375', 10238: 'liquidation', 10239: 'railcar', 10240: 'crises', 10241: 'relieve', 10242: 'refinery', 10243: 'conn.based', 10244: 'stern', 10245: 'bounced', 10246: 'staff-reduction', 10247: 'reassuring', 10248: '618.1', 10249: 'islamabad', 10250: 'healing', 10251: 'implementation', 10252: 'tendering', 10253: '131.01', 10254: 'proteins', 10255: 'millis', 10256: 'orleans-based', 10257: '198', 10258: '14.43', 10259: 'coleco', 10260: '5.6', 10261: 'eeoc', 10262: 'ravenswood', 10263: 'johnson-era', 10264: '1989-90', 10265: 'accident', 10266: 'trains', 10267: 'port', 10268: 'capitalize', 10269: 'itc', 10270: 'unspecified', 10271: '107.9', 10272: 'norfolk', 10273: 'rico', 10274: 'dna', 10275: 'blighted', 10276: 'finland', 10277: 'discrimination', 10278: 'richer', 10279: 'speculating', 10280: 'blackjack', 10281: 'shuttle', 10282: 'emigres', 10283: 'ohio-based', 10284: 'revival', 10285: 'slaying', 10286: 'earning', 10287: 'gunmen', 10288: '5.8', 10289: 'marcus', 10290: '1.49', 10291: 'coated', 10292: 'mitigate', 10293: '226,570,380', 10294: 'jimmy', 10295: 'kalamazoo', 10296: 'bomber', 10297: 'bone', 10298: 'injecting', 10299: 'baking', 10300: '15.5', 10301: 'alert', 10302: 'preface', 10303: 'leon', 10304: '13.1', 10305: 'p.m.', 10306: 'contra', 10307: 'nomenklatura', 10308: 'zinc', 10309: '3436.58', 10310: 'delayed', 10311: 'armed', 10312: 'u.s.-backed', 10313: 'votes', 10314: '1.35', 10315: 'unexpected', 10316: 'entity', 10317: 'displays', 10318: 'atsushi', 10319: 'corrupt', 10320: '2.15', 10321: 'sentence', 10322: 'assembly', 10323: 'accrue', 10324: '39', 10325: 'glitches', 10326: 'am', 10327: '62.1', 10328: 'africa', 10329: 'coffee', 10330: 'blood-cell', 10331: 'shedding', 10332: 'cara', 10333: '3.04', 10334: 'papua-new', 10335: '58.64', 10336: 'agreements', 10337: 'ship', 10338: 'bribery', 10339: 'kobe', 10340: 'restructures', 10341: '434.4', 10342: 'bears', 10343: 'restraints', 10344: 'born', 10345: 'andersson', 10346: 'doling', 10347: 'boilers', 10348: 'pretoria', 10349: 'expendable', 10350: 'soliciting', 10351: 'bombers', 10352: '260', 10353: '1.916', 10354: 'produces', 10355: '1.76', 10356: 'hostess', 10357: 'riyadh', 10358: '5,699', 10359: 'asset-valuation', 10360: 'barge', 10361: 'bmp', 10362: 'edelman', 10363: 'trail', 10364: 'steelmakers', 10365: 'firmly', 10366: 'headcount-control', 10367: '47.1', 10368: 'gencorp', 10369: 'cos.', 10370: 'reorganized', 10371: 'ferdinand', 10372: 'unaffiliated', 10373: 'reckless', 10374: '95', 10375: 'mine', 10376: 'angola', 10377: '170', 10378: 'transamerica', 10379: '19.95', 10380: 'purina', 10381: 'no-confidence', 10382: 'discussion', 10383: 'appliance', 10384: 'sternberg', 10385: 'rigged', 10386: 'ortega', 10387: 'mich.-based', 10388: '20.07', 10389: 'elders', 10390: 'clarence', 10391: 'hub', 10392: '42.1', 10393: 'falsify', 10394: 'bmp-1', 10395: '721', 10396: '43.875', 10397: '2.35', 10398: 'corn-buying', 10399: 'lifes', 10400: '24,000', 10401: 'nofzinger', 10402: 'meridian', 10403: 'industrywide', 10404: \"'80s\", 10405: 'irrelevant', 10406: 'in-store', 10407: 'tony', 10408: 'hasbrouk', 10409: 'fourteen', 10410: 'rebel', 10411: 'races', 10412: 'designation', 10413: 'jonathan', 10414: 'defects', 10415: '12.68', 10416: 'runkel', 10417: 'shrank', 10418: 'colder', 10419: '100-megabyte', 10420: 'waertsilae', 10421: 'life-of-contract', 10422: 'mindful', 10423: '422.5', 10424: 'specify', 10425: 'saints', 10426: 'holland', 10427: 'adopt', 10428: 'budding', 10429: '132.9', 10430: '45-a-share', 10431: 'pall', 10432: 'communist', 10433: '811.9', 10434: 'floated', 10435: 'hackensack', 10436: 'compositions', 10437: 'minority-owned', 10438: 'ubs', 10439: '36-store', 10440: 'honduras', 10441: '148', 10442: 'trip', 10443: 'directorship', 10444: '4.55', 10445: 'severance', 10446: 'cane', 10447: 'centralized', 10448: 'fashioned', 10449: 'austin', 10450: 'stevenson', 10451: 'bust', 10452: 'firmed', 10453: 'platinum', 10454: '458', 10455: 'winner', 10456: 'all-cash', 10457: 'bloc', 10458: 'lurgi', 10459: '42-year', 10460: 'co-author', 10461: 'warehouse', 10462: 'thwart', 10463: 'reaffirmed', 10464: 'scams', 10465: 'container', 10466: 'peaked', 10467: '6.53', 10468: 'cia', 10469: 'coast', 10470: '14.26', 10471: '154,240,000', 10472: 'scammers', 10473: 'forster', 10474: '77.6', 10475: 'depleted', 10476: 'novell', 10477: 'specialized', 10478: 'bakery', 10479: '6.44', 10480: 'depends', 10481: 'fantasy', 10482: 'injuring', 10483: 'shipyard', 10484: 'clothes', 10485: 'inland', 10486: '14.54', 10487: 'cadmium', 10488: 'battery', 10489: '132,000', 10490: 'authorizes', 10491: 'haden', 10492: 'peters', 10493: 'dd', 10494: 'c-130', 10495: '19.94', 10496: 'write-off', 10497: '55.1', 10498: 'harvested', 10499: 'intelligent', 10500: 'sank', 10501: '87.5', 10502: 'cost-cutting', 10503: 'remarkable', 10504: 'cease-fire', 10505: 'paso', 10506: 'texaco', 10507: 'qualified', 10508: 'resigning', 10509: '5.2180', 10510: '185.9', 10511: 'troops', 10512: 'unicorp', 10513: 'poison', 10514: 'harry', 10515: 'bribing', 10516: 'passenger-car', 10517: '2.47', 10518: 'undelivered', 10519: 'gallon', 10520: 'bankruptcy-law', 10521: 'ethanol', 10522: '28.53', 10523: 'crook', 10524: 'trump', 10525: 'rigid', 10526: 'befell', 10527: '142.84', 10528: 'disasters', 10529: '0.50', 10530: '99.3', 10531: 'capitalized', 10532: 'staying', 10533: 'percent', 10534: 'minera', 10535: 'decliners', 10536: '120-a-share', 10537: 'reimbursed', 10538: '512', 10539: 'confidant', 10540: '13.65', 10541: 'engines', 10542: 'government-owned', 10543: 'missouri', 10544: 'krenz', 10545: 'nyse', 10546: 'leather', 10547: 'savin', 10548: '27-year', 10549: '2.19', 10550: 'mississippi', 10551: '45.2', 10552: '169.9', 10553: 'ganes', 10554: 'information-services', 10555: 'mid-afternoon', 10556: 'termed', 10557: 'rms', 10558: 'sell-off', 10559: 'latter', 10560: 'delivered', 10561: 'write', 10562: 'recombinant', 10563: 'winding', 10564: 'native', 10565: 'nicaraguan', 10566: 'holt', 10567: '50\\\\/50', 10568: 'trace', 10569: 'yoshihashi', 10570: 'reaping', 10571: 'lama', 10572: 'gather', 10573: 'barrett', 10574: 'anti-dumping', 10575: 'buys', 10576: 'loading', 10577: 'procedure', 10578: 'shipbuilding', 10579: 'more-advanced', 10580: 'fbi', 10581: 'tailor-made', 10582: 'storage', 10583: 'mario', 10584: 'waterloo', 10585: 'exceeded', 10586: 'copper', 10587: 'investigate', 10588: 'compressed', 10589: '12.7', 10590: 'emergency', 10591: 'dashed', 10592: 'demobilize', 10593: 'suitors', 10594: '129.91', 10595: 'pipeline', 10596: 'nationalist', 10597: 'reupke', 10598: '372.14', 10599: 'exporters', 10600: 'bottlenecks', 10601: '630.9', 10602: \"o'neill\", 10603: 'heavy-truck', 10604: 'sweaters', 10605: '1.17', 10606: 'implements', 10607: 'exploration', 10608: '26,956', 10609: 'exxon-owned', 10610: '92.9', 10611: 'sandinista', 10612: 'riding', 10613: '11,390,000', 10614: '3.16', 10615: 'csv', 10616: 'rulings', 10617: 'eakle', 10618: 'miners', 10619: '913', 10620: 'high-minded', 10621: '41.60', 10622: '286', 10623: '2,099', 10624: 'fingers', 10625: 'b-1b', 10626: 'fracture', 10627: 'plaintive', 10628: '0.56', 10629: 'est', 10630: 'tendered', 10631: 'wrestling', 10632: 'pipes', 10633: '2.62', 10634: 'waivers', 10635: '1.24', 10636: 'grower', 10637: 'unconsolidated', 10638: '257', 10639: 'rechargeable', 10640: 'gloss', 10641: 'flies', 10642: 'sensational', 10643: 'feeds', 10644: 'carbon', 10645: 'assess', 10646: 'finalized', 10647: 'planted', 10648: '14.00', 10649: 'receipt', 10650: 'hud', 10651: 'rulers', 10652: 'peace', 10653: '5.82', 10654: 'platforms', 10655: 'simulates', 10656: 'manmade-fiber', 10657: 'amortization', 10658: 'hits', 10659: 'bronces', 10660: 'fairlawn', 10661: 'biedermann', 10662: '0.0085', 10663: 'upper', 10664: 'scrounge', 10665: 'attwood', 10666: 'microprocessor', 10667: 'fleet', 10668: '1988-89', 10669: 'eight-person', 10670: 'megabytes', 10671: 'toy', 10672: 'gripping', 10673: 'kilobytes', 10674: 'multinational', 10675: 'biaggi', 10676: 'plagued', 10677: 'exploded', 10678: 'icahn', 10679: 'fixed-price', 10680: '292.32', 10681: 'mandates', 10682: 'unresolved', 10683: 'hubbell', 10684: 'judah', 10685: 'difficulties', 10686: 'peddling', 10687: 'generous', 10688: 'scotland', 10689: 'revolves', 10690: 'distinct', 10691: 'tribe', 10692: 'mellon', 10693: 'territory', 10694: 'guber\\\\/peters', 10695: 'andean', 10696: 'resumption', 10697: 'texas-based', 10698: 'ancestry', 10699: 'sticky', 10700: '50.1', 10701: 'traveled', 10702: 'projections', 10703: 'pains', 10704: 'shepperd', 10705: 'convert', 10706: 'formation', 10707: 'bushel', 10708: 'trafficking', 10709: '92', 10710: 'bribed', 10711: 'islamic', 10712: 'launch-vehicle', 10713: 'g.m.b', 10714: 'diluted', 10715: 'lawmaking', 10716: 'equities', 10717: 'nonrecurring', 10718: '361.8', 10719: 'army', 10720: 'inter-tel', 10721: 'ingredients', 10722: 'nuys', 10723: 'nichol', 10724: 'spiegel', 10725: '1.14', 10726: 'customized', 10727: 'sagged', 10728: 'influencing', 10729: 'wallach', 10730: 'assassinated', 10731: 'intel', 10732: 'acquisition-minded', 10733: 'sanford', 10734: 'regardless', 10735: '275', 10736: 'guerrilla', 10737: 'noncompetitively', 10738: '70.2', 10739: 'plummeted', 10740: 'outlays', 10741: 'kingsbridge', 10742: '8.9', 10743: '1.637', 10744: 'pledged', 10745: 'balloting', 10746: 'adverse', 10747: 'anemic', 10748: 'avon', 10749: 'cartilage', 10750: 'socialism', 10751: 'muted', 10752: 'auspices', 10753: 'shared', 10754: 'full-year', 10755: 'helsinki', 10756: '576', 10757: 'defeated', 10758: 'permits', 10759: 'upjohn', 10760: 'nissan', 10761: 'spectrum', 10762: 'lorain', 10763: 'distributed', 10764: 'intelogic', 10765: 'exporter', 10766: '319.75', 10767: 'tete-a-tete', 10768: 'silver', 10769: 'violating', 10770: '6.6', 10771: 'confirm', 10772: 'reuter', 10773: 'grains', 10774: 'guber', 10775: 'mariotta', 10776: 'adjustment', 10777: 'protein-1', 10778: 'salinas', 10779: '326', 10780: 'tows', 10781: 'finnish', 10782: 'slated', 10783: 'jon', 10784: 'ratner', 10785: 'spaghetti', 10786: 'ignored', 10787: 'vital', 10788: '38.5', 10789: '0.54', 10790: 'allendale', 10791: 'cost-control', 10792: 'path', 10793: 'jacobs', 10794: 'dunkin', 10795: 'karns', 10796: '3.28', 10797: 'freedoms', 10798: 'meese', 10799: '5.70', 10800: 'induce', 10801: 'disputada', 10802: 'warehouses', 10803: 'garden-variety', 10804: 'trim', 10805: 'tidbits', 10806: 'lyn', 10807: '11.72', 10808: 'firmness', 10809: 'dunton', 10810: '6.50', 10811: 'carter', 10812: 'stick', 10813: 'semiliterate', 10814: 'receivers', 10815: '1.26', 10816: '1.56', 10817: 'printing-press', 10818: 'newspaper-printing', 10819: '126.1', 10820: 'permissible', 10821: 'sweaty', 10822: '1990-91', 10823: 'shipboard', 10824: '237-seat', 10825: 'auditors', 10826: '5.1', 10827: 'copper-rich', 10828: 'feeding', 10829: 'subcontractor', 10830: 'climb', 10831: 'impeding', 10832: '608,413', 10833: 'feniger', 10834: 'ports', 10835: 'rumor', 10836: '12.82', 10837: '2.30', 10838: 'rang', 10839: '158,666', 10840: 'supports', 10841: 'bushels', 10842: 'bombs', 10843: '1206.26', 10844: '34.625', 10845: 'irving', 10846: 'cluster', 10847: 'cake', 10848: 'conferees', 10849: 'fifth-largest', 10850: 'woolworth', 10851: 'genetics', 10852: 'yet-to-be-formed', 10853: 'stemmed', 10854: '55-a-share', 10855: 'blue-chips', 10856: 'graphics', 10857: '40.21', 10858: 'beall', 10859: 'periodontal', 10860: 'sandoz', 10861: 'inception', 10862: 'pipe', 10863: 'awaits', 10864: 'adam', 10865: '3.625', 10866: 'windfall', 10867: 'state-appointed', 10868: '12.52', 10869: 'scandals', 10870: 'bougainville', 10871: 'adjustments', 10872: 'matthew', 10873: 'peoria', 10874: 'oxnard', 10875: 'harvest', 10876: 'datapoint', 10877: 'salable', 10878: 'markkaa', 10879: 'mannix', 10880: '19.50', 10881: '967,809', 10882: 'deplorable', 10883: 'faltered', 10884: 'marathon', 10885: 'surrey', 10886: 'wertheim', 10887: 'professors', 10888: 'advocating', 10889: 'fizzled', 10890: 'workable', 10891: '14.53', 10892: '5.63', 10893: '170,262', 10894: 'avert', 10895: 'constitutional-law', 10896: 'gyrate', 10897: 'easy-to-read', 10898: '566.54', 10899: 'somewhat', 10900: '6.4', 10901: 'shaky', 10902: 'ingenuity', 10903: '88.32', 10904: 'slowed', 10905: 'brokering', 10906: 'realestate', 10907: 'miami-based', 10908: 'unitholders', 10909: 'wedtech', 10910: '387.8', 10911: 'implicitly', 10912: 'expressing', 10913: '80.50', 10914: '313', 10915: 'schroder', 10916: '0.84', 10917: 'strain', 10918: 'terrorists', 10919: 'reserved', 10920: '14.75', 10921: 'respectable', 10922: 'bag', 10923: 'developer', 10924: 'cancers', 10925: 'whenever', 10926: '85.7', 10927: 'pakistan', 10928: 'gillett', 10929: 'comparison', 10930: 'carl', 10931: 'reluctant', 10932: 'insurgents', 10933: 'withdrew', 10934: 'patch', 10935: '38.875', 10936: '14.28', 10937: 'beheading', 10938: 'binge', 10939: 'cross-border', 10940: '0.99', 10941: 'judgment', 10942: 'fe', 10943: 'third-largest', 10944: 'battered', 10945: 'puccio', 10946: '405', 10947: 'breezy'}\n",
      "{'eased': 1, 'should': 2, 'scenes': 3, 'standpoint': 4, 'flooded': 5, 'groucho': 6, 'candidate': 7, 'located': 8, 'leming': 9, 'strings': 10, 'navy': 11, 'cheerleading': 12, 'waiting': 13, 'plantation': 14, 'chile': 15, 'standard': 16, 'titans': 17, 'breaker': 18, 'kidnapping': 19, 'precise': 20, 'markey': 21, 'calif.': 22, 'rust': 23, 'careful': 24, 'onus': 25, '400,000': 26, 'economists': 27, 'twinned': 28, 'cigarettes': 29, 'country': 30, 'received': 31, 'roman': 32, 'administrators': 33, 'baker': 34, 'sen.': 35, 'u.s.': 36, 'spinoff': 37, 'quite': 38, 'executives': 39, 'bond': 40, 'stemming': 41, 'common': 42, 'grgich': 43, 'grapes': 44, 'friendship': 45, 'referring': 46, 'middle': 47, 'gates': 48, 'sacked': 49, '33': 50, 'nagymaros': 51, 'compiled': 52, 'headrests': 53, 'transaction': 54, 'presumably': 55, 'needham': 56, 'ready': 57, '500,004': 58, 'commerce': 59, 'addressing': 60, 'trucks': 61, 'concentrate': 62, 'edison': 63, 'christopher': 64, 'brokers': 65, 'governors': 66, 'mechanically': 67, 'drearier': 68, 'greatly': 69, 'assist': 70, '89.9': 71, 'outstrips': 72, 'champagnes': 73, 'torrent': 74, 'seat': 75, 'princely': 76, '2,000': 77, 'alarmed': 78, 'fetal': 79, 'vehicle': 80, 'disaffected': 81, 'fairly': 82, 'nobel': 83, 'reminded': 84, 'associates': 85, 'medicine': 86, '212': 87, 'unpleasant': 88, '353': 89, 'rekindled': 90, 'economical': 91, 'combat': 92, 'cutting': 93, 'griffin': 94, 'scientist': 95, 'carney': 96, 'card': 97, 'predicting': 98, 'lender': 99, 'secretary': 100, 'husband': 101, 'assistance': 102, 'palmer': 103, 'military': 104, 'vague': 105, '143.08': 106, 'nbc': 107, 'developments': 108, 'impudent': 109, 'requests': 110, 'trojan': 111, 'cared': 112, 'expelled': 113, 'surgeon': 114, 'triple': 115, 'bitterness': 116, 'loose': 117, 'litigation': 118, 'speaks': 119, 'soups': 120, 'word': 121, 'extramarital': 122, 'donald': 123, 'matched': 124, 'we-japanese': 125, 'imply': 126, '36': 127, 'mcgraw-hill': 128, '31': 129, \"'ve\": 130, 'baseball': 131, 'weigh': 132, 'responsibility': 133, '1983': 134, 'stoked': 135, 'would': 136, 'pirates': 137, 'unleashed': 138, 'worrying': 139, 'dry': 140, 'approval': 141, 'c.': 142, 'ghkm': 143, 'equal-opportunity': 144, '500-stock': 145, 'pass': 146, '1\\\\/10th': 147, 'noticing': 148, 'existing': 149, 'writers': 150, 'ring': 151, 'tested': 152, 'challenging': 153, 'victor': 154, 'balked': 155, 'define': 156, 'bring': 157, 'eagleton': 158, 'pursued': 159, 'ky.': 160, 'square': 161, 'underpin': 162, 'equally': 163, 'index-related': 164, 'stark': 165, 'hauled': 166, '8.53': 167, '150.00': 168, 'awfully': 169, 'indicates': 170, '64.5': 171, 'unbearably': 172, 'contends': 173, 'comment': 174, 'crunch': 175, 'captive': 176, 'interstate': 177, 'tarwhine': 178, 'withstand': 179, 'referrals': 180, 'trigger': 181, 'below': 182, 'replicating': 183, 'correcting': 184, 'jalaalwalikraam': 185, 'considered': 186, 'wheel-loader': 187, 'orville': 188, 'fabricate': 189, 'specialty': 190, \"'m\": 191, 'smartly': 192, 'industry': 193, 'excellence': 194, '29.4': 195, 'plo': 196, 'discordant': 197, 'disparate': 198, 'make': 199, 'cray': 200, 'prohibits': 201, 'restaurant': 202, 'years': 203, 'denying': 204, 'due': 205, 'seagate': 206, '9.5': 207, 'touchy': 208, '10.2': 209, 'third': 210, 'faithful': 211, 'track': 212, 'woman': 213, 'tallies': 214, 'disregard': 215, 'worries': 216, 'anticipating': 217, 'slides': 218, 'lake': 219, '20': 220, 'very': 221, 'dead': 222, '75': 223, 'sauvignon': 224, '46.1': 225, 'reinstating': 226, 'avoid': 227, 'infringed': 228, '90-cent-an-hour': 229, '$': 230, 'morale-damaging': 231, 'adjusted': 232, 'pull': 233, 'michio': 234, 'cray-3': 235, 'structures': 236, '3.9': 237, 'piece': 238, 'attacking': 239, 'numbered': 240, 'programming': 241, 'occupying': 242, 'kirkpatrick': 243, 'preliminary': 244, 'kearny': 245, 'pitches': 246, 'pattenden': 247, 'impose': 248, 'subscriptions': 249, 'to': 250, 'grace': 251, 'skilled': 252, 'house': 253, 'elected': 254, 'utah': 255, 'maxwell': 256, 'plays': 257, '2.875': 258, 'eliminate': 259, 'teacher-cadet': 260, 'phase': 261, 'south': 262, 'effect': 263, '38.3': 264, '133.7': 265, 'cozy': 266, 'overall': 267, 'status': 268, 'stated': 269, 'whiting': 270, 'assumption': 271, 'fishman': 272, 'principal': 273, '51.25': 274, '1.9': 275, 'represented': 276, 'unless': 277, 'high-stakes': 278, 'daniels': 279, 'meaning': 280, 'pc': 281, 'chief': 282, 'seen': 283, 'opponents': 284, 'fault': 285, '600,000': 286, 'denial': 287, 'resists': 288, 'danforth': 289, 'certain': 290, 'westborough': 291, 'stages': 292, 'wayland': 293, '17-year-old': 294, 'benefited': 295, 'school-sponsored': 296, 'bulls': 297, 'declining': 298, 'prize-fighter': 299, 'savings': 300, '10-day': 301, 'bells': 302, '1917': 303, 'behaving': 304, 'callers': 305, 'sheaf': 306, 'british': 307, 'contracted': 308, 'remained': 309, 'student-test': 310, 'punishment': 311, 'sacramento': 312, 'intention': 313, 'activities': 314, 'warning': 315, 'haney': 316, 'sacrificing': 317, 'italy': 318, 'chefs': 319, 'clerks': 320, '13': 321, 'pasta': 322, 'idea': 323, 'tea': 324, 'proposing': 325, 'pressures': 326, 'bailey': 327, 'numeral': 328, 'forest-product': 329, 'meant': 330, 'money-market': 331, 'kits': 332, 'semiconductor': 333, 'buckle': 334, 'awards': 335, 'cutbacks': 336, 'type': 337, 'seasonal': 338, 'disclosing': 339, 'capacity': 340, 'classes': 341, 'achieved': 342, 'prejudice': 343, 'neighborhood': 344, 'train': 345, 'calling': 346, 'chat': 347, 'triton': 348, 'filters': 349, 'crushed': 350, 'applications': 351, '82,389': 352, 'few': 353, 'napolitan': 354, 'leaders': 355, '98': 356, 'deterring': 357, 'raised': 358, 'newsweek': 359, 'live': 360, 'particulars': 361, 'proposals': 362, 'stretching': 363, 'closer': 364, 'anyone': 365, 'rural': 366, 'tobacco': 367, '21.9': 368, 'display': 369, 'surged': 370, 'mignon': 371, 'drobnick': 372, 'skipped': 373, 'felt': 374, 'hardly': 375, 'friendly': 376, 'from': 377, 'autumn': 378, '0.2': 379, 'projects': 380, 'encroaching': 381, 'talking': 382, 'four-year': 383, 'modification': 384, 'contributing': 385, 'slowing': 386, 'lackluster': 387, '``': 388, 'leapt': 389, 'count': 390, 'dan': 391, 'agents': 392, 'names': 393, 'qualify': 394, 'drove': 395, 'coming': 396, 'step': 397, 'dingell': 398, 'redemption': 399, 'vicars': 400, 'toys': 401, 'attracted': 402, 'stirred': 403, 'princeton': 404, 'behind': 405, '4,000': 406, 'technical': 407, 'inspirational': 408, 'two-sevenths': 409, 'troubled': 410, 'cask': 411, 'telling': 412, 'proper': 413, 'loved': 414, 'officials': 415, 'combinations': 416, 'judging': 417, 'greenville': 418, 'worthy': 419, 'regulatory': 420, 'evensong': 421, 'happen': 422, 'impressive': 423, 'nationwide': 424, 'were': 425, '11.5': 426, 'landis': 427, 'passbook': 428, 'maintained': 429, 'balls': 430, 'thus': 431, 'finance': 432, 'kids': 433, 'sensitive': 434, 'offer': 435, 'parallels': 436, 'acknowledging': 437, 'lately': 438, 'democrats': 439, 'lawyers': 440, 'detective-story': 441, 'aide': 442, 'tad': 443, 'purpose': 444, 'deteriorated': 445, 'mexico': 446, 'pratt': 447, 'ft-se': 448, 'milestone': 449, 'editor': 450, 'escort': 451, 'prepare': 452, '1986': 453, 'trends': 454, '86.12': 455, 'sole': 456, 'necessary': 457, 'return': 458, 'six': 459, 'succeeding': 460, 'entrants': 461, 'dividend': 462, 'easily': 463, 'next': 464, 'truthful': 465, 'counterparts': 466, 'fit': 467, '160': 468, 'gregory': 469, 'problem': 470, 'punitive': 471, 'closeness': 472, 'boom': 473, 'workers': 474, 'sabhavasu': 475, 'backed': 476, 'profitable': 477, 'discontent': 478, 'independent': 479, 'person': 480, 'mortgage-based': 481, 'ac-130u': 482, 'nekoosa': 483, '5.276': 484, 'marvelously': 485, 'stephanie': 486, 'peaks': 487, 'najarian': 488, 'unico': 489, 'supercilious': 490, 'sociology': 491, 'raring': 492, 'random': 493, 'compel': 494, 'conviction': 495, 'composer': 496, 'marietta': 497, 'tandy': 498, 'desktop': 499, 'former': 500, 'younger': 501, 'file': 502, 'steel': 503, 'lafite-rothschild': 504, 'afflicted': 505, 'no': 506, 'arm': 507, 'stood': 508, 'mutual': 509, '1966': 510, 'candidates': 511, 'neighborhoods': 512, 'despite': 513, 'flourish': 514, 'launch': 515, 'chardonnay': 516, 'weight': 517, 'acquired': 518, 'jefferson': 519, 'ongoing': 520, '467': 521, 'vargas': 522, 'academically': 523, 'climate': 524, 'security-type': 525, 'angelo': 526, 'episodes': 527, 'invested': 528, '2.29': 529, 'each': 530, 'dances': 531, 'pressed': 532, '400': 533, 'see': 534, 'investigation': 535, 'jovanovich': 536, 'grandstander': 537, 'fall': 538, 'burt': 539, 'inc.': 540, 'breach': 541, 'operated': 542, 'cash': 543, 'climbing': 544, 'ended': 545, 'size': 546, 'austere': 547, '234.4': 548, 'date': 549, 'long': 550, 'polyester': 551, 'spence': 552, 'trader': 553, '2.6': 554, 'barrels': 555, '59.6': 556, 'ire': 557, 'privilege': 558, 'assumed': 559, 'acquisition': 560, 'record-keeping': 561, '18': 562, 'pa.': 563, 'stays': 564, 'authority': 565, 'engineering': 566, 'hope': 567, 'declined': 568, 'research': 569, 'near-record': 570, 'deputy': 571, 'backer': 572, 'smaller': 573, 'large': 574, 'shorter': 575, 'contained': 576, 'whom': 577, 'carolina': 578, 'tricky': 579, 'obstacles': 580, 'further': 581, '3.35': 582, 'competed': 583, 'filmed': 584, 'charge': 585, 'roughly': 586, 'undisclosed': 587, '2.25': 588, 'tache': 589, 'mortgage': 590, 'protesters': 591, 'casts': 592, 'jointly': 593, 'took': 594, 'n.m.': 595, 'on': 596, 'frequency': 597, 'depending': 598, 'hiroshima': 599, '2019': 600, 'committees': 601, 'could': 602, 'comedies': 603, 'guinea': 604, 'takes': 605, 'tried': 606, 'exactly': 607, 'teenage': 608, 'rope': 609, 'improving': 610, 'fail': 611, 'ones': 612, 'rothschild': 613, 'angeles': 614, 'covered': 615, 'industrialized': 616, 'chevrolet': 617, 'organization': 618, 'instituted': 619, 'boyfriends': 620, 'dominus': 621, 'tv': 622, 'authorized': 623, 'enters': 624, 'list': 625, 'turning': 626, 'systems': 627, 'automotive-lighting': 628, 'plans': 629, 'interviewed': 630, 'roll': 631, 'new': 632, '3,288,453': 633, 'sake': 634, 'braun': 635, \"n't\": 636, 'resonate': 637, 'fare': 638, 'park': 639, 'stock': 640, 'one-country': 641, 'understood': 642, 'warren': 643, 'wake': 644, 'gauges': 645, 'union': 646, '1.28': 647, 'court': 648, '490': 649, 'regarding': 650, 'fabled': 651, 'routine': 652, '8.14': 653, 'wine-making': 654, 'prototype': 655, 'son': 656, 'child': 657, '93': 658, 'promissory': 659, 'minute': 660, 's.p': 661, 'exxon': 662, 'outcry': 663, 'renew': 664, 'suspended': 665, 'restructure': 666, 'mercer': 667, 'patricia': 668, 'who': 669, '12.5': 670, 'certainly': 671, 'rap': 672, 'enforcement': 673, 'positions': 674, 'ease': 675, 'forward': 676, 'selling': 677, 'prize': 678, 'aghast': 679, 'raw': 680, 'cru': 681, 'brownell': 682, 'belfry': 683, 'delay': 684, 'scholastic': 685, 'unattractive': 686, 'therapies': 687, 'smoke': 688, 'criminal': 689, 'sales': 690, 'miklos': 691, 'india': 692, 'stronger': 693, '1934': 694, 'lefcourt': 695, 'tramp': 696, 'anne': 697, 'snow': 698, 'rim': 699, 'davenport': 700, 'amphobiles': 701, 'materialistic': 702, 'kappa': 703, 'telephones': 704, 'entice': 705, 'appeals': 706, '10-lap': 707, 'madly': 708, 'answers': 709, 'number': 710, 'killed': 711, 'weakness': 712, 'university': 713, 'ushers': 714, '1960s': 715, 'extent': 716, 'named': 717, 'suggests': 718, 'prof': 719, '4.3': 720, 'logic': 721, 'keep': 722, 'office': 723, 'mushy': 724, 'letting': 725, 'improve': 726, 'videocassette': 727, 'fuentes': 728, 'codified': 729, 'sliding': 730, 'reflects': 731, 'his': 732, 'above': 733, 'disciplined': 734, 'existed': 735, 'amusing': 736, 'audit': 737, 'message': 738, 'generate': 739, 'quarters': 740, 'jamaica': 741, 'stadium': 742, 'screens': 743, 'act': 744, 'heads': 745, 'wpp': 746, 'grade': 747, 'metals': 748, 'paper': 749, 'striking': 750, '22.75': 751, 'neil': 752, 'acceded': 753, 'invent': 754, 'also': 755, 'houses': 756, '63-year-old': 757, 'prefecture': 758, 'crowd': 759, 'cdc': 760, 'speed': 761, 'disagreeable': 762, 'promoting': 763, 'quitting': 764, 'handle': 765, 'tired': 766, 'provide': 767, 'long-term': 768, 'metric': 769, 'electric': 770, 'stock-market': 771, 'xiaoping': 772, 'german': 773, '1.55': 774, 'drop-off': 775, 'produced': 776, 'fold': 777, '-lrb-': 778, 'thrifts': 779, '53': 780, 'ramirez': 781, 'billed': 782, 'jacksonville': 783, 'senate': 784, 'antonio': 785, 'disciplinary': 786, 'greatest': 787, 'surplus': 788, 'main': 789, 'separate': 790, 'beaten': 791, 'drives': 792, 'ultimately': 793, 'accumulated': 794, 'heightened': 795, 'objectives': 796, 'capsules': 797, 'patents': 798, 'bases': 799, 'concluded': 800, 'holding': 801, 'raising': 802, 'central': 803, 'landfill': 804, 'replies': 805, '214': 806, 'across': 807, \"''\": 808, 'faculty': 809, 'lesser': 810, 'adopting': 811, 'dobson': 812, 'competitors': 813, 'pitcher': 814, 'multilevel': 815, 'locked': 816, 'blip': 817, 'sell': 818, 'prolonged': 819, 'condemned': 820, 'political': 821, 'strong': 822, 'fax': 823, 'pretax': 824, 'farren': 825, '3.80': 826, 'ministry': 827, 'format': 828, 'teddy': 829, 'willing': 830, 'incident': 831, 'sites': 832, 'asset': 833, 'retired': 834, 'writing': 835, 'security': 836, 'communication': 837, 'professional': 838, 'ibc': 839, 'totally': 840, 'acts': 841, 'reagan': 842, 'class': 843, 'preset': 844, '2.1': 845, 'lauderhill': 846, '40': 847, 'abortion': 848, 'schoolteacher': 849, 'u.s.s.r.': 850, 'morita': 851, 'earn': 852, '99.1': 853, 'mr.': 854, 'french': 855, 'merrill': 856, 'casting': 857, 'mayor': 858, 'awarding': 859, 'defended': 860, 'basis': 861, 'chemplus': 862, 'salmore': 863, 'compare': 864, 'continued': 865, 'opinion': 866, 'baldwin': 867, 'serve': 868, 'samnick': 869, 'element': 870, 'fountain': 871, 'exercised': 872, 'marchese': 873, 'reins': 874, 'lowest': 875, 'slate': 876, 'boys': 877, 'switching': 878, 'ask': 879, 'stepped': 880, 'builds': 881, 'leroy': 882, 'blind': 883, 'equipped': 884, 'direct-investment': 885, '36-minute': 886, 'subscriber': 887, 'watson': 888, 'week': 889, 'owned': 890, 'manfred': 891, 'swing': 892, 'formed': 893, 'term': 894, '26.2': 895, 'tokyo': 896, 'predecessor': 897, 'vitulli': 898, 'dead-eyed': 899, 'helping': 900, 'hara': 901, 'shuxian': 902, 'harassment': 903, 'smelting': 904, 'businessman': 905, 'ancient': 906, 'contracts': 907, 'dugdale': 908, 'bold': 909, 'encounter': 910, 'foreign-stock': 911, 'invades': 912, 'semesters': 913, 'massacre': 914, 'blow': 915, 'formula': 916, 'mitsubishi': 917, 'pick-up': 918, 'caused': 919, 'nicole': 920, 'enright': 921, 'goal': 922, '40-year-old': 923, 'checking': 924, 'emile': 925, 'foreigners': 926, 'everyone': 927, 'coxon': 928, 'populated': 929, 'within': 930, 'briefing': 931, 'demand': 932, 'analysts': 933, 'game': 934, '77,000': 935, 'whelen': 936, '9.45': 937, 'rule': 938, '300': 939, 'rich': 940, 'looking': 941, 'conference': 942, 'williams': 943, 'unwashed': 944, 'classics': 945, 'united': 946, 'shelby': 947, 'customer': 948, 'derel': 949, 'needle-like': 950, 'elderly': 951, 'trades': 952, 'five-point': 953, 'facial': 954, 'estates': 955, 'no.': 956, 'stakes': 957, 'starts': 958, 'currencies': 959, 'clive': 960, 'wrong': 961, 'mental': 962, 'biscayne': 963, 'much': 964, 'par': 965, 'literary': 966, '325,000': 967, 'congressmen': 968, 'rival': 969, 'worry': 970, 'heartland': 971, 'rockwell': 972, 'ca': 973, 'important': 974, 'enacted': 975, 'caught': 976, 'specialist': 977, 'reports': 978, 'acceptance': 979, 'executing': 980, 'sunny': 981, 'surprise': 982, '125': 983, 'replacement-car': 984, 'lengthen': 985, 'realized': 986, 'pushing': 987, 'foam': 988, '352.7': 989, 'offering': 990, 'northy': 991, 'fighting': 992, 'bob': 993, 'social-studies': 994, 'fixed-rate': 995, 'kindergarten': 996, 'jacob': 997, '63': 998, 'hong': 999, 'wilfred': 1000, 'journal': 1001, 'kit': 1002, 'spend': 1003, 'relation': 1004, 'observations': 1005, 'pushes': 1006, 'negotiating': 1007, 'tenn.': 1008, 'merge': 1009, 'foul': 1010, 'chrysotile': 1011, 'software': 1012, 'dallas': 1013, 'dismissed': 1014, 'hoffman': 1015, 'shareholder': 1016, 'reviewing': 1017, 'olsen': 1018, 'characterizing': 1019, 'bankruptcy': 1020, '1979': 1021, 'delivery': 1022, 'petrus': 1023, 'interested': 1024, 'stand': 1025, 'committing': 1026, 'elizabeth': 1027, 'equity': 1028, 'resume': 1029, 'summer\\\\/winter': 1030, 'york-based': 1031, 'dam': 1032, 'pro-choice': 1033, 'speculators': 1034, 'investor': 1035, 'wages': 1036, 'actual': 1037, 'career': 1038, 'extraordinary': 1039, 'chamber': 1040, 'passed': 1041, 'mass.': 1042, 'reflection': 1043, 'these': 1044, 'believed': 1045, 'output': 1046, 'plunge': 1047, 'nonetheless': 1048, 'slump': 1049, 'jews': 1050, 'offender': 1051, 'camera': 1052, '37.3': 1053, 'successful': 1054, 'urge': 1055, 'lent': 1056, 'larger': 1057, 'gerard': 1058, 'yen-denominated': 1059, 'spokewoman': 1060, 'noting': 1061, 'receipts': 1062, 'fragmentation': 1063, 'perpetuate': 1064, 'spin-off': 1065, 'seem': 1066, 'modify': 1067, 'lesions': 1068, 'valhi': 1069, 'acquisitions': 1070, 'feelings': 1071, 'kathryn': 1072, 'nasd': 1073, 'unfair-trade': 1074, 'advised': 1075, 'robustly': 1076, 'manufacture': 1077, 'rise': 1078, 'rejected': 1079, '36.9': 1080, 'altruistic': 1081, 'sells': 1082, 'third-highest': 1083, 'peck': 1084, 'ronald': 1085, 'lawsuits': 1086, 'needed': 1087, 'doubled': 1088, 'suppliers': 1089, '47.6': 1090, 'guilty': 1091, 'rarely': 1092, 'mailed': 1093, 'meal': 1094, 'democratic': 1095, '497.34': 1096, 'houston': 1097, 'unauthorized': 1098, 'hotel': 1099, 'harped': 1100, 'halts': 1101, 'kligman': 1102, 'georgia-pacific': 1103, 'joint': 1104, 'suing': 1105, 'images': 1106, 'food-shop': 1107, 'reciting': 1108, 'ads': 1109, 'asset-sale': 1110, 'mathematical': 1111, 'ban': 1112, 'burlap': 1113, 'slowdown': 1114, 'advisory': 1115, 'retin-a': 1116, 'billionaire': 1117, 'breakers': 1118, 'spotted': 1119, 'picture': 1120, 'belonging': 1121, '75-year-old': 1122, 'ethical': 1123, 'inadequacy': 1124, 'duckling': 1125, 'language': 1126, 'wa': 1127, 'expects': 1128, 'special': 1129, 'so': 1130, 'belfries': 1131, 'disturbing': 1132, 'search-and-seizure': 1133, 'powder': 1134, 'dust': 1135, 'customers': 1136, 'pat': 1137, 'faded': 1138, 'firms': 1139, 'boast': 1140, 'parkinson': 1141, 'pleased': 1142, 'calculations': 1143, 'converting': 1144, 'assured': 1145, 'signal': 1146, 'sorting': 1147, '49': 1148, 'representative': 1149, 'watch': 1150, 'tone': 1151, 'test-preparation': 1152, 'issuing': 1153, 'ms.': 1154, 'situation': 1155, 'growths': 1156, 'real-estate': 1157, 'earned': 1158, 'backlogs': 1159, 'hatch': 1160, 'prosecutor': 1161, 'viewers': 1162, 'different': 1163, 'so-called': 1164, 'buyers': 1165, 'moreover': 1166, 'walkman': 1167, 'resignation': 1168, 'removal': 1169, 'combo': 1170, 'residence': 1171, 'works': 1172, 'lay': 1173, 'include': 1174, 'intelligence': 1175, 'pharmaceutical': 1176, 'prestige': 1177, 'attempt': 1178, 'they': 1179, 'punish': 1180, 'example': 1181, 'high-rise': 1182, 'seeking': 1183, 'entertainment': 1184, '93,000': 1185, 'rbc': 1186, 'prestigious': 1187, 'nbc-owned': 1188, 'concerns': 1189, 'exposure': 1190, 'hopes': 1191, 'test': 1192, 'bend': 1193, 'threatened': 1194, 'booklets': 1195, 'sanctions': 1196, 'serving': 1197, 'martyr': 1198, 'czechoslovakia': 1199, 'perspective': 1200, 'guided': 1201, 'congressman': 1202, 'regulating': 1203, 'sci': 1204, 'integra': 1205, 'philippine': 1206, 'industry-wide': 1207, 'personal': 1208, 'sketch': 1209, 'space': 1210, 'periods': 1211, 'into': 1212, 'insist': 1213, 'hustlers': 1214, 'protests': 1215, 'parents': 1216, '8.19': 1217, 'places': 1218, 'upstream': 1219, 'area': 1220, 'resubmit': 1221, 'fernando': 1222, 'wild': 1223, 'adequately': 1224, 'advertise': 1225, 'converted': 1226, 'attorneys': 1227, 'bags': 1228, 'youngsters': 1229, 'consolidated': 1230, 'wilcox': 1231, 'acetate': 1232, 'refunds': 1233, 'raton': 1234, 'clerics': 1235, '73': 1236, 'rubicam': 1237, 'pine': 1238, '139': 1239, 'lagging': 1240, 'somerset': 1241, 'institutions': 1242, 'pate': 1243, '28.4': 1244, 'dealers': 1245, 'clearing': 1246, 'delete': 1247, '77.56': 1248, 'car-safety': 1249, 'double-digit': 1250, 'raleigh': 1251, 'rest': 1252, 'with': 1253, 'complain': 1254, 'illuminating': 1255, 'unintelligible': 1256, 'core': 1257, '72.7': 1258, 'dana-farber': 1259, 'bill': 1260, 'was': 1261, 'entertaining': 1262, 'clears': 1263, 'health': 1264, 'funds': 1265, 'n.h.': 1266, 'solved': 1267, 'protest': 1268, 'supposedly': 1269, 'ritual': 1270, 'checks': 1271, 'originally': 1272, 'nationale': 1273, 'sundays': 1274, 'trailed': 1275, 'red-blooded': 1276, 'pricing': 1277, 'already': 1278, 'previous': 1279, 'nightmare': 1280, 'counseling': 1281, 'accessories': 1282, 'aisles': 1283, 'aloha': 1284, 'bridgestone\\\\/firestone': 1285, 'statement': 1286, 'promotions': 1287, 'sometimes-exhausting': 1288, 'cooper': 1289, 'ventilated': 1290, 'intellectual': 1291, 'temptation': 1292, 'nih': 1293, 'dust-up': 1294, 'language-housekeeper': 1295, 'adding': 1296, 'out': 1297, 'couple': 1298, 'orchestra': 1299, 'philippines': 1300, 'beta': 1301, 'limit': 1302, 'filing': 1303, 'requested': 1304, 'regional': 1305, 'utility': 1306, 'haut-brion': 1307, 'scowcroft': 1308, 'tidily': 1309, 'spark': 1310, 's&l': 1311, '2.2': 1312, 'designed': 1313, 'become': 1314, 'simply': 1315, 'retaining': 1316, 'indictment': 1317, 'novello': 1318, 'favorite': 1319, 'ala.': 1320, 'deemed': 1321, 'savers\\\\/investors': 1322, '45': 1323, 'disapprove': 1324, 'evoke': 1325, 'publicly': 1326, 'homebrew': 1327, '188': 1328, 'yang': 1329, 'dale': 1330, 'rash': 1331, 'billion': 1332, 'mention': 1333, '118.6': 1334, 'powwow': 1335, 'early': 1336, 'colleagues': 1337, 'calif': 1338, 'poorly': 1339, 'zuckerman': 1340, 'driscoll': 1341, 'internatonal': 1342, 'worker': 1343, 'refunding': 1344, 'tradition': 1345, '23.72': 1346, 'blamed': 1347, 'providing': 1348, 'human': 1349, 'branches': 1350, '520-lawyer': 1351, 'red-and-white': 1352, '5.39': 1353, 'general': 1354, 'material': 1355, 'enlarged': 1356, 'caters': 1357, 'liberation': 1358, 'entitles': 1359, 'reinvestment': 1360, 'talcott': 1361, 'seriously': 1362, 'yen': 1363, 'reached': 1364, 'distinguished': 1365, 'spouse': 1366, 'skidded': 1367, 'soviet': 1368, 'appropriate': 1369, 'jack': 1370, 'build': 1371, 'small-company': 1372, 'prosecution': 1373, 'concentrated': 1374, 'huxtable': 1375, 'exclusion': 1376, 'wtvj': 1377, 'perfectly': 1378, 'one-third': 1379, 'compared': 1380, 'soul': 1381, 'speech': 1382, 'statute': 1383, 'barred': 1384, 'intense': 1385, 'barrel': 1386, 'amounted': 1387, 'clarify': 1388, 'busiest': 1389, 'prosecuting': 1390, 'traffic': 1391, 'lufkin': 1392, 'repayment': 1393, 'dominion': 1394, \"'ll\": 1395, 'heated': 1396, 'adolph': 1397, 'circle': 1398, 'unjust': 1399, 'yielding': 1400, 'fuller': 1401, 'plants': 1402, 'instances': 1403, 'jet': 1404, 'salomon': 1405, 'differ': 1406, 'property': 1407, 'radio': 1408, 'houghton': 1409, 'eventually': 1410, 'quoted': 1411, 'lezovich': 1412, '3-4': 1413, 'manufacturing': 1414, 'are': 1415, 'giveaways': 1416, 'election': 1417, 'outpaced': 1418, 'observing': 1419, 'processors': 1420, 'oversee': 1421, '1991': 1422, 'business': 1423, 'ethel': 1424, 'ripen': 1425, 'inched': 1426, 'wash.': 1427, '8300s': 1428, 'subsidiary': 1429, 'proponent': 1430, 'upside': 1431, 'four-color': 1432, 'turnover': 1433, 'listed': 1434, 'indiana': 1435, '500,000': 1436, '9.8': 1437, 'driskill': 1438, 'ginsberg': 1439, 'irony': 1440, 'regard': 1441, 'cargo': 1442, 'seventh': 1443, 'introduce': 1444, 'strategies': 1445, 'conduit': 1446, 'macmillan\\\\/mcgraw-hill': 1447, 'big-ticket': 1448, 'regulate': 1449, 'areas': 1450, 'attract': 1451, 'involves': 1452, 'otc': 1453, 'barrier': 1454, 'justify': 1455, 'france': 1456, 'botched': 1457, 'stem': 1458, 'offense': 1459, 'character': 1460, 'photos': 1461, 'classmates': 1462, 'mid-size': 1463, 'interference': 1464, 'ohio': 1465, 'chip': 1466, 'slowdowns': 1467, 'cotran': 1468, 'against': 1469, 'humble': 1470, 'advertisements': 1471, 'minimal': 1472, 'called': 1473, 'dropped': 1474, 'teams': 1475, 'posting': 1476, 'savvier': 1477, 'creek': 1478, 'financing': 1479, 'ctb': 1480, 'old': 1481, 'warsaw': 1482, 'brings': 1483, 'corton-charlemagne': 1484, 'presented': 1485, 'lasting': 1486, 'atlantic': 1487, 'vacation': 1488, 'liberty': 1489, 'lt.': 1490, 'pinocchio': 1491, 'city': 1492, 'turmoil': 1493, 'spielvogel': 1494, 'recommended': 1495, 'immediate': 1496, 'macheski': 1497, 'mike': 1498, 'fears': 1499, 'needs': 1500, 'man': 1501, 'dorothy': 1502, 'polyproplene': 1503, 'unloaded': 1504, 'drug': 1505, 'goodman': 1506, 'unpublished': 1507, 'glory': 1508, 'phony': 1509, 'kaminski': 1510, 'us': 1511, ';': 1512, '266': 1513, 'non-encapsulating': 1514, 'royalty': 1515, 'entitled': 1516, 'discredit': 1517, 'battle': 1518, 'followed': 1519, 'stock-index': 1520, 'training': 1521, 'harmony': 1522, 'recalling': 1523, 'communications': 1524, 'particular': 1525, 'oblivion': 1526, 'building-products': 1527, 'prepayment': 1528, 'yearly': 1529, 'starting': 1530, 'turf': 1531, 'orders': 1532, 'suddenly': 1533, 'refusal': 1534, '1984': 1535, 'chinese-american': 1536, 'because': 1537, 'cure': 1538, '446.62': 1539, 'ceos': 1540, 'disembodied': 1541, 'sugarman': 1542, 'channel': 1543, 'courage': 1544, 'package': 1545, 'touch': 1546, 'commonwealth': 1547, 'prove': 1548, 'upheld': 1549, 'fledgling': 1550, 'cellars': 1551, 'discussed': 1552, 'administration': 1553, 'crib': 1554, 'computer-system-design': 1555, 'shareholders': 1556, 'take': 1557, 'dill': 1558, 'eating': 1559, 'installment': 1560, 'stocks': 1561, 'futures': 1562, 'equal': 1563, 'departure': 1564, 'disclosed': 1565, 'foundation': 1566, 'ounce': 1567, 'standardized': 1568, 'existence': 1569, 'hitting': 1570, 'taught': 1571, 'cost': 1572, 'saitama': 1573, 'sought': 1574, 'bottom': 1575, 'four-year-old': 1576, 'desperately': 1577, 'filed': 1578, 'managed': 1579, 'biondi-santi': 1580, 'h.': 1581, 'education': 1582, 'maybe': 1583, 'commission': 1584, 'measure': 1585, 'accounts': 1586, 'pamela': 1587, 'f.': 1588, 'survival': 1589, 'rout': 1590, 'blinks': 1591, 'creativity': 1592, 'upturn': 1593, 'traders': 1594, 'kicked': 1595, 'uses': 1596, 'hayne': 1597, 'spenders': 1598, 'alternatives': 1599, 'serviced': 1600, 'decades': 1601, 'bullets': 1602, 'mundane': 1603, 'factory': 1604, 'antitrust-law': 1605, 'follows': 1606, 'sharper': 1607, 'elsevier': 1608, 'mo': 1609, 'sophisticated': 1610, '620': 1611, 'computer-driven': 1612, 'beer-belly': 1613, 'inaccurately': 1614, 'ltd.': 1615, 'rice': 1616, 'treatment': 1617, 'one-month': 1618, 'quarterly': 1619, 'visit': 1620, 'boca': 1621, 'established': 1622, 'tenfold': 1623, 'allegedly': 1624, 'this': 1625, 'shrum': 1626, 'expired': 1627, 'secured': 1628, 'secilia': 1629, 'stories': 1630, 'loaded': 1631, 'c-90': 1632, 'manufactured': 1633, 'skinner': 1634, 'invariably': 1635, 'safe': 1636, 'may': 1637, 'heritage': 1638, 'enabled': 1639, 'opposed': 1640, 'confidential': 1641, 'jumped': 1642, 'asked': 1643, 'goode': 1644, 'lifting': 1645, 'more': 1646, 'reprove': 1647, 'mobster': 1648, 'marketing': 1649, 'czech': 1650, 'appeal': 1651, 'anxious': 1652, 'tom': 1653, 'marc': 1654, 'information': 1655, 'related': 1656, 'unabated': 1657, 'nov.': 1658, 'stamford': 1659, 'only': 1660, '1977': 1661, 'capital-gains': 1662, 'corp.': 1663, 'sheets': 1664, 'turned': 1665, 'excessively': 1666, 'jumping': 1667, '331,000': 1668, 'deregulation': 1669, 'vote': 1670, 'thought': 1671, 'viewed': 1672, 'nagano': 1673, 'notice': 1674, 'increases': 1675, 'curly': 1676, 'royal': 1677, '2.4': 1678, 'water-authority': 1679, 'lure': 1680, 'premises': 1681, 'relations': 1682, 'fueled': 1683, 'maintenance': 1684, 'painewebber': 1685, 'savings-and-loan': 1686, 'give': 1687, 'doors': 1688, 'tissue': 1689, 'incest': 1690, 'makato': 1691, 'likely': 1692, 'face': 1693, 'then': 1694, 'anti-abortionists': 1695, 'prime': 1696, 'lucrative': 1697, 'stanford': 1698, 'gardner': 1699, 'accurately': 1700, 'rifles': 1701, '23,000': 1702, 'harris': 1703, '9': 1704, 'sex': 1705, 'bell': 1706, 'knapp': 1707, 'tube': 1708, 'stereotyped': 1709, 'lacked': 1710, 'manipulate': 1711, 'parallel': 1712, 'kentucky': 1713, 'two-letter': 1714, 'manufacturers': 1715, 'wildly': 1716, 'hampered': 1717, 'peter': 1718, 'money-fund': 1719, 'moleculon': 1720, 'berson': 1721, 'collections': 1722, 'province': 1723, 'p.': 1724, 'taxpayer': 1725, 'cutrer': 1726, 'hazardous': 1727, 'perch': 1728, 'germany': 1729, 'indianapolis': 1730, 'account': 1731, 'full': 1732, 'locally': 1733, 'mcleod': 1734, 'victims': 1735, 'title': 1736, 'wayne': 1737, 'sent': 1738, 'light': 1739, 'minor': 1740, 'submit': 1741, 'torrington': 1742, 'baltimore': 1743, 'borrowers': 1744, 'directors': 1745, 'harpo': 1746, 'abuse': 1747, 'vagrant': 1748, 'ninth': 1749, '3.2': 1750, 'advances': 1751, 'stoppage': 1752, 'murray': 1753, 'reforms': 1754, 'plant': 1755, 'southern': 1756, '18,444': 1757, 'exhaust': 1758, 'sandra': 1759, 'calls': 1760, 'tanked': 1761, 'subscription': 1762, 'landor': 1763, 'them': 1764, 'wins': 1765, 'evening': 1766, 'unaware': 1767, 'burgundies': 1768, 'heidelberg': 1769, 'purchased': 1770, 'plunged': 1771, 'regulators': 1772, 'partisan': 1773, 'semiannual': 1774, 'lunch': 1775, 'utsumi': 1776, 'faced': 1777, '5,000': 1778, 'milked': 1779, 'mend': 1780, 'virtues': 1781, 'realize': 1782, 'cosby': 1783, 'world': 1784, 'exploit': 1785, 'things': 1786, 'drawbacks': 1787, 'past': 1788, 'save': 1789, 'season': 1790, 'greenmailer': 1791, 'sights': 1792, 'reflect': 1793, 'family-planning': 1794, 'watchers': 1795, 'merged': 1796, 'jeffrey': 1797, 'sectors': 1798, 'bentsen': 1799, 'fragile': 1800, 'cultural': 1801, 'commodity': 1802, 'product': 1803, 'yquem': 1804, 'bernstein': 1805, 'embroiled': 1806, 'doing': 1807, 'less': 1808, 'dinkins': 1809, 'esso': 1810, 'heavy-duty': 1811, 'richard': 1812, 'oldest': 1813, 'newsstands': 1814, 'interesting': 1815, 'balance': 1816, 'petulant': 1817, 'commitments': 1818, 'bordeaux': 1819, 'active': 1820, 'discuss': 1821, 'recycled': 1822, 'approve': 1823, 'marching': 1824, 'brooklyn': 1825, 'gains': 1826, 'although': 1827, 'participation': 1828, 'clearly': 1829, '2645.90': 1830, 'forum': 1831, 'purchases': 1832, 'espouse': 1833, 'disruptive': 1834, 'bat': 1835, 'equip': 1836, 'mirrors': 1837, 'revenue': 1838, 'quotas': 1839, 'eyes': 1840, 'robertson': 1841, 'cheerleaders': 1842, 'p.m': 1843, 'option': 1844, 'corp': 1845, 'stronach': 1846, 'mcdermott': 1847, 'players': 1848, 'voluntarily': 1849, 'tilt': 1850, 'incentive-bonus': 1851, 'seymour': 1852, 'soviets': 1853, 'spent': 1854, 'export': 1855, 'powers': 1856, 'aug.': 1857, 'defendant': 1858, '62': 1859, 'belt': 1860, '13.5': 1861, 'expressed': 1862, 'invention': 1863, 'tapes': 1864, 'impression': 1865, 'vegas': 1866, 'talks': 1867, 'fire': 1868, '60': 1869, 'batting': 1870, 'college': 1871, 'seven-day': 1872, 'rectified': 1873, 'along': 1874, 'sullivan': 1875, 'burgundy': 1876, 'commercials': 1877, '58': 1878, 'eager': 1879, 'debentures': 1880, 'kingdom': 1881, 'curled': 1882, 'steal': 1883, 'underwriters': 1884, '3.19': 1885, 'ordeal': 1886, 'scientific': 1887, 'hoosier': 1888, 'remainder': 1889, 'miller': 1890, 'wafa': 1891, 'targets': 1892, 'worsening': 1893, 'between': 1894, 'attracts': 1895, 'weighed': 1896, 'tally': 1897, 'heavy': 1898, 'replicated': 1899, 'times': 1900, 'idiomatic': 1901, 'several': 1902, 'infusion': 1903, 'mainland': 1904, 'tigers': 1905, '1920s': 1906, 'wfrr': 1907, 'playwright': 1908, 'vice': 1909, 'wherewithal': 1910, 'mode': 1911, 'harbinger': 1912, 'chiodo': 1913, 'sound': 1914, 'servicing': 1915, 'fresh': 1916, 'on-campus': 1917, 'compatible': 1918, 'fixtures': 1919, 'worms': 1920, 'buildings': 1921, 'knew': 1922, 'f.w.': 1923, 'palestinian': 1924, 'skokie': 1925, 'deluxe': 1926, 'perfection': 1927, 'building': 1928, 'passage': 1929, 'discussing': 1930, 'expect': 1931, \"c'mon\": 1932, 'scarce': 1933, 'allen': 1934, 'schaefer': 1935, 'lore': 1936, 'affairs': 1937, 'ore.': 1938, 'strongest': 1939, 'year-long': 1940, 'improved': 1941, 'mousseline': 1942, 'insight': 1943, 'handled': 1944, 'hampton': 1945, ':': 1946, 'hutton': 1947, 'myriad': 1948, 'hartford': 1949, 'shame': 1950, '52': 1951, 'rick': 1952, 'discarded': 1953, '70': 1954, '1955': 1955, 'pursue': 1956, 'band': 1957, 'walters': 1958, 'tend': 1959, '8300': 1960, 'top-yielding': 1961, 'themselves': 1962, 'aimed': 1963, 'three-digit': 1964, 'announced': 1965, 'slack': 1966, 'cold': 1967, 'sec': 1968, 'nemeth': 1969, 'shoulder': 1970, '5.5': 1971, 'children': 1972, 'va.': 1973, 'maturities': 1974, 'subject': 1975, 'rankin': 1976, 'composite': 1977, 'check': 1978, 'nice': 1979, 'merchants': 1980, 'lobo': 1981, 'bull': 1982, 'competition': 1983, 'veselich': 1984, 'negotiated': 1985, 'nixon': 1986, '35.7': 1987, 'fierce': 1988, 'deaths': 1989, 'being': 1990, 'plan': 1991, 'tailors': 1992, 'maintaining': 1993, 'aptitude': 1994, 'good': 1995, 'dancing': 1996, 'expenditures': 1997, 'transacting': 1998, 'drooled': 1999, 'jump': 2000, 'wheels': 2001, 'nuclear': 2002, 'just': 2003, 'inheritor': 2004, 'three-quarters': 2005, 'restructuring': 2006, 'laughing': 2007, 'low-altitude': 2008, 'describes': 2009, 'angry': 2010, 'roederer': 2011, 'big-time': 2012, 'reserve': 2013, 'diagram': 2014, '3.6': 2015, 'intellectual-property': 2016, 'anti-takeover': 2017, 'fast': 2018, 'shangkun': 2019, 'gaf': 2020, 'objective': 2021, 'hard-drinking': 2022, 'afterwards': 2023, 'salon': 2024, 'maximum': 2025, 'letters': 2026, 'seven': 2027, 'proof': 2028, 'imposed': 2029, 'n.': 2030, 'suspects': 2031, 'juvenile': 2032, 'clients': 2033, '8.47': 2034, 'four': 2035, 'fighters': 2036, '250,000': 2037, 'authorities': 2038, 'similar': 2039, 'kong': 2040, 'asserted': 2041, '4,645': 2042, 'high-balance': 2043, 'reputation': 2044, 'manufacturer': 2045, 'decision': 2046, 'major': 2047, 'deal': 2048, 'non-core': 2049, '78': 2050, 'proprietor': 2051, 'self-perpetuating': 2052, 'gas': 2053, 'defeats': 2054, 'zone': 2055, 'speculation': 2056, 'domaine': 2057, 'nec': 2058, 'aspires': 2059, 'immediately': 2060, 'year-earlier': 2061, 'respond': 2062, 'reames': 2063, 'need': 2064, 'surfaced': 2065, 'sunday': 2066, 'fairness': 2067, 'optical': 2068, 'knows': 2069, 'j.l.': 2070, 'unions': 2071, 'vehicles': 2072, 'spurred': 2073, 'slide': 2074, 'joint-venture': 2075, 'involved': 2076, 'damages': 2077, 'yellow': 2078, 'days': 2079, 'toast': 2080, 'imagine': 2081, 'spirit': 2082, 'islands': 2083, 'environments': 2084, 'stressed': 2085, 'westminster': 2086, 'environmentalists': 2087, 'legend': 2088, 'terrace': 2089, 'sauternes': 2090, 'discos': 2091, 'confused': 2092, 'louis': 2093, 'medium-sized': 2094, 'era': 2095, 'wait': 2096, 'auto': 2097, 'museum': 2098, 'arrows': 2099, 'startling': 2100, 'volume': 2101, 'again': 2102, 'e.c.': 2103, 'abide': 2104, '2.50': 2105, 'resist': 2106, 'passion': 2107, '16.125': 2108, 'pulp': 2109, 'attorney': 2110, '-rcb-': 2111, 'pair': 2112, 'vs.': 2113, 'integra-a': 2114, 'controlling': 2115, 'link': 2116, 'phi': 2117, 'postponed': 2118, 'hook': 2119, 'riserva': 2120, 'chemical': 2121, 'dollars': 2122, 'additional': 2123, 'diversified': 2124, 'decisions': 2125, 'albuquerque': 2126, 'form': 2127, 'memory': 2128, 'ag': 2129, 'woodrow': 2130, 'yasser': 2131, 'borrowing': 2132, 'reason': 2133, 'crackdown': 2134, 'fell': 2135, 'whas': 2136, 'byron': 2137, 'best': 2138, 'agree': 2139, 'rung': 2140, 'management': 2141, 'disgorge': 2142, 'halve': 2143, 'influential': 2144, 'fancy': 2145, 'bills': 2146, 'two-week': 2147, 'observed': 2148, 'hierarchical': 2149, '14': 2150, 'sued': 2151, 'pulled': 2152, 'commit': 2153, 'collaborated': 2154, 'puts': 2155, 'using': 2156, 'newcomer': 2157, 'asian': 2158, 'boomers': 2159, 'tempts': 2160, '115': 2161, 'subcommittee': 2162, 'landing': 2163, 'positive': 2164, 'nelms': 2165, 'palisades': 2166, 'inner': 2167, 'both': 2168, 'inadequate': 2169, 'installing': 2170, 'manchester': 2171, 'simmons': 2172, 'twice': 2173, '1.6': 2174, 'richmond': 2175, 'findings': 2176, 'perignon': 2177, 'interjects': 2178, 'expands': 2179, 'signed': 2180, 'stake': 2181, 'cote': 2182, 'published': 2183, '2,700': 2184, 'subordinated': 2185, 'novelist': 2186, 'hurley': 2187, 'entrench': 2188, 'instruction': 2189, 'operations': 2190, 'confidence': 2191, 'coca-cola': 2192, 'expand': 2193, 'college-bowl': 2194, 'side-crash': 2195, 'delwin': 2196, 'redeploy': 2197, '25.6': 2198, 'murdered': 2199, 'cabernet': 2200, 'oil': 2201, 'butler': 2202, 'blanc': 2203, 'dexterity': 2204, 'replicate': 2205, 'publication': 2206, 'lowered': 2207, 'exhausted': 2208, 'stena': 2209, 'injury': 2210, 'girlfriend': 2211, '84.29': 2212, 'taipei': 2213, 'emerging': 2214, 'rapanelli': 2215, 'downtown': 2216, 'pennsylvania': 2217, '241': 2218, 'sixth': 2219, 'fair': 2220, 'sheet': 2221, 'dispute': 2222, 'abortionist': 2223, 'abortion-related': 2224, 'makes': 2225, 'ago': 2226, 'undercut': 2227, 'roof-crush': 2228, 'persistent': 2229, 'insurer': 2230, 'china': 2231, 'ambassador': 2232, 'village': 2233, 'words': 2234, 'growth': 2235, 'salaries': 2236, 'facade': 2237, 'precedent': 2238, 'mount': 2239, 'grows': 2240, '10': 2241, 'weddings': 2242, 'miles': 2243, 'unpopularity': 2244, 'markdown': 2245, 'renovation': 2246, 'encouraged': 2247, 'magazine': 2248, 'ideological': 2249, 'a': 2250, 'payrolls': 2251, 'biggest': 2252, 'compromise': 2253, 'synergistics': 2254, 'how-to': 2255, 'impediments': 2256, 'fifth-grade': 2257, 'changing': 2258, 'attended': 2259, 'cole': 2260, 'risen': 2261, 'consumer': 2262, 'august': 2263, 'spending': 2264, 'tripled': 2265, 'war-rationed': 2266, 'goodies': 2267, 'ounces': 2268, 'student': 2269, 'terms': 2270, 'those': 2271, '7': 2272, 'two-year': 2273, 'subsidiaries': 2274, 'akerfeldt': 2275, 'unrecognizable': 2276, 'possessed': 2277, 'transplants': 2278, 'release': 2279, 'until': 2280, 'send': 2281, 'attendance': 2282, 'expectations': 2283, 'contests': 2284, 'feels': 2285, 'forthcoming': 2286, 'jennison': 2287, 'hallwood': 2288, 'chips': 2289, 'restore': 2290, 'monday': 2291, 'unit': 2292, 'wallowing': 2293, 'taittinger': 2294, 'surprisingly': 2295, 'surveyed': 2296, 'evaluated': 2297, 'federally': 2298, '130': 2299, 'still': 2300, 'fronts': 2301, 'rieslings': 2302, 'talk-show': 2303, 'other': 2304, 'includes': 2305, 'besuboru': 2306, 'set': 2307, '1.5': 2308, 'held': 2309, 'overused': 2310, 'larry': 2311, 'contrary': 2312, 'renewal': 2313, 'urged': 2314, 'businesses': 2315, 'campus': 2316, 'volatile': 2317, 'proposed': 2318, 'midwest': 2319, 'gov.': 2320, 'organizations': 2321, 'conducting': 2322, 'brief': 2323, 'attempting': 2324, 'investing': 2325, 'symbolic': 2326, 'generations': 2327, 'uncomfortable': 2328, 'sutcliffe': 2329, 'lizhi': 2330, 'becomes': 2331, 'last': 2332, 'executive': 2333, 'resigned': 2334, 'reality': 2335, 'publications': 2336, 'forecasting': 2337, 'anticipated': 2338, 'charles': 2339, 'eight-count': 2340, 'phone': 2341, '8': 2342, '8.12': 2343, 'payable': 2344, 'short-term': 2345, 'agreement': 2346, 'client': 2347, 'side': 2348, 'rae': 2349, 'coconut': 2350, 'scrambled': 2351, 'maturity': 2352, '3.75': 2353, 'index': 2354, 'prosecute': 2355, 'expensive': 2356, 'furniture': 2357, 'guild': 2358, 'overpaying': 2359, 'external': 2360, 'toronto-based': 2361, 'year-ago': 2362, 'palestine': 2363, 'professionals': 2364, 'errors': 2365, 'cutthroat': 2366, '380': 2367, 'typically': 2368, 'texture': 2369, 'foreign-led': 2370, 'correct': 2371, 'salary': 2372, 'vowed': 2373, '100': 2374, '5.57': 2375, 'danube': 2376, 'switched': 2377, 'developing': 2378, '1971': 2379, 'dynamics': 2380, 'rushed': 2381, 'cluttered': 2382, 'upham': 2383, 'varying': 2384, 'center': 2385, 'mexican': 2386, 'hardware': 2387, 'persuade': 2388, 'reduce': 2389, 'small-time': 2390, 'assuming': 2391, 'knowledgeable': 2392, 'law': 2393, 'indicate': 2394, 'tells': 2395, 'patient': 2396, 'hosted': 2397, 'snaking': 2398, '1614': 2399, 'holidays': 2400, 'adds': 2401, 'kalipharma': 2402, 'sterling': 2403, 'exempt': 2404, 'uncertainty': 2405, '36-day': 2406, 'deposits-a': 2407, 'knowing': 2408, 'elmhurst': 2409, 'complicate': 2410, '3.01': 2411, 'james': 2412, 'government-funded': 2413, 'plot': 2414, 'sanderoff': 2415, 'broken': 2416, 'sold': 2417, 'roofs': 2418, 'ticket': 2419, 'pool': 2420, 'elaborate': 2421, 'airlines': 2422, 'discretionary': 2423, 'stabbed': 2424, 'supercomputers': 2425, 'awarded': 2426, 'necklace': 2427, 'dramatically': 2428, 'teach': 2429, 'well-connected': 2430, 'porter': 2431, 'evenly': 2432, 'fits': 2433, 'inkling': 2434, '1.5805': 2435, 'modern-day': 2436, 'devote': 2437, 'oversight': 2438, '1973': 2439, 'touched': 2440, 'ball': 2441, '701': 2442, 'benevolent': 2443, 'family': 2444, 'frances': 2445, 'dolphin': 2446, 'sea': 2447, 'classic': 2448, 'cloud': 2449, 'fluent': 2450, 'specializes': 2451, 'involve': 2452, 'slash': 2453, 'vicious': 2454, 'electric-utility': 2455, 'capped': 2456, 'argues': 2457, 'over-the-counter': 2458, 'move': 2459, 'mollified': 2460, 'marge': 2461, 'unreasonable': 2462, 'litany': 2463, '1968': 2464, 'employees': 2465, 'soup': 2466, 'artist': 2467, 'nearby': 2468, 'knife': 2469, 'your': 2470, 'hypocrisy': 2471, 'advertisers': 2472, 'd.': 2473, 'slip': 2474, 'takuma': 2475, 'ever': 2476, 'crucial': 2477, 'wanted': 2478, 'planters': 2479, 'groton': 2480, 'downward': 2481, 'incomplete': 2482, 'keehn': 2483, 'inverted': 2484, 'twindam': 2485, 'delivering': 2486, 'bids': 2487, '7,500': 2488, 'revenues': 2489, 'remorse': 2490, 'joe': 2491, 'view': 2492, 'downturn': 2493, 'corazon': 2494, 'half': 2495, 'frenzy': 2496, 'image': 2497, 'sleep': 2498, 'tracking': 2499, 'newspapers': 2500, '30-point': 2501, 'mercantile': 2502, 'recruit': 2503, 'engaging': 2504, '7.88': 2505, 'candela': 2506, 'physicist': 2507, 'filling': 2508, 'norman': 2509, 'ill.': 2510, 'learning': 2511, 'colleges': 2512, 'anti-abortion': 2513, 'later': 2514, 'elliott': 2515, 'yet': 2516, 'w.n.': 2517, 'feature': 2518, 'project': 2519, 'traditionally': 2520, 'risk': 2521, 'test-prep': 2522, 'passenger': 2523, 'everybody': 2524, 's.p.a.': 2525, 'stands': 2526, 'anglian': 2527, 'excesses': 2528, 'profession': 2529, 'deryck': 2530, 'breathe': 2531, 'abbey': 2532, 'full-length': 2533, 'instruments': 2534, 'helped': 2535, 'rooted': 2536, 'factors': 2537, 'sounded': 2538, 'healthy': 2539, 'raspberry': 2540, 'bates': 2541, 'canada': 2542, 'happening': 2543, 'shown': 2544, 'veal': 2545, 'replacement': 2546, 'beat': 2547, 'deem': 2548, 'quantitative': 2549, 'republicans': 2550, 'marriages': 2551, 'doubt': 2552, 'lover': 2553, 'unwind': 2554, 'brady': 2555, 'defeat': 2556, 'bronx': 2557, 'posted': 2558, 'player': 2559, 'preferences': 2560, 'alan': 2561, 'meanwhile': 2562, 'ford': 2563, 'behalf': 2564, 'evidence': 2565, 'steve': 2566, 'cathryn': 2567, 'taper': 2568, 'sloan': 2569, 'trading-company': 2570, 'operating': 2571, 'protections': 2572, 'girl': 2573, 'safe-deposit': 2574, 'withdrawal': 2575, 'narrow': 2576, 'scattered': 2577, 'machines': 2578, 'violate': 2579, 'record': 2580, 'grand': 2581, '705.6': 2582, 'anxieties': 2583, 'constraints': 2584, 'wickliffe': 2585, 'bloody': 2586, 'restricts': 2587, 'post-hearing': 2588, 'biannual': 2589, 'problems': 2590, 'through': 2591, '44': 2592, 'heating': 2593, 'prosecuted': 2594, 'brent': 2595, '1982': 2596, 'jackson': 2597, 'safety': 2598, '11th': 2599, 'americana': 2600, 'left': 2601, 'nancy': 2602, 'jerritts': 2603, 'hours': 2604, 'sauce': 2605, 'exits': 2606, 'deadline': 2607, 'quipped': 2608, 'acre': 2609, 'wu': 2610, 'articles': 2611, 'father-in-law': 2612, 'maturing': 2613, 'separately': 2614, 'else': 2615, 'according': 2616, '180': 2617, 'klein': 2618, 'whirling': 2619, '105': 2620, 'hint': 2621, 'matters': 2622, 'obvious': 2623, 'cool': 2624, 'export-oriented': 2625, 'argument': 2626, 'vary': 2627, 'requiring': 2628, 'restriction': 2629, 'boston': 2630, \"'40s\": 2631, 'debut': 2632, 'congress': 2633, 'crude': 2634, 'explanatory': 2635, 'non-biodegradable': 2636, 'le': 2637, 'tags': 2638, 'resisting': 2639, 'behest': 2640, 'blocks': 2641, 'peng': 2642, 'vintage': 2643, 'foster': 2644, 'steadily': 2645, 'producing': 2646, 'nicholas': 2647, 'rationed': 2648, 'publishing': 2649, 'fatalities': 2650, 'panama': 2651, 'baton': 2652, 'materials': 2653, 'hold': 2654, 'hard-charging': 2655, 'payouts': 2656, 'crash': 2657, 'graphs': 2658, 'confronted': 2659, 'depend': 2660, 'amount': 2661, 'guards': 2662, 'donaldson': 2663, 'go': 2664, 'turkey': 2665, 'worked': 2666, '64': 2667, 'providers': 2668, 'glass': 2669, '23.5': 2670, 'b.': 2671, 'mid-1970s': 2672, 'unchanged': 2673, 'principle': 2674, '16': 2675, 'tariff': 2676, 'played': 2677, 'dean': 2678, 'relating': 2679, 'connection': 2680, 'bottle': 2681, 'groups': 2682, '50.45': 2683, 'glenham': 2684, '64-year-old': 2685, '278.7': 2686, 'us$': 2687, 'answer': 2688, 'herrington': 2689, 'taxpayers': 2690, 'midtown': 2691, 'univest': 2692, 'best-selling': 2693, 'producer': 2694, 'aims': 2695, '25,000': 2696, 'profits': 2697, 'determined': 2698, 'judicial': 2699, 'easy': 2700, 'timely': 2701, 'adapted': 2702, 'mininum-wage': 2703, 'greenwich': 2704, 'scenario': 2705, 'wrists': 2706, 'zenith': 2707, 'tip': 2708, 'targeted': 2709, '2.44': 2710, 'dozens': 2711, 'soon': 2712, 'exchanging': 2713, 'cited': 2714, 'bottles': 2715, 'whereby': 2716, 'i.': 2717, 'shipments': 2718, 'publish': 2719, 'domination': 2720, 'half-hour': 2721, 'pride': 2722, 'now': 2723, 'competitor': 2724, 'wrote': 2725, 'properties': 2726, 'minister': 2727, 'discovered': 2728, 'retail': 2729, 'shake': 2730, 'passers-by': 2731, 'wife': 2732, 'enviable': 2733, 'suburban': 2734, 'abroad': 2735, 'literacy': 2736, 'tumultuous': 2737, 'primarily': 2738, 'unfettered': 2739, 'melamed': 2740, 'asserting': 2741, 'classroom': 2742, 'directing': 2743, 'ringing': 2744, '534': 2745, 'pet': 2746, 'matches': 2747, 'lessen': 2748, 'pickens': 2749, 'guffey': 2750, '15-day': 2751, 'eliminated': 2752, 'vertically': 2753, 'flow': 2754, 'match': 2755, 'bank': 2756, 'perceives': 2757, 'signboards': 2758, 'run-down': 2759, 'creating': 2760, 'transition': 2761, 'adults': 2762, 'betterment': 2763, 'losses': 2764, 'attending': 2765, 'elimination': 2766, 'outside': 2767, 'finished': 2768, 'wage': 2769, '--': 2770, 'haul': 2771, 'foods': 2772, 'rape': 2773, 'enormously': 2774, 'pop': 2775, 'low-priced': 2776, 'secret': 2777, 'eases': 2778, 'silicon': 2779, 'industrial-production': 2780, 'concessions': 2781, 'chilver': 2782, 'november': 2783, 'fuji': 2784, '900': 2785, 'neither': 2786, 'ariail': 2787, 'total': 2788, 'department': 2789, 'weird': 2790, 'aim': 2791, 'sector': 2792, 'businessmen': 2793, 'george': 2794, 'bell-ringing': 2795, 'transplant': 2796, 'ichiro': 2797, 'futures-related': 2798, 'hand': 2799, 'six-bottle': 2800, 'sidestep': 2801, 'deane': 2802, 'majority': 2803, 'controlled': 2804, 'octogenarians': 2805, 'faultlessly': 2806, 'ogilvy': 2807, 'effective': 2808, 'people': 2809, 'relatively': 2810, 'assault': 2811, 'no-smoking': 2812, 'practical': 2813, 'resilient': 2814, 'moderated': 2815, '14-hour': 2816, '94': 2817, 'malaysia': 2818, 'recession': 2819, '1970s': 2820, 'definitive': 2821, 'circulation': 2822, 'exhibition': 2823, 'glenn': 2824, '1': 2825, 'dressed': 2826, 'shot': 2827, 'arrest': 2828, '145': 2829, 'reporting': 2830, 'sharedata': 2831, 'communists': 2832, 'cellar': 2833, 'debate': 2834, 'must': 2835, 'inventories': 2836, 'director': 2837, 'superimposed': 2838, 'female': 2839, 'a.c.': 2840, 'hearing': 2841, 'devoted': 2842, 'earliest': 2843, 'wilder': 2844, 'preston': 2845, '12-point': 2846, 'suffering': 2847, 'taizo': 2848, '69': 2849, 'merely': 2850, 'car': 2851, 'scandinavian': 2852, 'comfortable': 2853, 'killeen': 2854, 'individuals': 2855, 'invented': 2856, 'md.': 2857, 'certified': 2858, 'bars': 2859, 'mo.': 2860, 'given': 2861, 'atlanta-based': 2862, 'crippled': 2863, 'going': 2864, 'london-based': 2865, 'campbell': 2866, 'media': 2867, \"'86\": 2868, 'cristal': 2869, 'pardus': 2870, 'municipalities': 2871, 'prater': 2872, 'warrenton': 2873, 'approximately': 2874, 'underprivileged': 2875, 'rebuked': 2876, 'compliance': 2877, 'brian': 2878, 'youths': 2879, 'joining': 2880, 'blancs': 2881, 'urging': 2882, 'dirty': 2883, 'globally': 2884, '120,000': 2885, 'crisis': 2886, 'shrug': 2887, 'length': 2888, 'slowly': 2889, 'accidents': 2890, 'praised': 2891, '2.87': 2892, 'francisco': 2893, 'views': 2894, 'time': 2895, 'government': 2896, 'aggressive': 2897, 'physics': 2898, 'cycles': 2899, 'clobbered': 2900, 'times-stock': 2901, '18-year-old': 2902, 'architectural': 2903, 'editorial': 2904, '5': 2905, 'colorado': 2906, 'income': 2907, 'stature': 2908, 'e.': 2909, 'learned': 2910, 'miguel': 2911, 'connections': 2912, 'sagging': 2913, 'bermuda-based': 2914, 'institutes': 2915, 'negative': 2916, 'receives': 2917, '3': 2918, 'banque': 2919, 'imposing': 2920, 'vichy': 2921, 'raises': 2922, 'boarding': 2923, 'badly': 2924, '1.8415': 2925, 'rose': 2926, 'enormous': 2927, 'tissue-transplant': 2928, 'dollar': 2929, 'lynch': 2930, '...': 2931, 'satisfaction': 2932, '-lcb-': 2933, 'corporations': 2934, 'catch-up': 2935, 'ed': 2936, 'dinner': 2937, 'chosen': 2938, 'florida': 2939, 'trade': 2940, 'case': 2941, 'merger': 2942, '100-share': 2943, 'jaguar': 2944, 'averaged': 2945, 'arrival': 2946, 'monetary': 2947, 'short': 2948, 'randolph': 2949, 'producers': 2950, 'downfall': 2951, 'upward': 2952, 'actually': 2953, 'truth': 2954, 'drawing': 2955, 'continues': 2956, 'apply': 2957, 'recipient': 2958, 'stable': 2959, 'analyst': 2960, 'enthusiasm': 2961, 'accidentally': 2962, 'difference': 2963, 'enclosed': 2964, '3:15': 2965, 'wine-buying': 2966, 'hoped': 2967, 'magna': 2968, 'w.': 2969, 'good-hearted': 2970, 'nine-member': 2971, 'proponents': 2972, 'fundraising': 2973, 'stung': 2974, 'cat': 2975, 'inferences': 2976, '449.04': 2977, 'enforce': 2978, 'floor': 2979, 'custom-chip': 2980, 'advocates': 2981, 'merchant': 2982, 'exchange': 2983, 'dreamt': 2984, 'beth': 2985, 'complaining': 2986, 'leader': 2987, 'goods': 2988, 'attack': 2989, 'gaithersburg': 2990, 'sparking': 2991, 'exception': 2992, 'known': 2993, 'sheep': 2994, 'harms': 2995, 'milk': 2996, 'hospitals': 2997, 'widespread': 2998, 'examples': 2999, '13.8': 3000, 'let': 3001, 'moore': 3002, 'folks': 3003, 'computerized': 3004, 'woodward': 3005, 'consulting': 3006, '48': 3007, 'combines': 3008, 'news': 3009, 'grandsire': 3010, 'drink': 3011, 'framework': 3012, 'moves': 3013, 'bankroll': 3014, '0.3': 3015, 'wilbur': 3016, 'refreshing': 3017, 'complete': 3018, 'faint': 3019, 'entered': 3020, 'chuck': 3021, 'disappointed': 3022, 'rebellion': 3023, 'identities': 3024, 'sherwood': 3025, 'compound': 3026, 'able': 3027, '350,000': 3028, 'feudal': 3029, 'ghs': 3030, 'unethical': 3031, '30,841': 3032, 'economics': 3033, 'pit': 3034, 'went': 3035, 'mary': 3036, 'announcer': 3037, 'winter': 3038, 'treasury': 3039, 'solicitous': 3040, 'low-ability': 3041, 'johnny': 3042, 'society': 3043, 'load': 3044, '1990': 3045, 'failure': 3046, 'would-be': 3047, 'church-goers': 3048, 'coaching': 3049, 'kidnapper': 3050, 'synchronized': 3051, 'solemn': 3052, 'stevens': 3053, 'crack': 3054, 'policies': 3055, '11.6': 3056, 'decrease': 3057, 'milestones': 3058, '191.9': 3059, 'o.': 3060, 'zoomed': 3061, 'grew': 3062, 'nonresidential': 3063, 'ambitious': 3064, 'motives': 3065, 'effectively': 3066, 'boeing': 3067, 'english': 3068, 'refile': 3069, 'researchers': 3070, 'comparable': 3071, 'nine': 3072, 'monticello': 3073, 'establishing': 3074, 'deny': 3075, 'descending': 3076, 'oct.': 3077, 'beatles': 3078, 'cosmopolitan': 3079, 'done': 3080, 'informally': 3081, 'table': 3082, 'luce': 3083, 'advice': 3084, 'conversations': 3085, 'controversial': 3086, 'door': 3087, 'council': 3088, 'economist': 3089, 'driving': 3090, 'official': 3091, '963': 3092, 'regimented': 3093, 'setting': 3094, 'walk': 3095, 'choose': 3096, 'change-ringing': 3097, 're-thought': 3098, 'cry': 3099, 'steady': 3100, 'exists': 3101, '992,000': 3102, 'while': 3103, 'encourages': 3104, 'endorsed': 3105, 'per': 3106, 'handful': 3107, 'war-damaged': 3108, 'where': 3109, 'two-year-old': 3110, 'succeed': 3111, 'recommendations': 3112, 'scrambling': 3113, 'n.y.': 3114, 'chain': 3115, 'massachusetts': 3116, 'viewpoints': 3117, 'hiroshi': 3118, 'consumers': 3119, 'base': 3120, 'outstanding': 3121, '370': 3122, 'coal': 3123, 'cultivated': 3124, 'order': 3125, 'suffered': 3126, 'seek': 3127, 'mirror': 3128, 'occur': 3129, 'wadsworth': 3130, 'spurns': 3131, 'rapidly': 3132, 'diminish': 3133, 'free-lance': 3134, 'sources': 3135, 'sebastian': 3136, 'discounts': 3137, 'most': 3138, 'herself': 3139, 'monster': 3140, 'fill': 3141, 'sew': 3142, 'multibillion-dollar': 3143, 'bar': 3144, 'morbidity': 3145, 'electricity': 3146, 'reopened': 3147, 'released': 3148, '?': 3149, 'settled': 3150, 'spring': 3151, 'eaton': 3152, 'daniel': 3153, 'endless': 3154, 'rally': 3155, 'summary': 3156, 'retentive': 3157, 'alzheimer': 3158, 'n.j.-based': 3159, '644': 3160, 'midnight': 3161, 'making': 3162, 'single-family': 3163, 'necessarily': 3164, 'newly': 3165, 'diplomats': 3166, 'rosenblum': 3167, 'suspensions': 3168, 'platitudes': 3169, '1,000': 3170, 'book': 3171, 'arising': 3172, 'curriculum': 3173, 'program': 3174, 'portugal': 3175, 'co-chairman': 3176, 'focus': 3177, '5.4': 3178, 'philadelphia-based': 3179, 'institute': 3180, 'seeks': 3181, 'cabs': 3182, 'erbamont': 3183, 'norwest': 3184, 'prescient': 3185, 'conditions': 3186, 'paying': 3187, 'evident': 3188, 'thailand': 3189, 'topics': 3190, 'acne': 3191, 'aware': 3192, 'panic': 3193, 'scale': 3194, 'impart': 3195, 'fueling': 3196, 'lowering': 3197, 'iras': 3198, 'nominated': 3199, 'older': 3200, 'whether': 3201, 'peaceful': 3202, 'obtaining': 3203, 'better': 3204, 'segments': 3205, 'arrangement': 3206, 'enrollment': 3207, 'worth': 3208, 'her': 3209, 'martin': 3210, 'underline': 3211, 'obtain': 3212, 'debts': 3213, 'depositary': 3214, 'geometrical': 3215, 'note': 3216, 'speculate': 3217, 'cents': 3218, 'longevity': 3219, 'straight': 3220, 'trustco': 3221, 'madison': 3222, 'pathlogy': 3223, 'find': 3224, 'secondary': 3225, 'stage': 3226, 'deserve': 3227, 'bolster': 3228, 'permit': 3229, 'school-district': 3230, 'freshman': 3231, 'incurred': 3232, 'review': 3233, 'implies': 3234, 'spokeswoman': 3235, 'balanced': 3236, '38': 3237, 'sweeping': 3238, 'depressed': 3239, 'dreamed': 3240, 'dams': 3241, 'first': 3242, 'credits': 3243, 'achieve': 3244, 'employee': 3245, 'mont': 3246, 'males': 3247, '2.80': 3248, 'chunk': 3249, 'altogether': 3250, 'outright': 3251, 'imbalances': 3252, 'diplomatic': 3253, 'january': 3254, 'high-rate': 3255, 'eight-month': 3256, 'minn.': 3257, 'claim': 3258, 'strict': 3259, 'dark': 3260, 'rubber': 3261, 'meeting': 3262, 'romance': 3263, 'built': 3264, 'scoring': 3265, 'de': 3266, 'sufficiency': 3267, 'tiphook': 3268, 'unavailability': 3269, 'henry': 3270, 'duties': 3271, 'taxable': 3272, 'sandifer': 3273, 'explain': 3274, 'unsuccessfully': 3275, 'cent': 3276, 'operate': 3277, 'replaced': 3278, 'likelihood': 3279, 'call': 3280, 'onslaught': 3281, 'unfounded': 3282, '21': 3283, 'underlying': 3284, 'hill': 3285, 'improbable': 3286, 'suppression': 3287, 'mitsui': 3288, 'ailes': 3289, 'bonus': 3290, 'cross': 3291, 'scientists': 3292, 'pour': 3293, 'flag': 3294, 'aggravated': 3295, 'materialize': 3296, 'newsweekly': 3297, 'deadwood': 3298, 'prevailing': 3299, '176': 3300, 'part': 3301, 'enact': 3302, 'underscore': 3303, 'offices': 3304, 'publishers': 3305, 'rev.': 3306, 'breeden': 3307, 'actor': 3308, 'emerge': 3309, 'divided': 3310, 'magnitude': 3311, 'improvements': 3312, 'karl': 3313, 'constitution': 3314, 'computing': 3315, 'pattern': 3316, 'halls': 3317, 'aid': 3318, 'join': 3319, 'travelers': 3320, 'single-digit': 3321, 'tracked': 3322, 'coupled': 3323, 'seoul': 3324, 'deficit': 3325, 'cut': 3326, 'roughhewn': 3327, 'power': 3328, 'ibm': 3329, '90-day': 3330, 'attractions': 3331, 'poignant': 3332, 'tour': 3333, 'katzenstein': 3334, 'ideas': 3335, 'drawn': 3336, 'programs': 3337, 'nervousness': 3338, 'completed': 3339, 'picket': 3340, 'broader': 3341, 'sensitivity': 3342, 'undertone': 3343, '30': 3344, 'air': 3345, 'possibly': 3346, '10.5': 3347, 'pont': 3348, 'intent': 3349, 'overhead': 3350, 'december': 3351, 'essentially': 3352, 'settlement': 3353, 'route': 3354, 'behemoth': 3355, 'simple': 3356, 'annual': 3357, 'iran\\\\/contra': 3358, 'bunny': 3359, 'lighthouse': 3360, 'accommodate': 3361, 'food': 3362, 'editions': 3363, 'shortly': 3364, 'hostage': 3365, 'virginia': 3366, 'theory': 3367, 'priority': 3368, 'embassy': 3369, 'industrials': 3370, '415.6': 3371, 'lap': 3372, 'tough': 3373, 'disk': 3374, 'mesothelioma': 3375, 'graders': 3376, 'sub-markets': 3377, 'clues': 3378, 'apiece': 3379, 'compensate': 3380, '8.56': 3381, 'minneapolis-based': 3382, 'contacts': 3383, '40,000': 3384, 'astronomical': 3385, 'seminar': 3386, 'around': 3387, 'playing': 3388, 'moved': 3389, 'quantities': 3390, 'enhanced': 3391, 'industries': 3392, 'directly': 3393, 'sassy': 3394, 'million': 3395, 'furor': 3396, 'penny': 3397, 'piracy': 3398, 'disappears': 3399, 'lsi': 3400, 'war': 3401, 'february': 3402, 'suspension': 3403, 'wines': 3404, 'expedited': 3405, 'whole': 3406, 'proceeds': 3407, 'well-known': 3408, 'brokerage': 3409, 'avenue': 3410, 'binders': 3411, '130.7': 3412, 'seats': 3413, '37.5': 3414, 'sight': 3415, 'a.d.': 3416, 'removed': 3417, 'difficult': 3418, 'solaia': 3419, 'ensembles': 3420, 'hard-hitting': 3421, '.': 3422, 'superpremiums': 3423, 'retailer': 3424, 'study': 3425, 'standing': 3426, 'required': 3427, 'regions': 3428, 'firings': 3429, '20-point': 3430, 'packed': 3431, 'sooner': 3432, 'feel': 3433, 'unmarked': 3434, 'accelerated': 3435, 'affiliates': 3436, 'run': 3437, 'shipped': 3438, 'studies': 3439, 'significant': 3440, 'narrowly': 3441, 'tasty': 3442, 'leasing': 3443, 'eastern': 3444, 'docile': 3445, 'consideration': 3446, 'bulk': 3447, 'prostitute': 3448, 'turn': 3449, '1.01': 3450, 'gillespie': 3451, 'addresses': 3452, 'co.': 3453, 'stock-manipulation': 3454, 'joys': 3455, '1.8': 3456, 'commitment': 3457, 'curry': 3458, '2.3': 3459, 'swap': 3460, '11': 3461, 'environment': 3462, '1993': 3463, '17.95': 3464, 'scotia': 3465, 'ends': 3466, 'created': 3467, 'ushered': 3468, 'reformers': 3469, 'name': 3470, '1.5755': 3471, 'crime': 3472, 'spillane': 3473, 'dr.': 3474, 'dogs': 3475, 'cult': 3476, 'remains': 3477, 'richebourg': 3478, 'visible': 3479, 'carrying': 3480, 'associate': 3481, 'rhetoric': 3482, 'less-serious': 3483, 'develops': 3484, 'petition': 3485, 'drift': 3486, 'exclusively': 3487, 'graduate': 3488, 'page-one': 3489, 'europe': 3490, 'light-truck': 3491, '3.1': 3492, 'goody': 3493, 'discussions': 3494, 'preparation': 3495, 'stockholm': 3496, 'based': 3497, 'denominator': 3498, 'auctions': 3499, 'netherlands': 3500, '65': 3501, 'classifications': 3502, 'polish': 3503, 'corruption': 3504, 'state-supervised': 3505, 'near': 3506, 'highest-pitched': 3507, 'publisher': 3508, 'resistant': 3509, 'nations': 3510, 'miss.': 3511, 'attractive': 3512, 'had': 3513, 'discount': 3514, 'ambitions': 3515, 'fond': 3516, 'influence': 3517, 'carbide': 3518, 'sdi': 3519, 'carson': 3520, 'seniors': 3521, 'premiere': 3522, 'tender': 3523, 'pioneer': 3524, 'moons': 3525, 'copycats': 3526, 'questionable': 3527, 'audience': 3528, 'rewarding': 3529, 'tenth': 3530, 'huppert': 3531, 'close-up': 3532, 'one-year': 3533, 'pitney': 3534, 'lighter': 3535, 'dividends': 3536, 'acted': 3537, 'changes': 3538, 'fat': 3539, 'big': 3540, 'heights': 3541, 'symbol': 3542, \"'s\": 3543, '30-minute': 3544, 'partner': 3545, 'concerned': 3546, 'scoop': 3547, 'gauging': 3548, '190': 3549, 'alexander': 3550, 'limited-partnership': 3551, 'such': 3552, 'marty': 3553, 'disputed': 3554, 'loyalty': 3555, 'treated': 3556, 'surviving': 3557, 'memories': 3558, 'hurdles': 3559, 'darrell': 3560, 'shape': 3561, 'crane': 3562, 'superiors': 3563, 'trademark': 3564, 'prosecutors': 3565, 'memorize': 3566, 'drinks': 3567, 'traded': 3568, '245': 3569, 'rentals': 3570, 'think': 3571, 'emergencies': 3572, '570': 3573, 'testing': 3574, 'horsham': 3575, 'childish': 3576, 'grant': 3577, 'replete': 3578, 'fourth': 3579, 'promotional': 3580, 'reviewed': 3581, 'possessions': 3582, 'planners': 3583, '27': 3584, 'direction': 3585, 'brooke': 3586, '24': 3587, 'branch': 3588, 'fractionally': 3589, 'giants': 3590, 'banning': 3591, 'american-style': 3592, '37-a-share': 3593, 'value': 3594, 'careers': 3595, 'notion': 3596, 'high-technology': 3597, 'turns': 3598, 'many': 3599, 'sharply': 3600, 'wound': 3601, 'exit': 3602, 'counterrevolutionary': 3603, '!': 3604, 'session': 3605, 'passport': 3606, 'mostly': 3607, '1992': 3608, 'gloomy': 3609, 'automation': 3610, '1929': 3611, 'fully': 3612, 'plate': 3613, 'universities': 3614, 'social': 3615, 'workbooks': 3616, 'exclusive': 3617, 'finding': 3618, 'blue': 3619, 'label': 3620, 'feeling': 3621, 'numerous': 3622, 'modern': 3623, 'needing': 3624, 'trust': 3625, 'trained': 3626, 'defined': 3627, 'justifying': 3628, 'mona': 3629, 'bridgeville': 3630, 'cadet': 3631, 'nih-appointed': 3632, 'young': 3633, 'sweet': 3634, 'experts': 3635, 'iii': 3636, 'buy-back': 3637, '1965': 3638, 'distorted': 3639, 'wears': 3640, 'mind-boggling': 3641, 'low-cost': 3642, 'refocusing': 3643, 'wheeland': 3644, 'patent': 3645, 'jeopardizing': 3646, 'money': 3647, 'morale': 3648, 'consumption': 3649, 'cities': 3650, 'refused': 3651, 'laws': 3652, 'marie-louise': 3653, 'vega': 3654, 'imports': 3655, 'unsettled': 3656, 'operator': 3657, 'overtime': 3658, 'pieces': 3659, 'packages': 3660, 'stunned': 3661, 'permitted': 3662, 'hollingsworth': 3663, 'music': 3664, 'ann': 3665, 'agriculture': 3666, 'brazil': 3667, 'galling': 3668, 'boulder': 3669, '43': 3670, 'comfort': 3671, '4.75': 3672, 'elections': 3673, 'dreyfus': 3674, 'prevent': 3675, 'hopefully': 3676, 'rail': 3677, 'work': 3678, 'pap': 3679, 'poor': 3680, 'unclear': 3681, 'yamamoto': 3682, 'sum': 3683, 'spectacularly': 3684, 'longwood': 3685, 'excise': 3686, 'cop-killer': 3687, 'police': 3688, 'messrs.': 3689, 'sell-offs': 3690, 'promise': 3691, 'mortgage-backed': 3692, \"'re\": 3693, 'benchmark': 3694, 'takeover': 3695, '51': 3696, 'overpriced': 3697, 'focused': 3698, 'circuit-breaker': 3699, 'liberals': 3700, 'mae': 3701, 'fired': 3702, '23': 3703, 'unfairly': 3704, 'self-aggrandizing': 3705, 'begot': 3706, 'statewide': 3707, 'symmetry': 3708, 'skills': 3709, 'focusing': 3710, 'impact': 3711, 'irs': 3712, 'wealthy': 3713, 'sierra': 3714, 'win': 3715, 'bearish': 3716, '1988': 3717, 'convenient': 3718, 'pub': 3719, 'seahorse': 3720, 'expanding': 3721, 'runs': 3722, 'occurred': 3723, 'one-week': 3724, 'dreadful': 3725, 'peculiar': 3726, 'institutional': 3727, 'adjusting': 3728, '37-year-old': 3729, 'thai': 3730, 'sport-utility': 3731, 'level': 3732, 'cascading': 3733, 'ministers': 3734, 'maze': 3735, 'signs': 3736, 'ignoring': 3737, 'stanley': 3738, 'challenge': 3739, 'treats': 3740, 'mass': 3741, 'helm': 3742, 'kuala': 3743, 'advocate': 3744, 'sept.': 3745, 'auction': 3746, '1\\\\/2': 3747, 'newsworthy': 3748, 'joins': 3749, 'service': 3750, 'initially': 3751, 'rancor': 3752, 'inauspicious': 3753, 'tell': 3754, 'argue': 3755, 'quarter': 3756, 'showing': 3757, 'clarified': 3758, 'banker': 3759, 'continental': 3760, 'state-owned': 3761, 'columbia': 3762, 'educators': 3763, 'amending': 3764, 'cheat': 3765, 'employed': 3766, 'sony': 3767, 'sounding': 3768, 'bidders': 3769, 'land': 3770, '101': 3771, 'municipal': 3772, 'virgin': 3773, 'envoy': 3774, 'saudi': 3775, '9.625': 3776, 'moratorium': 3777, 'wood': 3778, 'traced': 3779, 'disclosure': 3780, 'continuing': 3781, 'psychiatrist': 3782, 'raced': 3783, 'lung': 3784, 'leaving': 3785, 'operates': 3786, 'turnaround': 3787, 'real': 3788, 'benefits': 3789, 'alleged': 3790, 'wozniak': 3791, 'computer-aided': 3792, 'cases': 3793, 'negotiate': 3794, 'busloads': 3795, 'hay': 3796, 'rankings': 3797, 'line': 3798, '29.9': 3799, 'coleman': 3800, 'strains': 3801, 'grange': 3802, 'subjects': 3803, '1:30': 3804, 'confuse': 3805, 'nearly': 3806, 'threats': 3807, 'print': 3808, 'deposits': 3809, 'men': 3810, 'motor': 3811, 'globe': 3812, 'york': 3813, 'equivalent': 3814, 'laid': 3815, 'included': 3816, 'collected': 3817, 'colonsville': 3818, 'towns': 3819, 'heatherington': 3820, 'redeem': 3821, 'than': 3822, 'minivans': 3823, 'when-issued': 3824, 'executed': 3825, 'dell': 3826, 'dramatic': 3827, 'twin-jet': 3828, '858,000': 3829, 'zayed': 3830, 'thrift': 3831, 'sulaiman': 3832, 'deceptive': 3833, 'september': 3834, 'r': 3835, 'issue': 3836, 'philadelphia': 3837, 'international': 3838, 'clouds': 3839, 'ground': 3840, 'detail': 3841, 'process': 3842, 'but': 3843, 'rubinfien': 3844, 'judge': 3845, 'sidewalk': 3846, '76': 3847, 'pta': 3848, 'spiders': 3849, '917': 3850, '1970': 3851, 'denied': 3852, 'bankers': 3853, '1.457': 3854, 'hired': 3855, 'since': 3856, 'zaharah': 3857, 'australia': 3858, 'agnew': 3859, 'mehrens': 3860, 'homework': 3861, 'marketing-communications': 3862, 'second': 3863, 'damage': 3864, 'complicated': 3865, 'boosted': 3866, 'series': 3867, 'identify': 3868, 'consumer-driven': 3869, 'top-level': 3870, 'youth': 3871, 'professor': 3872, 'degrees': 3873, 'rendering': 3874, 'isabelle': 3875, 'managers': 3876, 'moscow': 3877, 'shadows': 3878, 'gallium': 3879, 'priciest': 3880, 'contractor': 3881, 'risks': 3882, 'rowe': 3883, 'offend': 3884, 'rate-sensitive': 3885, 'fuel': 3886, 'roukema': 3887, 'contains': 3888, 'decide': 3889, 'over': 3890, 'ascribe': 3891, 'regarded': 3892, 'gain': 3893, 'mistakes': 3894, 'junk-bond': 3895, 'speculated': 3896, 'greer': 3897, 'lawyer': 3898, 'relative': 3899, 'angered': 3900, 'relegated': 3901, 'j.p.': 3902, 'distribution': 3903, 'chairman': 3904, 'foundations': 3905, 'explosion': 3906, 'diabetes': 3907, 'video-viewing': 3908, 'low-tech': 3909, 'critical': 3910, 'help': 3911, 'working': 3912, 'some': 3913, 'rewards': 3914, 'profit': 3915, 'phrase': 3916, 'marie': 3917, 'styles': 3918, 'england': 3919, 'happier': 3920, 'narcotics': 3921, 'warn': 3922, 'marketer': 3923, 'disagree': 3924, 'senior': 3925, 'letter': 3926, 'shows': 3927, 'thing': 3928, 'chrysler': 3929, 'sending': 3930, 'bellringers': 3931, 'affair': 3932, 'an': 3933, '2.95': 3934, 'kerensky': 3935, 'claiming': 3936, 'eugene': 3937, 'adopted': 3938, 'rolling': 3939, 'circuit': 3940, 'homosexual': 3941, 'paid': 3942, 'heavily': 3943, 'mcalpine': 3944, 'vendors': 3945, 'waif': 3946, 'felony': 3947, 'sure': 3948, 'fields': 3949, 'u.s.-japanese': 3950, 'gave': 3951, 'blackstone': 3952, 'emerges': 3953, 'disproportionate': 3954, 'substantially': 3955, 'kelli': 3956, 'judges': 3957, 'harvard': 3958, 'dow': 3959, 'became': 3960, 'fortune': 3961, '1981': 3962, 'telecommunications': 3963, 'theaters': 3964, 'sorry': 3965, 'asking': 3966, '140': 3967, 'variation': 3968, 'intensity': 3969, 'insiders': 3970, 'worried': 3971, 'without': 3972, '5\\\\/8': 3973, 'releases': 3974, 'ethics': 3975, 'courter': 3976, 'bout': 3977, 'witnesses': 3978, 'f-series': 3979, 'bowed': 3980, 'chapter': 3981, 'come': 3982, 'forcing': 3983, 'fred': 3984, 'portfolios': 3985, 'membership': 3986, 'crowded': 3987, 'highly': 3988, 'flat': 3989, 'constituent': 3990, 'telephone-information': 3991, 'chicago-style': 3992, 'astonishment': 3993, 'diming': 3994, 'fawning': 3995, 'peak': 3996, 'ballplayers': 3997, 'recede': 3998, 'microwave': 3999, 'collecting': 4000, 'frank': 4001, 'allow': 4002, 'knowns': 4003, '280': 4004, 'chastised': 4005, 'jail': 4006, 'ill': 4007, 'malignant': 4008, 'sensation': 4009, 'regrettable': 4010, 'applied': 4011, 'market': 4012, 'muscolina': 4013, 'commenting': 4014, 'timex': 4015, 'pittsburgh': 4016, \"o'connor\": 4017, 'clinton': 4018, 'evolution': 4019, 'off': 4020, 'albany': 4021, 'japan': 4022, 'double': 4023, 'mulford': 4024, 'hormats': 4025, 'look': 4026, 'facility': 4027, '550,000': 4028, '100,980': 4029, 'rapid': 4030, 'drifted': 4031, 'disputes': 4032, 'billions': 4033, 'teaching': 4034, 'trillion': 4035, 'express': 4036, 's.': 4037, 'depended': 4038, 'possible': 4039, 'northampton': 4040, 'conventional': 4041, 'fight': 4042, 'highest': 4043, 'desired': 4044, 'budget': 4045, 'magicians': 4046, 'gotten': 4047, 'deals': 4048, 'distributor': 4049, 'indirect': 4050, 'viewpoint': 4051, 'forces': 4052, 'caution': 4053, 'interest': 4054, 'filter': 4055, 'prospect': 4056, 'rapprochement': 4057, 'handling': 4058, 'funding': 4059, 'productions': 4060, 'goldman': 4061, 'permitting': 4062, 'wall': 4063, 'adrs': 4064, 'expenses': 4065, 'cyclical': 4066, 'dutch': 4067, 'beginning': 4068, 'reds': 4069, 'running': 4070, 'alienated': 4071, 'plus': 4072, 'computers': 4073, 'perpetuates': 4074, 'saying': 4075, 'vicar': 4076, 'fabricator': 4077, 'headquarters': 4078, 'anywhere': 4079, 'sacks': 4080, 'head': 4081, 'high': 4082, 'citizen': 4083, 'prompted': 4084, 'never': 4085, 'remarked': 4086, 'springs': 4087, 'degenerative': 4088, 'asians': 4089, 'its': 4090, 'sheepskin': 4091, 'target': 4092, 'timing': 4093, 'georgetown': 4094, 'category': 4095, 'battles': 4096, '179': 4097, 'negus': 4098, 'built-from-kit': 4099, 'mainframe': 4100, 'jones': 4101, 'execute': 4102, 'future': 4103, 'contributed': 4104, '4.898': 4105, 'unstinting': 4106, 'great': 4107, 'however': 4108, 'technology': 4109, 'convey': 4110, 'movies': 4111, 'waste': 4112, 'gone': 4113, 'trockenbeerenauslesen': 4114, 'saw': 4115, 'erudite': 4116, 'formerly': 4117, '26': 4118, 'd.c.': 4119, 'saving': 4120, 'ntg': 4121, 'miami': 4122, 'addition': 4123, 'harold': 4124, 'russel': 4125, '1953': 4126, 'levels': 4127, 'carla': 4128, 'brunello': 4129, 'technique': 4130, 'maker': 4131, 'introduction': 4132, 'written': 4133, 'la': 4134, 'mcfall': 4135, 'spoke': 4136, 'ranieri': 4137, 'knight': 4138, '3,500': 4139, 'wrenching': 4140, 'rozell': 4141, 'ga.': 4142, 'period': 4143, 'get': 4144, 'competitive': 4145, 'kansas': 4146, 'regret': 4147, 'outraged': 4148, 'popular': 4149, 'meet': 4150, 'sections': 4151, 'interventions': 4152, 'apologize': 4153, 'provision': 4154, '13.73': 4155, 'grader': 4156, 'investments': 4157, 'computer': 4158, 'links': 4159, 'lock': 4160, 'pickups': 4161, 'killings': 4162, 'accrued': 4163, 'thin': 4164, '777': 4165, 'guys': 4166, 'highway': 4167, 'hammond': 4168, 'referred': 4169, 'ceiling': 4170, 'training-wage': 4171, 'surge': 4172, 'legislative': 4173, 'block': 4174, 'joanne': 4175, 'ways': 4176, 'explains': 4177, 'elusive': 4178, '9.9': 4179, 'trial': 4180, 'advertised': 4181, 'criticism': 4182, 'overruns': 4183, 'rebound': 4184, '59': 4185, 'sonnett': 4186, 'asbestos-related': 4187, 'advantages': 4188, 'researcher': 4189, 'rouge': 4190, 'seemed': 4191, 'fellow': 4192, 'historic': 4193, 'diversifying': 4194, 'that': 4195, '195': 4196, 'gauge': 4197, 'outlook': 4198, 'liquid': 4199, 'chicago': 4200, 'pcs': 4201, '18.95': 4202, 'furious': 4203, 'dairy': 4204, 'satisfying': 4205, 'contribution': 4206, 'mid-1990s': 4207, 'brilliant': 4208, 'affordable': 4209, 'hegemony': 4210, 'herald': 4211, 'judged': 4212, 'word-processing': 4213, 'nature': 4214, 'five-inch': 4215, 'sheffield': 4216, 'welcome': 4217, 'argued': 4218, 'increase': 4219, 'amounts': 4220, 'overseas': 4221, 'campaigns': 4222, 'heard': 4223, 'automotive': 4224, 'library': 4225, 'nowhere': 4226, 'lot': 4227, 'arlington': 4228, '1933': 4229, 'instead': 4230, 'stigma': 4231, 'recession-inspired': 4232, 'chemicals': 4233, 'stalls': 4234, '273.5': 4235, 'fills': 4236, 'chauffeur': 4237, 'spiro': 4238, 'limited': 4239, 'buoyed': 4240, 'one-time': 4241, 'standards': 4242, 'kuvin': 4243, 'travel': 4244, 'is': 4245, 'five-day': 4246, 'nominal': 4247, 'electronics': 4248, 'peculiarities': 4249, 'encourage': 4250, 'alumni': 4251, 'decried': 4252, 'lowe': 4253, 'funded': 4254, 'though': 4255, 'elsewhere': 4256, 'diagnosed': 4257, 'bearing': 4258, 'unfair': 4259, '361,376': 4260, 'program-trading': 4261, 'hampshire': 4262, 'cues': 4263, 'desai': 4264, 'perceived': 4265, 'favor': 4266, 'tight': 4267, 'margins': 4268, 'legislation': 4269, 'reasons': 4270, 'whimsical': 4271, '32': 4272, 'texan': 4273, 'valuations': 4274, 'pamplin': 4275, 'thumbing': 4276, '1975': 4277, 'republican': 4278, 'georgia': 4279, 'insistence': 4280, 'detailed': 4281, 'inches': 4282, 'gained': 4283, 'stones': 4284, 'undersecretary': 4285, 'stairs': 4286, 'plenty': 4287, 'kean': 4288, 'semiconductors': 4289, 'assume': 4290, 'contrast': 4291, 'lyrics': 4292, 'summons': 4293, 'graduated': 4294, 'measures': 4295, 'movement': 4296, 'renee': 4297, 'mission': 4298, 'dumbfounded': 4299, 'chronicle': 4300, 'predicted': 4301, 'giving': 4302, 'brightest': 4303, 'feb.': 4304, 'bew': 4305, 'micronite': 4306, 'uptick': 4307, 'threat': 4308, 'banking': 4309, 'pharmaceuticals': 4310, 'district': 4311, 'stephens': 4312, 'registration': 4313, 'jerry': 4314, 'strength': 4315, 'designated': 4316, 'stop': 4317, 'agreeing': 4318, 'posts': 4319, 'books': 4320, 'jan.': 4321, 'centers': 4322, '-': 4323, 'tubes': 4324, 'thugs': 4325, 'evaluating': 4326, 'county': 4327, 'borge': 4328, 'prohibited': 4329, 'high-yield': 4330, 'damaged': 4331, 'inspired': 4332, 'electronic': 4333, 'weeks': 4334, 'holder': 4335, 'premier': 4336, 'catch': 4337, 'crews': 4338, 'prepared': 4339, 'asbestos': 4340, 'burned': 4341, 'gradual': 4342, 'there': 4343, 'pounds': 4344, 'new-home': 4345, 'suspect': 4346, 'wave': 4347, 'sharp': 4348, 'community': 4349, 'guns': 4350, 'multinationals': 4351, 'jenrette': 4352, 'canadian': 4353, 'backyard': 4354, 'treble': 4355, 'reduced': 4356, 'eat': 4357, 'stockholders': 4358, 'perceptions': 4359, 'cohesive': 4360, 'principals': 4361, 'huge': 4362, 'uncomplaining': 4363, 'acres': 4364, 'implications': 4365, 'lofty': 4366, 'erode': 4367, 'booming': 4368, 'victory': 4369, 'devon': 4370, 'increased': 4371, 'distasteful': 4372, 'rate': 4373, 'i': 4374, 'pay': 4375, 'recessionary': 4376, 'means': 4377, 'supercomputer': 4378, 'equipment': 4379, 'pocket': 4380, 'dodge': 4381, 'stupid': 4382, 'emigrate': 4383, 'gingl': 4384, 'thousands': 4385, 'desirable': 4386, 'results': 4387, 'weatherly': 4388, 'moment': 4389, 'bit': 4390, 'as': 4391, 'returning': 4392, 'audiocassettes': 4393, 'damn': 4394, 'initiated': 4395, '68': 4396, 'ordering': 4397, 'beneficiary': 4398, 'white-collar': 4399, 'blank': 4400, 'charts': 4401, 'generalized': 4402, 'deng': 4403, 'rules': 4404, 'shores': 4405, 'slid': 4406, 'significance': 4407, 'revive': 4408, '1986-87': 4409, 'holders': 4410, 'hawaiian': 4411, 'stopped': 4412, 'beige': 4413, 'fine': 4414, 'vacations': 4415, 'traditional': 4416, 'seems': 4417, 'confrontational': 4418, 'advertorial': 4419, 'chaired': 4420, 'improvement': 4421, 'imminent': 4422, 'renewed': 4423, 'registered': 4424, 'americans': 4425, 'campaigner': 4426, '25.50': 4427, 'permission': 4428, 'hangs': 4429, 'ok': 4430, 'explosive': 4431, 'lengthened': 4432, 'buildup': 4433, 'interrogated': 4434, 'staff': 4435, 'nonexecutive': 4436, 'conn.': 4437, 'salarymen': 4438, 'did': 4439, 'resolved': 4440, '225.6': 4441, 'frustrating': 4442, 'spoon': 4443, 'phelan': 4444, 'buy-out': 4445, 'bass': 4446, 'robotic': 4447, 'monchecourt': 4448, 'true': 4449, 'films': 4450, 'skyward': 4451, 'accusing': 4452, 'imported': 4453, '29': 4454, 'either': 4455, 'circulations': 4456, '14.6': 4457, 'one-day': 4458, 'entertain': 4459, 'f.h.': 4460, 'aurora': 4461, 'squier': 4462, 'dominating': 4463, 'licensing': 4464, '236.74': 4465, 'raise': 4466, 'doerflinger': 4467, 'refuge': 4468, 'resistance': 4469, 'confirmed': 4470, 'asia': 4471, 'retorts': 4472, 'index-options': 4473, 'have': 4474, 'acting': 4475, 'body': 4476, 'loss': 4477, 'dollar-yen': 4478, 'trs-80': 4479, 'switch': 4480, 'publishes': 4481, 'hid': 4482, 'dashes': 4483, 'r.i.': 4484, 'nasty': 4485, 'stockbroker': 4486, 'judiciary': 4487, 'editorials': 4488, 'politics': 4489, 'frederick': 4490, 'traverse': 4491, 'reform': 4492, 'subscribers': 4493, 'ariz.': 4494, 'combined': 4495, 'hills': 4496, 'developed': 4497, 'friday': 4498, 'officer': 4499, 'feared': 4500, 'loom': 4501, 'carried': 4502, 'adviser': 4503, 'scrutinizing': 4504, 'master': 4505, 'streets': 4506, 'afraid': 4507, 'lead': 4508, 'dick': 4509, 'conspicuous': 4510, 'demonstrators': 4511, 'entirely': 4512, 'attorney-client': 4513, 'rear': 4514, 'tuscany': 4515, 'swapped': 4516, 'amid': 4517, 'gop': 4518, 'w.d.': 4519, 'personally': 4520, 'yeargin': 4521, 'joy': 4522, 'hummerstone': 4523, 'clicked': 4524, 'does': 4525, 'founder': 4526, 'explained': 4527, 'bramalea': 4528, 'strait': 4529, 'minimum': 4530, 'described': 4531, 'contributions': 4532, '90': 4533, 'largely': 4534, 'buffet': 4535, 'opening': 4536, 'churches': 4537, 'ruling': 4538, 'everything': 4539, 'retaliating': 4540, 'co-developers': 4541, 'copyrights': 4542, 'lucky': 4543, 'pro-forma': 4544, 'draw': 4545, 'always': 4546, 'dawn': 4547, 'dollar-denominated': 4548, 'put': 4549, 'statistics': 4550, 'screenwriters': 4551, 'voters': 4552, 'flashy': 4553, 'assigned': 4554, 'flightiness': 4555, 'three-sevenths': 4556, 'osaka': 4557, 'recognition': 4558, 'sino-u.s.': 4559, '`': 4560, 'bonnell': 4561, 'elevators': 4562, 'appear': 4563, 'women': 4564, '8.75': 4565, 'bans': 4566, 'senate-house': 4567, 'haven': 4568, 'belts': 4569, 'composting': 4570, 'unusual': 4571, 'memphis': 4572, 'wells': 4573, 'fla.': 4574, 'six-packs': 4575, 'accused': 4576, 'flatulent': 4577, 'douglas': 4578, 'municipality': 4579, 'how': 4580, 'violated': 4581, 'supermarket': 4582, 'highlight': 4583, 'cosmetic': 4584, 'administrative': 4585, 'bangkok': 4586, 'failed': 4587, 'garbage': 4588, 'kawasaki': 4589, 'fast-food': 4590, 'carballo': 4591, 'rock': 4592, 'ailing': 4593, 'back': 4594, 'cardboard': 4595, 'sports': 4596, 'shoot': 4597, '1990s': 4598, 'chong-sik': 4599, 'chateau': 4600, 'fought': 4601, '7.3': 4602, 'patented': 4603, '12-member': 4604, 'haruki': 4605, 'ultimatum': 4606, 'month': 4607, 'altar': 4608, 'command': 4609, 'preventing': 4610, 'langner': 4611, 'opus': 4612, '200': 4613, 'slightly': 4614, 'hour': 4615, 'estimation': 4616, 'recommend': 4617, 'manager': 4618, '41': 4619, 'engaged': 4620, 'carlos': 4621, 'c$': 4622, 'bald-faced': 4623, 'self': 4624, 'wives': 4625, 'networks': 4626, 'rabia': 4627, 'relied': 4628, '4.1': 4629, 'roof': 4630, 'backe': 4631, 'unofficial': 4632, 'inaccurate': 4633, 'miti': 4634, 'innuendoes': 4635, 'exchanges': 4636, 'harder': 4637, 'representing': 4638, 'for': 4639, 'basically': 4640, 'seduce': 4641, 'stepping': 4642, 'lord': 4643, 'rudolph': 4644, 'quickly': 4645, 'phasing': 4646, '1.2': 4647, 'october': 4648, 'leap': 4649, 'hahn': 4650, '37': 4651, 'enjoying': 4652, 'emotions': 4653, '83.4': 4654, 'mistake': 4655, 'tuck': 4656, 'winiarski': 4657, 'users': 4658, 'violations': 4659, 'heart': 4660, 'valued': 4661, 'exciting': 4662, '0.25': 4663, 'region': 4664, 'acceleration': 4665, 'refitting': 4666, 'n.j.': 4667, 'jostle': 4668, 'speak': 4669, 'nielsen': 4670, 'braidwood': 4671, '225': 4672, 'transactions': 4673, 'enterprise': 4674, 'cranked': 4675, 'newgate': 4676, 'appliances': 4677, 'previously': 4678, 'came': 4679, 'maytag': 4680, 'obsessed': 4681, 'ensnarled': 4682, 'resort': 4683, '12,252': 4684, 'planned': 4685, 'crossed': 4686, 'exist': 4687, 'forest-products': 4688, 'comes': 4689, 'lobster': 4690, 'utilities': 4691, 'couples': 4692, 'japanese': 4693, 'treat': 4694, 'mayland': 4695, 'bricks': 4696, 'seven-year': 4697, 'beyond': 4698, 'nl': 4699, 'foundering': 4700, 'menem': 4701, 'featuring': 4702, 'colony': 4703, 'front-seat': 4704, 'itself': 4705, '8.04': 4706, 'victim': 4707, 'illinois': 4708, 'together': 4709, 'clark': 4710, 'uzi-model': 4711, 'regular': 4712, 'osborn': 4713, 'control': 4714, '85.1': 4715, 'tailoring': 4716, 'cathedral': 4717, 'admits': 4718, 'historical': 4719, 'credit': 4720, 'it': 4721, 'bonds': 4722, 'blessing': 4723, 'stuck': 4724, 'honors': 4725, 'jitters': 4726, 'escaped': 4727, 'excited': 4728, 'high-tech': 4729, 'westport': 4730, 'our': 4731, 'oppose': 4732, 'produce': 4733, 'subsequent': 4734, 'bigger': 4735, 'laurels': 4736, 'capitalist': 4737, 'juggernaut': 4738, 'relieved': 4739, 'hale': 4740, 'deeply': 4741, 'made': 4742, 'mother': 4743, 'local': 4744, 'payment': 4745, 'convinced': 4746, '187': 4747, 'ncnb': 4748, 'maryland': 4749, 'west': 4750, 'red-carpet': 4751, 'priced': 4752, 'gringo': 4753, 'fanfare': 4754, 'rampage': 4755, 'alysia': 4756, 'gayle': 4757, 'flexibility': 4758, 'legislators': 4759, 'concession': 4760, 'details': 4761, 'under': 4762, 'copied': 4763, 'copyright': 4764, 'jay': 4765, 'awful': 4766, 'administrations': 4767, \"'82\": 4768, 'bugs': 4769, 'angle': 4770, 'winning': 4771, 'philosophy': 4772, 'darkhorse': 4773, 'dissident': 4774, 'venerable': 4775, 'reruns': 4776, 'recent': 4777, 'invests': 4778, 'autions': 4779, 'rough': 4780, 'three-lawyer': 4781, 'mean': 4782, 'collar': 4783, 'earle': 4784, 'empowered': 4785, 'apple': 4786, 'ross': 4787, 'estimates': 4788, 'schoolchildren': 4789, 'facing': 4790, 'weekends': 4791, '54-year-old': 4792, 'autos': 4793, 'conn': 4794, 'san': 4795, 'william': 4796, 'apprehensive': 4797, 'b': 4798, 'favorable': 4799, 'toward': 4800, 'third-quarter': 4801, 'signals': 4802, 'waters': 4803, '0.5': 4804, 'anglia': 4805, 'markup': 4806, 'sun': 4807, 'barnum': 4808, 'employs': 4809, 'yield': 4810, 'strindberg': 4811, 'weeklies': 4812, '240,000': 4813, 'alerts': 4814, 'picking': 4815, 'alive': 4816, 'association': 4817, '2.5': 4818, \"'d\": 4819, 'opposition': 4820, 'u.k.': 4821, 'throws': 4822, '1,298': 4823, 'teetering': 4824, 'mouth-up': 4825, 'promptly': 4826, 'reaped': 4827, 'exercise': 4828, 'request': 4829, 'serves': 4830, 'durable-goods': 4831, 'adult': 4832, 'rey': 4833, 'island': 4834, 'import': 4835, 'dozen': 4836, 'exhibited': 4837, 'town': 4838, 'boosts': 4839, 'something': 4840, 'monopolize': 4841, 'napa': 4842, 'enticed': 4843, 'foreign': 4844, 'provoke': 4845, 'telegraph': 4846, 'hair': 4847, 'redeeming': 4848, 'arsenide': 4849, 'appreciation': 4850, 'indonesia': 4851, 'losing': 4852, \"creator's\": 4853, 'surprised': 4854, 'daiwa': 4855, 'hit': 4856, 'huntsville': 4857, '374.20': 4858, 'kept': 4859, 's&p': 4860, 'down': 4861, 'manually': 4862, 'widow': 4863, 'solely': 4864, 'spends': 4865, 'pollution': 4866, 'cedric': 4867, 'specialize': 4868, 'arrived': 4869, 'buttoned-down': 4870, 'rockefeller': 4871, 'iowa': 4872, 'copperweld': 4873, 'supreme': 4874, 'reducing': 4875, 'any': 4876, 'segmenting': 4877, 'everywhere': 4878, 'easier': 4879, 'minutes': 4880, 'aiming': 4881, 'story': 4882, 'vision': 4883, 'prison': 4884, 'hospitable': 4885, 'home-market': 4886, 'killing': 4887, 'question': 4888, 'privately': 4889, 'physical': 4890, 'anthony': 4891, 'commodore': 4892, 'pre-1933': 4893, 'measured': 4894, 'impending': 4895, 'tower': 4896, 'observers': 4897, 'low-ball': 4898, 'growing': 4899, 'grown': 4900, 'vitriolic': 4901, 'opened': 4902, 'plc': 4903, 'sense': 4904, 'concedes': 4905, 'purchase': 4906, 'father': 4907, 'analyze': 4908, 'negotiators': 4909, 'gold': 4910, 'soared': 4911, 'marbles': 4912, 'extend': 4913, 'billings': 4914, 'auto-safety': 4915, 'lottery': 4916, 'considerable': 4917, 'giuliani': 4918, 'unenticing': 4919, 'efforts': 4920, 'interview': 4921, 'cartoonist': 4922, 'experience': 4923, 'diseases': 4924, 'hostility': 4925, 'hubbard': 4926, 'valrico': 4927, 'believes': 4928, 'transplantation': 4929, 'otero': 4930, 'chaplin': 4931, 'inflation': 4932, 'solvent': 4933, 'queen': 4934, 'home': 4935, '62%-owned': 4936, 'civilization': 4937, 'u.s.-japan': 4938, 'hammerton': 4939, 'inherited': 4940, '1,620': 4941, 'aerospace': 4942, 'proceedings': 4943, 'store': 4944, 'withdrawn': 4945, 'machine-gun-toting': 4946, 'progressive': 4947, 'complained': 4948, 'charged': 4949, 'sympathy': 4950, 'forced': 4951, 'belongs': 4952, 'ran': 4953, 'expanded': 4954, 'firm': 4955, 'sachs': 4956, 'progress': 4957, 'screwed': 4958, 'atlanta': 4959, 'hhs': 4960, 'knocked': 4961, 'computerize': 4962, 'machinery': 4963, 'comprehensive': 4964, 'tools': 4965, 'al': 4966, 'returned': 4967, 'perhaps': 4968, 'fattened': 4969, 'sentencing': 4970, 'refund': 4971, 'remaining': 4972, '6,000': 4973, 'solicitation': 4974, 'bin': 4975, 'perritt': 4976, 'task': 4977, 'retort': 4978, 'precisely': 4979, 'dusty': 4980, 'discontinuing': 4981, 'said': 4982, 'alleging': 4983, 'jurisdictional': 4984, '6.21': 4985, 'altair': 4986, '127.03': 4987, 'actress': 4988, 'values': 4989, 'test-practice': 4990, 'portfolio': 4991, 'laser': 4992, 'found': 4993, 'listing': 4994, 'manner': 4995, '126,000': 4996, 'freedom': 4997, 'offset': 4998, 'returns': 4999, 'various': 5000, 'my': 5001, 'placed': 5002, 'resulting': 5003, 'louisiana': 5004, 'tatsunori': 5005, 'cancer': 5006, 'demographic': 5007, 'outranks': 5008, 'forecasts': 5009, 'russian': 5010, 'corporate': 5011, 'navigation': 5012, 'singapore': 5013, 'black': 5014, 'filled': 5015, 'say': 5016, 'setback': 5017, 'getting': 5018, 'editors': 5019, 'microcomputers': 5020, 'kent': 5021, 'accept': 5022, 'parts': 5023, 'domestic': 5024, 'implicit': 5025, 'ad': 5026, 'comtes': 5027, 'leading': 5028, 'closed-end': 5029, 'adams': 5030, '-rrb-': 5031, 'austria': 5032, 'significantly': 5033, 'pre-approved': 5034, 'eighth': 5035, 'investment': 5036, 'honorably': 5037, 'sort': 5038, 'arafat': 5039, 'press': 5040, 'formal': 5041, 'borders': 5042, 'resolve': 5043, 'kensington': 5044, 'railcars': 5045, 'hungary': 5046, 'fifteen': 5047, '1989': 5048, 'essays': 5049, 'having': 5050, 'swearingen': 5051, 'might': 5052, 'packaging': 5053, 'sr.': 5054, 'consultants': 5055, 'doonesbury': 5056, 'fraud': 5057, 'stiff': 5058, 'besides': 5059, 'unique': 5060, 'absorbed': 5061, 'dating': 5062, 'free': 5063, 'thirtysomething': 5064, 'categories': 5065, 'has': 5066, '55': 5067, 'obedient': 5068, 'nose': 5069, 'deposit': 5070, '3.23': 5071, 'convertible': 5072, 'barnett': 5073, 'administrator': 5074, 'lehman': 5075, 'owed': 5076, 'summer': 5077, 'well': 5078, 'greece': 5079, 'fixed': 5080, 'leeway': 5081, 'stars': 5082, 'christian': 5083, 'options': 5084, 'slippage': 5085, 'assisted': 5086, 'too': 5087, 'friend': 5088, '42.5': 5089, 'fallen': 5090, 'units': 5091, '77.70': 5092, 'mistrials': 5093, 'reading': 5094, 'portrayed': 5095, 'colo.': 5096, 'cooperation': 5097, 'aba': 5098, 'bermuda': 5099, '1980s': 5100, 'improves': 5101, 'pierre': 5102, 'changed': 5103, 'lion': 5104, '%': 5105, 'n.v.': 5106, 'garry': 5107, 'drinking': 5108, 'complaint': 5109, 'attention': 5110, 'ballroom': 5111, 'tuesday': 5112, '436.01': 5113, 'stare': 5114, 'oils': 5115, 'vansant': 5116, 'chabrol': 5117, '28': 5118, 'committee': 5119, 'jeremy': 5120, 'sticker': 5121, '70-a-share': 5122, 'bromwich': 5123, '4.25': 5124, 'upon': 5125, 'voices': 5126, 'window': 5127, 'syndication': 5128, 'toilet': 5129, 'vintages': 5130, 'salty': 5131, 'jersey': 5132, 'volatility': 5133, 'delegates': 5134, 'nevertheless': 5135, 'quips': 5136, 'thinking': 5137, 'actively': 5138, 'deteriorating': 5139, 'thomas': 5140, 'cites': 5141, 'murakami': 5142, 'latest': 5143, 'soft': 5144, 'boost': 5145, 'interpublic': 5146, 'fed': 5147, 'productivity': 5148, 'amin': 5149, 'statue': 5150, 'graduates': 5151, 'jr': 5152, 'nasdaq': 5153, 'mossman': 5154, 'polled': 5155, 'covers': 5156, 'understanding': 5157, 'altering': 5158, 'excess': 5159, 'historically': 5160, 'rockford': 5161, 'aircraft': 5162, 'kondo': 5163, 'midyear': 5164, 'buck': 5165, 'kuhns': 5166, 'ushering': 5167, 'ankle': 5168, 'subminimum': 5169, 'signing': 5170, 'marketplace': 5171, 'appellate': 5172, 'convicted': 5173, 'extra': 5174, 'trend': 5175, 'warns': 5176, 'poured': 5177, 'actions': 5178, 'banned': 5179, '456.64': 5180, 'procurement': 5181, 'elisabeth': 5182, 'ranged': 5183, 'venture': 5184, 'open-end': 5185, 'agreed': 5186, 'gyrations': 5187, 'romanee-conti': 5188, 'plaza': 5189, 'versions': 5190, 'unsympathetic': 5191, 'investor-relations': 5192, 'breaking': 5193, 'troubles': 5194, 'licensed': 5195, 'logo': 5196, 'tracks': 5197, 'consider': 5198, 'accepting': 5199, 'weak': 5200, 'rear-seat': 5201, 'percentage': 5202, 'single-handedly': 5203, 'document': 5204, 'genel': 5205, '50-state': 5206, 'late': 5207, 'spokesman': 5208, 'dahl': 5209, 'industrial': 5210, 'everyday': 5211, 'aired': 5212, 'textile': 5213, 'confines': 5214, 'interrogation': 5215, 'seeing': 5216, '7.90': 5217, 'steep': 5218, 'investigating': 5219, 'household': 5220, 'norwick': 5221, 'attributes': 5222, 'tag': 5223, 'rotie': 5224, 'white': 5225, 'mason': 5226, 'offending': 5227, 'myron': 5228, 'clays': 5229, 'nev.': 5230, 'payments': 5231, '17': 5232, 'connecticut': 5233, 'athletic': 5234, 'design': 5235, 'attached': 5236, 'creation': 5237, 'legal': 5238, 'ctbs': 5239, 'pointing': 5240, 'clamped': 5241, 'journalists': 5242, 'announcement': 5243, 'eye': 5244, 'following': 5245, 'sit': 5246, 'incentive': 5247, 'subskills': 5248, '98.3': 5249, 'protracted': 5250, 'microphone': 5251, 'weaken': 5252, 'stuart': 5253, 'correspondence': 5254, 'key': 5255, 'norwegian': 5256, 'noodles': 5257, 'population': 5258, 'metropolitan': 5259, 'column': 5260, 'offenders': 5261, 'gets': 5262, 'founded': 5263, 'retard': 5264, 'unfortunately': 5265, 'revolution': 5266, 'peals': 5267, 'debacle': 5268, 'purrs': 5269, 'provisions': 5270, 'meaningful': 5271, 'counterpart': 5272, 'picked': 5273, 'sayers': 5274, 'featured': 5275, '374.19': 5276, 'r.': 5277, 'western': 5278, 'completeness': 5279, '1950s': 5280, '8.22': 5281, 'mechanism': 5282, 'optimism': 5283, 'furukawa': 5284, 'fuming': 5285, 'eight': 5286, 'conduct': 5287, 'approves': 5288, 'completely': 5289, 'rollover': 5290, 'vitally': 5291, 'boutique': 5292, 'defuse': 5293, 'largest': 5294, 'smattering': 5295, 'pending': 5296, 'black-and-white': 5297, 'steeper': 5298, '3.3': 5299, 'belong': 5300, 'unsolicited': 5301, 'hamilton': 5302, 'troublesome': 5303, 'pretty': 5304, 'huntington': 5305, 'engineers': 5306, 'points': 5307, 'tumbled': 5308, 'approach': 5309, 'racing': 5310, 'force': 5311, 'sentiment': 5312, 'hung': 5313, 'participants': 5314, 'pro-democracy': 5315, 'bought': 5316, 'consecutive': 5317, 'considering': 5318, 'robert': 5319, '62.625': 5320, 'montedison': 5321, 'brace': 5322, 'niches': 5323, 'involving': 5324, 'plunging': 5325, 'hotels': 5326, 'partners': 5327, 'state': 5328, 'inner-city': 5329, 'shut': 5330, 'spain': 5331, '52-week': 5332, 'persuasion': 5333, 'ix': 5334, 'commanded': 5335, 'failing': 5336, 'accounting': 5337, 'questions': 5338, 'recyclability': 5339, 'strother': 5340, 'cheese': 5341, 'code': 5342, 'purchasing': 5343, 'bodner': 5344, 'of': 5345, 'index-arbitrage': 5346, 'test-coaching': 5347, 'writer': 5348, 'when': 5349, 'street': 5350, 'ps': 5351, 'tie-breaking': 5352, 're-election': 5353, 'box': 5354, 'escrow': 5355, 'joined': 5356, 'apologizing': 5357, 'macmillan\\\\/mcgraw': 5358, 'cement': 5359, 'owner': 5360, 'score': 5361, 'carefree': 5362, 'financial': 5363, 'contractors': 5364, 'polarized': 5365, 'division': 5366, 'ruled': 5367, 'eligible': 5368, 'read': 5369, 'more-efficient': 5370, 'sinister': 5371, 'wide': 5372, 'individual': 5373, 'impossible': 5374, 'cite': 5375, '57.50': 5376, 'away': 5377, 'cds': 5378, 'morgan': 5379, 'fumes': 5380, 'waiving': 5381, 'grants': 5382, 'piero': 5383, 'terrine': 5384, 'purepac': 5385, 'believe': 5386, 'valley': 5387, 'vineyard': 5388, 'assets': 5389, 'share': 5390, 'bickering': 5391, 'bowery': 5392, 'soho': 5393, 'socialist': 5394, 'weapon': 5395, '11,000': 5396, 'gradually': 5397, 'yes': 5398, 'refuses': 5399, '5.29': 5400, 'somebody': 5401, 'courtroom': 5402, 'male-only': 5403, 'trading': 5404, 'durable': 5405, 'russo': 5406, 'longer': 5407, 'portrayal': 5408, 'solidarity': 5409, 'sluggishness': 5410, 'spur': 5411, 'anybody': 5412, 'production': 5413, '1999': 5414, 'available': 5415, 'kind': 5416, 'snapped': 5417, 'watched': 5418, 'x': 5419, 'remember': 5420, 'taste': 5421, 'geography': 5422, 'lloyd': 5423, 'mickey': 5424, 'barriers': 5425, 'hefty': 5426, 'lapses': 5427, 'counterweight': 5428, 'institution': 5429, 'trotter': 5430, '61': 5431, 'volunteer': 5432, 'earns': 5433, '737.5': 5434, 'final': 5435, 'employment': 5436, 'beds': 5437, 'items': 5438, 'retailers': 5439, 'orleans': 5440, '35': 5441, 'monied': 5442, 'place': 5443, 'excluding': 5444, 'ahead': 5445, 'yielded': 5446, 'gunship': 5447, 'nutty': 5448, 'districts': 5449, '1987': 5450, 'male': 5451, '100,000': 5452, 'incredible': 5453, 'classified': 5454, 'realization': 5455, 'remodeling': 5456, 'plight': 5457, 'olympic': 5458, 'supportive': 5459, 'sphere': 5460, 'abating': 5461, 'nets': 5462, 'rep.': 5463, 'nestor': 5464, 'records': 5465, '301': 5466, 'disruption': 5467, 'probably': 5468, 'unimpeded': 5469, '80': 5470, 'pursuant': 5471, 'promising': 5472, 'aces': 5473, 'aquino': 5474, 'watches': 5475, 'achieving': 5476, 'visited': 5477, 'sandberg': 5478, 'reflecting': 5479, 'rent-a-car': 5480, 'macmillan': 5481, 'differences': 5482, 'aggressively': 5483, 'games': 5484, 'beijing': 5485, 'or': 5486, 'keidanren': 5487, 'rolled': 5488, 'anticipates': 5489, 'asks': 5490, 'field': 5491, 'lower-priority': 5492, 'seized': 5493, ',': 5494, '1.8500': 5495, 'propelling': 5496, 'occurrences': 5497, 'detroit': 5498, 'cleaned': 5499, 'clean': 5500, 'marchand': 5501, 'products': 5502, '155': 5503, 'specific': 5504, 'unjustified': 5505, 'nurtured': 5506, '271,124': 5507, 'play': 5508, 'mortimer': 5509, 'co-owner': 5510, '10-year': 5511, 'performed': 5512, 'consultant': 5513, 'transforming': 5514, 'scott': 5515, 'smaby': 5516, 'rights': 5517, '84-month': 5518, 'stored': 5519, 'resolution': 5520, '30-day': 5521, 'vagabond': 5522, 'showings': 5523, 'precious': 5524, 'rebuffed': 5525, 'climbed': 5526, 'foot': 5527, 'merger-related': 5528, 'chary': 5529, 'newspaper': 5530, 'nation': 5531, 'penetrate': 5532, 'slew': 5533, 'gives': 5534, 'fails': 5535, '88': 5536, 'little': 5537, 'widely': 5538, 'shares': 5539, 'jr.': 5540, 'hitachi': 5541, 'author': 5542, 'indeed': 5543, 'escalated': 5544, 'american': 5545, '142.85': 5546, 'strapped': 5547, 'scrupulously': 5548, 'redeemed': 5549, 'source': 5550, 'clemens': 5551, 'others': 5552, 'justice': 5553, 'earnings': 5554, 'procedures': 5555, 'throughout': 5556, 'taking': 5557, 'television': 5558, 'advertising': 5559, 'albert': 5560, 'primary': 5561, 'warnings': 5562, 'educational': 5563, 'brought': 5564, 'extremely': 5565, '143.93': 5566, 'diplomacy': 5567, 'brenda': 5568, 'crown': 5569, 'henderson': 5570, 'age': 5571, 'male-dominated': 5572, 'forgiven': 5573, 'stearn': 5574, 'favored': 5575, 'sherwin': 5576, 'preferred': 5577, '29.3': 5578, 'certificate': 5579, 'accurate': 5580, 'democrat': 5581, 'loveliest': 5582, 'educated': 5583, 'keyboards': 5584, 'enough': 5585, 'beforehand': 5586, 'european': 5587, '1\\\\/4': 5588, 'architecture': 5589, 'laura': 5590, '62.5': 5591, 'decides': 5592, 'anything': 5593, 'birmingham': 5594, 'lane': 5595, 'testify': 5596, 'beverly': 5597, 'hawke': 5598, 'holdings': 5599, 'ltv': 5600, 'choice': 5601, 'like': 5602, 'disturbs': 5603, 'shops': 5604, 'star': 5605, 'promote': 5606, \"'\": 5607, 'shop': 5608, 'school': 5609, 'operational': 5610, 'boorse': 5611, 'clear': 5612, 'response': 5613, 'greater': 5614, 'polytechnic': 5615, 'strip': 5616, 'cope': 5617, 'role': 5618, 'life': 5619, 'malcolm': 5620, 'discourage': 5621, 'gotta': 5622, 'misdemeanor': 5623, 'achievement': 5624, 'exceptional': 5625, 'certificates': 5626, 'life-style': 5627, 'own': 5628, 'debt': 5629, 'moderate': 5630, 'goverment': 5631, 'premium': 5632, 'shipping': 5633, 'falling': 5634, 'economy': 5635, 'basic': 5636, 'single': 5637, '6': 5638, 'privileged': 5639, 'caveat': 5640, '46': 5641, 'restructured': 5642, 'einhorn': 5643, '415.8': 5644, '3.61': 5645, 'sometimes-tawdry': 5646, 'prospectively': 5647, 'odd': 5648, 'hero': 5649, 'struggled': 5650, 'watching': 5651, 'cuvees': 5652, 'capture': 5653, 'designing': 5654, 'extended': 5655, 'harshly': 5656, 'bled': 5657, 'map': 5658, 'violence': 5659, 'roosevelt': 5660, 'modest': 5661, 'declare': 5662, '5.9': 5663, 'harcourt': 5664, 'plane': 5665, 'stores': 5666, 'himself': 5667, 'football': 5668, 'stations': 5669, 'unusually': 5670, 'pre-emptive': 5671, 'labor': 5672, 'guest': 5673, 'station': 5674, 'computer-generated': 5675, 'engineered': 5676, 'muffled': 5677, 'page': 5678, 'clubs': 5679, 'hitter': 5680, 'identified': 5681, 'feed': 5682, '7\\\\/8': 5683, 'berliner': 5684, 'thursday': 5685, 'prices': 5686, 'purely': 5687, '4': 5688, 'limits': 5689, 'complaints': 5690, '133.8': 5691, 'australian': 5692, 'except': 5693, 'triggered': 5694, 'malizia': 5695, 'chocolate': 5696, 'nobody': 5697, 'finest': 5698, 'exposed': 5699, 'launched': 5700, 'co': 5701, 'average': 5702, 'announce': 5703, 'best-seller': 5704, '8.45': 5705, 'virginians': 5706, 'barfield': 5707, 'nesb': 5708, 'reopen': 5709, 'usually': 5710, 'appeared': 5711, 'higher': 5712, 'brownstein': 5713, 'monitor': 5714, 'nelson': 5715, 'brunswick': 5716, 'search': 5717, 'fraction': 5718, 'poland': 5719, 'school-board': 5720, 'wholesale': 5721, 'rhythm': 5722, 'explorer': 5723, 'ropes': 5724, '0.1': 5725, 'system': 5726, 'hudson': 5727, 'higher-salaried': 5728, 'dallara': 5729, 'aids': 5730, 'crossing': 5731, 'baris': 5732, 'amend': 5733, 'arizona': 5734, 'breakfast': 5735, 'shirt-sleeved': 5736, 'pack': 5737, 'prospects': 5738, 'associated': 5739, '154.2': 5740, 'inching': 5741, 'squad': 5742, 'fainting': 5743, 'pealing': 5744, 'initiative': 5745, 'penetration': 5746, 'contain': 5747, 'superior': 5748, 'squeezed': 5749, 'korea': 5750, 'pep': 5751, 'especially': 5752, 'minneapolis': 5753, 'automotive-parts': 5754, 'skin': 5755, 'lend-lease': 5756, '340,000': 5757, 'yesterday': 5758, 'ventures': 5759, '1.85': 5760, 'competing': 5761, 'served': 5762, 'push': 5763, 'felten': 5764, 'witness': 5765, 'network': 5766, 'lift': 5767, 'familiarization': 5768, 'government-certified': 5769, 'germans': 5770, 'fannie': 5771, 'every': 5772, 'advantage': 5773, 'we': 5774, 't-shirts': 5775, 'introduced': 5776, 'dunn': 5777, 'sogo-shosha': 5778, 'siegal': 5779, 'the': 5780, 'frequently': 5781, 'quality': 5782, '9,118': 5783, 'faster': 5784, 'systematic': 5785, 'declared': 5786, 'roger': 5787, 'assurance': 5788, 'impartial': 5789, 'undertaking': 5790, 'fights': 5791, 'automobile': 5792, 'burdens': 5793, '60,000': 5794, 'purchasers': 5795, 'situations': 5796, 'becoming': 5797, 'knitted': 5798, 'apartment': 5799, 'cancer-causing': 5800, 'scherer': 5801, 'pianist-comedian': 5802, 'putting': 5803, 'grandfather': 5804, 'speedway': 5805, 'fifth': 5806, 'opens': 5807, 'sympathetic': 5808, 'insidious': 5809, 'he': 5810, 'honor': 5811, 'jam': 5812, 'me': 5813, 'lancaster': 5814, 'outlawed': 5815, 'blanchard': 5816, 'committed': 5817, 'romanticized': 5818, 'compares': 5819, 'red': 5820, 'long-time': 5821, 'pressure': 5822, 'manhattan': 5823, 'pumping': 5824, 'surrender': 5825, 'consensus': 5826, '66.5': 5827, 'wisdom': 5828, 'schools': 5829, 'event': 5830, 'lab': 5831, 'austrian': 5832, 'shore': 5833, 'devastating': 5834, 'owners': 5835, 'even': 5836, 'pacific': 5837, 'monthly': 5838, 'creditors': 5839, 'politely': 5840, 'solid': 5841, 'partially': 5842, 'pre-communist': 5843, 'interests': 5844, 'magazines': 5845, 'merchandise': 5846, 'whistle': 5847, 'board': 5848, 'water': 5849, 'machine': 5850, 'devices': 5851, 'twin': 5852, 'leinonen': 5853, 'rope-sight': 5854, 'slipped': 5855, 'construction': 5856, 'integration': 5857, 'automobiles': 5858, '847': 5859, 'dennis': 5860, 'willingness': 5861, 'painted': 5862, 'curb': 5863, 'gifts': 5864, 'meinders': 5865, 'satrum': 5866, 'leveling': 5867, 'achievement-test': 5868, 'sketching': 5869, 'bolduc': 5870, 'tassinari': 5871, 'often': 5872, 'potential': 5873, 'job': 5874, 'rises': 5875, 'managing': 5876, 'smith': 5877, 'competitions': 5878, 'pre-cooked': 5879, 'parishioners': 5880, 'hermitage': 5881, 'railroad': 5882, 'expires': 5883, 'drain': 5884, 'club': 5885, 'cash-rich': 5886, 'sometimes': 5887, 'point': 5888, 'suspend': 5889, 'six-inch': 5890, 'low': 5891, 'leases': 5892, 'minority': 5893, 'logjam': 5894, '2-8': 5895, 'characters': 5896, 'permanent': 5897, 'practice': 5898, 'finmeccanica': 5899, 'lumpur': 5900, 'murder': 5901, 'decade': 5902, '236.79': 5903, 'interest-bearing': 5904, '200,000': 5905, 'reference': 5906, 'practices': 5907, 'insolvency': 5908, 'temporarily': 5909, 'begin': 5910, '120': 5911, '62-year-old': 5912, 'playful': 5913, 'printed': 5914, 'survey': 5915, '767': 5916, 'reaches': 5917, 'talked': 5918, 'tree': 5919, 'radically': 5920, 'gelatin': 5921, 'mobile': 5922, 'cruising': 5923, 'expecting': 5924, 'counts': 5925, 'represent': 5926, 'fearful': 5927, 'july': 5928, 'criticized': 5929, 'punishable': 5930, 'unrealistically': 5931, 'phillips': 5932, 'subindustry': 5933, 'campaigning': 5934, 'payoff': 5935, 'saturday': 5936, 'cigarette': 5937, 'flush': 5938, 'sounds': 5939, 'retained': 5940, 'doctors': 5941, 'interim': 5942, 'emphasis': 5943, 'road': 5944, 'reach': 5945, 'prominent': 5946, 'totaled': 5947, 'remain': 5948, 'pregnant': 5949, 'nonfat': 5950, 'exports': 5951, 'blacks': 5952, 'aslacton': 5953, 'vinken': 5954, 'admitted': 5955, 'superintendent': 5956, 'rings': 5957, 'eternal': 5958, 'mrs.': 5959, '14,821': 5960, 'bang': 5961, 'booklet': 5962, '3\\\\/4': 5963, 'supplies': 5964, 'current': 5965, 'chinese': 5966, 'u.s.a.': 5967, 'homeless': 5968, 'medical': 5969, 'buy': 5970, 'securities-based': 5971, 'instance': 5972, 'l.': 5973, 'acquiring': 5974, 'integrated': 5975, 'elite': 5976, 'hundred': 5977, 'breaks': 5978, 'among': 5979, 'taxes': 5980, 'require': 5981, 'really': 5982, 'assemble': 5983, 'cleveland': 5984, 'bid': 5985, 'symphony': 5986, 'congressional': 5987, 'report': 5988, 'mining': 5989, 'someone': 5990, 'gerhard': 5991, 'boone': 5992, 'mesnil': 5993, 'abortions': 5994, 'steps': 5995, 'smooth': 5996, 'curse': 5997, 'davies': 5998, 'tactics': 5999, 'starters': 6000, 'linked': 6001, 'encircling': 6002, 'dumped': 6003, 'price': 6004, '69-point': 6005, 'li': 6006, 'range': 6007, 'represents': 6008, 'luck': 6009, 'broke': 6010, 'correll': 6011, 'berger': 6012, 'toronto': 6013, 'investigations': 6014, 'remarks': 6015, 'segment': 6016, 'mathematics': 6017, 'banks': 6018, 'assembled': 6019, 'summoned': 6020, 'requirements': 6021, 'equals': 6022, 'claude': 6023, 'credibility': 6024, 'attend': 6025, 'short-lived': 6026, 'ward': 6027, 'pre-1917': 6028, 'craft': 6029, 'insisted': 6030, 'drop': 6031, 'patterns': 6032, 'apology': 6033, 'investors': 6034, 'year-end': 6035, 'pact': 6036, 'barbaresco': 6037, 'trettien': 6038, 'forms': 6039, 'countries': 6040, 'virtually': 6041, 'rhythmically': 6042, 'insists': 6043, 'sustained': 6044, 'aspects': 6045, 'pace': 6046, 'swiftly': 6047, 'all': 6048, 'retiring': 6049, 'uncharted': 6050, 'unfilled': 6051, 'obtained': 6052, 'first-time': 6053, 'ton': 6054, '85': 6055, 'unrestricted': 6056, 'estate': 6057, 'concentration': 6058, 'race': 6059, 'cast': 6060, 'lasted': 6061, 'ketchum': 6062, 'crocidolite': 6063, 'surrendered': 6064, 'sacramento-based': 6065, 'jury': 6066, 'brunei': 6067, 'sat': 6068, 'team': 6069, 'outrage': 6070, 'northern': 6071, 'lovely': 6072, 'attempts': 6073, 'died': 6074, 'cocoa': 6075, 'transferring': 6076, 'illegally': 6077, 'one-upsmanship': 6078, 'none': 6079, 'far': 6080, 'stress': 6081, 'del': 6082, 'syndrome': 6083, 'onto': 6084, 'personnel': 6085, 'economic': 6086, '50': 6087, 'diversify': 6088, 'souper': 6089, 'suggested': 6090, 'conglomerate': 6091, 'functions': 6092, 'kicker': 6093, 'attitude': 6094, 'nesconset': 6095, 'taiwan': 6096, 'polls': 6097, 'retailing': 6098, 'occupant': 6099, 'shirts': 6100, 'avrett': 6101, 'cars': 6102, 'color': 6103, 'nbi': 6104, 'lee': 6105, 'valuation': 6106, 'degree': 6107, 'andrew': 6108, 'shallow': 6109, 'death': 6110, 'assistant': 6111, 'tension': 6112, 'do': 6113, 'conflicts': 6114, 'succeeds': 6115, 'nonfinancial': 6116, 'protect': 6117, 'consomme': 6118, 'glauber': 6119, 'excessive': 6120, '3.5': 6121, '360': 6122, 'frantic': 6123, 'regenerate': 6124, '4.4': 6125, 'louisville': 6126, 'nor': 6127, 'landonne': 6128, 'benign': 6129, 'suit': 6130, 'airports': 6131, 'subordinate': 6132, '500': 6133, '700': 6134, 'mara': 6135, 'pictures': 6136, 'shortage': 6137, 'supplier': 6138, 'counterattack': 6139, 'satisfactory': 6140, 'centennial': 6141, 'wong': 6142, 'bright': 6143, 'partisans': 6144, 'perception': 6145, 'quiet': 6146, 'charlie': 6147, 'nissho-iwai': 6148, '1.75': 6149, '1956': 6150, 'same': 6151, 'wine': 6152, 'tiny': 6153, 'klauser': 6154, 'mrs': 6155, 'concept': 6156, 'n.j': 6157, 'steven': 6158, 'shovels': 6159, 'money-center': 6160, 'brat': 6161, 'sponsor': 6162, 'lying': 6163, 'living': 6164, 'mechanical': 6165, 'midvale': 6166, 'rather': 6167, 'carries': 6168, 'weekly': 6169, 'judie': 6170, 'barney': 6171, 'recognize': 6172, 'chardonnays': 6173, 'eliminates': 6174, 'yields': 6175, 'carefully': 6176, 'mature': 6177, 'charlotte': 6178, 'exercisable': 6179, 'requirement': 6180, 'private': 6181, 'appointed': 6182, 'performing': 6183, 'pleaded': 6184, 'mark': 6185, 'fashion': 6186, 'poore': 6187, 'revenue-desperate': 6188, 'halt': 6189, 'tightened': 6190, 'openly': 6191, 'coors': 6192, 'mcauley': 6193, 'recorded': 6194, 'data': 6195, 'school-improvement': 6196, 'remove': 6197, 'earlier': 6198, 'notes': 6199, 'kane': 6200, '86': 6201, 'duty-free': 6202, 'tense': 6203, 'buses': 6204, 'arthur': 6205, 'kenneth': 6206, '&': 6207, 'hospital': 6208, 'glamorize': 6209, 'parent': 6210, 'jobs': 6211, 'photographic': 6212, 'las': 6213, 'burden': 6214, 'nothing': 6215, 'protected': 6216, 'befuddled': 6217, '20.5': 6218, '70.7': 6219, 'longest': 6220, 'angier': 6221, 'washington-based': 6222, 'drums': 6223, 'by': 6224, 'chinchon': 6225, 'markets': 6226, 'movie': 6227, 'anger': 6228, 'wakayama': 6229, 'thrall': 6230, 'told': 6231, 'april': 6232, 'cute': 6233, 'michigan': 6234, 'unwary': 6235, 'hard': 6236, 'sums': 6237, 'mailing': 6238, 'off-off': 6239, '11,762': 6240, 'energy-services': 6241, 'sticker-shock': 6242, 'dismay': 6243, 'diamond': 6244, 'compensation': 6245, 'arabia': 6246, 'photograph': 6247, 'capital': 6248, 'negotiations': 6249, 'minus': 6250, 'film': 6251, 'lawsuit': 6252, 'dwindling': 6253, 'politicians': 6254, 'mazda': 6255, 'auctioned': 6256, 'wilson': 6257, 'finally': 6258, 'requires': 6259, 'opportunity': 6260, 'deliver': 6261, 'bumkins': 6262, 'mounted': 6263, 'hire': 6264, 'substance': 6265, 'plainclothes': 6266, 'america': 6267, 'buying': 6268, 'swelling': 6269, 'at&t': 6270, 'makers': 6271, 'noted': 6272, 'stringently': 6273, 'rusted': 6274, 'familiar': 6275, 'diversionary': 6276, 'argentine': 6277, 'preparatives': 6278, 'met': 6279, 'linda': 6280, 'fluctuation': 6281, '850': 6282, 'worst-case': 6283, 'hoopla': 6284, 'stirrings': 6285, '10,000': 6286, '15,000': 6287, 'sizable': 6288, 'you': 6289, 'consonant': 6290, 'high-level': 6291, '2.65': 6292, 'intended': 6293, 'coincident': 6294, 'restrictions': 6295, 'purhasing': 6296, 'discontinue': 6297, 'and': 6298, 'reorganization': 6299, 'round': 6300, 'slow': 6301, 'tow': 6302, 'pick': 6303, '150-point': 6304, 'one-hour': 6305, 'withdraw': 6306, 'operators': 6307, 'inflationary': 6308, 'southeast': 6309, 'basham': 6310, 'engineer': 6311, 'officially': 6312, 'fires': 6313, 'fiber': 6314, 'n.c': 6315, 'scrutiny': 6316, 'judgments': 6317, 'lawmakers': 6318, 'reportedly': 6319, 'corrigan': 6320, 'obligations': 6321, 'advanced': 6322, 'wear': 6323, 'market-share': 6324, 'indicated': 6325, 'types': 6326, 'scrapped': 6327, 'models': 6328, 'can': 6329, 'wish': 6330, 'funny': 6331, 'continue': 6332, 'cbs': 6333, 'n.c.': 6334, 'circumstances': 6335, 'publicized': 6336, 'nearly-30': 6337, 'compete': 6338, 'expected': 6339, 'fact': 6340, 'viacom': 6341, 'britain': 6342, 'lady': 6343, '55-year-old': 6344, 'chopped': 6345, 'art': 6346, 'approved': 6347, 'model': 6348, 'reported': 6349, 'tax': 6350, 'initialing': 6351, 'pistols': 6352, 'breakdown': 6353, 'flap': 6354, 'access': 6355, 'scores': 6356, 'invest': 6357, 'ties': 6358, '251.2': 6359, 'stressing': 6360, 'recently': 6361, 'die': 6362, 'started': 6363, 'providence': 6364, 'documents': 6365, 'fiscal': 6366, 'courts': 6367, 'fetal-tissue': 6368, 'exceed': 6369, 'unfathomable': 6370, 'sweat': 6371, 'gulf': 6372, 'novel': 6373, 'consists': 6374, 'beautiful': 6375, 'hobbyists': 6376, 'students': 6377, 'hurting': 6378, 'group': 6379, '1.82': 6380, 'easing': 6381, 'claims': 6382, 'hottest': 6383, 'ala': 6384, 'including': 6385, 'two': 6386, 'consent': 6387, 'fulbright': 6388, 'product-design': 6389, 'prying': 6390, 'considerably': 6391, 'skirmishes': 6392, 'teachers': 6393, '22': 6394, 'efficiencies': 6395, 'ddb': 6396, 'internal': 6397, 'good-natured': 6398, 'life-insurance': 6399, '42': 6400, 'carry': 6401, 'gentle': 6402, 'consented': 6403, 'cab': 6404, 'latour': 6405, 'before': 6406, 'strong-willed': 6407, 'undiplomatic': 6408, 'humans': 6409, 'success': 6410, 'scrape': 6411, 'ii': 6412, 'london': 6413, 'knowledge': 6414, 'end': 6415, 'scared': 6416, 'tourism': 6417, 'jugglers': 6418, 'reward': 6419, 'governor': 6420, 'signet': 6421, 'original': 6422, 'smallest': 6423, 'know': 6424, 'court-ordered': 6425, 'member': 6426, 'right': 6427, 'floyd': 6428, 'battery-operated': 6429, '45.3': 6430, 'declines': 6431, '320': 6432, 'bidding': 6433, 'retain': 6434, 'continually': 6435, 'wtd': 6436, 'strike': 6437, 'calder': 6438, 'silent': 6439, 'contingent': 6440, 'acquire': 6441, '7.5': 6442, 'truce': 6443, 'stalemate': 6444, 'alurralde': 6445, 'anti-china': 6446, 'style': 6447, 'notably': 6448, 'aspersions': 6449, 'regulation': 6450, 'serious': 6451, 'five': 6452, 'leo': 6453, 'trouble': 6454, 'deborah': 6455, 'accountants': 6456, 'annoyed': 6457, 'structurally': 6458, '50.38': 6459, 'oilman': 6460, 'bundling': 6461, 'replacing': 6462, 'nederlanden': 6463, 'says': 6464, '@': 6465, 'mayer': 6466, '321,000': 6467, 'smiles': 6468, 'contacted': 6469, 'at': 6470, 'happy': 6471, 'painting': 6472, 'approaches': 6473, 'god': 6474, 'faulding': 6475, 'reject': 6476, 'asada': 6477, 'classical': 6478, 'red-flag': 6479, 'mania': 6480, 'unlike': 6481, 'similarity': 6482, 'ending': 6483, 'cabernets': 6484, 'fremantle': 6485, 'motion': 6486, 'small': 6487, 'expunged': 6488, 'sub-segments': 6489, 'begins': 6490, 'j.': 6491, 'bronze': 6492, 'dec.': 6493, 'article': 6494, 'washington': 6495, 'dresser': 6496, 'not': 6497, 'francis': 6498, 'alliance': 6499, 'omitted': 6500, 'indicator': 6501, 'pty.': 6502, 'section': 6503, 'ferc': 6504, 'traveling': 6505, 'revising': 6506, 'intervention': 6507, 'sale': 6508, 'fang': 6509, 'reasserts': 6510, 'top': 6511, 'agrees': 6512, 'alvin': 6513, 'presidential': 6514, 'du': 6515, 'empty': 6516, 'researching': 6517, '230-215': 6518, 'three': 6519, 'sir': 6520, 'began': 6521, 'conforms': 6522, 'ships': 6523, 'cover': 6524, '1997': 6525, 'ten': 6526, 'attacks': 6527, 'appointment': 6528, 'him': 6529, 'symptoms': 6530, 'champagne': 6531, 'offered': 6532, '0.7': 6533, 'youthful': 6534, 'caretaker': 6535, '9.37': 6536, 'wary': 6537, 'marion': 6538, 'residential': 6539, 'voice': 6540, 'davis': 6541, 'mired': 6542, '30,000': 6543, 'speaking': 6544, 'acknowledge': 6545, 'high-priced': 6546, 'newer': 6547, '19.3': 6548, 'clara': 6549, 'effects': 6550, 'wants': 6551, 'chalk': 6552, 'gaja': 6553, 'shearson': 6554, 'papers': 6555, 'dom': 6556, 'non-religious': 6557, 'seller': 6558, 'akio': 6559, 'taken': 6560, 'lesson': 6561, '15': 6562, 'once': 6563, 'graham': 6564, 'r.p.': 6565, 'cheating': 6566, 'reservations': 6567, 'daily': 6568, 'interviews': 6569, 'public': 6570, 'modifications': 6571, 'bilateral': 6572, 'unproductive': 6573, 'loan': 6574, 'goes': 6575, 'advancing': 6576, 'collapsed': 6577, 'mich.': 6578, 'polystyrene': 6579, 'a.': 6580, 'introducing': 6581, 'rising': 6582, 'sweetened': 6583, 'interbank': 6584, '1637': 6585, 'hands': 6586, 'lasalle': 6587, '1972': 6588, 'start': 6589, 'shrinks': 6590, 'direct': 6591, 'ingersoll-rand': 6592, 't.': 6593, 'queers': 6594, 'california': 6595, 'dominance': 6596, 'create': 6597, 'bonuses': 6598, 'trying': 6599, 'transportation': 6600, 'garage': 6601, 'spot': 6602, 'talk': 6603, 'front': 6604, 'arms': 6605, 'extension': 6606, 'companies': 6607, 'merit': 6608, 'conditional': 6609, 'bancorp': 6610, '1987-88': 6611, 'indulging': 6612, 'tissues': 6613, 'enabling': 6614, '20,000': 6615, 'concern': 6616, 'open': 6617, 'simon': 6618, 'wo': 6619, 'why': 6620, 'states': 6621, 'devised': 6622, 'rhone': 6623, 'genie': 6624, 'regulated': 6625, 'lewis': 6626, 'examination': 6627, 'leaves': 6628, 'dompierre': 6629, 'what': 6630, '0.4': 6631, 'financed': 6632, 'studying': 6633, 'la.': 6634, 'flood': 6635, 'warrant': 6636, 'arguments': 6637, 'trap': 6638, 'banquet': 6639, 'capitol': 6640, 'swim': 6641, 'consist': 6642, '382-37': 6643, 'mixed': 6644, 'arbitrage': 6645, 'parishes': 6646, '3.18': 6647, 'alone': 6648, 'condemning': 6649, 'samuel': 6650, 'marks': 6651, 'ian': 6652, 'sets': 6653, 'raul': 6654, 'events': 6655, 'carillons': 6656, 'imaginative': 6657, 'odd-sounding': 6658, '121.6': 6659, 'visiting': 6660, 'nickel': 6661, 'six-month': 6662, 'initial': 6663, 'receive': 6664, '228': 6665, 'whipsaw': 6666, 'amended': 6667, '2,303,328': 6668, 'fared': 6669, 'substantial': 6670, 'hydraulically': 6671, 'woodcliff': 6672, 'intoxication': 6673, 'post': 6674, 'bureau': 6675, 'theological': 6676, 'device': 6677, '150': 6678, 'giraud': 6679, 'calculate': 6680, 'warner': 6681, 'refunded': 6682, 'green': 6683, 'drivers': 6684, 'ability': 6685, 'used': 6686, 'drive': 6687, 'defense': 6688, 'babcock': 6689, 'policy': 6690, 'lack': 6691, 'showed': 6692, 'yen-support': 6693, 'coincidental': 6694, 'macdonald': 6695, 'troop': 6696, 'in': 6697, '72': 6698, '95,142': 6699, 'phipps': 6700, '3057': 6701, 'northeast': 6702, 'during': 6703, '28.6': 6704, \"'50s\": 6705, 'expire': 6706, 'energetic': 6707, 'collection': 6708, 'broad': 6709, 'possibility': 6710, 'effort': 6711, 'donoghue': 6712, 'fined': 6713, 'duchossois': 6714, '25': 6715, 'steelmaker': 6716, 'skip': 6717, 'loans': 6718, 'nilson': 6719, 'captivating': 6720, 'disappointment': 6721, 'counting': 6722, 'lower': 6723, 'campaign': 6724, 'resources': 6725, 'currency': 6726, 'wednesday': 6727, 'referendum': 6728, 'if': 6729, 'negotiator': 6730, '1.1': 6731, 'gift': 6732, 'increasingly': 6733, 'vermont': 6734, 'floating-rate': 6735, 'alternative': 6736, 'abbot': 6737, 'copies': 6738, 'history': 6739, 'townes': 6740, 'rates': 6741, 'glendale': 6742, 'reductions': 6743, 'itoh': 6744, 'via': 6745, 'inc': 6746, 'journalistic': 6747, 'methods': 6748, 'peal': 6749, 'fret': 6750, 'ilminster': 6751, '445': 6752, 'derek': 6753, 'barbara': 6754, 'stance': 6755, 'year-to-year': 6756, 'settle': 6757, 'passing': 6758, 'old-house': 6759, 'kodansha': 6760, 'petroleum': 6761, 'edward': 6762, 'mainly': 6763, 'almost': 6764, 'seasonally': 6765, 'hostile': 6766, 'panel': 6767, 'keeping': 6768, 'generally': 6769, 'borrowed': 6770, 'behavior': 6771, 'teacher': 6772, 'afternoon': 6773, 'kill': 6774, '38.375': 6775, '32.8': 6776, 'canepa': 6777, 'admitting': 6778, 'gerald': 6779, 'river': 6780, 'insurance': 6781, 'contributors': 6782, 'michaels': 6783, '295': 6784, 'additions': 6785, 'sign': 6786, 'services': 6787, 'two-thirds': 6788, 'sudden': 6789, 'reserves': 6790, 'milne': 6791, 'boesel': 6792, '30-year': 6793, 'tire': 6794, 'betrayer': 6795, 'michael': 6796, 'pose': 6797, 'harm': 6798, 'critics': 6799, 'solihull': 6800, 'issues': 6801, 'prefectural': 6802, 'waterworks': 6803, 'develop': 6804, 'jersey-based': 6805, 'ringer': 6806, 'strongly': 6807, 'alleghany': 6808, 'offers': 6809, 'asbestosis': 6810, 'won': 6811, 'pages': 6812, '1961': 6813, 'transporting': 6814, 'expansion': 6815, 'fans': 6816, 'negatives': 6817, 'bad': 6818, 'ensrud': 6819, 'assertions': 6820, 'imperative': 6821, 'useful': 6822, 'bless': 6823, 'decorated': 6824, 'figures': 6825, 'lost': 6826, 'outsiders': 6827, 'w.r.': 6828, 'presence': 6829, 'pie': 6830, 'stone': 6831, 'pulls': 6832, 'forecast': 6833, 'exceptionally': 6834, 'responding': 6835, 'arguing': 6836, 'st.': 6837, 'angels': 6838, '13,056': 6839, 'reader': 6840, 'revived': 6841, 'danville': 6842, 'loews': 6843, 'stag': 6844, 'employers': 6845, 'estimated': 6846, 'bureaucratic': 6847, 'doctorate': 6848, 'gary': 6849, 'rarefied': 6850, '0.9': 6851, 'derivatives': 6852, 'friends': 6853, 'crew': 6854, 'drag-down': 6855, 'designer': 6856, 'techniques': 6857, 'five-year': 6858, 'ltd': 6859, 'supply': 6860, 'slower': 6861, 'closely': 6862, 'installed': 6863, 'chiefly': 6864, 'citizens': 6865, '26,000': 6866, 'want': 6867, 'specialists': 6868, 'authors': 6869, 'intermediate': 6870, 'ordered': 6871, 'try': 6872, 'activity': 6873, 'surprising': 6874, 'welcomed': 6875, 'thin-lipped': 6876, 'hayes': 6877, 'reaction': 6878, 'commodities': 6879, 'millions': 6880, 'corestates': 6881, 'chase': 6882, 'staggering': 6883, 'party': 6884, 'discouraging': 6885, 'intricate': 6886, 'texas': 6887, 'screen': 6888, 'mere': 6889, 'appears': 6890, 'enter': 6891, 'photographs': 6892, 'john': 6893, 'manages': 6894, 'florio': 6895, 'costs': 6896, 'receiving': 6897, 'members': 6898, 'cannell': 6899, 'lungs': 6900, 'koito': 6901, 'dismissal': 6902, 'cabinet': 6903, 'ancillary': 6904, 'self-esteem': 6905, 'concentrating': 6906, 'way': 6907, 'action': 6908, 'marshall': 6909, '#': 6910, 'gangs': 6911, 'slashing': 6912, 'usual': 6913, 'fujitsu': 6914, 'intertitles': 6915, 'yale': 6916, 'normal': 6917, 'ranks': 6918, 'proposal': 6919, 'features': 6920, 'get-out-the-vote': 6921, '2': 6922, 'inside': 6923, 'entangled': 6924, 'schedule': 6925, 'imsai': 6926, 'retaliation': 6927, 'commercial': 6928, 'smokers': 6929, 'declaration': 6930, 'bargain': 6931, 'understatement': 6932, 'nervous': 6933, 'counter': 6934, 'signaling': 6935, 'edge': 6936, 'skittishness': 6937, 'june': 6938, 'repair': 6939, 'allegations': 6940, 'cocky': 6941, 'impressed': 6942, 'takeshi': 6943, 'contemporary': 6944, 'parking': 6945, 'entering': 6946, 'structural': 6947, 'merrick': 6948, 'celebrate': 6949, 'flows': 6950, 'finds': 6951, 'classed': 6952, 'johnson': 6953, 'uncanny': 6954, 'citing': 6955, 'figure': 6956, 'containers': 6957, 'strategic': 6958, 'rounds': 6959, 'inappropriate': 6960, 'describe': 6961, 'homes': 6962, 'predictable': 6963, 'platt': 6964, 'rexinger': 6965, 'harass': 6966, 'eric': 6967, 'targeting': 6968, 'affiliate': 6969, 'overlap': 6970, 'weighing': 6971, 'passages': 6972, 'erasures': 6973, 'traitor': 6974, 'reduction': 6975, 'quick': 6976, 'fargo': 6977, 'show': 6978, 'another': 6979, 'ricken': 6980, 'temple': 6981, 'mail': 6982, 'rapists': 6983, 'entire': 6984, 'embarrassing': 6985, 'factor': 6986, 'dilemma': 6987, 'fees': 6988, 'chance': 6989, 'peripheral': 6990, 'plastic': 6991, 'genuine': 6992, 'video': 6993, 'walt': 6994, 'normally': 6995, 'divest': 6996, 'course': 6997, 'modestly': 6998, '19': 6999, 'warrants': 7000, 'dessert': 7001, 'pointed': 7002, 'h.n.': 7003, 'maughan': 7004, 'brown': 7005, 'night': 7006, '339': 7007, 'implant': 7008, 'high-quality': 7009, 'will': 7010, 'david': 7011, 'shapiro': 7012, 'bell-ringer': 7013, 'fellowship': 7014, 'labor-intensive': 7015, 'default': 7016, 'spitler': 7017, 'skyrocketed': 7018, 'financially': 7019, 'three-year': 7020, 'currently': 7021, 'vose': 7022, 'owns': 7023, 'terminated': 7024, 'energy': 7025, 'specializing': 7026, 'pennview': 7027, 'unproven': 7028, 'suffer': 7029, 'lessening': 7030, 'vinyl': 7031, 'ratings': 7032, 'mechanisms': 7033, 'aides': 7034, 'execs': 7035, 'controls': 7036, 'mid-october': 7037, 'least': 7038, 'beneficiaries': 7039, 'implication': 7040, 'bowes': 7041, 'dialogue': 7042, 'dumpster': 7043, 'national': 7044, 'worksheets': 7045, 'exceedingly': 7046, 'enraged': 7047, 'stephen': 7048, 'disease': 7049, 'meetings': 7050, 'completion': 7051, 'wings': 7052, 'punishing': 7053, 'measurement': 7054, 'frozen': 7055, 'increasing': 7056, 'matter': 7057, '12': 7058, 'scheduled': 7059, '16,000': 7060, '2,500': 7061, 'wafers': 7062, 'prior': 7063, 'projector': 7064, 'vans': 7065, 'tied': 7066, 'weisfield': 7067, 'terrence': 7068, 'marder': 7069, 'academic': 7070, 'led': 7071, 'added': 7072, 'crashes': 7073, 'fee': 7074, 'matching': 7075, 'denies': 7076, 'siti': 7077, 'retires': 7078, 'downright': 7079, 'differential': 7080, 'position': 7081, 'diversification': 7082, 'century': 7083, 'butterfly': 7084, 'fibers': 7085, 'positioned': 7086, '450': 7087, 'agency': 7088, 'controversy': 7089, 'rita': 7090, 'demonstrating': 7091, 'incorporated': 7092, '89,500': 7093, 'church': 7094, 'after': 7095, 'got': 7096, 'marina': 7097, 'factories': 7098, 'hot': 7099, 'allowed': 7100, 'one-yen': 7101, 'cigna': 7102, 'indicators': 7103, 'here': 7104, 'kidney': 7105, 'exposures': 7106, 'evaporated': 7107, 'issued': 7108, 'brain': 7109, 'cautiously': 7110, 'warehousing': 7111, 'soldiers': 7112, 'happens': 7113, 'president': 7114, 'school-research': 7115, 'organized': 7116, 'neal': 7117, 'provided': 7118, 'one': 7119, 'recalls': 7120, 'wakui': 7121, 'obsession': 7122, 'tests': 7123, 'appealing': 7124, 'rusty': 7125, 'exact': 7126, '58-year-old': 7127, 'contract': 7128, 'rescheduled': 7129, 'north': 7130, 'gaining': 7131, '47.5': 7132, '1985': 7133, 'bretz': 7134, 'costly': 7135, 'pressing': 7136, 'their': 7137, 'sparked': 7138, 'thinks': 7139, 'worship': 7140, 'g.': 7141, 'she': 7142, 'voted': 7143, 'barking': 7144, 'schoolboys': 7145, 'split': 7146, 'license': 7147, 'leigh': 7148, 'renovated': 7149, 'genes': 7150, 'nondurable': 7151, '50,000': 7152, 'dissolves': 7153, 'smoking': 7154, 'feet': 7155, 'illegal': 7156, 'pramual': 7157, 'which': 7158, 'guigal': 7159, '250': 7160, 'responded': 7161, 'survive': 7162, 'booked': 7163, 'checkbook': 7164, 'federation': 7165, 'wilton': 7166, 'bias': 7167, 'presidents': 7168, 'modems': 7169, 'fretted': 7170, '1.39': 7171, 'chafic': 7172, 'environmental': 7173, 'inquiry': 7174, 'oliver': 7175, 'forgotten': 7176, 'fastest': 7177, 'demonstrations': 7178, 'content': 7179, 'merc': 7180, 'closed': 7181, 'lights': 7182, '4,393,237': 7183, 'comments': 7184, 'prominently': 7185, 'pegged': 7186, 'queuing': 7187, 'care': 7188, 'mather': 7189, 'net': 7190, 'corners': 7191, 'relationship': 7192, 'sides': 7193, 'reddington': 7194, 'officers': 7195, 'application': 7196, 'longstanding': 7197, 'close': 7198, 'ovation': 7199, 'stirlen': 7200, 'moving': 7201, 'frankly': 7202, 'day': 7203, 'meets': 7204, 'lorillard': 7205, 'studied': 7206, 'indefinitely': 7207, 'denver': 7208, 'eclectic': 7209, 'months': 7210, 'craze': 7211, 'steelworkers': 7212, 'partly': 7213, 'opposes': 7214, 'morning': 7215, 'host': 7216, 'demanding': 7217, 'italian': 7218, 'charm': 7219, 'ratepayers': 7220, 'baby': 7221, '1976': 7222, 'guaranteed': 7223, 'looming': 7224, 'voting': 7225, 'los': 7226, 'prayer': 7227, 'dormitory': 7228, '51-year-old': 7229, 'weakening': 7230, 'add': 7231, 'harsh': 7232, 'mudslinging': 7233, '16,072': 7234, 'responses': 7235, 'visitors': 7236, 'inventiveness': 7237, '1901': 7238, 'securities': 7239, 'creditor': 7240, 'global': 7241, 'up': 7242, 'holds': 7243, 'provides': 7244, 'recognizing': 7245, 'been': 7246, 'collective-bargaining': 7247, 'hurt': 7248, 'subskill': 7249, 'cash-flow': 7250, 'donor': 7251, 'inflated': 7252, 'giant': 7253, 'attracting': 7254, 'science': 7255, '18,000': 7256, 'restaurants': 7257, 'lives': 7258, 'posters': 7259, '143.80': 7260, 'tunes': 7261, 'gubernatorial': 7262, 'shugart': 7263, 'antinori': 7264, 'walking': 7265, 'self-regulatory': 7266, 'be': 7267, 'worse': 7268, 'pulling': 7269, 'telephone': 7270, 'cotton': 7271, '138': 7272, 'result': 7273, '3.253': 7274, 'decline': 7275, 'advance': 7276, 'ridgefield': 7277, 'premiums': 7278, 'totaling': 7279, 'reflected': 7280, 'k.': 7281, 'desultory': 7282, 'zealand': 7283, 'therefore': 7284, 'posing': 7285, 'improper': 7286, 'stewart': 7287, 'ai': 7288, 'east': 7289, 'dummies': 7290, '4.8': 7291, 'opinions': 7292, 'respite': 7293, 'argentina': 7294, 'change': 7295, 'fund': 7296, 'hundreds': 7297, 'year': 7298, 'apparently': 7299, 'whose': 7300, 'bush': 7301, 'nipponese': 7302, 'loyal': 7303, 'sasaki': 7304, 'lap-shoulder': 7305, 'seattle': 7306, 'goldinger': 7307, 'needy': 7308, 'chaotic': 7309, 'cause': 7310, 'tailored': 7311, 'world-wide': 7312, 'entrepreneur': 7313, 'support': 7314, 'orrick': 7315, 'economies': 7316, 'c.j.b.': 7317, 'coche-dury': 7318, 'ratners': 7319, '47': 7320, 'parlors': 7321, 'shaded': 7322, 'camille': 7323, 'centerbank': 7324, 'leave': 7325, 'del.': 7326, 'lifted': 7327, 'protecting': 7328, 'ringers': 7329, 'joseph': 7330, '45,000': 7331, 'guests': 7332, 'charges': 7333, 'allocated': 7334, 'congregation': 7335, 'faces': 7336, 'reinstatement': 7337, 'spread': 7338, 'respect': 7339, 'worst': 7340, 'paribas': 7341, 'protection': 7342, 'jim': 7343, 'hudnut': 7344, '10th': 7345, 'paltry': 7346, '71': 7347, 'automatic': 7348, '109.73': 7349, 'watanabe': 7350, 'mifflin': 7351, 'untrained': 7352, 'parliament': 7353, 'wrongdoing': 7354, 'retardation': 7355, 'sol': 7356, 'fewer': 7357, 'identity-management': 7358, 'hole': 7359, 'today': 7360, 'l.p.': 7361, 'reps': 7362, 'pressured': 7363, 'specifics': 7364, 'annually': 7365, 'lieutenant': 7366, 'development': 7367, 'march': 7368, 'repaid': 7369, 'practicing': 7370, 'doak': 7371, 'parties': 7372, 'causing': 7373, 'privacy': 7374, 'latin': 7375, 'version': 7376, 'about': 7377, 'sluggish': 7378, 'corridors': 7379, 'keeps': 7380, 'chandler': 7381, 'paul': 7382, 'replace': 7383, 'santa': 7384, 'address': 7385, 'entrance': 7386, 'company': 7387, 'performance': 7388, 'accepted': 7389, 'blocked': 7390, 'trudeau': 7391, 'suggest': 7392, 'decided': 7393, 'federal': 7394, 'use': 7395, 'trials': 7396, 'lauded': 7397, 'neighbors': 7398, 'touted': 7399, 'row': 7400, 'm.': 7401, 'particularly': 7402, 'mating': 7403, 'demise': 7404, 'beneficial': 7405, '132': 7406, 'designations': 7407, 'affect': 7408, 'creams': 7409, '2.46': 7410, 'fundamental': 7411, 'nutrition': 7412, '6,500': 7413, 'labor-management': 7414, 'gut-wrenching': 7415, 'subscribe': 7416, 'accommodations': 7417, 'uncompensated': 7418, 'appropriation': 7419, 'protocols': 7420, 'temperature': 7421, 'follow-up': 7422, 'vanderbilt': 7423, 'vacant': 7424, '14.99': 7425, 'aesthetic': 7426, 'price-depressing': 7427, 'surrounding': 7428, 'skill': 7429, '220': 7430, 'egyptian': 7431, 'echoed': 7432, 'dominant': 7433, 'mentally': 7434, 'powerhouse': 7435, 'conceding': 7436, '18.3': 7437, 'capability': 7438, 'estimate': 7439, 'unitary': 7440, 'millionaires': 7441, '128': 7442, 'searching': 7443, '8.25': 7444, 'teikoku': 7445, 'prevents': 7446, '778': 7447, 'restored': 7448, 'bringing': 7449, 'efficiency': 7450, '53-year-old': 7451, 'pitting': 7452, 'execution': 7453, 'livestock': 7454, 'crying': 7455, '7.55': 7456, 'digs': 7457, 'eclipse': 7458, 'lonski': 7459, 'avoiding': 7460, 'decorator': 7461, 'unsettling': 7462, 'refuse': 7463, 'fundamentally': 7464, 'noble': 7465, 'takeover-stock': 7466, 'shopping': 7467, 'sad': 7468, 'paint': 7469, 'pharaoh': 7470, 'recovery': 7471, '8.64': 7472, 'companion': 7473, '119': 7474, '148.9': 7475, 'facilitate': 7476, 'causes': 7477, 'thousand': 7478, 'wis.': 7479, 'u.s.a': 7480, 'guide': 7481, 'inmates': 7482, 'portray': 7483, '4.875': 7484, '274': 7485, 'overstated': 7486, 'quietly': 7487, 'examine': 7488, 'bucking': 7489, 'emissions': 7490, 'ballantine\\\\/del': 7491, 'carriers': 7492, 'struggling': 7493, '271-147': 7494, 'hawaii': 7495, 'tapping': 7496, 'arraignments': 7497, 'ftc': 7498, 'hammerschmidt': 7499, 'predict': 7500, 'championing': 7501, '7.15': 7502, 'lotter': 7503, 'inspection': 7504, 'assure': 7505, 'floors': 7506, 'regulations': 7507, 'unsuccessful': 7508, 'masters': 7509, 'enjoy': 7510, 'bunches': 7511, 'gasoline': 7512, 'justices': 7513, 'perform': 7514, 'brand': 7515, 'odd-year': 7516, 'similarly': 7517, 'lobbies': 7518, 'arbs': 7519, 'unveil': 7520, 'unlabeled': 7521, 'gamut': 7522, 'pennies': 7523, '352.9': 7524, 'proven': 7525, 'teaches': 7526, 'chilled': 7527, 'financier': 7528, '5.3': 7529, 'prof.': 7530, 'indication': 7531, '57': 7532, 'libor': 7533, 'showa': 7534, 'orlando': 7535, 'marketed': 7536, 'alcohol': 7537, '16.9': 7538, 'non-farm': 7539, 'insurance-company': 7540, 'fixed-income': 7541, 'wield': 7542, 'geneva': 7543, 'downgrading': 7544, 'a.l.': 7545, 'freud': 7546, 'taurus': 7547, 'midland': 7548, '397': 7549, 'reprint': 7550, 'collapse': 7551, 'corrected': 7552, 'car-care': 7553, 'ginnie': 7554, 'revised': 7555, 'clouding': 7556, 'sneaked': 7557, 'cycle': 7558, 'examinations': 7559, 'recall': 7560, 'bellows': 7561, 'potables': 7562, 'implemented': 7563, 'moines': 7564, 'middle-ground': 7565, 'labor-backed': 7566, 'vow': 7567, 'cap': 7568, 'baum': 7569, 'high-speed': 7570, '89': 7571, 'dismiss': 7572, 'cataracts': 7573, 'daughters': 7574, 'dsm': 7575, '1.7': 7576, 'workplace': 7577, 'pence': 7578, 'three-month': 7579, 'index-fund': 7580, 'convention': 7581, 'cleared': 7582, 'preference': 7583, 'subjecting': 7584, 'oak': 7585, 'properly': 7586, 'r.d.': 7587, 'obligation': 7588, 'quant': 7589, 'destroy': 7590, 'looked': 7591, 'proved': 7592, '103': 7593, 'unanimous': 7594, '244,000': 7595, 'citadel': 7596, 'amendment': 7597, 'contesting': 7598, 'indexing': 7599, 'slippery': 7600, 'motor-home': 7601, '6.84': 7602, 'spite': 7603, 'market-makers': 7604, 'administer': 7605, 'boosters': 7606, 'duty': 7607, 'seize': 7608, '8.07': 7609, 'tote': 7610, 'blender': 7611, 'lens': 7612, 'franc': 7613, 'handed': 7614, 'pre-existing': 7615, 'money-losing': 7616, 'swings': 7617, 'popularly': 7618, 'spackle': 7619, 'issuers': 7620, 'accountant': 7621, 'grapple': 7622, 'mix': 7623, 'morrison': 7624, 'margin': 7625, 'scripts': 7626, 'mortgages': 7627, 'francisco-based': 7628, '18.6': 7629, '1.92': 7630, 'lazzaroni': 7631, 'circulated': 7632, '1940s': 7633, 'winners': 7634, 'odyssey': 7635, 'caribbean': 7636, 'longer-term': 7637, 'substance-abusing': 7638, '190-point': 7639, 'christie': 7640, 'unneeded': 7641, 'deserving': 7642, '11.10': 7643, 'pockets': 7644, 'cavernous': 7645, 'impaired': 7646, 'radio-station': 7647, 'schweiz': 7648, 'do-it-yourself': 7649, 'engage': 7650, 'reeling': 7651, 'statutory': 7652, 'deviation': 7653, 'heirs': 7654, 'traficant': 7655, 'hazards': 7656, 'motive': 7657, 'bank-backed': 7658, 'wellcome': 7659, 'faith': 7660, 'moon': 7661, 'manipulators': 7662, 'complexes': 7663, 'irvine': 7664, '1973-75': 7665, 'sticking': 7666, 'monopolies': 7667, 'definitely': 7668, 'serial': 7669, 'basket': 7670, 'complex': 7671, 'widget': 7672, '1,400': 7673, 'lousy': 7674, 'predispose': 7675, 'berman': 7676, 'zero': 7677, 'flux': 7678, 'introduces': 7679, 'lacks': 7680, 'emotional': 7681, 'cincinnati': 7682, 'b.a.t': 7683, 'multiplying': 7684, 'therapy': 7685, 'hurricane': 7686, 'dismal': 7687, 'bargains': 7688, 'destinations': 7689, 'executes': 7690, 'momentary': 7691, 'carrier': 7692, 'assembly-line': 7693, 'sable': 7694, '451': 7695, 'gilt': 7696, 'bennett': 7697, '282': 7698, 'incapable': 7699, 'golden': 7700, 'jockeys': 7701, 'walbrecher': 7702, '7.79': 7703, 'city-owned': 7704, 'bund': 7705, 'despise': 7706, 'doctor': 7707, 'establish': 7708, 'downgrade': 7709, 'defendants': 7710, 'cow': 7711, 'criteria': 7712, 'alfred': 7713, '14\\\\/32': 7714, 'skepticism': 7715, 'blue-collar': 7716, 'conservative': 7717, 'thunder': 7718, 'ordinary': 7719, '23.4': 7720, 'fiber-optic': 7721, 'stresses': 7722, 'chest': 7723, 'soybeans': 7724, 'tokyu': 7725, 'wasted': 7726, 'holiday': 7727, 'plains': 7728, 'relief': 7729, 'proscribes': 7730, 'stacking': 7731, 'capital-markets': 7732, 'primerica': 7733, 'sulfur-dioxide': 7734, 'defazio': 7735, '666': 7736, 'feasible': 7737, 'untrue': 7738, 'shell': 7739, 'reallocated': 7740, 'eggers': 7741, 'sacrifice': 7742, 'casino': 7743, 'superconductor': 7744, 'awareness': 7745, 'credit-rating': 7746, 'salt': 7747, 'penchant': 7748, 'natural': 7749, '7\\\\/16': 7750, 'moneymakers': 7751, 'magleby': 7752, 'norwalk': 7753, 'conducted': 7754, 'balkanized': 7755, 'overcome': 7756, '16.05': 7757, 'offsetting': 7758, 'hunker': 7759, 'parts-engineering': 7760, '672': 7761, 'curses': 7762, 'notified': 7763, 'consequence': 7764, 'scaring': 7765, 'rey\\\\/fawcett': 7766, 'marvin': 7767, 'mccabe': 7768, 'fast-growing': 7769, 'reversal': 7770, 'single-lot': 7771, '3.42': 7772, 'rare': 7773, 'ceo': 7774, 'pillow': 7775, 'arbitragers': 7776, 'round-trip': 7777, '2,410': 7778, 'fulton': 7779, 'immune': 7780, 'clearance': 7781, 'allocation': 7782, '130.6': 7783, 'sue': 7784, 'tooth': 7785, 'cost-sharing': 7786, 'advocated': 7787, 'headed': 7788, 'hutchinson': 7789, 'disposal': 7790, 'appropriators': 7791, '9.82': 7792, 'cells': 7793, 'denounce': 7794, 'completing': 7795, 'somehow': 7796, 'morass': 7797, 'stock-specialist': 7798, 'stretched': 7799, 'riskier': 7800, 'driver': 7801, 'nippon': 7802, 'assertion': 7803, 'landrieu': 7804, 'labeling': 7805, 'cs': 7806, 'fourth-quarter': 7807, 'prerogative': 7808, 'alcoholics': 7809, 'centerpiece': 7810, '909': 7811, 'instrument': 7812, 'diverse': 7813, 'springfield': 7814, 'accountability': 7815, 'spurned': 7816, 'sweeten': 7817, 'carnegie-mellon': 7818, 'cautious': 7819, '8.60': 7820, 'loses': 7821, 'hymowitz': 7822, 'reclaim': 7823, 'fischer': 7824, 'minicrash': 7825, 'tubular': 7826, 'si': 7827, 'sink': 7828, 'guy': 7829, 'resulted': 7830, 'clippings': 7831, 'portions': 7832, 'saved': 7833, 'barometer': 7834, 'convince': 7835, '300-113': 7836, 'diceon': 7837, 'compilation': 7838, 'beleaguered': 7839, 'feline': 7840, 'barth': 7841, \"o'loughlin\": 7842, 'kinds': 7843, 'joni': 7844, 'erodes': 7845, '21-month': 7846, 'disarray': 7847, 'fastest-growing': 7848, 'bombarding': 7849, 'ious': 7850, 'friction': 7851, 'nullified': 7852, 'corkscrews': 7853, 'bowman': 7854, 'double-c': 7855, 'enable': 7856, 'arranged': 7857, 'veto': 7858, 'mercury': 7859, 'sigmund': 7860, 'unload': 7861, 'mutual-fund': 7862, 'knell': 7863, 'orchestrated': 7864, 'pharaohs': 7865, 'african': 7866, 'most-likely-successor': 7867, 'abridging': 7868, 'camilli': 7869, 'mortgaged': 7870, 'nameplate': 7871, 'much-larger': 7872, 'cost-benefit': 7873, '343': 7874, 'possess': 7875, 'leery': 7876, 'collins': 7877, 'blindfold': 7878, 'determining': 7879, 'z.': 7880, 'razor-thin': 7881, 'ballpark': 7882, 'examined': 7883, '2160.1': 7884, 'locations': 7885, 'tens': 7886, 'pools': 7887, 'councils': 7888, 'consistently': 7889, 'dailies': 7890, 'spilling': 7891, 'coliseum': 7892, 'commissions': 7893, 'dot': 7894, '7.45': 7895, '420': 7896, 'chatter': 7897, 'analysis': 7898, '57.7': 7899, 'milan': 7900, 'jenkins': 7901, 'underwood': 7902, 'desires': 7903, 'slab': 7904, 'phillip': 7905, 'staunchly': 7906, 'escape': 7907, 'disconnect': 7908, 'uttering': 7909, 'gorbachev': 7910, 'acid-rain': 7911, 'super-absorbent': 7912, 'goldsmith': 7913, 'quantitive': 7914, 'letter-writing': 7915, 'fairless': 7916, 'heading': 7917, 'annualized': 7918, 'shivers': 7919, 'divisions': 7920, 'xerox': 7921, 'labeled': 7922, '47.125': 7923, 'censorship': 7924, 'alternatively': 7925, 'composed': 7926, 'despised': 7927, '6\\\\/2': 7928, 'intend': 7929, 'auditor': 7930, 'stimulating': 7931, 'signature': 7932, 'fuels': 7933, 'muzzling': 7934, 'tool': 7935, 'compelling': 7936, 'deprived': 7937, 'knopf': 7938, 'intraday': 7939, '3,040,000': 7940, 'deprivation': 7941, 'charities': 7942, 'huber': 7943, 'supplemental': 7944, '221.4': 7945, 'contribute': 7946, 'counteract': 7947, 'aspect': 7948, 'containing': 7949, '7.40': 7950, 'asserts': 7951, 'dinosaurs': 7952, 'inhibit': 7953, 'liquid-nitrogen': 7954, 'indicating': 7955, '2.9': 7956, 'discrepancies': 7957, 'pills': 7958, 'factoring': 7959, 'neuberger': 7960, 'jihad': 7961, 'corn': 7962, 'characterized': 7963, 'evaluation': 7964, 'excision': 7965, 'stieglitz': 7966, '13.50': 7967, 'nickname': 7968, 'foldability': 7969, 'elephant': 7970, 'wrath': 7971, 'clannish': 7972, 'million-a-year': 7973, 'chassis': 7974, 'torn': 7975, 'accounted': 7976, 'stork': 7977, 'market-oriented': 7978, '1969': 7979, 'discontinued': 7980, 'tutorials': 7981, 'food-industry': 7982, 'kangyo': 7983, 'compromises': 7984, 'clean-up': 7985, 'kindness': 7986, 'qualities': 7987, 'tall': 7988, '23.25': 7989, 'start-up': 7990, 'erroneous': 7991, 'expression': 7992, 'phobias': 7993, 'pound': 7994, 'ec': 7995, 'sugar': 7996, 'tune': 7997, 'billing': 7998, '210,000': 7999, 'farm': 8000, '7.50': 8001, 'brilliantly': 8002, 'schwab': 8003, 'culprit': 8004, 'arbitraging': 8005, 'dakota': 8006, 'democracy': 8007, 'designers': 8008, 'mitchell': 8009, '1903': 8010, 'creature': 8011, 'f': 8012, 'quoting': 8013, 'scream': 8014, 'drew': 8015, 'deliberately': 8016, 'vast': 8017, 'structure': 8018, 'abounding': 8019, 'harmed': 8020, 'nine-month': 8021, 'anytime': 8022, '23,403': 8023, 'silicone': 8024, 'scenic': 8025, '152,000': 8026, 'trimming': 8027, 'lobbyist': 8028, 'petersen': 8029, 'polluters': 8030, 'newsroom': 8031, 'speculative': 8032, 'common-law': 8033, 'crapshoot': 8034, 'redistribute': 8035, 'shed': 8036, 'calculated': 8037, 'safeguarding': 8038, 'scypher': 8039, 'resent': 8040, 'toll': 8041, 'visa': 8042, 'walker': 8043, 'bolivia': 8044, 'disaffiliation': 8045, 'shall': 8046, 'gorman': 8047, 'distant': 8048, 'news-american': 8049, 'dakotas': 8050, 'intrusions': 8051, 'hear': 8052, 'hanifen': 8053, '112.9': 8054, 'absolute': 8055, 'elco': 8056, 'radioactivity': 8057, '1948': 8058, 'favorably': 8059, 'friedrichs': 8060, 'brooks': 8061, 'topix': 8062, 'stiffer': 8063, 'condition': 8064, '1738.1': 8065, 'mikhail': 8066, 'transfers': 8067, 'transformed': 8068, 'boy': 8069, 'wanting': 8070, 'likeness': 8071, 'finite': 8072, 'occupational': 8073, 'taccetta': 8074, '110': 8075, 'skeptical': 8076, 'lambert': 8077, 'unhappy': 8078, 'velcro': 8079, 'predictably': 8080, 'market-based': 8081, 'speeches': 8082, 'flim-flammery': 8083, '7.272': 8084, 'solutions': 8085, 'bundles': 8086, 'striving': 8087, 'spurring': 8088, 'wamre': 8089, 'inviting': 8090, 'roadblock': 8091, 'newhouse': 8092, 'drugs': 8093, 'tickets': 8094, 'spaces': 8095, 'answered': 8096, 'pentagon': 8097, 'droz': 8098, '2017': 8099, 'petersburg': 8100, 'variables': 8101, 'disagreement': 8102, 'refer': 8103, 'cumbersome': 8104, '59-year-old': 8105, 'intermec': 8106, '20s': 8107, 'evoking': 8108, 'practiced': 8109, '1992-1999': 8110, 'melt-textured': 8111, 'fear': 8112, 'connected': 8113, '6.70': 8114, 'tremendous': 8115, 'anecdotal': 8116, 'protective': 8117, 'clearer': 8118, 'brakes': 8119, 'brutal': 8120, 'propose': 8121, 'drafted': 8122, 'variety': 8123, 'expense': 8124, 'clashed': 8125, 'tolerate': 8126, 'biscuit': 8127, 'non-callable': 8128, 'airline': 8129, 'inventor': 8130, 'maximize': 8131, 'disaster': 8132, '26.5': 8133, 'pencil': 8134, 'unconstitutional': 8135, 'solution': 8136, 'thunderbird': 8137, 'deeds': 8138, 'creator': 8139, 'dominated': 8140, 'off-year': 8141, 'expressly': 8142, '1980': 8143, 'pins': 8144, 'halted': 8145, 'cards': 8146, '25-year-old': 8147, 'playgrounds': 8148, 'emphasized': 8149, 'examiner': 8150, 'predicated': 8151, 'accord': 8152, '1995': 8153, 'indexes': 8154, '9\\\\/32': 8155, '7.8': 8156, 'citation': 8157, 'famed': 8158, 'tours': 8159, 'cheapest': 8160, 'softer': 8161, 'directed': 8162, 'operation': 8163, 'vortex': 8164, 'defends': 8165, 'respected': 8166, 'visits': 8167, 'rating': 8168, 'hollis': 8169, '31-year-old': 8170, 'dividing': 8171, '7.60': 8172, 'blue-chip': 8173, 'plaintiffs': 8174, 'mimics': 8175, 'proving': 8176, 'triple-a-rated': 8177, 'dismayed': 8178, 'uncertainties': 8179, 'regal': 8180, 'materialized': 8181, '80.8': 8182, 'quotations': 8183, '6.79': 8184, 'schmidt': 8185, 'lotions': 8186, 'text': 8187, 'equivalents': 8188, '6.40': 8189, 'citations': 8190, 'el': 8191, 'herald-american': 8192, 'merits': 8193, 'confined': 8194, 'senses': 8195, 'ambassadors': 8196, 'enables': 8197, 'duo': 8198, 'witches': 8199, 'beach': 8200, 'promotion': 8201, 'passions': 8202, 'beer': 8203, 'wheat': 8204, 'hugging': 8205, 'robbed': 8206, 'express-buick': 8207, 'managements': 8208, 'technologies': 8209, 'dominates': 8210, '2.42': 8211, 'cartons': 8212, '14.13': 8213, 'injuries': 8214, 'mammoth': 8215, 'computer-assisted': 8216, '107': 8217, 'paycheck': 8218, 'property\\\\/casualty': 8219, '102': 8220, 'linden': 8221, 'patrick': 8222, 'involvement': 8223, 'stay': 8224, 'lookee-loos': 8225, 'nomination': 8226, 'processes': 8227, 'bounce': 8228, 'hugo': 8229, 'synthetic': 8230, 'drought': 8231, 'swallow': 8232, 'm.d.': 8233, 'triple-c': 8234, 'guarantees': 8235, 'register': 8236, 'tentatively': 8237, 'tabloid': 8238, 'staid': 8239, 'install': 8240, 'amsterdam': 8241, 'crystal-lattice': 8242, 'enjoyed': 8243, 'avenues': 8244, '2003\\\\/2007': 8245, 'caustic': 8246, 'separation': 8247, 'airplane': 8248, 'tenure': 8249, 'good-faith': 8250, 'heiwado': 8251, 'clothing': 8252, 'warned': 8253, 'indexers': 8254, '1928-33': 8255, '2141.7': 8256, 'withhold': 8257, 'bendectin': 8258, 'industry-supported': 8259, 'webb': 8260, 'perpetual': 8261, '7.2': 8262, 'soured': 8263, '1991-1999': 8264, 'superdome': 8265, 'co-founded': 8266, 'intimately': 8267, 'inherent': 8268, 'conflict': 8269, 'upscale': 8270, 'bothered': 8271, 'proportion': 8272, 'seed': 8273, 'consequences': 8274, 'sigler': 8275, 'flirted': 8276, '0.05': 8277, 'laboratories': 8278, '150,000': 8279, 'financings': 8280, 'cautioned': 8281, 'semicircular': 8282, 'johns': 8283, 'notable': 8284, 'malnutrition': 8285, 'sprightly': 8286, 'agreed-upon': 8287, 'preserving': 8288, 'interest-rate': 8289, 'promises': 8290, '6.1': 8291, 'occurs': 8292, 'mega-stadium': 8293, 'shortages': 8294, 'impetuous': 8295, 'affecting': 8296, 'hearst': 8297, 'lipsticks': 8298, '19.6': 8299, 'public-relations': 8300, 'psychiatry': 8301, 'objectionable': 8302, 'junk': 8303, 'shudders': 8304, 'unenthusiastic': 8305, 'compassion': 8306, 'waive': 8307, '57.6': 8308, 'borrowings': 8309, 'speculator': 8310, '3.7': 8311, 'rain': 8312, 'iran-contra': 8313, 'scoffs': 8314, 'signifying': 8315, 'redevelopment': 8316, '7.65': 8317, 'collateral': 8318, 'rapport': 8319, 'nine-year': 8320, 'tribune': 8321, 'anti-program': 8322, 'planner': 8323, '30.6': 8324, '34': 8325, 'reacted': 8326, 'subtraction': 8327, 'intentioned': 8328, 'recruiting': 8329, 'car-development': 8330, 'riders': 8331, 'putty': 8332, 'reclaimed': 8333, 'coupon': 8334, 'spreads': 8335, 'fanciful': 8336, 'devouring': 8337, 'drop-in': 8338, 'technically': 8339, 'exacerbated': 8340, 'liabilities': 8341, 'mahoney': 8342, '21.1': 8343, 'journals': 8344, 'overnight': 8345, 'disorders': 8346, 'intriguing': 8347, 'bicameral': 8348, 'briefs': 8349, 'upstate': 8350, 'inherently': 8351, 'racket': 8352, 'mehta': 8353, 'shrinking': 8354, 'chivas': 8355, 'dole': 8356, 'anti-morning-sickness': 8357, 'sidelines': 8358, 'electrical': 8359, 'authorizing': 8360, 'duluth': 8361, 'aktiebolaget': 8362, 'midwesco': 8363, 'ins': 8364, '35500.64': 8365, 'shoring': 8366, 'riese': 8367, 'relaunched': 8368, 'fabian': 8369, 'abandoned': 8370, 'representatives': 8371, 'interior': 8372, 'agenda': 8373, 'backseat': 8374, 'write-downs': 8375, 'tort': 8376, 'constantly': 8377, 'roland': 8378, 'claire': 8379, '750': 8380, 'intraocular': 8381, 'switzerland': 8382, 'immense': 8383, 'broadcasting': 8384, 'outnumbered': 8385, 'fidelity': 8386, 'moments': 8387, 'propagandizes': 8388, 'creates': 8389, 'mind': 8390, \"d'amico\": 8391, 'bellwether': 8392, 'penalty': 8393, '3.43': 8394, 'handles': 8395, 'avid': 8396, 'mobilizing': 8397, 'voluntary': 8398, 'olson': 8399, 'neat': 8400, 'lurie': 8401, 'reliance': 8402, 'anti-drug': 8403, 'prefer': 8404, 'prints': 8405, 'midsized': 8406, 'ultimate': 8407, 'g': 8408, 'breathtaking': 8409, 'celebrity': 8410, 'baim': 8411, 'generalizations': 8412, 'unlikely': 8413, 'ramparts': 8414, 'declaring': 8415, 'endorse': 8416, 'nomura': 8417, 'downgraded': 8418, 'combination': 8419, 'colored': 8420, 'montgomery': 8421, '71,309': 8422, 'mediocre': 8423, 'felonies': 8424, '116.4': 8425, 'succeeded': 8426, 'usurp': 8427, 'creditworthiness': 8428, '830,000': 8429, '6.03': 8430, 'russell': 8431, 'deluge': 8432, 'cost-effective': 8433, 'ballots': 8434, 'alike': 8435, 'weaker': 8436, 'violation': 8437, '16.7': 8438, 'impatient': 8439, 'signore': 8440, '94.8': 8441, 'museums': 8442, 'antitrust': 8443, 'stripped': 8444, 'full-time': 8445, 'participate': 8446, 'headline': 8447, 'darned': 8448, 'whichever': 8449, 'stream': 8450, 'simeon': 8451, 'grain': 8452, 'day-to-day': 8453, 'tires': 8454, 'depository': 8455, '2.7': 8456, 'newest': 8457, 'partnership': 8458, '13.625': 8459, 'taylor': 8460, 'difficulty': 8461, 'luxury': 8462, 'nominate': 8463, 'potentially': 8464, 'sellers': 8465, 'freshbake': 8466, 'defying': 8467, 'appearing': 8468, 'retraced': 8469, 'pushed': 8470, 'profited': 8471, 'break': 8472, 'watchdogs': 8473, 'fielded': 8474, 'resembles': 8475, 'frightened': 8476, '609': 8477, 'quota': 8478, 'alstyne': 8479, 'backers': 8480, 'unsecured': 8481, 'present': 8482, 'constitutional': 8483, 'keith': 8484, 'joel': 8485, 'unemployment': 8486, 'tots': 8487, 'notched': 8488, 'etc.': 8489, \"'30s\": 8490, '12-year': 8491, 'salvador': 8492, 'lynch-mob': 8493, 'cater': 8494, 'allied': 8495, 'conclude': 8496, 'absurdity': 8497, 'muster': 8498, 'households': 8499, 'copying': 8500, 'cambridge': 8501, 'crane-safety': 8502, 'less-than-brilliant': 8503, 'opposite': 8504, 'profitability': 8505, 'investment-grade': 8506, 'ascendency': 8507, 'illegality': 8508, '59.9': 8509, 'covering': 8510, 'harmful': 8511, 'chatsworth': 8512, '27.4': 8513, 'employer': 8514, 'formally': 8515, 'fate': 8516, 'midwestern': 8517, 'simultaneous': 8518, 'consisting': 8519, 'abrupt': 8520, 'lieu': 8521, 'valuable': 8522, 'departments': 8523, 'amass': 8524, 'zurich': 8525, 'rill': 8526, 'initiate': 8527, 'prompts': 8528, 'relies': 8529, 'risk-free': 8530, 'mccormick': 8531, 'travel-related': 8532, 'bowl': 8533, 'successor': 8534, '1996': 8535, 'doctrine': 8536, 'mergers': 8537, 'poverty': 8538, 'coordinator': 8539, '26.8': 8540, 'garret': 8541, 'entrenched': 8542, '45.75': 8543, 's.i.': 8544, 'n.v': 8545, 'ymca': 8546, 'implement': 8547, 'garanti': 8548, 'apples': 8549, 'after-tax': 8550, 'cluff': 8551, 'please': 8552, 'recorder': 8553, 'mistakenly': 8554, 'bureaucracy': 8555, 'spanish': 8556, 'current-carrying': 8557, 'double-a': 8558, 'samples': 8559, 'practitioners': 8560, 'greedy': 8561, 'recyclable': 8562, 'presumes': 8563, '6.7': 8564, 'cataract': 8565, 'spook': 8566, 'wonder': 8567, 'retirement': 8568, 'staffs': 8569, '2.8': 8570, 'theme': 8571, 'crops': 8572, 'retractable': 8573, 'backing': 8574, 'stock-selection': 8575, 'brands': 8576, 'ratcheting': 8577, 'altered': 8578, 'disseminating': 8579, 'follow': 8580, 'powerful': 8581, 'noriega': 8582, 'defending': 8583, 'interactions': 8584, 'marine': 8585, 'ellis': 8586, 'sonny': 8587, 'regime': 8588, 'peninsula': 8589, 'neutrons': 8590, 'dodger': 8591, 'inns': 8592, 'versus': 8593, 'editorially': 8594, 'placement': 8595, 'readership': 8596, 'seasoned': 8597, 'cardiovascular': 8598, 'overriding': 8599, 'recovering': 8600, 'inevitable': 8601, 'empowers': 8602, '605': 8603, 'electrical-safety': 8604, 'advise': 8605, 'cleaner': 8606, 'sparing': 8607, 'sorts': 8608, 'piper': 8609, '1,880': 8610, 'usa': 8611, '300-a-share': 8612, '170,000': 8613, 'sky': 8614, 'porting': 8615, 'contel': 8616, 'framers': 8617, 'yorkers': 8618, 'quantity': 8619, 'farmers': 8620, 'superconductors': 8621, 'protects': 8622, 'cuts': 8623, '1,570': 8624, '113.2': 8625, 'persuasive': 8626, '8.467': 8627, 'soaring': 8628, 'picks': 8629, 'oh': 8630, 'mattress': 8631, 'pilots': 8632, 'happened': 8633, '49.9': 8634, 'hoylake': 8635, 'legislature': 8636, 'sickness': 8637, 'anderson': 8638, '877,663': 8639, '8.30': 8640, '3.8': 8641, 'propaganda': 8642, 'selected': 8643, 'manpower': 8644, '415': 8645, '30s': 8646, 'viewership': 8647, 'ind.': 8648, 'bludgeon': 8649, 'doubted': 8650, 'species': 8651, 'pinning': 8652, 'obligated': 8653, 'helpful': 8654, 'lovett': 8655, 'upsetting': 8656, 'pyramids': 8657, 'stuff': 8658, 'mac': 8659, 'fundamentalist': 8660, 'importance': 8661, 'vetoes': 8662, 'mothers': 8663, 'card-member': 8664, 'then-speaker': 8665, '7.74': 8666, 'moderately': 8667, 'olympia': 8668, 'spirits': 8669, 'divergence': 8670, 'fixes': 8671, 'howard': 8672, 'absurd': 8673, 'boosting': 8674, 'assert': 8675, 'limiting': 8676, 'wealth': 8677, 'andy': 8678, 'birds': 8679, 'swapping': 8680, 'trash': 8681, '3,600': 8682, 'large-scale': 8683, 'independence': 8684, 'construed': 8685, 'struggle': 8686, 'directionless': 8687, 'suisse': 8688, 'sponsors': 8689, 'curtailed': 8690, 'tackle': 8691, 'fetching': 8692, 'overcrowding': 8693, 'wizards': 8694, '4.6': 8695, 'droughts': 8696, 'printers': 8697, 'gut': 8698, 'nylev': 8699, '388': 8700, 'assessed': 8701, 'riviera': 8702, 'toledo': 8703, 'evans': 8704, '7.80': 8705, 'marketers': 8706, '106': 8707, 'hopwood': 8708, 'acceptances': 8709, 'rumored': 8710, 'recovered': 8711, 'reagan-bush': 8712, 'cultivation': 8713, 'limbo': 8714, '2691.19': 8715, 'dai-ichi': 8716, 'cups': 8717, 'profess': 8718, 'settlements': 8719, 'strictly': 8720, 'frankfurt': 8721, 'appoint': 8722, 'varied': 8723, 'tie-in': 8724, 'bradley': 8725, 'palace': 8726, 'fasteners': 8727, 'responsibilities': 8728, 'exerting': 8729, 'ownership': 8730, 'recruited': 8731, 'devise': 8732, 'prudential-bache': 8733, 'pepperidge': 8734, 'generated': 8735, 'oriented': 8736, 'vacancies': 8737, 'noticed': 8738, '501': 8739, 'disappointing': 8740, 'cast-iron': 8741, 'crystals': 8742, 'borough': 8743, 'architect': 8744, 'underperforming': 8745, 'gambling': 8746, 'jeopardy': 8747, 'outlets': 8748, 'stoll': 8749, 'stacked': 8750, 'takings': 8751, '372.9': 8752, 'cerf': 8753, 'expectation': 8754, 'caldor': 8755, 'lawless': 8756, 'tablets': 8757, 'cup-tote': 8758, 'wright': 8759, '84-year-old': 8760, 'inverse': 8761, 'augment': 8762, 'penalties': 8763, 'moody': 8764, 'responds': 8765, 'lilly': 8766, 'subsidize': 8767, 'appropriations': 8768, 'tokio': 8769, 'top-selling': 8770, '7.422': 8771, 'revolt': 8772, 'breakey': 8773, 'reshaping': 8774, 'seconds': 8775, 'van': 8776, 'persons': 8777, 'generators': 8778, '700,000': 8779, 'equity-purchase': 8780, 'four-day': 8781, 'underwent': 8782, 'cooperating': 8783, 'notify': 8784, 'garrison': 8785, 'deliberating': 8786, 'dialing': 8787, 'betting': 8788, 'edwards': 8789, 'entrusted': 8790, 'accompany': 8791, 'fines': 8792, 'severe': 8793, 'baskets': 8794, 'incentives': 8795, '2005': 8796, '8.50': 8797, 'failures': 8798, 'chose': 8799, 'pre-tax': 8800, 'threatens': 8801, 'tinker': 8802, 'receptive': 8803, 'short-wave': 8804, 'prescribe': 8805, '1.46': 8806, 'landfills': 8807, '11\\\\/16': 8808, 'inventory': 8809, 'unworkable': 8810, '4.7': 8811, 'acquirer': 8812, 'swaps': 8813, 'leash': 8814, '2009': 8815, 'anyway': 8816, 'gordon': 8817, 'performers': 8818, 'deere': 8819, 'recommendation': 8820, 'justified': 8821, 'stability': 8822, 'herbert': 8823, 'erect': 8824, 'outlay': 8825, 'farms': 8826, 'participant': 8827, 'earthquake': 8828, 'fundamentalists': 8829, 'egnuss': 8830, 'egregious': 8831, 'odds': 8832, 'differently': 8833, 'danzig': 8834, 'sunlight': 8835, 'housing': 8836, 'prizes': 8837, 'exorbitant': 8838, '9.75': 8839, 'illness': 8840, 'iota': 8841, 'wires': 8842, 'respondents': 8843, 'caller': 8844, 'exuded': 8845, 'tormentors': 8846, 'contradictions': 8847, 'overcapacity': 8848, 'brightened': 8849, 'truth-in-lending': 8850, 'wohlstetter': 8851, 'des': 8852, 'understand': 8853, 'oshkosh': 8854, 'temporary': 8855, 'broadened': 8856, 'airways': 8857, 'restricting': 8858, 'sangyo': 8859, 'resumes': 8860, 'advent': 8861, 'generation': 8862, 'referenda': 8863, 'guarantee': 8864, 'railing': 8865, 'price-support': 8866, 'rogers': 8867, 'hailed': 8868, 'egypt': 8869, 'chadha': 8870, 'cornerstones': 8871, 'off-track': 8872, 'openings': 8873, 'movements': 8874, 'ana': 8875, 'guard': 8876, 'underwoods': 8877, 'pasadena': 8878, 'freudtoy': 8879, '5.92': 8880, '1.61': 8881, 'adequate': 8882, 'attributed': 8883, 'lightning-fast': 8884, 'worthiness': 8885, 'lobbyists': 8886, 'item': 8887, 'bloods': 8888, 'inform': 8889, 'labouisse': 8890, 'patients': 8891, 'loops': 8892, 'scholars': 8893, 'lorenzo': 8894, 'maine': 8895, 'defensive': 8896, 'hammersmith': 8897, 'numbers': 8898, 'ray': 8899, 'eurobonds': 8900, 'automated': 8901, 'tons': 8902, '1998': 8903, 'ensure': 8904, 'denouncing': 8905, 'prebon': 8906, 'addiction': 8907, 'corporate-wide': 8908, 'pets': 8909, 'architects': 8910, 'raymond': 8911, '1991-2000': 8912, 'coniston': 8913, 'four-foot-high': 8914, 'rewrite': 8915, 'waived': 8916, 'michelin': 8917, 'railings': 8918, 'arnold': 8919, 'disadvantage': 8920, '3.4': 8921, 'gray': 8922, 'billion-dollar': 8923, 'amendments': 8924, 'broad-based': 8925, 'apart': 8926, '81.8': 8927, 'buckhead': 8928, 'sigh': 8929, 'susan': 8930, 'brothers': 8931, 'fend': 8932, 'complains': 8933, 'hart-scott-rodino': 8934, 'supported': 8935, 'leveraging': 8936, '6.9': 8937, 'intecknings': 8938, 'sufficiently': 8939, '7.458': 8940, '114': 8941, 'presidency': 8942, 'triple-a': 8943, '8.5': 8944, 'sentimental': 8945, 'juggle': 8946, 'utterly': 8947, 'prohibiting': 8948, 'applicability': 8949, 'derisively': 8950, 'takashima': 8951, 'referral': 8952, 'departures': 8953, 'limitation': 8954, 'downside': 8955, 'calif.-based': 8956, 'warming': 8957, 'veteran': 8958, 'israel': 8959, 'insider-trading': 8960, 'fahrenheit': 8961, '3,250,000': 8962, '8.55': 8963, 'sufficient': 8964, 'beg': 8965, 'emasculate': 8966, 'disposed': 8967, 'telerate': 8968, 'acknowledges': 8969, 'veraldi': 8970, 'incentive-backed': 8971, 'underwriter': 8972, 'disagrees': 8973, 'cattle': 8974, '396,000': 8975, 'shokubai': 8976, '30.9': 8977, '149.9': 8978, 'conversion': 8979, 'undesirable': 8980, 'missed': 8981, 'disapproval': 8982, 'cable': 8983, 'guarding': 8984, 'larger-than-normal': 8985, 'dolphins': 8986, 'academics': 8987, 'recouped': 8988, '0.16': 8989, '300,000': 8990, '7.20': 8991, 'tomorrow': 8992, 'mo.-based': 8993, 'ceramic': 8994, 'root': 8995, 'demands': 8996, 'abuzz': 8997, 'osha': 8998, 'truck': 8999, 'gottlieb': 9000, '13.15': 9001, 'sparkplugs': 9002, 'legg': 9003, 'hammacher': 9004, 'twist': 9005, 'high-volume': 9006, 'resign': 9007, 'destination': 9008, 'ames': 9009, 'log': 9010, 'accordance': 9011, 'peabody': 9012, '692': 9013, 'sidak': 9014, 'owning': 9015, 'depressions': 9016, '30-share': 9017, 'surgery': 9018, 'reasoning': 9019, 'cracks': 9020, 'edition': 9021, 'sends': 9022, 'yorker': 9023, 'evolved': 9024, 'folio': 9025, '722': 9026, 'strategy': 9027, 'lieberman': 9028, 'exhibits': 9029, 'studiously': 9030, 'taxation': 9031, 'bygone': 9032, 'bolstered': 9033, 'edged': 9034, 'agricultural': 9035, 'extensive': 9036, 'repaired': 9037, '83': 9038, 'steinberg': 9039, 'shambles': 9040, 'sexy': 9041, '6.5': 9042, 'naming': 9043, 'structured': 9044, 'disagreed': 9045, 'scannell': 9046, 'select': 9047, 'fracturing': 9048, 'web': 9049, '118': 9050, 'instructed': 9051, 'anti-deficiency': 9052, 'universally': 9053, '1787': 9054, 'prisoners': 9055, 'applicable': 9056, '120.7': 9057, '28.25': 9058, 'multiples': 9059, 'outlawing': 9060, 'hang': 9061, 'catholic': 9062, 'jolts': 9063, 'yasuda': 9064, 'bilingual': 9065, 'cleanup': 9066, 'dydee': 9067, 'christmas': 9068, 'executive-office': 9069, 'julia': 9070, 'supporters': 9071, '28.5': 9072, 'sprawling': 9073, 'walls': 9074, 'missiles': 9075, 'opportunities': 9076, 'amps': 9077, 'citicorp': 9078, 'cleanliness': 9079, 'housewife': 9080, 'resentment': 9081, 'hazell': 9082, 'obviously': 9083, 'meals': 9084, '27.1': 9085, 'kathleen': 9086, '240': 9087, '7.62': 9088, 'choosing': 9089, 'anti-miscarriage': 9090, 'perestroika': 9091, 'lose': 9092, 'tray': 9093, 'decay': 9094, 'metal': 9095, 'foldable': 9096, 'generic': 9097, 'builders': 9098, 'responsible': 9099, 'initiatives': 9100, 'headlined': 9101, 'occidental': 9102, 'evolve': 9103, '753': 9104, 'smoothly': 9105, 'first-rate': 9106, 'civics': 9107, 'confident': 9108, 'preapproved': 9109, 'virtue': 9110, 'whipping': 9111, '890': 9112, 'sleeping': 9113, 'unfunded': 9114, 'scarcely': 9115, 'loser': 9116, 'cleaner-burning': 9117, '149': 9118, 'delays': 9119, 'dirtiest': 9120, 'charter': 9121, 'establishment': 9122, 'disseminate': 9123, 'decisive': 9124, 'diminished': 9125, 'burn': 9126, 'swiss': 9127, 'provoked': 9128, 'bridges': 9129, 'overproduction': 9130, '14.': 9131, 'chaos': 9132, 'insert': 9133, 'functioning': 9134, 'mcguigan': 9135, 'alcoholism': 9136, '800': 9137, 'champions': 9138, 'programmer': 9139, '238,000-circulation': 9140, '1,050,000': 9141, '107.03': 9142, 'elisa': 9143, 'appease': 9144, 'stimulated': 9145, 'ugly': 9146, 'honolulu': 9147, 'labels': 9148, '8.65': 9149, 'shaw': 9150, 'high-risk': 9151, '8.1': 9152, 'outrageous': 9153, '7.95': 9154, 'curbing': 9155, 'zip': 9156, 'falls': 9157, 'consistent': 9158, 'robbie': 9159, 'loewi': 9160, 'vested': 9161, 'outdistanced': 9162, 'certin': 9163, 'loudest': 9164, 'manila': 9165, 'surpluses': 9166, 'craftsmen': 9167, 'ruth': 9168, 'publicity': 9169, 'unheard': 9170, 'scripps': 9171, 'federalist': 9172, 'expert': 9173, 'reed': 9174, 'unfocused': 9175, 'columns': 9176, 'delisted': 9177, '454': 9178, 'afford': 9179, 'broker': 9180, 'fulham': 9181, 'distributable': 9182, 'impetus': 9183, 'coverage': 9184, 'newsstand': 9185, 'credentials': 9186, '9.3': 9187, 'notwithstanding': 9188, 'minnesota': 9189, 'constitute': 9190, 'livelihood': 9191, 'schlemmer': 9192, 'offerings': 9193, '16\\\\/32': 9194, 'american-made': 9195, 'eliminating': 9196, 'shelter': 9197, 'fan': 9198, 'marubeni': 9199, 'akin': 9200, 'major-league': 9201, 'campeau': 9202, 'extending': 9203, 'exemption': 9204, 'sumitomo': 9205, 'anti-programmers': 9206, 'nameless': 9207, 'simultaneously': 9208, 'jonas': 9209, 'lenders': 9210, 'preventative': 9211, 'superdot': 9212, 'dealings': 9213, 'neanderthals': 9214, 'pill': 9215, 'viewing': 9216, 'array': 9217, 'arrangements': 9218, 'overvalued': 9219, 'anticipation': 9220, '960': 9221, 'voa': 9222, 'den': 9223, 'laboriously': 9224, 'illustrates': 9225, 'mcmillin': 9226, 'meatpacking': 9227, '13\\\\/16': 9228, '8.70': 9229, 'usia': 9230, 'proviso': 9231, 'candlestick': 9232, 'arts': 9233, 'folded': 9234, 'allies': 9235, 'indifference': 9236, 'infectious': 9237, '8.48': 9238, 'homelessness': 9239, 'new-car': 9240, 'monopoly': 9241, 'magnetic': 9242, 'l.a.': 9243, 'dover': 9244, 'hallett': 9245, 'leningrad': 9246, 'beauty': 9247, 'widgets': 9248, 'multi-crystal': 9249, 'andrea': 9250, 'multitude': 9251, 'thread': 9252, '7.78': 9253, 'weather': 9254, 'btr': 9255, 'greed': 9256, 'processing': 9257, 'facts': 9258, 'applaud': 9259, 'leveraged': 9260, 'concede': 9261, 'clock': 9262, 'rallying': 9263, 'adjustable': 9264, 'brigham': 9265, 'disapproved': 9266, 'chairs': 9267, 'tire-kickers': 9268, 'second-largest': 9269, 'handelsbanken': 9270, 'experiencing': 9271, 'orange': 9272, 'debenture': 9273, 'deviant': 9274, '22\\\\/32': 9275, 'pension-fund': 9276, 'demonstrates': 9277, 'brean': 9278, 'overdone': 9279, 'flagrant': 9280, 'zicklin': 9281, 'nonprofit': 9282, 'combine': 9283, 'motors': 9284, 'purse': 9285, 'whereas': 9286, 'depression': 9287, 'liners': 9288, 'medallions': 9289, 'contradict': 9290, 'rigors': 9291, 'gored': 9292, 'free-enterprise': 9293, 'rebounding': 9294, 'disposables': 9295, '141.9': 9296, 'learn': 9297, 'sweden': 9298, 'interpretation': 9299, 'eyeing': 9300, 'duly': 9301, 'long-tenured': 9302, 'understands': 9303, 'equaling': 9304, 'scant': 9305, 'don': 9306, 'earlham': 9307, 'magnets': 9308, 'disclosures': 9309, 'sotheby': 9310, 'accomplishments': 9311, 'mentioned': 9312, 'bon': 9313, 'yamaichi': 9314, 'shelf': 9315, 'a-d': 9316, 'strengthened': 9317, '2\\\\/32': 9318, 'string': 9319, 'briefings': 9320, 'implied': 9321, 'legislating': 9322, 'self-serving': 9323, 'screened': 9324, 'charging': 9325, 'negotiable': 9326, 'hearings': 9327, 'old-style': 9328, 'ranging': 9329, 'topped': 9330, 'promised': 9331, 'inquiring': 9332, 'infrequent': 9333, 'searched': 9334, 'britta': 9335, 'fluctuations': 9336, 'confederation': 9337, 'domestically': 9338, 'arched': 9339, 'hans': 9340, 'stereo': 9341, 'miscarriages': 9342, 'sewer': 9343, 'amazingly': 9344, 'boogieman': 9345, 'yourself': 9346, 'pretext': 9347, 'sports-oriented': 9348, '1st': 9349, 'incisions': 9350, 'planning': 9351, 'intrusion': 9352, 'hormone': 9353, 'wellington': 9354, '1.64': 9355, 'benefit': 9356, 'hysteria': 9357, 'ackerman': 9358, 'propagandize': 9359, 'fiber-end': 9360, 'intimidate': 9361, 'tiger': 9362, 'dubbed': 9363, 'forget': 9364, 'liability': 9365, '144': 9366, 'policy-making': 9367, 'acquires': 9368, 'enhances': 9369, 'sprint': 9370, 'deck': 9371, '203': 9372, 'decries': 9373, 'blurred': 9374, 'diethylstilbestrol': 9375, 'cooled': 9376, 'francs': 9377, 'one-newspaper': 9378, 'open-top': 9379, '56': 9380, 'quote': 9381, 'unknown': 9382, 'insinuating': 9383, 'scandal': 9384, 'touches': 9385, 'len': 9386, 'clause': 9387, 'deducting': 9388, 'doubts': 9389, 'blood': 9390, 'severable': 9391, 'airline-related': 9392, 'broadcasts': 9393, 'necessities': 9394, 'whip': 9395, 'rider': 9396, 'fly': 9397, 'e.w.': 9398, '3\\\\/8': 9399, 'countless': 9400, 'ywca': 9401, 'shaken': 9402, 'curbed': 9403, 'collector': 9404, 'syndicate': 9405, 'reasonably': 9406, 'old-time': 9407, 'c.d.s': 9408, 'stock-price': 9409, 'memo': 9410, 'layer': 9411, 'unable': 9412, 'assaults': 9413, '20-stock': 9414, 'gross': 9415, 'workforce': 9416, 'pa': 9417, 'presentation': 9418, '321': 9419, '135': 9420, 'texts': 9421, 'inouye': 9422, 'coordinate': 9423, 'appropriated': 9424, 'yon': 9425, '4.5': 9426, 'hunted': 9427, 'custom': 9428, 'filings': 9429, 'renaissance-style': 9430, 'gm': 9431, 'guilders': 9432, 'routes': 9433, 'wholesaler': 9434, 'housing-assistance': 9435, 'capitalism': 9436, 'shaping': 9437, 'derivative': 9438, 'beverage': 9439, 'relentlessly': 9440, 'psychiatric': 9441, 'broaden': 9442, 'minted': 9443, 'overleveraged': 9444, '35564.43': 9445, 'contest': 9446, 'photocopying': 9447, '2163.2': 9448, 'void': 9449, 'appointments': 9450, 'one-house': 9451, 'matthews': 9452, 'ought': 9453, 'barbados': 9454, 'abandon': 9455, 'undo': 9456, '153.3': 9457, 'placing': 9458, 'barclays': 9459, 'buick': 9460, '1994': 9461, 'invite': 9462, '240-page': 9463, 'citibank': 9464, 'traditionalists': 9465, 'wick': 9466, 'scholar': 9467, 'inquiries': 9468, 'direct-mail': 9469, 'land-idling': 9470, 'crusade': 9471, 'cloth': 9472, 'decade-long': 9473, 'plea': 9474, 'marginally': 9475, 'explaining': 9476, 'nominee': 9477, 'house-senate': 9478, 'clairton': 9479, 'mcgovern': 9480, '89.7': 9481, 'preclude': 9482, 'bricklayers': 9483, '99': 9484, 'jaffray': 9485, 'sydney': 9486, 'substitute': 9487, '334.5': 9488, 'continuingly': 9489, '6.25': 9490, 'floral': 9491, '1,200': 9492, 'californian': 9493, 'ballot': 9494, 'paris': 9495, 'sees': 9496, '12\\\\/32': 9497, 'benchmarks': 9498, 'cushioned': 9499, '17.4': 9500, '1.125': 9501, 'disappear': 9502, '1,500': 9503, 'old-fashioned': 9504, 'hither': 9505, '1925': 9506, 'exceeds': 9507, 'adapting': 9508, 'v.': 9509, 'two-tiered': 9510, 'jumps': 9511, 'bridge': 9512, 'cheetham': 9513, 'ample': 9514, 'determine': 9515, 'repeatedly': 9516, 'english-speaking': 9517, 'vaccines': 9518, 'successfully': 9519, 'appetite': 9520, 'arighi': 9521, '3648.82': 9522, 'granting': 9523, 'copy': 9524, 'tulane': 9525, '4.9': 9526, 'non-u.s.': 9527, '77': 9528, '235': 9529, 'disclose': 9530, 'encouraging': 9531, 'piscataway': 9532, 'unwilling': 9533, 'manage': 9534, 'portion': 9535, 'wooing': 9536, 'occasionally': 9537, '24.95': 9538, 'waiver': 9539, 'cheaper': 9540, 'location': 9541, 'eurodollars': 9542, 'gilts': 9543, 'concrete': 9544, 'electorate': 9545, 'syracuse': 9546, 'thumbs': 9547, '4.2': 9548, '306': 9549, '1967': 9550, '95.09': 9551, '472': 9552, 'cruise': 9553, 'ornamental': 9554, 'thanks': 9555, 'silverman': 9556, 'habit': 9557, 'arise': 9558, 'duck': 9559, 'editing': 9560, '730': 9561, 'lines': 9562, 'acid': 9563, 'crystal': 9564, 'recommending': 9565, 'error': 9566, 'cancellation': 9567, 'prescription': 9568, 'profit-taking': 9569, 'stretch': 9570, 'pension': 9571, 'conceivable': 9572, 'confirms': 9573, 'trans': 9574, 'financial-services': 9575, 'schemes': 9576, 'agencies': 9577, 'succession': 9578, 'blunt': 9579, 'edwin': 9580, 'rumors': 9581, 'clipped': 9582, '116.9': 9583, 'notch': 9584, 'stadiums': 9585, 'reallocate': 9586, 'solicitor': 9587, 'pickers': 9588, '3.375': 9589, 'squeeze': 9590, 'prerogatives': 9591, 'wolf': 9592, 'dolan': 9593, 'phoenix': 9594, 'participated': 9595, 'draws': 9596, 'damaging': 9597, 'sitting': 9598, 'nail': 9599, 'spooked': 9600, 'continuously': 9601, 'freeway': 9602, 'absolutely': 9603, 'coke': 9604, 'milwaukee': 9605, 'lids': 9606, 'stifle': 9607, 'contingency-fee': 9608, 'identical': 9609, 'trespass': 9610, 'pressman': 9611, 'predicts': 9612, 'recess': 9613, 'centimeter': 9614, 'sweepstakes': 9615, '5.7': 9616, 'drastically': 9617, 'competes': 9618, 'approached': 9619, 'goodwill': 9620, 'fringe': 9621, 'hailing': 9622, 'ark': 9623, 'hopkins': 9624, 'unraveling': 9625, 'empire': 9626, 'clean-air': 9627, 'solomonic': 9628, 'reporters': 9629, 'diaper': 9630, 'morrell': 9631, 'mindy': 9632, 'proposition': 9633, 'high-polluting': 9634, 'deficiencies': 9635, 'bitter': 9636, 'ranked': 9637, 'storm': 9638, 'beers': 9639, 'stellar': 9640, '30,537': 9641, 'tyre': 9642, 'desire': 9643, 'discharge': 9644, 'gates-warren': 9645, 'breathed': 9646, 'undergoing': 9647, '2029': 9648, '63.79': 9649, 'override': 9650, 'drexel': 9651, 'nrdc': 9652, 'line-item': 9653, 'blames': 9654, 'lucille': 9655, 'stockbrokers': 9656, 'insanity': 9657, '184': 9658, 'band-wagon': 9659, 'burnham': 9660, '8.15': 9661, '9.32': 9662, 'wrecking': 9663, 'requesting': 9664, 'undercutting': 9665, 'relocate': 9666, 'anku': 9667, 'warranties': 9668, 'civil': 9669, 'middlesex': 9670, 'furillo': 9671, '5.435': 9672, 'catch-22': 9673, \"o'brien\": 9674, '133': 9675, 'repriced': 9676, 'high-grade': 9677, 'dorrance': 9678, 'coal-fired': 9679, 'acquirers': 9680, '8.575': 9681, 'migrate': 9682, 'cell': 9683, 'efficient': 9684, 'typical': 9685, '600': 9686, 'grim': 9687, 'leaky': 9688, '14.5': 9689, 'liquidity': 9690, 'initiating': 9691, 'tempted': 9692, 'citizen-sparked': 9693, 'cullowhee': 9694, 'discretion': 9695, 'insured': 9696, 'dealing': 9697, 'instrumental': 9698, 'smothering': 9699, 'photography': 9700, 'purposes': 9701, '2000': 9702, 'begun': 9703, 'n.y': 9704, 'prospective': 9705, 'namely': 9706, 'reap': 9707, 'inefficiencies': 9708, 'trivial': 9709, 'calculator': 9710, 'nebraska': 9711, '4.10': 9712, '1.65': 9713, 'spectacular': 9714, 'rocket': 9715, 'deterioration': 9716, 'arbitrager': 9717, '175': 9718, 'stock-picking': 9719, 'specified': 9720, '94.2': 9721, 'impede': 9722, 'koizumi': 9723, 'attempted': 9724, 'buyer': 9725, 'growers': 9726, 'surreptitiously': 9727, 'canine': 9728, '1\\\\/8': 9729, 'freddie': 9730, '1937-40': 9731, 'mill': 9732, 'two-time-losers': 9733, '116.3': 9734, 'hanover': 9735, 'buy-outs': 9736, 'vicissitudes': 9737, 'hidden': 9738, 'reluctance': 9739, 's.a': 9740, 'breed': 9741, 'hedging': 9742, '879': 9743, 'worsen': 9744, '270': 9745, 'basin': 9746, 'indications': 9747, 'svenska': 9748, '0.82': 9749, 'trays': 9750, 'vindication': 9751, 'barely': 9752, 'contrasts': 9753, 'pain': 9754, 'paperback': 9755, 'evil': 9756, 'prevalance': 9757, 'upset': 9758, 'horoscopes': 9759, 'omnipresent': 9760, 'enzor': 9761, '10.19': 9762, 'leadership': 9763, 'mutchin': 9764, 'exceeding': 9765, 'persky': 9766, 'merchandising': 9767, 'phacoflex': 9768, 'cougar': 9769, 'yttrium-containing': 9770, 'ratified': 9771, 'scans': 9772, 'corporation': 9773, 'listeners': 9774, 'elementary': 9775, 'limping': 9776, 'parched': 9777, 'wedded': 9778, 'seven-million-ton': 9779, 'incomes': 9780, 'quashing': 9781, '177': 9782, 'kendrick': 9783, 'recover': 9784, 'reporter': 9785, 'heebie-jeebies': 9786, 'broadly': 9787, 'context': 9788, '8.06': 9789, 'claimed': 9790, 'oklahoma': 9791, 'ual': 9792, 'usx': 9793, 'castle': 9794, 'carlton': 9795, 'closes': 9796, 'liable': 9797, 'single-handed': 9798, 'dislike': 9799, 'single-a': 9800, 'gmac': 9801, 'fleeting': 9802, 'slogan': 9803, 'vos': 9804, 'hardest-hit': 9805, 'highs': 9806, 'pricings': 9807, '7.52': 9808, 'champion': 9809, 'documented': 9810, '16.5': 9811, 'cousins': 9812, 'ft': 9813, 'transfer': 9814, 'cue': 9815, 'verbatim': 9816, 'drunk': 9817, 'reversed': 9818, 'photocopy': 9819, 'imposes': 9820, 'stayed': 9821, '111': 9822, 'rated': 9823, 'pepperdine': 9824, '1,460': 9825, 'glaxo': 9826, '17.5': 9827, 'relevance': 9828, 'removing': 9829, 'families': 9830, 'repeals': 9831, 'duke': 9832, 'refrigerator': 9833, 'transcribe': 9834, '8.35': 9835, 'saul': 9836, 'inserted': 9837, '13.90': 9838, 'responsive': 9839, 'surely': 9840, 'aftereffects': 9841, 'gartner': 9842, 'hypothetical': 9843, 'harper': 9844, 'languages': 9845, 'favors': 9846, 'nikkei': 9847, 'closing': 9848, 'flights': 9849, 'columbus': 9850, 'comeback': 9851, 'puzzled': 9852, 'kidder': 9853, 'maintain': 9854, 'allergan': 9855, 'slope': 9856, '6.20': 9857, 'imhoff': 9858, 'backgrounds': 9859, 'twisting': 9860, 'rivals': 9861, 'facilities': 9862, 'lending': 9863, '17.3': 9864, 'leighton': 9865, 'sweatshirts': 9866, 'aftermath': 9867, 'machinists': 9868, 'looks': 9869, 'waited': 9870, 'mogavero': 9871, 'collective': 9872, 'innovation': 9873, 'day-care': 9874, 'psychology': 9875, 'survivor': 9876, 'test-drive': 9877, '1.50': 9878, 'crashing': 9879, 'gigantic': 9880, 'innovative': 9881, 'considers': 9882, 'brussels': 9883, 'chooses': 9884, 'profitably': 9885, 'scholarly': 9886, 'ednie': 9887, 'crop': 9888, 'comfortably': 9889, 'helps': 9890, 'bottom-line': 9891, 'welfare': 9892, 'dissemination': 9893, 'circuit-board': 9894, 'goblins': 9895, 'abolishing': 9896, 'disaster-assistance': 9897, 'weil': 9898, '29year': 9899, 'loathsome': 9900, 'bedding': 9901, 'mead': 9902, '220.45': 9903, 'rebels': 9904, 'aboard': 9905, 'bread': 9906, 'ncr': 9907, 'bankrupt': 9908, 'mulling': 9909, 'chilean': 9910, 'mcdonald': 9911, 'chapman': 9912, 'reuters': 9913, 'sept.30': 9914, 'contras': 9915, '386': 9916, 'bread-and-butter': 9917, 'longtime': 9918, 'irwin': 9919, 'insider': 9920, 'markdowns': 9921, 'asher': 9922, 'apparent': 9923, 'sweater': 9924, 'philip': 9925, 'urban': 9926, 'influenced': 9927, '7.84': 9928, '310': 9929, 'repay': 9930, 'concurrent': 9931, 'literature': 9932, 'mercedes': 9933, 'hauling': 9934, 'narrowed': 9935, 'equus': 9936, 'atmosphere': 9937, 'muramatsu': 9938, '7.4': 9939, 'louisiana-pacific': 9940, 'experienced': 9941, 'sabotage': 9942, '1.1650': 9943, 'pauline': 9944, '50-50': 9945, '16.09': 9946, 'unveiled': 9947, 'issuer': 9948, 'subdued': 9949, '1983-85': 9950, 'emerged': 9951, 'neighboring': 9952, 'several-year': 9953, 'observance': 9954, 'beirut': 9955, 'barges': 9956, 'harrison': 9957, 'namibian': 9958, 'questioned': 9959, 'berlin': 9960, '54': 9961, '598': 9962, '645,000': 9963, 'brushed': 9964, 'mcfarlan': 9965, 'eveready': 9966, 'kennedy': 9967, 'computer-services': 9968, 'seven-yen': 9969, 'treating': 9970, 'early-retirement': 9971, 'ferro': 9972, 'namibia': 9973, 'protein': 9974, 'trailer': 9975, 'singled': 9976, 'spun': 9977, 'boots': 9978, 'liberal': 9979, 'unwanted': 9980, 'satisfactorily': 9981, 'u.n.-supervised': 9982, 'pro-iranian': 9983, 'judith': 9984, 'arrive': 9985, '2.07': 9986, 'shipyards': 9987, 'importer': 9988, 'subcontractors': 9989, '11-month-old': 9990, 'carnival': 9991, 'shift': 9992, 'midrange': 9993, '11.95': 9994, \"dunkin'\": 9995, 'lentjes': 9996, 'trinity': 9997, 'exodus': 9998, '35.2': 9999, '3.20': 10000, 'characteristics': 10001, 'weapons-modernization': 10002, 'mood': 10003, 'cents-a-unit': 10004, 'equitable': 10005, 'hadson': 10006, 'apparel': 10007, 'oust': 10008, 'famous': 10009, 'granted': 10010, 'deter': 10011, 'sewing-machine': 10012, 'cash-and-stock': 10013, '108': 10014, 'crum': 10015, 'phase-out': 10016, 'crookery': 10017, '494.50': 10018, 'revelations': 10019, 'guerrillas': 10020, 'arbitrage-related': 10021, 'interleukin-3': 10022, 'bribe': 10023, 'bhutto': 10024, 'barron': 10025, 'bulldozers': 10026, 'readings': 10027, 'modernization': 10028, 'outbid': 10029, '227': 10030, 'insane': 10031, '492': 10032, 'ex-dividend': 10033, 'fled': 10034, 'rebuild': 10035, '263.07': 10036, 'near-limit': 10037, 'integrity': 10038, 'plugged': 10039, 'lyle': 10040, 'laurence': 10041, 'sputtered': 10042, '341.20': 10043, '6,799': 10044, '126.15': 10045, 'dolls': 10046, 'lobsenz': 10047, 'brunt': 10048, 'one-fifth': 10049, 'affirmative': 10050, 'seattle-based': 10051, 'procedural': 10052, 'microprocessors': 10053, '2-3': 10054, 'politically': 10055, 'renewing': 10056, 'trees': 10057, '210': 10058, 'disputado': 10059, 'upbeat': 10060, '116.7': 10061, 'arabian': 10062, 'komatsu': 10063, 'diloreto': 10064, '1.18': 10065, 'amicable': 10066, 'maclellan': 10067, '750,000': 10068, 'five-cent': 10069, 'lakes': 10070, 'galvanized': 10071, 'defines': 10072, 'lebanon': 10073, 'avenge': 10074, 'lindner': 10075, 'netware': 10076, 'drastic': 10077, 'networking': 10078, 'tightening': 10079, 'magnified': 10080, 'lower-priced': 10081, 'shareholder-rights': 10082, '734.9': 10083, 'cushion': 10084, 'ranger': 10085, 'amr': 10086, '60.36': 10087, '2.75': 10088, '87-store': 10089, 'brisk': 10090, '93.9': 10091, 'delmont': 10092, '188.84': 10093, 'colorliner': 10094, '176.1': 10095, 'planes': 10096, 'kurland': 10097, '225,000': 10098, 'bradford': 10099, 'partial': 10100, 'hamstrung': 10101, 'trimmed': 10102, 'till': 10103, 'shopped': 10104, 'cereal': 10105, 'minimum-wage': 10106, 'explore': 10107, 'morphogenetic': 10108, 'laying': 10109, 'chunks': 10110, 'unanticipated': 10111, 'derchin': 10112, 'unrealized': 10113, 'muscling': 10114, 'marrow': 10115, 'neoprene': 10116, '16.2': 10117, 'secede': 10118, 'backlog': 10119, '40-megabyte': 10120, 'rebuilding': 10121, 'donuts': 10122, 'ordnance': 10123, 'high-rolling': 10124, 'stockpiles': 10125, '19-month-old': 10126, 'wilmington': 10127, 'averted': 10128, 'licenses': 10129, 'necks': 10130, 'freeport-mcmoran': 10131, '7.63': 10132, 'verge': 10133, 'drops': 10134, 'redistributing': 10135, '79': 10136, '8.2': 10137, 'gambler': 10138, 'curtail': 10139, 'gelles': 10140, 'inoperative': 10141, 'acute': 10142, 'continuous': 10143, 'landowners': 10144, 'walkout': 10145, 'bidder': 10146, 'nominees': 10147, 'arrested': 10148, '28.36': 10149, 'pediatrician': 10150, 'reservoirs': 10151, 'aerojet': 10152, 'precedes': 10153, '83,206': 10154, 'ralston': 10155, 'natural-gas': 10156, 'full-fledged': 10157, '0.95': 10158, 'planting': 10159, 'jeweler': 10160, 'massive': 10161, 'prior-year': 10162, 'mines': 10163, '11.57': 10164, 'moslem': 10165, 'nigel': 10166, 'softening': 10167, '1.19': 10168, 'balloon': 10169, 'scheme': 10170, '377.60': 10171, 'above-market': 10172, 'first-half': 10173, 'scuttle': 10174, 'per-share': 10175, '12.09': 10176, 'corps': 10177, 'waymar': 10178, '18-a-share': 10179, 'lease': 10180, '93.3': 10181, 'bethlehem': 10182, 'swift': 10183, 'paramount': 10184, 'soldado': 10185, '0.28': 10186, 'pan': 10187, '1.4': 10188, 'high-flying': 10189, '3.55': 10190, '16.68': 10191, 'malta': 10192, 'bench': 10193, 'distributes': 10194, 'fortunes': 10195, 'subpoenaed': 10196, '300-day': 10197, 'germany-based': 10198, 'thieves': 10199, 'liquidated': 10200, 'preclinical': 10201, '350': 10202, 'studio': 10203, 'oy': 10204, 'bomb': 10205, 'seafood': 10206, 'delaware': 10207, '43-year-old': 10208, 'metallgesellschaft': 10209, '96.4': 10210, 'restructurings': 10211, 'vacancy': 10212, '12.97': 10213, 'txo': 10214, '1.25': 10215, 'offensive': 10216, '1,100': 10217, 'derived': 10218, '84.9': 10219, '21,000': 10220, '430': 10221, 'brazilian': 10222, 'otherwise': 10223, 'reaching': 10224, 'puerto': 10225, '1.20': 10226, 'younkers': 10227, '51.6': 10228, 'jurisdiction': 10229, 'theodore': 10230, '2,050-passenger': 10231, 'logistical': 10232, 'cabbage': 10233, 'alleviate': 10234, 'backdrop': 10235, '0.60': 10236, '2.375': 10237, 'liquidation': 10238, 'railcar': 10239, 'crises': 10240, 'relieve': 10241, 'refinery': 10242, 'conn.based': 10243, 'stern': 10244, 'bounced': 10245, 'staff-reduction': 10246, 'reassuring': 10247, '618.1': 10248, 'islamabad': 10249, 'healing': 10250, 'implementation': 10251, 'tendering': 10252, '131.01': 10253, 'proteins': 10254, 'millis': 10255, 'orleans-based': 10256, '198': 10257, '14.43': 10258, 'coleco': 10259, '5.6': 10260, 'eeoc': 10261, 'ravenswood': 10262, 'johnson-era': 10263, '1989-90': 10264, 'accident': 10265, 'trains': 10266, 'port': 10267, 'capitalize': 10268, 'itc': 10269, 'unspecified': 10270, '107.9': 10271, 'norfolk': 10272, 'rico': 10273, 'dna': 10274, 'blighted': 10275, 'finland': 10276, 'discrimination': 10277, 'richer': 10278, 'speculating': 10279, 'blackjack': 10280, 'shuttle': 10281, 'emigres': 10282, 'ohio-based': 10283, 'revival': 10284, 'slaying': 10285, 'earning': 10286, 'gunmen': 10287, '5.8': 10288, 'marcus': 10289, '1.49': 10290, 'coated': 10291, 'mitigate': 10292, '226,570,380': 10293, 'jimmy': 10294, 'kalamazoo': 10295, 'bomber': 10296, 'bone': 10297, 'injecting': 10298, 'baking': 10299, '15.5': 10300, 'alert': 10301, 'preface': 10302, 'leon': 10303, '13.1': 10304, 'p.m.': 10305, 'contra': 10306, 'nomenklatura': 10307, 'zinc': 10308, '3436.58': 10309, 'delayed': 10310, 'armed': 10311, 'u.s.-backed': 10312, 'votes': 10313, '1.35': 10314, 'unexpected': 10315, 'entity': 10316, 'displays': 10317, 'atsushi': 10318, 'corrupt': 10319, '2.15': 10320, 'sentence': 10321, 'assembly': 10322, 'accrue': 10323, '39': 10324, 'glitches': 10325, 'am': 10326, '62.1': 10327, 'africa': 10328, 'coffee': 10329, 'blood-cell': 10330, 'shedding': 10331, 'cara': 10332, '3.04': 10333, 'papua-new': 10334, '58.64': 10335, 'agreements': 10336, 'ship': 10337, 'bribery': 10338, 'kobe': 10339, 'restructures': 10340, '434.4': 10341, 'bears': 10342, 'restraints': 10343, 'born': 10344, 'andersson': 10345, 'doling': 10346, 'boilers': 10347, 'pretoria': 10348, 'expendable': 10349, 'soliciting': 10350, 'bombers': 10351, '260': 10352, '1.916': 10353, 'produces': 10354, '1.76': 10355, 'hostess': 10356, 'riyadh': 10357, '5,699': 10358, 'asset-valuation': 10359, 'barge': 10360, 'bmp': 10361, 'edelman': 10362, 'trail': 10363, 'steelmakers': 10364, 'firmly': 10365, 'headcount-control': 10366, '47.1': 10367, 'gencorp': 10368, 'cos.': 10369, 'reorganized': 10370, 'ferdinand': 10371, 'unaffiliated': 10372, 'reckless': 10373, '95': 10374, 'mine': 10375, 'angola': 10376, '170': 10377, 'transamerica': 10378, '19.95': 10379, 'purina': 10380, 'no-confidence': 10381, 'discussion': 10382, 'appliance': 10383, 'sternberg': 10384, 'rigged': 10385, 'ortega': 10386, 'mich.-based': 10387, '20.07': 10388, 'elders': 10389, 'clarence': 10390, 'hub': 10391, '42.1': 10392, 'falsify': 10393, 'bmp-1': 10394, '721': 10395, '43.875': 10396, '2.35': 10397, 'corn-buying': 10398, 'lifes': 10399, '24,000': 10400, 'nofzinger': 10401, 'meridian': 10402, 'industrywide': 10403, \"'80s\": 10404, 'irrelevant': 10405, 'in-store': 10406, 'tony': 10407, 'hasbrouk': 10408, 'fourteen': 10409, 'rebel': 10410, 'races': 10411, 'designation': 10412, 'jonathan': 10413, 'defects': 10414, '12.68': 10415, 'runkel': 10416, 'shrank': 10417, 'colder': 10418, '100-megabyte': 10419, 'waertsilae': 10420, 'life-of-contract': 10421, 'mindful': 10422, '422.5': 10423, 'specify': 10424, 'saints': 10425, 'holland': 10426, 'adopt': 10427, 'budding': 10428, '132.9': 10429, '45-a-share': 10430, 'pall': 10431, 'communist': 10432, '811.9': 10433, 'floated': 10434, 'hackensack': 10435, 'compositions': 10436, 'minority-owned': 10437, 'ubs': 10438, '36-store': 10439, 'honduras': 10440, '148': 10441, 'trip': 10442, 'directorship': 10443, '4.55': 10444, 'severance': 10445, 'cane': 10446, 'centralized': 10447, 'fashioned': 10448, 'austin': 10449, 'stevenson': 10450, 'bust': 10451, 'firmed': 10452, 'platinum': 10453, '458': 10454, 'winner': 10455, 'all-cash': 10456, 'bloc': 10457, 'lurgi': 10458, '42-year': 10459, 'co-author': 10460, 'warehouse': 10461, 'thwart': 10462, 'reaffirmed': 10463, 'scams': 10464, 'container': 10465, 'peaked': 10466, '6.53': 10467, 'cia': 10468, 'coast': 10469, '14.26': 10470, '154,240,000': 10471, 'scammers': 10472, 'forster': 10473, '77.6': 10474, 'depleted': 10475, 'novell': 10476, 'specialized': 10477, 'bakery': 10478, '6.44': 10479, 'depends': 10480, 'fantasy': 10481, 'injuring': 10482, 'shipyard': 10483, 'clothes': 10484, 'inland': 10485, '14.54': 10486, 'cadmium': 10487, 'battery': 10488, '132,000': 10489, 'authorizes': 10490, 'haden': 10491, 'peters': 10492, 'dd': 10493, 'c-130': 10494, '19.94': 10495, 'write-off': 10496, '55.1': 10497, 'harvested': 10498, 'intelligent': 10499, 'sank': 10500, '87.5': 10501, 'cost-cutting': 10502, 'remarkable': 10503, 'cease-fire': 10504, 'paso': 10505, 'texaco': 10506, 'qualified': 10507, 'resigning': 10508, '5.2180': 10509, '185.9': 10510, 'troops': 10511, 'unicorp': 10512, 'poison': 10513, 'harry': 10514, 'bribing': 10515, 'passenger-car': 10516, '2.47': 10517, 'undelivered': 10518, 'gallon': 10519, 'bankruptcy-law': 10520, 'ethanol': 10521, '28.53': 10522, 'crook': 10523, 'trump': 10524, 'rigid': 10525, 'befell': 10526, '142.84': 10527, 'disasters': 10528, '0.50': 10529, '99.3': 10530, 'capitalized': 10531, 'staying': 10532, 'percent': 10533, 'minera': 10534, 'decliners': 10535, '120-a-share': 10536, 'reimbursed': 10537, '512': 10538, 'confidant': 10539, '13.65': 10540, 'engines': 10541, 'government-owned': 10542, 'missouri': 10543, 'krenz': 10544, 'nyse': 10545, 'leather': 10546, 'savin': 10547, '27-year': 10548, '2.19': 10549, 'mississippi': 10550, '45.2': 10551, '169.9': 10552, 'ganes': 10553, 'information-services': 10554, 'mid-afternoon': 10555, 'termed': 10556, 'rms': 10557, 'sell-off': 10558, 'latter': 10559, 'delivered': 10560, 'write': 10561, 'recombinant': 10562, 'winding': 10563, 'native': 10564, 'nicaraguan': 10565, 'holt': 10566, '50\\\\/50': 10567, 'trace': 10568, 'yoshihashi': 10569, 'reaping': 10570, 'lama': 10571, 'gather': 10572, 'barrett': 10573, 'anti-dumping': 10574, 'buys': 10575, 'loading': 10576, 'procedure': 10577, 'shipbuilding': 10578, 'more-advanced': 10579, 'fbi': 10580, 'tailor-made': 10581, 'storage': 10582, 'mario': 10583, 'waterloo': 10584, 'exceeded': 10585, 'copper': 10586, 'investigate': 10587, 'compressed': 10588, '12.7': 10589, 'emergency': 10590, 'dashed': 10591, 'demobilize': 10592, 'suitors': 10593, '129.91': 10594, 'pipeline': 10595, 'nationalist': 10596, 'reupke': 10597, '372.14': 10598, 'exporters': 10599, 'bottlenecks': 10600, '630.9': 10601, \"o'neill\": 10602, 'heavy-truck': 10603, 'sweaters': 10604, '1.17': 10605, 'implements': 10606, 'exploration': 10607, '26,956': 10608, 'exxon-owned': 10609, '92.9': 10610, 'sandinista': 10611, 'riding': 10612, '11,390,000': 10613, '3.16': 10614, 'csv': 10615, 'rulings': 10616, 'eakle': 10617, 'miners': 10618, '913': 10619, 'high-minded': 10620, '41.60': 10621, '286': 10622, '2,099': 10623, 'fingers': 10624, 'b-1b': 10625, 'fracture': 10626, 'plaintive': 10627, '0.56': 10628, 'est': 10629, 'tendered': 10630, 'wrestling': 10631, 'pipes': 10632, '2.62': 10633, 'waivers': 10634, '1.24': 10635, 'grower': 10636, 'unconsolidated': 10637, '257': 10638, 'rechargeable': 10639, 'gloss': 10640, 'flies': 10641, 'sensational': 10642, 'feeds': 10643, 'carbon': 10644, 'assess': 10645, 'finalized': 10646, 'planted': 10647, '14.00': 10648, 'receipt': 10649, 'hud': 10650, 'rulers': 10651, 'peace': 10652, '5.82': 10653, 'platforms': 10654, 'simulates': 10655, 'manmade-fiber': 10656, 'amortization': 10657, 'hits': 10658, 'bronces': 10659, 'fairlawn': 10660, 'biedermann': 10661, '0.0085': 10662, 'upper': 10663, 'scrounge': 10664, 'attwood': 10665, 'microprocessor': 10666, 'fleet': 10667, '1988-89': 10668, 'eight-person': 10669, 'megabytes': 10670, 'toy': 10671, 'gripping': 10672, 'kilobytes': 10673, 'multinational': 10674, 'biaggi': 10675, 'plagued': 10676, 'exploded': 10677, 'icahn': 10678, 'fixed-price': 10679, '292.32': 10680, 'mandates': 10681, 'unresolved': 10682, 'hubbell': 10683, 'judah': 10684, 'difficulties': 10685, 'peddling': 10686, 'generous': 10687, 'scotland': 10688, 'revolves': 10689, 'distinct': 10690, 'tribe': 10691, 'mellon': 10692, 'territory': 10693, 'guber\\\\/peters': 10694, 'andean': 10695, 'resumption': 10696, 'texas-based': 10697, 'ancestry': 10698, 'sticky': 10699, '50.1': 10700, 'traveled': 10701, 'projections': 10702, 'pains': 10703, 'shepperd': 10704, 'convert': 10705, 'formation': 10706, 'bushel': 10707, 'trafficking': 10708, '92': 10709, 'bribed': 10710, 'islamic': 10711, 'launch-vehicle': 10712, 'g.m.b': 10713, 'diluted': 10714, 'lawmaking': 10715, 'equities': 10716, 'nonrecurring': 10717, '361.8': 10718, 'army': 10719, 'inter-tel': 10720, 'ingredients': 10721, 'nuys': 10722, 'nichol': 10723, 'spiegel': 10724, '1.14': 10725, 'customized': 10726, 'sagged': 10727, 'influencing': 10728, 'wallach': 10729, 'assassinated': 10730, 'intel': 10731, 'acquisition-minded': 10732, 'sanford': 10733, 'regardless': 10734, '275': 10735, 'guerrilla': 10736, 'noncompetitively': 10737, '70.2': 10738, 'plummeted': 10739, 'outlays': 10740, 'kingsbridge': 10741, '8.9': 10742, '1.637': 10743, 'pledged': 10744, 'balloting': 10745, 'adverse': 10746, 'anemic': 10747, 'avon': 10748, 'cartilage': 10749, 'socialism': 10750, 'muted': 10751, 'auspices': 10752, 'shared': 10753, 'full-year': 10754, 'helsinki': 10755, '576': 10756, 'defeated': 10757, 'permits': 10758, 'upjohn': 10759, 'nissan': 10760, 'spectrum': 10761, 'lorain': 10762, 'distributed': 10763, 'intelogic': 10764, 'exporter': 10765, '319.75': 10766, 'tete-a-tete': 10767, 'silver': 10768, 'violating': 10769, '6.6': 10770, 'confirm': 10771, 'reuter': 10772, 'grains': 10773, 'guber': 10774, 'mariotta': 10775, 'adjustment': 10776, 'protein-1': 10777, 'salinas': 10778, '326': 10779, 'tows': 10780, 'finnish': 10781, 'slated': 10782, 'jon': 10783, 'ratner': 10784, 'spaghetti': 10785, 'ignored': 10786, 'vital': 10787, '38.5': 10788, '0.54': 10789, 'allendale': 10790, 'cost-control': 10791, 'path': 10792, 'jacobs': 10793, 'dunkin': 10794, 'karns': 10795, '3.28': 10796, 'freedoms': 10797, 'meese': 10798, '5.70': 10799, 'induce': 10800, 'disputada': 10801, 'warehouses': 10802, 'garden-variety': 10803, 'trim': 10804, 'tidbits': 10805, 'lyn': 10806, '11.72': 10807, 'firmness': 10808, 'dunton': 10809, '6.50': 10810, 'carter': 10811, 'stick': 10812, 'semiliterate': 10813, 'receivers': 10814, '1.26': 10815, '1.56': 10816, 'printing-press': 10817, 'newspaper-printing': 10818, '126.1': 10819, 'permissible': 10820, 'sweaty': 10821, '1990-91': 10822, 'shipboard': 10823, '237-seat': 10824, 'auditors': 10825, '5.1': 10826, 'copper-rich': 10827, 'feeding': 10828, 'subcontractor': 10829, 'climb': 10830, 'impeding': 10831, '608,413': 10832, 'feniger': 10833, 'ports': 10834, 'rumor': 10835, '12.82': 10836, '2.30': 10837, 'rang': 10838, '158,666': 10839, 'supports': 10840, 'bushels': 10841, 'bombs': 10842, '1206.26': 10843, '34.625': 10844, 'irving': 10845, 'cluster': 10846, 'cake': 10847, 'conferees': 10848, 'fifth-largest': 10849, 'woolworth': 10850, 'genetics': 10851, 'yet-to-be-formed': 10852, 'stemmed': 10853, '55-a-share': 10854, 'blue-chips': 10855, 'graphics': 10856, '40.21': 10857, 'beall': 10858, 'periodontal': 10859, 'sandoz': 10860, 'inception': 10861, 'pipe': 10862, 'awaits': 10863, 'adam': 10864, '3.625': 10865, 'windfall': 10866, 'state-appointed': 10867, '12.52': 10868, 'scandals': 10869, 'bougainville': 10870, 'adjustments': 10871, 'matthew': 10872, 'peoria': 10873, 'oxnard': 10874, 'harvest': 10875, 'datapoint': 10876, 'salable': 10877, 'markkaa': 10878, 'mannix': 10879, '19.50': 10880, '967,809': 10881, 'deplorable': 10882, 'faltered': 10883, 'marathon': 10884, 'surrey': 10885, 'wertheim': 10886, 'professors': 10887, 'advocating': 10888, 'fizzled': 10889, 'workable': 10890, '14.53': 10891, '5.63': 10892, '170,262': 10893, 'avert': 10894, 'constitutional-law': 10895, 'gyrate': 10896, 'easy-to-read': 10897, '566.54': 10898, 'somewhat': 10899, '6.4': 10900, 'shaky': 10901, 'ingenuity': 10902, '88.32': 10903, 'slowed': 10904, 'brokering': 10905, 'realestate': 10906, 'miami-based': 10907, 'unitholders': 10908, 'wedtech': 10909, '387.8': 10910, 'implicitly': 10911, 'expressing': 10912, '80.50': 10913, '313': 10914, 'schroder': 10915, '0.84': 10916, 'strain': 10917, 'terrorists': 10918, 'reserved': 10919, '14.75': 10920, 'respectable': 10921, 'bag': 10922, 'developer': 10923, 'cancers': 10924, 'whenever': 10925, '85.7': 10926, 'pakistan': 10927, 'gillett': 10928, 'comparison': 10929, 'carl': 10930, 'reluctant': 10931, 'insurgents': 10932, 'withdrew': 10933, 'patch': 10934, '38.875': 10935, '14.28': 10936, 'beheading': 10937, 'binge': 10938, 'cross-border': 10939, '0.99': 10940, 'judgment': 10941, 'fe': 10942, 'third-largest': 10943, 'battered': 10944, 'puccio': 10945, '405': 10946, 'breezy': 10947}\n"
     ]
    }
   ],
   "source": [
    "def switch_voc(d):\n",
    "  return dict([(value, key) for key, value in d.items()])\n",
    "print(len(voc))\n",
    "print(voc)\n",
    "voc2=switch_voc(voc)\n",
    "print(voc2)"
   ]
  },
  {
   "cell_type": "markdown",
   "metadata": {
    "id": "v5xcmxEfmGhM"
   },
   "source": [
    "Change matrixes from words to ints"
   ]
  },
  {
   "cell_type": "code",
   "execution_count": 16,
   "metadata": {
    "colab": {
     "base_uri": "https://localhost:8080/"
    },
    "id": "jX1Eb6tpk0pU",
    "outputId": "fb098f9f-2f05-4463-831d-2152f23d2b86"
   },
   "outputs": [
    {
     "name": "stdout",
     "output_type": "stream",
     "text": [
      "{'-rrb-': 1, ',': 2, 'wrb': 3, 'in': 4, 'jjr': 5, 'nn': 6, 'vbp': 7, '$': 8, 'uh': 9, 'md': 10, 'wp': 11, 'nnp': 12, 'pos': 13, 'ex': 14, 'nnps': 15, 'vbn': 16, 'ls': 17, 'vbg': 18, 'vbd': 19, 'rbr': 20, 'vbz': 21, 'cc': 22, 'wdt': 23, 'vb': 24, 'sym': 25, 'prp': 26, ':': 27, 'wp$': 28, 'dt': 29, 'jj': 30, 'prp$': 31, 'cd': 32, 'to': 33, 'rbs': 34, 'nns': 35, 'fw': 36, 'rb': 37, \"''\": 38, '-lrb-': 39, '.': 40, '``': 41, '#': 42, 'pdt': 43, 'rp': 44, 'jjs': 45}\n"
     ]
    }
   ],
   "source": [
    "label_dict={}\n",
    "labels=list(set(train_data['Labels'].sum()))\n",
    "NUM_OF_LABELS = len(labels) + 1 \n",
    "for i in range(NUM_OF_LABELS-1):\n",
    "  label_dict[i+1]=labels[i]\n",
    "label_dict2=switch_voc(label_dict)\n",
    "print(label_dict2)\n",
    "MAX_SEQ_LENGTH = max([len(k) for k in train_data['Words']])"
   ]
  },
  {
   "cell_type": "code",
   "execution_count": 17,
   "metadata": {
    "id": "v-6qP40G99sy"
   },
   "outputs": [],
   "source": [
    "def prepare_matrix(sett):\n",
    "  mat_words = [[voc2[sett['Words'][i][k]] for k in range(len(sett['Words'][i]))] for i in range(len(sett))] \n",
    "  mat_labels = [[label_dict2[sett['Labels'][i][k]] for k in range(len(sett['Labels'][i]))] for i in range(len(sett))] \n",
    "\n",
    "  mat_words =np.asarray([np.array(k) for k in mat_words],dtype=object)\n",
    "  mat_labels =np.asarray([np.array(k) for k in mat_labels],dtype=object)\n",
    "\n",
    "  mat_words = pad_sequences(mat_words, maxlen = MAX_SEQ_LENGTH, padding = 'post', truncating = 'post')\n",
    "  mat_labels = pad_sequences(mat_labels, maxlen = MAX_SEQ_LENGTH, padding = 'post', truncating = 'post')\n",
    "  return mat_words, mat_labels\n",
    "  \n",
    "train_mat_words, train_mat_labels=prepare_matrix(train_data)\n",
    "val_mat_words, val_mat_labels=prepare_matrix(val_data)"
   ]
  },
  {
   "cell_type": "markdown",
   "metadata": {
    "id": "Svs7NIjOJnL3"
   },
   "source": [
    "#Model"
   ]
  },
  {
   "cell_type": "markdown",
   "metadata": {
    "id": "F5-Z_oi2yrq8"
   },
   "source": [
    "##Baseline model"
   ]
  },
  {
   "cell_type": "code",
   "execution_count": 18,
   "metadata": {
    "colab": {
     "base_uri": "https://localhost:8080/"
    },
    "id": "mbgp98tfBCFm",
    "outputId": "17b815b2-cae0-4d88-843b-309b3611200d"
   },
   "outputs": [
    {
     "name": "stdout",
     "output_type": "stream",
     "text": [
      "Model: \"model\"\n",
      "_________________________________________________________________\n",
      " Layer (type)                Output Shape              Param #   \n",
      "=================================================================\n",
      " input_1 (InputLayer)        [(None, 249)]             0         \n",
      "                                                                 \n",
      " embedding (Embedding)       (None, 249, 100)          1094800   \n",
      "                                                                 \n",
      " bidirectional (Bidirectiona  (None, 249, 32)          14976     \n",
      " l)                                                              \n",
      "                                                                 \n",
      " time_distributed (TimeDistr  (None, 249, 46)          1518      \n",
      " ibuted)                                                         \n",
      "                                                                 \n",
      "=================================================================\n",
      "Total params: 1,111,294\n",
      "Trainable params: 16,494\n",
      "Non-trainable params: 1,094,800\n",
      "_________________________________________________________________\n",
      "Epoch 1/30\n",
      "62/62 [==============================] - 46s 623ms/step - loss: 0.1988 - acc: 0.4715 - val_loss: 0.1041 - val_acc: 0.7206\n",
      "Epoch 2/30\n",
      "62/62 [==============================] - 34s 554ms/step - loss: 0.0845 - acc: 0.7696 - val_loss: 0.0631 - val_acc: 0.8273\n",
      "Epoch 3/30\n",
      "62/62 [==============================] - 35s 557ms/step - loss: 0.0621 - acc: 0.8264 - val_loss: 0.0506 - val_acc: 0.8550\n",
      "Epoch 4/30\n",
      "62/62 [==============================] - 35s 559ms/step - loss: 0.0531 - acc: 0.8466 - val_loss: 0.0453 - val_acc: 0.8645\n",
      "Epoch 5/30\n",
      "62/62 [==============================] - 35s 564ms/step - loss: 0.0475 - acc: 0.8591 - val_loss: 0.0413 - val_acc: 0.8766\n",
      "Epoch 6/30\n",
      "62/62 [==============================] - 35s 566ms/step - loss: 0.0435 - acc: 0.8706 - val_loss: 0.0381 - val_acc: 0.8864\n",
      "Epoch 7/30\n",
      "62/62 [==============================] - 37s 594ms/step - loss: 0.0405 - acc: 0.8766 - val_loss: 0.0364 - val_acc: 0.8896\n",
      "Epoch 8/30\n",
      "62/62 [==============================] - 36s 585ms/step - loss: 0.0386 - acc: 0.8826 - val_loss: 0.0345 - val_acc: 0.8928\n",
      "Epoch 9/30\n",
      "62/62 [==============================] - 35s 566ms/step - loss: 0.0371 - acc: 0.8851 - val_loss: 0.0337 - val_acc: 0.8947\n",
      "Epoch 10/30\n",
      "62/62 [==============================] - 35s 564ms/step - loss: 0.0356 - acc: 0.8902 - val_loss: 0.0326 - val_acc: 0.8998\n",
      "Epoch 11/30\n",
      "62/62 [==============================] - 35s 563ms/step - loss: 0.0345 - acc: 0.8931 - val_loss: 0.0316 - val_acc: 0.8983\n",
      "Epoch 12/30\n",
      "62/62 [==============================] - 35s 563ms/step - loss: 0.0334 - acc: 0.8968 - val_loss: 0.0307 - val_acc: 0.9033\n",
      "Epoch 13/30\n",
      "62/62 [==============================] - 37s 595ms/step - loss: 0.0324 - acc: 0.8987 - val_loss: 0.0306 - val_acc: 0.9020\n",
      "Epoch 14/30\n",
      "62/62 [==============================] - 37s 604ms/step - loss: 0.0320 - acc: 0.9005 - val_loss: 0.0300 - val_acc: 0.9041\n",
      "Epoch 15/30\n",
      "62/62 [==============================] - 35s 562ms/step - loss: 0.0308 - acc: 0.9039 - val_loss: 0.0296 - val_acc: 0.9052\n",
      "Epoch 16/30\n",
      "62/62 [==============================] - 36s 577ms/step - loss: 0.0305 - acc: 0.9032 - val_loss: 0.0294 - val_acc: 0.9072\n",
      "Epoch 17/30\n",
      "62/62 [==============================] - 35s 569ms/step - loss: 0.0300 - acc: 0.9062 - val_loss: 0.0296 - val_acc: 0.9071\n",
      "Epoch 18/30\n",
      "62/62 [==============================] - 35s 563ms/step - loss: 0.0296 - acc: 0.9066 - val_loss: 0.0288 - val_acc: 0.9092\n",
      "Epoch 19/30\n",
      "62/62 [==============================] - 35s 560ms/step - loss: 0.0289 - acc: 0.9076 - val_loss: 0.0286 - val_acc: 0.9100\n",
      "Epoch 20/30\n",
      "62/62 [==============================] - 35s 560ms/step - loss: 0.0285 - acc: 0.9081 - val_loss: 0.0283 - val_acc: 0.9081\n",
      "Epoch 21/30\n",
      "62/62 [==============================] - 35s 561ms/step - loss: 0.0280 - acc: 0.9107 - val_loss: 0.0276 - val_acc: 0.9109\n",
      "Epoch 22/30\n",
      "62/62 [==============================] - 36s 582ms/step - loss: 0.0278 - acc: 0.9117 - val_loss: 0.0276 - val_acc: 0.9120\n",
      "Epoch 23/30\n",
      "62/62 [==============================] - 35s 563ms/step - loss: 0.0273 - acc: 0.9122 - val_loss: 0.0280 - val_acc: 0.9113\n",
      "Epoch 24/30\n",
      "62/62 [==============================] - 35s 560ms/step - loss: 0.0272 - acc: 0.9136 - val_loss: 0.0274 - val_acc: 0.9121\n",
      "Epoch 25/30\n",
      "62/62 [==============================] - 35s 564ms/step - loss: 0.0268 - acc: 0.9139 - val_loss: 0.0273 - val_acc: 0.9131\n",
      "Epoch 26/30\n",
      "62/62 [==============================] - 35s 561ms/step - loss: 0.0270 - acc: 0.9121 - val_loss: 0.0278 - val_acc: 0.9126\n",
      "Epoch 27/30\n",
      "62/62 [==============================] - 35s 560ms/step - loss: 0.0263 - acc: 0.9152 - val_loss: 0.0273 - val_acc: 0.9131\n",
      "Epoch 28/30\n",
      "62/62 [==============================] - 35s 562ms/step - loss: 0.0263 - acc: 0.9151 - val_loss: 0.0271 - val_acc: 0.9139\n",
      "Epoch 29/30\n",
      "62/62 [==============================] - 35s 562ms/step - loss: 0.0260 - acc: 0.9164 - val_loss: 0.0274 - val_acc: 0.9135\n",
      "Epoch 30/30\n",
      "62/62 [==============================] - 35s 562ms/step - loss: 0.0259 - acc: 0.9149 - val_loss: 0.0272 - val_acc: 0.9153\n"
     ]
    },
    {
     "data": {
      "text/plain": [
       "<keras.callbacks.History at 0x7f1fd0f380d0>"
      ]
     },
     "execution_count": 18,
     "metadata": {},
     "output_type": "execute_result"
    }
   ],
   "source": [
    "input_layer  = Input(shape = (MAX_SEQ_LENGTH, ))\n",
    "embedding_layer = Embedding(input_dim = embedding_matrix.shape[0],\n",
    "                            output_dim = int(EMBEDDING_DIMENSION),\n",
    "                            mask_zero = True,\n",
    "                            embeddings_initializer = Constant(embedding_matrix),\n",
    "                            trainable = False)(input_layer)\n",
    "\n",
    "lstm_layer = Bidirectional(LSTM(16, return_sequences = True, dropout = 0.2, recurrent_dropout = 0.2))(embedding_layer)\n",
    "dense_layer = TimeDistributed(Dense(NUM_OF_LABELS, activation = 'softmax'))(lstm_layer)\n",
    "model1 = Model(input_layer, dense_layer)\n",
    "\n",
    "lr_schedule = ExponentialDecay(\n",
    "    initial_learning_rate=0.01,\n",
    "    decay_steps=100000,\n",
    "    decay_rate=0.95,\n",
    "    staircase=True)\n",
    "    \n",
    "earlystop = [EarlyStopping(monitor = \"val_loss\", verbose = 1, patience = 3, mode = \"auto\")]\n",
    "\n",
    "model1.compile(loss = 'sparse_categorical_crossentropy', optimizer = Adam(learning_rate=lr_schedule), metrics = ['acc'])\n",
    "model1.summary()\n",
    "model1.fit(train_mat_words, train_mat_labels, \n",
    "                   epochs = 30, callbacks = earlystop,\n",
    "                   validation_data = (val_mat_words, val_mat_labels))"
   ]
  },
  {
   "cell_type": "markdown",
   "metadata": {
    "id": "85nGOe1Ng2_0"
   },
   "source": [
    "##GRU"
   ]
  },
  {
   "cell_type": "code",
   "execution_count": 19,
   "metadata": {
    "colab": {
     "base_uri": "https://localhost:8080/"
    },
    "id": "1BhcRrNJg6sD",
    "outputId": "234b150e-5ec0-4bf2-a04b-87608d7ef722"
   },
   "outputs": [
    {
     "name": "stdout",
     "output_type": "stream",
     "text": [
      "Model: \"model_1\"\n",
      "_________________________________________________________________\n",
      " Layer (type)                Output Shape              Param #   \n",
      "=================================================================\n",
      " input_2 (InputLayer)        [(None, 249)]             0         \n",
      "                                                                 \n",
      " embedding_1 (Embedding)     (None, 249, 100)          1094800   \n",
      "                                                                 \n",
      " bidirectional_1 (Bidirectio  (None, 249, 32)          11328     \n",
      " nal)                                                            \n",
      "                                                                 \n",
      " time_distributed_1 (TimeDis  (None, 249, 46)          1518      \n",
      " tributed)                                                       \n",
      "                                                                 \n",
      "=================================================================\n",
      "Total params: 1,107,646\n",
      "Trainable params: 12,846\n",
      "Non-trainable params: 1,094,800\n",
      "_________________________________________________________________\n",
      "Epoch 1/30\n",
      "62/62 [==============================] - 37s 502ms/step - loss: 0.1639 - acc: 0.5686 - val_loss: 0.0770 - val_acc: 0.7806\n",
      "Epoch 2/30\n",
      "62/62 [==============================] - 30s 487ms/step - loss: 0.0685 - acc: 0.8031 - val_loss: 0.0525 - val_acc: 0.8392\n",
      "Epoch 3/30\n",
      "62/62 [==============================] - 30s 489ms/step - loss: 0.0541 - acc: 0.8371 - val_loss: 0.0448 - val_acc: 0.8623\n",
      "Epoch 4/30\n",
      "62/62 [==============================] - 30s 489ms/step - loss: 0.0480 - acc: 0.8531 - val_loss: 0.0403 - val_acc: 0.8734\n",
      "Epoch 5/30\n",
      "62/62 [==============================] - 32s 510ms/step - loss: 0.0437 - acc: 0.8652 - val_loss: 0.0382 - val_acc: 0.8825\n",
      "Epoch 6/30\n",
      "62/62 [==============================] - 30s 488ms/step - loss: 0.0412 - acc: 0.8717 - val_loss: 0.0355 - val_acc: 0.8892\n",
      "Epoch 7/30\n",
      "62/62 [==============================] - 30s 490ms/step - loss: 0.0387 - acc: 0.8796 - val_loss: 0.0342 - val_acc: 0.8932\n",
      "Epoch 8/30\n",
      "62/62 [==============================] - 30s 487ms/step - loss: 0.0377 - acc: 0.8821 - val_loss: 0.0332 - val_acc: 0.8966\n",
      "Epoch 9/30\n",
      "62/62 [==============================] - 30s 492ms/step - loss: 0.0360 - acc: 0.8868 - val_loss: 0.0323 - val_acc: 0.8985\n",
      "Epoch 10/30\n",
      "62/62 [==============================] - 30s 490ms/step - loss: 0.0357 - acc: 0.8882 - val_loss: 0.0322 - val_acc: 0.8971\n",
      "Epoch 11/30\n",
      "62/62 [==============================] - 30s 489ms/step - loss: 0.0349 - acc: 0.8887 - val_loss: 0.0320 - val_acc: 0.8976\n",
      "Epoch 12/30\n",
      "62/62 [==============================] - 30s 488ms/step - loss: 0.0338 - acc: 0.8930 - val_loss: 0.0313 - val_acc: 0.8997\n",
      "Epoch 13/30\n",
      "62/62 [==============================] - 30s 489ms/step - loss: 0.0333 - acc: 0.8932 - val_loss: 0.0308 - val_acc: 0.9027\n",
      "Epoch 14/30\n",
      "62/62 [==============================] - 30s 487ms/step - loss: 0.0330 - acc: 0.8932 - val_loss: 0.0308 - val_acc: 0.9020\n",
      "Epoch 15/30\n",
      "62/62 [==============================] - 30s 489ms/step - loss: 0.0326 - acc: 0.8947 - val_loss: 0.0302 - val_acc: 0.9046\n",
      "Epoch 16/30\n",
      "62/62 [==============================] - 31s 493ms/step - loss: 0.0324 - acc: 0.8962 - val_loss: 0.0305 - val_acc: 0.9025\n",
      "Epoch 17/30\n",
      "62/62 [==============================] - 30s 490ms/step - loss: 0.0316 - acc: 0.8979 - val_loss: 0.0302 - val_acc: 0.9067\n",
      "Epoch 18/30\n",
      "62/62 [==============================] - 30s 488ms/step - loss: 0.0313 - acc: 0.8987 - val_loss: 0.0299 - val_acc: 0.9054\n",
      "Epoch 19/30\n",
      "62/62 [==============================] - 30s 486ms/step - loss: 0.0314 - acc: 0.8966 - val_loss: 0.0297 - val_acc: 0.9052\n",
      "Epoch 20/30\n",
      "62/62 [==============================] - 30s 483ms/step - loss: 0.0309 - acc: 0.8998 - val_loss: 0.0292 - val_acc: 0.9074\n",
      "Epoch 21/30\n",
      "62/62 [==============================] - 31s 503ms/step - loss: 0.0307 - acc: 0.9012 - val_loss: 0.0289 - val_acc: 0.9077\n",
      "Epoch 22/30\n",
      "62/62 [==============================] - 30s 485ms/step - loss: 0.0305 - acc: 0.9013 - val_loss: 0.0295 - val_acc: 0.9062\n",
      "Epoch 23/30\n",
      "62/62 [==============================] - 30s 486ms/step - loss: 0.0301 - acc: 0.9028 - val_loss: 0.0292 - val_acc: 0.9074\n",
      "Epoch 24/30\n",
      "62/62 [==============================] - 30s 485ms/step - loss: 0.0300 - acc: 0.9034 - val_loss: 0.0293 - val_acc: 0.9077\n",
      "Epoch 24: early stopping\n"
     ]
    },
    {
     "data": {
      "text/plain": [
       "<keras.callbacks.History at 0x7f1fd0d82e50>"
      ]
     },
     "execution_count": 19,
     "metadata": {},
     "output_type": "execute_result"
    }
   ],
   "source": [
    "input_layer  = Input(shape = (MAX_SEQ_LENGTH, ))\n",
    "embedding_layer = Embedding(input_dim = embedding_matrix.shape[0],\n",
    "                            output_dim = int(EMBEDDING_DIMENSION),\n",
    "                            mask_zero = True,\n",
    "                            embeddings_initializer = Constant(embedding_matrix),\n",
    "                            trainable = False)(input_layer)\n",
    "\n",
    "gru_layer = Bidirectional(GRU(16, return_sequences = True, dropout = 0.2, recurrent_dropout = 0.2))(embedding_layer)\n",
    "dense_layer = TimeDistributed(Dense(NUM_OF_LABELS, activation = 'softmax'))(gru_layer)\n",
    "model2 = Model(input_layer, dense_layer)\n",
    "\n",
    "lr_schedule = ExponentialDecay(\n",
    "    initial_learning_rate=0.01,\n",
    "    decay_steps=100000,\n",
    "    decay_rate=0.95,\n",
    "    staircase=True)\n",
    "    \n",
    "earlystop = [EarlyStopping(monitor = \"val_loss\", verbose = 1, patience = 3, mode = \"auto\")]\n",
    "\n",
    "model2.compile(loss = 'sparse_categorical_crossentropy', optimizer = Adam(lr_schedule), metrics = ['acc'])\n",
    "model2.summary()\n",
    "model2.fit(train_mat_words, train_mat_labels, \n",
    "                   epochs = 30, callbacks = earlystop,\n",
    "                   validation_data = (val_mat_words, val_mat_labels))"
   ]
  },
  {
   "cell_type": "markdown",
   "metadata": {
    "id": "AmnBFvgEkx9B"
   },
   "source": [
    "##Double LSTM"
   ]
  },
  {
   "cell_type": "code",
   "execution_count": 20,
   "metadata": {
    "colab": {
     "base_uri": "https://localhost:8080/"
    },
    "id": "BKcThHahk2pf",
    "outputId": "d1ac36db-a9d8-44b4-8266-59769550d755"
   },
   "outputs": [
    {
     "name": "stdout",
     "output_type": "stream",
     "text": [
      "Model: \"model_2\"\n",
      "_________________________________________________________________\n",
      " Layer (type)                Output Shape              Param #   \n",
      "=================================================================\n",
      " input_3 (InputLayer)        [(None, 249)]             0         \n",
      "                                                                 \n",
      " embedding_2 (Embedding)     (None, 249, 100)          1094800   \n",
      "                                                                 \n",
      " bidirectional_2 (Bidirectio  (None, 249, 32)          14976     \n",
      " nal)                                                            \n",
      "                                                                 \n",
      " bidirectional_3 (Bidirectio  (None, 249, 32)          6272      \n",
      " nal)                                                            \n",
      "                                                                 \n",
      " time_distributed_2 (TimeDis  (None, 249, 46)          1518      \n",
      " tributed)                                                       \n",
      "                                                                 \n",
      "=================================================================\n",
      "Total params: 1,117,566\n",
      "Trainable params: 22,766\n",
      "Non-trainable params: 1,094,800\n",
      "_________________________________________________________________\n",
      "Epoch 1/30\n",
      "62/62 [==============================] - 82s 1s/step - loss: 0.2369 - acc: 0.3398 - val_loss: 0.1335 - val_acc: 0.6132\n",
      "Epoch 2/30\n",
      "62/62 [==============================] - 66s 1s/step - loss: 0.1065 - acc: 0.6956 - val_loss: 0.0730 - val_acc: 0.7905\n",
      "Epoch 3/30\n",
      "62/62 [==============================] - 67s 1s/step - loss: 0.0731 - acc: 0.7874 - val_loss: 0.0548 - val_acc: 0.8421\n",
      "Epoch 4/30\n",
      "62/62 [==============================] - 66s 1s/step - loss: 0.0603 - acc: 0.8215 - val_loss: 0.0471 - val_acc: 0.8611\n",
      "Epoch 5/30\n",
      "62/62 [==============================] - 66s 1s/step - loss: 0.0525 - acc: 0.8441 - val_loss: 0.0409 - val_acc: 0.8766\n",
      "Epoch 6/30\n",
      "62/62 [==============================] - 68s 1s/step - loss: 0.0477 - acc: 0.8576 - val_loss: 0.0378 - val_acc: 0.8856\n",
      "Epoch 7/30\n",
      "62/62 [==============================] - 66s 1s/step - loss: 0.0442 - acc: 0.8668 - val_loss: 0.0360 - val_acc: 0.8919\n",
      "Epoch 8/30\n",
      "62/62 [==============================] - 66s 1s/step - loss: 0.0416 - acc: 0.8747 - val_loss: 0.0345 - val_acc: 0.8941\n",
      "Epoch 9/30\n",
      "62/62 [==============================] - 67s 1s/step - loss: 0.0395 - acc: 0.8802 - val_loss: 0.0324 - val_acc: 0.9027\n",
      "Epoch 10/30\n",
      "62/62 [==============================] - 66s 1s/step - loss: 0.0382 - acc: 0.8836 - val_loss: 0.0314 - val_acc: 0.9053\n",
      "Epoch 11/30\n",
      "62/62 [==============================] - 67s 1s/step - loss: 0.0365 - acc: 0.8886 - val_loss: 0.0305 - val_acc: 0.9066\n",
      "Epoch 12/30\n",
      "62/62 [==============================] - 67s 1s/step - loss: 0.0355 - acc: 0.8908 - val_loss: 0.0302 - val_acc: 0.9064\n",
      "Epoch 13/30\n",
      "62/62 [==============================] - 68s 1s/step - loss: 0.0343 - acc: 0.8932 - val_loss: 0.0290 - val_acc: 0.9111\n",
      "Epoch 14/30\n",
      "62/62 [==============================] - 67s 1s/step - loss: 0.0334 - acc: 0.8949 - val_loss: 0.0285 - val_acc: 0.9133\n",
      "Epoch 15/30\n",
      "62/62 [==============================] - 67s 1s/step - loss: 0.0325 - acc: 0.8990 - val_loss: 0.0287 - val_acc: 0.9123\n",
      "Epoch 16/30\n",
      "62/62 [==============================] - 67s 1s/step - loss: 0.0317 - acc: 0.9012 - val_loss: 0.0276 - val_acc: 0.9160\n",
      "Epoch 17/30\n",
      "62/62 [==============================] - 67s 1s/step - loss: 0.0313 - acc: 0.9010 - val_loss: 0.0276 - val_acc: 0.9140\n",
      "Epoch 18/30\n",
      "62/62 [==============================] - 67s 1s/step - loss: 0.0307 - acc: 0.9026 - val_loss: 0.0274 - val_acc: 0.9156\n",
      "Epoch 19/30\n",
      "62/62 [==============================] - 66s 1s/step - loss: 0.0301 - acc: 0.9048 - val_loss: 0.0271 - val_acc: 0.9164\n",
      "Epoch 20/30\n",
      "62/62 [==============================] - 67s 1s/step - loss: 0.0294 - acc: 0.9085 - val_loss: 0.0260 - val_acc: 0.9206\n",
      "Epoch 21/30\n",
      "62/62 [==============================] - 66s 1s/step - loss: 0.0291 - acc: 0.9082 - val_loss: 0.0262 - val_acc: 0.9201\n",
      "Epoch 22/30\n",
      "62/62 [==============================] - 66s 1s/step - loss: 0.0288 - acc: 0.9078 - val_loss: 0.0261 - val_acc: 0.9233\n",
      "Epoch 23/30\n",
      "62/62 [==============================] - 67s 1s/step - loss: 0.0286 - acc: 0.9092 - val_loss: 0.0258 - val_acc: 0.9224\n",
      "Epoch 24/30\n",
      "62/62 [==============================] - 66s 1s/step - loss: 0.0283 - acc: 0.9104 - val_loss: 0.0267 - val_acc: 0.9193\n",
      "Epoch 25/30\n",
      "62/62 [==============================] - 74s 1s/step - loss: 0.0282 - acc: 0.9112 - val_loss: 0.0256 - val_acc: 0.9198\n",
      "Epoch 26/30\n",
      "62/62 [==============================] - 68s 1s/step - loss: 0.0273 - acc: 0.9122 - val_loss: 0.0249 - val_acc: 0.9229\n",
      "Epoch 27/30\n",
      "62/62 [==============================] - 67s 1s/step - loss: 0.0273 - acc: 0.9125 - val_loss: 0.0249 - val_acc: 0.9236\n",
      "Epoch 28/30\n",
      "62/62 [==============================] - 66s 1s/step - loss: 0.0272 - acc: 0.9128 - val_loss: 0.0258 - val_acc: 0.9228\n",
      "Epoch 29/30\n",
      "62/62 [==============================] - 66s 1s/step - loss: 0.0271 - acc: 0.9136 - val_loss: 0.0249 - val_acc: 0.9237\n",
      "Epoch 30/30\n",
      "62/62 [==============================] - 66s 1s/step - loss: 0.0267 - acc: 0.9136 - val_loss: 0.0252 - val_acc: 0.9230\n",
      "Epoch 30: early stopping\n"
     ]
    },
    {
     "data": {
      "text/plain": [
       "<keras.callbacks.History at 0x7f1fcd561090>"
      ]
     },
     "execution_count": 20,
     "metadata": {},
     "output_type": "execute_result"
    }
   ],
   "source": [
    "input_layer  = Input(shape = (MAX_SEQ_LENGTH, ))\n",
    "embedding_layer = Embedding(input_dim = embedding_matrix.shape[0],\n",
    "                            output_dim = int(EMBEDDING_DIMENSION),\n",
    "                            mask_zero = True,\n",
    "                            embeddings_initializer = Constant(embedding_matrix),\n",
    "                            trainable = False)(input_layer)\n",
    "\n",
    "lstm_layer = Bidirectional(LSTM(16, return_sequences = True, dropout = 0.2, recurrent_dropout = 0.2))(embedding_layer)\n",
    "lstm_layer2 = Bidirectional(LSTM(16, return_sequences = True, dropout = 0.2, recurrent_dropout = 0.2))(lstm_layer)\n",
    "dense_layer = TimeDistributed(Dense(NUM_OF_LABELS, activation = 'softmax'))(lstm_layer2)\n",
    "model3 = Model(input_layer, dense_layer)\n",
    "\n",
    "lr_schedule = ExponentialDecay(\n",
    "    initial_learning_rate=0.01,\n",
    "    decay_steps=100000,\n",
    "    decay_rate=0.95,\n",
    "    staircase=True)\n",
    "    \n",
    "earlystop = [EarlyStopping(monitor = \"val_loss\", verbose = 1, patience = 3, mode = \"auto\")]\n",
    "\n",
    "model3.compile(loss = 'sparse_categorical_crossentropy', optimizer = Adam(lr_schedule), metrics = ['acc'])\n",
    "model3.summary()\n",
    "model3.fit(train_mat_words, train_mat_labels, \n",
    "                   epochs = 30, callbacks = earlystop,\n",
    "                   validation_data = (val_mat_words, val_mat_labels))"
   ]
  },
  {
   "cell_type": "markdown",
   "metadata": {
    "id": "z8dvAfSCm1ro"
   },
   "source": [
    "##Double Dense"
   ]
  },
  {
   "cell_type": "code",
   "execution_count": 21,
   "metadata": {
    "colab": {
     "base_uri": "https://localhost:8080/"
    },
    "id": "te99MNpxm2FJ",
    "outputId": "c5221fac-bf71-4332-c67d-3ab9299399a9"
   },
   "outputs": [
    {
     "name": "stdout",
     "output_type": "stream",
     "text": [
      "Model: \"model_3\"\n",
      "_________________________________________________________________\n",
      " Layer (type)                Output Shape              Param #   \n",
      "=================================================================\n",
      " input_4 (InputLayer)        [(None, 249)]             0         \n",
      "                                                                 \n",
      " embedding_3 (Embedding)     (None, 249, 100)          1094800   \n",
      "                                                                 \n",
      " bidirectional_4 (Bidirectio  (None, 249, 32)          14976     \n",
      " nal)                                                            \n",
      "                                                                 \n",
      " time_distributed_3 (TimeDis  (None, 249, 46)          1518      \n",
      " tributed)                                                       \n",
      "                                                                 \n",
      " time_distributed_4 (TimeDis  (None, 249, 46)          2162      \n",
      " tributed)                                                       \n",
      "                                                                 \n",
      "=================================================================\n",
      "Total params: 1,113,456\n",
      "Trainable params: 18,656\n",
      "Non-trainable params: 1,094,800\n",
      "_________________________________________________________________\n",
      "Epoch 1/30\n",
      "62/62 [==============================] - 43s 586ms/step - loss: 0.2589 - acc: 0.2095 - val_loss: 0.2172 - val_acc: 0.3582\n",
      "Epoch 2/30\n",
      "62/62 [==============================] - 35s 570ms/step - loss: 0.1986 - acc: 0.4211 - val_loss: 0.1857 - val_acc: 0.4419\n",
      "Epoch 3/30\n",
      "62/62 [==============================] - 36s 588ms/step - loss: 0.1699 - acc: 0.4809 - val_loss: 0.1527 - val_acc: 0.5324\n",
      "Epoch 4/30\n",
      "62/62 [==============================] - 35s 571ms/step - loss: 0.1539 - acc: 0.5189 - val_loss: 0.1429 - val_acc: 0.5321\n",
      "Epoch 5/30\n",
      "62/62 [==============================] - 35s 570ms/step - loss: 0.1419 - acc: 0.5685 - val_loss: 0.1304 - val_acc: 0.6063\n",
      "Epoch 6/30\n",
      "62/62 [==============================] - 35s 572ms/step - loss: 0.1329 - acc: 0.5938 - val_loss: 0.1219 - val_acc: 0.6231\n",
      "Epoch 7/30\n",
      "62/62 [==============================] - 35s 570ms/step - loss: 0.1245 - acc: 0.6231 - val_loss: 0.1212 - val_acc: 0.6513\n",
      "Epoch 8/30\n",
      "62/62 [==============================] - 35s 570ms/step - loss: 0.1214 - acc: 0.6315 - val_loss: 0.1130 - val_acc: 0.6619\n",
      "Epoch 9/30\n",
      "62/62 [==============================] - 35s 569ms/step - loss: 0.1124 - acc: 0.6610 - val_loss: 0.1063 - val_acc: 0.6779\n",
      "Epoch 10/30\n",
      "62/62 [==============================] - 35s 572ms/step - loss: 0.1076 - acc: 0.6783 - val_loss: 0.0996 - val_acc: 0.6932\n",
      "Epoch 11/30\n",
      "62/62 [==============================] - 35s 571ms/step - loss: 0.1045 - acc: 0.6875 - val_loss: 0.0991 - val_acc: 0.7030\n",
      "Epoch 12/30\n",
      "62/62 [==============================] - 35s 571ms/step - loss: 0.1036 - acc: 0.6870 - val_loss: 0.0933 - val_acc: 0.7232\n",
      "Epoch 13/30\n",
      "62/62 [==============================] - 35s 570ms/step - loss: 0.1001 - acc: 0.6980 - val_loss: 0.0926 - val_acc: 0.7245\n",
      "Epoch 14/30\n",
      "62/62 [==============================] - 35s 571ms/step - loss: 0.0995 - acc: 0.7008 - val_loss: 0.0917 - val_acc: 0.7202\n",
      "Epoch 15/30\n",
      "62/62 [==============================] - 36s 587ms/step - loss: 0.0994 - acc: 0.6989 - val_loss: 0.0906 - val_acc: 0.7206\n",
      "Epoch 16/30\n",
      "62/62 [==============================] - 35s 570ms/step - loss: 0.0953 - acc: 0.7118 - val_loss: 0.0857 - val_acc: 0.7494\n",
      "Epoch 17/30\n",
      "62/62 [==============================] - 35s 571ms/step - loss: 0.0943 - acc: 0.7136 - val_loss: 0.0978 - val_acc: 0.7011\n",
      "Epoch 18/30\n",
      "62/62 [==============================] - 36s 574ms/step - loss: 0.0959 - acc: 0.7097 - val_loss: 0.0890 - val_acc: 0.7386\n",
      "Epoch 19/30\n",
      "62/62 [==============================] - 35s 571ms/step - loss: 0.0942 - acc: 0.7142 - val_loss: 0.0864 - val_acc: 0.7499\n",
      "Epoch 19: early stopping\n"
     ]
    },
    {
     "data": {
      "text/plain": [
       "<keras.callbacks.History at 0x7f1fcaf53e10>"
      ]
     },
     "execution_count": 21,
     "metadata": {},
     "output_type": "execute_result"
    }
   ],
   "source": [
    "input_layer  = Input(shape = (MAX_SEQ_LENGTH, ))\n",
    "embedding_layer = Embedding(input_dim = embedding_matrix.shape[0],\n",
    "                            output_dim = int(EMBEDDING_DIMENSION),\n",
    "                            mask_zero = True,\n",
    "                            embeddings_initializer = Constant(embedding_matrix),\n",
    "                            trainable = False)(input_layer)\n",
    "\n",
    "lstm_layer = Bidirectional(LSTM(16, return_sequences = True, dropout = 0.2, recurrent_dropout = 0.2))(embedding_layer)\n",
    "dense_layer = TimeDistributed(Dense(NUM_OF_LABELS, activation = 'softmax'))(lstm_layer)\n",
    "dense_layer2 = TimeDistributed(Dense(NUM_OF_LABELS, activation = 'softmax'))(dense_layer)\n",
    "model4 = Model(input_layer, dense_layer2)\n",
    "\n",
    "lr_schedule = ExponentialDecay(\n",
    "    initial_learning_rate=0.1,\n",
    "    decay_steps=100000,\n",
    "    decay_rate=0.95,\n",
    "    staircase=True)\n",
    "    \n",
    "earlystop = [EarlyStopping(monitor = \"val_loss\", verbose = 1, patience = 3, mode = \"auto\")]\n",
    "\n",
    "model4.compile(loss = 'sparse_categorical_crossentropy', optimizer = Adam(lr_schedule), metrics = ['acc'])\n",
    "model4.summary()\n",
    "model4.fit(train_mat_words, train_mat_labels, \n",
    "                   epochs = 30, callbacks = earlystop,\n",
    "                   validation_data = (val_mat_words, val_mat_labels))"
   ]
  },
  {
   "cell_type": "markdown",
   "metadata": {
    "id": "nQnRF-x8ZIrq"
   },
   "source": [
    "#Evaluation"
   ]
  },
  {
   "cell_type": "markdown",
   "metadata": {
    "id": "iabfnBLssYNO"
   },
   "source": [
    "Remove punctuation"
   ]
  },
  {
   "cell_type": "code",
   "execution_count": 22,
   "metadata": {
    "colab": {
     "base_uri": "https://localhost:8080/"
    },
    "id": "A1CmJeHd0ocB",
    "outputId": "94c3d8ba-5ee2-4700-f5c0-e7e25ebc1e5a"
   },
   "outputs": [
    {
     "name": "stdout",
     "output_type": "stream",
     "text": [
      "Summary of evaluation on val data\n",
      "First model val loss, val acc: [0.027203481644392014, 0.9152743220329285]\n",
      "Second model val loss, val acc: [0.029268736019730568, 0.907738208770752]\n",
      "Third model val loss, val acc: [0.025233056396245956, 0.9229708313941956]\n",
      "Fourth model val loss, val acc: [0.0863841325044632, 0.7498957514762878]\n"
     ]
    }
   ],
   "source": [
    "print(\"Summary of evaluation on val data\")\n",
    "print(\"First model val loss, val acc:\", model1.evaluate(val_mat_words, val_mat_labels, verbose=0))\n",
    "print(\"Second model val loss, val acc:\", model2.evaluate(val_mat_words, val_mat_labels, verbose=0))\n",
    "print(\"Third model val loss, val acc:\", model3.evaluate(val_mat_words, val_mat_labels, verbose=0))\n",
    "print(\"Fourth model val loss, val acc:\", model4.evaluate(val_mat_words, val_mat_labels, verbose=0))\n",
    "\n",
    "#set the two best models\n",
    "best1=model1\n",
    "best2=model3\n",
    "test_mat_words, test_mat_labels = prepare_matrix(test_data)"
   ]
  },
  {
   "cell_type": "code",
   "execution_count": 23,
   "metadata": {
    "colab": {
     "base_uri": "https://localhost:8080/"
    },
    "id": "5a8XM458ZLfZ",
    "outputId": "aa3e23c2-a2af-42dd-9944-3b75ff1e3368"
   },
   "outputs": [
    {
     "name": "stdout",
     "output_type": "stream",
     "text": [
      "{'-rrb-': 1, ',': 2, 'wrb': 3, 'in': 4, 'jjr': 5, 'nn': 6, 'vbp': 7, '$': 8, 'uh': 9, 'md': 10, 'wp': 11, 'nnp': 12, 'pos': 13, 'ex': 14, 'nnps': 15, 'vbn': 16, 'ls': 17, 'vbg': 18, 'vbd': 19, 'rbr': 20, 'vbz': 21, 'cc': 22, 'wdt': 23, 'vb': 24, 'sym': 25, 'prp': 26, ':': 27, 'wp$': 28, 'dt': 29, 'jj': 30, 'prp$': 31, 'cd': 32, 'to': 33, 'rbs': 34, 'nns': 35, 'fw': 36, 'rb': 37, \"''\": 38, '-lrb-': 39, '.': 40, '``': 41, '#': 42, 'pdt': 43, 'rp': 44, 'jjs': 45}\n",
      "[1, 2, 8, 17, 25, 27, 38, 39, 40, 41, 42]\n",
      "[3, 4, 5, 6, 7, 9, 10, 11, 12, 13, 14, 15, 16, 18, 19, 20, 21, 22, 23, 24, 26, 28, 29, 30, 31, 32, 33, 34, 35, 36, 37, 43, 44, 45]\n"
     ]
    }
   ],
   "source": [
    "print(label_dict2)\n",
    "punctuation_labels=[\".\", \"$\",\"-rrb-\",\"-lrb-\",\",\", \"``\", \"''\", \"sym\", \"#\", \":\", \"ls\"]\n",
    "punctuation_indexes=[k for t,k in label_dict2.items() if t in punctuation_labels]\n",
    "interesting_indexes = list(set(range(1, NUM_OF_LABELS)).difference(set(punctuation_indexes)))\n",
    "print(punctuation_indexes)\n",
    "print(interesting_indexes)"
   ]
  },
  {
   "cell_type": "code",
   "execution_count": 24,
   "metadata": {
    "colab": {
     "base_uri": "https://localhost:8080/"
    },
    "id": "kc-Prji2samW",
    "outputId": "556621b1-0e4e-4e70-f613-2e948fdfbf52"
   },
   "outputs": [
    {
     "name": "stdout",
     "output_type": "stream",
     "text": [
      "F1 score for the first model is 0.8203520744444723\n",
      "F1 score for the second model is 0.9117712513301957\n"
     ]
    }
   ],
   "source": [
    "def evaluate_model(model):\n",
    "  test_pred = model.predict(test_mat_words) \n",
    "  test_pred = np.argmax(test_pred, axis = -1)\n",
    "  return test_pred, f1_score(test_mat_labels.ravel(), test_pred.ravel(), average = \"weighted\", zero_division = 0, labels = interesting_indexes)\n",
    "\n",
    "test_pred1, f1_score1 = evaluate_model(best1)\n",
    "test_pred2, f1_score2 = evaluate_model(best2)\n",
    "print(f'F1 score for the first model is {f1_score1}')\n",
    "print(f'F1 score for the second model is {f1_score2}')"
   ]
  },
  {
   "cell_type": "markdown",
   "metadata": {
    "id": "wOVxRict4DQP"
   },
   "source": [
    "#Error Analysis"
   ]
  },
  {
   "cell_type": "code",
   "execution_count": 25,
   "metadata": {
    "colab": {
     "base_uri": "https://localhost:8080/"
    },
    "id": "qAaV0mIq_3V9",
    "outputId": "89b88cbe-77aa-4034-90d8-86cf714e672a"
   },
   "outputs": [
    {
     "name": "stdout",
     "output_type": "stream",
     "text": [
      "dict_keys([1, 2, 3, 4, 5, 6, 7, 8, 9, 10, 11, 12, 13, 14, 15, 16, 17, 18, 19, 20, 21, 22, 23, 24, 25, 26, 27, 28, 29, 30, 31, 32, 33, 34, 35, 36, 37, 38, 39, 40, 41, 42, 43, 44, 45])\n",
      "[1, 2, 3, 4, 5, 6, 7, 8, 10, 11, 12, 13, 14, 15, 16, 18, 19, 20, 21, 22, 23, 24, 26, 27, 28, 29, 30, 31, 32, 33, 34, 35, 37, 38, 39, 40, 41, 43, 44, 45]\n"
     ]
    }
   ],
   "source": [
    "print(label_dict.keys())\n",
    "a=list(set(test_mat_labels.ravel().tolist()))\n",
    "a.remove(0)\n",
    "print(a)"
   ]
  },
  {
   "cell_type": "code",
   "execution_count": 26,
   "metadata": {
    "colab": {
     "base_uri": "https://localhost:8080/",
     "height": 1000
    },
    "id": "HYjFUlek4JfV",
    "outputId": "7cb71cb3-a28c-4466-eedc-4c3613f7ad8e"
   },
   "outputs": [
    {
     "data": {
      "image/png": "[encoded data removed]",
      "text/plain": [
       "<Figure size 1728x1728 with 2 Axes>"
      ]
     },
     "metadata": {
      "needs_background": "light"
     },
     "output_type": "display_data"
    },
    {
     "data": {
      "image/png": "[encoded data removed]",
      "text/plain": [
       "<Figure size 1728x1728 with 2 Axes>"
      ]
     },
     "metadata": {
      "needs_background": "light"
     },
     "output_type": "display_data"
    }
   ],
   "source": [
    "def plot_cm(true,pred):\n",
    "  cm = confusion_matrix(true, pred)[1:,1:]\n",
    "  cm = cm.astype('int') \n",
    "  cm = ConfusionMatrixDisplay(cm,display_labels=[label_dict[k] for k in a]) \n",
    "  fig, ax = plt.subplots(figsize=(24,24))\n",
    "  cm.plot(include_values=True, ax=ax);\n",
    "  plt.show()\n",
    "plot_cm(test_mat_labels.ravel().tolist(), test_pred1.ravel().tolist())\n",
    "plot_cm(test_mat_labels.ravel().tolist(), test_pred2.ravel().tolist())"
   ]
  }
 ],
 "metadata": {
  "colab": {
   "collapsed_sections": [],
   "name": "Assignment1_NLP.ipynb",
   "provenance": []
  },
  "kernelspec": {
   "display_name": "Python 3 (ipykernel)",
   "language": "python",
   "name": "python3"
  },
  "language_info": {
   "name": "python"
  },
  "widgets": {
   "application/vnd.jupyter.widget-state+json": {
    "02a5988f87874f86b439199622fb2108": {
     "model_module": "@jupyter-widgets/base",
     "model_module_version": "1.2.0",
     "model_name": "LayoutModel",
     "state": {
      "_model_module": "@jupyter-widgets/base",
      "_model_module_version": "1.2.0",
      "_model_name": "LayoutModel",
      "_view_count": null,
      "_view_module": "@jupyter-widgets/base",
      "_view_module_version": "1.2.0",
      "_view_name": "LayoutView",
      "align_content": null,
      "align_items": null,
      "align_self": null,
      "border": null,
      "bottom": null,
      "display": null,
      "flex": null,
      "flex_flow": null,
      "grid_area": null,
      "grid_auto_columns": null,
      "grid_auto_flow": null,
      "grid_auto_rows": null,
      "grid_column": null,
      "grid_gap": null,
      "grid_row": null,
      "grid_template_areas": null,
      "grid_template_columns": null,
      "grid_template_rows": null,
      "height": null,
      "justify_content": null,
      "justify_items": null,
      "left": null,
      "margin": null,
      "max_height": null,
      "max_width": null,
      "min_height": null,
      "min_width": null,
      "object_fit": null,
      "object_position": null,
      "order": null,
      "overflow": null,
      "overflow_x": null,
      "overflow_y": null,
      "padding": null,
      "right": null,
      "top": null,
      "visibility": null,
      "width": null
     }
    },
    "030a0823e7a14a318c33eafa00a87f43": {
     "model_module": "@jupyter-widgets/base",
     "model_module_version": "1.2.0",
     "model_name": "LayoutModel",
     "state": {
      "_model_module": "@jupyter-widgets/base",
      "_model_module_version": "1.2.0",
      "_model_name": "LayoutModel",
      "_view_count": null,
      "_view_module": "@jupyter-widgets/base",
      "_view_module_version": "1.2.0",
      "_view_name": "LayoutView",
      "align_content": null,
      "align_items": null,
      "align_self": null,
      "border": null,
      "bottom": null,
      "display": null,
      "flex": null,
      "flex_flow": null,
      "grid_area": null,
      "grid_auto_columns": null,
      "grid_auto_flow": null,
      "grid_auto_rows": null,
      "grid_column": null,
      "grid_gap": null,
      "grid_row": null,
      "grid_template_areas": null,
      "grid_template_columns": null,
      "grid_template_rows": null,
      "height": null,
      "justify_content": null,
      "justify_items": null,
      "left": null,
      "margin": null,
      "max_height": null,
      "max_width": null,
      "min_height": null,
      "min_width": null,
      "object_fit": null,
      "object_position": null,
      "order": null,
      "overflow": null,
      "overflow_x": null,
      "overflow_y": null,
      "padding": null,
      "right": null,
      "top": null,
      "visibility": null,
      "width": null
     }
    },
    "0992832dee264ef4bcf064a996d5c84c": {
     "model_module": "@jupyter-widgets/base",
     "model_module_version": "1.2.0",
     "model_name": "LayoutModel",
     "state": {
      "_model_module": "@jupyter-widgets/base",
      "_model_module_version": "1.2.0",
      "_model_name": "LayoutModel",
      "_view_count": null,
      "_view_module": "@jupyter-widgets/base",
      "_view_module_version": "1.2.0",
      "_view_name": "LayoutView",
      "align_content": null,
      "align_items": null,
      "align_self": null,
      "border": null,
      "bottom": null,
      "display": null,
      "flex": null,
      "flex_flow": null,
      "grid_area": null,
      "grid_auto_columns": null,
      "grid_auto_flow": null,
      "grid_auto_rows": null,
      "grid_column": null,
      "grid_gap": null,
      "grid_row": null,
      "grid_template_areas": null,
      "grid_template_columns": null,
      "grid_template_rows": null,
      "height": null,
      "justify_content": null,
      "justify_items": null,
      "left": null,
      "margin": null,
      "max_height": null,
      "max_width": null,
      "min_height": null,
      "min_width": null,
      "object_fit": null,
      "object_position": null,
      "order": null,
      "overflow": null,
      "overflow_x": null,
      "overflow_y": null,
      "padding": null,
      "right": null,
      "top": null,
      "visibility": null,
      "width": null
     }
    },
    "09a70c0cce2a490d87c4980526ad5b1b": {
     "model_module": "@jupyter-widgets/controls",
     "model_module_version": "1.5.0",
     "model_name": "ProgressStyleModel",
     "state": {
      "_model_module": "@jupyter-widgets/controls",
      "_model_module_version": "1.5.0",
      "_model_name": "ProgressStyleModel",
      "_view_count": null,
      "_view_module": "@jupyter-widgets/base",
      "_view_module_version": "1.2.0",
      "_view_name": "StyleView",
      "bar_color": null,
      "description_width": ""
     }
    },
    "0c3b25d7596e4ea29e9b6eb45e9ba2ab": {
     "model_module": "@jupyter-widgets/base",
     "model_module_version": "1.2.0",
     "model_name": "LayoutModel",
     "state": {
      "_model_module": "@jupyter-widgets/base",
      "_model_module_version": "1.2.0",
      "_model_name": "LayoutModel",
      "_view_count": null,
      "_view_module": "@jupyter-widgets/base",
      "_view_module_version": "1.2.0",
      "_view_name": "LayoutView",
      "align_content": null,
      "align_items": null,
      "align_self": null,
      "border": null,
      "bottom": null,
      "display": null,
      "flex": null,
      "flex_flow": null,
      "grid_area": null,
      "grid_auto_columns": null,
      "grid_auto_flow": null,
      "grid_auto_rows": null,
      "grid_column": null,
      "grid_gap": null,
      "grid_row": null,
      "grid_template_areas": null,
      "grid_template_columns": null,
      "grid_template_rows": null,
      "height": null,
      "justify_content": null,
      "justify_items": null,
      "left": null,
      "margin": null,
      "max_height": null,
      "max_width": null,
      "min_height": null,
      "min_width": null,
      "object_fit": null,
      "object_position": null,
      "order": null,
      "overflow": null,
      "overflow_x": null,
      "overflow_y": null,
      "padding": null,
      "right": null,
      "top": null,
      "visibility": null,
      "width": null
     }
    },
    "0ced77e3eac449f9a69ca0879bd7fbad": {
     "model_module": "@jupyter-widgets/base",
     "model_module_version": "1.2.0",
     "model_name": "LayoutModel",
     "state": {
      "_model_module": "@jupyter-widgets/base",
      "_model_module_version": "1.2.0",
      "_model_name": "LayoutModel",
      "_view_count": null,
      "_view_module": "@jupyter-widgets/base",
      "_view_module_version": "1.2.0",
      "_view_name": "LayoutView",
      "align_content": null,
      "align_items": null,
      "align_self": null,
      "border": null,
      "bottom": null,
      "display": null,
      "flex": null,
      "flex_flow": null,
      "grid_area": null,
      "grid_auto_columns": null,
      "grid_auto_flow": null,
      "grid_auto_rows": null,
      "grid_column": null,
      "grid_gap": null,
      "grid_row": null,
      "grid_template_areas": null,
      "grid_template_columns": null,
      "grid_template_rows": null,
      "height": null,
      "justify_content": null,
      "justify_items": null,
      "left": null,
      "margin": null,
      "max_height": null,
      "max_width": null,
      "min_height": null,
      "min_width": null,
      "object_fit": null,
      "object_position": null,
      "order": null,
      "overflow": null,
      "overflow_x": null,
      "overflow_y": null,
      "padding": null,
      "right": null,
      "top": null,
      "visibility": null,
      "width": null
     }
    },
    "11dd283313de4bebba9e712b451a3d29": {
     "model_module": "@jupyter-widgets/controls",
     "model_module_version": "1.5.0",
     "model_name": "HBoxModel",
     "state": {
      "_dom_classes": [],
      "_model_module": "@jupyter-widgets/controls",
      "_model_module_version": "1.5.0",
      "_model_name": "HBoxModel",
      "_view_count": null,
      "_view_module": "@jupyter-widgets/controls",
      "_view_module_version": "1.5.0",
      "_view_name": "HBoxView",
      "box_style": "",
      "children": [
       "IPY_MODEL_6b4474e7cacc4e7c9f200137b1721b51",
       "IPY_MODEL_511afee4b8c34e23bf6fe187a4bc78a5",
       "IPY_MODEL_64b7a74cad8344b6a8b1486f8bdbe490"
      ],
      "layout": "IPY_MODEL_d746b62e7fc04462876acc1c8914cd89"
     }
    },
    "15d46417167146e9b9f22e09486b7cac": {
     "model_module": "@jupyter-widgets/base",
     "model_module_version": "1.2.0",
     "model_name": "LayoutModel",
     "state": {
      "_model_module": "@jupyter-widgets/base",
      "_model_module_version": "1.2.0",
      "_model_name": "LayoutModel",
      "_view_count": null,
      "_view_module": "@jupyter-widgets/base",
      "_view_module_version": "1.2.0",
      "_view_name": "LayoutView",
      "align_content": null,
      "align_items": null,
      "align_self": null,
      "border": null,
      "bottom": null,
      "display": null,
      "flex": null,
      "flex_flow": null,
      "grid_area": null,
      "grid_auto_columns": null,
      "grid_auto_flow": null,
      "grid_auto_rows": null,
      "grid_column": null,
      "grid_gap": null,
      "grid_row": null,
      "grid_template_areas": null,
      "grid_template_columns": null,
      "grid_template_rows": null,
      "height": null,
      "justify_content": null,
      "justify_items": null,
      "left": null,
      "margin": null,
      "max_height": null,
      "max_width": null,
      "min_height": null,
      "min_width": null,
      "object_fit": null,
      "object_position": null,
      "order": null,
      "overflow": null,
      "overflow_x": null,
      "overflow_y": null,
      "padding": null,
      "right": null,
      "top": null,
      "visibility": null,
      "width": null
     }
    },
    "1a4d093d544544fd99ab475836add532": {
     "model_module": "@jupyter-widgets/controls",
     "model_module_version": "1.5.0",
     "model_name": "DescriptionStyleModel",
     "state": {
      "_model_module": "@jupyter-widgets/controls",
      "_model_module_version": "1.5.0",
      "_model_name": "DescriptionStyleModel",
      "_view_count": null,
      "_view_module": "@jupyter-widgets/base",
      "_view_module_version": "1.2.0",
      "_view_name": "StyleView",
      "description_width": ""
     }
    },
    "1c61a7029aea4488bdc996fd2d92fa6a": {
     "model_module": "@jupyter-widgets/controls",
     "model_module_version": "1.5.0",
     "model_name": "DescriptionStyleModel",
     "state": {
      "_model_module": "@jupyter-widgets/controls",
      "_model_module_version": "1.5.0",
      "_model_name": "DescriptionStyleModel",
      "_view_count": null,
      "_view_module": "@jupyter-widgets/base",
      "_view_module_version": "1.2.0",
      "_view_name": "StyleView",
      "description_width": ""
     }
    },
    "1d0ba90b5607445a9d7ddde878cf4d57": {
     "model_module": "@jupyter-widgets/controls",
     "model_module_version": "1.5.0",
     "model_name": "DescriptionStyleModel",
     "state": {
      "_model_module": "@jupyter-widgets/controls",
      "_model_module_version": "1.5.0",
      "_model_name": "DescriptionStyleModel",
      "_view_count": null,
      "_view_module": "@jupyter-widgets/base",
      "_view_module_version": "1.2.0",
      "_view_name": "StyleView",
      "description_width": ""
     }
    },
    "241ef903a24640c1bcc84ef317a2ab99": {
     "model_module": "@jupyter-widgets/base",
     "model_module_version": "1.2.0",
     "model_name": "LayoutModel",
     "state": {
      "_model_module": "@jupyter-widgets/base",
      "_model_module_version": "1.2.0",
      "_model_name": "LayoutModel",
      "_view_count": null,
      "_view_module": "@jupyter-widgets/base",
      "_view_module_version": "1.2.0",
      "_view_name": "LayoutView",
      "align_content": null,
      "align_items": null,
      "align_self": null,
      "border": null,
      "bottom": null,
      "display": null,
      "flex": null,
      "flex_flow": null,
      "grid_area": null,
      "grid_auto_columns": null,
      "grid_auto_flow": null,
      "grid_auto_rows": null,
      "grid_column": null,
      "grid_gap": null,
      "grid_row": null,
      "grid_template_areas": null,
      "grid_template_columns": null,
      "grid_template_rows": null,
      "height": null,
      "justify_content": null,
      "justify_items": null,
      "left": null,
      "margin": null,
      "max_height": null,
      "max_width": null,
      "min_height": null,
      "min_width": null,
      "object_fit": null,
      "object_position": null,
      "order": null,
      "overflow": null,
      "overflow_x": null,
      "overflow_y": null,
      "padding": null,
      "right": null,
      "top": null,
      "visibility": null,
      "width": null
     }
    },
    "29fb3dc42a8e4233a3954524c0e60af9": {
     "model_module": "@jupyter-widgets/controls",
     "model_module_version": "1.5.0",
     "model_name": "DescriptionStyleModel",
     "state": {
      "_model_module": "@jupyter-widgets/controls",
      "_model_module_version": "1.5.0",
      "_model_name": "DescriptionStyleModel",
      "_view_count": null,
      "_view_module": "@jupyter-widgets/base",
      "_view_module_version": "1.2.0",
      "_view_name": "StyleView",
      "description_width": ""
     }
    },
    "2b8a8c5dc32546ae989fa4bf130901c5": {
     "model_module": "@jupyter-widgets/controls",
     "model_module_version": "1.5.0",
     "model_name": "DescriptionStyleModel",
     "state": {
      "_model_module": "@jupyter-widgets/controls",
      "_model_module_version": "1.5.0",
      "_model_name": "DescriptionStyleModel",
      "_view_count": null,
      "_view_module": "@jupyter-widgets/base",
      "_view_module_version": "1.2.0",
      "_view_name": "StyleView",
      "description_width": ""
     }
    },
    "2cab1b37533f470da0c443a9301b7511": {
     "model_module": "@jupyter-widgets/controls",
     "model_module_version": "1.5.0",
     "model_name": "DescriptionStyleModel",
     "state": {
      "_model_module": "@jupyter-widgets/controls",
      "_model_module_version": "1.5.0",
      "_model_name": "DescriptionStyleModel",
      "_view_count": null,
      "_view_module": "@jupyter-widgets/base",
      "_view_module_version": "1.2.0",
      "_view_name": "StyleView",
      "description_width": ""
     }
    },
    "2d0bd54b4a584a56960ae090ad14e1b5": {
     "model_module": "@jupyter-widgets/base",
     "model_module_version": "1.2.0",
     "model_name": "LayoutModel",
     "state": {
      "_model_module": "@jupyter-widgets/base",
      "_model_module_version": "1.2.0",
      "_model_name": "LayoutModel",
      "_view_count": null,
      "_view_module": "@jupyter-widgets/base",
      "_view_module_version": "1.2.0",
      "_view_name": "LayoutView",
      "align_content": null,
      "align_items": null,
      "align_self": null,
      "border": null,
      "bottom": null,
      "display": null,
      "flex": null,
      "flex_flow": null,
      "grid_area": null,
      "grid_auto_columns": null,
      "grid_auto_flow": null,
      "grid_auto_rows": null,
      "grid_column": null,
      "grid_gap": null,
      "grid_row": null,
      "grid_template_areas": null,
      "grid_template_columns": null,
      "grid_template_rows": null,
      "height": null,
      "justify_content": null,
      "justify_items": null,
      "left": null,
      "margin": null,
      "max_height": null,
      "max_width": null,
      "min_height": null,
      "min_width": null,
      "object_fit": null,
      "object_position": null,
      "order": null,
      "overflow": null,
      "overflow_x": null,
      "overflow_y": null,
      "padding": null,
      "right": null,
      "top": null,
      "visibility": null,
      "width": null
     }
    },
    "2d493315ff624323b18642278d5793c8": {
     "model_module": "@jupyter-widgets/base",
     "model_module_version": "1.2.0",
     "model_name": "LayoutModel",
     "state": {
      "_model_module": "@jupyter-widgets/base",
      "_model_module_version": "1.2.0",
      "_model_name": "LayoutModel",
      "_view_count": null,
      "_view_module": "@jupyter-widgets/base",
      "_view_module_version": "1.2.0",
      "_view_name": "LayoutView",
      "align_content": null,
      "align_items": null,
      "align_self": null,
      "border": null,
      "bottom": null,
      "display": null,
      "flex": null,
      "flex_flow": null,
      "grid_area": null,
      "grid_auto_columns": null,
      "grid_auto_flow": null,
      "grid_auto_rows": null,
      "grid_column": null,
      "grid_gap": null,
      "grid_row": null,
      "grid_template_areas": null,
      "grid_template_columns": null,
      "grid_template_rows": null,
      "height": null,
      "justify_content": null,
      "justify_items": null,
      "left": null,
      "margin": null,
      "max_height": null,
      "max_width": null,
      "min_height": null,
      "min_width": null,
      "object_fit": null,
      "object_position": null,
      "order": null,
      "overflow": null,
      "overflow_x": null,
      "overflow_y": null,
      "padding": null,
      "right": null,
      "top": null,
      "visibility": null,
      "width": null
     }
    },
    "2db1794ffc78456eb86818bb5adb0934": {
     "model_module": "@jupyter-widgets/base",
     "model_module_version": "1.2.0",
     "model_name": "LayoutModel",
     "state": {
      "_model_module": "@jupyter-widgets/base",
      "_model_module_version": "1.2.0",
      "_model_name": "LayoutModel",
      "_view_count": null,
      "_view_module": "@jupyter-widgets/base",
      "_view_module_version": "1.2.0",
      "_view_name": "LayoutView",
      "align_content": null,
      "align_items": null,
      "align_self": null,
      "border": null,
      "bottom": null,
      "display": null,
      "flex": null,
      "flex_flow": null,
      "grid_area": null,
      "grid_auto_columns": null,
      "grid_auto_flow": null,
      "grid_auto_rows": null,
      "grid_column": null,
      "grid_gap": null,
      "grid_row": null,
      "grid_template_areas": null,
      "grid_template_columns": null,
      "grid_template_rows": null,
      "height": null,
      "justify_content": null,
      "justify_items": null,
      "left": null,
      "margin": null,
      "max_height": null,
      "max_width": null,
      "min_height": null,
      "min_width": null,
      "object_fit": null,
      "object_position": null,
      "order": null,
      "overflow": null,
      "overflow_x": null,
      "overflow_y": null,
      "padding": null,
      "right": null,
      "top": null,
      "visibility": null,
      "width": null
     }
    },
    "31d35ee72c7c4034913f2d1af5c360c4": {
     "model_module": "@jupyter-widgets/controls",
     "model_module_version": "1.5.0",
     "model_name": "HTMLModel",
     "state": {
      "_dom_classes": [],
      "_model_module": "@jupyter-widgets/controls",
      "_model_module_version": "1.5.0",
      "_model_name": "HTMLModel",
      "_view_count": null,
      "_view_module": "@jupyter-widgets/controls",
      "_view_module_version": "1.5.0",
      "_view_name": "HTMLView",
      "description": "",
      "description_tooltip": null,
      "layout": "IPY_MODEL_cc85d84d42954213ae044420fab84641",
      "placeholder": "​",
      "style": "IPY_MODEL_1c61a7029aea4488bdc996fd2d92fa6a",
      "value": "100%"
     }
    },
    "383da0551b4343578368f4b5cb5cb4ca": {
     "model_module": "@jupyter-widgets/controls",
     "model_module_version": "1.5.0",
     "model_name": "HTMLModel",
     "state": {
      "_dom_classes": [],
      "_model_module": "@jupyter-widgets/controls",
      "_model_module_version": "1.5.0",
      "_model_name": "HTMLModel",
      "_view_count": null,
      "_view_module": "@jupyter-widgets/controls",
      "_view_module_version": "1.5.0",
      "_view_name": "HTMLView",
      "description": "",
      "description_tooltip": null,
      "layout": "IPY_MODEL_2db1794ffc78456eb86818bb5adb0934",
      "placeholder": "​",
      "style": "IPY_MODEL_2b8a8c5dc32546ae989fa4bf130901c5",
      "value": " 2497/2497 [00:00&lt;00:00, 5740.81it/s]"
     }
    },
    "3c682a4169f54fe8a3ca396c59cb4fb1": {
     "model_module": "@jupyter-widgets/base",
     "model_module_version": "1.2.0",
     "model_name": "LayoutModel",
     "state": {
      "_model_module": "@jupyter-widgets/base",
      "_model_module_version": "1.2.0",
      "_model_name": "LayoutModel",
      "_view_count": null,
      "_view_module": "@jupyter-widgets/base",
      "_view_module_version": "1.2.0",
      "_view_name": "LayoutView",
      "align_content": null,
      "align_items": null,
      "align_self": null,
      "border": null,
      "bottom": null,
      "display": null,
      "flex": null,
      "flex_flow": null,
      "grid_area": null,
      "grid_auto_columns": null,
      "grid_auto_flow": null,
      "grid_auto_rows": null,
      "grid_column": null,
      "grid_gap": null,
      "grid_row": null,
      "grid_template_areas": null,
      "grid_template_columns": null,
      "grid_template_rows": null,
      "height": null,
      "justify_content": null,
      "justify_items": null,
      "left": null,
      "margin": null,
      "max_height": null,
      "max_width": null,
      "min_height": null,
      "min_width": null,
      "object_fit": null,
      "object_position": null,
      "order": null,
      "overflow": null,
      "overflow_x": null,
      "overflow_y": null,
      "padding": null,
      "right": null,
      "top": null,
      "visibility": null,
      "width": null
     }
    },
    "3efee2a4aa6c4abfbda03be9ebcf20b5": {
     "model_module": "@jupyter-widgets/base",
     "model_module_version": "1.2.0",
     "model_name": "LayoutModel",
     "state": {
      "_model_module": "@jupyter-widgets/base",
      "_model_module_version": "1.2.0",
      "_model_name": "LayoutModel",
      "_view_count": null,
      "_view_module": "@jupyter-widgets/base",
      "_view_module_version": "1.2.0",
      "_view_name": "LayoutView",
      "align_content": null,
      "align_items": null,
      "align_self": null,
      "border": null,
      "bottom": null,
      "display": null,
      "flex": null,
      "flex_flow": null,
      "grid_area": null,
      "grid_auto_columns": null,
      "grid_auto_flow": null,
      "grid_auto_rows": null,
      "grid_column": null,
      "grid_gap": null,
      "grid_row": null,
      "grid_template_areas": null,
      "grid_template_columns": null,
      "grid_template_rows": null,
      "height": null,
      "justify_content": null,
      "justify_items": null,
      "left": null,
      "margin": null,
      "max_height": null,
      "max_width": null,
      "min_height": null,
      "min_width": null,
      "object_fit": null,
      "object_position": null,
      "order": null,
      "overflow": null,
      "overflow_x": null,
      "overflow_y": null,
      "padding": null,
      "right": null,
      "top": null,
      "visibility": null,
      "width": null
     }
    },
    "411363bf5415435887dd60d3f32bb662": {
     "model_module": "@jupyter-widgets/controls",
     "model_module_version": "1.5.0",
     "model_name": "FloatProgressModel",
     "state": {
      "_dom_classes": [],
      "_model_module": "@jupyter-widgets/controls",
      "_model_module_version": "1.5.0",
      "_model_name": "FloatProgressModel",
      "_view_count": null,
      "_view_module": "@jupyter-widgets/controls",
      "_view_module_version": "1.5.0",
      "_view_name": "ProgressView",
      "bar_style": "success",
      "description": "",
      "description_tooltip": null,
      "layout": "IPY_MODEL_5941960fcae7497a990458c82e9e5e22",
      "max": 1046,
      "min": 0,
      "orientation": "horizontal",
      "style": "IPY_MODEL_4dc5797af84b4cb3a32bd134827561f4",
      "value": 1046
     }
    },
    "43293d8665f344aca1c4c4af6a76cd75": {
     "model_module": "@jupyter-widgets/controls",
     "model_module_version": "1.5.0",
     "model_name": "HBoxModel",
     "state": {
      "_dom_classes": [],
      "_model_module": "@jupyter-widgets/controls",
      "_model_module_version": "1.5.0",
      "_model_name": "HBoxModel",
      "_view_count": null,
      "_view_module": "@jupyter-widgets/controls",
      "_view_module_version": "1.5.0",
      "_view_name": "HBoxView",
      "box_style": "",
      "children": [
       "IPY_MODEL_a8143bbb9bc34220ad9b5b07988416b9",
       "IPY_MODEL_e9699be6e167416eb7060b41bbfa7fc5",
       "IPY_MODEL_9d538371a1d942d39cc1fae257f291aa"
      ],
      "layout": "IPY_MODEL_f8cba075c9b84c85a0083c117b3ca8cb"
     }
    },
    "43664f1e3d2d4709a73647a878e7514e": {
     "model_module": "@jupyter-widgets/controls",
     "model_module_version": "1.5.0",
     "model_name": "ProgressStyleModel",
     "state": {
      "_model_module": "@jupyter-widgets/controls",
      "_model_module_version": "1.5.0",
      "_model_name": "ProgressStyleModel",
      "_view_count": null,
      "_view_module": "@jupyter-widgets/base",
      "_view_module_version": "1.2.0",
      "_view_name": "StyleView",
      "bar_color": null,
      "description_width": ""
     }
    },
    "48ed0e3ae6474528b73d3df0c2ebbbed": {
     "model_module": "@jupyter-widgets/base",
     "model_module_version": "1.2.0",
     "model_name": "LayoutModel",
     "state": {
      "_model_module": "@jupyter-widgets/base",
      "_model_module_version": "1.2.0",
      "_model_name": "LayoutModel",
      "_view_count": null,
      "_view_module": "@jupyter-widgets/base",
      "_view_module_version": "1.2.0",
      "_view_name": "LayoutView",
      "align_content": null,
      "align_items": null,
      "align_self": null,
      "border": null,
      "bottom": null,
      "display": null,
      "flex": null,
      "flex_flow": null,
      "grid_area": null,
      "grid_auto_columns": null,
      "grid_auto_flow": null,
      "grid_auto_rows": null,
      "grid_column": null,
      "grid_gap": null,
      "grid_row": null,
      "grid_template_areas": null,
      "grid_template_columns": null,
      "grid_template_rows": null,
      "height": null,
      "justify_content": null,
      "justify_items": null,
      "left": null,
      "margin": null,
      "max_height": null,
      "max_width": null,
      "min_height": null,
      "min_width": null,
      "object_fit": null,
      "object_position": null,
      "order": null,
      "overflow": null,
      "overflow_x": null,
      "overflow_y": null,
      "padding": null,
      "right": null,
      "top": null,
      "visibility": null,
      "width": null
     }
    },
    "49a6c6527044431b97723eb64466bc4f": {
     "model_module": "@jupyter-widgets/base",
     "model_module_version": "1.2.0",
     "model_name": "LayoutModel",
     "state": {
      "_model_module": "@jupyter-widgets/base",
      "_model_module_version": "1.2.0",
      "_model_name": "LayoutModel",
      "_view_count": null,
      "_view_module": "@jupyter-widgets/base",
      "_view_module_version": "1.2.0",
      "_view_name": "LayoutView",
      "align_content": null,
      "align_items": null,
      "align_self": null,
      "border": null,
      "bottom": null,
      "display": null,
      "flex": null,
      "flex_flow": null,
      "grid_area": null,
      "grid_auto_columns": null,
      "grid_auto_flow": null,
      "grid_auto_rows": null,
      "grid_column": null,
      "grid_gap": null,
      "grid_row": null,
      "grid_template_areas": null,
      "grid_template_columns": null,
      "grid_template_rows": null,
      "height": null,
      "justify_content": null,
      "justify_items": null,
      "left": null,
      "margin": null,
      "max_height": null,
      "max_width": null,
      "min_height": null,
      "min_width": null,
      "object_fit": null,
      "object_position": null,
      "order": null,
      "overflow": null,
      "overflow_x": null,
      "overflow_y": null,
      "padding": null,
      "right": null,
      "top": null,
      "visibility": null,
      "width": null
     }
    },
    "4c2600a4352a4c15ab59e1519005fb93": {
     "model_module": "@jupyter-widgets/base",
     "model_module_version": "1.2.0",
     "model_name": "LayoutModel",
     "state": {
      "_model_module": "@jupyter-widgets/base",
      "_model_module_version": "1.2.0",
      "_model_name": "LayoutModel",
      "_view_count": null,
      "_view_module": "@jupyter-widgets/base",
      "_view_module_version": "1.2.0",
      "_view_name": "LayoutView",
      "align_content": null,
      "align_items": null,
      "align_self": null,
      "border": null,
      "bottom": null,
      "display": null,
      "flex": null,
      "flex_flow": null,
      "grid_area": null,
      "grid_auto_columns": null,
      "grid_auto_flow": null,
      "grid_auto_rows": null,
      "grid_column": null,
      "grid_gap": null,
      "grid_row": null,
      "grid_template_areas": null,
      "grid_template_columns": null,
      "grid_template_rows": null,
      "height": null,
      "justify_content": null,
      "justify_items": null,
      "left": null,
      "margin": null,
      "max_height": null,
      "max_width": null,
      "min_height": null,
      "min_width": null,
      "object_fit": null,
      "object_position": null,
      "order": null,
      "overflow": null,
      "overflow_x": null,
      "overflow_y": null,
      "padding": null,
      "right": null,
      "top": null,
      "visibility": null,
      "width": null
     }
    },
    "4dc5797af84b4cb3a32bd134827561f4": {
     "model_module": "@jupyter-widgets/controls",
     "model_module_version": "1.5.0",
     "model_name": "ProgressStyleModel",
     "state": {
      "_model_module": "@jupyter-widgets/controls",
      "_model_module_version": "1.5.0",
      "_model_name": "ProgressStyleModel",
      "_view_count": null,
      "_view_module": "@jupyter-widgets/base",
      "_view_module_version": "1.2.0",
      "_view_name": "StyleView",
      "bar_color": null,
      "description_width": ""
     }
    },
    "4e609c5aa3ff46fa854c7314dcd864b2": {
     "model_module": "@jupyter-widgets/controls",
     "model_module_version": "1.5.0",
     "model_name": "HBoxModel",
     "state": {
      "_dom_classes": [],
      "_model_module": "@jupyter-widgets/controls",
      "_model_module_version": "1.5.0",
      "_model_name": "HBoxModel",
      "_view_count": null,
      "_view_module": "@jupyter-widgets/controls",
      "_view_module_version": "1.5.0",
      "_view_name": "HBoxView",
      "box_style": "",
      "children": [
       "IPY_MODEL_ddc7a9476a3946bc8af08c449a60f089",
       "IPY_MODEL_c7c044f66a4f48d8860663878517ce5c",
       "IPY_MODEL_6c636c64e8ad47e8bb906f839f817e03"
      ],
      "layout": "IPY_MODEL_f7c66f4ae2fd4c8891148109f4130458"
     }
    },
    "511afee4b8c34e23bf6fe187a4bc78a5": {
     "model_module": "@jupyter-widgets/controls",
     "model_module_version": "1.5.0",
     "model_name": "FloatProgressModel",
     "state": {
      "_dom_classes": [],
      "_model_module": "@jupyter-widgets/controls",
      "_model_module_version": "1.5.0",
      "_model_name": "FloatProgressModel",
      "_view_count": null,
      "_view_module": "@jupyter-widgets/controls",
      "_view_module_version": "1.5.0",
      "_view_name": "ProgressView",
      "bar_style": "success",
      "description": "",
      "description_tooltip": null,
      "layout": "IPY_MODEL_e2c47c2f82be4619a77718f8eb9acbef",
      "max": 7404,
      "min": 0,
      "orientation": "horizontal",
      "style": "IPY_MODEL_b5180c9ddf714d9db1aa36099f80c987",
      "value": 7404
     }
    },
    "53e0f410e1a9429f9a77497c7a7a78d6": {
     "model_module": "@jupyter-widgets/controls",
     "model_module_version": "1.5.0",
     "model_name": "DescriptionStyleModel",
     "state": {
      "_model_module": "@jupyter-widgets/controls",
      "_model_module_version": "1.5.0",
      "_model_name": "DescriptionStyleModel",
      "_view_count": null,
      "_view_module": "@jupyter-widgets/base",
      "_view_module_version": "1.2.0",
      "_view_name": "StyleView",
      "description_width": ""
     }
    },
    "5680656bbf8d461cb1590ba73ad2a7d2": {
     "model_module": "@jupyter-widgets/controls",
     "model_module_version": "1.5.0",
     "model_name": "FloatProgressModel",
     "state": {
      "_dom_classes": [],
      "_model_module": "@jupyter-widgets/controls",
      "_model_module_version": "1.5.0",
      "_model_name": "FloatProgressModel",
      "_view_count": null,
      "_view_module": "@jupyter-widgets/controls",
      "_view_module_version": "1.5.0",
      "_view_name": "ProgressView",
      "bar_style": "success",
      "description": "",
      "description_tooltip": null,
      "layout": "IPY_MODEL_e19cf28905674edb9a2041b137eb5ff9",
      "max": 1046,
      "min": 0,
      "orientation": "horizontal",
      "style": "IPY_MODEL_6cdde1759400456ab0298a74a3835969",
      "value": 1046
     }
    },
    "5941960fcae7497a990458c82e9e5e22": {
     "model_module": "@jupyter-widgets/base",
     "model_module_version": "1.2.0",
     "model_name": "LayoutModel",
     "state": {
      "_model_module": "@jupyter-widgets/base",
      "_model_module_version": "1.2.0",
      "_model_name": "LayoutModel",
      "_view_count": null,
      "_view_module": "@jupyter-widgets/base",
      "_view_module_version": "1.2.0",
      "_view_name": "LayoutView",
      "align_content": null,
      "align_items": null,
      "align_self": null,
      "border": null,
      "bottom": null,
      "display": null,
      "flex": null,
      "flex_flow": null,
      "grid_area": null,
      "grid_auto_columns": null,
      "grid_auto_flow": null,
      "grid_auto_rows": null,
      "grid_column": null,
      "grid_gap": null,
      "grid_row": null,
      "grid_template_areas": null,
      "grid_template_columns": null,
      "grid_template_rows": null,
      "height": null,
      "justify_content": null,
      "justify_items": null,
      "left": null,
      "margin": null,
      "max_height": null,
      "max_width": null,
      "min_height": null,
      "min_width": null,
      "object_fit": null,
      "object_position": null,
      "order": null,
      "overflow": null,
      "overflow_x": null,
      "overflow_y": null,
      "padding": null,
      "right": null,
      "top": null,
      "visibility": null,
      "width": null
     }
    },
    "5b276fc3fd424730bc1ab899eabe4be3": {
     "model_module": "@jupyter-widgets/base",
     "model_module_version": "1.2.0",
     "model_name": "LayoutModel",
     "state": {
      "_model_module": "@jupyter-widgets/base",
      "_model_module_version": "1.2.0",
      "_model_name": "LayoutModel",
      "_view_count": null,
      "_view_module": "@jupyter-widgets/base",
      "_view_module_version": "1.2.0",
      "_view_name": "LayoutView",
      "align_content": null,
      "align_items": null,
      "align_self": null,
      "border": null,
      "bottom": null,
      "display": null,
      "flex": null,
      "flex_flow": null,
      "grid_area": null,
      "grid_auto_columns": null,
      "grid_auto_flow": null,
      "grid_auto_rows": null,
      "grid_column": null,
      "grid_gap": null,
      "grid_row": null,
      "grid_template_areas": null,
      "grid_template_columns": null,
      "grid_template_rows": null,
      "height": null,
      "justify_content": null,
      "justify_items": null,
      "left": null,
      "margin": null,
      "max_height": null,
      "max_width": null,
      "min_height": null,
      "min_width": null,
      "object_fit": null,
      "object_position": null,
      "order": null,
      "overflow": null,
      "overflow_x": null,
      "overflow_y": null,
      "padding": null,
      "right": null,
      "top": null,
      "visibility": null,
      "width": null
     }
    },
    "5c27a2e54e244200a375d07d53b0532a": {
     "model_module": "@jupyter-widgets/controls",
     "model_module_version": "1.5.0",
     "model_name": "DescriptionStyleModel",
     "state": {
      "_model_module": "@jupyter-widgets/controls",
      "_model_module_version": "1.5.0",
      "_model_name": "DescriptionStyleModel",
      "_view_count": null,
      "_view_module": "@jupyter-widgets/base",
      "_view_module_version": "1.2.0",
      "_view_name": "StyleView",
      "description_width": ""
     }
    },
    "60321891edb24ee0b625baa34bd147d8": {
     "model_module": "@jupyter-widgets/controls",
     "model_module_version": "1.5.0",
     "model_name": "DescriptionStyleModel",
     "state": {
      "_model_module": "@jupyter-widgets/controls",
      "_model_module_version": "1.5.0",
      "_model_name": "DescriptionStyleModel",
      "_view_count": null,
      "_view_module": "@jupyter-widgets/base",
      "_view_module_version": "1.2.0",
      "_view_name": "StyleView",
      "description_width": ""
     }
    },
    "6111e4f4feaa4816881e2f95464484fc": {
     "model_module": "@jupyter-widgets/controls",
     "model_module_version": "1.5.0",
     "model_name": "HBoxModel",
     "state": {
      "_dom_classes": [],
      "_model_module": "@jupyter-widgets/controls",
      "_model_module_version": "1.5.0",
      "_model_name": "HBoxModel",
      "_view_count": null,
      "_view_module": "@jupyter-widgets/controls",
      "_view_module_version": "1.5.0",
      "_view_name": "HBoxView",
      "box_style": "",
      "children": [
       "IPY_MODEL_9ed4e7cd4bb446ebaa39fea1e077b13e",
       "IPY_MODEL_c85a730d97f54fa3a47094a859423c7e",
       "IPY_MODEL_cbd5587a5a5b40f288f6dc253548cbd3"
      ],
      "layout": "IPY_MODEL_49a6c6527044431b97723eb64466bc4f"
     }
    },
    "626764a125a54d35becd4e80463fee5c": {
     "model_module": "@jupyter-widgets/controls",
     "model_module_version": "1.5.0",
     "model_name": "HBoxModel",
     "state": {
      "_dom_classes": [],
      "_model_module": "@jupyter-widgets/controls",
      "_model_module_version": "1.5.0",
      "_model_name": "HBoxModel",
      "_view_count": null,
      "_view_module": "@jupyter-widgets/controls",
      "_view_module_version": "1.5.0",
      "_view_name": "HBoxView",
      "box_style": "",
      "children": [
       "IPY_MODEL_d8c30477c15a449daeb40a45a4face5a",
       "IPY_MODEL_7246897bf45d431bb52e5d1be994f808",
       "IPY_MODEL_aa1015c255e54449b4531aa33559d159"
      ],
      "layout": "IPY_MODEL_02a5988f87874f86b439199622fb2108"
     }
    },
    "62b4153923fa41ffb193d1d8a0e949f4": {
     "model_module": "@jupyter-widgets/controls",
     "model_module_version": "1.5.0",
     "model_name": "DescriptionStyleModel",
     "state": {
      "_model_module": "@jupyter-widgets/controls",
      "_model_module_version": "1.5.0",
      "_model_name": "DescriptionStyleModel",
      "_view_count": null,
      "_view_module": "@jupyter-widgets/base",
      "_view_module_version": "1.2.0",
      "_view_name": "StyleView",
      "description_width": ""
     }
    },
    "64b7a74cad8344b6a8b1486f8bdbe490": {
     "model_module": "@jupyter-widgets/controls",
     "model_module_version": "1.5.0",
     "model_name": "HTMLModel",
     "state": {
      "_dom_classes": [],
      "_model_module": "@jupyter-widgets/controls",
      "_model_module_version": "1.5.0",
      "_model_name": "HTMLModel",
      "_view_count": null,
      "_view_module": "@jupyter-widgets/controls",
      "_view_module_version": "1.5.0",
      "_view_name": "HTMLView",
      "description": "",
      "description_tooltip": null,
      "layout": "IPY_MODEL_15d46417167146e9b9f22e09486b7cac",
      "placeholder": "​",
      "style": "IPY_MODEL_2cab1b37533f470da0c443a9301b7511",
      "value": " 7404/7404 [00:00&lt;00:00, 47025.36it/s]"
     }
    },
    "6b413b3f458c4ed2804ae237aa0c544e": {
     "model_module": "@jupyter-widgets/controls",
     "model_module_version": "1.5.0",
     "model_name": "DescriptionStyleModel",
     "state": {
      "_model_module": "@jupyter-widgets/controls",
      "_model_module_version": "1.5.0",
      "_model_name": "DescriptionStyleModel",
      "_view_count": null,
      "_view_module": "@jupyter-widgets/base",
      "_view_module_version": "1.2.0",
      "_view_name": "StyleView",
      "description_width": ""
     }
    },
    "6b4474e7cacc4e7c9f200137b1721b51": {
     "model_module": "@jupyter-widgets/controls",
     "model_module_version": "1.5.0",
     "model_name": "HTMLModel",
     "state": {
      "_dom_classes": [],
      "_model_module": "@jupyter-widgets/controls",
      "_model_module_version": "1.5.0",
      "_model_name": "HTMLModel",
      "_view_count": null,
      "_view_module": "@jupyter-widgets/controls",
      "_view_module_version": "1.5.0",
      "_view_name": "HTMLView",
      "description": "",
      "description_tooltip": null,
      "layout": "IPY_MODEL_a4deebeb9f4a4d49b52395d690d854e5",
      "placeholder": "​",
      "style": "IPY_MODEL_5c27a2e54e244200a375d07d53b0532a",
      "value": "100%"
     }
    },
    "6bd0f7ec82074c47ad757e3ec4b4e482": {
     "model_module": "@jupyter-widgets/controls",
     "model_module_version": "1.5.0",
     "model_name": "HBoxModel",
     "state": {
      "_dom_classes": [],
      "_model_module": "@jupyter-widgets/controls",
      "_model_module_version": "1.5.0",
      "_model_name": "HBoxModel",
      "_view_count": null,
      "_view_module": "@jupyter-widgets/controls",
      "_view_module_version": "1.5.0",
      "_view_name": "HBoxView",
      "box_style": "",
      "children": [
       "IPY_MODEL_9e927c7f77b042bd90c758b8376e7430",
       "IPY_MODEL_7669c757598b4e06a83a49e242efa877",
       "IPY_MODEL_f7b21b9adf3445bca36f1c332582ea4d"
      ],
      "layout": "IPY_MODEL_4c2600a4352a4c15ab59e1519005fb93"
     }
    },
    "6c636c64e8ad47e8bb906f839f817e03": {
     "model_module": "@jupyter-widgets/controls",
     "model_module_version": "1.5.0",
     "model_name": "HTMLModel",
     "state": {
      "_dom_classes": [],
      "_model_module": "@jupyter-widgets/controls",
      "_model_module_version": "1.5.0",
      "_model_name": "HTMLModel",
      "_view_count": null,
      "_view_module": "@jupyter-widgets/controls",
      "_view_module_version": "1.5.0",
      "_view_name": "HTMLView",
      "description": "",
      "description_tooltip": null,
      "layout": "IPY_MODEL_a7c025c36a4241b89ef63ce3630344ef",
      "placeholder": "​",
      "style": "IPY_MODEL_d57d5c8adeda4d18a7ddbbed5387d1fa",
      "value": " 49/49 [00:00&lt;00:00, 418.42it/s]"
     }
    },
    "6cdde1759400456ab0298a74a3835969": {
     "model_module": "@jupyter-widgets/controls",
     "model_module_version": "1.5.0",
     "model_name": "ProgressStyleModel",
     "state": {
      "_model_module": "@jupyter-widgets/controls",
      "_model_module_version": "1.5.0",
      "_model_name": "ProgressStyleModel",
      "_view_count": null,
      "_view_module": "@jupyter-widgets/base",
      "_view_module_version": "1.2.0",
      "_view_name": "StyleView",
      "bar_color": null,
      "description_width": ""
     }
    },
    "6ebb375ba8c64ac49cb337c6c48641a9": {
     "model_module": "@jupyter-widgets/controls",
     "model_module_version": "1.5.0",
     "model_name": "HBoxModel",
     "state": {
      "_dom_classes": [],
      "_model_module": "@jupyter-widgets/controls",
      "_model_module_version": "1.5.0",
      "_model_name": "HBoxModel",
      "_view_count": null,
      "_view_module": "@jupyter-widgets/controls",
      "_view_module_version": "1.5.0",
      "_view_name": "HBoxView",
      "box_style": "",
      "children": [
       "IPY_MODEL_d9c96cd2da42469b8c86fa371cd0bc22",
       "IPY_MODEL_411363bf5415435887dd60d3f32bb662",
       "IPY_MODEL_8d96b0e8c58741e7a7748edb47b40e8f"
      ],
      "layout": "IPY_MODEL_2d493315ff624323b18642278d5793c8"
     }
    },
    "6f5d104843924a2d88b531d72228a223": {
     "model_module": "@jupyter-widgets/controls",
     "model_module_version": "1.5.0",
     "model_name": "HBoxModel",
     "state": {
      "_dom_classes": [],
      "_model_module": "@jupyter-widgets/controls",
      "_model_module_version": "1.5.0",
      "_model_name": "HBoxModel",
      "_view_count": null,
      "_view_module": "@jupyter-widgets/controls",
      "_view_module_version": "1.5.0",
      "_view_name": "HBoxView",
      "box_style": "",
      "children": [
       "IPY_MODEL_8dc7bb8cb79f41bc8aa60f0168c12104",
       "IPY_MODEL_5680656bbf8d461cb1590ba73ad2a7d2",
       "IPY_MODEL_79b8566a693a4bc9886a41c5deb565d5"
      ],
      "layout": "IPY_MODEL_e8a89b0d8d0e47bfa2c7b6dc95bbe2a3"
     }
    },
    "712f84be9504408b86d2a20b5bfe81a1": {
     "model_module": "@jupyter-widgets/controls",
     "model_module_version": "1.5.0",
     "model_name": "FloatProgressModel",
     "state": {
      "_dom_classes": [],
      "_model_module": "@jupyter-widgets/controls",
      "_model_module_version": "1.5.0",
      "_model_name": "FloatProgressModel",
      "_view_count": null,
      "_view_module": "@jupyter-widgets/controls",
      "_view_module_version": "1.5.0",
      "_view_name": "ProgressView",
      "bar_style": "success",
      "description": "",
      "description_tooltip": null,
      "layout": "IPY_MODEL_3c682a4169f54fe8a3ca396c59cb4fb1",
      "max": 2497,
      "min": 0,
      "orientation": "horizontal",
      "style": "IPY_MODEL_87e0f5edb4934055884b93fe4c01d6dd",
      "value": 2497
     }
    },
    "7246897bf45d431bb52e5d1be994f808": {
     "model_module": "@jupyter-widgets/controls",
     "model_module_version": "1.5.0",
     "model_name": "FloatProgressModel",
     "state": {
      "_dom_classes": [],
      "_model_module": "@jupyter-widgets/controls",
      "_model_module_version": "1.5.0",
      "_model_name": "FloatProgressModel",
      "_view_count": null,
      "_view_module": "@jupyter-widgets/controls",
      "_view_module_version": "1.5.0",
      "_view_name": "ProgressView",
      "bar_style": "success",
      "description": "",
      "description_tooltip": null,
      "layout": "IPY_MODEL_9ae20e25503e4e5cb4aa8a3fd2964577",
      "max": 50,
      "min": 0,
      "orientation": "horizontal",
      "style": "IPY_MODEL_c8402e8a39e54f129b6cbbe121cd8390",
      "value": 50
     }
    },
    "7669c757598b4e06a83a49e242efa877": {
     "model_module": "@jupyter-widgets/controls",
     "model_module_version": "1.5.0",
     "model_name": "FloatProgressModel",
     "state": {
      "_dom_classes": [],
      "_model_module": "@jupyter-widgets/controls",
      "_model_module_version": "1.5.0",
      "_model_name": "FloatProgressModel",
      "_view_count": null,
      "_view_module": "@jupyter-widgets/controls",
      "_view_module_version": "1.5.0",
      "_view_name": "ProgressView",
      "bar_style": "success",
      "description": "",
      "description_tooltip": null,
      "layout": "IPY_MODEL_48ed0e3ae6474528b73d3df0c2ebbbed",
      "max": 2497,
      "min": 0,
      "orientation": "horizontal",
      "style": "IPY_MODEL_94c58a354cbe4fbea1e2499fa8860092",
      "value": 2497
     }
    },
    "79b8566a693a4bc9886a41c5deb565d5": {
     "model_module": "@jupyter-widgets/controls",
     "model_module_version": "1.5.0",
     "model_name": "HTMLModel",
     "state": {
      "_dom_classes": [],
      "_model_module": "@jupyter-widgets/controls",
      "_model_module_version": "1.5.0",
      "_model_name": "HTMLModel",
      "_view_count": null,
      "_view_module": "@jupyter-widgets/controls",
      "_view_module_version": "1.5.0",
      "_view_name": "HTMLView",
      "description": "",
      "description_tooltip": null,
      "layout": "IPY_MODEL_b78cfe10e74445eaac490c870fc0c5da",
      "placeholder": "​",
      "style": "IPY_MODEL_53e0f410e1a9429f9a77497c7a7a78d6",
      "value": " 1046/1046 [00:01&lt;00:00, 713.00it/s]"
     }
    },
    "7e8b71d685a8493faa67b05d49fa291f": {
     "model_module": "@jupyter-widgets/controls",
     "model_module_version": "1.5.0",
     "model_name": "DescriptionStyleModel",
     "state": {
      "_model_module": "@jupyter-widgets/controls",
      "_model_module_version": "1.5.0",
      "_model_name": "DescriptionStyleModel",
      "_view_count": null,
      "_view_module": "@jupyter-widgets/base",
      "_view_module_version": "1.2.0",
      "_view_name": "StyleView",
      "description_width": ""
     }
    },
    "7fa55297b6e842d1a33f250bf60675b5": {
     "model_module": "@jupyter-widgets/base",
     "model_module_version": "1.2.0",
     "model_name": "LayoutModel",
     "state": {
      "_model_module": "@jupyter-widgets/base",
      "_model_module_version": "1.2.0",
      "_model_name": "LayoutModel",
      "_view_count": null,
      "_view_module": "@jupyter-widgets/base",
      "_view_module_version": "1.2.0",
      "_view_name": "LayoutView",
      "align_content": null,
      "align_items": null,
      "align_self": null,
      "border": null,
      "bottom": null,
      "display": null,
      "flex": null,
      "flex_flow": null,
      "grid_area": null,
      "grid_auto_columns": null,
      "grid_auto_flow": null,
      "grid_auto_rows": null,
      "grid_column": null,
      "grid_gap": null,
      "grid_row": null,
      "grid_template_areas": null,
      "grid_template_columns": null,
      "grid_template_rows": null,
      "height": null,
      "justify_content": null,
      "justify_items": null,
      "left": null,
      "margin": null,
      "max_height": null,
      "max_width": null,
      "min_height": null,
      "min_width": null,
      "object_fit": null,
      "object_position": null,
      "order": null,
      "overflow": null,
      "overflow_x": null,
      "overflow_y": null,
      "padding": null,
      "right": null,
      "top": null,
      "visibility": null,
      "width": null
     }
    },
    "7fc4165ea84748f48f60bb7ba3e61d2e": {
     "model_module": "@jupyter-widgets/controls",
     "model_module_version": "1.5.0",
     "model_name": "HBoxModel",
     "state": {
      "_dom_classes": [],
      "_model_module": "@jupyter-widgets/controls",
      "_model_module_version": "1.5.0",
      "_model_name": "HBoxModel",
      "_view_count": null,
      "_view_module": "@jupyter-widgets/controls",
      "_view_module_version": "1.5.0",
      "_view_name": "HBoxView",
      "box_style": "",
      "children": [
       "IPY_MODEL_31d35ee72c7c4034913f2d1af5c360c4",
       "IPY_MODEL_712f84be9504408b86d2a20b5bfe81a1",
       "IPY_MODEL_383da0551b4343578368f4b5cb5cb4ca"
      ],
      "layout": "IPY_MODEL_b972d9c22fd54b25abc32133cc5064c6"
     }
    },
    "87e0f5edb4934055884b93fe4c01d6dd": {
     "model_module": "@jupyter-widgets/controls",
     "model_module_version": "1.5.0",
     "model_name": "ProgressStyleModel",
     "state": {
      "_model_module": "@jupyter-widgets/controls",
      "_model_module_version": "1.5.0",
      "_model_name": "ProgressStyleModel",
      "_view_count": null,
      "_view_module": "@jupyter-widgets/base",
      "_view_module_version": "1.2.0",
      "_view_name": "StyleView",
      "bar_color": null,
      "description_width": ""
     }
    },
    "8d96b0e8c58741e7a7748edb47b40e8f": {
     "model_module": "@jupyter-widgets/controls",
     "model_module_version": "1.5.0",
     "model_name": "HTMLModel",
     "state": {
      "_dom_classes": [],
      "_model_module": "@jupyter-widgets/controls",
      "_model_module_version": "1.5.0",
      "_model_name": "HTMLModel",
      "_view_count": null,
      "_view_module": "@jupyter-widgets/controls",
      "_view_module_version": "1.5.0",
      "_view_name": "HTMLView",
      "description": "",
      "description_tooltip": null,
      "layout": "IPY_MODEL_ad068b927ecc426aa0850ea4d83cab44",
      "placeholder": "​",
      "style": "IPY_MODEL_62b4153923fa41ffb193d1d8a0e949f4",
      "value": " 1046/1046 [00:00&lt;00:00, 13893.22it/s]"
     }
    },
    "8dc7bb8cb79f41bc8aa60f0168c12104": {
     "model_module": "@jupyter-widgets/controls",
     "model_module_version": "1.5.0",
     "model_name": "HTMLModel",
     "state": {
      "_dom_classes": [],
      "_model_module": "@jupyter-widgets/controls",
      "_model_module_version": "1.5.0",
      "_model_name": "HTMLModel",
      "_view_count": null,
      "_view_module": "@jupyter-widgets/controls",
      "_view_module_version": "1.5.0",
      "_view_name": "HTMLView",
      "description": "",
      "description_tooltip": null,
      "layout": "IPY_MODEL_030a0823e7a14a318c33eafa00a87f43",
      "placeholder": "​",
      "style": "IPY_MODEL_d14ef0a57de048c7bc377f4a90dae495",
      "value": "100%"
     }
    },
    "94c58a354cbe4fbea1e2499fa8860092": {
     "model_module": "@jupyter-widgets/controls",
     "model_module_version": "1.5.0",
     "model_name": "ProgressStyleModel",
     "state": {
      "_model_module": "@jupyter-widgets/controls",
      "_model_module_version": "1.5.0",
      "_model_name": "ProgressStyleModel",
      "_view_count": null,
      "_view_module": "@jupyter-widgets/base",
      "_view_module_version": "1.2.0",
      "_view_name": "StyleView",
      "bar_color": null,
      "description_width": ""
     }
    },
    "958fe187048e41aaa1da614ba8f3c6e5": {
     "model_module": "@jupyter-widgets/controls",
     "model_module_version": "1.5.0",
     "model_name": "DescriptionStyleModel",
     "state": {
      "_model_module": "@jupyter-widgets/controls",
      "_model_module_version": "1.5.0",
      "_model_name": "DescriptionStyleModel",
      "_view_count": null,
      "_view_module": "@jupyter-widgets/base",
      "_view_module_version": "1.2.0",
      "_view_name": "StyleView",
      "description_width": ""
     }
    },
    "9ae20e25503e4e5cb4aa8a3fd2964577": {
     "model_module": "@jupyter-widgets/base",
     "model_module_version": "1.2.0",
     "model_name": "LayoutModel",
     "state": {
      "_model_module": "@jupyter-widgets/base",
      "_model_module_version": "1.2.0",
      "_model_name": "LayoutModel",
      "_view_count": null,
      "_view_module": "@jupyter-widgets/base",
      "_view_module_version": "1.2.0",
      "_view_name": "LayoutView",
      "align_content": null,
      "align_items": null,
      "align_self": null,
      "border": null,
      "bottom": null,
      "display": null,
      "flex": null,
      "flex_flow": null,
      "grid_area": null,
      "grid_auto_columns": null,
      "grid_auto_flow": null,
      "grid_auto_rows": null,
      "grid_column": null,
      "grid_gap": null,
      "grid_row": null,
      "grid_template_areas": null,
      "grid_template_columns": null,
      "grid_template_rows": null,
      "height": null,
      "justify_content": null,
      "justify_items": null,
      "left": null,
      "margin": null,
      "max_height": null,
      "max_width": null,
      "min_height": null,
      "min_width": null,
      "object_fit": null,
      "object_position": null,
      "order": null,
      "overflow": null,
      "overflow_x": null,
      "overflow_y": null,
      "padding": null,
      "right": null,
      "top": null,
      "visibility": null,
      "width": null
     }
    },
    "9d538371a1d942d39cc1fae257f291aa": {
     "model_module": "@jupyter-widgets/controls",
     "model_module_version": "1.5.0",
     "model_name": "HTMLModel",
     "state": {
      "_dom_classes": [],
      "_model_module": "@jupyter-widgets/controls",
      "_model_module_version": "1.5.0",
      "_model_name": "HTMLModel",
      "_view_count": null,
      "_view_module": "@jupyter-widgets/controls",
      "_view_module_version": "1.5.0",
      "_view_name": "HTMLView",
      "description": "",
      "description_tooltip": null,
      "layout": "IPY_MODEL_d420c6c27d0d44d3b38e5096c539c4ed",
      "placeholder": "​",
      "style": "IPY_MODEL_6b413b3f458c4ed2804ae237aa0c544e",
      "value": " 100/100 [00:00&lt;00:00, 568.22it/s]"
     }
    },
    "9e927c7f77b042bd90c758b8376e7430": {
     "model_module": "@jupyter-widgets/controls",
     "model_module_version": "1.5.0",
     "model_name": "HTMLModel",
     "state": {
      "_dom_classes": [],
      "_model_module": "@jupyter-widgets/controls",
      "_model_module_version": "1.5.0",
      "_model_name": "HTMLModel",
      "_view_count": null,
      "_view_module": "@jupyter-widgets/controls",
      "_view_module_version": "1.5.0",
      "_view_name": "HTMLView",
      "description": "",
      "description_tooltip": null,
      "layout": "IPY_MODEL_3efee2a4aa6c4abfbda03be9ebcf20b5",
      "placeholder": "​",
      "style": "IPY_MODEL_29fb3dc42a8e4233a3954524c0e60af9",
      "value": "100%"
     }
    },
    "9ed4e7cd4bb446ebaa39fea1e077b13e": {
     "model_module": "@jupyter-widgets/controls",
     "model_module_version": "1.5.0",
     "model_name": "HTMLModel",
     "state": {
      "_dom_classes": [],
      "_model_module": "@jupyter-widgets/controls",
      "_model_module_version": "1.5.0",
      "_model_name": "HTMLModel",
      "_view_count": null,
      "_view_module": "@jupyter-widgets/controls",
      "_view_module_version": "1.5.0",
      "_view_name": "HTMLView",
      "description": "",
      "description_tooltip": null,
      "layout": "IPY_MODEL_5b276fc3fd424730bc1ab899eabe4be3",
      "placeholder": "​",
      "style": "IPY_MODEL_958fe187048e41aaa1da614ba8f3c6e5",
      "value": "100%"
     }
    },
    "a4deebeb9f4a4d49b52395d690d854e5": {
     "model_module": "@jupyter-widgets/base",
     "model_module_version": "1.2.0",
     "model_name": "LayoutModel",
     "state": {
      "_model_module": "@jupyter-widgets/base",
      "_model_module_version": "1.2.0",
      "_model_name": "LayoutModel",
      "_view_count": null,
      "_view_module": "@jupyter-widgets/base",
      "_view_module_version": "1.2.0",
      "_view_name": "LayoutView",
      "align_content": null,
      "align_items": null,
      "align_self": null,
      "border": null,
      "bottom": null,
      "display": null,
      "flex": null,
      "flex_flow": null,
      "grid_area": null,
      "grid_auto_columns": null,
      "grid_auto_flow": null,
      "grid_auto_rows": null,
      "grid_column": null,
      "grid_gap": null,
      "grid_row": null,
      "grid_template_areas": null,
      "grid_template_columns": null,
      "grid_template_rows": null,
      "height": null,
      "justify_content": null,
      "justify_items": null,
      "left": null,
      "margin": null,
      "max_height": null,
      "max_width": null,
      "min_height": null,
      "min_width": null,
      "object_fit": null,
      "object_position": null,
      "order": null,
      "overflow": null,
      "overflow_x": null,
      "overflow_y": null,
      "padding": null,
      "right": null,
      "top": null,
      "visibility": null,
      "width": null
     }
    },
    "a7c025c36a4241b89ef63ce3630344ef": {
     "model_module": "@jupyter-widgets/base",
     "model_module_version": "1.2.0",
     "model_name": "LayoutModel",
     "state": {
      "_model_module": "@jupyter-widgets/base",
      "_model_module_version": "1.2.0",
      "_model_name": "LayoutModel",
      "_view_count": null,
      "_view_module": "@jupyter-widgets/base",
      "_view_module_version": "1.2.0",
      "_view_name": "LayoutView",
      "align_content": null,
      "align_items": null,
      "align_self": null,
      "border": null,
      "bottom": null,
      "display": null,
      "flex": null,
      "flex_flow": null,
      "grid_area": null,
      "grid_auto_columns": null,
      "grid_auto_flow": null,
      "grid_auto_rows": null,
      "grid_column": null,
      "grid_gap": null,
      "grid_row": null,
      "grid_template_areas": null,
      "grid_template_columns": null,
      "grid_template_rows": null,
      "height": null,
      "justify_content": null,
      "justify_items": null,
      "left": null,
      "margin": null,
      "max_height": null,
      "max_width": null,
      "min_height": null,
      "min_width": null,
      "object_fit": null,
      "object_position": null,
      "order": null,
      "overflow": null,
      "overflow_x": null,
      "overflow_y": null,
      "padding": null,
      "right": null,
      "top": null,
      "visibility": null,
      "width": null
     }
    },
    "a8143bbb9bc34220ad9b5b07988416b9": {
     "model_module": "@jupyter-widgets/controls",
     "model_module_version": "1.5.0",
     "model_name": "HTMLModel",
     "state": {
      "_dom_classes": [],
      "_model_module": "@jupyter-widgets/controls",
      "_model_module_version": "1.5.0",
      "_model_name": "HTMLModel",
      "_view_count": null,
      "_view_module": "@jupyter-widgets/controls",
      "_view_module_version": "1.5.0",
      "_view_name": "HTMLView",
      "description": "",
      "description_tooltip": null,
      "layout": "IPY_MODEL_ee79162b3993472da0beee924ad980ce",
      "placeholder": "​",
      "style": "IPY_MODEL_7e8b71d685a8493faa67b05d49fa291f",
      "value": "100%"
     }
    },
    "aa1015c255e54449b4531aa33559d159": {
     "model_module": "@jupyter-widgets/controls",
     "model_module_version": "1.5.0",
     "model_name": "HTMLModel",
     "state": {
      "_dom_classes": [],
      "_model_module": "@jupyter-widgets/controls",
      "_model_module_version": "1.5.0",
      "_model_name": "HTMLModel",
      "_view_count": null,
      "_view_module": "@jupyter-widgets/controls",
      "_view_module_version": "1.5.0",
      "_view_name": "HTMLView",
      "description": "",
      "description_tooltip": null,
      "layout": "IPY_MODEL_fa063435127644a1b6b30cccfe63122f",
      "placeholder": "​",
      "style": "IPY_MODEL_eb88d1ac93734ca6a3be0ac12f41674e",
      "value": " 50/50 [00:00&lt;00:00, 478.09it/s]"
     }
    },
    "ac661d726bb74498b0c6247a7c7dee38": {
     "model_module": "@jupyter-widgets/base",
     "model_module_version": "1.2.0",
     "model_name": "LayoutModel",
     "state": {
      "_model_module": "@jupyter-widgets/base",
      "_model_module_version": "1.2.0",
      "_model_name": "LayoutModel",
      "_view_count": null,
      "_view_module": "@jupyter-widgets/base",
      "_view_module_version": "1.2.0",
      "_view_name": "LayoutView",
      "align_content": null,
      "align_items": null,
      "align_self": null,
      "border": null,
      "bottom": null,
      "display": null,
      "flex": null,
      "flex_flow": null,
      "grid_area": null,
      "grid_auto_columns": null,
      "grid_auto_flow": null,
      "grid_auto_rows": null,
      "grid_column": null,
      "grid_gap": null,
      "grid_row": null,
      "grid_template_areas": null,
      "grid_template_columns": null,
      "grid_template_rows": null,
      "height": null,
      "justify_content": null,
      "justify_items": null,
      "left": null,
      "margin": null,
      "max_height": null,
      "max_width": null,
      "min_height": null,
      "min_width": null,
      "object_fit": null,
      "object_position": null,
      "order": null,
      "overflow": null,
      "overflow_x": null,
      "overflow_y": null,
      "padding": null,
      "right": null,
      "top": null,
      "visibility": null,
      "width": null
     }
    },
    "ad068b927ecc426aa0850ea4d83cab44": {
     "model_module": "@jupyter-widgets/base",
     "model_module_version": "1.2.0",
     "model_name": "LayoutModel",
     "state": {
      "_model_module": "@jupyter-widgets/base",
      "_model_module_version": "1.2.0",
      "_model_name": "LayoutModel",
      "_view_count": null,
      "_view_module": "@jupyter-widgets/base",
      "_view_module_version": "1.2.0",
      "_view_name": "LayoutView",
      "align_content": null,
      "align_items": null,
      "align_self": null,
      "border": null,
      "bottom": null,
      "display": null,
      "flex": null,
      "flex_flow": null,
      "grid_area": null,
      "grid_auto_columns": null,
      "grid_auto_flow": null,
      "grid_auto_rows": null,
      "grid_column": null,
      "grid_gap": null,
      "grid_row": null,
      "grid_template_areas": null,
      "grid_template_columns": null,
      "grid_template_rows": null,
      "height": null,
      "justify_content": null,
      "justify_items": null,
      "left": null,
      "margin": null,
      "max_height": null,
      "max_width": null,
      "min_height": null,
      "min_width": null,
      "object_fit": null,
      "object_position": null,
      "order": null,
      "overflow": null,
      "overflow_x": null,
      "overflow_y": null,
      "padding": null,
      "right": null,
      "top": null,
      "visibility": null,
      "width": null
     }
    },
    "b5180c9ddf714d9db1aa36099f80c987": {
     "model_module": "@jupyter-widgets/controls",
     "model_module_version": "1.5.0",
     "model_name": "ProgressStyleModel",
     "state": {
      "_model_module": "@jupyter-widgets/controls",
      "_model_module_version": "1.5.0",
      "_model_name": "ProgressStyleModel",
      "_view_count": null,
      "_view_module": "@jupyter-widgets/base",
      "_view_module_version": "1.2.0",
      "_view_name": "StyleView",
      "bar_color": null,
      "description_width": ""
     }
    },
    "b78cfe10e74445eaac490c870fc0c5da": {
     "model_module": "@jupyter-widgets/base",
     "model_module_version": "1.2.0",
     "model_name": "LayoutModel",
     "state": {
      "_model_module": "@jupyter-widgets/base",
      "_model_module_version": "1.2.0",
      "_model_name": "LayoutModel",
      "_view_count": null,
      "_view_module": "@jupyter-widgets/base",
      "_view_module_version": "1.2.0",
      "_view_name": "LayoutView",
      "align_content": null,
      "align_items": null,
      "align_self": null,
      "border": null,
      "bottom": null,
      "display": null,
      "flex": null,
      "flex_flow": null,
      "grid_area": null,
      "grid_auto_columns": null,
      "grid_auto_flow": null,
      "grid_auto_rows": null,
      "grid_column": null,
      "grid_gap": null,
      "grid_row": null,
      "grid_template_areas": null,
      "grid_template_columns": null,
      "grid_template_rows": null,
      "height": null,
      "justify_content": null,
      "justify_items": null,
      "left": null,
      "margin": null,
      "max_height": null,
      "max_width": null,
      "min_height": null,
      "min_width": null,
      "object_fit": null,
      "object_position": null,
      "order": null,
      "overflow": null,
      "overflow_x": null,
      "overflow_y": null,
      "padding": null,
      "right": null,
      "top": null,
      "visibility": null,
      "width": null
     }
    },
    "b972d9c22fd54b25abc32133cc5064c6": {
     "model_module": "@jupyter-widgets/base",
     "model_module_version": "1.2.0",
     "model_name": "LayoutModel",
     "state": {
      "_model_module": "@jupyter-widgets/base",
      "_model_module_version": "1.2.0",
      "_model_name": "LayoutModel",
      "_view_count": null,
      "_view_module": "@jupyter-widgets/base",
      "_view_module_version": "1.2.0",
      "_view_name": "LayoutView",
      "align_content": null,
      "align_items": null,
      "align_self": null,
      "border": null,
      "bottom": null,
      "display": null,
      "flex": null,
      "flex_flow": null,
      "grid_area": null,
      "grid_auto_columns": null,
      "grid_auto_flow": null,
      "grid_auto_rows": null,
      "grid_column": null,
      "grid_gap": null,
      "grid_row": null,
      "grid_template_areas": null,
      "grid_template_columns": null,
      "grid_template_rows": null,
      "height": null,
      "justify_content": null,
      "justify_items": null,
      "left": null,
      "margin": null,
      "max_height": null,
      "max_width": null,
      "min_height": null,
      "min_width": null,
      "object_fit": null,
      "object_position": null,
      "order": null,
      "overflow": null,
      "overflow_x": null,
      "overflow_y": null,
      "padding": null,
      "right": null,
      "top": null,
      "visibility": null,
      "width": null
     }
    },
    "c0d1a81fb88b4e1ab7450ee5148e76e2": {
     "model_module": "@jupyter-widgets/controls",
     "model_module_version": "1.5.0",
     "model_name": "DescriptionStyleModel",
     "state": {
      "_model_module": "@jupyter-widgets/controls",
      "_model_module_version": "1.5.0",
      "_model_name": "DescriptionStyleModel",
      "_view_count": null,
      "_view_module": "@jupyter-widgets/base",
      "_view_module_version": "1.2.0",
      "_view_name": "StyleView",
      "description_width": ""
     }
    },
    "c7c044f66a4f48d8860663878517ce5c": {
     "model_module": "@jupyter-widgets/controls",
     "model_module_version": "1.5.0",
     "model_name": "FloatProgressModel",
     "state": {
      "_dom_classes": [],
      "_model_module": "@jupyter-widgets/controls",
      "_model_module_version": "1.5.0",
      "_model_name": "FloatProgressModel",
      "_view_count": null,
      "_view_module": "@jupyter-widgets/controls",
      "_view_module_version": "1.5.0",
      "_view_name": "ProgressView",
      "bar_style": "success",
      "description": "",
      "description_tooltip": null,
      "layout": "IPY_MODEL_ac661d726bb74498b0c6247a7c7dee38",
      "max": 49,
      "min": 0,
      "orientation": "horizontal",
      "style": "IPY_MODEL_43664f1e3d2d4709a73647a878e7514e",
      "value": 49
     }
    },
    "c8402e8a39e54f129b6cbbe121cd8390": {
     "model_module": "@jupyter-widgets/controls",
     "model_module_version": "1.5.0",
     "model_name": "ProgressStyleModel",
     "state": {
      "_model_module": "@jupyter-widgets/controls",
      "_model_module_version": "1.5.0",
      "_model_name": "ProgressStyleModel",
      "_view_count": null,
      "_view_module": "@jupyter-widgets/base",
      "_view_module_version": "1.2.0",
      "_view_name": "StyleView",
      "bar_color": null,
      "description_width": ""
     }
    },
    "c85a730d97f54fa3a47094a859423c7e": {
     "model_module": "@jupyter-widgets/controls",
     "model_module_version": "1.5.0",
     "model_name": "FloatProgressModel",
     "state": {
      "_dom_classes": [],
      "_model_module": "@jupyter-widgets/controls",
      "_model_module_version": "1.5.0",
      "_model_name": "FloatProgressModel",
      "_view_count": null,
      "_view_module": "@jupyter-widgets/controls",
      "_view_module_version": "1.5.0",
      "_view_name": "ProgressView",
      "bar_style": "success",
      "description": "",
      "description_tooltip": null,
      "layout": "IPY_MODEL_7fa55297b6e842d1a33f250bf60675b5",
      "max": 7404,
      "min": 0,
      "orientation": "horizontal",
      "style": "IPY_MODEL_fa362e525f434c4f8168fd439a6dc055",
      "value": 7404
     }
    },
    "cbd5587a5a5b40f288f6dc253548cbd3": {
     "model_module": "@jupyter-widgets/controls",
     "model_module_version": "1.5.0",
     "model_name": "HTMLModel",
     "state": {
      "_dom_classes": [],
      "_model_module": "@jupyter-widgets/controls",
      "_model_module_version": "1.5.0",
      "_model_name": "HTMLModel",
      "_view_count": null,
      "_view_module": "@jupyter-widgets/controls",
      "_view_module_version": "1.5.0",
      "_view_name": "HTMLView",
      "description": "",
      "description_tooltip": null,
      "layout": "IPY_MODEL_0ced77e3eac449f9a69ca0879bd7fbad",
      "placeholder": "​",
      "style": "IPY_MODEL_c0d1a81fb88b4e1ab7450ee5148e76e2",
      "value": " 7404/7404 [00:00&lt;00:00, 108173.37it/s]"
     }
    },
    "cc85d84d42954213ae044420fab84641": {
     "model_module": "@jupyter-widgets/base",
     "model_module_version": "1.2.0",
     "model_name": "LayoutModel",
     "state": {
      "_model_module": "@jupyter-widgets/base",
      "_model_module_version": "1.2.0",
      "_model_name": "LayoutModel",
      "_view_count": null,
      "_view_module": "@jupyter-widgets/base",
      "_view_module_version": "1.2.0",
      "_view_name": "LayoutView",
      "align_content": null,
      "align_items": null,
      "align_self": null,
      "border": null,
      "bottom": null,
      "display": null,
      "flex": null,
      "flex_flow": null,
      "grid_area": null,
      "grid_auto_columns": null,
      "grid_auto_flow": null,
      "grid_auto_rows": null,
      "grid_column": null,
      "grid_gap": null,
      "grid_row": null,
      "grid_template_areas": null,
      "grid_template_columns": null,
      "grid_template_rows": null,
      "height": null,
      "justify_content": null,
      "justify_items": null,
      "left": null,
      "margin": null,
      "max_height": null,
      "max_width": null,
      "min_height": null,
      "min_width": null,
      "object_fit": null,
      "object_position": null,
      "order": null,
      "overflow": null,
      "overflow_x": null,
      "overflow_y": null,
      "padding": null,
      "right": null,
      "top": null,
      "visibility": null,
      "width": null
     }
    },
    "d14ef0a57de048c7bc377f4a90dae495": {
     "model_module": "@jupyter-widgets/controls",
     "model_module_version": "1.5.0",
     "model_name": "DescriptionStyleModel",
     "state": {
      "_model_module": "@jupyter-widgets/controls",
      "_model_module_version": "1.5.0",
      "_model_name": "DescriptionStyleModel",
      "_view_count": null,
      "_view_module": "@jupyter-widgets/base",
      "_view_module_version": "1.2.0",
      "_view_name": "StyleView",
      "description_width": ""
     }
    },
    "d420c6c27d0d44d3b38e5096c539c4ed": {
     "model_module": "@jupyter-widgets/base",
     "model_module_version": "1.2.0",
     "model_name": "LayoutModel",
     "state": {
      "_model_module": "@jupyter-widgets/base",
      "_model_module_version": "1.2.0",
      "_model_name": "LayoutModel",
      "_view_count": null,
      "_view_module": "@jupyter-widgets/base",
      "_view_module_version": "1.2.0",
      "_view_name": "LayoutView",
      "align_content": null,
      "align_items": null,
      "align_self": null,
      "border": null,
      "bottom": null,
      "display": null,
      "flex": null,
      "flex_flow": null,
      "grid_area": null,
      "grid_auto_columns": null,
      "grid_auto_flow": null,
      "grid_auto_rows": null,
      "grid_column": null,
      "grid_gap": null,
      "grid_row": null,
      "grid_template_areas": null,
      "grid_template_columns": null,
      "grid_template_rows": null,
      "height": null,
      "justify_content": null,
      "justify_items": null,
      "left": null,
      "margin": null,
      "max_height": null,
      "max_width": null,
      "min_height": null,
      "min_width": null,
      "object_fit": null,
      "object_position": null,
      "order": null,
      "overflow": null,
      "overflow_x": null,
      "overflow_y": null,
      "padding": null,
      "right": null,
      "top": null,
      "visibility": null,
      "width": null
     }
    },
    "d57d5c8adeda4d18a7ddbbed5387d1fa": {
     "model_module": "@jupyter-widgets/controls",
     "model_module_version": "1.5.0",
     "model_name": "DescriptionStyleModel",
     "state": {
      "_model_module": "@jupyter-widgets/controls",
      "_model_module_version": "1.5.0",
      "_model_name": "DescriptionStyleModel",
      "_view_count": null,
      "_view_module": "@jupyter-widgets/base",
      "_view_module_version": "1.2.0",
      "_view_name": "StyleView",
      "description_width": ""
     }
    },
    "d746b62e7fc04462876acc1c8914cd89": {
     "model_module": "@jupyter-widgets/base",
     "model_module_version": "1.2.0",
     "model_name": "LayoutModel",
     "state": {
      "_model_module": "@jupyter-widgets/base",
      "_model_module_version": "1.2.0",
      "_model_name": "LayoutModel",
      "_view_count": null,
      "_view_module": "@jupyter-widgets/base",
      "_view_module_version": "1.2.0",
      "_view_name": "LayoutView",
      "align_content": null,
      "align_items": null,
      "align_self": null,
      "border": null,
      "bottom": null,
      "display": null,
      "flex": null,
      "flex_flow": null,
      "grid_area": null,
      "grid_auto_columns": null,
      "grid_auto_flow": null,
      "grid_auto_rows": null,
      "grid_column": null,
      "grid_gap": null,
      "grid_row": null,
      "grid_template_areas": null,
      "grid_template_columns": null,
      "grid_template_rows": null,
      "height": null,
      "justify_content": null,
      "justify_items": null,
      "left": null,
      "margin": null,
      "max_height": null,
      "max_width": null,
      "min_height": null,
      "min_width": null,
      "object_fit": null,
      "object_position": null,
      "order": null,
      "overflow": null,
      "overflow_x": null,
      "overflow_y": null,
      "padding": null,
      "right": null,
      "top": null,
      "visibility": null,
      "width": null
     }
    },
    "d8c30477c15a449daeb40a45a4face5a": {
     "model_module": "@jupyter-widgets/controls",
     "model_module_version": "1.5.0",
     "model_name": "HTMLModel",
     "state": {
      "_dom_classes": [],
      "_model_module": "@jupyter-widgets/controls",
      "_model_module_version": "1.5.0",
      "_model_name": "HTMLModel",
      "_view_count": null,
      "_view_module": "@jupyter-widgets/controls",
      "_view_module_version": "1.5.0",
      "_view_name": "HTMLView",
      "description": "",
      "description_tooltip": null,
      "layout": "IPY_MODEL_2d0bd54b4a584a56960ae090ad14e1b5",
      "placeholder": "​",
      "style": "IPY_MODEL_1d0ba90b5607445a9d7ddde878cf4d57",
      "value": "100%"
     }
    },
    "d9c96cd2da42469b8c86fa371cd0bc22": {
     "model_module": "@jupyter-widgets/controls",
     "model_module_version": "1.5.0",
     "model_name": "HTMLModel",
     "state": {
      "_dom_classes": [],
      "_model_module": "@jupyter-widgets/controls",
      "_model_module_version": "1.5.0",
      "_model_name": "HTMLModel",
      "_view_count": null,
      "_view_module": "@jupyter-widgets/controls",
      "_view_module_version": "1.5.0",
      "_view_name": "HTMLView",
      "description": "",
      "description_tooltip": null,
      "layout": "IPY_MODEL_df00f6516aa64af5843f86f99ca9a9c7",
      "placeholder": "​",
      "style": "IPY_MODEL_fceac8a6d3db4e788f5f31e674b30710",
      "value": "100%"
     }
    },
    "ddc7a9476a3946bc8af08c449a60f089": {
     "model_module": "@jupyter-widgets/controls",
     "model_module_version": "1.5.0",
     "model_name": "HTMLModel",
     "state": {
      "_dom_classes": [],
      "_model_module": "@jupyter-widgets/controls",
      "_model_module_version": "1.5.0",
      "_model_name": "HTMLModel",
      "_view_count": null,
      "_view_module": "@jupyter-widgets/controls",
      "_view_module_version": "1.5.0",
      "_view_name": "HTMLView",
      "description": "",
      "description_tooltip": null,
      "layout": "IPY_MODEL_241ef903a24640c1bcc84ef317a2ab99",
      "placeholder": "​",
      "style": "IPY_MODEL_60321891edb24ee0b625baa34bd147d8",
      "value": "100%"
     }
    },
    "df00f6516aa64af5843f86f99ca9a9c7": {
     "model_module": "@jupyter-widgets/base",
     "model_module_version": "1.2.0",
     "model_name": "LayoutModel",
     "state": {
      "_model_module": "@jupyter-widgets/base",
      "_model_module_version": "1.2.0",
      "_model_name": "LayoutModel",
      "_view_count": null,
      "_view_module": "@jupyter-widgets/base",
      "_view_module_version": "1.2.0",
      "_view_name": "LayoutView",
      "align_content": null,
      "align_items": null,
      "align_self": null,
      "border": null,
      "bottom": null,
      "display": null,
      "flex": null,
      "flex_flow": null,
      "grid_area": null,
      "grid_auto_columns": null,
      "grid_auto_flow": null,
      "grid_auto_rows": null,
      "grid_column": null,
      "grid_gap": null,
      "grid_row": null,
      "grid_template_areas": null,
      "grid_template_columns": null,
      "grid_template_rows": null,
      "height": null,
      "justify_content": null,
      "justify_items": null,
      "left": null,
      "margin": null,
      "max_height": null,
      "max_width": null,
      "min_height": null,
      "min_width": null,
      "object_fit": null,
      "object_position": null,
      "order": null,
      "overflow": null,
      "overflow_x": null,
      "overflow_y": null,
      "padding": null,
      "right": null,
      "top": null,
      "visibility": null,
      "width": null
     }
    },
    "e19cf28905674edb9a2041b137eb5ff9": {
     "model_module": "@jupyter-widgets/base",
     "model_module_version": "1.2.0",
     "model_name": "LayoutModel",
     "state": {
      "_model_module": "@jupyter-widgets/base",
      "_model_module_version": "1.2.0",
      "_model_name": "LayoutModel",
      "_view_count": null,
      "_view_module": "@jupyter-widgets/base",
      "_view_module_version": "1.2.0",
      "_view_name": "LayoutView",
      "align_content": null,
      "align_items": null,
      "align_self": null,
      "border": null,
      "bottom": null,
      "display": null,
      "flex": null,
      "flex_flow": null,
      "grid_area": null,
      "grid_auto_columns": null,
      "grid_auto_flow": null,
      "grid_auto_rows": null,
      "grid_column": null,
      "grid_gap": null,
      "grid_row": null,
      "grid_template_areas": null,
      "grid_template_columns": null,
      "grid_template_rows": null,
      "height": null,
      "justify_content": null,
      "justify_items": null,
      "left": null,
      "margin": null,
      "max_height": null,
      "max_width": null,
      "min_height": null,
      "min_width": null,
      "object_fit": null,
      "object_position": null,
      "order": null,
      "overflow": null,
      "overflow_x": null,
      "overflow_y": null,
      "padding": null,
      "right": null,
      "top": null,
      "visibility": null,
      "width": null
     }
    },
    "e2c47c2f82be4619a77718f8eb9acbef": {
     "model_module": "@jupyter-widgets/base",
     "model_module_version": "1.2.0",
     "model_name": "LayoutModel",
     "state": {
      "_model_module": "@jupyter-widgets/base",
      "_model_module_version": "1.2.0",
      "_model_name": "LayoutModel",
      "_view_count": null,
      "_view_module": "@jupyter-widgets/base",
      "_view_module_version": "1.2.0",
      "_view_name": "LayoutView",
      "align_content": null,
      "align_items": null,
      "align_self": null,
      "border": null,
      "bottom": null,
      "display": null,
      "flex": null,
      "flex_flow": null,
      "grid_area": null,
      "grid_auto_columns": null,
      "grid_auto_flow": null,
      "grid_auto_rows": null,
      "grid_column": null,
      "grid_gap": null,
      "grid_row": null,
      "grid_template_areas": null,
      "grid_template_columns": null,
      "grid_template_rows": null,
      "height": null,
      "justify_content": null,
      "justify_items": null,
      "left": null,
      "margin": null,
      "max_height": null,
      "max_width": null,
      "min_height": null,
      "min_width": null,
      "object_fit": null,
      "object_position": null,
      "order": null,
      "overflow": null,
      "overflow_x": null,
      "overflow_y": null,
      "padding": null,
      "right": null,
      "top": null,
      "visibility": null,
      "width": null
     }
    },
    "e8a89b0d8d0e47bfa2c7b6dc95bbe2a3": {
     "model_module": "@jupyter-widgets/base",
     "model_module_version": "1.2.0",
     "model_name": "LayoutModel",
     "state": {
      "_model_module": "@jupyter-widgets/base",
      "_model_module_version": "1.2.0",
      "_model_name": "LayoutModel",
      "_view_count": null,
      "_view_module": "@jupyter-widgets/base",
      "_view_module_version": "1.2.0",
      "_view_name": "LayoutView",
      "align_content": null,
      "align_items": null,
      "align_self": null,
      "border": null,
      "bottom": null,
      "display": null,
      "flex": null,
      "flex_flow": null,
      "grid_area": null,
      "grid_auto_columns": null,
      "grid_auto_flow": null,
      "grid_auto_rows": null,
      "grid_column": null,
      "grid_gap": null,
      "grid_row": null,
      "grid_template_areas": null,
      "grid_template_columns": null,
      "grid_template_rows": null,
      "height": null,
      "justify_content": null,
      "justify_items": null,
      "left": null,
      "margin": null,
      "max_height": null,
      "max_width": null,
      "min_height": null,
      "min_width": null,
      "object_fit": null,
      "object_position": null,
      "order": null,
      "overflow": null,
      "overflow_x": null,
      "overflow_y": null,
      "padding": null,
      "right": null,
      "top": null,
      "visibility": null,
      "width": null
     }
    },
    "e9699be6e167416eb7060b41bbfa7fc5": {
     "model_module": "@jupyter-widgets/controls",
     "model_module_version": "1.5.0",
     "model_name": "FloatProgressModel",
     "state": {
      "_dom_classes": [],
      "_model_module": "@jupyter-widgets/controls",
      "_model_module_version": "1.5.0",
      "_model_name": "FloatProgressModel",
      "_view_count": null,
      "_view_module": "@jupyter-widgets/controls",
      "_view_module_version": "1.5.0",
      "_view_name": "ProgressView",
      "bar_style": "success",
      "description": "",
      "description_tooltip": null,
      "layout": "IPY_MODEL_0992832dee264ef4bcf064a996d5c84c",
      "max": 100,
      "min": 0,
      "orientation": "horizontal",
      "style": "IPY_MODEL_09a70c0cce2a490d87c4980526ad5b1b",
      "value": 100
     }
    },
    "eb88d1ac93734ca6a3be0ac12f41674e": {
     "model_module": "@jupyter-widgets/controls",
     "model_module_version": "1.5.0",
     "model_name": "DescriptionStyleModel",
     "state": {
      "_model_module": "@jupyter-widgets/controls",
      "_model_module_version": "1.5.0",
      "_model_name": "DescriptionStyleModel",
      "_view_count": null,
      "_view_module": "@jupyter-widgets/base",
      "_view_module_version": "1.2.0",
      "_view_name": "StyleView",
      "description_width": ""
     }
    },
    "ee79162b3993472da0beee924ad980ce": {
     "model_module": "@jupyter-widgets/base",
     "model_module_version": "1.2.0",
     "model_name": "LayoutModel",
     "state": {
      "_model_module": "@jupyter-widgets/base",
      "_model_module_version": "1.2.0",
      "_model_name": "LayoutModel",
      "_view_count": null,
      "_view_module": "@jupyter-widgets/base",
      "_view_module_version": "1.2.0",
      "_view_name": "LayoutView",
      "align_content": null,
      "align_items": null,
      "align_self": null,
      "border": null,
      "bottom": null,
      "display": null,
      "flex": null,
      "flex_flow": null,
      "grid_area": null,
      "grid_auto_columns": null,
      "grid_auto_flow": null,
      "grid_auto_rows": null,
      "grid_column": null,
      "grid_gap": null,
      "grid_row": null,
      "grid_template_areas": null,
      "grid_template_columns": null,
      "grid_template_rows": null,
      "height": null,
      "justify_content": null,
      "justify_items": null,
      "left": null,
      "margin": null,
      "max_height": null,
      "max_width": null,
      "min_height": null,
      "min_width": null,
      "object_fit": null,
      "object_position": null,
      "order": null,
      "overflow": null,
      "overflow_x": null,
      "overflow_y": null,
      "padding": null,
      "right": null,
      "top": null,
      "visibility": null,
      "width": null
     }
    },
    "f7b21b9adf3445bca36f1c332582ea4d": {
     "model_module": "@jupyter-widgets/controls",
     "model_module_version": "1.5.0",
     "model_name": "HTMLModel",
     "state": {
      "_dom_classes": [],
      "_model_module": "@jupyter-widgets/controls",
      "_model_module_version": "1.5.0",
      "_model_name": "HTMLModel",
      "_view_count": null,
      "_view_module": "@jupyter-widgets/controls",
      "_view_module_version": "1.5.0",
      "_view_name": "HTMLView",
      "description": "",
      "description_tooltip": null,
      "layout": "IPY_MODEL_0c3b25d7596e4ea29e9b6eb45e9ba2ab",
      "placeholder": "​",
      "style": "IPY_MODEL_1a4d093d544544fd99ab475836add532",
      "value": " 2497/2497 [00:03&lt;00:00, 746.24it/s]"
     }
    },
    "f7c66f4ae2fd4c8891148109f4130458": {
     "model_module": "@jupyter-widgets/base",
     "model_module_version": "1.2.0",
     "model_name": "LayoutModel",
     "state": {
      "_model_module": "@jupyter-widgets/base",
      "_model_module_version": "1.2.0",
      "_model_name": "LayoutModel",
      "_view_count": null,
      "_view_module": "@jupyter-widgets/base",
      "_view_module_version": "1.2.0",
      "_view_name": "LayoutView",
      "align_content": null,
      "align_items": null,
      "align_self": null,
      "border": null,
      "bottom": null,
      "display": null,
      "flex": null,
      "flex_flow": null,
      "grid_area": null,
      "grid_auto_columns": null,
      "grid_auto_flow": null,
      "grid_auto_rows": null,
      "grid_column": null,
      "grid_gap": null,
      "grid_row": null,
      "grid_template_areas": null,
      "grid_template_columns": null,
      "grid_template_rows": null,
      "height": null,
      "justify_content": null,
      "justify_items": null,
      "left": null,
      "margin": null,
      "max_height": null,
      "max_width": null,
      "min_height": null,
      "min_width": null,
      "object_fit": null,
      "object_position": null,
      "order": null,
      "overflow": null,
      "overflow_x": null,
      "overflow_y": null,
      "padding": null,
      "right": null,
      "top": null,
      "visibility": null,
      "width": null
     }
    },
    "f8cba075c9b84c85a0083c117b3ca8cb": {
     "model_module": "@jupyter-widgets/base",
     "model_module_version": "1.2.0",
     "model_name": "LayoutModel",
     "state": {
      "_model_module": "@jupyter-widgets/base",
      "_model_module_version": "1.2.0",
      "_model_name": "LayoutModel",
      "_view_count": null,
      "_view_module": "@jupyter-widgets/base",
      "_view_module_version": "1.2.0",
      "_view_name": "LayoutView",
      "align_content": null,
      "align_items": null,
      "align_self": null,
      "border": null,
      "bottom": null,
      "display": null,
      "flex": null,
      "flex_flow": null,
      "grid_area": null,
      "grid_auto_columns": null,
      "grid_auto_flow": null,
      "grid_auto_rows": null,
      "grid_column": null,
      "grid_gap": null,
      "grid_row": null,
      "grid_template_areas": null,
      "grid_template_columns": null,
      "grid_template_rows": null,
      "height": null,
      "justify_content": null,
      "justify_items": null,
      "left": null,
      "margin": null,
      "max_height": null,
      "max_width": null,
      "min_height": null,
      "min_width": null,
      "object_fit": null,
      "object_position": null,
      "order": null,
      "overflow": null,
      "overflow_x": null,
      "overflow_y": null,
      "padding": null,
      "right": null,
      "top": null,
      "visibility": null,
      "width": null
     }
    },
    "fa063435127644a1b6b30cccfe63122f": {
     "model_module": "@jupyter-widgets/base",
     "model_module_version": "1.2.0",
     "model_name": "LayoutModel",
     "state": {
      "_model_module": "@jupyter-widgets/base",
      "_model_module_version": "1.2.0",
      "_model_name": "LayoutModel",
      "_view_count": null,
      "_view_module": "@jupyter-widgets/base",
      "_view_module_version": "1.2.0",
      "_view_name": "LayoutView",
      "align_content": null,
      "align_items": null,
      "align_self": null,
      "border": null,
      "bottom": null,
      "display": null,
      "flex": null,
      "flex_flow": null,
      "grid_area": null,
      "grid_auto_columns": null,
      "grid_auto_flow": null,
      "grid_auto_rows": null,
      "grid_column": null,
      "grid_gap": null,
      "grid_row": null,
      "grid_template_areas": null,
      "grid_template_columns": null,
      "grid_template_rows": null,
      "height": null,
      "justify_content": null,
      "justify_items": null,
      "left": null,
      "margin": null,
      "max_height": null,
      "max_width": null,
      "min_height": null,
      "min_width": null,
      "object_fit": null,
      "object_position": null,
      "order": null,
      "overflow": null,
      "overflow_x": null,
      "overflow_y": null,
      "padding": null,
      "right": null,
      "top": null,
      "visibility": null,
      "width": null
     }
    },
    "fa362e525f434c4f8168fd439a6dc055": {
     "model_module": "@jupyter-widgets/controls",
     "model_module_version": "1.5.0",
     "model_name": "ProgressStyleModel",
     "state": {
      "_model_module": "@jupyter-widgets/controls",
      "_model_module_version": "1.5.0",
      "_model_name": "ProgressStyleModel",
      "_view_count": null,
      "_view_module": "@jupyter-widgets/base",
      "_view_module_version": "1.2.0",
      "_view_name": "StyleView",
      "bar_color": null,
      "description_width": ""
     }
    },
    "fceac8a6d3db4e788f5f31e674b30710": {
     "model_module": "@jupyter-widgets/controls",
     "model_module_version": "1.5.0",
     "model_name": "DescriptionStyleModel",
     "state": {
      "_model_module": "@jupyter-widgets/controls",
      "_model_module_version": "1.5.0",
      "_model_name": "DescriptionStyleModel",
      "_view_count": null,
      "_view_module": "@jupyter-widgets/base",
      "_view_module_version": "1.2.0",
      "_view_name": "StyleView",
      "description_width": ""
     }
    }
   }
  }
 },
 "nbformat": 4,
 "nbformat_minor": 1
}
